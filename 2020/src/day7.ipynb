{
 "cells": [
  {
   "cell_type": "code",
   "execution_count": 124,
   "metadata": {},
   "outputs": [],
   "source": [
    "# %matplotlib widget\n",
    "\n",
    "from __future__ import annotations\n",
    "\n",
    "import re\n",
    "from collections import defaultdict\n",
    "from dataclasses import dataclass, field\n",
    "from itertools import permutations, product\n",
    "from math import inf\n",
    "from random import choice\n",
    "\n",
    "import matplotlib.colors as mcolors\n",
    "import matplotlib.pyplot as plt\n",
    "import networkx as nx\n",
    "import numpy as np\n",
    "import numpy.typing as npt\n",
    "from mpl_toolkits.mplot3d import axes3d\n",
    "from numpy import int_, object_\n",
    "from numpy.typing import NDArray\n",
    "from test_utilities import run_tests_params\n",
    "from util import print_hex\n",
    "\n",
    "COLORS = list(mcolors.CSS4_COLORS.keys())"
   ]
  },
  {
   "cell_type": "markdown",
   "metadata": {},
   "source": [
    "<link href=\"style.css\" rel=\"stylesheet\"></link>\n",
    "<article class=\"day-desc read-aloud\"><h2>--- Day 7: Handy Haversacks ---</h2><p>You land at the regional airport in time for your next flight. In fact, it looks like you'll even have time to grab some food: all flights are currently delayed due to <em>issues in luggage processing</em>.</p>\n",
    "<p>Due to recent aviation regulations, many rules (your puzzle input) are being enforced about bags and their contents; bags must be color-coded and must contain specific quantities of other color-coded bags. Apparently, nobody responsible for these regulations considered how long they would take to enforce!</p>\n",
    "<p>For example, consider the following rules:</p>\n",
    "<pre><code>light red bags contain 1 bright white bag, 2 muted yellow bags.\n",
    "dark orange bags contain 3 bright white bags, 4 muted yellow bags.\n",
    "bright white bags contain 1 shiny gold bag.\n",
    "muted yellow bags contain 2 shiny gold bags, 9 faded blue bags.\n",
    "shiny gold bags contain 1 dark olive bag, 2 vibrant plum bags.\n",
    "dark olive bags contain 3 faded blue bags, 4 dotted black bags.\n",
    "vibrant plum bags contain 5 faded blue bags, 6 dotted black bags.\n",
    "faded blue bags contain no other bags.\n",
    "dotted black bags contain no other bags.\n",
    "</code></pre>\n",
    "<p>These rules specify the required contents for 9 bag types. In this example, every <code>faded blue</code> bag is empty, every <code>vibrant plum</code> bag contains 11 bags (5 <code>faded blue</code> and 6 <code>dotted black</code>), and so on.</p>\n",
    "<p>You have a <code><em>shiny gold</em></code> bag. If you wanted to carry it in at least one other bag, how many different bag colors would be valid for the outermost bag? (In other words: how many colors can, eventually, contain at least one <code>shiny gold</code> bag?)</p>\n",
    "<p>In the above rules, the following options would be available to you:</p>\n",
    "<ul>\n",
    "<li>A <code>bright white</code> bag, which can hold your <code>shiny gold</code> bag directly.</li>\n",
    "<li>A <code>muted yellow</code> bag, which can hold your <code>shiny gold</code> bag directly, plus some other bags.</li>\n",
    "<li>A <code>dark orange</code> bag, which can hold <code>bright white</code> and <code>muted yellow</code> bags, either of which could then hold your <code>shiny gold</code> bag.</li>\n",
    "<li>A <code>light red</code> bag, which can hold <code>bright white</code> and <code>muted yellow</code> bags, either of which could then hold your <code>shiny gold</code> bag.</li>\n",
    "</ul>\n",
    "<p>So, in this example, the number of bag colors that can eventually contain at least one <code>shiny gold</code> bag is <code><em>4</em></code>.</p>\n",
    "<p><em>How many bag colors can eventually contain at least one <code>shiny gold</code> bag?</em> (The list of rules is quite long; make sure you get all of it.)</p>\n",
    "</article>\n"
   ]
  },
  {
   "cell_type": "code",
   "execution_count": 125,
   "metadata": {},
   "outputs": [],
   "source": [
    "example = \"\"\"\n",
    "light red bags contain 1 bright white bag, 2 muted yellow bags.\n",
    "dark orange bags contain 3 bright white bags, 4 muted yellow bags.\n",
    "bright white bags contain 1 shiny gold bag.\n",
    "muted yellow bags contain 2 shiny gold bags, 9 faded blue bags.\n",
    "shiny gold bags contain 1 dark olive bag, 2 vibrant plum bags.\n",
    "dark olive bags contain 3 faded blue bags, 4 dotted black bags.\n",
    "vibrant plum bags contain 5 faded blue bags, 6 dotted black bags.\n",
    "faded blue bags contain no other bags.\n",
    "dotted black bags contain no other bags.\n",
    "\"\"\"\n",
    "\n",
    "\n",
    "def parse_1(s):\n",
    "    contained_by = defaultdict(set)\n",
    "\n",
    "    for l in s.strip().splitlines():\n",
    "        containing_bag, content = re.split(r\"\\s+bags\\s+contain\\s+\", l)\n",
    "\n",
    "        for contained in re.split(r\",\\s+\", content):\n",
    "            contained = re.sub(r\"\\s+bag(s?)\\.?\", \"\", contained)\n",
    "            match = re.search(r\"\\d+\", contained)\n",
    "\n",
    "            if match:\n",
    "                contained_bag = contained[match.end() + 1 :]\n",
    "                contained_by[contained_bag].add(containing_bag)\n",
    "    return contained_by\n",
    "\n",
    "\n",
    "def how_many_bag_colors_can_eventually_contain_at_least_one_shiny_gold_bag(\n",
    "    s: str,\n",
    ") -> int:\n",
    "    def dfs(bag):\n",
    "        if bag in color_seen:\n",
    "            return 0\n",
    "\n",
    "        color_seen.add(bag)\n",
    "        return sum((dfs(c) for c in contained_by.get(bag, [])), start=1)\n",
    "\n",
    "    contained_by = parse_1(s)\n",
    "    color_seen = set()\n",
    "\n",
    "    return dfs(\"shiny gold\") - 1\n",
    "\n",
    "\n",
    "assert (\n",
    "    how_many_bag_colors_can_eventually_contain_at_least_one_shiny_gold_bag(example) == 4\n",
    ")"
   ]
  },
  {
   "cell_type": "code",
   "execution_count": 126,
   "metadata": {},
   "outputs": [
    {
     "name": "stdout",
     "output_type": "stream",
     "text": [
      "Part I: 235\n"
     ]
    }
   ],
   "source": [
    "with open(\"../input/day7.txt\") as f:\n",
    "    puzzle = f.read()\n",
    "\n",
    "print(\n",
    "    f\"Part I: {how_many_bag_colors_can_eventually_contain_at_least_one_shiny_gold_bag(puzzle)}\"\n",
    ")"
   ]
  },
  {
   "cell_type": "markdown",
   "metadata": {},
   "source": [
    "<link href=\"style.css\" rel=\"stylesheet\"></link>\n",
    "<main>\n",
    "\n",
    "<p>Your puzzle answer was <code>235</code>.</p><p class=\"day-success\">The first half of this puzzle is complete! It provides one gold star: *</p>\n",
    "<article class=\"day-desc\"><h2 id=\"part2\">--- Part Two ---</h2><p>It's getting pretty expensive to fly these days - not because of ticket prices, but because of the ridiculous number of bags you need to buy!</p>\n",
    "<p>Consider again your <code>shiny gold</code> bag and the rules from the above example:</p>\n",
    "<ul>\n",
    "<li><code>faded blue</code> bags contain <code>0</code> other bags.</li>\n",
    "<li><code>dotted black</code> bags contain <code>0</code> other bags.</li>\n",
    "<li><code>vibrant plum</code> bags contain <code>11</code> other bags: 5 <code>faded blue</code> bags and 6 <code>dotted black</code> bags.</li>\n",
    "<li><code>dark olive</code> bags contain <code>7</code> other bags: 3 <code>faded blue</code> bags and 4 <code>dotted black</code> bags.</li>\n",
    "</ul>\n",
    "<p>So, a single <code>shiny gold</code> bag must contain 1 <code>dark olive</code> bag (and the 7 bags within it) plus 2 <code>vibrant plum</code> bags (and the 11 bags within <em>each</em> of those): <code>1 + 1*7 + 2 + 2*11</code> = <code><em>32</em></code> bags!</p>\n",
    "<p>Of course, the actual rules have a <span title=\"100%\">small</span> chance of going several levels deeper than this example; be sure to count all of the bags, even if the nesting becomes topologically impractical!</p>\n",
    "<p>Here's another example:</p>\n",
    "<pre><code>shiny gold bags contain 2 dark red bags.\n",
    "dark red bags contain 2 dark orange bags.\n",
    "dark orange bags contain 2 dark yellow bags.\n",
    "dark yellow bags contain 2 dark green bags.\n",
    "dark green bags contain 2 dark blue bags.\n",
    "dark blue bags contain 2 dark violet bags.\n",
    "dark violet bags contain no other bags.\n",
    "</code></pre>\n",
    "<p>In this example, a single <code>shiny gold</code> bag must contain <code><em>126</em></code> other bags.</p>\n",
    "<p><em>How many individual bags are required inside your single <code>shiny gold</code> bag?</em></p>\n",
    "</article>\n",
    "\n",
    "</main>\n"
   ]
  },
  {
   "cell_type": "code",
   "execution_count": 127,
   "metadata": {},
   "outputs": [],
   "source": [
    "example_2 = \"\"\"\n",
    "shiny gold bags contain 2 dark red bags.\n",
    "dark red bags contain 2 dark orange bags.\n",
    "dark orange bags contain 2 dark yellow bags.\n",
    "dark yellow bags contain 2 dark green bags.\n",
    "dark green bags contain 2 dark blue bags.\n",
    "dark blue bags contain 2 dark violet bags.\n",
    "dark violet bags contain no other bags.\n",
    "\"\"\"\n",
    "\n",
    "\n",
    "def parse_2(s) -> dict[str, dict[str, int]]:\n",
    "    contains = {}\n",
    "\n",
    "    for l in s.strip().splitlines():\n",
    "        containing_bag, content = re.split(r\"\\s+bags\\s+contain\\s+\", l)\n",
    "        contains[containing_bag] = {}\n",
    "\n",
    "        for contained in re.split(r\",\\s+\", content):\n",
    "            contained = re.sub(r\"\\s+bag(s?)\\.?\", \"\", contained)\n",
    "            match = re.search(r\"\\d+\", contained)\n",
    "\n",
    "            if match:\n",
    "                n = int(contained[: match.end()])\n",
    "                contained_bag = contained[match.end() + 1 :]\n",
    "                contains[containing_bag][contained_bag] = n\n",
    "\n",
    "    return contains\n",
    "\n",
    "\n",
    "def count_bags_in_shiny_gold_bag(s: str) -> int:\n",
    "    def dfs(bag):\n",
    "        count = 0\n",
    "        for b in contains.get(bag, []):\n",
    "            count += contains[bag][b] * (1 + dfs(b))\n",
    "        return count\n",
    "\n",
    "    contains = parse_2(s)\n",
    "    return dfs(\"shiny gold\")\n",
    "\n",
    "\n",
    "assert count_bags_in_shiny_gold_bag(example) == 32\n",
    "assert count_bags_in_shiny_gold_bag(example_2) == 126"
   ]
  },
  {
   "cell_type": "code",
   "execution_count": 128,
   "metadata": {},
   "outputs": [
    {
     "name": "stdout",
     "output_type": "stream",
     "text": [
      "Part II: 158493\n"
     ]
    }
   ],
   "source": [
    "print(f\"Part II: {count_bags_in_shiny_gold_bag(puzzle)}\")"
   ]
  },
  {
   "cell_type": "markdown",
   "metadata": {},
   "source": [
    "<link href=\"style.css\" rel=\"stylesheet\"></link>\n",
    "<main>\n",
    "\n",
    "<p>Your puzzle answer was <code>158493</code>.</p><p class=\"day-success\">Both parts of this puzzle are complete! They provide two gold stars: **</p>\n",
    "\n",
    "</main>\n"
   ]
  },
  {
   "cell_type": "code",
   "execution_count": null,
   "metadata": {},
   "outputs": [],
   "source": []
  }
 ],
 "metadata": {
  "kernelspec": {
   "display_name": ".venv",
   "language": "python",
   "name": "python3"
  },
  "language_info": {
   "codemirror_mode": {
    "name": "ipython",
    "version": 3
   },
   "file_extension": ".py",
   "mimetype": "text/x-python",
   "name": "python",
   "nbconvert_exporter": "python",
   "pygments_lexer": "ipython3",
   "version": "3.12.0"
  }
 },
 "nbformat": 4,
 "nbformat_minor": 2
}
