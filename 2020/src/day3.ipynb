{
 "cells": [
  {
   "cell_type": "code",
   "execution_count": 27,
   "metadata": {},
   "outputs": [],
   "source": [
    "# %matplotlib widget\n",
    "\n",
    "from __future__ import annotations\n",
    "\n",
    "import re\n",
    "from collections import defaultdict\n",
    "from dataclasses import dataclass, field\n",
    "from itertools import permutations, product\n",
    "from math import inf\n",
    "from random import choice\n",
    "\n",
    "import matplotlib.colors as mcolors\n",
    "import matplotlib.pyplot as plt\n",
    "import networkx as nx\n",
    "import numpy as np\n",
    "import numpy.typing as npt\n",
    "from mpl_toolkits.mplot3d import axes3d\n",
    "from numpy import int_, object_\n",
    "from numpy.typing import NDArray\n",
    "from test_utilities import run_tests_params\n",
    "from util import print_hex\n",
    "\n",
    "COLORS = list(mcolors.CSS4_COLORS.keys())"
   ]
  },
  {
   "cell_type": "markdown",
   "metadata": {},
   "source": [
    "<link href=\"style.css\" rel=\"stylesheet\"></link>\n"
   ]
  },
  {
   "cell_type": "code",
   "execution_count": 28,
   "metadata": {},
   "outputs": [
    {
     "name": "stdout",
     "output_type": "stream",
     "text": [
      "\n",
      "\u001b[32mTest Example 1 passed, for fuell.\u001b[0m\n",
      "\u001b[32mTest Example 2 passed, for fuell.\u001b[0m\n",
      "\u001b[32mTest Example 3 passed, for fuell.\u001b[0m\n",
      "\u001b[32mTest Example 4 passed, for fuell.\u001b[0m\n",
      "\u001b[32mSuccess\u001b[0m\n",
      "\n",
      "Example: 34241 should be 34241\n"
     ]
    }
   ],
   "source": [
    "tests = [\n",
    "    {\n",
    "        \"name\": \"Example 1\",\n",
    "        \"mass\": 12,\n",
    "        \"expected\": 2,\n",
    "    },\n",
    "    {\n",
    "        \"name\": \"Example 2\",\n",
    "        \"mass\": 14,\n",
    "        \"expected\": 2,\n",
    "    },\n",
    "    {\n",
    "        \"name\": \"Example 3\",\n",
    "        \"mass\": 1969,\n",
    "        \"expected\": 654,\n",
    "    },\n",
    "    {\n",
    "        \"name\": \"Example 4\",\n",
    "        \"mass\": 100756,\n",
    "        \"expected\": 33583,\n",
    "    },\n",
    "]\n",
    "\n",
    "\n",
    "def fuell(mass: int) -> int:\n",
    "    \"\"\"\n",
    "    Fuel required to launch a given module is based on its mass.\n",
    "    Specifically, to find the fuel required for a module, take its mass,\n",
    "    divide by three, round down, and subtract 2.\n",
    "    \"\"\"\n",
    "    return mass // 3 - 2\n",
    "\n",
    "\n",
    "run_tests_params(fuell, tests)\n",
    "\n",
    "example = \"\"\"\n",
    "12\n",
    "14\n",
    "1969\n",
    "100756\n",
    "\"\"\"\n",
    "\n",
    "\n",
    "def sum_fuell(s: str) -> int:\n",
    "    return sum(fuell(int(l.strip())) for l in s.strip().splitlines())\n",
    "\n",
    "\n",
    "print()\n",
    "print(f\"Example: {sum_fuell(example)} should be {2 + 2 + 654 + 33583}\")"
   ]
  },
  {
   "cell_type": "code",
   "execution_count": 29,
   "metadata": {},
   "outputs": [
    {
     "name": "stdout",
     "output_type": "stream",
     "text": [
      "Part I: 3270338\n"
     ]
    }
   ],
   "source": [
    "with open(\"../input/day1.txt\") as f:\n",
    "    puzzle = f.read()\n",
    "\n",
    "print(f\"Part I: {sum_fuell(puzzle)}\")"
   ]
  },
  {
   "cell_type": "markdown",
   "metadata": {},
   "source": [
    "<link href=\"style.css\" rel=\"stylesheet\"></link>\n",
    "\n",
    "</main>\n"
   ]
  },
  {
   "cell_type": "code",
   "execution_count": 30,
   "metadata": {},
   "outputs": [
    {
     "name": "stdout",
     "output_type": "stream",
     "text": [
      "\n",
      "\u001b[32mTest Example 1 passed, for fuell_total.\u001b[0m\n",
      "\u001b[32mTest Example 2 passed, for fuell_total.\u001b[0m\n",
      "\u001b[32mTest Example 3 passed, for fuell_total.\u001b[0m\n",
      "\u001b[32mTest Example 4 passed, for fuell_total.\u001b[0m\n",
      "\u001b[32mSuccess\u001b[0m\n",
      "\n",
      "Example: 51316 should be 51316\n"
     ]
    }
   ],
   "source": [
    "tests = [\n",
    "    {\n",
    "        \"name\": \"Example 1\",\n",
    "        \"mass\": 12,\n",
    "        \"expected\": 2,\n",
    "    },\n",
    "    {\n",
    "        \"name\": \"Example 2\",\n",
    "        \"mass\": 14,\n",
    "        \"expected\": 2,\n",
    "    },\n",
    "    {\n",
    "        \"name\": \"Example 3\",\n",
    "        \"mass\": 1969,\n",
    "        \"expected\": 966,\n",
    "    },\n",
    "    {\n",
    "        \"name\": \"Example 4\",\n",
    "        \"mass\": 100756,\n",
    "        \"expected\": 50346,\n",
    "    },\n",
    "]\n",
    "\n",
    "\n",
    "def fuell_total(mass: int) -> int:\n",
    "    total_fuell = 0\n",
    "    mass = fuell(mass)\n",
    "\n",
    "    while mass > 0:\n",
    "        total_fuell += mass\n",
    "        mass = fuell(mass)\n",
    "\n",
    "    return total_fuell\n",
    "\n",
    "\n",
    "run_tests_params(fuell_total, tests)\n",
    "\n",
    "example = \"\"\"\n",
    "12\n",
    "14\n",
    "1969\n",
    "100756\n",
    "\"\"\"\n",
    "\n",
    "\n",
    "def sum_total_fuell(s: str) -> int:\n",
    "    return sum(fuell_total(int(l.strip())) for l in s.strip().splitlines())\n",
    "\n",
    "\n",
    "print()\n",
    "print(f\"Example: {sum_total_fuell(example)} should be {2 + 2 + 966 + 50346}\")"
   ]
  },
  {
   "cell_type": "code",
   "execution_count": 31,
   "metadata": {},
   "outputs": [
    {
     "name": "stdout",
     "output_type": "stream",
     "text": [
      "Part II: 4902650\n"
     ]
    }
   ],
   "source": [
    "print(f\"Part II: {sum_total_fuell(puzzle)}\")"
   ]
  },
  {
   "cell_type": "markdown",
   "metadata": {},
   "source": [
    "<link href=\"style.css\" rel=\"stylesheet\"></link>\n",
    "<main>\n",
    "\n",
    "<p>Your puzzle answer was <code>4902650</code>.</p><p class=\"day-success\">Both parts of this puzzle are complete! They provide two gold stars: **</p>\n",
    "\n",
    "</main>\n"
   ]
  },
  {
   "cell_type": "code",
   "execution_count": null,
   "metadata": {},
   "outputs": [],
   "source": []
  },
  {
   "cell_type": "code",
   "execution_count": null,
   "metadata": {},
   "outputs": [],
   "source": []
  }
 ],
 "metadata": {
  "kernelspec": {
   "display_name": ".venv",
   "language": "python",
   "name": "python3"
  },
  "language_info": {
   "codemirror_mode": {
    "name": "ipython",
    "version": 3
   },
   "file_extension": ".py",
   "mimetype": "text/x-python",
   "name": "python",
   "nbconvert_exporter": "python",
   "pygments_lexer": "ipython3",
   "version": "3.12.0"
  }
 },
 "nbformat": 4,
 "nbformat_minor": 2
}
