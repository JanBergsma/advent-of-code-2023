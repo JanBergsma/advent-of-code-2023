{
 "cells": [
  {
   "cell_type": "code",
   "execution_count": 24,
   "metadata": {},
   "outputs": [],
   "source": [
    "# %matplotlib widget\n",
    "\n",
    "from __future__ import annotations\n",
    "\n",
    "import re\n",
    "from collections import defaultdict\n",
    "from dataclasses import dataclass, field\n",
    "from itertools import permutations, product\n",
    "from math import inf\n",
    "from random import choice\n",
    "\n",
    "import matplotlib.colors as mcolors\n",
    "import matplotlib.pyplot as plt\n",
    "import networkx as nx\n",
    "import numpy as np\n",
    "import numpy.typing as npt\n",
    "from mpl_toolkits.mplot3d import axes3d\n",
    "from numpy import int_, object_\n",
    "from numpy.typing import NDArray\n",
    "from test_utilities import run_tests_params\n",
    "from util import print_hex\n",
    "\n",
    "COLORS = list(mcolors.CSS4_COLORS.keys())"
   ]
  },
  {
   "cell_type": "markdown",
   "metadata": {},
   "source": [
    "<link href=\"style.css\" rel=\"stylesheet\"></link>\n",
    "<article class=\"day-desc read-aloud\"><h2>--- Day 3: Toboggan Trajectory ---</h2><p>With the toboggan login problems resolved, you set off toward the airport. While travel by toboggan might be easy, it's certainly not safe: there's <span title=\"It looks like the toboggan steering system even runs on Intcode! Good thing you don't have to modify it.\">very minimal steering</span> and the area is covered in trees. You'll need to see which angles will take you near the fewest trees.</p>\n",
    "<p>Due to the local geology, trees in this area only grow on exact integer coordinates in a grid. You make a map (your puzzle input) of the open squares (<code>.</code>) and trees (<code>#</code>) you can see. For example:</p>\n",
    "<pre><code>..##.......\n",
    "#...#...#..\n",
    ".#....#..#.\n",
    "..#.#...#.#\n",
    ".#...##..#.\n",
    "..#.##.....\n",
    ".#.#.#....#\n",
    ".#........#\n",
    "#.##...#...\n",
    "#...##....#\n",
    ".#..#...#.#\n",
    "</code></pre>\n",
    "<p>These aren't the only trees, though; due to something you read about once involving arboreal genetics and biome stability, the same pattern repeats to the right many times:</p>\n",
    "<pre><code><em>..##.......</em>..##.........##.........##.........##.........##.......  ---&gt;\n",
    "<em>#...#...#..</em>#...#...#..#...#...#..#...#...#..#...#...#..#...#...#..\n",
    "<em>.#....#..#.</em>.#....#..#..#....#..#..#....#..#..#....#..#..#....#..#.\n",
    "<em>..#.#...#.#</em>..#.#...#.#..#.#...#.#..#.#...#.#..#.#...#.#..#.#...#.#\n",
    "<em>.#...##..#.</em>.#...##..#..#...##..#..#...##..#..#...##..#..#...##..#.\n",
    "<em>..#.##.....</em>..#.##.......#.##.......#.##.......#.##.......#.##.....  ---&gt;\n",
    "<em>.#.#.#....#</em>.#.#.#....#.#.#.#....#.#.#.#....#.#.#.#....#.#.#.#....#\n",
    "<em>.#........#</em>.#........#.#........#.#........#.#........#.#........#\n",
    "<em>#.##...#...</em>#.##...#...#.##...#...#.##...#...#.##...#...#.##...#...\n",
    "<em>#...##....#</em>#...##....##...##....##...##....##...##....##...##....#\n",
    "<em>.#..#...#.#</em>.#..#...#.#.#..#...#.#.#..#...#.#.#..#...#.#.#..#...#.#  ---&gt;\n",
    "</code></pre>\n",
    "<p>You start on the open square (<code>.</code>) in the top-left corner and need to reach the bottom (below the bottom-most row on your map).</p>\n",
    "<p>The toboggan can only follow a few specific slopes (you opted for a cheaper model that prefers rational numbers); start by <em>counting all the trees</em> you would encounter for the slope <em>right 3, down 1</em>:</p>\n",
    "<p>From your starting position at the top-left, check the position that is right 3 and down 1. Then, check the position that is right 3 and down 1 from there, and so on until you go past the bottom of the map.</p>\n",
    "<p>The locations you'd check in the above example are marked here with <code><em>O</em></code> where there was an open square and <code><em>X</em></code> where there was a tree:</p>\n",
    "<pre><code>..##.........##.........##.........##.........##.........##.......  ---&gt;\n",
    "#..<em>O</em>#...#..#...#...#..#...#...#..#...#...#..#...#...#..#...#...#..\n",
    ".#....<em>X</em>..#..#....#..#..#....#..#..#....#..#..#....#..#..#....#..#.\n",
    "..#.#...#<em>O</em>#..#.#...#.#..#.#...#.#..#.#...#.#..#.#...#.#..#.#...#.#\n",
    ".#...##..#..<em>X</em>...##..#..#...##..#..#...##..#..#...##..#..#...##..#.\n",
    "..#.##.......#.<em>X</em>#.......#.##.......#.##.......#.##.......#.##.....  ---&gt;\n",
    ".#.#.#....#.#.#.#.<em>O</em>..#.#.#.#....#.#.#.#....#.#.#.#....#.#.#.#....#\n",
    ".#........#.#........<em>X</em>.#........#.#........#.#........#.#........#\n",
    "#.##...#...#.##...#...#.<em>X</em>#...#...#.##...#...#.##...#...#.##...#...\n",
    "#...##....##...##....##...#<em>X</em>....##...##....##...##....##...##....#\n",
    ".#..#...#.#.#..#...#.#.#..#...<em>X</em>.#.#..#...#.#.#..#...#.#.#..#...#.#  ---&gt;\n",
    "</code></pre>\n",
    "<p>In this example, traversing the map using this slope would cause you to encounter <code><em>7</em></code> trees.</p>\n",
    "<p>Starting at the top-left corner of your map and following a slope of right 3 and down 1, <em>how many trees would you encounter?</em></p>\n",
    "</article>\n"
   ]
  },
  {
   "cell_type": "code",
   "execution_count": 25,
   "metadata": {},
   "outputs": [],
   "source": [
    "from math import prod\n",
    "\n",
    "\n",
    "example = \"\"\"\n",
    "    ..##.......\n",
    "    #...#...#..\n",
    "    .#....#..#.\n",
    "    ..#.#...#.#\n",
    "    .#...##..#.\n",
    "    ..#.##.....\n",
    "    .#.#.#....#\n",
    "    .#........#\n",
    "    #.##...#...\n",
    "    #...##....#\n",
    "    .#..#...#.#\n",
    "\"\"\"\n",
    "\n",
    "\n",
    "class Toboggan:\n",
    "    def __init__(self, s: str) -> None:\n",
    "        self.geology = [l.strip() for l in s.strip().splitlines()]\n",
    "        self.rows, self.cols = len(self.geology), len(self.geology[0])\n",
    "\n",
    "    def count_tree_on_path_down(self, d_row: int = 1, d_col: int = 3) -> int:\n",
    "        row, col = 0, 0\n",
    "        trees = 0\n",
    "        while row < self.rows:\n",
    "            if self.geology[row][col] == \"#\":\n",
    "                trees += 1\n",
    "            row += d_row\n",
    "            col = (col + d_col) % self.cols\n",
    "\n",
    "        return trees\n",
    "\n",
    "    def count_tree_on_path_down_on_slopes(\n",
    "        self, slopes=((1, 1), (1, 3), (1, 5), (1, 7), (2, 1))\n",
    "    ) -> int:\n",
    "        return prod(self.count_tree_on_path_down(d_r, d_c) for d_r, d_c in slopes)\n",
    "\n",
    "    def __repr__(self) -> str:\n",
    "        return \"\\n\".join(self.geology)\n",
    "\n",
    "\n",
    "assert Toboggan(example).count_tree_on_path_down() == 7"
   ]
  },
  {
   "cell_type": "code",
   "execution_count": 26,
   "metadata": {},
   "outputs": [
    {
     "name": "stdout",
     "output_type": "stream",
     "text": [
      "Part I: 268\n"
     ]
    }
   ],
   "source": [
    "with open(\"../input/day3.txt\") as f:\n",
    "    puzzle = f.read()\n",
    "\n",
    "print(f\"Part I: {Toboggan(puzzle).count_tree_on_path_down()}\")"
   ]
  },
  {
   "cell_type": "markdown",
   "metadata": {},
   "source": [
    "<link href=\"style.css\" rel=\"stylesheet\"></link>\n",
    "\n",
    "<main>\n",
    "\n",
    "<p>Your puzzle answer was <code>268</code>.</p><p class=\"day-success\">The first half of this puzzle is complete! It provides one gold star: *</p>\n",
    "<article class=\"day-desc\"><h2 id=\"part2\">--- Part Two ---</h2><p>Time to check the rest of the slopes - you need to minimize the probability of a sudden arboreal stop, after all.</p>\n",
    "<p>Determine the number of trees you would encounter if, for each of the following slopes, you start at the top-left corner and traverse the map all the way to the bottom:</p>\n",
    "<ul>\n",
    "<li>Right 1, down 1.</li>\n",
    "<li>Right 3, down 1. (This is the slope you already checked.)</li>\n",
    "<li>Right 5, down 1.</li>\n",
    "<li>Right 7, down 1.</li>\n",
    "<li>Right 1, down 2.</li>\n",
    "</ul>\n",
    "<p>In the above example, these slopes would find <code>2</code>, <code>7</code>, <code>3</code>, <code>4</code>, and <code>2</code> tree(s) respectively; multiplied together, these produce the answer <code><em>336</em></code>.</p>\n",
    "<p><em>What do you get if you multiply together the number of trees encountered on each of the listed slopes?</em></p>\n",
    "</article>\n",
    "\n",
    "</main>\n"
   ]
  },
  {
   "cell_type": "code",
   "execution_count": 27,
   "metadata": {},
   "outputs": [],
   "source": [
    "assert Toboggan(example).count_tree_on_path_down_on_slopes() == 336"
   ]
  },
  {
   "cell_type": "code",
   "execution_count": 28,
   "metadata": {},
   "outputs": [
    {
     "name": "stdout",
     "output_type": "stream",
     "text": [
      "Part II: 3093068400\n"
     ]
    }
   ],
   "source": [
    "print(f\"Part II: { Toboggan(puzzle).count_tree_on_path_down_on_slopes()}\")"
   ]
  },
  {
   "cell_type": "markdown",
   "metadata": {},
   "source": [
    "<link href=\"style.css\" rel=\"stylesheet\"></link>\n",
    "<main>\n",
    "\n",
    "<p>Your puzzle answer was <code>3093068400</code>.</p><p class=\"day-success\">Both parts of this puzzle are complete! They provide two gold stars: **</p>\n",
    "\n",
    "</main>\n"
   ]
  },
  {
   "cell_type": "code",
   "execution_count": null,
   "metadata": {},
   "outputs": [],
   "source": []
  },
  {
   "cell_type": "code",
   "execution_count": null,
   "metadata": {},
   "outputs": [],
   "source": []
  }
 ],
 "metadata": {
  "kernelspec": {
   "display_name": ".venv",
   "language": "python",
   "name": "python3"
  },
  "language_info": {
   "codemirror_mode": {
    "name": "ipython",
    "version": 3
   },
   "file_extension": ".py",
   "mimetype": "text/x-python",
   "name": "python",
   "nbconvert_exporter": "python",
   "pygments_lexer": "ipython3",
   "version": "3.12.0"
  }
 },
 "nbformat": 4,
 "nbformat_minor": 2
}
