{
 "cells": [
  {
   "cell_type": "code",
   "execution_count": 19,
   "metadata": {},
   "outputs": [],
   "source": [
    "# %matplotlib widget\n",
    "\n",
    "from __future__ import annotations\n",
    "\n",
    "import re\n",
    "from collections import defaultdict\n",
    "from dataclasses import dataclass, field\n",
    "from itertools import permutations, product\n",
    "from math import inf\n",
    "from random import choice\n",
    "\n",
    "import matplotlib.colors as mcolors\n",
    "import matplotlib.pyplot as plt\n",
    "import networkx as nx\n",
    "import numpy as np\n",
    "import numpy.typing as npt\n",
    "from mpl_toolkits.mplot3d import axes3d\n",
    "from numpy import int_, object_\n",
    "from numpy.typing import NDArray\n",
    "from test_utilities import run_tests_params\n",
    "from util import print_hex\n",
    "\n",
    "COLORS = list(mcolors.CSS4_COLORS.keys())"
   ]
  },
  {
   "cell_type": "markdown",
   "metadata": {},
   "source": [
    "<link href=\"style.css\" rel=\"stylesheet\"></link>\n",
    "<article class=\"day-desc\"><h2>--- Day 1: Report Repair ---</h2><p>After saving Christmas <a href=\"/events\">five years in a row</a>, you've decided to take a vacation at a nice resort on a tropical island. <span title=\"WHAT COULD GO WRONG\">Surely</span>, Christmas will go on without you.</p>\n",
    "<p>The tropical island has its own currency and is entirely cash-only.  The gold coins used there have a little picture of a starfish; the locals just call them <em class=\"star\">stars</em>. None of the currency exchanges seem to have heard of them, but somehow, you'll need to find fifty of these coins by the time you arrive so you can pay the deposit on your room.</p>\n",
    "<p>To save your vacation, you need to get all <em class=\"star\">fifty stars</em> by December 25th.</p>\n",
    "<p>Collect stars by solving puzzles.  Two puzzles will be made available on each day in the Advent calendar; the second puzzle is unlocked when you complete the first.  Each puzzle grants <em class=\"star\">one star</em>. Good luck!</p>\n",
    "<p>Before you leave, the Elves in accounting just need you to fix your <em>expense report</em> (your puzzle input); apparently, something isn't quite adding up.</p>\n",
    "<p>Specifically, they need you to <em>find the two entries that sum to <code>2020</code></em> and then multiply those two numbers together.</p>\n",
    "<p>For example, suppose your expense report contained the following:</p>\n",
    "<pre><code>1721\n",
    "979\n",
    "366\n",
    "299\n",
    "675\n",
    "1456\n",
    "</code></pre>\n",
    "<p>In this list, the two entries that sum to <code>2020</code> are <code>1721</code> and <code>299</code>. Multiplying them together produces <code>1721 * 299 = 514579</code>, so the correct answer is <code><em>514579</em></code>.</p>\n",
    "<p>Of course, your expense report is much larger. <em>Find the two entries that sum to <code>2020</code>; what do you get if you multiply them together?</em></p>\n",
    "</article>\n"
   ]
  },
  {
   "cell_type": "code",
   "execution_count": 20,
   "metadata": {},
   "outputs": [],
   "source": [
    "from sys import prefix\n",
    "\n",
    "\n",
    "example = \"\"\"\n",
    "    1721\n",
    "    979\n",
    "    366\n",
    "    299\n",
    "    675\n",
    "    1456\n",
    "\"\"\"\n",
    "\n",
    "\n",
    "def product_of_two_entries_with_sum_2020(data: str) -> int:\n",
    "    ints = [int(l.strip()) for l in data.strip().splitlines()]\n",
    "    prefix_sums = set()\n",
    "    for i in ints:\n",
    "        if 2020 - i in prefix_sums:\n",
    "            return i * (2020 - i)\n",
    "        prefix_sums.add(i)\n",
    "\n",
    "\n",
    "assert product_of_two_entries_with_sum_2020(example) == 514579"
   ]
  },
  {
   "cell_type": "code",
   "execution_count": 21,
   "metadata": {},
   "outputs": [
    {
     "name": "stdout",
     "output_type": "stream",
     "text": [
      "Part I: 974304\n"
     ]
    }
   ],
   "source": [
    "with open(\"../input/day1.txt\") as f:\n",
    "    puzzle = f.read()\n",
    "\n",
    "print(f\"Part I: {product_of_two_entries_with_sum_2020(puzzle)}\")"
   ]
  },
  {
   "cell_type": "markdown",
   "metadata": {},
   "source": [
    "<link href=\"style.css\" rel=\"stylesheet\"></link>\n",
    "<main class=\"read-aloud\">\n",
    "\n",
    "<p>Your puzzle answer was <code>974304</code>.</p><p class=\"day-success\">The first half of this puzzle is complete! It provides one gold star: *</p>\n",
    "<article class=\"day-desc\"><h2 id=\"part2\">--- Part Two ---</h2><p>The Elves in accounting are thankful for your help; one of them even offers you a starfish coin they had left over from a past vacation. They offer you a second one if you can find <em>three</em> numbers in your expense report that meet the same criteria.</p>\n",
    "<p>Using the above example again, the three entries that sum to <code>2020</code> are <code>979</code>, <code>366</code>, and <code>675</code>. Multiplying them together produces the answer, <code><em>241861950</em></code>.</p>\n",
    "<p>In your expense report, <em>what is the product of the three entries that sum to <code>2020</code>?</em></p>\n",
    "</article>\n",
    "\n",
    "</main>\n"
   ]
  },
  {
   "cell_type": "code",
   "execution_count": 22,
   "metadata": {},
   "outputs": [],
   "source": [
    "from math import prod\n",
    "from more_itertools import one\n",
    "\n",
    "\n",
    "def product_of_three_entries_with_sum_2020(data: str) -> int:\n",
    "    nums = [int(l.strip()) for l in data.strip().splitlines()]\n",
    "    triplets = []\n",
    "    nums.sort()\n",
    "    for i in range(len(nums)):\n",
    "        if i > 0 and nums[i] == nums[i - 1]:\n",
    "            continue\n",
    "        sum = 2020 - nums[i]\n",
    "        j = i + 1\n",
    "        k = len(nums) - 1\n",
    "        while j < k:\n",
    "            sum2 = nums[j] + nums[k]\n",
    "\n",
    "            if sum2 == sum:\n",
    "                triplets.append(sorted([nums[i], nums[j], nums[k]]))\n",
    "                while j < k and nums[j] == nums[j + 1]:\n",
    "                    j += 1\n",
    "                while j < k and nums[k - 1] == nums[k]:\n",
    "                    k -= 1\n",
    "                j += 1\n",
    "                k -= 1\n",
    "            elif sum2 < sum:\n",
    "                j += 1\n",
    "            else:\n",
    "                k -= 1\n",
    "\n",
    "    return prod(one(triplets))\n",
    "\n",
    "\n",
    "assert product_of_three_entries_with_sum_2020(example) == 241861950"
   ]
  },
  {
   "cell_type": "code",
   "execution_count": 23,
   "metadata": {},
   "outputs": [
    {
     "name": "stdout",
     "output_type": "stream",
     "text": [
      "Part II: 236430480\n"
     ]
    }
   ],
   "source": [
    "print(f\"Part II: {product_of_three_entries_with_sum_2020(puzzle)}\")"
   ]
  },
  {
   "cell_type": "markdown",
   "metadata": {},
   "source": [
    "<link href=\"style.css\" rel=\"stylesheet\"></link>\n",
    "<main>\n",
    "\n",
    "<p>Your puzzle answer was <code>236430480</code>.</p><p class=\"day-success\">Both parts of this puzzle are complete! They provide two gold stars: **</p>\n",
    "\n",
    "</main>\n"
   ]
  },
  {
   "cell_type": "code",
   "execution_count": null,
   "metadata": {},
   "outputs": [],
   "source": []
  },
  {
   "cell_type": "code",
   "execution_count": null,
   "metadata": {},
   "outputs": [],
   "source": []
  }
 ],
 "metadata": {
  "kernelspec": {
   "display_name": ".venv",
   "language": "python",
   "name": "python3"
  },
  "language_info": {
   "codemirror_mode": {
    "name": "ipython",
    "version": 3
   },
   "file_extension": ".py",
   "mimetype": "text/x-python",
   "name": "python",
   "nbconvert_exporter": "python",
   "pygments_lexer": "ipython3",
   "version": "3.12.0"
  }
 },
 "nbformat": 4,
 "nbformat_minor": 2
}
