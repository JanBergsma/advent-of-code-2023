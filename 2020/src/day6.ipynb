{
 "cells": [
  {
   "cell_type": "code",
   "execution_count": 65,
   "metadata": {},
   "outputs": [],
   "source": [
    "# %matplotlib widget\n",
    "\n",
    "from __future__ import annotations\n",
    "\n",
    "import re\n",
    "from collections import defaultdict\n",
    "from dataclasses import dataclass, field\n",
    "from itertools import permutations, product\n",
    "from math import inf\n",
    "from random import choice\n",
    "\n",
    "import matplotlib.colors as mcolors\n",
    "import matplotlib.pyplot as plt\n",
    "import networkx as nx\n",
    "import numpy as np\n",
    "import numpy.typing as npt\n",
    "from mpl_toolkits.mplot3d import axes3d\n",
    "from numpy import int_, object_\n",
    "from numpy.typing import NDArray\n",
    "from test_utilities import run_tests_params\n",
    "from util import print_hex\n",
    "\n",
    "COLORS = list(mcolors.CSS4_COLORS.keys())"
   ]
  },
  {
   "cell_type": "markdown",
   "metadata": {},
   "source": [
    "<link href=\"style.css\" rel=\"stylesheet\"></link>\n",
    "<article class=\"day-desc read-aloud\"><h2>--- Day 6: Custom Customs ---</h2><p>As your flight approaches the regional airport where you'll switch to a much larger plane, <a href=\"https://en.wikipedia.org/wiki/Customs_declaration\" target=\"_blank\">customs declaration forms</a> are distributed to the passengers.</p>\n",
    "<p>The form asks a series of 26 yes-or-no questions marked <code>a</code> through <code>z</code>. All you need to do is identify the questions for which <em>anyone in your group</em> answers \"yes\". Since your group is just you, this doesn't take very long.</p>\n",
    "<p>However, the person sitting next to you seems to be experiencing a language barrier and asks if you can help. For each of the people in their group, you write down the questions for which they answer \"yes\", one per line.  For example:</p>\n",
    "<pre><code>abcx\n",
    "abcy\n",
    "abcz\n",
    "</code></pre>\n",
    "<p>In this group, there are <em><code>6</code></em> questions to which anyone answered \"yes\": <code>a</code>, <code>b</code>, <code>c</code>, <code>x</code>, <code>y</code>, and <code>z</code>. (Duplicate answers to the same question don't count extra; each question counts at most once.)</p>\n",
    "<p>Another group asks for your help, then another, and eventually you've collected answers from every group on the plane (your puzzle input). Each group's answers are separated by a blank line, and within each group, each person's answers are on a single line. For example:</p>\n",
    "<pre><code>abc\n",
    "\n",
    "a\n",
    "b\n",
    "c\n",
    "\n",
    "ab\n",
    "ac\n",
    "\n",
    "a\n",
    "a\n",
    "a\n",
    "a\n",
    "\n",
    "b\n",
    "</code></pre>\n",
    "\n",
    "<p>This list represents answers from five groups:</p>\n",
    "<ul>\n",
    "<li>The first group contains one person who answered \"yes\" to <em><code>3</code></em> questions: <code>a</code>, <code>b</code>, and <code>c</code>.</li>\n",
    "<li>The second group contains three people; combined, they answered \"yes\" to <em><code>3</code></em> questions: <code>a</code>, <code>b</code>, and <code>c</code>.</li>\n",
    "<li>The third group contains two people; combined, they answered \"yes\" to <em><code>3</code></em> questions: <code>a</code>, <code>b</code>, and <code>c</code>.</li>\n",
    "<li>The fourth group contains four people; combined, they answered \"yes\" to only <em><code>1</code></em> question, <code>a</code>.</li>\n",
    "<li>The last group contains one person who answered \"yes\" to only <em><code>1</code></em> question, <code>b</code>.</li>\n",
    "</ul>\n",
    "<p>In this example, the sum of these counts is <code>3 + 3 + 3 + 1 + 1</code> = <em><code>11</code></em>.</p>\n",
    "<p>For each group, count the number of questions to which anyone answered \"yes\". <em>What is the sum of those counts?</em></p>\n",
    "</article>\n"
   ]
  },
  {
   "cell_type": "code",
   "execution_count": 66,
   "metadata": {},
   "outputs": [],
   "source": [
    "from functools import reduce\n",
    "\n",
    "\n",
    "example_1 = \"\"\"\n",
    "abcx\n",
    "abcy\n",
    "abcz\n",
    "\"\"\"\n",
    "\n",
    "\n",
    "example_2 = \"\"\"\n",
    "abc\n",
    "\n",
    "a\n",
    "b\n",
    "c\n",
    "\n",
    "ab\n",
    "ac\n",
    "\n",
    "a\n",
    "a\n",
    "a\n",
    "a\n",
    "\n",
    "b\n",
    "\"\"\"\n",
    "\n",
    "\n",
    "def sum_of_counts(s: str) -> int:\n",
    "    return reduce(\n",
    "        lambda acc, s: acc + len(s),\n",
    "        (\n",
    "            reduce(lambda v, e: v | set(e), re.split(r\"\\s+\", g.strip()), set())\n",
    "            for g in re.split(r\"(?:\\r?\\n){2,}\", s)\n",
    "        ),\n",
    "        0,\n",
    "    )\n",
    "\n",
    "\n",
    "assert sum_of_counts(example_1) == 6\n",
    "assert sum_of_counts(example_2) == 11"
   ]
  },
  {
   "cell_type": "code",
   "execution_count": 67,
   "metadata": {},
   "outputs": [
    {
     "name": "stdout",
     "output_type": "stream",
     "text": [
      "Part I: 6583\n"
     ]
    }
   ],
   "source": [
    "with open(\"../input/day6.txt\") as f:\n",
    "    puzzle = f.read()\n",
    "\n",
    "print(f\"Part I: {sum_of_counts(puzzle)}\")"
   ]
  },
  {
   "cell_type": "markdown",
   "metadata": {},
   "source": [
    "<link href=\"style.css\" rel=\"stylesheet\"></link>\n",
    "<main>\n",
    "\n",
    "<p>Your puzzle answer was <code>6583</code>.</p><p class=\"day-success\">The first half of this puzzle is complete! It provides one gold star: *</p>\n",
    "<article class=\"day-desc\"><h2 id=\"part2\">--- Part Two ---</h2><p>As you finish the last group's customs declaration, you notice that <span title=\"Don't worry, nobody ever misreads just one word in real life.\">you misread one word</span> in the instructions:</p>\n",
    "<p>You don't need to identify the questions to which <em>anyone</em> answered \"yes\"; you need to identify the questions to which <em>everyone</em> answered \"yes\"!</p>\n",
    "<p>Using the same  example as above:</p>\n",
    "<pre><code>abc\n",
    "\n",
    "a\n",
    "b\n",
    "c\n",
    "\n",
    "ab\n",
    "ac\n",
    "\n",
    "a\n",
    "a\n",
    "a\n",
    "a\n",
    "\n",
    "b\n",
    "</code></pre>\n",
    "\n",
    "<p>This list represents answers from five groups:</p>\n",
    "<ul>\n",
    "<li>In the first group, everyone (all 1 person) answered \"yes\" to <em><code>3</code></em> questions: <code>a</code>, <code>b</code>, and <code>c</code>.</li>\n",
    "<li>In the second group, there is <em>no</em> question to which everyone answered \"yes\".</li>\n",
    "<li>In the third group, everyone answered yes to only <em><code>1</code></em> question, <code>a</code>. Since some people did not answer \"yes\" to <code>b</code> or <code>c</code>, they don't count.</li>\n",
    "<li>In the fourth group, everyone answered yes to only <em><code>1</code></em> question, <code>a</code>.</li>\n",
    "<li>In the fifth group, everyone (all 1 person) answered \"yes\" to <em><code>1</code></em> question, <code>b</code>.</li>\n",
    "</ul>\n",
    "<p>In this example, the sum of these counts is <code>3 + 0 + 1 + 1 + 1</code> = <em><code>6</code></em>.</p>\n",
    "<p>For each group, count the number of questions to which <em>everyone</em> answered \"yes\". <em>What is the sum of those counts?</em></p>\n",
    "</article>\n",
    "\n",
    "</main>\n"
   ]
  },
  {
   "cell_type": "code",
   "execution_count": 68,
   "metadata": {},
   "outputs": [],
   "source": [
    "from collections import Counter\n",
    "\n",
    "\n",
    "example_all_yes = \"\"\"\n",
    "abc\n",
    "\n",
    "a\n",
    "b\n",
    "c\n",
    "\n",
    "ab\n",
    "ac\n",
    "\n",
    "a\n",
    "a\n",
    "a\n",
    "a\n",
    "\n",
    "b\n",
    "\n",
    "\"\"\"\n",
    "\n",
    "\n",
    "def sum_of_all_yes_ingroup(s: str) -> int:\n",
    "    count = 0\n",
    "    for group in re.split(r\"(?:\\r?\\n){2,}\", s.strip()):\n",
    "        persons = re.split(r\"\\s+\", group.strip())\n",
    "        g = \"\".join(persons)\n",
    "        count += sum(1 for v in Counter(g).values() if v == len(persons))\n",
    "    return count\n",
    "\n",
    "\n",
    "assert sum_of_all_yes_ingroup(example_all_yes) == 6"
   ]
  },
  {
   "cell_type": "code",
   "execution_count": 69,
   "metadata": {},
   "outputs": [
    {
     "name": "stdout",
     "output_type": "stream",
     "text": [
      "Part II: 3290\n"
     ]
    }
   ],
   "source": [
    "print(f\"Part II: {sum_of_all_yes_ingroup(puzzle)}\")"
   ]
  },
  {
   "cell_type": "markdown",
   "metadata": {},
   "source": [
    "<link href=\"style.css\" rel=\"stylesheet\"></link>\n",
    "<main>\n",
    "\n",
    "<p>Your puzzle answer was <code>3290</code>.</p><p class=\"day-success\">Both parts of this puzzle are complete! They provide two gold stars: **</p>\n",
    "\n",
    "</main>\n"
   ]
  },
  {
   "cell_type": "code",
   "execution_count": null,
   "metadata": {},
   "outputs": [],
   "source": []
  }
 ],
 "metadata": {
  "kernelspec": {
   "display_name": ".venv",
   "language": "python",
   "name": "python3"
  },
  "language_info": {
   "codemirror_mode": {
    "name": "ipython",
    "version": 3
   },
   "file_extension": ".py",
   "mimetype": "text/x-python",
   "name": "python",
   "nbconvert_exporter": "python",
   "pygments_lexer": "ipython3",
   "version": "3.12.0"
  }
 },
 "nbformat": 4,
 "nbformat_minor": 2
}
