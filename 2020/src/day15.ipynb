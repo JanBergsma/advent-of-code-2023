{
 "cells": [
  {
   "cell_type": "code",
   "execution_count": 1,
   "metadata": {},
   "outputs": [],
   "source": [
    "# %matplotlib widget\n",
    "\n",
    "from __future__ import annotations\n",
    "\n",
    "import re\n",
    "from collections import defaultdict\n",
    "from dataclasses import dataclass, field\n",
    "from itertools import permutations, product\n",
    "from math import inf\n",
    "from random import choice\n",
    "\n",
    "import matplotlib.colors as mcolors\n",
    "import matplotlib.pyplot as plt\n",
    "import networkx as nx\n",
    "import numpy as np\n",
    "import numpy.typing as npt\n",
    "from mpl_toolkits.mplot3d import axes3d\n",
    "from numpy import int_, object_\n",
    "from numpy.typing import NDArray\n",
    "from test_utilities import run_tests_params\n",
    "from util import print_hex\n",
    "\n",
    "COLORS = list(mcolors.CSS4_COLORS.keys())"
   ]
  },
  {
   "cell_type": "markdown",
   "metadata": {},
   "source": [
    "<link href=\"style.css\" rel=\"stylesheet\"></link>\n"
   ]
  },
  {
   "cell_type": "code",
   "execution_count": 2,
   "metadata": {},
   "outputs": [
    {
     "name": "stdout",
     "output_type": "stream",
     "text": [
      "\n",
      "\u001b[32mTest Example 1 passed, for nth_number_spoken.\u001b[0m\n",
      "\u001b[32mTest Example 2 passed, for nth_number_spoken.\u001b[0m\n",
      "\u001b[32mTest Example 3 passed, for nth_number_spoken.\u001b[0m\n",
      "\u001b[32mTest Example 4 passed, for nth_number_spoken.\u001b[0m\n",
      "\u001b[32mTest Example 5 passed, for nth_number_spoken.\u001b[0m\n",
      "\u001b[32mTest Example 6 passed, for nth_number_spoken.\u001b[0m\n",
      "\u001b[32mTest Example 7 passed, for nth_number_spoken.\u001b[0m\n",
      "\u001b[32mSuccess\u001b[0m\n"
     ]
    }
   ],
   "source": [
    "tests = [\n",
    "    {\n",
    "        \"name\": \"Example 1\",\n",
    "        \"starting_numbers\": \"0,3,6\",\n",
    "        \"expected\": 436,\n",
    "    },\n",
    "    {\n",
    "        \"name\": \"Example 2\",\n",
    "        \"starting_numbers\": \"1,3,2\",\n",
    "        \"expected\": 1,\n",
    "    },\n",
    "    {\n",
    "        \"name\": \"Example 3\",\n",
    "        \"starting_numbers\": \"2,1,3\",\n",
    "        \"expected\": 10,\n",
    "    },\n",
    "    {\n",
    "        \"name\": \"Example 4\",\n",
    "        \"starting_numbers\": \"1,2,3\",\n",
    "        \"expected\": 27,\n",
    "    },\n",
    "    {\n",
    "        \"name\": \"Example 5\",\n",
    "        \"starting_numbers\": \"2,3,1\",\n",
    "        \"expected\": 78,\n",
    "    },\n",
    "    {\n",
    "        \"name\": \"Example 6\",\n",
    "        \"starting_numbers\": \"3,2,1\",\n",
    "        \"expected\": 438,\n",
    "    },\n",
    "    {\n",
    "        \"name\": \"Example 7\",\n",
    "        \"starting_numbers\": \"3,1,2\",\n",
    "        \"expected\": 1836,\n",
    "    },\n",
    "]\n",
    "\n",
    "\n",
    "def nth_number_spoken(starting_numbers: str, nth: int = 2020) -> int:\n",
    "    starting_numbers = [int(num) for num in starting_numbers.split(\",\")]\n",
    "    numbers_spoken = {}\n",
    "\n",
    "    for i, num in enumerate(starting_numbers):\n",
    "        numbers_spoken[num] = i + 1\n",
    "\n",
    "    most_recently_spoken = 0\n",
    "\n",
    "    for current_number in range(len(numbers_spoken) + 1, nth):\n",
    "        if most_recently_spoken in numbers_spoken:\n",
    "            diff = current_number - numbers_spoken[most_recently_spoken]\n",
    "            numbers_spoken[most_recently_spoken] = current_number\n",
    "        else:\n",
    "            diff = 0\n",
    "            numbers_spoken[most_recently_spoken] = current_number\n",
    "\n",
    "        most_recently_spoken = diff\n",
    "\n",
    "    return most_recently_spoken\n",
    "\n",
    "\n",
    "# nth_number_spoken(\"0,3,6\")\n",
    "run_tests_params(nth_number_spoken, tests)"
   ]
  },
  {
   "cell_type": "code",
   "execution_count": 3,
   "metadata": {},
   "outputs": [
    {
     "name": "stdout",
     "output_type": "stream",
     "text": [
      "Part I: 694\n"
     ]
    }
   ],
   "source": [
    "puzzle = \"17,1,3,16,19,0\"\n",
    "\n",
    "print(f\"Part I: {nth_number_spoken(puzzle)}\")"
   ]
  },
  {
   "cell_type": "markdown",
   "metadata": {},
   "source": [
    "<link href=\"style.css\" rel=\"stylesheet\"></link>\n",
    "<main>\n",
    "\n",
    "<p>Your puzzle answer was <code>694</code>.</p><p class=\"day-success\">The first half of this puzzle is complete! It provides one gold star: *</p>\n",
    "<article class=\"day-desc\"><h2 id=\"part2\">--- Part Two ---</h2><p>Impressed, the Elves issue you a challenge: determine the <code>30000000</code>th number spoken. For example, given the same starting numbers as above:</p>\n",
    "<ul>\n",
    "<li>Given <code>0,3,6</code>, the <code>30000000</code>th number spoken is <code>175594</code>.</li>\n",
    "<li>Given <code>1,3,2</code>, the <code>30000000</code>th number spoken is <code>2578</code>.</li>\n",
    "<li>Given <code>2,1,3</code>, the <code>30000000</code>th number spoken is <code>3544142</code>.</li>\n",
    "<li>Given <code>1,2,3</code>, the <code>30000000</code>th number spoken is <code>261214</code>.</li>\n",
    "<li>Given <code>2,3,1</code>, the <code>30000000</code>th number spoken is <code>6895259</code>.</li>\n",
    "<li>Given <code>3,2,1</code>, the <code>30000000</code>th number spoken is <code>18</code>.</li>\n",
    "<li>Given <code>3,1,2</code>, the <code>30000000</code>th number spoken is <code>362</code>.</li>\n",
    "</ul>\n",
    "<p>Given your starting numbers, <em>what will be the <code>30000000</code>th number spoken?</em></p>\n",
    "</article>\n",
    "\n",
    "</main>\n"
   ]
  },
  {
   "cell_type": "code",
   "execution_count": 4,
   "metadata": {},
   "outputs": [
    {
     "name": "stdout",
     "output_type": "stream",
     "text": [
      "\n",
      "\u001b[32mTest Example 1 passed, for the_30000000th_number.\u001b[0m\n",
      "\u001b[32mTest Example 2 passed, for the_30000000th_number.\u001b[0m\n",
      "\u001b[32mTest Example 3 passed, for the_30000000th_number.\u001b[0m\n",
      "\u001b[32mTest Example 4 passed, for the_30000000th_number.\u001b[0m\n",
      "\u001b[32mTest Example 5 passed, for the_30000000th_number.\u001b[0m\n",
      "\u001b[32mTest Example 6 passed, for the_30000000th_number.\u001b[0m\n",
      "\u001b[32mTest Example 7 passed, for the_30000000th_number.\u001b[0m\n",
      "\u001b[32mSuccess\u001b[0m\n",
      "\n",
      "Time elapsed: 70.2477s\n"
     ]
    }
   ],
   "source": [
    "from functools import partial\n",
    "from timeit import default_timer as timer\n",
    "\n",
    "\n",
    "tests = [\n",
    "    {\n",
    "        \"name\": \"Example 1\",\n",
    "        \"starting_numbers\": \"0,3,6\",\n",
    "        \"expected\": 175594,\n",
    "    },\n",
    "    {\n",
    "        \"name\": \"Example 2\",\n",
    "        \"starting_numbers\": \"1,3,2\",\n",
    "        \"expected\": 2578,\n",
    "    },\n",
    "    {\n",
    "        \"name\": \"Example 3\",\n",
    "        \"starting_numbers\": \"2,1,3\",\n",
    "        \"expected\": 3544142,\n",
    "    },\n",
    "    {\n",
    "        \"name\": \"Example 4\",\n",
    "        \"starting_numbers\": \"1,2,3\",\n",
    "        \"expected\": 261214,\n",
    "    },\n",
    "    {\n",
    "        \"name\": \"Example 5\",\n",
    "        \"starting_numbers\": \"2,3,1\",\n",
    "        \"expected\": 6895259,\n",
    "    },\n",
    "    {\n",
    "        \"name\": \"Example 6\",\n",
    "        \"starting_numbers\": \"3,2,1\",\n",
    "        \"expected\": 18,\n",
    "    },\n",
    "    {\n",
    "        \"name\": \"Example 7\",\n",
    "        \"starting_numbers\": \"3,1,2\",\n",
    "        \"expected\": 362,\n",
    "    },\n",
    "]\n",
    "\n",
    "\n",
    "the_30000000th_number = partial(nth_number_spoken, nth=30000000)\n",
    "the_30000000th_number.__name__ = \"the_30000000th_number\"\n",
    "\n",
    "start = timer()\n",
    "run_tests_params(the_30000000th_number, tests)\n",
    "print(f\"\\nTime elapsed: {timer() - start:.4f}s\")"
   ]
  },
  {
   "cell_type": "markdown",
   "metadata": {},
   "source": [
    "> Don't Know (the Van Eck Sequence) - Numberphile <br/> > [Don't Know (the Van Eck Sequence) - Numberphile](https://youtu.be/etMJxB-igrc)\n"
   ]
  },
  {
   "cell_type": "code",
   "execution_count": 5,
   "metadata": {},
   "outputs": [
    {
     "name": "stdout",
     "output_type": "stream",
     "text": [
      "Part II: 21768614\n",
      "\n",
      "Time elapsed: 10.1433s\n"
     ]
    }
   ],
   "source": [
    "start = timer()\n",
    "print(f\"Part II: {the_30000000th_number(puzzle)}\")\n",
    "print(f\"\\nTime elapsed: {timer() - start:.4f}s\")"
   ]
  },
  {
   "cell_type": "markdown",
   "metadata": {},
   "source": [
    "<link href=\"style.css\" rel=\"stylesheet\"></link>\n",
    "<main>\n",
    "\n",
    "<p>Your puzzle answer was <code>21768614</code>.</p><p class=\"day-success\">Both parts of this puzzle are complete! They provide two gold stars: **</p>\n",
    "\n",
    "</main>\n"
   ]
  },
  {
   "cell_type": "code",
   "execution_count": null,
   "metadata": {},
   "outputs": [],
   "source": []
  }
 ],
 "metadata": {
  "kernelspec": {
   "display_name": ".venv",
   "language": "python",
   "name": "python3"
  },
  "language_info": {
   "codemirror_mode": {
    "name": "ipython",
    "version": 3
   },
   "file_extension": ".py",
   "mimetype": "text/x-python",
   "name": "python",
   "nbconvert_exporter": "python",
   "pygments_lexer": "ipython3",
   "version": "3.12.0"
  }
 },
 "nbformat": 4,
 "nbformat_minor": 2
}
