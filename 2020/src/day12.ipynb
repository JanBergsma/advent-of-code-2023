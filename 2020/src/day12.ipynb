{
 "cells": [
  {
   "cell_type": "code",
   "execution_count": 23,
   "metadata": {},
   "outputs": [],
   "source": [
    "# %matplotlib widget\n",
    "\n",
    "from __future__ import annotations\n",
    "\n",
    "import re\n",
    "from collections import defaultdict\n",
    "from dataclasses import dataclass, field\n",
    "from itertools import permutations, product\n",
    "from math import inf\n",
    "from random import choice\n",
    "\n",
    "import matplotlib.colors as mcolors\n",
    "import matplotlib.pyplot as plt\n",
    "import networkx as nx\n",
    "import numpy as np\n",
    "import numpy.typing as npt\n",
    "from mpl_toolkits.mplot3d import axes3d\n",
    "from numpy import int_, object_\n",
    "from numpy.typing import NDArray\n",
    "from test_utilities import run_tests_params\n",
    "from util import print_hex\n",
    "\n",
    "COLORS = list(mcolors.CSS4_COLORS.keys())"
   ]
  },
  {
   "cell_type": "markdown",
   "metadata": {},
   "source": [
    "<link href=\"style.css\" rel=\"stylesheet\"></link>\n",
    "<article class=\"day-desc read-aloud\"><h2>--- Day 12: Rain Risk ---</h2><p>Your ferry made decent progress toward the island, but the storm came in <span title=\"At least it wasn't a Category Six!\">faster than anyone expected</span>. The ferry needs to take <em>evasive actions</em>!</p>\n",
    "<p>Unfortunately, the ship's navigation computer seems to be malfunctioning; rather than giving a route directly to safety, it produced extremely circuitous instructions. When the captain uses the <a href=\"https://en.wikipedia.org/wiki/Public_address_system\" target=\"_blank\">PA system</a> to ask if anyone can help, you quickly volunteer.</p>\n",
    "<p>The navigation instructions (your puzzle input) consists of a sequence of single-character <em>actions</em> paired with integer input <em>values</em>. After staring at them for a few minutes, you work out what they probably mean:</p>\n",
    "<ul>\n",
    "<li>Action <em><code>N</code></em> means to move <em>north</em> by the given value.</li>\n",
    "<li>Action <em><code>S</code></em> means to move <em>south</em> by the given value.</li>\n",
    "<li>Action <em><code>E</code></em> means to move <em>east</em> by the given value.</li>\n",
    "<li>Action <em><code>W</code></em> means to move <em>west</em> by the given value.</li>\n",
    "<li>Action <em><code>L</code></em> means to turn <em>left</em> the given number of degrees.</li>\n",
    "<li>Action <em><code>R</code></em> means to turn <em>right</em> the given number of degrees.</li>\n",
    "<li>Action <em><code>F</code></em> means to move <em>forward</em> by the given value in the direction the ship is currently facing.</li>\n",
    "</ul>\n",
    "<p>The ship starts by facing <em>east</em>. Only the <code>L</code> and <code>R</code> actions change the direction the ship is facing. (That is, if the ship is facing east and the next instruction is <code>N10</code>, the ship would move north 10 units, but would still move east if the following action were <code>F</code>.)</p>\n",
    "<p>For example:</p>\n",
    "<pre><code>F10\n",
    "N3\n",
    "F7\n",
    "R90\n",
    "F11\n",
    "</code></pre>\n",
    "<p>These instructions would be handled as follows:</p>\n",
    "<ul>\n",
    "<li><code>F10</code> would move the ship 10 units east (because the ship starts by facing east) to <em>east 10, north 0</em>.</li>\n",
    "<li><code>N3</code> would move the ship 3 units north to <em>east 10, north 3</em>.</li>\n",
    "<li><code>F7</code> would move the ship another 7 units east (because the ship is still facing east) to <em>east 17, north 3</em>.</li>\n",
    "<li><code>R90</code> would cause the ship to turn right by 90 degrees and face <em>south</em>; it remains at <em>east 17, north 3</em>.</li>\n",
    "<li><code>F11</code> would move the ship 11 units south to <em>east 17, south 8</em>.</li>\n",
    "</ul>\n",
    "<p>At the end of these instructions, the ship's <a href=\"https://en.wikipedia.org/wiki/Manhattan_distance\" target=\"_blank\">Manhattan distance</a> (sum of the absolute values of its east/west position and its north/south position) from its starting position is <code>17 + 8</code> = <em><code>25</code></em>.</p>\n",
    "<p>Figure out where the navigation instructions lead. <em>What is the Manhattan distance between that location and the ship's starting position?</em></p>\n",
    "</article>\n"
   ]
  },
  {
   "cell_type": "code",
   "execution_count": 24,
   "metadata": {},
   "outputs": [],
   "source": [
    "from math import cos, radians, sin\n",
    "\n",
    "\n",
    "example = \"\"\"\n",
    "F10\n",
    "N3\n",
    "F7\n",
    "R90\n",
    "F11\n",
    "\"\"\"\n",
    "\n",
    "\n",
    "def follow_instructions(s: str) -> float:\n",
    "    instructions = [(l[0], int(l[1:])) for l in s.strip().splitlines()]\n",
    "\n",
    "    north, east = 0, 0\n",
    "    phi = 0\n",
    "\n",
    "    for instruction in instructions:\n",
    "        match instruction:\n",
    "            case (\"N\", value):\n",
    "                north += value\n",
    "            case (\"S\", value):\n",
    "                north -= value\n",
    "            case (\"E\", value):\n",
    "                east += value\n",
    "            case (\"W\", value):\n",
    "                east -= value\n",
    "            case (\"L\", value):\n",
    "                phi = (phi + value) % 360\n",
    "            case (\"R\", value):\n",
    "                phi = (phi - value) % 360\n",
    "            case (\"F\", value):\n",
    "                north += value * int(sin(radians(phi)))\n",
    "                east += value * int(cos(radians(phi)))\n",
    "\n",
    "    return abs(north) + abs(east)\n",
    "\n",
    "\n",
    "assert follow_instructions(example) == 25"
   ]
  },
  {
   "cell_type": "code",
   "execution_count": 25,
   "metadata": {},
   "outputs": [
    {
     "name": "stdout",
     "output_type": "stream",
     "text": [
      "Part I: 439\n"
     ]
    }
   ],
   "source": [
    "with open(\"../input/day12.txt\") as f:\n",
    "    puzzle = f.read()\n",
    "\n",
    "print(f\"Part I: {follow_instructions(puzzle)}\")"
   ]
  },
  {
   "cell_type": "markdown",
   "metadata": {},
   "source": [
    "<link href=\"style.css\" rel=\"stylesheet\"></link>\n",
    "<main>\n",
    "\n",
    "<p>Your puzzle answer was <code>439</code>.</p><p class=\"day-success\">The first half of this puzzle is complete! It provides one gold star: *</p>\n",
    "<article class=\"day-desc\"><h2 id=\"part2\">--- Part Two ---</h2><p>Before you can give the destination to the captain, you realize that the actual action meanings were printed on the back of the instructions the whole time.</p>\n",
    "<p>Almost all of the actions indicate how to move a <em>waypoint</em> which is relative to the ship's position:</p>\n",
    "<ul>\n",
    "<li>Action <em><code>N</code></em> means to move the waypoint <em>north</em> by the given value.</li>\n",
    "<li>Action <em><code>S</code></em> means to move the waypoint <em>south</em> by the given value.</li>\n",
    "<li>Action <em><code>E</code></em> means to move the waypoint <em>east</em> by the given value.</li>\n",
    "<li>Action <em><code>W</code></em> means to move the waypoint <em>west</em> by the given value.</li>\n",
    "<li>Action <em><code>L</code></em> means to rotate the waypoint around the ship <em>left</em> (<em>counter-clockwise</em>) the given number of degrees.</li>\n",
    "<li>Action <em><code>R</code></em> means to rotate the waypoint around the ship <em>right</em> (<em>clockwise</em>) the given number of degrees.</li>\n",
    "<li>Action <em><code>F</code></em> means to move <em>forward</em> to the waypoint a number of times equal to the given value.</li>\n",
    "</ul>\n",
    "<p>The waypoint starts <em>10 units east and 1 unit north</em> relative to the ship. The waypoint is relative to the ship; that is, if the ship moves, the waypoint moves with it.</p>\n",
    "<p>For example, using the same instructions as above:</p>\n",
    "<ul>\n",
    "<li><code>F10</code> moves the ship to the waypoint 10 times (a total of <em>100 units east and 10 units north</em>), leaving the ship at <em>east 100, north 10</em>. The waypoint stays 10 units east and 1 unit north of the ship.</li>\n",
    "<li><code>N3</code> moves the waypoint 3 units north to <em>10 units east and 4 units north of the ship</em>. The ship remains at <em>east 100, north 10</em>.</li>\n",
    "<li><code>F7</code> moves the ship to the waypoint 7 times (a total of <em>70 units east and 28 units north</em>), leaving the ship at <em>east 170, north 38</em>. The waypoint stays 10 units east and 4 units north of the ship.</li>\n",
    "<li><code>R90</code> rotates the waypoint around the ship clockwise 90 degrees, moving it to <em>4 units east and 10 units south of the ship</em>. The ship remains at <em>east 170, north 38</em>.</li>\n",
    "<li><code>F11</code> moves the ship to the waypoint 11 times (a total of <em>44 units east and 110 units south</em>), leaving the ship at <em>east 214, south 72</em>. The waypoint stays 4 units east and 10 units south of the ship.</li>\n",
    "</ul>\n",
    "<p>After these operations, the ship's Manhattan distance from its starting position is <code>214 + 72</code> = <em><code>286</code></em>.</p>\n",
    "<p>Figure out where the navigation instructions actually lead. <em>What is the Manhattan distance between that location and the ship's starting position?</em></p>\n",
    "</article>\n",
    "\n",
    "</main>\n"
   ]
  },
  {
   "cell_type": "code",
   "execution_count": 26,
   "metadata": {},
   "outputs": [],
   "source": [
    "def waypoint(s: str) -> float:\n",
    "    instructions = [(l[0], int(l[1:])) for l in s.strip().splitlines()]\n",
    "\n",
    "    ship_north, ship_east = 0, 0\n",
    "    waypoint_north, waypoint_east = 1, 10\n",
    "\n",
    "    for instruction in instructions:\n",
    "        match instruction:\n",
    "            case (\"N\", value):\n",
    "                waypoint_north += value\n",
    "            case (\"S\", value):\n",
    "                waypoint_north -= value\n",
    "            case (\"E\", value):\n",
    "                waypoint_east += value\n",
    "            case (\"W\", value):\n",
    "                waypoint_east -= value\n",
    "            case (\"L\", value):\n",
    "                waypoint_north, waypoint_east = rotate_waypoint(\n",
    "                    waypoint_north, waypoint_east, value\n",
    "                )\n",
    "\n",
    "            case (\"R\", value):\n",
    "                waypoint_north, waypoint_east = rotate_waypoint(\n",
    "                    waypoint_north, waypoint_east, 360 - value\n",
    "                )\n",
    "\n",
    "            case (\"F\", value):\n",
    "                ship_north += value * waypoint_north\n",
    "                ship_east += value * waypoint_east\n",
    "\n",
    "    return abs(ship_north) + abs(ship_east)\n",
    "\n",
    "\n",
    "def rotate_waypoint(north, east, value):\n",
    "    return (\n",
    "        east * int(sin(radians(value))) + north * int(cos(radians(value))),\n",
    "        east * int(cos(radians(value))) - north * int(sin(radians(value))),\n",
    "    )\n",
    "\n",
    "\n",
    "assert waypoint(example) == 286"
   ]
  },
  {
   "cell_type": "code",
   "execution_count": 27,
   "metadata": {},
   "outputs": [
    {
     "name": "stdout",
     "output_type": "stream",
     "text": [
      "Part II: 12385\n"
     ]
    }
   ],
   "source": [
    "print(f\"Part II: {waypoint(puzzle)}\")"
   ]
  },
  {
   "cell_type": "markdown",
   "metadata": {},
   "source": [
    "<link href=\"style.css\" rel=\"stylesheet\"></link>\n",
    "<main>\n",
    "\n",
    "<p>Your puzzle answer was <code>12385</code>.</p><p class=\"day-success\">Both parts of this puzzle are complete! They provide two gold stars: **</p>\n",
    "\n",
    "</main>\n"
   ]
  },
  {
   "cell_type": "code",
   "execution_count": null,
   "metadata": {},
   "outputs": [],
   "source": []
  }
 ],
 "metadata": {
  "kernelspec": {
   "display_name": ".venv",
   "language": "python",
   "name": "python3"
  },
  "language_info": {
   "codemirror_mode": {
    "name": "ipython",
    "version": 3
   },
   "file_extension": ".py",
   "mimetype": "text/x-python",
   "name": "python",
   "nbconvert_exporter": "python",
   "pygments_lexer": "ipython3",
   "version": "3.12.0"
  }
 },
 "nbformat": 4,
 "nbformat_minor": 2
}
