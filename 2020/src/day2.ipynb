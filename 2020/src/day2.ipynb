{
 "cells": [
  {
   "cell_type": "code",
   "execution_count": 27,
   "metadata": {},
   "outputs": [],
   "source": [
    "# %matplotlib widget\n",
    "\n",
    "from __future__ import annotations\n",
    "\n",
    "import re\n",
    "from collections import defaultdict\n",
    "from dataclasses import dataclass, field\n",
    "from itertools import permutations, product\n",
    "from math import inf\n",
    "from random import choice\n",
    "\n",
    "import matplotlib.colors as mcolors\n",
    "import matplotlib.pyplot as plt\n",
    "import networkx as nx\n",
    "import numpy as np\n",
    "import numpy.typing as npt\n",
    "from mpl_toolkits.mplot3d import axes3d\n",
    "from numpy import int_, object_\n",
    "from numpy.typing import NDArray\n",
    "from test_utilities import run_tests_params\n",
    "from util import print_hex\n",
    "\n",
    "COLORS = list(mcolors.CSS4_COLORS.keys())"
   ]
  },
  {
   "cell_type": "markdown",
   "metadata": {},
   "source": [
    "<link href=\"style.css\" rel=\"stylesheet\"></link>\n",
    "<article class=\"day-desc read-aloud\"><h2>--- Day 1: The Tyranny of the Rocket Equation ---</h2><p>Santa has become stranded at the edge of the Solar System while delivering presents to other planets! To accurately calculate his position in space, safely align his warp drive, and return to Earth in time to save Christmas, he needs you to bring him <span title=\"If only you had time to grab an astrolabe.\">measurements</span> from <em class=\"star\">fifty stars</em>.</p>\n",
    "<p>Collect stars by solving puzzles.  Two puzzles will be made available on each day in the Advent calendar; the second puzzle is unlocked when you complete the first.  Each puzzle grants <em class=\"star\">one star</em>. Good luck!</p>\n",
    "<p>The Elves quickly load you into a spacecraft and prepare to launch.</p>\n",
    "<p>At the first Go / No Go poll, every Elf is Go until the Fuel Counter-Upper.  They haven't determined the amount of fuel required yet.</p>\n",
    "<p>Fuel required to launch a given <em>module</em> is based on its <em>mass</em>.  Specifically, to find the fuel required for a module, take its mass, divide by three, round down, and subtract 2.</p>\n",
    "<p>For example:</p>\n",
    "<ul>\n",
    "<li>For a mass of <code>12</code>, divide by 3 and round down to get <code>4</code>, then subtract 2 to get <code>2</code>.</li>\n",
    "<li>For a mass of <code>14</code>, dividing by 3 and rounding down still yields <code>4</code>, so the fuel required is also <code>2</code>.</li>\n",
    "<li>For a mass of <code>1969</code>, the fuel required is <code>654</code>.</li>\n",
    "<li>For a mass of <code>100756</code>, the fuel required is <code>33583</code>.</li>\n",
    "</ul>\n",
    "<p>The Fuel Counter-Upper needs to know the total fuel requirement.  To find it, individually calculate the fuel needed for the mass of each module (your puzzle input), then add together all the fuel values.</p>\n",
    "<p><em>What is the sum of the fuel requirements</em> for all of the modules on your spacecraft?</p>\n",
    "</article>\n"
   ]
  },
  {
   "cell_type": "code",
   "execution_count": 28,
   "metadata": {},
   "outputs": [
    {
     "name": "stdout",
     "output_type": "stream",
     "text": [
      "\n",
      "\u001b[32mTest Example 1 passed, for fuell.\u001b[0m\n",
      "\u001b[32mTest Example 2 passed, for fuell.\u001b[0m\n",
      "\u001b[32mTest Example 3 passed, for fuell.\u001b[0m\n",
      "\u001b[32mTest Example 4 passed, for fuell.\u001b[0m\n",
      "\u001b[32mSuccess\u001b[0m\n",
      "\n",
      "Example: 34241 should be 34241\n"
     ]
    }
   ],
   "source": [
    "tests = [\n",
    "    {\n",
    "        \"name\": \"Example 1\",\n",
    "        \"mass\": 12,\n",
    "        \"expected\": 2,\n",
    "    },\n",
    "    {\n",
    "        \"name\": \"Example 2\",\n",
    "        \"mass\": 14,\n",
    "        \"expected\": 2,\n",
    "    },\n",
    "    {\n",
    "        \"name\": \"Example 3\",\n",
    "        \"mass\": 1969,\n",
    "        \"expected\": 654,\n",
    "    },\n",
    "    {\n",
    "        \"name\": \"Example 4\",\n",
    "        \"mass\": 100756,\n",
    "        \"expected\": 33583,\n",
    "    },\n",
    "]\n",
    "\n",
    "\n",
    "def fuell(mass: int) -> int:\n",
    "    \"\"\"\n",
    "    Fuel required to launch a given module is based on its mass.\n",
    "    Specifically, to find the fuel required for a module, take its mass,\n",
    "    divide by three, round down, and subtract 2.\n",
    "    \"\"\"\n",
    "    return mass // 3 - 2\n",
    "\n",
    "\n",
    "run_tests_params(fuell, tests)\n",
    "\n",
    "example = \"\"\"\n",
    "12\n",
    "14\n",
    "1969\n",
    "100756\n",
    "\"\"\"\n",
    "\n",
    "\n",
    "def sum_fuell(s: str) -> int:\n",
    "    return sum(fuell(int(l.strip())) for l in s.strip().splitlines())\n",
    "\n",
    "\n",
    "print()\n",
    "print(f\"Example: {sum_fuell(example)} should be {2 + 2 + 654 + 33583}\")"
   ]
  },
  {
   "cell_type": "code",
   "execution_count": 29,
   "metadata": {},
   "outputs": [
    {
     "name": "stdout",
     "output_type": "stream",
     "text": [
      "Part I: 3270338\n"
     ]
    }
   ],
   "source": [
    "with open(\"../input/day1.txt\") as f:\n",
    "    puzzle = f.read()\n",
    "\n",
    "print(f\"Part I: {sum_fuell(puzzle)}\")"
   ]
  },
  {
   "cell_type": "markdown",
   "metadata": {},
   "source": [
    "<link href=\"style.css\" rel=\"stylesheet\"></link>\n",
    "<main>\n",
    "\n",
    "<p>Your puzzle answer was <code>3270338</code>.</p><p class=\"day-success\">The first half of this puzzle is complete! It provides one gold star: *</p>\n",
    "<article class=\"day-desc\"><h2 id=\"part2\">--- Part Two ---</h2><p>During the second Go / No Go poll, the Elf in charge of the Rocket Equation Double-Checker stops the launch sequence.  Apparently, you forgot to include additional fuel for the fuel you just added.</p>\n",
    "<p>Fuel itself requires fuel just like a module - take its mass, divide by three, round down, and subtract 2.  However, that fuel <em>also</em> requires fuel, and <em>that</em> fuel requires fuel, and so on.  Any mass that would require <em>negative fuel</em> should instead be treated as if it requires <em>zero fuel</em>; the remaining mass, if any, is instead handled by <em>wishing really hard</em>, which has no mass and is outside the scope of this calculation.</p>\n",
    "<p>So, for each module mass, calculate its fuel and add it to the total.  Then, treat the fuel amount you just calculated as the input mass and repeat the process, continuing until a fuel requirement is zero or negative. For example:</p>\n",
    "<ul>\n",
    "<li>A module of mass <code>14</code> requires <code>2</code> fuel.  This fuel requires no further fuel (2 divided by 3 and rounded down is <code>0</code>, which would call for a negative fuel), so the total fuel required is still just <code>2</code>.</li>\n",
    "<li>At first, a module of mass <code>1969</code> requires <code>654</code> fuel.  Then, this fuel requires <code>216</code> more fuel (<code>654 / 3 - 2</code>).  <code>216</code> then requires <code>70</code> more fuel, which requires <code>21</code> fuel, which requires <code>5</code> fuel, which requires no further fuel.  So, the total fuel required for a module of mass <code>1969</code> is <code>654 + 216 + 70 + 21 + 5 = 966</code>.</li>\n",
    "<li>The fuel required by a module of mass <code>100756</code> and its fuel is: <code>33583 + 11192 + 3728 + 1240 + 411 + 135 + 43 + 12 + 2 = 50346</code>.</li>\n",
    "</ul>\n",
    "<p><em>What is the sum of the fuel requirements</em> for all of the modules on your spacecraft when also taking into account the mass of the added fuel? (Calculate the fuel requirements for each module separately, then add them all up at the end.)</p>\n",
    "</article>\n",
    "\n",
    "</main>\n"
   ]
  },
  {
   "cell_type": "code",
   "execution_count": 30,
   "metadata": {},
   "outputs": [
    {
     "name": "stdout",
     "output_type": "stream",
     "text": [
      "\n",
      "\u001b[32mTest Example 1 passed, for fuell_total.\u001b[0m\n",
      "\u001b[32mTest Example 2 passed, for fuell_total.\u001b[0m\n",
      "\u001b[32mTest Example 3 passed, for fuell_total.\u001b[0m\n",
      "\u001b[32mTest Example 4 passed, for fuell_total.\u001b[0m\n",
      "\u001b[32mSuccess\u001b[0m\n",
      "\n",
      "Example: 51316 should be 51316\n"
     ]
    }
   ],
   "source": [
    "tests = [\n",
    "    {\n",
    "        \"name\": \"Example 1\",\n",
    "        \"mass\": 12,\n",
    "        \"expected\": 2,\n",
    "    },\n",
    "    {\n",
    "        \"name\": \"Example 2\",\n",
    "        \"mass\": 14,\n",
    "        \"expected\": 2,\n",
    "    },\n",
    "    {\n",
    "        \"name\": \"Example 3\",\n",
    "        \"mass\": 1969,\n",
    "        \"expected\": 966,\n",
    "    },\n",
    "    {\n",
    "        \"name\": \"Example 4\",\n",
    "        \"mass\": 100756,\n",
    "        \"expected\": 50346,\n",
    "    },\n",
    "]\n",
    "\n",
    "\n",
    "def fuell_total(mass: int) -> int:\n",
    "    total_fuell = 0\n",
    "    mass = fuell(mass)\n",
    "\n",
    "    while mass > 0:\n",
    "        total_fuell += mass\n",
    "        mass = fuell(mass)\n",
    "\n",
    "    return total_fuell\n",
    "\n",
    "\n",
    "run_tests_params(fuell_total, tests)\n",
    "\n",
    "example = \"\"\"\n",
    "12\n",
    "14\n",
    "1969\n",
    "100756\n",
    "\"\"\"\n",
    "\n",
    "\n",
    "def sum_total_fuell(s: str) -> int:\n",
    "    return sum(fuell_total(int(l.strip())) for l in s.strip().splitlines())\n",
    "\n",
    "\n",
    "print()\n",
    "print(f\"Example: {sum_total_fuell(example)} should be {2 + 2 + 966 + 50346}\")"
   ]
  },
  {
   "cell_type": "code",
   "execution_count": 31,
   "metadata": {},
   "outputs": [
    {
     "name": "stdout",
     "output_type": "stream",
     "text": [
      "Part II: 4902650\n"
     ]
    }
   ],
   "source": [
    "print(f\"Part II: {sum_total_fuell(puzzle)}\")"
   ]
  },
  {
   "cell_type": "markdown",
   "metadata": {},
   "source": [
    "<link href=\"style.css\" rel=\"stylesheet\"></link>\n",
    "<main>\n",
    "\n",
    "<p>Your puzzle answer was <code>4902650</code>.</p><p class=\"day-success\">Both parts of this puzzle are complete! They provide two gold stars: **</p>\n",
    "\n",
    "</main>\n"
   ]
  },
  {
   "cell_type": "code",
   "execution_count": null,
   "metadata": {},
   "outputs": [],
   "source": []
  },
  {
   "cell_type": "code",
   "execution_count": null,
   "metadata": {},
   "outputs": [],
   "source": []
  }
 ],
 "metadata": {
  "kernelspec": {
   "display_name": ".venv",
   "language": "python",
   "name": "python3"
  },
  "language_info": {
   "codemirror_mode": {
    "name": "ipython",
    "version": 3
   },
   "file_extension": ".py",
   "mimetype": "text/x-python",
   "name": "python",
   "nbconvert_exporter": "python",
   "pygments_lexer": "ipython3",
   "version": "3.12.4"
  }
 },
 "nbformat": 4,
 "nbformat_minor": 2
}
