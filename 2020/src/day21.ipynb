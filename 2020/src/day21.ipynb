{
 "cells": [
  {
   "cell_type": "code",
   "execution_count": 34,
   "metadata": {},
   "outputs": [],
   "source": [
    "# %matplotlib widget\n",
    "\n",
    "from __future__ import annotations\n",
    "\n",
    "import re\n",
    "from collections import defaultdict\n",
    "from dataclasses import dataclass, field\n",
    "from itertools import permutations, product\n",
    "from math import inf\n",
    "from random import choice\n",
    "\n",
    "import matplotlib.colors as mcolors\n",
    "import matplotlib.pyplot as plt\n",
    "import networkx as nx\n",
    "import numpy as np\n",
    "import numpy.typing as npt\n",
    "from mpl_toolkits.mplot3d import axes3d\n",
    "from numpy import int_, object_\n",
    "from numpy.typing import NDArray\n",
    "from test_utilities import run_tests_params\n",
    "from util import print_hex\n",
    "\n",
    "COLORS = list(mcolors.CSS4_COLORS.keys())"
   ]
  },
  {
   "cell_type": "markdown",
   "metadata": {},
   "source": [
    "<link href=\"style.css\" rel=\"stylesheet\"></link>\n",
    "<article class=\"day-desc read-aloud\"><h2>--- Day 21: Allergen Assessment ---</h2><p>You reach the train's last stop and the closest you can get to your vacation island without getting wet. There aren't even any boats here, but nothing can stop you now: you build a raft. You just need a few days' worth of food for your journey.</p>\n",
    "<p>You don't speak the local language, so you can't read any ingredients lists. However, sometimes, allergens are listed in a language you <em>do</em> understand. You should be able to use this information to determine which ingredient contains which allergen and <span title=\"I actually considered doing this once. I do not recommend it.\">work out which foods are safe</span> to take with you on your trip.</p>\n",
    "<p>You start by compiling a list of foods (your puzzle input), one food per line. Each line includes that food's <em>ingredients list</em> followed by some or all of the allergens the food contains.</p>\n",
    "<p>Each allergen is found in exactly one ingredient. Each ingredient contains zero or one allergen. <em>Allergens aren't always marked</em>; when they're listed (as in <code>(contains nuts, shellfish)</code> after an ingredients list), the ingredient that contains each listed allergen will be <em>somewhere in the corresponding ingredients list</em>. However, even if an allergen isn't listed, the ingredient that contains that allergen could still be present: maybe they forgot to label it, or maybe it was labeled in a language you don't know.</p>\n",
    "<p>For example, consider the following list of foods:</p>\n",
    "<pre><code>mxmxvkd kfcds sqjhc nhms (contains dairy, fish)\n",
    "trh fvjkl sbzzf mxmxvkd (contains dairy)\n",
    "sqjhc fvjkl (contains soy)\n",
    "sqjhc mxmxvkd sbzzf (contains fish)\n",
    "</code></pre>\n",
    "<p>The first food in the list has four ingredients (written in a language you don't understand): <code>mxmxvkd</code>, <code>kfcds</code>, <code>sqjhc</code>, and <code>nhms</code>. While the food might contain other allergens, a few allergens the food definitely contains are listed afterward: <code>dairy</code> and <code>fish</code>.</p>\n",
    "<p>The first step is to determine which ingredients <em>can't possibly</em> contain any of the allergens in any food in your list. In the above example, none of the ingredients <code>kfcds</code>, <code>nhms</code>, <code>sbzzf</code>, or <code>trh</code> can contain an allergen. Counting the number of times any of these ingredients appear in any ingredients list produces <em><code>5</code></em>: they all appear once each except <code>sbzzf</code>, which appears twice.</p>\n",
    "<p>Determine which ingredients cannot possibly contain any of the allergens in your list. <em>How many times do any of those ingredients appear?</em></p>\n",
    "</article>\n"
   ]
  },
  {
   "cell_type": "code",
   "execution_count": 35,
   "metadata": {},
   "outputs": [],
   "source": [
    "from collections import Counter\n",
    "from copy import copy, deepcopy\n",
    "from functools import reduce\n",
    "from pprint import pprint\n",
    "\n",
    "\n",
    "example = \"\"\"\n",
    "mxmxvkd kfcds sqjhc nhms (contains dairy, fish)\n",
    "trh fvjkl sbzzf mxmxvkd (contains dairy)\n",
    "sqjhc fvjkl (contains soy)\n",
    "sqjhc mxmxvkd sbzzf (contains fish)\n",
    "\"\"\"\n",
    "\n",
    "\n",
    "def ingredients_without_allergens(s: str) -> int:\n",
    "    allergens_possible_candidates = {}\n",
    "    all_ingredients = Counter()\n",
    "\n",
    "    for line in s.strip().splitlines():\n",
    "        ingredients, allergens = re.split(r\"\\s*\\(contains\\s*\", line)\n",
    "        ingredients = re.split(r\"\\s+\", ingredients)\n",
    "        allergens = re.split(r\"\\s*,\\s+\", allergens[:-1])\n",
    "\n",
    "        all_ingredients += Counter(ingredients)\n",
    "\n",
    "        for allergen in allergens:\n",
    "            if allergen not in allergens_possible_candidates:\n",
    "                allergens_possible_candidates[allergen] = set(ingredients)\n",
    "            else:\n",
    "                allergens_possible_candidates[allergen] &= set(ingredients)\n",
    "\n",
    "    non_allegergent_ingredients = reduce(\n",
    "        lambda acc, el: acc | el, allergens_possible_candidates.values(), set()\n",
    "    )\n",
    "\n",
    "    return sum(\n",
    "        v for k, v in all_ingredients.items() if k not in non_allegergent_ingredients\n",
    "    )\n",
    "\n",
    "\n",
    "assert ingredients_without_allergens(example) == 5"
   ]
  },
  {
   "cell_type": "code",
   "execution_count": 36,
   "metadata": {},
   "outputs": [
    {
     "data": {
      "text/plain": [
       "1958"
      ]
     },
     "execution_count": 36,
     "metadata": {},
     "output_type": "execute_result"
    }
   ],
   "source": [
    "with open(\"../input/day21.txt\") as f:\n",
    "    puzzle = f.read()\n",
    "\n",
    "# print(\n",
    "#     f\"Part I: {how_many_bag_colors_can_eventually_contain_at_least_one_shiny_gold_bag(puzzle)}\"\n",
    "# )\n",
    "\n",
    "ingredients_without_allergens(puzzle)  # 192 too low"
   ]
  },
  {
   "cell_type": "markdown",
   "metadata": {},
   "source": [
    "<link href=\"style.css\" rel=\"stylesheet\"></link>\n",
    "<main>\n",
    "\n",
    "<p>Your puzzle answer was <code>1958</code>.</p><p class=\"day-success\">The first half of this puzzle is complete! It provides one gold star: *</p>\n",
    "<article class=\"day-desc\"><h2 id=\"part2\">--- Part Two ---</h2><p>Now that you've isolated the inert ingredients, you should have enough information to figure out which ingredient contains which allergen.</p>\n",
    "<p>In the above example:</p>\n",
    "<ul>\n",
    "<li><code>mxmxvkd</code> contains <code>dairy</code>.</li>\n",
    "<li><code>sqjhc</code> contains <code>fish</code>.</li>\n",
    "<li><code>fvjkl</code> contains <code>soy</code>.</li>\n",
    "</ul>\n",
    "<p>Arrange the ingredients <em>alphabetically by their allergen</em> and separate them by commas to produce your <em>canonical dangerous ingredient list</em>. (There should <em>not be any spaces</em> in your canonical dangerous ingredient list.) In the above example, this would be <em><code>mxmxvkd,sqjhc,fvjkl</code></em>.</p>\n",
    "<p>Time to stock your raft with supplies. <em>What is your canonical dangerous ingredient list?</em></p>\n",
    "</article>\n",
    "\n",
    "</main>\n"
   ]
  },
  {
   "cell_type": "code",
   "execution_count": 37,
   "metadata": {},
   "outputs": [],
   "source": [
    "from more_itertools import first, one\n",
    "\n",
    "\n",
    "def get_allergens_possible_candidates(s):\n",
    "    allergens_possible_candidates = {}\n",
    "\n",
    "    for line in s.strip().splitlines():\n",
    "        ingredients, allergens = re.split(r\"\\s*\\(contains\\s*\", line)\n",
    "        ingredients = re.split(r\"\\s+\", ingredients)\n",
    "        allergens = re.split(r\"\\s*,\\s+\", allergens[:-1])\n",
    "\n",
    "        for allergen in allergens:\n",
    "            if allergen not in allergens_possible_candidates:\n",
    "                allergens_possible_candidates[allergen] = set(ingredients)\n",
    "            else:\n",
    "                allergens_possible_candidates[allergen] &= set(ingredients)\n",
    "\n",
    "    return allergens_possible_candidates\n",
    "\n",
    "\n",
    "def get_first_canonical_element(allergens_possible_candidates):\n",
    "    alergen, cononical_element = first(\n",
    "        ((k, v) for k, v in allergens_possible_candidates.items() if len(v) == 1),\n",
    "        (None, None),\n",
    "    )\n",
    "    if cononical_element is None:\n",
    "        return (None, None)\n",
    "    return alergen, one(cononical_element)\n",
    "\n",
    "\n",
    "def canonical_dangerous_ingredient_list(s: str) -> int:\n",
    "    allergens_possible_candidates = get_allergens_possible_candidates(s)\n",
    "\n",
    "    canonical_dangerous_ingredients = []\n",
    "    cononical_alergen, cononical_ingredient = get_first_canonical_element(\n",
    "        allergens_possible_candidates\n",
    "    )\n",
    "\n",
    "    while cononical_ingredient is not None:\n",
    "        canonical_dangerous_ingredients.append(\n",
    "            (cononical_alergen, cononical_ingredient)\n",
    "        )\n",
    "        del allergens_possible_candidates[cononical_alergen]\n",
    "\n",
    "        for allergen in list(allergens_possible_candidates.keys()):\n",
    "            allergens_possible_candidates[allergen].discard(cononical_ingredient)\n",
    "\n",
    "        cononical_alergen, cononical_ingredient = get_first_canonical_element(\n",
    "            allergens_possible_candidates\n",
    "        )\n",
    "\n",
    "    return \",\".join(i for _, i in sorted(canonical_dangerous_ingredients))\n",
    "\n",
    "\n",
    "assert canonical_dangerous_ingredient_list(example) == \"mxmxvkd,sqjhc,fvjkl\""
   ]
  },
  {
   "cell_type": "code",
   "execution_count": 38,
   "metadata": {},
   "outputs": [
    {
     "name": "stdout",
     "output_type": "stream",
     "text": [
      "Part II: xxscc,mjmqst,gzxnc,vvqj,trnnvn,gbcjqbm,dllbjr,nckqzsg\n"
     ]
    }
   ],
   "source": [
    "print(f\"Part II: {canonical_dangerous_ingredient_list(puzzle)}\")"
   ]
  },
  {
   "cell_type": "markdown",
   "metadata": {},
   "source": [
    "<link href=\"style.css\" rel=\"stylesheet\"></link>\n",
    "<main>\n",
    "\n",
    "<p>Your puzzle answer was <code>xxscc,mjmqst,gzxnc,vvqj,trnnvn,gbcjqbm,dllbjr,nckqzsg</code>.</p><p class=\"day-success\">Both parts of this puzzle are complete! They provide two gold stars: **</p>\n",
    "\n",
    "</main>\n"
   ]
  },
  {
   "cell_type": "code",
   "execution_count": null,
   "metadata": {},
   "outputs": [],
   "source": []
  }
 ],
 "metadata": {
  "kernelspec": {
   "display_name": ".venv",
   "language": "python",
   "name": "python3"
  },
  "language_info": {
   "codemirror_mode": {
    "name": "ipython",
    "version": 3
   },
   "file_extension": ".py",
   "mimetype": "text/x-python",
   "name": "python",
   "nbconvert_exporter": "python",
   "pygments_lexer": "ipython3",
   "version": "3.12.0"
  }
 },
 "nbformat": 4,
 "nbformat_minor": 2
}
