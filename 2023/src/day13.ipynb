{
  "cells": [
    {
      "cell_type": "code",
      "execution_count": 1,
      "metadata": {},
      "outputs": [],
      "source": [
        "import re"
      ]
    },
    {
      "cell_type": "markdown",
      "metadata": {},
      "source": [
        "<link href=\"style.css\" rel=\"stylesheet\"></link>\n",
        "<main>\n",
        "<article class=\"day-desc\"><h2>--- Day 13: Point of Incidence ---</h2><p>With your help, the hot springs team locates an appropriate spring which launches you neatly and precisely up to the edge of <em>Lava Island</em>.</p>\n",
        "<p>There's just one problem: you don't see any <em>lava</em>.</p>\n",
        "<p>You <em>do</em> see a lot of ash and igneous rock; there are even what look like gray mountains scattered around. After a while, you make your way to a nearby cluster of mountains only to discover that the valley between them is completely full of large <em>mirrors</em>.  Most of the mirrors seem to be aligned in a consistent way; perhaps you should head in that direction?</p>\n",
        "<p>As you move through the valley of mirrors, you find that several of them have fallen from the large metal frames keeping them in place. The mirrors are extremely flat and shiny, and many of the fallen mirrors have lodged into the ash at strange angles. Because the terrain is all one color, it's hard to tell where it's safe to walk or where you're about to run into a mirror.</p>\n",
        "<p>You note down the patterns of ash (<code>.</code>) and rocks (<code>#</code>) that you see as you walk (your puzzle input); perhaps by carefully analyzing these patterns, you can figure out where the mirrors are!</p>\n",
        "<p>For example:</p>\n",
        "<pre><code>#.##..##.\n",
        "..#.##.#.\n",
        "##......#\n",
        "##......#\n",
        "..#.##.#.\n",
        "..##..##.\n",
        "#.#.##.#.\n",
        "\n",
        "#...##..#\n",
        "#....#..#\n",
        "..##..###\n",
        "#####.##.\n",
        "#####.##.\n",
        "..##..###\n",
        "#....#..#\n",
        "</code></pre>\n",
        "\n",
        "<p>To find the reflection in each pattern, you need to find a perfect reflection across either a horizontal line between two rows or across a vertical line between two columns.</p>\n",
        "<p>In the first pattern, the reflection is across a vertical line between two columns; arrows on each of the two columns point at the line between the columns:</p>\n",
        "<pre><code>123456789\n",
        "    &gt;&lt;   \n",
        "#.##..##.\n",
        "..#.##.#.\n",
        "##......#\n",
        "##......#\n",
        "..#.##.#.\n",
        "..##..##.\n",
        "#.#.##.#.\n",
        "    &gt;&lt;   \n",
        "123456789\n",
        "</code></pre>\n",
        "<p>In this pattern, the line of reflection is the vertical line between columns 5 and 6. Because the vertical line is not perfectly in the middle of the pattern, part of the pattern (column 1) has nowhere to reflect onto and can be ignored; every other column has a reflected column within the pattern and must match exactly: column 2 matches column 9, column 3 matches 8, 4 matches 7, and 5 matches 6.</p>\n",
        "<p>The second pattern reflects across a horizontal line instead:</p>\n",
        "<pre><code>1 #...##..# 1\n",
        "2 #....#..# 2\n",
        "3 ..##..### 3\n",
        "4v#####.##.v4\n",
        "5^#####.##.^5\n",
        "6 ..##..### 6\n",
        "7 #....#..# 7\n",
        "</code></pre>\n",
        "<p>This pattern reflects across the horizontal line between rows 4 and 5. Row 1 would reflect with a hypothetical row 8, but since that's not in the pattern, row 1 doesn't need to match anything. The remaining rows match: row 2 matches row 7, row 3 matches row 6, and row 4 matches row 5.</p>\n",
        "<p>To <em>summarize</em> your pattern notes, add up <em>the number of columns</em> to the left of each vertical line of reflection; to that, also add <em>100 multiplied by the number of rows</em> above each horizontal line of reflection. In the above example, the first pattern's vertical line has <code>5</code> columns to its left and the second pattern's horizontal line has <code>4</code> rows above it, a total of <code><em>405</em></code>.</p>\n",
        "<p>Find the line of reflection in each of the patterns in your notes. <em>What number do you get after summarizing all of your notes?</em></p>\n",
        "</article>\n",
        "<p>To begin, <a href=\"13/input\" target=\"_blank\">get your puzzle input</a>.</p>\n",
        "\n",
        "<p>You can also <span class=\"share\">[Share<span class=\"share-content\">on\n",
        "  <a href=\"https://twitter.com/intent/tweet?text=%22Point+of+Incidence%22+%2D+Day+13+%2D+Advent+of+Code+2023&amp;url=https%3A%2F%2Fadventofcode%2Ecom%2F2023%2Fday%2F13&amp;related=ericwastl&amp;hashtags=AdventOfCode\" target=\"_blank\">Twitter</a>\n",
        "  <a href=\"javascript:void(0);\" onclick=\"var ms; try{ms=localStorage.getItem('mastodon.server')}finally{} if(typeof ms!=='string')ms=''; ms=prompt('Mastodon Server?',ms); if(typeof ms==='string' &amp;&amp; ms.length){this.href='https://'+ms+'/share?text=%22Point+of+Incidence%22+%2D+Day+13+%2D+Advent+of+Code+2023+%23AdventOfCode+https%3A%2F%2Fadventofcode%2Ecom%2F2023%2Fday%2F13';try{localStorage.setItem('mastodon.server',ms);}finally{}}else{return false;}\" target=\"_blank\">Mastodon</a></span>]</span> this puzzle.</p>\n",
        "</main>\n"
      ]
    },
    {
      "cell_type": "code",
      "execution_count": 2,
      "metadata": {},
      "outputs": [],
      "source": [
        "s = \"\"\"\n",
        "#.##..##.\n",
        "..#.##.#.\n",
        "##......#\n",
        "##......#\n",
        "..#.##.#.\n",
        "..##..##.\n",
        "#.#.##.#.\n",
        "\n",
        "#...##..#\n",
        "#....#..#\n",
        "..##..###\n",
        "#####.##.\n",
        "#####.##.\n",
        "..##..###\n",
        "#....#..#\n",
        "\"\"\""
      ]
    },
    {
      "cell_type": "code",
      "execution_count": 3,
      "metadata": {},
      "outputs": [
        {
          "ename": "SyntaxError",
          "evalue": "invalid decimal literal (2741350708.py, line 1)",
          "output_type": "error",
          "traceback": [
            "\u001b[0;36m  Cell \u001b[0;32mIn[3], line 1\u001b[0;36m\u001b[0m\n\u001b[0;31m    assert summerize(s) == 405def transpose(matrix):\u001b[0m\n\u001b[0m                             ^\u001b[0m\n\u001b[0;31mSyntaxError\u001b[0m\u001b[0;31m:\u001b[0m invalid decimal literal\n"
          ]
        }
      ],
      "source": [
        "assert summerize(s) == 405def transpose(matrix):\n",
        "    \"Swap the rows and columns of a 2-D matrix.\"\n",
        "    return list(zip(*matrix, strict=True))\n",
        "\n",
        "\n",
        "def reflects_around_line(matrix, row):\n",
        "    above, under = row - 1, row\n",
        "    while above > -1 and under < len(matrix):\n",
        "        if matrix[above] != matrix[under]:\n",
        "            return False\n",
        "        above -= 1\n",
        "        under += 1\n",
        "    return True\n",
        "\n",
        "\n",
        "def reflect(matrix):\n",
        "    n = len(matrix)\n",
        "    return sum((row for row in range(n) if reflects_around_line(matrix, row)), start=0)\n",
        "\n",
        "\n",
        "matrici = [list(m.splitlines()) for m in re.split(r\"\\n\\s*\\n\", s.strip())]\n",
        "\n",
        "assert reflect(matrici[0]) == 0\n",
        "assert reflect(transpose(matrici[0])) == 5\n",
        "assert reflect(matrici[1]) == 4\n",
        "assert reflect(transpose(matrici[1])) == 0\n",
        "\n",
        "\n",
        "def summerize(s: str) -> int:\n",
        "    return sum(\n",
        "        100 * reflect(m) or reflect(transpose(m))\n",
        "        for m in [list(m.splitlines()) for m in re.split(r\"\\n\\s*\\n\", s.strip())]\n",
        "    )\n",
        "\n",
        "\n"
      ]
    },
    {
      "cell_type": "code",
      "execution_count": null,
      "metadata": {},
      "outputs": [
        {
          "name": "stdout",
          "output_type": "stream",
          "text": [
            "35232\n"
          ]
        }
      ],
      "source": [
        "with open(\"../input/day13.txt\") as f:\n",
        "    print(summerize(f.read()))"
      ]
    },
    {
      "cell_type": "markdown",
      "metadata": {},
      "source": [
        "<link href=\"style.css\" rel=\"stylesheet\"></link>\n",
        "\n",
        "<main>\n",
        "\n",
        "<p>Your puzzle answer was <code>35232</code>.</p><p class=\"day-success\">The first half of this puzzle is complete! It provides one gold star: *</p>\n",
        "<article class=\"day-desc\"><h2 id=\"part2\">--- Part Two ---</h2><p>You resume walking through the valley of mirrors and - <em>SMACK!</em> - run directly into one. Hopefully <span title=\"Sorry, Nobody saw that.\">nobody</span> was watching, because that must have been pretty embarrassing.</p>\n",
        "<p>Upon closer inspection, you discover that every mirror has exactly one <em>smudge</em>: exactly one <code>.</code> or <code>#</code> should be the opposite type.</p>\n",
        "<p>In each pattern, you'll need to locate and fix the smudge that causes a <em>different reflection line</em> to be valid. (The old reflection line won't necessarily continue being valid after the smudge is fixed.)</p>\n",
        "<p>Here's the above example again:</p>\n",
        "<pre><code>#.##..##.\n",
        "..#.##.#.\n",
        "##......#\n",
        "##......#\n",
        "..#.##.#.\n",
        "..##..##.\n",
        "#.#.##.#.\n",
        "\n",
        "#...##..#\n",
        "#....#..#\n",
        "..##..###\n",
        "#####.##.\n",
        "#####.##.\n",
        "..##..###\n",
        "#....#..#\n",
        "</code></pre>\n",
        "\n",
        "<p>The first pattern's smudge is in the top-left corner. If the top-left <code>#</code> were instead <code>.</code>, it would have a different, horizontal line of reflection:</p>\n",
        "<pre><code>1 ..##..##. 1\n",
        "2 ..#.##.#. 2\n",
        "3v##......#v3\n",
        "4^##......#^4\n",
        "5 ..#.##.#. 5\n",
        "6 ..##..##. 6\n",
        "7 #.#.##.#. 7\n",
        "</code></pre>\n",
        "<p>With the smudge in the top-left corner repaired, a new horizontal line of reflection between rows 3 and 4 now exists. Row 7 has no corresponding reflected row and can be ignored, but every other row matches exactly: row 1 matches row 6, row 2 matches row 5, and row 3 matches row 4.</p>\n",
        "<p>In the second pattern, the smudge can be fixed by changing the fifth symbol on row 2 from <code>.</code> to <code>#</code>:</p>\n",
        "<pre><code>1v#...##..#v1\n",
        "2^#...##..#^2\n",
        "3 ..##..### 3\n",
        "4 #####.##. 4\n",
        "5 #####.##. 5\n",
        "6 ..##..### 6\n",
        "7 #....#..# 7\n",
        "</code></pre>\n",
        "<p>Now, the pattern has a different horizontal line of reflection between rows 1 and 2.</p>\n",
        "<p>Summarize your notes as before, but instead use the new different reflection lines. In this example, the first pattern's new horizontal line has 3 rows above it and the second pattern's new horizontal line has 1 row above it, summarizing to the value <code><em>400</em></code>.</p>\n",
        "<p>In each pattern, fix the smudge and find the different line of reflection. <em>What number do you get after summarizing the new reflection line in each pattern in your notes?</em></p>\n",
        "</article>\n",
        "\n",
        "</main>\n"
      ]
    },
    {
      "cell_type": "code",
      "execution_count": null,
      "metadata": {},
      "outputs": [],
      "source": [
        "def transpose(matrix):\n",
        "    \"Swap the rows and columns of a 2-D matrix.\"\n",
        "    return list(zip(*matrix, strict=True))\n",
        "\n",
        "\n",
        "def reflects_around_line(matrix, row):\n",
        "    above, under = row - 1, row\n",
        "    errors = 0\n",
        "    while above > -1 and under < len(matrix):\n",
        "        if matrix[above] != matrix[under]:\n",
        "            errors += sum(a != u for a, u in zip(matrix[above], matrix[under]))\n",
        "            if errors > 1:\n",
        "                return False\n",
        "        above -= 1\n",
        "        under += 1\n",
        "    return errors == 1\n",
        "\n",
        "\n",
        "def reflect(matrix):\n",
        "    return sum(\n",
        "        (row for row in range(len(matrix)) if reflects_around_line(matrix, row)),\n",
        "        start=0,\n",
        "    )\n",
        "\n",
        "\n",
        "def summerize(s: str) -> int:\n",
        "    return sum(\n",
        "        100 * reflect(m) or reflect(transpose(m))\n",
        "        for m in [list(m.splitlines()) for m in re.split(r\"\\n\\s*\\n\", s.strip())]\n",
        "    )\n",
        "\n",
        "\n",
        "matrici = [[list(l) for l in m.splitlines()] for m in re.split(r\"\\n\\s*\\n\", s.strip())]\n",
        "\n",
        "assert reflect(matrici[0]) == 3\n",
        "assert reflect(matrici[1]) == 1\n",
        "# print(reflect(matrici[0]), 300)\n",
        "# print(reflect(matrici[1]), 100)\n",
        "\n",
        "\n",
        "assert summerize(s) == 400"
      ]
    },
    {
      "cell_type": "code",
      "execution_count": null,
      "metadata": {},
      "outputs": [
        {
          "name": "stdout",
          "output_type": "stream",
          "text": [
            "37982\n"
          ]
        }
      ],
      "source": [
        "with open(\"../input/day13.txt\") as f:\n",
        "    print(summerize(f.read()))\n",
        "# 30739 < answer < 44025"
      ]
    },
    {
      "cell_type": "markdown",
      "metadata": {},
      "source": [
        "<link href=\"style.css\" rel=\"stylesheet\"></link>\n",
        "<main>\n",
        "\n",
        "<p>Your puzzle answer was <code>37982</code>.</p><p class=\"day-success\">Both parts of this puzzle are complete! They provide two gold stars: **</p>\n",
        "<p>At this point, you should <a href=\"/2023\">return to your Advent calendar</a> and try another puzzle.</p>\n",
        "<p>If you still want to see it, you can <a href=\"13/input\" target=\"_blank\">get your puzzle input</a>.</p>\n",
        "<p>You can also <span class=\"share\">[Share<span class=\"share-content\">on\n",
        "  <a href=\"https://twitter.com/intent/tweet?text=I%27ve+completed+%22Point+of+Incidence%22+%2D+Day+13+%2D+Advent+of+Code+2023&amp;url=https%3A%2F%2Fadventofcode%2Ecom%2F2023%2Fday%2F13&amp;related=ericwastl&amp;hashtags=AdventOfCode\" target=\"_blank\">Twitter</a>\n",
        "  <a href=\"javascript:void(0);\" onclick=\"var ms; try{ms=localStorage.getItem('mastodon.server')}finally{} if(typeof ms!=='string')ms=''; ms=prompt('Mastodon Server?',ms); if(typeof ms==='string' &amp;&amp; ms.length){this.href='https://'+ms+'/share?text=I%27ve+completed+%22Point+of+Incidence%22+%2D+Day+13+%2D+Advent+of+Code+2023+%23AdventOfCode+https%3A%2F%2Fadventofcode%2Ecom%2F2023%2Fday%2F13';try{localStorage.setItem('mastodon.server',ms);}finally{}}else{return false;}\" target=\"_blank\">Mastodon</a></span>]</span> this puzzle.</p>\n",
        "</main>\n"
      ]
    },
    {
      "cell_type": "code",
      "execution_count": null,
      "metadata": {},
      "outputs": [],
      "source": []
    }
  ],
  "metadata": {
    "kernelspec": {
      "display_name": ".venv",
      "language": "python",
      "name": "python3"
    },
    "language_info": {
      "codemirror_mode": {
        "name": "ipython",
        "version": 3
      },
      "file_extension": ".py",
      "mimetype": "text/x-python",
      "name": "python",
      "nbconvert_exporter": "python",
      "pygments_lexer": "ipython3",
      "version": "3.12.0"
    }
  },
  "nbformat": 4,
  "nbformat_minor": 2
}
