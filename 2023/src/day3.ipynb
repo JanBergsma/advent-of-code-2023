{
  "cells": [
    {
      "cell_type": "code",
      "execution_count": 15,
      "metadata": {},
      "outputs": [],
      "source": [
        "import re"
      ]
    },
    {
      "cell_type": "markdown",
      "metadata": {},
      "source": [
        "<link href=\"style.css\" rel=\"stylesheet\"></link>\n",
        "\n",
        "<article class=\"day-desc\"><h2>--- Day 3: Gear Ratios ---</h2><p>You and the Elf eventually reach a <a href=\"https://en.wikipedia.org/wiki/Gondola_lift\" target=\"_blank\">gondola lift</a> station; he says the gondola lift will take you up to the <em>water source</em>, but this is as far as he can bring you. You go inside.</p>\n",
        "<p>It doesn't take long to find the gondolas, but there seems to be a problem: they're not moving.</p>\n",
        "<p>\"Aaah!\"</p>\n",
        "<p>You turn around to see a slightly-greasy Elf with a wrench and a look of surprise. \"Sorry, I wasn't expecting anyone! The gondola lift isn't working right now; it'll still be a while before I can fix it.\" You offer to help.</p>\n",
        "<p>The engineer explains that an engine part seems to be missing from the engine, but nobody can figure out which one. If you can <em>add up all the part numbers</em> in the engine schematic, it should be easy to work out which part is missing.</p>\n",
        "<p>The engine schematic (your puzzle input) consists of a visual representation of the engine. There are lots of numbers and symbols you don't really understand, but apparently <em>any number adjacent to a symbol</em>, even diagonally, is a \"part number\" and should be included in your sum. (Periods (<code>.</code>) do not count as a symbol.)</p>\n",
        "<p>Here is an example engine schematic:</p>\n",
        "<pre><code>467..114..\n",
        "...*......\n",
        "..35..633.\n",
        "......#...\n",
        "617*......\n",
        ".....+.58.\n",
        "..592.....\n",
        "......755.\n",
        "...$.*....\n",
        ".664.598..\n",
        "</code></pre>\n",
        "<p>In this schematic, two numbers are <em>not</em> part numbers because they are not adjacent to a symbol: <code>114</code> (top right) and <code>58</code> (middle right). Every other number is adjacent to a symbol and so <em>is</em> a part number; their sum is <code><em>4361</em></code>.</p>\n",
        "<p>Of course, the actual engine schematic is much larger. <em>What is the sum of all of the part numbers in the engine schematic?</em></p>\n",
        "</article>\n"
      ]
    },
    {
      "cell_type": "code",
      "execution_count": 16,
      "metadata": {},
      "outputs": [
        {
          "name": "stdout",
          "output_type": "stream",
          "text": [
            "467..114..\n",
            "...*......\n",
            "..35..633.\n",
            "......#...\n",
            "617*......\n",
            ".....+.58.\n",
            "..592.....\n",
            "......755.\n",
            "...$.*....\n",
            ".664.598..\n"
          ]
        }
      ],
      "source": [
        "schema_test = \"\"\"467..114..\n",
        "...*......\n",
        "..35..633.\n",
        "......#...\n",
        "617*......\n",
        ".....+.58.\n",
        "..592.....\n",
        "......755.\n",
        "...$.*....\n",
        ".664.598..\"\"\"\n",
        "\n",
        "print(schema_test)"
      ]
    },
    {
      "cell_type": "code",
      "execution_count": 17,
      "metadata": {},
      "outputs": [
        {
          "data": {
            "text/plain": [
              "(4361, 4361)"
            ]
          },
          "execution_count": 17,
          "metadata": {},
          "output_type": "execute_result"
        }
      ],
      "source": [
        "from re import Match\n",
        "\n",
        "\n",
        "def get_neighbors(rows: int, cols: int, row: int, m: Match):\n",
        "    start, end = m.span()\n",
        "    neighbors = []\n",
        "    if start - 1 > -1:\n",
        "        neighbors.append((row, start - 1))\n",
        "\n",
        "    if row - 1 > -1:\n",
        "        neighbors.extend(\n",
        "            (row - 1, col) for col in range(start - 1, end + 1) if 0 <= col < cols\n",
        "        )\n",
        "\n",
        "    if end + 1 < cols:\n",
        "        neighbors.append((row, end))\n",
        "\n",
        "    if row + 1 < rows:\n",
        "        neighbors.extend(\n",
        "            (row + 1, col) for col in range(end, start - 2, -1) if 0 <= col < cols\n",
        "        )\n",
        "\n",
        "    return neighbors\n",
        "\n",
        "\n",
        "def isSymbol(s: str) -> bool:\n",
        "    return not s.isdigit() and s != \".\"\n",
        "\n",
        "\n",
        "def sum_part_numbers(s: str) -> int:\n",
        "    count = 0\n",
        "    lines = s.splitlines()\n",
        "    rows, cols = len(lines), len(lines[0])\n",
        "\n",
        "    for row in range(rows):\n",
        "        for m in re.finditer(r\"\\d+\", lines[row]):\n",
        "            neighbors = get_neighbors(rows, cols, row, m)\n",
        "\n",
        "            if any(isSymbol(lines[r][c]) for r, c in neighbors):\n",
        "                count += int(m.group())\n",
        "    return count\n",
        "\n",
        "\n",
        "sum_part_numbers(schema_test), 4361"
      ]
    },
    {
      "cell_type": "code",
      "execution_count": 18,
      "metadata": {},
      "outputs": [
        {
          "name": "stdout",
          "output_type": "stream",
          "text": [
            "529618\n"
          ]
        }
      ],
      "source": [
        "with open(\"../input/day3.txt\") as f:\n",
        "    print(sum_part_numbers(f.read()))"
      ]
    },
    {
      "cell_type": "markdown",
      "metadata": {},
      "source": [
        "<link href=\"style.css\" rel=\"stylesheet\"></link>\n",
        "<p>Your puzzle answer was <code>529618</code>.</p>\n",
        "<p class=\"day-success\">The first half of this puzzle is complete! It provides one gold star: *</p>\n"
      ]
    },
    {
      "cell_type": "markdown",
      "metadata": {},
      "source": [
        "<link href=\"style.css\" rel=\"stylesheet\"></link>\n",
        "\n",
        "<article class=\"day-desc\"><h2 id=\"part2\">--- Part Two ---</h2><p>The engineer finds the missing part and installs it in the engine! As the engine springs to life, you jump in the closest gondola, finally ready to ascend to the water source.</p>\n",
        "<p>You don't seem to be going very fast, though. Maybe something is still wrong? Fortunately, the gondola has a phone labeled \"help\", so you pick it up and the engineer answers.</p>\n",
        "<p>Before you can explain the situation, she suggests that you look out the window. There stands the engineer, holding a phone in one hand and waving with the other. You're going so slowly that you haven't even left the station. You exit the gondola.</p>\n",
        "<p>The missing part wasn't the only issue - one of the gears in the engine is wrong. A <em>gear</em> is any <code>*</code> symbol that is adjacent to <em>exactly two part numbers</em>. Its <em>gear ratio</em> is the result of <span title=\"They're magic gears.\">multiplying</span> those two numbers together.</p>\n",
        "<p>This time, you need to find the gear ratio of every gear and add them all up so that the engineer can figure out which gear needs to be replaced.</p>\n",
        "<p>Consider the same engine schematic again:</p>\n",
        "<pre><code>467..114..\n",
        "...*......\n",
        "..35..633.\n",
        "......#...\n",
        "617*......\n",
        ".....+.58.\n",
        "..592.....\n",
        "......755.\n",
        "...$.*....\n",
        ".664.598..\n",
        "</code></pre>\n",
        "<p>In this schematic, there are <em>two</em> gears. The first is in the top left; it has part numbers <code>467</code> and <code>35</code>, so its gear ratio is <code>16345</code>. The second gear is in the lower right; its gear ratio is <code>451490</code>. (The <code>*</code> adjacent to <code>617</code> is <em>not</em> a gear because it is only adjacent to one part number.) Adding up all of the gear ratios produces <code><em>467835</em></code>.</p>\n",
        "<p><em>What is the sum of all of the gear ratios in your engine schematic?</em></p>\n",
        "</article>\n"
      ]
    },
    {
      "cell_type": "code",
      "execution_count": 19,
      "metadata": {},
      "outputs": [
        {
          "name": "stdout",
          "output_type": "stream",
          "text": [
            "467..114..\n",
            "...*......\n",
            "..35..633.\n",
            "......#...\n",
            "617*......\n",
            ".....+.58.\n",
            "..592.....\n",
            "......755.\n",
            "...$.*....\n",
            ".664.598..\n"
          ]
        }
      ],
      "source": [
        "schema_test = \"\"\"467..114..\n",
        "...*......\n",
        "..35..633.\n",
        "......#...\n",
        "617*......\n",
        ".....+.58.\n",
        "..592.....\n",
        "......755.\n",
        "...$.*....\n",
        ".664.598..\"\"\"\n",
        "\n",
        "print(schema_test)"
      ]
    },
    {
      "cell_type": "code",
      "execution_count": 20,
      "metadata": {},
      "outputs": [
        {
          "data": {
            "text/plain": [
              "(467835, 467835)"
            ]
          },
          "execution_count": 20,
          "metadata": {},
          "output_type": "execute_result"
        }
      ],
      "source": [
        "from re import Match\n",
        "from collections import defaultdict\n",
        "from math import prod\n",
        "\n",
        "\n",
        "def get_gear_neighbors(\n",
        "    lines: list[int], rows: int, cols: int, row: int, m: Match, gears\n",
        ") -> None:\n",
        "    start, end = m.span()\n",
        "    part = int(m.group())\n",
        "    if start - 1 > -1 and lines[row][start - 1] == \"*\":\n",
        "        gears[(row, start - 1)].append(part)\n",
        "\n",
        "    if row - 1 > -1:\n",
        "        for col in range(start - 1, end + 1):\n",
        "            if 0 <= col < cols and lines[row - 1][col] == \"*\":\n",
        "                gears[(row - 1, col)].append(part)\n",
        "\n",
        "    if end + 1 < cols and lines[row][end] == \"*\":\n",
        "        gears[(row, end)].append(part)\n",
        "\n",
        "    if row + 1 < rows:\n",
        "        for col in range(end, start - 2, -1):\n",
        "            if 0 <= col < cols and lines[row + 1][col] == \"*\":\n",
        "                gears[(row + 1, col)].append(part)\n",
        "\n",
        "\n",
        "def sum_ratios(s: str) -> int:\n",
        "    lines = s.splitlines()\n",
        "    rows, cols = len(lines), len(lines[0])\n",
        "    gears = defaultdict(list[int, int])\n",
        "    for row in range(rows):\n",
        "        for m in re.finditer(r\"\\d+\", lines[row]):\n",
        "            get_gear_neighbors(lines, rows, cols, row, m, gears)\n",
        "\n",
        "    return sum(prod(ratios) for ratios in gears.values() if len(ratios) == 2)\n",
        "\n",
        "\n",
        "sum_ratios(schema_test), 467835"
      ]
    },
    {
      "cell_type": "code",
      "execution_count": 21,
      "metadata": {},
      "outputs": [
        {
          "name": "stdout",
          "output_type": "stream",
          "text": [
            "77509019\n"
          ]
        }
      ],
      "source": [
        "with open(\"../input/day3.txt\") as f:\n",
        "    print(sum_ratios(f.read()))"
      ]
    },
    {
      "cell_type": "markdown",
      "metadata": {},
      "source": [
        "<link href=\"style.css\" rel=\"stylesheet\"></link>\n",
        "\n",
        "<main>\n",
        "<article><p>That's the right answer!  You are <span class=\"day-success\">one gold star</span> closer to restoring snow operations.</p><p>You have completed Day 3! You can <span class=\"share\">[Share<span class=\"share-content\">on\n",
        "  <a href=\"https://twitter.com/intent/tweet?text=I+just+completed+%22Gear+Ratios%22+%2D+Day+3+%2D+Advent+of+Code+2023&amp;url=https%3A%2F%2Fadventofcode%2Ecom%2F2023%2Fday%2F3&amp;related=ericwastl&amp;hashtags=AdventOfCode\" target=\"_blank\">Twitter</a>\n",
        "  <a href=\"javascript:void(0);\" onclick=\"var ms; try{ms=localStorage.getItem('mastodon.server')}finally{} if(typeof ms!=='string')ms=''; ms=prompt('Mastodon Server?',ms); if(typeof ms==='string' &amp;&amp; ms.length){this.href='https://'+ms+'/share?text=I+just+completed+%22Gear+Ratios%22+%2D+Day+3+%2D+Advent+of+Code+2023+%23AdventOfCode+https%3A%2F%2Fadventofcode%2Ecom%2F2023%2Fday%2F3';try{localStorage.setItem('mastodon.server',ms);}finally{}}else{return false;}\" target=\"_blank\">Mastodon</a></span>]</span> this victory or <a href=\"/2023\">[Return to Your Advent Calendar]</a>.</p></article>\n",
        "</main>\n"
      ]
    },
    {
      "cell_type": "code",
      "execution_count": null,
      "metadata": {},
      "outputs": [],
      "source": []
    }
  ],
  "metadata": {
    "kernelspec": {
      "display_name": ".venv",
      "language": "python",
      "name": "python3"
    },
    "language_info": {
      "codemirror_mode": {
        "name": "ipython",
        "version": 3
      },
      "file_extension": ".py",
      "mimetype": "text/x-python",
      "name": "python",
      "nbconvert_exporter": "python",
      "pygments_lexer": "ipython3",
      "version": "3.12.0"
    }
  },
  "nbformat": 4,
  "nbformat_minor": 2
}
