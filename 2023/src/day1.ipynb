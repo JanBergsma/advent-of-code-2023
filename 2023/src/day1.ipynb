{
 "cells": [
  {
   "cell_type": "code",
   "execution_count": 19,
   "metadata": {},
   "outputs": [],
   "source": [
    "import re"
   ]
  },
  {
   "cell_type": "markdown",
   "metadata": {},
   "source": [
    "<link href=\"style.css\" rel=\"stylesheet\"></link>\n",
    "<article class=\"day-desc\"><h2>--- Day 1: Trebuchet?! ---</h2><p>Something is wrong with global snow production, and you've been selected to take a look. The Elves have even given you a map; on it, they've used stars to mark the top fifty locations that are likely to be having problems.</p>\n",
    "<p>You've been doing this long enough to know that to restore snow operations, you need to check all <em class=\"star\">fifty stars</em> by December 25th.</p>\n",
    "<p>Collect stars by solving puzzles.  Two puzzles will be made available on each day in the Advent calendar; the second puzzle is unlocked when you complete the first.  Each puzzle grants <em class=\"star\">one star</em>. Good luck!</p>\n",
    "<p>You try to ask why they can't just use a <a href=\"/2015/day/1\">weather machine</a> (\"not powerful enough\") and where they're even sending you (\"the sky\") and why your map looks mostly blank (\"you sure ask a lot of questions\") <span title=\"My hope is that this abomination of a run-on sentence somehow conveys the chaos of being hastily loaded into a trebuchet.\">and</span> hang on did you just say the sky (\"of course, where do you think snow comes from\") when you realize that the Elves are already loading you into a <a href=\"https://en.wikipedia.org/wiki/Trebuchet\" target=\"_blank\">trebuchet</a> (\"please hold still, we need to strap you in\").</p>\n",
    "<p>As they're making the final adjustments, they discover that their calibration document (your puzzle input) has been <em>amended</em> by a very young Elf who was apparently just excited to show off her art skills. Consequently, the Elves are having trouble reading the values on the document.</p>\n",
    "<p>The newly-improved calibration document consists of lines of text; each line originally contained a specific <em>calibration value</em> that the Elves now need to recover. On each line, the calibration value can be found by combining the <em>first digit</em> and the <em>last digit</em> (in that order) to form a single <em>two-digit number</em>.</p>\n",
    "<p>For example:</p>\n",
    "<pre><code>1abc2\n",
    "pqr3stu8vwx\n",
    "a1b2c3d4e5f\n",
    "treb7uchet\n",
    "</code></pre>\n",
    "<p>In this example, the calibration values of these four lines are <code>12</code>, <code>38</code>, <code>15</code>, and <code>77</code>. Adding these together produces <code><em>142</em></code>.</p>\n",
    "<p>Consider your entire calibration document. <em>What is the sum of all of the calibration values?</em></p>\n",
    "</article>\n"
   ]
  },
  {
   "cell_type": "code",
   "execution_count": 20,
   "metadata": {},
   "outputs": [],
   "source": [
    "test = [(\"1abc2\", 12), (\"pqr3stu8vwx\", 38), (\"a1b2c3d4e5f\", 15), (\"treb7uchet\", 77)]\n",
    "\n",
    "document = \"\"\"1abc2\n",
    "pqr3stu8vwx\n",
    "a1b2c3d4e5f\n",
    "treb7uchet\"\"\"\n",
    "\n",
    "total = 142"
   ]
  },
  {
   "cell_type": "code",
   "execution_count": 21,
   "metadata": {},
   "outputs": [],
   "source": [
    "def sumAllCaqlibrated(document: str) -> int:\n",
    "    som = 0\n",
    "    for line in document.splitlines():\n",
    "        first, last = None, None\n",
    "        i, n = 0, len(line)\n",
    "        while i < n and (first is None or last is None):\n",
    "            if first is None and line[i].isdigit():\n",
    "                first = line[i]\n",
    "            if last is None and line[n - i - 1].isdigit():\n",
    "                last = line[n - i - 1]\n",
    "            i += 1\n",
    "        som += int(first + last)\n",
    "    return som\n",
    "\n",
    "\n",
    "assert sumAllCaqlibrated(document) == total"
   ]
  },
  {
   "cell_type": "code",
   "execution_count": 22,
   "metadata": {},
   "outputs": [
    {
     "name": "stdout",
     "output_type": "stream",
     "text": [
      "54644\n"
     ]
    }
   ],
   "source": [
    "with open(\"../input/day1.txt\") as f:\n",
    "    print(sumAllCaqlibrated(f.read()))"
   ]
  },
  {
   "cell_type": "markdown",
   "metadata": {},
   "source": [
    "<link href=\"style.css\" rel=\"stylesheet\"></link>\n",
    "<p>Your puzzle answer was <code>54644</code>.</p>\n",
    "<article class=\"day-desc\"><h2 id=\"part2\">--- Part Two ---</h2><p>Your calculation isn't quite right. It looks like some of the digits are actually <em>spelled out with letters</em>: <code>one</code>, <code>two</code>, <code>three</code>, <code>four</code>, <code>five</code>, <code>six</code>, <code>seven</code>, <code>eight</code>, and <code>nine</code> <em>also</em> count as valid \"digits\".</p>\n",
    "<p>Equipped with this new information, you now need to find the real first and last digit on each line. For example:</p>\n",
    "<pre><code>two1nine\n",
    "eightwothree\n",
    "abcone2threexyz\n",
    "xtwone3four\n",
    "4nineeightseven2\n",
    "zoneight234\n",
    "7pqrstsixteen\n",
    "</code></pre>\n",
    "<p>In this example, the calibration values are <code>29</code>, <code>83</code>, <code>13</code>, <code>24</code>, <code>42</code>, <code>14</code>, and <code>76</code>. Adding these together produces <code><em>281</em></code>.</p>\n",
    "<p><em>What is the sum of all of the calibration values?</em></p>\n",
    "</article>\n"
   ]
  },
  {
   "cell_type": "code",
   "execution_count": 23,
   "metadata": {},
   "outputs": [],
   "source": [
    "document = \"\"\"two1nine\n",
    "eightwothree\n",
    "abcone2threexyz\n",
    "xtwone3four\n",
    "4nineeightseven2\n",
    "zoneight234\n",
    "7pqrstsixteen\"\"\"\n",
    "\n",
    "\n",
    "document2 = \"\"\"1abc2\n",
    "pqr3stu8vwx\n",
    "a1b2c3d4e5f\n",
    "treb7uchet\"\"\""
   ]
  },
  {
   "cell_type": "code",
   "execution_count": 24,
   "metadata": {},
   "outputs": [],
   "source": [
    "DIGITS = re.compile(\n",
    "    r\"(?=(one|two|three|four|five|six|seven|eight|nine|[0-9]))\"  # for overlapping\n",
    ")\n",
    "\n",
    "assert DIGITS.findall(\"sevenineeighthree\") == [\n",
    "    \"seven\",\n",
    "    \"nine\",\n",
    "    \"eight\",\n",
    "    \"three\",\n",
    "]  # test for overlapping\n",
    "\n",
    "\n",
    "def convert(s: str) -> int:\n",
    "    match s:\n",
    "        case \"one\" | \"1\":\n",
    "            return \"1\"\n",
    "        case \"two\" | \"2\":\n",
    "            return \"2\"\n",
    "        case \"three\" | \"3\":\n",
    "            return \"3\"\n",
    "        case \"four\" | \"4\":\n",
    "            return \"4\"\n",
    "        case \"five\" | \"5\":\n",
    "            return \"5\"\n",
    "        case \"six\" | \"6\":\n",
    "            return \"6\"\n",
    "        case \"seven\" | \"7\":\n",
    "            return \"7\"\n",
    "        case \"eight\" | \"8\":\n",
    "            return \"8\"\n",
    "        case \"nine\" | \"9\":\n",
    "            return \"9\"\n",
    "        case _:\n",
    "            raise ValueError(f\"{s=}\")\n",
    "\n",
    "\n",
    "def sumAllCaqlibrated_II(document: str) -> int:\n",
    "    som = 0\n",
    "    for line in document.splitlines():\n",
    "        matches = DIGITS.findall(line)\n",
    "        first, last = convert(matches[0]), convert(matches[-1])\n",
    "        som += int(first + last)\n",
    "    return som\n",
    "\n",
    "\n",
    "assert sumAllCaqlibrated_II(document) == 281\n",
    "assert sumAllCaqlibrated_II(document2) == total"
   ]
  },
  {
   "cell_type": "code",
   "execution_count": 25,
   "metadata": {},
   "outputs": [],
   "source": [
    "with open(\"../input/day1.txt\") as f:\n",
    "    assert sumAllCaqlibrated_II(f.read()) == 53348"
   ]
  },
  {
   "cell_type": "markdown",
   "metadata": {},
   "source": [
    "<main>\n",
    "\n",
    "<p>Your puzzle answer was <code>53348</code>.</p><p class=\"day-success\">Both parts of this puzzle are complete! They provide two gold stars: **</p>\n",
    "<p>At this point, you should <a href=\"/2023\">return to your Advent calendar</a> and try another puzzle.</p>\n",
    "<p>If you still want to see it, you can <a href=\"1/input\" target=\"_blank\">get your puzzle input</a>.</p>\n",
    "<p>You can also <span class=\"share\">[Share<span class=\"share-content\">on\n",
    "  <a href=\"https://twitter.com/intent/tweet?text=I%27ve+completed+%22Trebuchet%3F%21%22+%2D+Day+1+%2D+Advent+of+Code+2023&amp;url=https%3A%2F%2Fadventofcode%2Ecom%2F2023%2Fday%2F1&amp;related=ericwastl&amp;hashtags=AdventOfCode\" target=\"_blank\">Twitter</a>\n",
    "  <a href=\"javascript:void(0);\" onclick=\"var ms; try{ms=localStorage.getItem('mastodon.server')}finally{} if(typeof ms!=='string')ms=''; ms=prompt('Mastodon Server?',ms); if(typeof ms==='string' &amp;&amp; ms.length){this.href='https://'+ms+'/share?text=I%27ve+completed+%22Trebuchet%3F%21%22+%2D+Day+1+%2D+Advent+of+Code+2023+%23AdventOfCode+https%3A%2F%2Fadventofcode%2Ecom%2F2023%2Fday%2F1';try{localStorage.setItem('mastodon.server',ms);}finally{}}else{return false;}\" target=\"_blank\">Mastodon</a></span>]</span> this puzzle.</p>\n",
    "</main>\n"
   ]
  }
 ],
 "metadata": {
  "kernelspec": {
   "display_name": ".venv",
   "language": "python",
   "name": "python3"
  },
  "language_info": {
   "codemirror_mode": {
    "name": "ipython",
    "version": 3
   },
   "file_extension": ".py",
   "mimetype": "text/x-python",
   "name": "python",
   "nbconvert_exporter": "python",
   "pygments_lexer": "ipython3",
   "version": "3.12.0"
  }
 },
 "nbformat": 4,
 "nbformat_minor": 2
}
