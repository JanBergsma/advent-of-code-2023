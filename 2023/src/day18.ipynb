{
 "cells": [
  {
   "cell_type": "code",
   "execution_count": 1,
   "metadata": {},
   "outputs": [],
   "source": [
    "import sys\n",
    "import re\n",
    "from util import print_hex"
   ]
  },
  {
   "cell_type": "markdown",
   "metadata": {},
   "source": [
    "<link href=\"style.css\" rel=\"stylesheet\"></link>\n",
    "<main>\n",
    "<article class=\"day-desc read-aloud\"><h2>--- Day 18: Lavaduct Lagoon ---</h2><p>Thanks to your efforts, the machine parts factory is one of the first factories up and running since the lavafall came back. However, to catch up with the large backlog of parts requests, the factory will also need a <em>large supply of lava</em> for a while; the Elves have already started creating a large lagoon nearby for this purpose.</p>\n",
    "<p>However, they aren't sure the lagoon will be big enough; they've asked you to take a look at the <em>dig plan</em> (your puzzle input). For example:</p>\n",
    "<pre><code>R 6 (#70c710)\n",
    "D 5 (#0dc571)\n",
    "L 2 (#5713f0)\n",
    "D 2 (#d2c081)\n",
    "R 2 (#59c680)\n",
    "D 2 (#411b91)\n",
    "L 5 (#8ceee2)\n",
    "U 2 (#caa173)\n",
    "L 1 (#1b58a2)\n",
    "U 2 (#caa171)\n",
    "R 2 (#7807d2)\n",
    "U 3 (#a77fa3)\n",
    "L 2 (#015232)\n",
    "U 2 (#7a21e3)\n",
    "</code></pre>\n",
    "<p>The digger starts in a 1 meter cube hole in the ground. They then dig the specified number of meters <em>up</em> (<code>U</code>), <em>down</em> (<code>D</code>), <em>left</em> (<code>L</code>), or <em>right</em> (<code>R</code>), clearing full 1 meter cubes as they go. The directions are given as seen from above, so if \"up\" were north, then \"right\" would be east, and so on. Each trench is also listed with <em>the color that the edge of the trench should be painted</em> as an <a href=\"https://en.wikipedia.org/wiki/RGB_color_model#Numeric_representations\" target=\"_blank\">RGB hexadecimal color code</a>.</p>\n",
    "<p>When viewed from above, the above example dig plan would result in the following loop of <em>trench</em> (<code>#</code>) having been dug out from otherwise <em>ground-level terrain</em> (<code>.</code>):</p>\n",
    "<pre><code>#######\n",
    "#.....#\n",
    "###...#\n",
    "..#...#\n",
    "..#...#\n",
    "###.###\n",
    "#...#..\n",
    "##..###\n",
    ".#....#\n",
    ".######\n",
    "</code></pre>\n",
    "<p>At this point, the trench could contain 38 cubic meters of lava. However, this is just the edge of the lagoon; the next step is to <em>dig out the interior</em> so that it is one meter deep as well:</p>\n",
    "<pre><code>#######\n",
    "#######\n",
    "#######\n",
    "..#####\n",
    "..#####\n",
    "#######\n",
    "#####..\n",
    "#######\n",
    ".######\n",
    ".######\n",
    "</code></pre>\n",
    "<p>Now, the lagoon can contain a much more respectable <code><em>62</em></code> cubic meters of lava. While the interior is dug out, the edges are also painted according to the color codes in the dig plan.</p>\n",
    "<p>The Elves are concerned the lagoon won't be large enough; if they follow their dig plan, <em>how many cubic meters of lava could it hold?</em></p>\n",
    "</article>\n",
    "<p>To begin, <a href=\"18/input\" target=\"_blank\">get your puzzle input</a>.</p>\n",
    "</main>\n"
   ]
  },
  {
   "cell_type": "code",
   "execution_count": 2,
   "metadata": {},
   "outputs": [],
   "source": [
    "from collections import defaultdict\n",
    "from dataclasses import dataclass\n",
    "from itertools import product\n",
    "from math import inf\n",
    "from typing import override\n",
    "\n",
    "from util import hexcolor_str\n",
    "\n",
    "\n",
    "dig_plan = \"\"\"\n",
    "R 6 (#70c710)\n",
    "D 5 (#0dc571)\n",
    "L 2 (#5713f0)\n",
    "D 2 (#d2c081)\n",
    "R 2 (#59c680)\n",
    "D 2 (#411b91)\n",
    "L 5 (#8ceee2)\n",
    "U 2 (#caa173)\n",
    "L 1 (#1b58a2)\n",
    "U 2 (#caa171)\n",
    "R 2 (#7807d2)\n",
    "U 3 (#a77fa3)\n",
    "L 2 (#015232)\n",
    "U 2 (#7a21e3)\n",
    "\"\"\""
   ]
  },
  {
   "cell_type": "code",
   "execution_count": 3,
   "metadata": {},
   "outputs": [],
   "source": [
    "# with open(\"../input/day18.txt\") as f:\n",
    "#     dp = DigPlan(f.read())"
   ]
  },
  {
   "cell_type": "code",
   "execution_count": null,
   "metadata": {},
   "outputs": [],
   "source": []
  }
 ],
 "metadata": {
  "kernelspec": {
   "display_name": ".venv",
   "language": "python",
   "name": "python3"
  },
  "language_info": {
   "codemirror_mode": {
    "name": "ipython",
    "version": 3
   },
   "file_extension": ".py",
   "mimetype": "text/x-python",
   "name": "python",
   "nbconvert_exporter": "python",
   "pygments_lexer": "ipython3",
   "version": "3.12.0"
  }
 },
 "nbformat": 4,
 "nbformat_minor": 2
}
