{
 "cells": [
  {
   "cell_type": "code",
   "execution_count": 22,
   "metadata": {},
   "outputs": [],
   "source": [
    "import re"
   ]
  },
  {
   "cell_type": "markdown",
   "metadata": {},
   "source": [
    "<link href=\"style.css\" rel=\"stylesheet\"></link>\n",
    "\n",
    "<article class=\"day-desc read-aloud\"><h2>--- Day 9: Mirage Maintenance ---</h2><p>You ride the camel through the sandstorm and stop where the ghost's maps told you to stop. <span title=\"The sound of a sandstorm slowly settling.\">The sandstorm subsequently subsides, somehow seeing you standing at an <em>oasis</em>!</span></p>\n",
    "<p>The camel goes to get some water and you stretch your neck. As you look up, you discover what must be yet another giant floating island, this one made of metal! That must be where the <em>parts to fix the sand machines</em> come from.</p>\n",
    "<p>There's even a <a href=\"https://en.wikipedia.org/wiki/Hang_gliding\" target=\"_blank\">hang glider</a> partially buried in the sand here; once the sun rises and heats up the sand, you might be able to use the glider and the hot air to get all the way up to the metal island!</p>\n",
    "<p>While you wait for the sun to rise, you admire the oasis hidden here in the middle of Desert Island. It must have a delicate ecosystem; you might as well take some ecological readings while you wait. Maybe you can report any environmental instabilities you find to someone so the oasis can be around for the next sandstorm-worn traveler.</p>\n",
    "<p>You pull out your handy <em>Oasis And Sand Instability Sensor</em> and analyze your surroundings. The OASIS produces a report of many values and how they are changing over time (your puzzle input). Each line in the report contains the <em>history</em> of a single value. For example:</p>\n",
    "<pre><code>0 3 6 9 12 15\n",
    "1 3 6 10 15 21\n",
    "10 13 16 21 30 45\n",
    "</code></pre>\n",
    "<p>To best protect the oasis, your environmental report should include a <em>prediction of the next value</em> in each history. To do this, start by making a new sequence from the <em>difference at each step</em> of your history. If that sequence is <em>not</em> all zeroes, repeat this process, using the sequence you just generated as the input sequence. Once all of the values in your latest sequence are zeroes, you can extrapolate what the next value of the original history should be.</p>\n",
    "<p>In the above dataset, the first history is <code>0 3 6 9 12 15</code>. Because the values increase by <code>3</code> each step, the first sequence of differences that you generate will be <code>3 3 3 3 3</code>. Note that this sequence has one fewer value than the input sequence because at each step it considers two numbers from the input. Since these values aren't <em>all zero</em>, repeat the process: the values differ by <code>0</code> at each step, so the next sequence is <code>0 0 0 0</code>. This means you have enough information to extrapolate the history! Visually, these sequences can be arranged like this:</p>\n",
    "<pre><code>0   3   6   9  12  15\n",
    "  3   3   3   3   3\n",
    "    0   0   0   0\n",
    "</code></pre>\n",
    "<p>To extrapolate, start by adding a new zero to the end of your list of zeroes; because the zeroes represent differences between the two values above them, this also means there is now a placeholder in every sequence above it:</p><p>\n",
    "</p><pre><code>0   3   6   9  12  15   <em>B</em>\n",
    "  3   3   3   3   3   <em>A</em>\n",
    "    0   0   0   0   <em>0</em>\n",
    "</code></pre>\n",
    "<p>You can then start filling in placeholders from the bottom up. <code>A</code> needs to be the result of increasing <code>3</code> (the value to its left) by <code>0</code> (the value below it); this means <code>A</code> must be <code><em>3</em></code>:</p>\n",
    "<pre><code>0   3   6   9  12  15   B\n",
    "  3   3   3   3   <em>3</em>   <em>3</em>\n",
    "    0   0   0   0   <em>0</em>\n",
    "</code></pre>\n",
    "<p>Finally, you can fill in <code>B</code>, which needs to be the result of increasing <code>15</code> (the value to its left) by <code>3</code> (the value below it), or <code><em>18</em></code>:</p>\n",
    "<pre><code>0   3   6   9  12  <em>15</em>  <em>18</em>\n",
    "  3   3   3   3   3   <em>3</em>\n",
    "    0   0   0   0   0\n",
    "</code></pre>\n",
    "<p>So, the next value of the first history is <code><em>18</em></code>.</p>\n",
    "<p>Finding all-zero differences for the second history requires an additional sequence:</p>\n",
    "<pre><code>1   3   6  10  15  21\n",
    "  2   3   4   5   6\n",
    "    1   1   1   1\n",
    "      0   0   0\n",
    "</code></pre>\n",
    "<p>Then, following the same process as before, work out the next value in each sequence from the bottom up:</p>\n",
    "<pre><code>1   3   6  10  15  21  <em>28</em>\n",
    "  2   3   4   5   6   <em>7</em>\n",
    "    1   1   1   1   <em>1</em>\n",
    "      0   0   0   <em>0</em>\n",
    "</code></pre>\n",
    "<p>So, the next value of the second history is <code><em>28</em></code>.</p>\n",
    "<p>The third history requires even more sequences, but its next value can be found the same way:</p>\n",
    "<pre><code>10  13  16  21  30  45  <em>68</em>\n",
    "   3   3   5   9  15  <em>23</em>\n",
    "     0   2   4   6   <em>8</em>\n",
    "       2   2   2   <em>2</em>\n",
    "         0   0   <em>0</em>\n",
    "</code></pre>\n",
    "<p>So, the next value of the third history is <code><em>68</em></code>.</p>\n",
    "<p>If you find the next value for each history in this example and add them together, you get <code><em>114</em></code>.</p>\n",
    "<p>Analyze your OASIS report and extrapolate the next value for each history. <em>What is the sum of these extrapolated values?</em></p>\n",
    "</article>\n"
   ]
  },
  {
   "cell_type": "code",
   "execution_count": 23,
   "metadata": {},
   "outputs": [
    {
     "data": {
      "text/plain": [
       "True"
      ]
     },
     "execution_count": 23,
     "metadata": {},
     "output_type": "execute_result"
    }
   ],
   "source": [
    "def extrapolate(history):\n",
    "    h = [history]\n",
    "    while any(v != 0 for v in h[-1]):\n",
    "        h.append([h[-1][i] - h[-1][i - 1] for i in range(1, len(h[-1]))])\n",
    "\n",
    "    for i in range(len(h) - 2, -1, -1):\n",
    "        h[i - 1].append(h[i][-1] + h[i - 1][-1])\n",
    "    return h[0][-1]\n",
    "\n",
    "\n",
    "extrapolate([0, 3, 6, 9, 12, 15]) == 18\n",
    "extrapolate([1, 3, 6, 10, 15, 21]) == 28\n",
    "extrapolate([10, 13, 16, 21, 30, 45]) == 68"
   ]
  },
  {
   "cell_type": "code",
   "execution_count": 24,
   "metadata": {},
   "outputs": [],
   "source": [
    "histories = \"\"\"\n",
    "0 3 6 9 12 15\n",
    "1 3 6 10 15 21\n",
    "10 13 16 21 30 45\n",
    "\"\"\"\n",
    "\n",
    "\n",
    "def extrapolate_histories(histories: str) -> int:\n",
    "    hists = [[int(i) for i in line.split()] for line in histories.strip().splitlines()]\n",
    "    return sum(extrapolate(h) for h in hists)\n",
    "\n",
    "\n",
    "assert extrapolate_histories(histories) == 114"
   ]
  },
  {
   "cell_type": "code",
   "execution_count": 25,
   "metadata": {},
   "outputs": [
    {
     "name": "stdout",
     "output_type": "stream",
     "text": [
      "1930746032\n"
     ]
    }
   ],
   "source": [
    "with open(\"./input/day9.txt\") as f:\n",
    "    print(extrapolate_histories(f.read()))"
   ]
  },
  {
   "cell_type": "markdown",
   "metadata": {},
   "source": [
    "<link href=\"style.css\" rel=\"stylesheet\"></link>\n",
    "\n",
    "<main>\n",
    "\n",
    "<p>Your puzzle answer was <code>1930746032</code>.</p><p class=\"day-success\">The first half of this puzzle is complete! It provides one gold star: *</p>\n",
    "<article class=\"day-desc\"><h2 id=\"part2\">--- Part Two ---</h2><p>Of course, it would be nice to have <em>even more history</em> included in your report. Surely it's safe to just <em>extrapolate backwards</em> as well, right?</p>\n",
    "<p>For each history, repeat the process of finding differences until the sequence of differences is entirely zero. Then, rather than adding a zero to the end and filling in the next values of each previous sequence, you should instead add a zero to the <em>beginning</em> of your sequence of zeroes, then fill in new <em>first</em> values for each previous sequence.</p>\n",
    "<p>In particular, here is what the third example history looks like when extrapolating back in time:</p>\n",
    "<pre><code><em>5</em>  10  13  16  21  30  45\n",
    "  <em>5</em>   3   3   5   9  15\n",
    "   <em>-2</em>   0   2   4   6\n",
    "      <em>2</em>   2   2   2\n",
    "        <em>0</em>   0   0\n",
    "</code></pre>\n",
    "<p>Adding the new values on the left side of each sequence from bottom to top eventually reveals the new left-most history value: <code><em>5</em></code>.</p>\n",
    "<p>Doing this for the remaining example data above results in previous values of <code><em>-3</em></code> for the first history and <code><em>0</em></code> for the second history. Adding all three new values together produces <code><em>2</em></code>.</p>\n",
    "<p>Analyze your OASIS report again, this time extrapolating the <em>previous</em> value for each history. <em>What is the sum of these extrapolated values?</em></p>\n",
    "</article>\n"
   ]
  },
  {
   "cell_type": "code",
   "execution_count": 26,
   "metadata": {},
   "outputs": [],
   "source": [
    "from tabulate import tabulate\n",
    "\n",
    "\n",
    "def pre_extrapolate(history):\n",
    "    h = [history]\n",
    "    while any(v != 0 for v in h[-1]):\n",
    "        h.append([h[-1][i] - h[-1][i - 1] for i in range(1, len(h[-1]))])\n",
    "\n",
    "    for i in range(len(h) - 2, -1, -1):\n",
    "        h[i].insert(0, h[i][0] - h[i + 1][0])\n",
    "\n",
    "    return h[0][0]\n",
    "\n",
    "\n",
    "assert pre_extrapolate([0, 3, 6, 9, 12, 15]) == -3\n",
    "assert pre_extrapolate([1, 3, 6, 10, 15, 21]) == 0\n",
    "assert pre_extrapolate([10, 13, 16, 21, 30, 45]) == 5"
   ]
  },
  {
   "cell_type": "code",
   "execution_count": 27,
   "metadata": {},
   "outputs": [],
   "source": [
    "histories = \"\"\"\n",
    "0 3 6 9 12 15\n",
    "1 3 6 10 15 21\n",
    "10 13 16 21 30 45\n",
    "\"\"\"\n",
    "\n",
    "\n",
    "def pre_extrapolate_histories(histories: str) -> int:\n",
    "    hists = [[int(i) for i in line.split()] for line in histories.strip().splitlines()]\n",
    "    return sum(pre_extrapolate(h) for h in hists)\n",
    "\n",
    "\n",
    "assert pre_extrapolate_histories(histories) == 2"
   ]
  },
  {
   "cell_type": "code",
   "execution_count": 28,
   "metadata": {},
   "outputs": [
    {
     "name": "stdout",
     "output_type": "stream",
     "text": [
      "1154\n"
     ]
    }
   ],
   "source": [
    "with open(\"./input/day9.txt\") as f:\n",
    "    print(pre_extrapolate_histories(f.read()))"
   ]
  },
  {
   "cell_type": "markdown",
   "metadata": {},
   "source": [
    "<link href=\"style.css\" rel=\"stylesheet\"></link>\n",
    "\n",
    "<main>\n",
    "\n",
    "<p>Your puzzle answer was <code>1154</code>.</p><p class=\"day-success\">Both parts of this puzzle are complete! They provide two gold stars: **</p>\n",
    "<p>At this point, you should <a href=\"/2023\">return to your Advent calendar</a> and try another puzzle.</p>\n",
    "<p>If you still want to see it, you can <a href=\"9/input\" target=\"_blank\">get your puzzle input</a>.</p>\n",
    "<p>You can also <span class=\"share\">[Share<span class=\"share-content\">on\n",
    "  <a href=\"https://twitter.com/intent/tweet?text=I%27ve+completed+%22Mirage+Maintenance%22+%2D+Day+9+%2D+Advent+of+Code+2023&amp;url=https%3A%2F%2Fadventofcode%2Ecom%2F2023%2Fday%2F9&amp;related=ericwastl&amp;hashtags=AdventOfCode\" target=\"_blank\">Twitter</a>\n",
    "  <a href=\"javascript:void(0);\" onclick=\"var ms; try{ms=localStorage.getItem('mastodon.server')}finally{} if(typeof ms!=='string')ms=''; ms=prompt('Mastodon Server?',ms); if(typeof ms==='string' &amp;&amp; ms.length){this.href='https://'+ms+'/share?text=I%27ve+completed+%22Mirage+Maintenance%22+%2D+Day+9+%2D+Advent+of+Code+2023+%23AdventOfCode+https%3A%2F%2Fadventofcode%2Ecom%2F2023%2Fday%2F9';try{localStorage.setItem('mastodon.server',ms);}finally{}}else{return false;}\" target=\"_blank\">Mastodon</a></span>]</span> this puzzle.</p>\n",
    "</main>\n"
   ]
  },
  {
   "cell_type": "code",
   "execution_count": null,
   "metadata": {},
   "outputs": [],
   "source": []
  }
 ],
 "metadata": {
  "kernelspec": {
   "display_name": ".venv",
   "language": "python",
   "name": "python3"
  },
  "language_info": {
   "codemirror_mode": {
    "name": "ipython",
    "version": 3
   },
   "file_extension": ".py",
   "mimetype": "text/x-python",
   "name": "python",
   "nbconvert_exporter": "python",
   "pygments_lexer": "ipython3",
   "version": "3.12.0"
  }
 },
 "nbformat": 4,
 "nbformat_minor": 2
}
