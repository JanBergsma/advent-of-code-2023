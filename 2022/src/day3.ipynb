{
 "cells": [
  {
   "cell_type": "code",
   "execution_count": 37,
   "metadata": {},
   "outputs": [],
   "source": [
    "# %matplotlib widget\n",
    "\n",
    "from __future__ import annotations\n",
    "\n",
    "import re\n",
    "from collections import defaultdict\n",
    "from dataclasses import dataclass, field\n",
    "from itertools import permutations, product\n",
    "from math import inf\n",
    "from random import choice\n",
    "\n",
    "import matplotlib.colors as mcolors\n",
    "import matplotlib.pyplot as plt\n",
    "import networkx as nx\n",
    "import numpy as np\n",
    "import numpy.typing as npt\n",
    "from mpl_toolkits.mplot3d import axes3d\n",
    "from numpy import int_, object_\n",
    "from numpy.typing import NDArray\n",
    "from test_utilities import test\n",
    "from util import print_hex\n",
    "\n",
    "COLORS = list(mcolors.CSS4_COLORS.keys())"
   ]
  },
  {
   "cell_type": "markdown",
   "metadata": {},
   "source": [
    "<link href=\"style.css\" rel=\"stylesheet\"></link>\n",
    "<article class=\"day-desc\"><h2>--- Day 3: Rucksack Reorganization ---</h2><p>One Elf has the important job of loading all of the <a href=\"https://en.wikipedia.org/wiki/Rucksack\" target=\"_blank\">rucksacks</a> with supplies for the <span title=\"Where there's jungle, there's hijinxs.\">jungle</span> journey. Unfortunately, that Elf didn't quite follow the packing instructions, and so a few items now need to be rearranged.</p>\n",
    "<p>Each rucksack has two large <em>compartments</em>. All items of a given type are meant to go into exactly one of the two compartments. The Elf that did the packing failed to follow this rule for exactly one item type per rucksack.</p>\n",
    "<p>The Elves have made a list of all of the items currently in each rucksack (your puzzle input), but they need your help finding the errors. Every item type is identified by a single lowercase or uppercase letter (that is, <code>a</code> and <code>A</code> refer to different types of items).</p>\n",
    "<p>The list of items for each rucksack is given as characters all on a single line. A given rucksack always has the same number of items in each of its two compartments, so the first half of the characters represent items in the first compartment, while the second half of the characters represent items in the second compartment.</p>\n",
    "<p>For example, suppose you have the following list of contents from six rucksacks:</p>\n",
    "<pre><code>vJrwpWtwJgWrhcsFMMfFFhFp\n",
    "jqHRNqRjqzjGDLGLrsFMfFZSrLrFZsSL\n",
    "PmmdzqPrVvPwwTWBwg\n",
    "wMqvLMZHhHMvwLHjbvcjnnSBnvTQFn\n",
    "ttgJtRGJQctTZtZT\n",
    "CrZsJsPPZsGzwwsLwLmpwMDw\n",
    "</code></pre>\n",
    "<ul>\n",
    "<li>The first rucksack contains the items <code>vJrwpWtwJgWrhcsFMMfFFhFp</code>, which means its first compartment contains the items <code>vJrwpWtwJgWr</code>, while the second compartment contains the items <code>hcsFMMfFFhFp</code>. The only item type that appears in both compartments is lowercase <code><em>p</em></code>.</li>\n",
    "<li>The second rucksack's compartments contain <code>jqHRNqRjqzjGDLGL</code> and <code>rsFMfFZSrLrFZsSL</code>. The only item type that appears in both compartments is uppercase <code><em>L</em></code>.</li>\n",
    "<li>The third rucksack's compartments contain <code>PmmdzqPrV</code> and <code>vPwwTWBwg</code>; the only common item type is uppercase <code><em>P</em></code>.</li>\n",
    "<li>The fourth rucksack's compartments only share item type <code><em>v</em></code>.</li>\n",
    "<li>The fifth rucksack's compartments only share item type <code><em>t</em></code>.</li>\n",
    "<li>The sixth rucksack's compartments only share item type <code><em>s</em></code>.</li>\n",
    "</ul>\n",
    "<p>To help prioritize item rearrangement, every item type can be converted to a <em>priority</em>:</p>\n",
    "<ul>\n",
    "<li>Lowercase item types <code>a</code> through <code>z</code> have priorities 1 through 26.</li>\n",
    "<li>Uppercase item types <code>A</code> through <code>Z</code> have priorities 27 through 52.</li>\n",
    "</ul>\n",
    "<p>In the above example, the priority of the item type that appears in both compartments of each rucksack is 16 (<code>p</code>), 38 (<code>L</code>), 42 (<code>P</code>), 22 (<code>v</code>), 20 (<code>t</code>), and 19 (<code>s</code>); the sum of these is <code><em>157</em></code>.</p>\n",
    "<p>Find the item type that appears in both compartments of each rucksack. <em>What is the sum of the priorities of those item types?</em></p>\n",
    "</article>\n"
   ]
  },
  {
   "cell_type": "code",
   "execution_count": 38,
   "metadata": {},
   "outputs": [
    {
     "name": "stdout",
     "output_type": "stream",
     "text": [
      "\n",
      "\u001b[32mTest Example passed, for sum_of_priorities_test.\u001b[0m\n",
      "\u001b[32mSuccess\u001b[0m\n"
     ]
    }
   ],
   "source": [
    "from string import ascii_letters\n",
    "\n",
    "\n",
    "def sum_of_priorities(s: str) -> int:\n",
    "    rucksacks = [l.strip() for l in s.strip().splitlines()]\n",
    "    score = 0\n",
    "\n",
    "    for rucksack in rucksacks:\n",
    "        mid = len(rucksack) // 2\n",
    "        overlap = set(rucksack[:mid]) & set(rucksack[mid:])\n",
    "        score += sum(ascii_letters.index(i) + 1 for i in overlap)\n",
    "\n",
    "    return score\n",
    "\n",
    "\n",
    "sum_of_priorities_tests = [\n",
    "    {\n",
    "        \"name\": \"Example\",\n",
    "        \"s\": \"\"\"\n",
    "            vJrwpWtwJgWrhcsFMMfFFhFp\n",
    "            jqHRNqRjqzjGDLGLrsFMfFZSrLrFZsSL\n",
    "            PmmdzqPrVvPwwTWBwg\n",
    "            wMqvLMZHhHMvwLHjbvcjnnSBnvTQFn\n",
    "            ttgJtRGJQctTZtZT\n",
    "            CrZsJsPPZsGzwwsLwLmpwMDw\n",
    "        \"\"\",\n",
    "        \"expected\": 157,\n",
    "    },\n",
    "]\n",
    "\n",
    "\n",
    "@test(tests=sum_of_priorities_tests)\n",
    "def sum_of_priorities_test(s: str) -> int:\n",
    "    return sum_of_priorities(s)"
   ]
  },
  {
   "cell_type": "code",
   "execution_count": 39,
   "metadata": {},
   "outputs": [
    {
     "name": "stdout",
     "output_type": "stream",
     "text": [
      "Part 1: 7848\n"
     ]
    }
   ],
   "source": [
    "with open(\"../input/day3.txt\") as f:\n",
    "    puzzle = f.read()\n",
    "\n",
    "print(f\"Part 1: {sum_of_priorities(puzzle)}\")"
   ]
  },
  {
   "cell_type": "markdown",
   "metadata": {},
   "source": [
    "<link href=\"style.css\" rel=\"stylesheet\"></link>\n",
    "<main>\n",
    "\n",
    "<p>Your puzzle answer was <code>7848</code>.</p><p class=\"day-success\">The first half of this puzzle is complete! It provides one gold star: *</p>\n"
   ]
  },
  {
   "cell_type": "markdown",
   "metadata": {},
   "source": [
    "<article class=\"day-desc\"><h2 id=\"part2\">--- Part Two ---</h2><p>As you finish identifying the misplaced items, the Elves come to you with another issue.</p>\n",
    "<p>For safety, the Elves are divided into groups of three. Every Elf carries a badge that identifies their group. For efficiency, within each group of three Elves, the badge is the <em>only item type carried by all three Elves</em>. That is, if a group's badge is item type <code>B</code>, then all three Elves will have item type <code>B</code> somewhere in their rucksack, and at most two of the Elves will be carrying any other item type.</p>\n",
    "<p>The problem is that someone forgot to put this year's updated authenticity sticker on the badges. All of the badges need to be pulled out of the rucksacks so the new authenticity stickers can be attached.</p>\n",
    "<p>Additionally, nobody wrote down which item type corresponds to each group's badges. The only way to tell which item type is the right one is by finding the one item type that is <em>common between all three Elves</em> in each group.</p>\n",
    "<p>Every set of three lines in your list corresponds to a single group, but each group can have a different badge item type. So, in the above example, the first group's rucksacks are the first three lines:</p>\n",
    "<pre><code>vJrwpWtwJgWrhcsFMMfFFhFp\n",
    "jqHRNqRjqzjGDLGLrsFMfFZSrLrFZsSL\n",
    "PmmdzqPrVvPwwTWBwg\n",
    "</code></pre>\n",
    "<p>And the second group's rucksacks are the next three lines:</p>\n",
    "<pre><code>wMqvLMZHhHMvwLHjbvcjnnSBnvTQFn\n",
    "ttgJtRGJQctTZtZT\n",
    "CrZsJsPPZsGzwwsLwLmpwMDw\n",
    "</code></pre>\n",
    "<p>In the first group, the only item type that appears in all three rucksacks is lowercase <code>r</code>; this must be their badges. In the second group, their badge item type must be <code>Z</code>.</p>\n",
    "<p>Priorities for these items must still be found to organize the sticker attachment efforts: here, they are 18 (<code>r</code>) for the first group and 52 (<code>Z</code>) for the second group. The sum of these is <code><em>70</em></code>.</p>\n",
    "<p>Find the item type that corresponds to the badges of each three-Elf group. <em>What is the sum of the priorities of those item types?</em></p>\n",
    "</article>\n"
   ]
  },
  {
   "cell_type": "code",
   "execution_count": 40,
   "metadata": {},
   "outputs": [
    {
     "name": "stdout",
     "output_type": "stream",
     "text": [
      "\n",
      "\u001b[32mTest Example passed, for sum_three_elf_groups_priorities_test.\u001b[0m\n",
      "\u001b[32mSuccess\u001b[0m\n"
     ]
    }
   ],
   "source": [
    "from functools import reduce\n",
    "from string import ascii_letters\n",
    "\n",
    "from more_itertools import grouper, one\n",
    "\n",
    "\n",
    "def sum_three_elf_groups_priorities(s: str) -> int:\n",
    "    all_items = set(ascii_letters)\n",
    "    groups = grouper((l.strip() for l in s.strip().splitlines()), 3)\n",
    "    score = 0\n",
    "\n",
    "    for group in groups:\n",
    "        badge = reduce(lambda acc, el: acc & set(el), group, all_items)\n",
    "        score += ascii_letters.index(one(badge)) + 1\n",
    "\n",
    "    return score\n",
    "\n",
    "\n",
    "sum_three_elf_groups_priorities_tests = [\n",
    "    {\n",
    "        \"name\": \"Example\",\n",
    "        \"s\": \"\"\"\n",
    "            vJrwpWtwJgWrhcsFMMfFFhFp\n",
    "            jqHRNqRjqzjGDLGLrsFMfFZSrLrFZsSL\n",
    "            PmmdzqPrVvPwwTWBwg\n",
    "            wMqvLMZHhHMvwLHjbvcjnnSBnvTQFn\n",
    "            ttgJtRGJQctTZtZT\n",
    "            CrZsJsPPZsGzwwsLwLmpwMDw\n",
    "        \"\"\",\n",
    "        \"expected\": 70,\n",
    "    },\n",
    "]\n",
    "\n",
    "\n",
    "@test(tests=sum_three_elf_groups_priorities_tests)\n",
    "def sum_three_elf_groups_priorities_test(s: str) -> int:\n",
    "    return sum_three_elf_groups_priorities(s)"
   ]
  },
  {
   "cell_type": "markdown",
   "metadata": {},
   "source": [
    "<link href=\"style.css\" rel=\"stylesheet\"></link>\n"
   ]
  },
  {
   "cell_type": "code",
   "execution_count": 41,
   "metadata": {},
   "outputs": [
    {
     "name": "stdout",
     "output_type": "stream",
     "text": [
      "Part 2: 2616\n"
     ]
    }
   ],
   "source": [
    "print(f\"Part 2: {sum_three_elf_groups_priorities(puzzle)}\")"
   ]
  },
  {
   "cell_type": "markdown",
   "metadata": {},
   "source": [
    "<main>\n",
    "\n",
    "<p>Your puzzle answer was <code>2616</code>.</p><p class=\"day-success\">Both parts of this puzzle are complete! They provide two gold stars: **</p>\n",
    "\n",
    "</main>\n"
   ]
  }
 ],
 "metadata": {
  "kernelspec": {
   "display_name": ".venv",
   "language": "python",
   "name": "python3"
  },
  "language_info": {
   "codemirror_mode": {
    "name": "ipython",
    "version": 3
   },
   "file_extension": ".py",
   "mimetype": "text/x-python",
   "name": "python",
   "nbconvert_exporter": "python",
   "pygments_lexer": "ipython3",
   "version": "3.13.5"
  }
 },
 "nbformat": 4,
 "nbformat_minor": 2
}
