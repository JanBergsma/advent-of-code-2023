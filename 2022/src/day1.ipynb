{
 "cells": [
  {
   "cell_type": "code",
   "execution_count": 23,
   "metadata": {},
   "outputs": [],
   "source": [
    "# %matplotlib widget\n",
    "\n",
    "from __future__ import annotations\n",
    "\n",
    "import re\n",
    "from collections import defaultdict\n",
    "from dataclasses import dataclass, field\n",
    "from itertools import permutations, product\n",
    "from math import inf\n",
    "from random import choice\n",
    "\n",
    "import matplotlib.colors as mcolors\n",
    "import matplotlib.pyplot as plt\n",
    "import networkx as nx\n",
    "import numpy as np\n",
    "import numpy.typing as npt\n",
    "from mpl_toolkits.mplot3d import axes3d\n",
    "from numpy import int_, object_\n",
    "from numpy.typing import NDArray\n",
    "from test_utilities import test\n",
    "from util import print_hex\n",
    "\n",
    "COLORS = list(mcolors.CSS4_COLORS.keys())"
   ]
  },
  {
   "cell_type": "markdown",
   "metadata": {},
   "source": [
    "<link href=\"style.css\" rel=\"stylesheet\"></link>\n",
    "<article class=\"day-desc\"><h2>--- Day 1: Calorie Counting ---</h2><p>Santa's reindeer typically eat regular reindeer food, but they need a lot of <a href=\"/2018/day/25\">magical energy</a> to deliver presents on Christmas. For that, their favorite snack is a special type of <em class=\"star\">star</em> fruit that only grows deep in the jungle. The Elves have brought you on their annual expedition to the grove where the fruit grows.</p>\n",
    "<p>To supply enough magical energy, the expedition needs to retrieve a minimum of <em class=\"star\">fifty stars</em> by December 25th. Although the Elves assure you that the grove has plenty of fruit, you decide to grab any fruit you see along the way, just in case.</p>\n",
    "<p>Collect stars by solving puzzles.  Two puzzles will be made available on each day in the Advent calendar; the second puzzle is unlocked when you complete the first.  Each puzzle grants <em class=\"star\">one star</em>. Good luck!</p>\n",
    "<p>The jungle must be too overgrown and difficult to navigate in vehicles or access from the air; the Elves' expedition traditionally goes on foot. As your boats approach land, the Elves begin taking inventory of their supplies. One important consideration is food - in particular, the number of <em>Calories</em> each Elf is carrying (your puzzle input).</p>\n",
    "<p>The Elves take turns writing down the number of Calories contained by the various meals, snacks, rations, <span title=\"By &quot;etc&quot;, you're pretty sure they just mean &quot;more snacks&quot;.\">etc.</span> that they've brought with them, one item per line. Each Elf separates their own inventory from the previous Elf's inventory (if any) by a blank line.</p>\n",
    "<p>For example, suppose the Elves finish writing their items' Calories and end up with the following list:</p>\n",
    "<pre><code>1000\n",
    "2000\n",
    "3000\n",
    "\n",
    "4000\n",
    "\n",
    "5000\n",
    "6000\n",
    "\n",
    "7000\n",
    "8000\n",
    "9000\n",
    "\n",
    "10000\n",
    "</code></pre>\n",
    "\n",
    "<p>This list represents the Calories of the food carried by five Elves:</p>\n",
    "<ul>\n",
    "<li>The first Elf is carrying food with <code>1000</code>, <code>2000</code>, and <code>3000</code> Calories, a total of <code><em>6000</em></code> Calories.</li>\n",
    "<li>The second Elf is carrying one food item with <code><em>4000</em></code> Calories.</li>\n",
    "<li>The third Elf is carrying food with <code>5000</code> and <code>6000</code> Calories, a total of <code><em>11000</em></code> Calories.</li>\n",
    "<li>The fourth Elf is carrying food with <code>7000</code>, <code>8000</code>, and <code>9000</code> Calories, a total of <code><em>24000</em></code> Calories.</li>\n",
    "<li>The fifth Elf is carrying one food item with <code><em>10000</em></code> Calories.</li>\n",
    "</ul>\n",
    "<p>In case the Elves get hungry and need extra snacks, they need to know which Elf to ask: they'd like to know how many Calories are being carried by the Elf carrying the <em>most</em> Calories. In the example above, this is <em><code>24000</code></em> (carried by the fourth Elf).</p>\n",
    "<p>Find the Elf carrying the most Calories. <em>How many total Calories is that Elf carrying?</em></p>\n",
    "</article>\n"
   ]
  },
  {
   "cell_type": "code",
   "execution_count": 24,
   "metadata": {},
   "outputs": [
    {
     "name": "stdout",
     "output_type": "stream",
     "text": [
      "\n",
      "\u001b[32mTest Example passed, for most_calroies_test.\u001b[0m\n",
      "\u001b[32mSuccess\u001b[0m\n"
     ]
    }
   ],
   "source": [
    "def most_calroies(s: str) -> int:\n",
    "    return max(sum(int(i) for i in c.split()) for c in re.split(r\"\\n\\s*\\n\", s))\n",
    "\n",
    "\n",
    "most_calroies_tests = [\n",
    "    {\n",
    "        \"name\": \"Example\",\n",
    "        \"s\": \"\"\"\n",
    "            1000\n",
    "            2000\n",
    "            3000\n",
    "\n",
    "            4000\n",
    "\n",
    "            5000\n",
    "            6000\n",
    "\n",
    "            7000\n",
    "            8000\n",
    "            9000\n",
    "\n",
    "            10000\n",
    "        \"\"\",\n",
    "        \"expected\": 24_000,\n",
    "    },\n",
    "]\n",
    "\n",
    "\n",
    "@test(tests=most_calroies_tests)\n",
    "def most_calroies_test(s: str) -> int:\n",
    "    return most_calroies(s)"
   ]
  },
  {
   "cell_type": "code",
   "execution_count": 25,
   "metadata": {},
   "outputs": [
    {
     "name": "stdout",
     "output_type": "stream",
     "text": [
      "Part 1: 71780\n"
     ]
    }
   ],
   "source": [
    "with open(\"../input/day1.txt\") as f:\n",
    "    puzzle = f.read()\n",
    "\n",
    "print(f\"Part 1: {most_calroies(puzzle)}\")"
   ]
  },
  {
   "cell_type": "markdown",
   "metadata": {},
   "source": [
    "<link href=\"style.css\" rel=\"stylesheet\"></link>\n",
    "<main>\n",
    "\n",
    "<p>Your puzzle answer was <code>71780</code>.</p><p class=\"day-success\">The first half of this puzzle is complete! It provides one gold star: *</p>\n"
   ]
  },
  {
   "cell_type": "markdown",
   "metadata": {},
   "source": [
    "<article class=\"day-desc\"><h2 id=\"part2\">--- Part Two ---</h2><p>By the time you calculate the answer to the Elves' question, they've already realized that the Elf carrying the most Calories of food might eventually <em>run out of snacks</em>.</p>\n",
    "<p>To avoid this unacceptable situation, the Elves would instead like to know the total Calories carried by the <em>top three</em> Elves carrying the most Calories. That way, even if one of those Elves runs out of snacks, they still have two backups.</p>\n",
    "<p>In the example above, the top three Elves are the fourth Elf (with <code>24000</code> Calories), then the third Elf (with <code>11000</code> Calories), then the fifth Elf (with <code>10000</code> Calories). The sum of the Calories carried by these three elves is <code><em>45000</em></code>.</p>\n",
    "<p>Find the top three Elves carrying the most Calories. <em>How many Calories are those Elves carrying in total?</em></p>\n",
    "</article>\n"
   ]
  },
  {
   "cell_type": "code",
   "execution_count": 26,
   "metadata": {},
   "outputs": [
    {
     "name": "stdout",
     "output_type": "stream",
     "text": [
      "\n",
      "\u001b[32mTest Example passed, for top_three_calroies_test.\u001b[0m\n",
      "\u001b[32mSuccess\u001b[0m\n"
     ]
    }
   ],
   "source": [
    "def top_three_calroies(s: str) -> int:\n",
    "    return sum(\n",
    "        sorted(sum(int(i) for i in c.split()) for c in re.split(r\"\\n\\s*\\n\", s))[-3:]\n",
    "    )\n",
    "\n",
    "\n",
    "top_three_calroies_tests = [\n",
    "    {\n",
    "        \"name\": \"Example\",\n",
    "        \"s\": \"\"\"\n",
    "            1000\n",
    "            2000\n",
    "            3000\n",
    "\n",
    "            4000\n",
    "\n",
    "            5000\n",
    "            6000\n",
    "\n",
    "            7000\n",
    "            8000\n",
    "            9000\n",
    "\n",
    "            10000\n",
    "        \"\"\",\n",
    "        \"expected\": 45_000,\n",
    "    },\n",
    "]\n",
    "\n",
    "\n",
    "@test(tests=top_three_calroies_tests)\n",
    "def top_three_calroies_test(s: str) -> int:\n",
    "    return top_three_calroies(s)"
   ]
  },
  {
   "cell_type": "markdown",
   "metadata": {},
   "source": [
    "<link href=\"style.css\" rel=\"stylesheet\"></link>\n"
   ]
  },
  {
   "cell_type": "code",
   "execution_count": 27,
   "metadata": {},
   "outputs": [
    {
     "name": "stdout",
     "output_type": "stream",
     "text": [
      "Part 2: 212489\n"
     ]
    }
   ],
   "source": [
    "print(f\"Part 2: {top_three_calroies(puzzle)}\")"
   ]
  },
  {
   "cell_type": "markdown",
   "metadata": {},
   "source": [
    "<main>\n",
    "\n",
    "<p>Your puzzle answer was <code>212489</code>.</p><p class=\"day-success\">Both parts of this puzzle are complete! They provide two gold stars: **</p>\n",
    "\n",
    "</main>\n"
   ]
  }
 ],
 "metadata": {
  "kernelspec": {
   "display_name": ".venv",
   "language": "python",
   "name": "python3"
  },
  "language_info": {
   "codemirror_mode": {
    "name": "ipython",
    "version": 3
   },
   "file_extension": ".py",
   "mimetype": "text/x-python",
   "name": "python",
   "nbconvert_exporter": "python",
   "pygments_lexer": "ipython3",
   "version": "3.13.5"
  }
 },
 "nbformat": 4,
 "nbformat_minor": 2
}
