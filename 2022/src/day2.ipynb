{
 "cells": [
  {
   "cell_type": "code",
   "execution_count": 1,
   "metadata": {},
   "outputs": [],
   "source": [
    "# %matplotlib widget\n",
    "\n",
    "from __future__ import annotations\n",
    "\n",
    "import re\n",
    "from collections import defaultdict\n",
    "from dataclasses import dataclass, field\n",
    "from itertools import permutations, product\n",
    "from math import inf\n",
    "from random import choice\n",
    "\n",
    "import matplotlib.colors as mcolors\n",
    "import matplotlib.pyplot as plt\n",
    "import networkx as nx\n",
    "import numpy as np\n",
    "import numpy.typing as npt\n",
    "from mpl_toolkits.mplot3d import axes3d\n",
    "from numpy import int_, object_\n",
    "from numpy.typing import NDArray\n",
    "from test_utilities import test\n",
    "from util import print_hex\n",
    "\n",
    "COLORS = list(mcolors.CSS4_COLORS.keys())"
   ]
  },
  {
   "cell_type": "markdown",
   "metadata": {},
   "source": [
    "<link href=\"style.css\" rel=\"stylesheet\"></link>\n",
    "<article class=\"day-desc\"><h2>--- Day 2: Rock Paper Scissors ---</h2><p>The Elves begin to set up camp on the beach. To decide whose tent gets to be closest to the snack storage, a giant <a href=\"https://en.wikipedia.org/wiki/rock_paper_scissors\" target=\"_blank\">Rock Paper Scissors</a> tournament is already in progress.</p>\n",
    "<p>Rock Paper Scissors is a game between two players. Each game contains many rounds; in each round, the players each simultaneously choose one of Rock, Paper, or Scissors using a hand shape. Then, a winner for that round is selected: Rock defeats Scissors, Scissors defeats Paper, and Paper defeats Rock. If both players choose the same shape, the round instead ends in a draw.</p>\n",
    "<p>Appreciative of your help yesterday, one Elf gives you an <em>encrypted strategy guide</em> (your puzzle input) that they say will be sure to help you win. \"The first column is what your opponent is going to play: <code>A</code> for Rock, <code>B</code> for Paper, and <code>C</code> for Scissors. The second column--\" Suddenly, the Elf is called away to help with someone's tent.</p>\n",
    "<p>The second column, <span title=\"Why do you keep guessing?!\">you reason</span>, must be what you should play in response: <code>X</code> for Rock, <code>Y</code> for Paper, and <code>Z</code> for Scissors. Winning every time would be suspicious, so the responses must have been carefully chosen.</p>\n",
    "<p>The winner of the whole tournament is the player with the highest score. Your <em>total score</em> is the sum of your scores for each round. The score for a single round is the score for the <em>shape you selected</em> (1 for Rock, 2 for Paper, and 3 for Scissors) plus the score for the <em>outcome of the round</em> (0 if you lost, 3 if the round was a draw, and 6 if you won).</p>\n",
    "<p>Since you can't be sure if the Elf is trying to help you or trick you, you should calculate the score you would get if you were to follow the strategy guide.</p>\n",
    "<p>For example, suppose you were given the following strategy guide:</p>\n",
    "<pre><code>A Y\n",
    "B X\n",
    "C Z\n",
    "</code></pre>\n",
    "<p>This strategy guide predicts and recommends the following:</p>\n",
    "<ul>\n",
    "<li>In the first round, your opponent will choose Rock (<code>A</code>), and you should choose Paper (<code>Y</code>). This ends in a win for you with a score of <em>8</em> (2 because you chose Paper + 6 because you won).</li>\n",
    "<li>In the second round, your opponent will choose Paper (<code>B</code>), and you should choose Rock (<code>X</code>). This ends in a loss for you with a score of <em>1</em> (1 + 0).</li>\n",
    "<li>The third round is a draw with both players choosing Scissors, giving you a score of 3 + 3 = <em>6</em>.</li>\n",
    "</ul>\n",
    "<p>In this example, if you were to follow the strategy guide, you would get a total score of <code><em>15</em></code> (8 + 1 + 6).</p>\n",
    "<p><em>What would your total score be if everything goes exactly according to your strategy guide?</em></p>\n",
    "</article>\n"
   ]
  },
  {
   "cell_type": "code",
   "execution_count": 2,
   "metadata": {},
   "outputs": [
    {
     "name": "stdout",
     "output_type": "stream",
     "text": [
      "\n",
      "\u001b[32mTest Example passed, for rock_paper_scissors_test.\u001b[0m\n",
      "\u001b[32mSuccess\u001b[0m\n"
     ]
    }
   ],
   "source": [
    "def rock_paper_scissors(s: str) -> int:\n",
    "    score = {\"A\": 1, \"B\": 2, \"C\": 3, \"X\": 1, \"Y\": 2, \"Z\": 3}\n",
    "    strategie = [[score[c] for c in p.strip().split()] for p in s.strip().splitlines()]\n",
    "\n",
    "    total_score = 0\n",
    "\n",
    "    for opponent, me in strategie:\n",
    "        total_score += me\n",
    "\n",
    "        match me, opponent:\n",
    "            case 1, 3:\n",
    "                total_score += 6\n",
    "            case 3, 2:\n",
    "                total_score += 6\n",
    "            case 2, 1:\n",
    "                total_score += 6\n",
    "            case x, y if x == y:\n",
    "                total_score += 3\n",
    "\n",
    "    return total_score\n",
    "\n",
    "\n",
    "rock_paper_scissors_tests = [\n",
    "    {\n",
    "        \"name\": \"Example\",\n",
    "        \"s\": \"\"\"\n",
    "            A Y\n",
    "            B X\n",
    "            C Z\n",
    "        \"\"\",\n",
    "        \"expected\": 15,\n",
    "    },\n",
    "]\n",
    "\n",
    "\n",
    "@test(tests=rock_paper_scissors_tests)\n",
    "def rock_paper_scissors_test(s: str) -> int:\n",
    "    return rock_paper_scissors(s)"
   ]
  },
  {
   "cell_type": "code",
   "execution_count": 3,
   "metadata": {},
   "outputs": [
    {
     "name": "stdout",
     "output_type": "stream",
     "text": [
      "Part 1: 13052\n"
     ]
    }
   ],
   "source": [
    "with open(\"../input/day2.txt\") as f:\n",
    "    puzzle = f.read()\n",
    "\n",
    "print(f\"Part 1: {rock_paper_scissors(puzzle)}\")"
   ]
  },
  {
   "cell_type": "markdown",
   "metadata": {},
   "source": [
    "<link href=\"style.css\" rel=\"stylesheet\"></link>\n",
    "<main>\n",
    "\n",
    "<p>Your puzzle answer was <code>13052</code>.</p><p class=\"day-success\">The first half of this puzzle is complete! It provides one gold star: *</p>\n"
   ]
  },
  {
   "cell_type": "markdown",
   "metadata": {},
   "source": [
    "<article class=\"day-desc\"><h2 id=\"part2\">--- Part Two ---</h2><p>The Elf finishes helping with the tent and sneaks back over to you. \"Anyway, the second column says how the round needs to end: <code>X</code> means you need to lose, <code>Y</code> means you need to end the round in a draw, and <code>Z</code> means you need to win. Good luck!\"</p>\n",
    "<p>The total score is still calculated in the same way, but now you need to figure out what shape to choose so the round ends as indicated. The example above now goes like this:</p>\n",
    "<ul>\n",
    "<li>In the first round, your opponent will choose Rock (<code>A</code>), and you need the round to end in a draw (<code>Y</code>), so you also choose Rock. This gives you a score of 1 + 3 = <em>4</em>.</li>\n",
    "<li>In the second round, your opponent will choose Paper (<code>B</code>), and you choose Rock so you lose (<code>X</code>) with a score of 1 + 0 = <em>1</em>.</li>\n",
    "<li>In the third round, you will defeat your opponent's Scissors with Rock for a score of 1 + 6 = <em>7</em>.</li>\n",
    "</ul>\n",
    "<p>Now that you're correctly decrypting the ultra top secret strategy guide, you would get a total score of <code><em>12</em></code>.</p>\n",
    "<p>Following the Elf's instructions for the second column, <em>what would your total score be if everything goes exactly according to your strategy guide?</em></p>\n",
    "</article>\n"
   ]
  },
  {
   "cell_type": "code",
   "execution_count": 4,
   "metadata": {},
   "outputs": [
    {
     "name": "stdout",
     "output_type": "stream",
     "text": [
      "\n",
      "\u001b[32mTest Example passed, for rock_paper_scissors_part2_test.\u001b[0m\n",
      "\u001b[32mSuccess\u001b[0m\n"
     ]
    }
   ],
   "source": [
    "def rock_paper_scissors_part2(s: str) -> int:\n",
    "    score = {\"A\": 1, \"B\": 2, \"C\": 3, \"X\": \"lose\", \"Y\": \"draw\", \"Z\": \"win\"}\n",
    "    chose = {\n",
    "        \"lose\": {1: 3, 2: 1, 3: 2},\n",
    "        \"draw\": {1: 1, 2: 2, 3: 3},\n",
    "        \"win\": {1: 2, 2: 3, 3: 1},\n",
    "    }\n",
    "    strategie = [[score[c] for c in p.strip().split()] for p in s.strip().splitlines()]\n",
    "\n",
    "    total_score = 0\n",
    "\n",
    "    for opponent, strategie in strategie:\n",
    "        if strategie == \"win\":\n",
    "            total_score += 6\n",
    "        elif strategie == \"draw\":\n",
    "            total_score += 3\n",
    "        total_score += chose[strategie][opponent]\n",
    "\n",
    "    return total_score\n",
    "\n",
    "\n",
    "rock_paper_scissors_part2_tests = [\n",
    "    {\n",
    "        \"name\": \"Example\",\n",
    "        \"s\": \"\"\"\n",
    "            A Y\n",
    "            B X\n",
    "            C Z\n",
    "        \"\"\",\n",
    "        \"expected\": 12,\n",
    "    },\n",
    "]\n",
    "\n",
    "\n",
    "@test(tests=rock_paper_scissors_part2_tests)\n",
    "def rock_paper_scissors_part2_test(s: str) -> int:\n",
    "    return rock_paper_scissors_part2(s)"
   ]
  },
  {
   "cell_type": "markdown",
   "metadata": {},
   "source": [
    "<link href=\"style.css\" rel=\"stylesheet\"></link>\n"
   ]
  },
  {
   "cell_type": "code",
   "execution_count": 6,
   "metadata": {},
   "outputs": [
    {
     "name": "stdout",
     "output_type": "stream",
     "text": [
      "Part 2: 13693\n"
     ]
    }
   ],
   "source": [
    "print(f\"Part 2: {rock_paper_scissors_part2(puzzle)}\")"
   ]
  },
  {
   "cell_type": "markdown",
   "metadata": {},
   "source": [
    "<main>\n",
    "\n",
    "<p>Your puzzle answer was <code>13693</code>.</p><p class=\"day-success\">Both parts of this puzzle are complete! They provide two gold stars: **</p>\n",
    "\n",
    "</main>\n"
   ]
  }
 ],
 "metadata": {
  "kernelspec": {
   "display_name": ".venv",
   "language": "python",
   "name": "python3"
  },
  "language_info": {
   "codemirror_mode": {
    "name": "ipython",
    "version": 3
   },
   "file_extension": ".py",
   "mimetype": "text/x-python",
   "name": "python",
   "nbconvert_exporter": "python",
   "pygments_lexer": "ipython3",
   "version": "3.13.5"
  }
 },
 "nbformat": 4,
 "nbformat_minor": 2
}
