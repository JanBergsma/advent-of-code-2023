{
 "cells": [
  {
   "cell_type": "code",
   "execution_count": 29,
   "metadata": {},
   "outputs": [],
   "source": [
    "# %matplotlib widget\n",
    "\n",
    "from __future__ import annotations\n",
    "\n",
    "import re\n",
    "from collections import defaultdict\n",
    "from dataclasses import dataclass, field\n",
    "from itertools import permutations, product\n",
    "from math import inf\n",
    "from random import choice\n",
    "\n",
    "import matplotlib.colors as mcolors\n",
    "import matplotlib.pyplot as plt\n",
    "import networkx as nx\n",
    "import numpy as np\n",
    "import numpy.typing as npt\n",
    "from mpl_toolkits.mplot3d import axes3d\n",
    "from numpy import int_, object_\n",
    "from numpy.typing import NDArray\n",
    "from test_utilities import test\n",
    "from util import print_hex\n",
    "\n",
    "COLORS = list(mcolors.CSS4_COLORS.keys())"
   ]
  },
  {
   "cell_type": "markdown",
   "metadata": {},
   "source": [
    "<link href=\"style.css\" rel=\"stylesheet\"></link>\n",
    "<article class=\"day-desc\"><h2>--- Day 4: Camp Cleanup ---</h2><p>Space needs to be cleared before the last supplies can be unloaded from the ships, and so several Elves have been assigned the job of cleaning up sections of the camp. Every section has a unique <em>ID number</em>, and each Elf is assigned a range of section IDs.</p>\n",
    "<p>However, as some of the Elves compare their section assignments with each other, they've noticed that many of the assignments <em>overlap</em>. To try to quickly find overlaps and reduce duplicated effort, the Elves pair up and make a <em>big list of the section assignments for each pair</em> (your puzzle input).</p>\n",
    "<p>For example, consider the following list of section assignment pairs:</p>\n",
    "<pre><code>2-4,6-8\n",
    "2-3,4-5\n",
    "5-7,7-9\n",
    "2-8,3-7\n",
    "6-6,4-6\n",
    "2-6,4-8\n",
    "</code></pre>\n",
    "<p>For the first few pairs, this list means:</p>\n",
    "<ul>\n",
    "<li>Within the first pair of Elves, the first Elf was assigned sections <code>2-4</code> (sections <code>2</code>, <code>3</code>, and <code>4</code>), while the second Elf was assigned sections <code>6-8</code> (sections <code>6</code>, <code>7</code>, <code>8</code>).</li>\n",
    "<li>The Elves in the second pair were each assigned two sections.</li>\n",
    "<li>The Elves in the third pair were each assigned three sections: one got sections <code>5</code>, <code>6</code>, and <code>7</code>, while the other also got <code>7</code>, plus <code>8</code> and <code>9</code>.</li>\n",
    "</ul>\n",
    "<p>This example list uses single-digit section IDs to make it easier to draw; your actual list might contain larger numbers. Visually, these pairs of section assignments look like this:</p>\n",
    "<pre><code>.234.....  2-4\n",
    ".....678.  6-8\n",
    "\n",
    ".23...... 2-3\n",
    "...45.... 4-5\n",
    "\n",
    "....567.. 5-7\n",
    "......789 7-9\n",
    "\n",
    ".2345678. 2-8\n",
    "..34567.. 3-7\n",
    "\n",
    ".....6... 6-6\n",
    "...456... 4-6\n",
    "\n",
    ".23456... 2-6\n",
    "...45678. 4-8\n",
    "</code></pre>\n",
    "\n",
    "<p>Some of the pairs have noticed that one of their assignments <em>fully contains</em> the other. For example, <code>2-8</code> fully contains <code>3-7</code>, and <code>6-6</code> is fully contained by <code>4-6</code>. In pairs where one assignment fully contains the other, one Elf in the pair would be exclusively cleaning sections their partner will already be cleaning, so these seem like the most in need of reconsideration. In this example, there are <code><em>2</em></code> such pairs.</p>\n",
    "<p><em>In how many assignment pairs does one range fully contain the other?</em></p>\n",
    "</article>\n"
   ]
  },
  {
   "cell_type": "code",
   "execution_count": 30,
   "metadata": {},
   "outputs": [
    {
     "name": "stdout",
     "output_type": "stream",
     "text": [
      "\n",
      "\u001b[32mTest Example passed, for count_fully_contained_assignment_pairs_test.\u001b[0m\n",
      "\u001b[32mSuccess\u001b[0m\n"
     ]
    }
   ],
   "source": [
    "def count_fully_contained_assignment_pairs(s: str) -> int:\n",
    "    pairs = [\n",
    "        [int(i) for i in re.split(r\"\\D+\", l.strip())] for l in s.strip().splitlines()\n",
    "    ]\n",
    "    return sum(\n",
    "        1\n",
    "        for fr1, to1, fr2, to2 in pairs\n",
    "        if fr1 <= fr2 <= to2 <= to1 or fr2 <= fr1 <= to1 <= to2\n",
    "    )\n",
    "\n",
    "\n",
    "count_fully_contained_assignment_pairs_tests = [\n",
    "    {\n",
    "        \"name\": \"Example\",\n",
    "        \"s\": \"\"\"\n",
    "            2-4,6-8\n",
    "            2-3,4-5\n",
    "            5-7,7-9\n",
    "            2-8,3-7\n",
    "            6-6,4-6\n",
    "            2-6,4-8\n",
    "        \"\"\",\n",
    "        \"expected\": 2,\n",
    "    },\n",
    "]\n",
    "\n",
    "\n",
    "@test(tests=count_fully_contained_assignment_pairs_tests)\n",
    "def count_fully_contained_assignment_pairs_test(s: str) -> int:\n",
    "    return count_fully_contained_assignment_pairs(s)"
   ]
  },
  {
   "cell_type": "code",
   "execution_count": 31,
   "metadata": {},
   "outputs": [
    {
     "name": "stdout",
     "output_type": "stream",
     "text": [
      "Part 1: 602\n"
     ]
    }
   ],
   "source": [
    "with open(\"../input/day4.txt\") as f:\n",
    "    puzzle = f.read()\n",
    "\n",
    "print(f\"Part 1: {count_fully_contained_assignment_pairs(puzzle)}\")"
   ]
  },
  {
   "cell_type": "markdown",
   "metadata": {},
   "source": [
    "<link href=\"style.css\" rel=\"stylesheet\"></link>\n",
    "<main>\n",
    "\n",
    "<p>Your puzzle answer was <code>602</code>.</p><p class=\"day-success\">The first half of this puzzle is complete! It provides one gold star: *</p>\n"
   ]
  },
  {
   "cell_type": "markdown",
   "metadata": {},
   "source": [
    "<article class=\"day-desc\"><h2 id=\"part2\">--- Part Two ---</h2><p>It seems like there is still quite a bit of duplicate work planned. Instead, the Elves would <span title=\"If you like this, you'll *love* axis-aligned bounding box intersection testing.\">like</span> to know the number of pairs that <em>overlap at all</em>.</p>\n",
    "<p>In the above example, the first two pairs (<code>2-4,6-8</code> and <code>2-3,4-5</code>) don't overlap, while the remaining four pairs (<code>5-7,7-9</code>, <code>2-8,3-7</code>, <code>6-6,4-6</code>, and <code>2-6,4-8</code>) do overlap:</p>\n",
    "<ul>\n",
    "<li><code>5-7,7-9</code> overlaps in a single section, <code>7</code>.</li>\n",
    "<li><code>2-8,3-7</code> overlaps all of the sections <code>3</code> through <code>7</code>.</li>\n",
    "<li><code>6-6,4-6</code> overlaps in a single section, <code>6</code>.</li>\n",
    "<li><code>2-6,4-8</code> overlaps in sections <code>4</code>, <code>5</code>, and <code>6</code>.</li>\n",
    "</ul>\n",
    "<p>So, in this example, the number of overlapping assignment pairs is <code><em>4</em></code>.</p>\n",
    "<p><em>In how many assignment pairs do the ranges overlap?</em></p>\n",
    "</article>\n"
   ]
  },
  {
   "cell_type": "code",
   "execution_count": null,
   "metadata": {},
   "outputs": [
    {
     "name": "stdout",
     "output_type": "stream",
     "text": [
      "\n",
      "\u001b[32mTest Example passed, for count_overlapping_assignment_pairs_test.\u001b[0m\n",
      "\u001b[32mSuccess\u001b[0m\n"
     ]
    }
   ],
   "source": [
    "def count_overlapping_assignment_pairs(s: str) -> int:\n",
    "    pairs = [\n",
    "        [int(i) for i in re.split(r\"\\D+\", l.strip())] for l in s.strip().splitlines()\n",
    "    ]\n",
    "    return sum(1 for fr1, to1, fr2, to2 in pairs if to2 >= fr1 and to1 >= fr2)\n",
    "\n",
    "\n",
    "count_overlapping_assignment_pairs_tests = [\n",
    "    {\n",
    "        \"name\": \"Example\",\n",
    "        \"s\": \"\"\"\n",
    "            2-4,6-8\n",
    "            2-3,4-5\n",
    "            5-7,7-9\n",
    "            2-8,3-7\n",
    "            6-6,4-6\n",
    "            2-6,4-8\n",
    "        \"\"\",\n",
    "        \"expected\": 4,\n",
    "    },\n",
    "]\n",
    "\n",
    "\n",
    "@test(tests=count_overlapping_assignment_pairs_tests)\n",
    "def count_overlapping_assignment_pairs_test(s: str) -> int:\n",
    "    return count_overlapping_assignment_pairs(s)"
   ]
  },
  {
   "cell_type": "markdown",
   "metadata": {},
   "source": [
    "<link href=\"style.css\" rel=\"stylesheet\"></link>\n"
   ]
  },
  {
   "cell_type": "code",
   "execution_count": 33,
   "metadata": {},
   "outputs": [
    {
     "name": "stdout",
     "output_type": "stream",
     "text": [
      "Part 2: 891\n"
     ]
    }
   ],
   "source": [
    "print(f\"Part 2: {count_overlapping_assignment_pairs(puzzle)}\")"
   ]
  },
  {
   "cell_type": "markdown",
   "metadata": {},
   "source": [
    "<main>\n",
    "\n",
    "<p>Your puzzle answer was <code>891</code>.</p><p class=\"day-success\">Both parts of this puzzle are complete! They provide two gold stars: **</p>\n",
    "\n",
    "</main>\n"
   ]
  },
  {
   "cell_type": "markdown",
   "metadata": {},
   "source": []
  }
 ],
 "metadata": {
  "kernelspec": {
   "display_name": ".venv",
   "language": "python",
   "name": "python3"
  },
  "language_info": {
   "codemirror_mode": {
    "name": "ipython",
    "version": 3
   },
   "file_extension": ".py",
   "mimetype": "text/x-python",
   "name": "python",
   "nbconvert_exporter": "python",
   "pygments_lexer": "ipython3",
   "version": "3.13.5"
  }
 },
 "nbformat": 4,
 "nbformat_minor": 2
}
