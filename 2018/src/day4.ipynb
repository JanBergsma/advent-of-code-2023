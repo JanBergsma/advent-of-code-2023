{
 "cells": [
  {
   "cell_type": "code",
   "execution_count": 108,
   "metadata": {},
   "outputs": [],
   "source": [
    "# %matplotlib widget\n",
    "\n",
    "from __future__ import annotations\n",
    "\n",
    "import re\n",
    "from collections import defaultdict\n",
    "from dataclasses import dataclass, field\n",
    "from itertools import permutations, product\n",
    "from math import inf\n",
    "from random import choice\n",
    "\n",
    "import matplotlib.colors as mcolors\n",
    "import matplotlib.pyplot as plt\n",
    "import networkx as nx\n",
    "import numpy as np\n",
    "import numpy.typing as npt\n",
    "from mpl_toolkits.mplot3d import axes3d\n",
    "from numpy import int_, object_\n",
    "from numpy.typing import NDArray\n",
    "from test_utilities import run_tests_params\n",
    "from util import print_hex\n",
    "\n",
    "COLORS = list(mcolors.CSS4_COLORS.keys())"
   ]
  },
  {
   "cell_type": "markdown",
   "metadata": {},
   "source": [
    "<link href=\"style.css\" rel=\"stylesheet\"></link>\n",
    "<article class=\"day-desc read-aloud\"><h2>--- Day 4: Repose Record ---</h2><p>You've <span title=\"Yes, 'sneaked'. 'Snuck' didn't appear in English until the 1800s.\">sneaked</span> into another supply closet - this time, it's across from the prototype suit manufacturing lab. You need to sneak inside and fix the issues with the suit, but there's a guard stationed outside the lab, so this is as close as you can safely get.</p>\n",
    "<p>As you search the closet for anything that might help, you discover that you're not the first person to want to sneak in.  Covering the walls, someone has spent an hour starting every midnight for the past few months secretly observing this guard post!  They've been writing down the ID of <em>the one guard on duty that night</em> - the Elves seem to have decided that one guard was enough for the overnight shift - as well as when they fall asleep or wake up while at their post (your puzzle input).</p>\n",
    "<p>For example, consider the following records, which have already been organized into chronological order:</p>\n",
    "<pre><code>[1518-11-01 00:00] Guard #10 begins shift\n",
    "[1518-11-01 00:05] falls asleep\n",
    "[1518-11-01 00:25] wakes up\n",
    "[1518-11-01 00:30] falls asleep\n",
    "[1518-11-01 00:55] wakes up\n",
    "[1518-11-01 23:58] Guard #99 begins shift\n",
    "[1518-11-02 00:40] falls asleep\n",
    "[1518-11-02 00:50] wakes up\n",
    "[1518-11-03 00:05] Guard #10 begins shift\n",
    "[1518-11-03 00:24] falls asleep\n",
    "[1518-11-03 00:29] wakes up\n",
    "[1518-11-04 00:02] Guard #99 begins shift\n",
    "[1518-11-04 00:36] falls asleep\n",
    "[1518-11-04 00:46] wakes up\n",
    "[1518-11-05 00:03] Guard #99 begins shift\n",
    "[1518-11-05 00:45] falls asleep\n",
    "[1518-11-05 00:55] wakes up\n",
    "</code></pre>\n",
    "<p>Timestamps are written using <code>year-month-day hour:minute</code> format. The guard falling asleep or waking up is always the one whose shift most recently started. Because all asleep/awake times are during the midnight hour (<code>00:00</code> - <code>00:59</code>), only the minute portion (<code>00</code> - <code>59</code>) is relevant for those events.</p>\n",
    "<p>Visually, these records show that the guards are asleep at these times:</p>\n",
    "<pre><code>Date   ID   Minute\n",
    "            000000000011111111112222222222333333333344444444445555555555\n",
    "            012345678901234567890123456789012345678901234567890123456789\n",
    "11-01  #10  .....####################.....#########################.....\n",
    "11-02  #99  ........................................##########..........\n",
    "11-03  #10  ........................#####...............................\n",
    "11-04  #99  ....................................##########..............\n",
    "11-05  #99  .............................................##########.....\n",
    "</code></pre>\n",
    "<p>The columns are Date, which shows the month-day portion of the relevant day; ID, which shows the guard on duty that day; and Minute, which shows the minutes during which the guard was asleep within the midnight hour.  (The Minute column's header shows the minute's ten's digit in the first row and the one's digit in the second row.) Awake is shown as <code>.</code>, and asleep is shown as <code>#</code>.</p>\n",
    "<p>Note that guards count as asleep on the minute they fall asleep, and they count as awake on the minute they wake up. For example, because Guard #10 wakes up at 00:25 on 1518-11-01, minute 25 is marked as awake.</p>\n",
    "<p>If you can figure out the guard most likely to be asleep at a specific time, you might be able to trick that guard into working tonight so you can have the best chance of sneaking in.  You have two strategies for choosing the best guard/minute combination.</p>\n",
    "<p><em>Strategy 1:</em> Find the guard that has the most minutes asleep. What minute does that guard spend asleep the most?</p>\n",
    "<p>In the example above, Guard #10 spent the most minutes asleep, a total of 50 minutes (20+25+5), while Guard #99 only slept for a total of 30 minutes (10+10+10). Guard #<em>10</em> was asleep most during minute <em>24</em> (on two days, whereas any other minute the guard was asleep was only seen on one day).</p>\n",
    "<p>While this example listed the entries in chronological order, your entries are in the order you found them. You'll need to organize them before they can be analyzed.</p>\n",
    "<p><em>What is the ID of the guard you chose multiplied by the minute you chose?</em> (In the above example, the answer would be <code>10 * 24 = 240</code>.)</p>\n",
    "</article>\n"
   ]
  },
  {
   "cell_type": "code",
   "execution_count": 109,
   "metadata": {},
   "outputs": [
    {
     "name": "stdout",
     "output_type": "stream",
     "text": [
      "Example: 240 should be 10 * 24 = 240\n"
     ]
    }
   ],
   "source": [
    "from datetime import datetime\n",
    "from re import finditer\n",
    "\n",
    "from more_itertools import first\n",
    "\n",
    "\n",
    "example = \"\"\"\n",
    "[1518-11-01 00:00] Guard #10 begins shift\n",
    "[1518-11-01 00:05] falls asleep\n",
    "[1518-11-01 00:25] wakes up\n",
    "[1518-11-01 00:30] falls asleep\n",
    "[1518-11-01 00:55] wakes up\n",
    "[1518-11-01 23:58] Guard #99 begins shift\n",
    "[1518-11-02 00:40] falls asleep\n",
    "[1518-11-02 00:50] wakes up\n",
    "[1518-11-03 00:05] Guard #10 begins shift\n",
    "[1518-11-03 00:24] falls asleep\n",
    "[1518-11-03 00:29] wakes up\n",
    "[1518-11-04 00:02] Guard #99 begins shift\n",
    "[1518-11-04 00:36] falls asleep\n",
    "[1518-11-04 00:46] wakes up\n",
    "[1518-11-05 00:03] Guard #99 begins shift\n",
    "[1518-11-05 00:45] falls asleep\n",
    "[1518-11-05 00:55] wakes up\n",
    "\"\"\"\n",
    "\n",
    "\n",
    "def strategie_1(records: str) -> int:\n",
    "    guard, asleep = None, None\n",
    "    guard_asleep_total = defaultdict(int)\n",
    "    guard_minute_asleep = defaultdict(lambda: defaultdict(int))\n",
    "\n",
    "    for record in sorted(records.strip().splitlines()):\n",
    "        ts, activity = record.split(\"] \")\n",
    "        ts = datetime.fromisoformat(ts[1:])\n",
    "\n",
    "        if activity.startswith(\"Guard\"):\n",
    "            if asleep is not None:\n",
    "                minutes = (ts - asleep).seconds // 60\n",
    "                guard_asleep_total[guard] += minutes\n",
    "                for delta in range(minutes):\n",
    "                    guard_minute_asleep[guard][(asleep.minute + delta) % 60] += 1\n",
    "            guard = int(first(finditer(r\"\\d+\", activity)).group(0))\n",
    "            asleep = None\n",
    "        elif activity.startswith(\"wakes\"):\n",
    "            if asleep is not None:\n",
    "                minutes = (ts - asleep).seconds // 60\n",
    "                guard_asleep_total[guard] += minutes\n",
    "                for delta in range(minutes):\n",
    "                    guard_minute_asleep[guard][(asleep.minute + delta) % 60] += 1\n",
    "            asleep = None\n",
    "        else:  # \"falls\"\n",
    "            asleep = ts\n",
    "\n",
    "    max_sleeper = max(guard_asleep_total.keys(), key=guard_asleep_total.get)\n",
    "    max_minute = max(\n",
    "        guard_minute_asleep[max_sleeper].keys(),\n",
    "        key=guard_minute_asleep[max_sleeper].get,\n",
    "    )\n",
    "    return max_sleeper * max_minute\n",
    "\n",
    "\n",
    "print(f\"Example: {strategie_1(example)} should be 10 * 24 = 240\")"
   ]
  },
  {
   "cell_type": "code",
   "execution_count": 110,
   "metadata": {},
   "outputs": [
    {
     "name": "stdout",
     "output_type": "stream",
     "text": [
      "Part I: 87681\n"
     ]
    }
   ],
   "source": [
    "from pprint import pprint\n",
    "\n",
    "\n",
    "with open(\"../input/day4.txt\") as f:\n",
    "    puzzle = f.read()\n",
    "\n",
    "print(f\"Part I: {strategie_1(puzzle)}\")"
   ]
  },
  {
   "cell_type": "markdown",
   "metadata": {},
   "source": [
    "<link href=\"style.css\" rel=\"stylesheet\"></link>\n",
    "<main>\n",
    "\n",
    "<p>Your puzzle answer was <code>87681</code>.</p><p class=\"day-success\">The first half of this puzzle is complete! It provides one gold star: *</p>\n",
    "<article class=\"day-desc\"><h2 id=\"part2\">--- Part Two ---</h2><p><em>Strategy 2:</em> Of all guards, which guard is most frequently asleep on the same minute?</p>\n",
    "<p>In the example above, Guard #<em>99</em> spent minute <em>45</em> asleep more than any other guard or minute - three times in total. (In all other cases, any guard spent any minute asleep at most twice.)</p>\n",
    "<p><em>What is the ID of the guard you chose multiplied by the minute you chose?</em> (In the above example, the answer would be <code>99 * 45 = 4455</code>.)</p>\n",
    "</article>\n",
    "\n",
    "</main>\n"
   ]
  },
  {
   "cell_type": "code",
   "execution_count": 111,
   "metadata": {},
   "outputs": [
    {
     "name": "stdout",
     "output_type": "stream",
     "text": [
      "Example: 4455 should be 99 * 45 = 4455\n"
     ]
    }
   ],
   "source": [
    "from math import prod\n",
    "\n",
    "\n",
    "def strategie_2(records: str) -> int:\n",
    "    guard, asleep = None, None\n",
    "    guard_minute_asleep = defaultdict(lambda: defaultdict(int))\n",
    "\n",
    "    for record in sorted(records.strip().splitlines()):\n",
    "        ts, activity = record.split(\"] \")\n",
    "        ts = datetime.fromisoformat(ts[1:])\n",
    "\n",
    "        if activity.startswith(\"Guard\"):\n",
    "            if asleep is not None:\n",
    "                minutes = (ts - asleep).seconds // 60\n",
    "                for delta in range(minutes):\n",
    "                    guard_minute_asleep[guard][(asleep.minute + delta) % 60] += 1\n",
    "            guard = int(first(finditer(r\"\\d+\", activity)).group(0))\n",
    "            asleep = None\n",
    "        elif activity.startswith(\"wakes\"):\n",
    "            if asleep is not None:\n",
    "                minutes = (ts - asleep).seconds // 60\n",
    "                for delta in range(minutes):\n",
    "                    guard_minute_asleep[guard][(asleep.minute + delta) % 60] += 1\n",
    "            asleep = None\n",
    "        else:  # \"falls\"\n",
    "            asleep = ts\n",
    "\n",
    "    return prod(\n",
    "        max(\n",
    "            (\n",
    "                (g, *max(ms.items(), key=lambda t: t[1]))\n",
    "                for g, ms in guard_minute_asleep.items()\n",
    "            ),\n",
    "            key=lambda t: t[2],\n",
    "        )[:-1]\n",
    "    )\n",
    "\n",
    "\n",
    "print(f\"Example: {strategie_2(example)} should be 99 * 45 = 4455\")"
   ]
  },
  {
   "cell_type": "code",
   "execution_count": 112,
   "metadata": {},
   "outputs": [
    {
     "name": "stdout",
     "output_type": "stream",
     "text": [
      "Part II: 136461\n"
     ]
    }
   ],
   "source": [
    "print(f\"Part II: {strategie_2(puzzle)}\")  # too low 70453"
   ]
  },
  {
   "cell_type": "markdown",
   "metadata": {},
   "source": [
    "<link href=\"style.css\" rel=\"stylesheet\"></link>\n",
    "<main>\n",
    "\n",
    "<p>Your puzzle answer was <code>136461</code>.</p><p class=\"day-success\">Both parts of this puzzle are complete! They provide two gold stars: **</p>\n",
    "\n",
    "</main>\n"
   ]
  },
  {
   "cell_type": "code",
   "execution_count": null,
   "metadata": {},
   "outputs": [],
   "source": []
  }
 ],
 "metadata": {
  "kernelspec": {
   "display_name": ".venv",
   "language": "python",
   "name": "python3"
  },
  "language_info": {
   "codemirror_mode": {
    "name": "ipython",
    "version": 3
   },
   "file_extension": ".py",
   "mimetype": "text/x-python",
   "name": "python",
   "nbconvert_exporter": "python",
   "pygments_lexer": "ipython3",
   "version": "3.12.0"
  }
 },
 "nbformat": 4,
 "nbformat_minor": 2
}
