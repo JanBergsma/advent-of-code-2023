{
 "cells": [
  {
   "cell_type": "code",
   "execution_count": 1,
   "metadata": {},
   "outputs": [],
   "source": [
    "# %matplotlib widget\n",
    "\n",
    "from __future__ import annotations\n",
    "\n",
    "import re\n",
    "from collections import defaultdict\n",
    "from dataclasses import dataclass, field\n",
    "from itertools import permutations, product\n",
    "from math import inf\n",
    "from random import choice\n",
    "\n",
    "import matplotlib.colors as mcolors\n",
    "import matplotlib.pyplot as plt\n",
    "import networkx as nx\n",
    "import numpy as np\n",
    "import numpy.typing as npt\n",
    "from mpl_toolkits.mplot3d import axes3d\n",
    "from numpy import int_, object_\n",
    "from numpy.typing import NDArray\n",
    "from test_utilities import run_tests_params\n",
    "from util import print_hex\n",
    "\n",
    "COLORS = list(mcolors.CSS4_COLORS.keys())"
   ]
  },
  {
   "cell_type": "markdown",
   "metadata": {},
   "source": [
    "<link href=\"style.css\" rel=\"stylesheet\"></link>\n",
    "<article class=\"day-desc read-aloud\"><h2>--- Day 3: No Matter How You Slice It ---</h2><p>The Elves managed to locate the chimney-squeeze prototype fabric for Santa's suit (thanks to <span title=\"WAS IT YOU\">someone</span> who helpfully wrote its box IDs on the wall of the warehouse in the middle of the night).  Unfortunately, anomalies are still affecting them - nobody can even agree on how to <em>cut</em> the fabric.</p>\n",
    "<p>The whole piece of fabric they're working on is a very large square - at least <code>1000</code> inches on each side.</p>\n",
    "<p>Each Elf has made a <em>claim</em> about which area of fabric would be ideal for Santa's suit.  All claims have an ID and consist of a single rectangle with edges parallel to the edges of the fabric.  Each claim's rectangle is defined as follows:</p>\n",
    "<ul>\n",
    "<li>The number of inches between the left edge of the fabric and the left edge of the rectangle.</li>\n",
    "<li>The number of inches between the top edge of the fabric and the top edge of the rectangle.</li>\n",
    "<li>The width of the rectangle in inches.</li>\n",
    "<li>The height of the rectangle in inches.</li>\n",
    "</ul>\n",
    "<p>A claim like <code>#123 @ 3,2: 5x4</code> means that claim ID <code>123</code> specifies a rectangle <code>3</code> inches from the left edge, <code>2</code> inches from the top edge, <code>5</code> inches wide, and <code>4</code> inches tall. Visually, it claims the square inches of fabric represented by <code>#</code> (and ignores the square inches of fabric represented by <code>.</code>) in the diagram below:</p>\n",
    "<pre><code>...........\n",
    "...........\n",
    "...#####...\n",
    "...#####...\n",
    "...#####...\n",
    "...#####...\n",
    "...........\n",
    "...........\n",
    "...........\n",
    "</code></pre>\n",
    "<p>The problem is that many of the claims <em>overlap</em>, causing two or more claims to cover part of the same areas.  For example, consider the following claims:</p>\n",
    "<pre><code>#1 @ 1,3: 4x4\n",
    "#2 @ 3,1: 4x4\n",
    "#3 @ 5,5: 2x2\n",
    "</code></pre>\n",
    "<p>Visually, these claim the following areas:</p>\n",
    "<pre><code>........\n",
    "...2222.\n",
    "...2222.\n",
    ".11XX22.\n",
    ".11XX22.\n",
    ".111133.\n",
    ".111133.\n",
    "........\n",
    "</code></pre>\n",
    "<p>The four square inches marked with <code>X</code> are claimed by <em>both <code>1</code> and <code>2</code></em>. (Claim <code>3</code>, while adjacent to the others, does not overlap either of them.)</p>\n",
    "<p>If the Elves all proceed with their own plans, none of them will have enough fabric. <em>How many square inches of fabric are within two or more claims?</em></p>\n",
    "</article>\n"
   ]
  },
  {
   "cell_type": "code",
   "execution_count": 2,
   "metadata": {},
   "outputs": [
    {
     "name": "stdout",
     "output_type": "stream",
     "text": [
      "Example 1: 0 should be 0\n",
      "Example 2: 4 should be 4\n"
     ]
    }
   ],
   "source": [
    "from re import findall\n",
    "\n",
    "\n",
    "claims_1 = \"#123 @ 3,2: 5x4\"\n",
    "claims_2 = \"\"\"\n",
    "#1 @ 1,3: 4x4\n",
    "#2 @ 3,1: 4x4\n",
    "#3 @ 5,5: 2x2\n",
    "\"\"\"\n",
    "\n",
    "\n",
    "def overlapping_square_inchis(claims: str) -> int:\n",
    "    inches = defaultdict(int)\n",
    "    for claim in claims.strip().splitlines():\n",
    "        _, left, top, width, height = map(int, findall(r\"\\d+\", claim))\n",
    "        for w, h in product(range(width), range(height)):\n",
    "            inches[(left + w, top + h)] += 1\n",
    "    return sum(1 for c in inches.values() if c > 1)\n",
    "\n",
    "\n",
    "print(f\"Example 1: {overlapping_square_inchis(claims_1)} should be 0\")\n",
    "print(f\"Example 2: {overlapping_square_inchis(claims_2)} should be 4\")"
   ]
  },
  {
   "cell_type": "code",
   "execution_count": 3,
   "metadata": {},
   "outputs": [
    {
     "name": "stdout",
     "output_type": "stream",
     "text": [
      "Part I: 115304\n"
     ]
    }
   ],
   "source": [
    "with open(\"../input/day3.txt\") as f:\n",
    "    puzzle = f.read()\n",
    "\n",
    "print(f\"Part I: {overlapping_square_inchis(puzzle)}\")"
   ]
  },
  {
   "cell_type": "markdown",
   "metadata": {},
   "source": [
    "<link href=\"style.css\" rel=\"stylesheet\"></link>\n",
    "...<main>\n",
    "\n",
    "<p>Your puzzle answer was <code>115304</code>.</p><p class=\"day-success\">The first half of this puzzle is complete! It provides one gold star: *</p>\n",
    "<article class=\"day-desc\"><h2 id=\"part2\">--- Part Two ---</h2><p>Amidst the chaos, you notice that exactly one claim doesn't overlap by even a single square inch of fabric with any other claim. If you can somehow draw attention to it, maybe the Elves will be able to make Santa's suit after all!</p>\n",
    "<p>For example, in the claims above, only claim <code>3</code> is intact after all claims are made.</p>\n",
    "<p><em>What is the ID of the only claim that doesn't overlap?</em></p>\n",
    "</article>\n",
    "\n",
    "</main>\n"
   ]
  },
  {
   "cell_type": "markdown",
   "metadata": {},
   "source": []
  },
  {
   "cell_type": "code",
   "execution_count": 4,
   "metadata": {},
   "outputs": [
    {
     "name": "stdout",
     "output_type": "stream",
     "text": [
      "Example 1: 123 should be 123\n",
      "Example 2: 3 should be 3\n"
     ]
    }
   ],
   "source": [
    "from more_itertools import first\n",
    "\n",
    "\n",
    "def claim_without_overlap(claims: str) -> int:\n",
    "    inches = defaultdict(list[int])\n",
    "    ids = set()\n",
    "\n",
    "    for claim in claims.strip().splitlines():\n",
    "        id, left, top, width, height = map(int, findall(r\"\\d+\", claim))\n",
    "        for w, h in product(range(width), range(height)):\n",
    "            inches[(left + w, top + h)].append(id)\n",
    "            ids.add(id)\n",
    "\n",
    "    ids_overlap = {v for vs in inches.values() for v in vs if len(vs) > 1}\n",
    "    return first(ids - ids_overlap)\n",
    "\n",
    "\n",
    "print(f\"Example 1: {claim_without_overlap(claims_1)} should be 123\")\n",
    "print(f\"Example 2: {claim_without_overlap(claims_2)} should be 3\")"
   ]
  },
  {
   "cell_type": "code",
   "execution_count": 5,
   "metadata": {},
   "outputs": [
    {
     "name": "stdout",
     "output_type": "stream",
     "text": [
      "Part II: 275\n"
     ]
    }
   ],
   "source": [
    "print(f\"Part II: {claim_without_overlap(puzzle)}\")"
   ]
  },
  {
   "cell_type": "markdown",
   "metadata": {},
   "source": [
    "<link href=\"style.css\" rel=\"stylesheet\"></link>\n",
    "<main>\n",
    "\n",
    "<p>Your puzzle answer was <code>275</code>.</p><p class=\"day-success\">Both parts of this puzzle are complete! They provide two gold stars: **</p>\n",
    "\n",
    "</main>\n"
   ]
  },
  {
   "cell_type": "code",
   "execution_count": null,
   "metadata": {},
   "outputs": [],
   "source": []
  }
 ],
 "metadata": {
  "kernelspec": {
   "display_name": ".venv",
   "language": "python",
   "name": "python3"
  },
  "language_info": {
   "codemirror_mode": {
    "name": "ipython",
    "version": 3
   },
   "file_extension": ".py",
   "mimetype": "text/x-python",
   "name": "python",
   "nbconvert_exporter": "python",
   "pygments_lexer": "ipython3",
   "version": "3.12.0"
  }
 },
 "nbformat": 4,
 "nbformat_minor": 2
}
