{
 "cells": [
  {
   "cell_type": "code",
   "execution_count": 1,
   "metadata": {},
   "outputs": [],
   "source": [
    "# %matplotlib widget\n",
    "\n",
    "from __future__ import annotations\n",
    "\n",
    "import re\n",
    "from collections import defaultdict\n",
    "from dataclasses import dataclass, field\n",
    "from itertools import permutations, product\n",
    "from math import inf\n",
    "from random import choice\n",
    "\n",
    "import matplotlib.colors as mcolors\n",
    "import matplotlib.pyplot as plt\n",
    "import networkx as nx\n",
    "import numpy as np\n",
    "import numpy.typing as npt\n",
    "from mpl_toolkits.mplot3d import axes3d\n",
    "from numpy import int_, object_\n",
    "from numpy.typing import NDArray\n",
    "from test_utilities import run_tests_params\n",
    "from util import print_hex\n",
    "\n",
    "COLORS = list(mcolors.CSS4_COLORS.keys())"
   ]
  },
  {
   "cell_type": "markdown",
   "metadata": {},
   "source": [
    "<link href=\"style.css\" rel=\"stylesheet\"></link>\n",
    "<article class=\"day-desc read-aloud\"><h2>--- Day 1: Chronal Calibration ---</h2><p>\"We've detected some temporal anomalies,\" one of Santa's Elves at the <span title=\"It's about as big on the inside as you expected.\">Temporal Anomaly Research and Detection Instrument Station</span> tells you. She sounded pretty worried when she called you down here. \"At 500-year intervals into the past, someone has been changing Santa's history!\"</p>\n",
    "<p>\"The good news is that the changes won't propagate to our time stream for another 25 days, and we have a device\" - she attaches something to your wrist - \"that will let you fix the changes with no such propagation delay. It's configured to send you 500 years further into the past every few days; that was the best we could do on such short notice.\"</p>\n",
    "<p>\"The bad news is that we are detecting roughly <em>fifty</em> anomalies throughout time; the device will indicate fixed anomalies with <em class=\"star\">stars</em>. The other bad news is that we only have one device and you're the best person for the job! Good lu--\" She taps a button on the device and you suddenly feel like you're falling. To save Christmas, you need to get all <em class=\"star\">fifty stars</em> by December 25th.</p>\n",
    "<p>Collect stars by solving puzzles.  Two puzzles will be made available on each day in the Advent calendar; the second puzzle is unlocked when you complete the first.  Each puzzle grants <em class=\"star\">one star</em>. Good luck!</p>\n",
    "<p>After feeling like you've been falling for a few minutes, you look at the device's tiny screen. \"Error: Device must be calibrated before first use. Frequency drift detected. Cannot maintain destination lock.\" Below the message, the device shows a sequence of changes in frequency (your puzzle input). A value like <code>+6</code> means the current frequency increases by <code>6</code>; a value like <code>-3</code> means the current frequency decreases by <code>3</code>.</p>\n",
    "<p>For example, if the device displays frequency changes of <code>+1, -2, +3, +1</code>, then starting from a frequency of zero, the following changes would occur:</p>\n",
    "<ul>\n",
    "<li>Current frequency <code>&nbsp;0</code>, change of <code>+1</code>; resulting frequency <code>&nbsp;1</code>.</li>\n",
    "<li>Current frequency <code>&nbsp;1</code>, change of <code>-2</code>; resulting frequency <code>-1</code>.</li>\n",
    "<li>Current frequency <code>-1</code>, change of <code>+3</code>; resulting frequency <code>&nbsp;2</code>.</li>\n",
    "<li>Current frequency <code>&nbsp;2</code>, change of <code>+1</code>; resulting frequency <code>&nbsp;3</code>.</li>\n",
    "</ul>\n",
    "<p>In this example, the resulting frequency is <code>3</code>.</p>\n",
    "<p>Here are other example situations:</p>\n",
    "<ul>\n",
    "<li><code>+1, +1, +1</code> results in <code>&nbsp;3</code></li>\n",
    "<li><code>+1, +1, -2</code> results in <code>&nbsp;0</code></li>\n",
    "<li><code>-1, -2, -3</code> results in <code>-6</code></li>\n",
    "</ul>\n",
    "<p>Starting with a frequency of zero, <em>what is the resulting frequency</em> after all of the changes in frequency have been applied?</p>\n",
    "</article>\n"
   ]
  },
  {
   "cell_type": "code",
   "execution_count": 2,
   "metadata": {},
   "outputs": [
    {
     "name": "stdout",
     "output_type": "stream",
     "text": [
      "\n",
      "\u001b[32mTest Example 1 passed, for frequency.\u001b[0m\n",
      "\u001b[32mTest Example 2 passed, for frequency.\u001b[0m\n",
      "\u001b[32mTest Example 3 passed, for frequency.\u001b[0m\n",
      "\u001b[32mTest Example 4 passed, for frequency.\u001b[0m\n",
      "\u001b[32mSuccess\u001b[0m\n"
     ]
    }
   ],
   "source": [
    "tests = [\n",
    "    {\n",
    "        \"name\": \"Example 1\",\n",
    "        \"changes\": \"+1, -2, +3, +1\",\n",
    "        \"expected\": 3,\n",
    "    },\n",
    "    {\n",
    "        \"name\": \"Example 2\",\n",
    "        \"changes\": \"+1, +1, +1\",\n",
    "        \"expected\": 3,\n",
    "    },\n",
    "    {\n",
    "        \"name\": \"Example 3\",\n",
    "        \"changes\": \"+1, +1, -2\",\n",
    "        \"expected\": 0,\n",
    "    },\n",
    "    {\n",
    "        \"name\": \"Example 4\",\n",
    "        \"changes\": \"-1, -2, -3\",\n",
    "        \"expected\": -6,\n",
    "    },\n",
    "]\n",
    "\n",
    "\n",
    "def frequency(changes: str) -> int:\n",
    "    return sum(map(int, changes.strip().replace(\",\", \"\\n\").splitlines()))\n",
    "\n",
    "\n",
    "run_tests_params(frequency, tests)"
   ]
  },
  {
   "cell_type": "code",
   "execution_count": 3,
   "metadata": {},
   "outputs": [
    {
     "name": "stdout",
     "output_type": "stream",
     "text": [
      "Part I: 520\n"
     ]
    }
   ],
   "source": [
    "with open(\"../input/day1.txt\") as f:\n",
    "    puzzle = f.read()\n",
    "\n",
    "print(f\"Part I: {frequency(puzzle)}\")"
   ]
  },
  {
   "cell_type": "markdown",
   "metadata": {},
   "source": [
    "<link href=\"style.css\" rel=\"stylesheet\"></link>\n",
    "<main>\n",
    "\n",
    "<p>Your puzzle answer was <code>520</code>.</p><p class=\"day-success\">The first half of this puzzle is complete! It provides one gold star: *</p>\n",
    "<article class=\"day-desc\"><h2 id=\"part2\">--- Part Two ---</h2><p>You notice that the device repeats the same frequency change list over and over. To calibrate the device, you need to find the first frequency it reaches <em>twice</em>.</p>\n",
    "<p>For example, using the same list of changes above, the device would loop as follows:</p>\n",
    "<ul>\n",
    "<li>Current frequency <code>&nbsp;0</code>, change of <code>+1</code>; resulting frequency <code>&nbsp;1</code>.</li>\n",
    "<li>Current frequency <code>&nbsp;1</code>, change of <code>-2</code>; resulting frequency <code>-1</code>.</li>\n",
    "<li>Current frequency <code>-1</code>, change of <code>+3</code>; resulting frequency <code>&nbsp;2</code>.</li>\n",
    "<li>Current frequency <code>&nbsp;2</code>, change of <code>+1</code>; resulting frequency <code>&nbsp;3</code>.</li>\n",
    "<li>(At this point, the device continues from the start of the list.)</li>\n",
    "<li>Current frequency <code>&nbsp;3</code>, change of <code>+1</code>; resulting frequency <code>&nbsp;4</code>.</li>\n",
    "<li>Current frequency <code>&nbsp;4</code>, change of <code>-2</code>; resulting frequency <code>&nbsp;2</code>, which has already been seen.</li>\n",
    "</ul>\n",
    "<p>In this example, the first frequency reached twice is <code>2</code>. Note that your device might need to repeat its list of frequency changes many times before a duplicate frequency is found, and that duplicates might be found while in the middle of processing the list.</p>\n",
    "<p>Here are other examples:</p>\n",
    "<ul>\n",
    "<li><code>+1, -1</code> first reaches <code>0</code> twice.</li>\n",
    "<li><code>+3, +3, +4, -2, -4</code> first reaches <code>10</code> twice.</li>\n",
    "<li><code>-6, +3, +8, +5, -6</code> first reaches <code>5</code> twice.</li>\n",
    "<li><code>+7, +7, -2, -7, -4</code> first reaches <code>14</code> twice.</li>\n",
    "</ul>\n",
    "<p><em>What is the first frequency your device reaches twice?</em></p>\n",
    "</article>\n",
    "\n",
    "</main>\n"
   ]
  },
  {
   "cell_type": "code",
   "execution_count": 4,
   "metadata": {},
   "outputs": [
    {
     "name": "stdout",
     "output_type": "stream",
     "text": [
      "\n",
      "\u001b[32mTest Example 1 passed, for first_frequency_encounterd_twice.\u001b[0m\n",
      "\u001b[32mTest Example 2 passed, for first_frequency_encounterd_twice.\u001b[0m\n",
      "\u001b[32mTest Example 3 passed, for first_frequency_encounterd_twice.\u001b[0m\n",
      "\u001b[32mTest Example 4 passed, for first_frequency_encounterd_twice.\u001b[0m\n",
      "\u001b[32mTest Example 5 passed, for first_frequency_encounterd_twice.\u001b[0m\n",
      "\u001b[32mSuccess\u001b[0m\n"
     ]
    }
   ],
   "source": [
    "from itertools import accumulate, cycle\n",
    "\n",
    "from more_itertools import duplicates_everseen, first\n",
    "\n",
    "\n",
    "tests = [\n",
    "    {\n",
    "        \"name\": \"Example 1\",\n",
    "        \"changes\": \"+1, -1\",\n",
    "        \"expected\": 0,\n",
    "    },\n",
    "    {\n",
    "        \"name\": \"Example 2\",\n",
    "        \"changes\": \"+3, +3, +4, -2, -4\",\n",
    "        \"expected\": 10,\n",
    "    },\n",
    "    {\n",
    "        \"name\": \"Example 3\",\n",
    "        \"changes\": \"-6, +3, +8, +5, -6\",\n",
    "        \"expected\": 5,\n",
    "    },\n",
    "    {\n",
    "        \"name\": \"Example 4\",\n",
    "        \"changes\": \"+7, +7, -2, -7, -4\",\n",
    "        \"expected\": 14,\n",
    "    },\n",
    "    {\n",
    "        \"name\": \"Example 5\",\n",
    "        \"changes\": \"+1, -2, +3, +1\",\n",
    "        \"expected\": 2,\n",
    "    },\n",
    "]\n",
    "\n",
    "\n",
    "def first_frequency_encounterd_twice(changes: str) -> int:\n",
    "    return first(\n",
    "        duplicates_everseen(\n",
    "            accumulate(\n",
    "                cycle(map(int, changes.strip().replace(\",\", \"\\n\").splitlines())),\n",
    "                initial=0,\n",
    "            )\n",
    "        )\n",
    "    )\n",
    "\n",
    "\n",
    "run_tests_params(first_frequency_encounterd_twice, tests)"
   ]
  },
  {
   "cell_type": "code",
   "execution_count": 5,
   "metadata": {},
   "outputs": [
    {
     "name": "stdout",
     "output_type": "stream",
     "text": [
      "Part II: 394\n"
     ]
    }
   ],
   "source": [
    "print(f\"Part II: {first_frequency_encounterd_twice(puzzle)}\")"
   ]
  },
  {
   "cell_type": "markdown",
   "metadata": {},
   "source": [
    "<link href=\"style.css\" rel=\"stylesheet\"></link>\n",
    "<main>\n",
    "\n",
    "<p>Your puzzle answer was <code>394</code>.</p><p class=\"day-success\">Both parts of this puzzle are complete! They provide two gold stars: **</p>\n",
    "\n",
    "</main>\n"
   ]
  },
  {
   "cell_type": "code",
   "execution_count": null,
   "metadata": {},
   "outputs": [],
   "source": []
  }
 ],
 "metadata": {
  "kernelspec": {
   "display_name": ".venv",
   "language": "python",
   "name": "python3"
  },
  "language_info": {
   "codemirror_mode": {
    "name": "ipython",
    "version": 3
   },
   "file_extension": ".py",
   "mimetype": "text/x-python",
   "name": "python",
   "nbconvert_exporter": "python",
   "pygments_lexer": "ipython3",
   "version": "3.12.0"
  }
 },
 "nbformat": 4,
 "nbformat_minor": 2
}
