{
 "cells": [
  {
   "cell_type": "code",
   "execution_count": 36,
   "metadata": {},
   "outputs": [],
   "source": [
    "# %matplotlib widget\n",
    "\n",
    "from __future__ import annotations\n",
    "\n",
    "import re\n",
    "from collections import defaultdict\n",
    "from dataclasses import dataclass, field\n",
    "from itertools import permutations, product\n",
    "from math import inf\n",
    "from random import choice\n",
    "\n",
    "import matplotlib.colors as mcolors\n",
    "import matplotlib.pyplot as plt\n",
    "import networkx as nx\n",
    "import numpy as np\n",
    "import numpy.typing as npt\n",
    "from mpl_toolkits.mplot3d import axes3d\n",
    "from numpy import int_, object_\n",
    "from numpy.typing import NDArray\n",
    "from test_utilities import run_tests_params\n",
    "from util import print_hex\n",
    "\n",
    "COLORS = list(mcolors.CSS4_COLORS.keys())"
   ]
  },
  {
   "cell_type": "markdown",
   "metadata": {},
   "source": [
    "<link href=\"style.css\" rel=\"stylesheet\"></link>\n",
    "<main>\n",
    "<article class=\"day-desc read-aloud\"><h2>--- Day 8: Memory Maneuver ---</h2><p>The sleigh is much easier to pull than you'd expect for something its weight. Unfortunately, neither you nor the Elves know <span title=\"It's North. Obviously.\">which way</span> the North Pole is from here.</p>\n",
    "<p>You check your wrist device for anything that might help.  It seems to have some kind of navigation system!  Activating the navigation system produces more bad news: \"Failed to start navigation system. Could not read software license file.\"</p>\n",
    "<p>The navigation system's license file consists of a list of numbers (your puzzle input).  The numbers define a data structure which, when processed, produces some kind of <a href=\"https://en.wikipedia.org/wiki/Tree_(data_structure)\">tree</a> that can be used to calculate the license number.</p>\n",
    "<p>The <em>tree</em> is made up of <em>nodes</em>; a single, outermost node forms the tree's <em>root</em>, and it contains all other nodes in the tree (or contains nodes that contain nodes, and so on).</p>\n",
    "<p>Specifically, a node consists of:</p>\n",
    "<ul>\n",
    "<li>A <em>header</em>, which is always exactly two numbers:\n",
    "<ul>\n",
    "<li>The quantity of child nodes.</li>\n",
    "<li>The quantity of metadata entries.</li>\n",
    "</ul>\n",
    "</li><li>Zero or more <em>child nodes</em> (as specified in the header).</li>\n",
    "<li>One or more <em>metadata entries</em> (as specified in the header).</li>\n",
    "</ul>\n",
    "<p>Each child node is itself a node that has its own header, child nodes, and metadata. For example:</p>\n",
    "<pre><code>2 3 0 3 10 11 12 1 1 0 1 99 2 1 1 2\n",
    "A----------------------------------\n",
    "    B----------- C-----------\n",
    "                     D-----\n",
    "</code></pre>\n",
    "<p>In this example, each node of the tree is also marked with an underline starting with a letter for easier identification. In it, there are four nodes:</p>\n",
    "<ul>\n",
    "<li><code>A</code>, which has <code>2</code> child nodes (<code>B</code>, <code>C</code>) and <code>3</code> metadata entries (<code>1</code>, <code>1</code>, <code>2</code>).</li>\n",
    "<li><code>B</code>, which has <code>0</code> child nodes and <code>3</code> metadata entries (<code>10</code>, <code>11</code>, <code>12</code>).</li>\n",
    "<li><code>C</code>, which has <code>1</code> child node (<code>D</code>) and <code>1</code> metadata entry (<code>2</code>).</li>\n",
    "<li><code>D</code>, which has <code>0</code> child nodes and <code>1</code> metadata entry (<code>99</code>).</li>\n",
    "</ul>\n",
    "<p>The first check done on the license file is to simply add up all of the metadata entries.  In this example, that sum is <code>1+1+2+10+11+12+2+99=<em>138</em></code>.</p>\n",
    "<p><em>What is the sum of all metadata entries?</em></p>\n",
    "</article>\n",
    "\n",
    "</main>\n"
   ]
  },
  {
   "cell_type": "code",
   "execution_count": 37,
   "metadata": {},
   "outputs": [
    {
     "name": "stdout",
     "output_type": "stream",
     "text": [
      "Example: 138 should be 1+1+2+10+11+12+2+99=138\n"
     ]
    }
   ],
   "source": [
    "from more_itertools import first\n",
    "\n",
    "\n",
    "example = \"2 3 0 3 10 11 12 1 1 0 1 99 2 1 1 2\"\n",
    "\n",
    "\n",
    "def sum_metadata(license: str) -> int:\n",
    "    def process_node(i: int) -> tuple[int, int]:\n",
    "        childs = nodes[i]\n",
    "        meta = nodes[i + 1]\n",
    "\n",
    "        i += 2\n",
    "        total_sum_meta = 0\n",
    "        for _ in range(childs):\n",
    "            meta_sum, i = process_node(i)\n",
    "            total_sum_meta += meta_sum\n",
    "\n",
    "        total_sum_meta += sum(nodes[j] for j in range(i, i + meta))\n",
    "        return total_sum_meta, i + meta\n",
    "\n",
    "    nodes = [int(i) for i in license.split()]\n",
    "\n",
    "    return first(process_node(0))\n",
    "\n",
    "\n",
    "print(f\"Example: {sum_metadata(example)} should be 1+1+2+10+11+12+2+99=138\")"
   ]
  },
  {
   "cell_type": "code",
   "execution_count": 38,
   "metadata": {},
   "outputs": [
    {
     "name": "stdout",
     "output_type": "stream",
     "text": [
      "Part I: 42501\n"
     ]
    }
   ],
   "source": [
    "with open(\"../input/day8.txt\") as f:\n",
    "    puzzle = f.read().strip()\n",
    "\n",
    "print(f\"Part I: {sum_metadata(puzzle)}\")"
   ]
  },
  {
   "cell_type": "markdown",
   "metadata": {},
   "source": [
    "<link href=\"style.css\" rel=\"stylesheet\"></link>\n",
    "<main>\n",
    "\n",
    "<p>Your puzzle answer was <code>42501</code>.</p><p class=\"day-success\">The first half of this puzzle is complete! It provides one gold star: *</p>\n",
    "<article class=\"day-desc\"><h2 id=\"part2\">--- Part Two ---</h2><p>The second check is slightly more complicated: you need to find the value of the root node (<code>A</code> in the example above).</p>\n",
    "<p>The <em>value of a node</em> depends on whether it has child nodes.</p>\n",
    "<p>If a node has <em>no child nodes</em>, its value is the sum of its metadata entries. So, the value of node <code>B</code> is <code>10+11+12=33</code>, and the value of node <code>D</code> is <code>99</code>.</p>\n",
    "<p>However, if a node <em>does have child nodes</em>, the metadata entries become indexes which refer to those child nodes. A metadata entry of <code>1</code> refers to the first child node, <code>2</code> to the second, <code>3</code> to the third, and so on. The value of this node is the sum of the values of the child nodes referenced by the metadata entries. If a referenced child node does not exist, that reference is skipped. A child node can be referenced multiple time and counts each time it is referenced. A metadata entry of <code>0</code> does not refer to any child node.</p>\n",
    "<p>For example, again using the above nodes:</p>\n",
    "<ul>\n",
    "<li>Node <code>C</code> has one metadata entry, <code>2</code>. Because node <code>C</code> has only one child node, <code>2</code> references a child node which does not exist, and so the value of node <code>C</code> is <code>0</code>.</li>\n",
    "<li>Node <code>A</code> has three metadata entries: <code>1</code>, <code>1</code>, and <code>2</code>. The <code>1</code> references node <code>A</code>'s first child node, <code>B</code>, and the <code>2</code> references node <code>A</code>'s second child node, <code>C</code>. Because node B has a value of <code>33</code> and node <code>C</code> has a value of <code>0</code>, the value of node <code>A</code> is <code>33+33+0=<em>66</em></code>.</li>\n",
    "</ul>\n",
    "<p>So, in this example, the value of the root node is <code>66</code>.</p>\n",
    "<p><em>What is the value of the root node?</em></p>\n",
    "</article>\n",
    "\n",
    "</main>\n"
   ]
  },
  {
   "cell_type": "code",
   "execution_count": 39,
   "metadata": {},
   "outputs": [
    {
     "name": "stdout",
     "output_type": "stream",
     "text": [
      "Example: 66 should be 33+33+0=66\n"
     ]
    }
   ],
   "source": [
    "from collections import Counter\n",
    "\n",
    "\n",
    "def value_of_root_node(license: str) -> int:\n",
    "    def process_node(i: int) -> tuple[int, int]:\n",
    "        childs = nodes[i]\n",
    "        meta = nodes[i + 1]\n",
    "        i += 2\n",
    "\n",
    "        if childs == 0:\n",
    "            return sum(nodes[i : i + meta]), i + meta\n",
    "\n",
    "        child_values = []\n",
    "        for _ in range(childs):\n",
    "            value, i = process_node(i)\n",
    "            child_values.append(value)\n",
    "\n",
    "        meta_counts = Counter(nodes[i : i + meta])\n",
    "        value = sum(meta_counts[i] * v for i, v in enumerate(child_values, start=1))\n",
    "        return value, i + meta\n",
    "\n",
    "    nodes = [int(i) for i in license.split()]\n",
    "\n",
    "    return first(process_node(0))\n",
    "\n",
    "\n",
    "print(f\"Example: {value_of_root_node(example)} should be 33+33+0=66\")"
   ]
  },
  {
   "cell_type": "code",
   "execution_count": 40,
   "metadata": {},
   "outputs": [
    {
     "name": "stdout",
     "output_type": "stream",
     "text": [
      "Part I: 30857\n"
     ]
    }
   ],
   "source": [
    "print(f\"Part I: {value_of_root_node(puzzle)}\")"
   ]
  },
  {
   "cell_type": "markdown",
   "metadata": {},
   "source": [
    "<link href=\"style.css\" rel=\"stylesheet\"></link>\n",
    "<main>\n",
    "\n",
    "<p>Your puzzle answer was <code>30857</code>.</p><p class=\"day-success\">Both parts of this puzzle are complete! They provide two gold stars: **</p>\n",
    "\n",
    "</main>\n"
   ]
  },
  {
   "cell_type": "code",
   "execution_count": null,
   "metadata": {},
   "outputs": [],
   "source": []
  },
  {
   "cell_type": "code",
   "execution_count": null,
   "metadata": {},
   "outputs": [],
   "source": []
  }
 ],
 "metadata": {
  "kernelspec": {
   "display_name": ".venv",
   "language": "python",
   "name": "python3"
  },
  "language_info": {
   "codemirror_mode": {
    "name": "ipython",
    "version": 3
   },
   "file_extension": ".py",
   "mimetype": "text/x-python",
   "name": "python",
   "nbconvert_exporter": "python",
   "pygments_lexer": "ipython3",
   "version": "3.12.0"
  }
 },
 "nbformat": 4,
 "nbformat_minor": 2
}
