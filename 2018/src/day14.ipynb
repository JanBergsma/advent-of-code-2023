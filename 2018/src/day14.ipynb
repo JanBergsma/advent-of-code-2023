{
 "cells": [
  {
   "cell_type": "code",
   "execution_count": 54,
   "metadata": {},
   "outputs": [],
   "source": [
    "# %matplotlib widget\n",
    "\n",
    "from __future__ import annotations\n",
    "\n",
    "import re\n",
    "from collections import defaultdict\n",
    "from dataclasses import dataclass, field\n",
    "from itertools import permutations, product\n",
    "from math import inf\n",
    "from random import choice\n",
    "\n",
    "import matplotlib.colors as mcolors\n",
    "import matplotlib.pyplot as plt\n",
    "import networkx as nx\n",
    "import numpy as np\n",
    "import numpy.typing as npt\n",
    "from mpl_toolkits.mplot3d import axes3d\n",
    "from numpy import int_, object_\n",
    "from numpy.typing import NDArray\n",
    "from test_utilities import run_tests_params\n",
    "from util import print_hex\n",
    "\n",
    "COLORS = list(mcolors.CSS4_COLORS.keys())"
   ]
  },
  {
   "cell_type": "markdown",
   "metadata": {},
   "source": [
    "<link href=\"style.css\" rel=\"stylesheet\"></link>\n",
    "<article class=\"day-desc read-aloud\"><h2>--- Day 14: Chocolate Charts ---</h2><p>You finally have a chance to look at all of the produce moving around. Chocolate, cinnamon, mint, chili peppers, nutmeg, vanilla... the Elves must be growing these plants to <span title=\"Please do not use a programming puzzle as a recipe for hot chocolate. I cannot guarantee your safety.\">make</span> <em>hot chocolate</em>! As you realize this, you hear a conversation in the distance. When you go to investigate, you discover two Elves in what appears to be a makeshift underground kitchen/laboratory.</p>\n",
    "<p>The Elves are trying to come up with the ultimate hot chocolate recipe; they're even maintaining a scoreboard which tracks the quality <em>score</em> (<code>0</code>-<code>9</code>) of each recipe.</p>\n",
    "<p>Only two recipes are on the board: the first recipe got a score of <code>3</code>, the second, <code>7</code>. Each of the two Elves has a <em>current recipe</em>: the first Elf starts with the first recipe, and the second Elf starts with the second recipe.</p>\n",
    "<p>To create new recipes, the two Elves combine their current recipes.  This creates new recipes from the <em>digits of the sum</em> of the current recipes' scores.  With the current recipes' scores of <code>3</code> and <code>7</code>, their sum is <code>10</code>, and so two new recipes would be created: the first with score <code>1</code> and the second with score <code>0</code>. If the current recipes' scores were <code>2</code> and <code>3</code>, the sum, <code>5</code>, would only create one recipe (with a score of <code>5</code>) with its single digit.</p>\n",
    "<p>The new recipes are added to the end of the scoreboard in the order they are created.  So, after the first round, the scoreboard is <code>3, 7, 1, 0</code>.</p>\n",
    "<p>After all new recipes are added to the scoreboard, each Elf picks a new current recipe.  To do this, the Elf steps forward through the scoreboard a number of recipes equal to <em>1 plus the score of their current recipe</em>. So, after the first round, the first Elf moves forward <code>1 + 3 = 4</code> times, while the second Elf moves forward <code>1 + 7 = 8</code> times. If they run out of recipes, they loop back around to the beginning. After the first round, both Elves happen to loop around until they land on the same recipe that they had in the beginning; in general, they will move to different recipes.</p>\n",
    "<p>Drawing the first Elf as parentheses and the second Elf as square brackets, they continue this process:</p>\n",
    "<pre><code>(3)[7]\n",
    "(3)[7] 1  0 \n",
    " 3  7  1 [0](1) 0 \n",
    " 3  7  1  0 [1] 0 (1)\n",
    "(3) 7  1  0  1  0 [1] 2 \n",
    " 3  7  1  0 (1) 0  1  2 [4]\n",
    " 3  7  1 [0] 1  0 (1) 2  4  5 \n",
    " 3  7  1  0 [1] 0  1  2 (4) 5  1 \n",
    " 3 (7) 1  0  1  0 [1] 2  4  5  1  5 \n",
    " 3  7  1  0  1  0  1  2 [4](5) 1  5  8 \n",
    " 3 (7) 1  0  1  0  1  2  4  5  1  5  8 [9]\n",
    " 3  7  1  0  1  0  1 [2] 4 (5) 1  5  8  9  1  6 \n",
    " 3  7  1  0  1  0  1  2  4  5 [1] 5  8  9  1 (6) 7 \n",
    " 3  7  1  0 (1) 0  1  2  4  5  1  5 [8] 9  1  6  7  7 \n",
    " 3  7 [1] 0  1  0 (1) 2  4  5  1  5  8  9  1  6  7  7  9 \n",
    " 3  7  1  0 [1] 0  1  2 (4) <em>5  1  5  8  9  1  6  7  7  9</em>  2 \n",
    "</code></pre>\n",
    "<p>The Elves think their skill will improve after making a few recipes (your puzzle input). However, that could take ages; you can speed this up considerably by identifying <em>the scores of the ten recipes</em> after that.  For example:</p>\n",
    "<ul>\n",
    "<li>If the Elves think their skill will improve after making <code>9</code> recipes, the scores of the ten recipes <em>after</em> the first nine on the scoreboard would be <code>5158916779</code> (highlighted in the last line of the diagram).</li>\n",
    "<li>After <code>5</code> recipes, the scores of the next ten would be <code>0124515891</code>.</li>\n",
    "<li>After <code>18</code> recipes, the scores of the next ten would be <code>9251071085</code>.</li>\n",
    "<li>After <code>2018</code> recipes, the scores of the next ten would be <code>5941429882</code>.</li>\n",
    "</ul>\n",
    "<p><em>What are the scores of the ten recipes immediately after the number of recipes in your puzzle input?</em></p>\n",
    "</article>\n"
   ]
  },
  {
   "cell_type": "code",
   "execution_count": 55,
   "metadata": {},
   "outputs": [
    {
     "name": "stdout",
     "output_type": "stream",
     "text": [
      "\n",
      "\u001b[32mTest Example 1 passed, for score.\u001b[0m\n",
      "\u001b[32mTest Example 2 passed, for score.\u001b[0m\n",
      "\u001b[32mTest Example 3 passed, for score.\u001b[0m\n",
      "\u001b[32mTest Example 4 passed, for score.\u001b[0m\n",
      "\u001b[32mSuccess\u001b[0m\n"
     ]
    }
   ],
   "source": [
    "tests = [\n",
    "    {\n",
    "        \"name\": \"Example 1\",\n",
    "        \"n\": 9,\n",
    "        \"expected\": \"5158916779\",\n",
    "    },\n",
    "    {\n",
    "        \"name\": \"Example 2\",\n",
    "        \"n\": 5,\n",
    "        \"expected\": \"0124515891\",\n",
    "    },\n",
    "    {\n",
    "        \"name\": \"Example 3\",\n",
    "        \"n\": 18,\n",
    "        \"expected\": \"9251071085\",\n",
    "    },\n",
    "    {\n",
    "        \"name\": \"Example 4\",\n",
    "        \"n\": 2018,\n",
    "        \"expected\": \"5941429882\",\n",
    "    },\n",
    "]\n",
    "\n",
    "\n",
    "def score(n: int, do_print: bool = False) -> int:\n",
    "    recipes = [3, 7]\n",
    "    current_recipes = [0, 1]\n",
    "    while len(recipes) < n + 11:\n",
    "        if do_print:\n",
    "            print(\n",
    "                \"\".join(\n",
    "                    (\n",
    "                        f\"({r})\"\n",
    "                        if i == current_recipes[0]\n",
    "                        else f\"[{r}]\" if i == current_recipes[1] else f\" {r} \"\n",
    "                    )\n",
    "                    for i, r in enumerate(recipes)\n",
    "                )\n",
    "            )\n",
    "        recipes.extend(\n",
    "            v\n",
    "            for i, v in enumerate(divmod(sum(recipes[i] for i in current_recipes), 10))\n",
    "            if i != 0 or v != 0\n",
    "        )\n",
    "        current_recipes = [(i + 1 + recipes[i]) % len(recipes) for i in current_recipes]\n",
    "\n",
    "    if do_print:\n",
    "        print(\n",
    "            \"\".join(\n",
    "                (\n",
    "                    f\"({r})\"\n",
    "                    if i == current_recipes[0]\n",
    "                    else f\"[{r}]\" if i == current_recipes[1] else f\" {r} \"\n",
    "                )\n",
    "                for i, r in enumerate(recipes)\n",
    "            )\n",
    "        )\n",
    "\n",
    "    return \"\".join(str(i) for i in recipes[n : n + 10])\n",
    "\n",
    "\n",
    "run_tests_params(score, tests)"
   ]
  },
  {
   "cell_type": "code",
   "execution_count": 56,
   "metadata": {},
   "outputs": [
    {
     "name": "stdout",
     "output_type": "stream",
     "text": [
      "Part I: 5482326119\n"
     ]
    }
   ],
   "source": [
    "print(f\"Part I: {score(846021)}\")"
   ]
  },
  {
   "cell_type": "markdown",
   "metadata": {},
   "source": [
    "<link href=\"style.css\" rel=\"stylesheet\"></link>\n",
    "<main>\n",
    "\n",
    "<p>Your puzzle answer was <code>5482326119</code>.</p><p class=\"day-success\">The first half of this puzzle is complete! It provides one gold star: *</p>\n",
    "<article class=\"day-desc\"><h2 id=\"part2\">--- Part Two ---</h2><p>As it turns out, you got the Elves' plan backwards.  They actually want to know how many recipes appear on the scoreboard to the left of the first recipes whose scores are the digits from your puzzle input.</p>\n",
    "<ul>\n",
    "<li><code>51589</code> first appears after <code>9</code> recipes.</li>\n",
    "<li><code>01245</code> first appears after <code>5</code> recipes.</li>\n",
    "<li><code>92510</code> first appears after <code>18</code> recipes.</li>\n",
    "<li><code>59414</code> first appears after <code>2018</code> recipes.</li>\n",
    "</ul>\n",
    "<p><em>How many recipes appear on the scoreboard to the left of the score sequence in your puzzle input?</em></p>\n",
    "</article>\n",
    "\n",
    "</main>\n"
   ]
  },
  {
   "cell_type": "code",
   "execution_count": 57,
   "metadata": {},
   "outputs": [
    {
     "name": "stdout",
     "output_type": "stream",
     "text": [
      "\n",
      "\u001b[32mTest Example 1 passed, for when_does_appear.\u001b[0m\n",
      "\u001b[32mTest Example 2 passed, for when_does_appear.\u001b[0m\n",
      "\u001b[32mTest Example 3 passed, for when_does_appear.\u001b[0m\n",
      "\u001b[32mTest Example 4 passed, for when_does_appear.\u001b[0m\n",
      "\u001b[32mSuccess\u001b[0m\n"
     ]
    }
   ],
   "source": [
    "tests_II = [\n",
    "    {\n",
    "        \"name\": \"Example 1\",\n",
    "        \"s\": \"51589\",\n",
    "        \"expected\": 9,\n",
    "    },\n",
    "    {\n",
    "        \"name\": \"Example 2\",\n",
    "        \"s\": \"01245\",\n",
    "        \"expected\": 5,\n",
    "    },\n",
    "    {\n",
    "        \"name\": \"Example 3\",\n",
    "        \"s\": \"92510\",\n",
    "        \"expected\": 18,\n",
    "    },\n",
    "    {\n",
    "        \"name\": \"Example 4\",\n",
    "        \"s\": \"59414\",\n",
    "        \"expected\": 2018,\n",
    "    },\n",
    "]\n",
    "\n",
    "\n",
    "def when_does_appear(s: int, is_puzzle: bool = False, do_print: bool = False) -> int:\n",
    "    recipes = [3, 7]\n",
    "    current_recipes = [0, 1]\n",
    "\n",
    "    n = len(s) + (1 if is_puzzle else 0)\n",
    "\n",
    "    while s not in \"\".join(str(i) for i in recipes[-n:]):\n",
    "        recipes.extend(\n",
    "            v\n",
    "            for i, v in enumerate(divmod(sum(recipes[i] for i in current_recipes), 10))\n",
    "            if i != 0 or v != 0\n",
    "        )\n",
    "        current_recipes = [(i + 1 + recipes[i]) % len(recipes) for i in current_recipes]\n",
    "\n",
    "    return len(recipes) - n\n",
    "\n",
    "\n",
    "run_tests_params(when_does_appear, tests_II)"
   ]
  },
  {
   "cell_type": "code",
   "execution_count": 58,
   "metadata": {},
   "outputs": [
    {
     "name": "stdout",
     "output_type": "stream",
     "text": [
      "Part II: 20368140\n"
     ]
    }
   ],
   "source": [
    "print(f\"Part II: {when_does_appear(\"846021\", is_puzzle=True)}\")"
   ]
  },
  {
   "cell_type": "markdown",
   "metadata": {},
   "source": [
    "<link href=\"style.css\" rel=\"stylesheet\"></link>\n",
    "<main>\n",
    "\n",
    "<p>Your puzzle answer was <code>20368140</code>.</p><p class=\"day-success\">Both parts of this puzzle are complete! They provide two gold stars: **</p>\n",
    "\n",
    "</main>\n"
   ]
  },
  {
   "cell_type": "code",
   "execution_count": null,
   "metadata": {},
   "outputs": [],
   "source": []
  }
 ],
 "metadata": {
  "kernelspec": {
   "display_name": ".venv",
   "language": "python",
   "name": "python3"
  },
  "language_info": {
   "codemirror_mode": {
    "name": "ipython",
    "version": 3
   },
   "file_extension": ".py",
   "mimetype": "text/x-python",
   "name": "python",
   "nbconvert_exporter": "python",
   "pygments_lexer": "ipython3",
   "version": "3.12.0"
  }
 },
 "nbformat": 4,
 "nbformat_minor": 2
}
