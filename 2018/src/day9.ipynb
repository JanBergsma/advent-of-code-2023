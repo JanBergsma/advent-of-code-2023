{
 "cells": [
  {
   "cell_type": "code",
   "execution_count": 58,
   "metadata": {},
   "outputs": [],
   "source": [
    "# %matplotlib widget\n",
    "\n",
    "from __future__ import annotations\n",
    "\n",
    "import re\n",
    "from collections import defaultdict\n",
    "from dataclasses import dataclass, field\n",
    "from itertools import permutations, product\n",
    "from math import inf\n",
    "from random import choice\n",
    "\n",
    "import matplotlib.colors as mcolors\n",
    "import matplotlib.pyplot as plt\n",
    "import networkx as nx\n",
    "import numpy as np\n",
    "import numpy.typing as npt\n",
    "from mpl_toolkits.mplot3d import axes3d\n",
    "from numpy import int_, object_\n",
    "from numpy.typing import NDArray\n",
    "from test_utilities import run_tests_params\n",
    "from util import print_hex\n",
    "\n",
    "COLORS = list(mcolors.CSS4_COLORS.keys())"
   ]
  },
  {
   "cell_type": "markdown",
   "metadata": {},
   "source": [
    "<link href=\"style.css\" rel=\"stylesheet\"></link>\n",
    "<article class=\"day-desc read-aloud\"><h2>--- Day 9: Marble Mania ---</h2><p>You talk to the Elves while you wait for your navigation system to <span title=\"Do you have any idea how long it takes to load navigation data for all of time and space?!\">initialize</span>. To pass the time, they introduce you to their favorite <a href=\"https://en.wikipedia.org/wiki/Marble_(toy)\">marble</a> game.</p>\n",
    "<p>The Elves play this game by taking turns arranging the marbles in a <em>circle</em> according to very particular rules. The marbles are numbered starting with <code>0</code> and increasing by <code>1</code> until every marble has a number.</p>\n",
    "<p>First, the marble numbered <code>0</code> is placed in the circle. At this point, while it contains only a single marble, it is still a circle: the marble is both clockwise from itself and counter-clockwise from itself. This marble is designated the <em>current marble</em>.</p>\n",
    "<p>Then, each Elf takes a turn placing the <em>lowest-numbered remaining marble</em> into the circle between the marbles that are <code>1</code> and <code>2</code> marbles <em>clockwise</em> of the current marble. (When the circle is large enough, this means that there is one marble between the marble that was just placed and the current marble.) The marble that was just placed then becomes the <em>current marble</em>.</p>\n",
    "<p>However, if the marble that is about to be placed has a number which is a multiple of <code>23</code>, <em>something entirely different happens</em>. First, the current player keeps the marble they would have placed, adding it to their <em>score</em>. In addition, the marble <code>7</code> marbles <em>counter-clockwise</em> from the current marble is <em>removed</em> from the circle and <em>also</em> added to the current player's score. The marble located immediately <em>clockwise</em> of the marble that was removed becomes the new <em>current marble</em>.</p>\n",
    "<p>For example, suppose there are 9 players. After the marble with value <code>0</code> is placed in the middle, each player (shown in square brackets) takes a turn. The result of each of those turns would produce circles of marbles like this, where clockwise is to the right and the resulting current marble is in parentheses:</p>\n",
    "<pre><code>[-] <em>(0)</em>\n",
    "[1]  0<em> (1)</em>\n",
    "[2]  0<em> (2)</em> 1 \n",
    "[3]  0  2  1<em> (3)</em>\n",
    "[4]  0<em> (4)</em> 2  1  3 \n",
    "[5]  0  4  2<em> (5)</em> 1  3 \n",
    "[6]  0  4  2  5  1<em> (6)</em> 3 \n",
    "[7]  0  4  2  5  1  6  3<em> (7)</em>\n",
    "[8]  0<em> (8)</em> 4  2  5  1  6  3  7 \n",
    "[9]  0  8  4<em> (9)</em> 2  5  1  6  3  7 \n",
    "[1]  0  8  4  9  2<em>(10)</em> 5  1  6  3  7 \n",
    "[2]  0  8  4  9  2 10  5<em>(11)</em> 1  6  3  7 \n",
    "[3]  0  8  4  9  2 10  5 11  1<em>(12)</em> 6  3  7 \n",
    "[4]  0  8  4  9  2 10  5 11  1 12  6<em>(13)</em> 3  7 \n",
    "[5]  0  8  4  9  2 10  5 11  1 12  6 13  3<em>(14)</em> 7 \n",
    "[6]  0  8  4  9  2 10  5 11  1 12  6 13  3 14  7<em>(15)</em>\n",
    "[7]  0<em>(16)</em> 8  4  9  2 10  5 11  1 12  6 13  3 14  7 15 \n",
    "[8]  0 16  8<em>(17)</em> 4  9  2 10  5 11  1 12  6 13  3 14  7 15 \n",
    "[9]  0 16  8 17  4<em>(18)</em> 9  2 10  5 11  1 12  6 13  3 14  7 15 \n",
    "[1]  0 16  8 17  4 18  9<em>(19)</em> 2 10  5 11  1 12  6 13  3 14  7 15 \n",
    "[2]  0 16  8 17  4 18  9 19  2<em>(20)</em>10  5 11  1 12  6 13  3 14  7 15 \n",
    "[3]  0 16  8 17  4 18  9 19  2 20 10<em>(21)</em> 5 11  1 12  6 13  3 14  7 15 \n",
    "[4]  0 16  8 17  4 18  9 19  2 20 10 21  5<em>(22)</em>11  1 12  6 13  3 14  7 15 \n",
    "[5]  0 16  8 17  4 18<em>(19)</em> 2 20 10 21  5 22 11  1 12  6 13  3 14  7 15 \n",
    "[6]  0 16  8 17  4 18 19  2<em>(24)</em>20 10 21  5 22 11  1 12  6 13  3 14  7 15 \n",
    "[7]  0 16  8 17  4 18 19  2 24 20<em>(25)</em>10 21  5 22 11  1 12  6 13  3 14  7 15\n",
    "</code></pre>\n",
    "<p>The goal is to be the <em>player with the highest score</em> after the last marble is used up. Assuming the example above ends after the marble numbered <code>25</code>, the winning score is <code>23+9=<em>32</em></code> (because player 5 kept marble <code>23</code> and removed marble <code>9</code>, while no other player got any points in this very short example game).</p>\n",
    "<p>Here are a few more examples:</p>\n",
    "<ul>\n",
    "<li><code>10</code> players; last marble is worth <code>1618</code> points: high score is <em><code>8317</code></em></li>\n",
    "<li><code>13</code> players; last marble is worth <code>7999</code> points: high score is <em><code>146373</code></em></li>\n",
    "<li><code>17</code> players; last marble is worth <code>1104</code> points: high score is <em><code>2764</code></em></li>\n",
    "<li><code>21</code> players; last marble is worth <code>6111</code> points: high score is <em><code>54718</code></em></li>\n",
    "<li><code>30</code> players; last marble is worth <code>5807</code> points: high score is <em><code>37305</code></em></li>\n",
    "</ul>\n",
    "<p><em>What is the winning Elf's score?</em></p>\n",
    "</article>\n"
   ]
  },
  {
   "cell_type": "code",
   "execution_count": 59,
   "metadata": {},
   "outputs": [
    {
     "name": "stdout",
     "output_type": "stream",
     "text": [
      "\n",
      "\u001b[32mTest Example 1 passed, for highscore.\u001b[0m\n",
      "\u001b[32mTest Example 2 passed, for highscore.\u001b[0m\n",
      "\u001b[32mTest Example 3 passed, for highscore.\u001b[0m\n",
      "\u001b[32mTest Example 4 passed, for highscore.\u001b[0m\n",
      "\u001b[32mTest Example 5 passed, for highscore.\u001b[0m\n",
      "\u001b[32mTest Example 6 passed, for highscore.\u001b[0m\n",
      "\u001b[32mSuccess\u001b[0m\n"
     ]
    }
   ],
   "source": [
    "from itertools import cycle\n",
    "from re import findall\n",
    "\n",
    "\n",
    "def highscore(game: str) -> int:\n",
    "    players, last_marble = map(int, findall(r\"\\d+\", game))\n",
    "\n",
    "    scores = defaultdict(int)\n",
    "    index, marble = 0, 0\n",
    "    circle = [0]\n",
    "\n",
    "    for player in cycle(range(1, players + 1)):\n",
    "        marble += 1\n",
    "\n",
    "        if marble % 23 == 0:\n",
    "            index = (index - 7) % len(circle)\n",
    "            scores[player] += marble + circle.pop(index)\n",
    "        else:\n",
    "            index = (index + 1) % len(circle) + 1\n",
    "            circle.insert(index, marble)\n",
    "\n",
    "        if marble >= last_marble:\n",
    "            return max(scores.values())\n",
    "\n",
    "\n",
    "tests = [\n",
    "    {\n",
    "        \"name\": \"Example 1\",\n",
    "        \"game\": \"9 players; last marble is worth 25 points\",\n",
    "        \"expected\": 32,\n",
    "    },\n",
    "    {\n",
    "        \"name\": \"Example 2\",\n",
    "        \"game\": \"10 players; last marble is worth 1618 points\",\n",
    "        \"expected\": 8317,\n",
    "    },\n",
    "    {\n",
    "        \"name\": \"Example 3\",\n",
    "        \"game\": \"13 players; last marble is worth 7999 points\",\n",
    "        \"expected\": 146373,\n",
    "    },\n",
    "    {\n",
    "        \"name\": \"Example 4\",\n",
    "        \"game\": \"17 players; last marble is worth 1104 points\",\n",
    "        \"expected\": 2764,\n",
    "    },\n",
    "    {\n",
    "        \"name\": \"Example 5\",\n",
    "        \"game\": \"21 players; last marble is worth 6111 points\",\n",
    "        \"expected\": 54718,\n",
    "    },\n",
    "    {\n",
    "        \"name\": \"Example 6\",\n",
    "        \"game\": \"30 players; last marble is worth 5807 points\",\n",
    "        \"expected\": 37305,\n",
    "    },\n",
    "]\n",
    "\n",
    "\n",
    "run_tests_params(highscore, tests)"
   ]
  },
  {
   "cell_type": "code",
   "execution_count": 60,
   "metadata": {},
   "outputs": [
    {
     "name": "stdout",
     "output_type": "stream",
     "text": [
      "Part I: 422980\n"
     ]
    }
   ],
   "source": [
    "puzzle = \"405 players; last marble is worth 70953 points\"\n",
    "\n",
    "print(f\"Part I: {highscore(puzzle)}\")"
   ]
  },
  {
   "cell_type": "markdown",
   "metadata": {},
   "source": [
    "<link href=\"style.css\" rel=\"stylesheet\"></link>\n",
    "<main>\n",
    "\n",
    "<p>Your puzzle answer was <code>422980</code>.</p><p class=\"day-success\">The first half of this puzzle is complete! It provides one gold star: *</p>\n",
    "<article class=\"day-desc\"><h2 id=\"part2\">--- Part Two ---</h2><p>Amused by the speed of your answer, the Elves are curious:</p>\n",
    "<p><em>What would the new winning Elf's score be if the number of the last marble were 100 times larger?</em></p>\n",
    "</article>\n",
    "\n",
    "</main>\n"
   ]
  },
  {
   "cell_type": "code",
   "execution_count": 61,
   "metadata": {},
   "outputs": [
    {
     "name": "stdout",
     "output_type": "stream",
     "text": [
      "\n",
      "\u001b[32mTest Example 1 passed, for highscore_II.\u001b[0m\n",
      "\u001b[32mTest Example 2 passed, for highscore_II.\u001b[0m\n",
      "\u001b[32mTest Example 3 passed, for highscore_II.\u001b[0m\n",
      "\u001b[32mTest Example 4 passed, for highscore_II.\u001b[0m\n",
      "\u001b[32mTest Example 5 passed, for highscore_II.\u001b[0m\n",
      "\u001b[32mTest Example 6 passed, for highscore_II.\u001b[0m\n",
      "\u001b[32mSuccess\u001b[0m\n"
     ]
    }
   ],
   "source": [
    "from collections import deque\n",
    "from itertools import cycle\n",
    "from re import findall\n",
    "\n",
    "\n",
    "def highscore_II(game: str) -> int:\n",
    "    # replace normal list by a deque (double ended linked list)\n",
    "    players, last_marble = map(int, findall(r\"\\d+\", game))\n",
    "\n",
    "    scores = defaultdict(int)\n",
    "    marble = 0\n",
    "    circle = deque([0])\n",
    "\n",
    "    for player in cycle(range(1, players + 1)):\n",
    "        marble += 1\n",
    "\n",
    "        if marble % 23 == 0:\n",
    "            circle.rotate(7)\n",
    "            scores[player] += marble + circle.pop()\n",
    "            circle.rotate(-1)\n",
    "        else:\n",
    "            circle.rotate(-1)\n",
    "            circle.append(marble)\n",
    "\n",
    "        if marble >= last_marble:\n",
    "            return max(scores.values())\n",
    "\n",
    "\n",
    "run_tests_params(highscore_II, tests)"
   ]
  },
  {
   "cell_type": "code",
   "execution_count": 62,
   "metadata": {},
   "outputs": [
    {
     "name": "stdout",
     "output_type": "stream",
     "text": [
      "Part II: 3552041936\n"
     ]
    }
   ],
   "source": [
    "puzzle = \"405 players; last marble is worth 7095300 points\"\n",
    "\n",
    "print(f\"Part II: {highscore_II(puzzle)}\")"
   ]
  },
  {
   "cell_type": "markdown",
   "metadata": {},
   "source": [
    "<link href=\"style.css\" rel=\"stylesheet\"></link>\n",
    "\n",
    "<main>\n",
    "\n",
    "<p>Your puzzle answer was <code>3552041936</code>.</p><p class=\"day-success\">Both parts of this puzzle are complete! They provide two gold stars: **</p>\n",
    "\n",
    "</main>\n"
   ]
  },
  {
   "cell_type": "code",
   "execution_count": null,
   "metadata": {},
   "outputs": [],
   "source": []
  },
  {
   "cell_type": "code",
   "execution_count": null,
   "metadata": {},
   "outputs": [],
   "source": []
  }
 ],
 "metadata": {
  "kernelspec": {
   "display_name": ".venv",
   "language": "python",
   "name": "python3"
  },
  "language_info": {
   "codemirror_mode": {
    "name": "ipython",
    "version": 3
   },
   "file_extension": ".py",
   "mimetype": "text/x-python",
   "name": "python",
   "nbconvert_exporter": "python",
   "pygments_lexer": "ipython3",
   "version": "3.12.0"
  }
 },
 "nbformat": 4,
 "nbformat_minor": 2
}
