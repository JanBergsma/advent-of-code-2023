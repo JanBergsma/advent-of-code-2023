{
 "cells": [
  {
   "cell_type": "code",
   "execution_count": 142,
   "metadata": {},
   "outputs": [],
   "source": [
    "# %matplotlib widget\n",
    "\n",
    "from __future__ import annotations\n",
    "\n",
    "import re\n",
    "from collections import defaultdict\n",
    "from dataclasses import dataclass, field\n",
    "from itertools import permutations, product\n",
    "from math import inf\n",
    "from random import choice\n",
    "\n",
    "import matplotlib.colors as mcolors\n",
    "import matplotlib.pyplot as plt\n",
    "import networkx as nx\n",
    "import numpy as np\n",
    "import numpy.typing as npt\n",
    "from mpl_toolkits.mplot3d import axes3d\n",
    "from numpy import int_, object_\n",
    "from numpy.typing import NDArray\n",
    "from test_utilities import run_tests_params\n",
    "from util import print_hex\n",
    "\n",
    "COLORS = list(mcolors.CSS4_COLORS.keys())"
   ]
  },
  {
   "cell_type": "markdown",
   "metadata": {},
   "source": [
    "<link href=\"style.css\" rel=\"stylesheet\"></link>\n",
    "<article class=\"day-desc\"><h2>--- Day 6: Chronal Coordinates ---</h2><p>The device on your wrist beeps several times, and once again you feel like you're falling.</p>\n",
    "<p>\"<span title=\"Why is the situation always critical? Why can't the situation just be boring for once?\">Situation critical</span>,\" the device announces. \"Destination indeterminate. Chronal interference detected. Please specify new target coordinates.\"</p>\n",
    "<p>The device then produces a list of coordinates (your puzzle input). Are they places it thinks are safe or dangerous? It recommends you check manual page 729. The Elves did not give you a manual.</p>\n",
    "<p><em>If they're dangerous,</em> maybe you can minimize the danger by finding the coordinate that gives the largest distance from the other points.</p>\n",
    "<p>Using only the <a href=\"https://en.wikipedia.org/wiki/Taxicab_geometry\">Manhattan distance</a>, determine the <em>area</em> around each coordinate by counting the number of <a href=\"https://en.wikipedia.org/wiki/Integer\">integer</a> X,Y locations that are <em>closest</em> to that coordinate (and aren't <em>tied in distance</em> to any other coordinate).</p>\n",
    "<p>Your goal is to find the size of the <em>largest area</em> that isn't infinite. For example, consider the following list of coordinates:</p>\n",
    "<pre><code>1, 1\n",
    "1, 6\n",
    "8, 3\n",
    "3, 4\n",
    "5, 5\n",
    "8, 9\n",
    "</code></pre>\n",
    "<p>If we name these coordinates <code>A</code> through <code>F</code>, we can draw them on a grid, putting <code>0,0</code> at the top left:</p>\n",
    "<pre><code>..........\n",
    ".A........\n",
    "..........\n",
    "........C.\n",
    "...D......\n",
    ".....E....\n",
    ".B........\n",
    "..........\n",
    "..........\n",
    "........F.\n",
    "</code></pre>\n",
    "<p>This view is partial - the actual grid extends infinitely in all directions.  Using the Manhattan distance, each location's closest coordinate can be determined, shown here in lowercase:</p>\n",
    "<pre><code>aaaaa.cccc\n",
    "a<em>A</em>aaa.cccc\n",
    "aaaddecccc\n",
    "aadddecc<em>C</em>c\n",
    "..d<em>D</em>deeccc\n",
    "bb.de<em>E</em>eecc\n",
    "b<em>B</em>b.eeee..\n",
    "bbb.eeefff\n",
    "bbb.eeffff\n",
    "bbb.ffff<em>F</em>f\n",
    "</code></pre>\n",
    "<p>Locations shown as <code>.</code> are equally far from two or more coordinates, and so they don't count as being closest to any.</p>\n",
    "<p>In this example, the areas of coordinates A, B, C, and F are infinite - while not shown here, their areas extend forever outside the visible grid. However, the areas of coordinates D and E are finite: D is closest to 9 locations, and E is closest to 17 (both including the coordinate's location itself).  Therefore, in this example, the size of the largest area is <em>17</em>.</p>\n",
    "<p><em>What is the size of the largest area</em> that isn't infinite?</p>\n",
    "</article>\n"
   ]
  },
  {
   "cell_type": "code",
   "execution_count": 143,
   "metadata": {},
   "outputs": [
    {
     "name": "stdout",
     "output_type": "stream",
     "text": [
      "Example: 17 should be 17\n"
     ]
    }
   ],
   "source": [
    "from collections import Counter, deque\n",
    "from string import ascii_letters\n",
    "from more_itertools import first, last, minmax\n",
    "from tabulate import tabulate\n",
    "\n",
    "\n",
    "example = \"\"\"\n",
    "1, 1\n",
    "1, 6\n",
    "8, 3\n",
    "3, 4\n",
    "5, 5\n",
    "8, 9\n",
    "\"\"\"\n",
    "\n",
    "\n",
    "def print_grid(max_x, max_y, grid):\n",
    "    m = [[\".\"] * (max_x + 1) for _ in range(max_y + 1)]\n",
    "    for (x, y), (i, _) in grid.items():\n",
    "        if i != -1:\n",
    "            m[y][x] = ascii_letters[i]\n",
    "\n",
    "    print(tabulate(m))\n",
    "\n",
    "\n",
    "def size_largest_area(coordinates_list: str) -> int:\n",
    "    neighbors = ((-1, 0), (0, 1), (1, 0), (0, -1))\n",
    "\n",
    "    points = [\n",
    "        tuple(map(int, l.split(\", \"))) for l in coordinates_list.strip().splitlines()\n",
    "    ]\n",
    "\n",
    "    min_x, max_x = minmax((x for x, _ in points))\n",
    "    min_y, max_y = minmax((y for _, y in points))\n",
    "\n",
    "    grid = {}\n",
    "    infinites = {-1}\n",
    "    queue = deque([(i, *p) for i, p in enumerate(points)])\n",
    "    distance = 0\n",
    "    while queue:\n",
    "        for _ in range(len(queue)):\n",
    "            i, x, y = queue.popleft()\n",
    "\n",
    "            if (x, y) in grid:\n",
    "                if grid[(x, y)][0] != i and grid[(x, y)][1] == distance:\n",
    "                    grid[(x, y)] = -1, grid[(x, y)][-1]\n",
    "                continue\n",
    "\n",
    "            grid[(x, y)] = i, distance\n",
    "\n",
    "            if x == min_x or x == max_x or y == min_y or y == max_y:\n",
    "                infinites.add(i)\n",
    "\n",
    "            for dx, dy in neighbors:\n",
    "                if min_x <= x + dx <= max_x and min_y <= y + dy <= max_y:\n",
    "                    queue.append((i, x + dx, y + dy))\n",
    "\n",
    "        distance += 1\n",
    "\n",
    "    return last(\n",
    "        first(\n",
    "            Counter(\n",
    "                i for (_, _), (i, _) in grid.items() if i not in infinites\n",
    "            ).most_common(1)\n",
    "        )\n",
    "    )\n",
    "\n",
    "\n",
    "print(f\"Example: {size_largest_area(example)} should be 17\")"
   ]
  },
  {
   "cell_type": "code",
   "execution_count": 144,
   "metadata": {},
   "outputs": [
    {
     "name": "stdout",
     "output_type": "stream",
     "text": [
      "Part I: 3569\n"
     ]
    }
   ],
   "source": [
    "with open(\"../input/day6.txt\") as f:\n",
    "    puzzle = f.read()\n",
    "\n",
    "print(f\"Part I: {size_largest_area(puzzle)}\")"
   ]
  },
  {
   "cell_type": "markdown",
   "metadata": {},
   "source": [
    "<link href=\"style.css\" rel=\"stylesheet\"></link>\n",
    "<main>\n",
    "\n",
    "<p>Your puzzle answer was <code>3569</code>.</p><p class=\"day-success\">The first half of this puzzle is complete! It provides one gold star: *</p>\n",
    "<article class=\"day-desc\"><h2 id=\"part2\">--- Part Two ---</h2><p>On the other hand, <em>if the coordinates are safe</em>, maybe the best you can do is try to find a <em>region</em> near as many coordinates as possible.</p>\n",
    "<p>For example, suppose you want the sum of the <a href=\"https://en.wikipedia.org/wiki/Taxicab_geometry\">Manhattan distance</a> to all of the coordinates to be <em>less than 32</em>.  For each location, add up the distances to all of the given coordinates; if the total of those distances is less than 32, that location is within the desired region. Using the same coordinates as above, the resulting region looks like this:</p>\n",
    "<pre><code>..........\n",
    ".A........\n",
    "..........\n",
    "...#<em>#</em>#..C.\n",
    "..#D###...\n",
    "..###E#...\n",
    ".B.###....\n",
    "..........\n",
    "..........\n",
    "........F.\n",
    "</code></pre>\n",
    "<p>In particular, consider the highlighted location <code>4,3</code> located at the top middle of the region. Its calculation is as follows, where <code>abs()</code> is the <a href=\"https://en.wikipedia.org/wiki/Absolute_value\">absolute value</a> function:</p>\n",
    "<ul>\n",
    "<li>Distance to coordinate A: <code>abs(4-1) + abs(3-1) = &nbsp;5</code></li>\n",
    "<li>Distance to coordinate B: <code>abs(4-1) + abs(3-6) = &nbsp;6</code></li>\n",
    "<li>Distance to coordinate C: <code>abs(4-8) + abs(3-3) = &nbsp;4</code></li>\n",
    "<li>Distance to coordinate D: <code>abs(4-3) + abs(3-4) = &nbsp;2</code></li>\n",
    "<li>Distance to coordinate E: <code>abs(4-5) + abs(3-5) = &nbsp;3</code></li>\n",
    "<li>Distance to coordinate F: <code>abs(4-8) + abs(3-9) = 10</code></li>\n",
    "<li>Total distance: <code>5 + 6 + 4 + 2 + 3 + 10 = 30</code></li>\n",
    "</ul>\n",
    "<p>Because the total distance to all coordinates (<code>30</code>) is less than 32, the location is <em>within</em> the region.</p>\n",
    "<p>This region, which also includes coordinates D and E, has a total size of <em>16</em>.</p>\n",
    "<p>Your actual region will need to be much larger than this example, though, instead including all locations with a total distance of less than <em>10000</em>.</p>\n",
    "<p><em>What is the size of the region containing all locations which have a total distance to all given coordinates of less than 10000?</em></p>\n",
    "</article>\n",
    "\n",
    "</main>\n"
   ]
  },
  {
   "cell_type": "code",
   "execution_count": 162,
   "metadata": {},
   "outputs": [
    {
     "name": "stdout",
     "output_type": "stream",
     "text": [
      "Example: 16 should be 16\n"
     ]
    }
   ],
   "source": [
    "from functools import cache\n",
    "\n",
    "\n",
    "def size_area_distance_less_than(coordinates_list: str, less_than: int) -> int:\n",
    "    @cache\n",
    "    def total_distance(x, y):\n",
    "        return sum(abs(x - x0) + abs(y - y0) for x0, y0 in points)\n",
    "\n",
    "    neighbors = ((-1, 0), (0, 1), (1, 0), (0, -1))\n",
    "\n",
    "    points = [\n",
    "        tuple(map(int, l.split(\", \"))) for l in coordinates_list.strip().splitlines()\n",
    "    ]\n",
    "\n",
    "    count = 0\n",
    "    queue = deque(points)\n",
    "    seen = {}\n",
    "    while queue:\n",
    "        for _ in range(len(queue)):\n",
    "            x, y = queue.popleft()\n",
    "\n",
    "            td = total_distance(x, y)\n",
    "\n",
    "            if (x, y) in seen:\n",
    "                continue\n",
    "\n",
    "            seen[(x, y)] = td\n",
    "\n",
    "            if td >= less_than:\n",
    "                continue\n",
    "\n",
    "            count += 1\n",
    "\n",
    "            queue.extend(\n",
    "                (x + dx, y + dy) for dx, dy in neighbors if (x + dx, y + dy) not in seen\n",
    "            )\n",
    "\n",
    "    return count\n",
    "\n",
    "\n",
    "print(f\"Example: {size_area_distance_less_than(example, 32)} should be 16\")"
   ]
  },
  {
   "cell_type": "code",
   "execution_count": 163,
   "metadata": {},
   "outputs": [
    {
     "name": "stdout",
     "output_type": "stream",
     "text": [
      "Part II: 48978\n"
     ]
    }
   ],
   "source": [
    "print(f\"Part II: {size_area_distance_less_than(puzzle, 10_000)}\")"
   ]
  },
  {
   "cell_type": "markdown",
   "metadata": {},
   "source": [
    "<link href=\"style.css\" rel=\"stylesheet\"></link>\n",
    "<main>\n",
    "\n",
    "<p>Your puzzle answer was <code>48978</code>.</p><p class=\"day-success\">Both parts of this puzzle are complete! They provide two gold stars: **</p>\n",
    "\n",
    "</main>\n"
   ]
  },
  {
   "cell_type": "code",
   "execution_count": 146,
   "metadata": {},
   "outputs": [
    {
     "data": {
      "text/plain": [
       "[(-1, -1), (-1, 0), (-1, 1), (0, -1), (0, 0), (0, 1), (1, -1), (1, 0), (1, 1)]"
      ]
     },
     "execution_count": 146,
     "metadata": {},
     "output_type": "execute_result"
    }
   ],
   "source": []
  },
  {
   "cell_type": "code",
   "execution_count": null,
   "metadata": {},
   "outputs": [],
   "source": []
  }
 ],
 "metadata": {
  "kernelspec": {
   "display_name": ".venv",
   "language": "python",
   "name": "python3"
  },
  "language_info": {
   "codemirror_mode": {
    "name": "ipython",
    "version": 3
   },
   "file_extension": ".py",
   "mimetype": "text/x-python",
   "name": "python",
   "nbconvert_exporter": "python",
   "pygments_lexer": "ipython3",
   "version": "3.12.0"
  }
 },
 "nbformat": 4,
 "nbformat_minor": 2
}
