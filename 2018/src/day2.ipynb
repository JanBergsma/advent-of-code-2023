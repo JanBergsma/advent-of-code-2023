{
 "cells": [
  {
   "cell_type": "code",
   "execution_count": 1,
   "metadata": {},
   "outputs": [],
   "source": [
    "# %matplotlib widget\n",
    "\n",
    "from __future__ import annotations\n",
    "\n",
    "import re\n",
    "from collections import defaultdict\n",
    "from dataclasses import dataclass, field\n",
    "from itertools import permutations, product\n",
    "from math import inf\n",
    "from random import choice\n",
    "\n",
    "import matplotlib.colors as mcolors\n",
    "import matplotlib.pyplot as plt\n",
    "import networkx as nx\n",
    "import numpy as np\n",
    "import numpy.typing as npt\n",
    "from mpl_toolkits.mplot3d import axes3d\n",
    "from numpy import int_, object_\n",
    "from numpy.typing import NDArray\n",
    "from test_utilities import run_tests_params\n",
    "from util import print_hex\n",
    "\n",
    "COLORS = list(mcolors.CSS4_COLORS.keys())"
   ]
  },
  {
   "cell_type": "markdown",
   "metadata": {},
   "source": [
    "<link href=\"style.css\" rel=\"stylesheet\"></link>\n",
    "<article class=\"day-desc read-aloud\"><h2>--- Day 2: Inventory Management System ---</h2><p>You stop falling through time, catch your breath, and check the screen on the device. \"Destination reached. Current Year: 1518. Current Location: North Pole Utility Closet 83N10.\" You made it! Now, to find those anomalies.</p>\n",
    "<p>Outside the utility closet, you hear footsteps and a voice. \"...I'm not sure either. But now that <span title=\"This is, in fact, roughly when chimneys became common in houses.\">so many people have chimneys</span>, maybe he could sneak in that way?\" Another voice responds, \"Actually, we've been working on a new kind of <em>suit</em> that would let him fit through tight spaces like that. But, I heard that a few days ago, they lost the prototype fabric, the design plans, everything! Nobody on the team can even seem to remember important details of the project!\"</p>\n",
    "<p>\"Wouldn't they have had enough fabric to fill several boxes in the warehouse? They'd be stored together, so the box IDs should be similar. Too bad it would take forever to search the warehouse for <em>two similar box IDs</em>...\" They walk too far away to hear any more.</p>\n",
    "<p>Late at night, you sneak to the warehouse - who knows what kinds of paradoxes you could cause if you were discovered - and use your fancy wrist device to quickly scan every box and produce a list of the likely candidates (your puzzle input).</p>\n",
    "<p>To make sure you didn't miss any, you scan the likely candidate boxes again, counting the number that have an ID containing <em>exactly two of any letter</em> and then separately counting those with <em>exactly three of any letter</em>. You can multiply those two counts together to get a rudimentary <a href=\"https://en.wikipedia.org/wiki/Checksum\">checksum</a> and compare it to what your device predicts.</p>\n",
    "<p>For example, if you see the following box IDs:</p>\n",
    "<ul>\n",
    "<li><code>abcdef</code> contains no letters that appear exactly two or three times.</li>\n",
    "<li><code>bababc</code> contains two <code>a</code> and three <code>b</code>, so it counts for both.</li>\n",
    "<li><code>abbcde</code> contains two <code>b</code>, but no letter appears exactly three times.</li>\n",
    "<li><code>abcccd</code> contains three <code>c</code>, but no letter appears exactly two times.</li>\n",
    "<li><code>aabcdd</code> contains two <code>a</code> and two <code>d</code>, but it only counts once.</li>\n",
    "<li><code>abcdee</code> contains two <code>e</code>.</li>\n",
    "<li><code>ababab</code> contains three <code>a</code> and three <code>b</code>, but it only counts once.</li>\n",
    "</ul>\n",
    "<p>Of these box IDs, four of them contain a letter which appears exactly twice, and three of them contain a letter which appears exactly three times. Multiplying these together produces a checksum of <code>4 * 3 = 12</code>.</p>\n",
    "<p><em>What is the checksum</em> for your list of box IDs?</p>\n",
    "</article>\n"
   ]
  },
  {
   "cell_type": "code",
   "execution_count": 2,
   "metadata": {},
   "outputs": [
    {
     "name": "stdout",
     "output_type": "stream",
     "text": [
      "Example: 12 should be 12\n"
     ]
    }
   ],
   "source": [
    "from collections import Counter\n",
    "\n",
    "\n",
    "example = \"\"\"\n",
    "abcdef\n",
    "bababc\n",
    "abbcde\n",
    "abcccd\n",
    "aabcdd\n",
    "abcdee\n",
    "ababab\n",
    "\"\"\"\n",
    "\n",
    "\n",
    "def checksum(boxes: str) -> int:\n",
    "    twos, threes = 0, 0\n",
    "    for l in boxes.strip().splitlines():\n",
    "        counts = set(Counter(l).values())\n",
    "        twos += 1 if 2 in counts else 0\n",
    "        threes += 1 if 3 in counts else 0\n",
    "\n",
    "    return twos * threes\n",
    "\n",
    "\n",
    "print(f\"Example: {checksum(example)} should be 12\")"
   ]
  },
  {
   "cell_type": "code",
   "execution_count": 3,
   "metadata": {},
   "outputs": [
    {
     "name": "stdout",
     "output_type": "stream",
     "text": [
      "Part I: 3952\n"
     ]
    }
   ],
   "source": [
    "with open(\"../input/day2.txt\") as f:\n",
    "    puzzle = f.read()\n",
    "\n",
    "print(f\"Part I: {checksum(puzzle)}\")"
   ]
  },
  {
   "cell_type": "markdown",
   "metadata": {},
   "source": [
    "<link href=\"style.css\" rel=\"stylesheet\"></link>\n",
    "<main>\n",
    "\n",
    "<p>Your puzzle answer was <code>3952</code>.</p><p class=\"day-success\">The first half of this puzzle is complete! It provides one gold star: *</p>\n",
    "<article class=\"day-desc\"><h2 id=\"part2\">--- Part Two ---</h2><p>Confident that your list of box IDs is complete, you're ready to find the boxes full of prototype fabric.</p>\n",
    "<p>The boxes will have IDs which differ by exactly one character at the same position in both strings. For example, given the following box IDs:</p>\n",
    "<pre><code>abcde\n",
    "fghij\n",
    "klmno\n",
    "pqrst\n",
    "fguij\n",
    "axcye\n",
    "wvxyz\n",
    "</code></pre>\n",
    "<p>The IDs <code>abcde</code> and <code>axcye</code> are close, but they differ by two characters (the second and fourth). However, the IDs <code>fghij</code> and <code>fguij</code> differ by exactly one character, the third (<code>h</code> and <code>u</code>). Those must be the correct boxes.</p>\n",
    "<p><em>What letters are common between the two correct box IDs?</em> (In the example above, this is found by removing the differing character from either ID, producing <code>fgij</code>.)</p>\n",
    "</article>\n",
    "\n",
    "</main>\n"
   ]
  },
  {
   "cell_type": "code",
   "execution_count": 4,
   "metadata": {},
   "outputs": [
    {
     "name": "stdout",
     "output_type": "stream",
     "text": [
      "Example: fgij should be fgij\n"
     ]
    }
   ],
   "source": [
    "example = \"\"\"\n",
    "abcde\n",
    "fghij\n",
    "klmno\n",
    "pqrst\n",
    "fguij\n",
    "axcye\n",
    "wvxyz\n",
    "\"\"\"\n",
    "\n",
    "\n",
    "def get_correct_id(boxes: str) -> str:\n",
    "    ids = boxes.strip().splitlines()\n",
    "    wanted_length = len(ids[0]) - 1\n",
    "    for id1, id2 in product(ids, repeat=2):\n",
    "        in_both = [id1[i] for i in range(len(id1)) if id1[i] == id2[i]]\n",
    "        if len(in_both) == wanted_length:\n",
    "            return \"\".join(in_both)\n",
    "\n",
    "\n",
    "print(f\"Example: {get_correct_id(example)} should be fgij\")"
   ]
  },
  {
   "cell_type": "code",
   "execution_count": 5,
   "metadata": {},
   "outputs": [
    {
     "name": "stdout",
     "output_type": "stream",
     "text": [
      "Part II: vtnikorkulbfejvyznqgdxpaw\n"
     ]
    }
   ],
   "source": [
    "print(f\"Part II: {get_correct_id(puzzle)}\")"
   ]
  },
  {
   "cell_type": "markdown",
   "metadata": {},
   "source": [
    "<link href=\"style.css\" rel=\"stylesheet\"></link>\n",
    "<main>\n",
    "\n",
    "<p>Your puzzle answer was <code>vtnikorkulbfejvyznqgdxpaw</code>.</p><p class=\"day-success\">Both parts of this puzzle are complete! They provide two gold stars: **</p>\n",
    "\n",
    "</main>\n"
   ]
  },
  {
   "cell_type": "code",
   "execution_count": null,
   "metadata": {},
   "outputs": [],
   "source": []
  }
 ],
 "metadata": {
  "kernelspec": {
   "display_name": ".venv",
   "language": "python",
   "name": "python3"
  },
  "language_info": {
   "codemirror_mode": {
    "name": "ipython",
    "version": 3
   },
   "file_extension": ".py",
   "mimetype": "text/x-python",
   "name": "python",
   "nbconvert_exporter": "python",
   "pygments_lexer": "ipython3",
   "version": "3.12.0"
  }
 },
 "nbformat": 4,
 "nbformat_minor": 2
}
