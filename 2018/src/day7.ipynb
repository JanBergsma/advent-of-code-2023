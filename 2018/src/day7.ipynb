{
 "cells": [
  {
   "cell_type": "code",
   "execution_count": 53,
   "metadata": {},
   "outputs": [],
   "source": [
    "# %matplotlib widget\n",
    "\n",
    "from __future__ import annotations\n",
    "\n",
    "import re\n",
    "from collections import defaultdict\n",
    "from dataclasses import dataclass, field\n",
    "from itertools import permutations, product\n",
    "from math import inf\n",
    "from random import choice\n",
    "\n",
    "import matplotlib.colors as mcolors\n",
    "import matplotlib.pyplot as plt\n",
    "import networkx as nx\n",
    "import numpy as np\n",
    "import numpy.typing as npt\n",
    "from mpl_toolkits.mplot3d import axes3d\n",
    "from numpy import int_, object_\n",
    "from numpy.typing import NDArray\n",
    "from test_utilities import run_tests_params\n",
    "from util import print_hex\n",
    "\n",
    "COLORS = list(mcolors.CSS4_COLORS.keys())"
   ]
  },
  {
   "cell_type": "markdown",
   "metadata": {},
   "source": [
    "<link href=\"style.css\" rel=\"stylesheet\"></link>\n",
    "<article class=\"day-desc read-aloud\"><h2>--- Day 7: The Sum of Its Parts ---</h2><p>You find yourself standing on a snow-covered coastline; apparently, you landed a little off course.  The region is too hilly to see the North Pole from here, but you do spot some Elves that seem to be trying to unpack something that washed ashore. It's quite cold out, so you decide to risk creating a paradox by asking them for directions.</p>\n",
    "<p>\"Oh, are you the search party?\" Somehow, you can understand whatever Elves from the year 1018 speak; you assume it's <a href=\"/2015/day/6\">Ancient Nordic Elvish</a>. Could the device on your wrist also be a translator? \"Those clothes don't look very warm; take this.\" They hand you a heavy coat.</p>\n",
    "<p>\"We do need to find our way back to the North Pole, but we have higher priorities at the moment. You see, believe it or not, this box contains something that will solve all of Santa's transportation problems - at least, that's what it looks like from the pictures in the instructions.\"  It doesn't seem like they can read whatever language it's in, but you can: \"Sleigh kit. <span title=\"Just some oak and some pine and a handful of Norsemen.\">Some assembly required.</span>\"</p>\n",
    "<p>\"'Sleigh'? What a wonderful name! You must help us assemble this 'sleigh' at once!\" They start excitedly pulling more parts out of the box.</p>\n",
    "<p>The instructions specify a series of <em>steps</em> and requirements about which steps must be finished before others can begin (your puzzle input). Each step is designated by a single letter. For example, suppose you have the following instructions:</p>\n",
    "<pre><code>Step C must be finished before step A can begin.\n",
    "Step C must be finished before step F can begin.\n",
    "Step A must be finished before step B can begin.\n",
    "Step A must be finished before step D can begin.\n",
    "Step B must be finished before step E can begin.\n",
    "Step D must be finished before step E can begin.\n",
    "Step F must be finished before step E can begin.\n",
    "</code></pre>\n",
    "<p>Visually, these requirements look like this:</p>\n",
    "<pre><code>  --&gt;A---&gt;B--\n",
    " /    \\      \\\n",
    "C      --&gt;D-----&gt;E\n",
    " \\           /\n",
    "  ----&gt;F-----\n",
    "</code></pre>\n",
    "<p>Your first goal is to determine the order in which the steps should be completed. If more than one step is ready, choose the step which is first alphabetically. In this example, the steps would be completed as follows:</p>\n",
    "<ul>\n",
    "<li>Only <em><code>C</code></em> is available, and so it is done first.</li>\n",
    "<li>Next, both <code>A</code> and <code>F</code> are available. <em><code>A</code></em> is first alphabetically, so it is done next.</li>\n",
    "<li>Then, even though <code>F</code> was available earlier, steps <code>B</code> and <code>D</code> are now also available, and <em><code>B</code></em> is the first alphabetically of the three.</li>\n",
    "<li>After that, only <code>D</code> and <code>F</code> are available. <code>E</code> is not available because only some of its prerequisites are complete. Therefore, <em><code>D</code></em> is completed next.</li>\n",
    "<li><em><code>F</code></em> is the only choice, so it is done next.</li>\n",
    "<li>Finally, <em><code>E</code></em> is completed.</li>\n",
    "</ul>\n",
    "<p>So, in this example, the correct order is <em><code>CABDFE</code></em>.</p>\n",
    "<p><em>In what order should the steps in your instructions be completed?</em></p>\n",
    "</article>\n"
   ]
  },
  {
   "cell_type": "code",
   "execution_count": 54,
   "metadata": {},
   "outputs": [
    {
     "name": "stdout",
     "output_type": "stream",
     "text": [
      "Example: CABDFE the correct order is CABDFE.\n"
     ]
    }
   ],
   "source": [
    "from heapq import heapify, heappop, heappush\n",
    "from pprint import pprint\n",
    "from re import findall\n",
    "\n",
    "\n",
    "example = \"\"\"\n",
    "Step C must be finished before step A can begin.\n",
    "Step C must be finished before step F can begin.\n",
    "Step A must be finished before step B can begin.\n",
    "Step A must be finished before step D can begin.\n",
    "Step B must be finished before step E can begin.\n",
    "Step D must be finished before step E can begin.\n",
    "Step F must be finished before step E can begin.\n",
    "\"\"\"\n",
    "\n",
    "\n",
    "def order(instructions: str) -> str:\n",
    "    before, after = defaultdict(list[str]), defaultdict(set[str])\n",
    "    for l in sorted(instructions.strip().splitlines()):\n",
    "        b, a = (s.strip() for s in findall(r\" [A-Z] \", l))\n",
    "        before[b].append(a)\n",
    "        after[a].add(b)\n",
    "\n",
    "    heap = [(n, None) for n in before.keys() - after.keys()]\n",
    "    heapify(heap)\n",
    "\n",
    "    path = \"\"\n",
    "\n",
    "    while heap:\n",
    "        fr, previous = heappop(heap)\n",
    "\n",
    "        if fr in after:\n",
    "            after[fr].remove(previous)\n",
    "\n",
    "            if after[fr]:\n",
    "                continue\n",
    "\n",
    "        path += fr\n",
    "\n",
    "        for to1 in before[fr]:\n",
    "            heappush(heap, (to1, fr))\n",
    "\n",
    "    return path\n",
    "\n",
    "\n",
    "print(f\"Example: {order(example)} the correct order is CABDFE.\")"
   ]
  },
  {
   "cell_type": "code",
   "execution_count": 55,
   "metadata": {},
   "outputs": [
    {
     "name": "stdout",
     "output_type": "stream",
     "text": [
      "Part I: GLMVWXZDKOUCEJRHFAPITSBQNY\n"
     ]
    }
   ],
   "source": [
    "with open(\"../input/day7.txt\") as f:\n",
    "    puzzle = f.read()\n",
    "\n",
    "print(f\"Part I: {order(puzzle)}\")"
   ]
  },
  {
   "cell_type": "markdown",
   "metadata": {},
   "source": [
    "<link href=\"style.css\" rel=\"stylesheet\"></link>\n",
    "<main>\n",
    "\n",
    "<p>Your puzzle answer was <code>GLMVWXZDKOUCEJRHFAPITSBQNY</code>.</p><p class=\"day-success\">The first half of this puzzle is complete! It provides one gold star: *</p>\n",
    "<article class=\"day-desc\"><h2 id=\"part2\">--- Part Two ---</h2><p>As you're about to begin construction, four of the Elves offer to help.  \"The sun will set soon; it'll go faster if we work together.\"  Now, you need to account for multiple people working on steps simultaneously. If multiple steps are available, workers should still begin them in alphabetical order.</p>\n",
    "<p>Each step takes 60 seconds plus an amount corresponding to its letter: A=1, B=2, C=3, and so on. So, step A takes <code>60+1=61</code> seconds, while step Z takes <code>60+26=86</code> seconds. No time is required between steps.</p>\n",
    "<p>To simplify things for the example, however, suppose you only have help from one Elf (a total of two workers) and that each step takes 60 fewer seconds (so that step A takes 1 second and step Z takes 26 seconds). Then, using the same instructions as above, this is how each second would be spent:</p>\n",
    "<pre><code>Second   Worker 1   Worker 2   Done\n",
    "   0        C          .        \n",
    "   1        C          .        \n",
    "   2        C          .        \n",
    "   3        A          F       C\n",
    "   4        B          F       CA\n",
    "   5        B          F       CA\n",
    "   6        D          F       CAB\n",
    "   7        D          F       CAB\n",
    "   8        D          F       CAB\n",
    "   9        D          .       CABF\n",
    "  10        E          .       CABFD\n",
    "  11        E          .       CABFD\n",
    "  12        E          .       CABFD\n",
    "  13        E          .       CABFD\n",
    "  14        E          .       CABFD\n",
    "  15        .          .       CABFDE\n",
    "</code></pre>\n",
    "<p>Each row represents one second of time.  The Second column identifies how many seconds have passed as of the beginning of that second.  Each worker column shows the step that worker is currently doing (or <code>.</code> if they are idle).  The Done column shows completed steps.</p>\n",
    "<p>Note that the order of the steps has changed; this is because steps now take time to finish and multiple workers can begin multiple steps simultaneously.</p>\n",
    "<p>In this example, it would take <em>15</em> seconds for two workers to complete these steps.</p>\n",
    "<p>With <em>5</em> workers and the <em>60+ second</em> step durations described above, <em>how long will it take to complete all of the steps?</em></p>\n",
    "</article>\n",
    "\n",
    "</main>\n"
   ]
  },
  {
   "cell_type": "code",
   "execution_count": 56,
   "metadata": {},
   "outputs": [
    {
     "name": "stdout",
     "output_type": "stream",
     "text": [
      "Example: 14 the correct time is 15 example is one of.\n"
     ]
    }
   ],
   "source": [
    "from collections import deque\n",
    "from string import ascii_uppercase\n",
    "\n",
    "\n",
    "def time(instructions: str, step_duration: int = 0, nr_workers: int = 2) -> str:\n",
    "    G = nx.DiGraph()\n",
    "\n",
    "    for l in sorted(instructions.strip().splitlines()):\n",
    "        b, a = (s.strip() for s in findall(r\" [A-Z] \", l))\n",
    "        G.add_edge(a, b)\n",
    "\n",
    "    s = \"\".join(nx.lexicographical_topological_sort(G))\n",
    "    return max(\n",
    "        sum(map(lambda x: ord(x.lower()) - 96 + step_duration, path))\n",
    "        for path in nx.all_simple_paths(G, source=s[0], target=s[-1])\n",
    "    )\n",
    "\n",
    "\n",
    "#       1    2\n",
    "#    -->A--->B--\n",
    "#   /    \\      \\\n",
    "# 3 C      -->D----->E\n",
    "#   \\        4  /   5\n",
    "#    ---->F-----\n",
    "#         6\n",
    "\n",
    "print(\n",
    "    f\"Example: {time(example, nr_workers=2)} the correct time is 15 example is one of.\"\n",
    ")\n",
    "\n",
    "#  first solution did work i.e. use heap and assign task to worker if no worker add 1 to time."
   ]
  },
  {
   "cell_type": "code",
   "execution_count": 57,
   "metadata": {},
   "outputs": [
    {
     "name": "stdout",
     "output_type": "stream",
     "text": [
      "Part II: 1105\n"
     ]
    }
   ],
   "source": [
    "print(f\"Part II: {time(puzzle, 60, 5)}\")  # 1106 too high"
   ]
  },
  {
   "cell_type": "markdown",
   "metadata": {},
   "source": [
    "<link href=\"style.css\" rel=\"stylesheet\"></link>\n",
    "<main>\n",
    "\n",
    "<p>Your puzzle answer was <code>1105</code>.</p><p class=\"day-success\">Both parts of this puzzle are complete! They provide two gold stars: **</p>\n",
    "\n",
    "</main>\n"
   ]
  },
  {
   "cell_type": "code",
   "execution_count": null,
   "metadata": {},
   "outputs": [],
   "source": []
  },
  {
   "cell_type": "code",
   "execution_count": null,
   "metadata": {},
   "outputs": [],
   "source": []
  }
 ],
 "metadata": {
  "kernelspec": {
   "display_name": ".venv",
   "language": "python",
   "name": "python3"
  },
  "language_info": {
   "codemirror_mode": {
    "name": "ipython",
    "version": 3
   },
   "file_extension": ".py",
   "mimetype": "text/x-python",
   "name": "python",
   "nbconvert_exporter": "python",
   "pygments_lexer": "ipython3",
   "version": "3.12.0"
  }
 },
 "nbformat": 4,
 "nbformat_minor": 2
}
