{
 "cells": [
  {
   "cell_type": "code",
   "execution_count": 18,
   "metadata": {},
   "outputs": [],
   "source": [
    "# %matplotlib widget\n",
    "\n",
    "from __future__ import annotations\n",
    "\n",
    "import re\n",
    "from collections import defaultdict\n",
    "from dataclasses import dataclass, field\n",
    "from itertools import permutations, product\n",
    "from math import inf\n",
    "from random import choice\n",
    "\n",
    "import matplotlib.colors as mcolors\n",
    "import matplotlib.pyplot as plt\n",
    "import networkx as nx\n",
    "import numpy as np\n",
    "import numpy.typing as npt\n",
    "from mpl_toolkits.mplot3d import axes3d\n",
    "from numpy import int_, object_\n",
    "from numpy.typing import NDArray\n",
    "from test_utilities import run_tests_params\n",
    "from util import print_hex\n",
    "\n",
    "COLORS = list(mcolors.CSS4_COLORS.keys())"
   ]
  },
  {
   "cell_type": "markdown",
   "metadata": {},
   "source": [
    "<link href=\"style.css\" rel=\"stylesheet\"></link>\n",
    "<article class=\"day-desc\"><h2>--- Day 4: High-Entropy Passphrases ---</h2><p>A new system policy has been put in place that requires all accounts to use a <em>passphrase</em> instead of simply a pass<em>word</em>. A passphrase consists of a series of words (lowercase letters) separated by spaces.</p>\n",
    "<p>To ensure security, a valid passphrase must contain no duplicate words.</p>\n",
    "<p>For example:</p>\n",
    "<ul>\n",
    "<li><code>aa bb cc dd ee</code> is valid.</li>\n",
    "<li><code>aa bb cc dd aa</code> is not valid - the word <code>aa</code> appears more than once.</li>\n",
    "<li><code>aa bb cc dd aaa</code> is valid - <code>aa</code> and <code>aaa</code> count as different words.</li>\n",
    "</ul>\n",
    "<p>The system's full passphrase list is available as your puzzle input. <em>How many passphrases are valid?</em></p>\n",
    "</article>\n"
   ]
  },
  {
   "cell_type": "code",
   "execution_count": 19,
   "metadata": {},
   "outputs": [
    {
     "name": "stdout",
     "output_type": "stream",
     "text": [
      "\n",
      "\u001b[32mTest Example 1 passed, for passphrase_valid.\u001b[0m\n",
      "\u001b[32mTest Example 2 passed, for passphrase_valid.\u001b[0m\n",
      "\u001b[32mTest Example 3 passed, for passphrase_valid.\u001b[0m\n",
      "\u001b[32mSuccess\u001b[0m\n"
     ]
    }
   ],
   "source": [
    "tests = [\n",
    "    {\n",
    "        \"name\": \"Example 1\",\n",
    "        \"passphrase\": \"aa bb cc dd ee\",\n",
    "        \"expected\": True,\n",
    "    },\n",
    "    {\n",
    "        \"name\": \"Example 2\",\n",
    "        \"passphrase\": \"aa bb cc dd aa\",\n",
    "        \"expected\": False,\n",
    "    },\n",
    "    {\n",
    "        \"name\": \"Example 3\",\n",
    "        \"passphrase\": \"aa bb cc dd aaa\",\n",
    "        \"expected\": True,\n",
    "    },\n",
    "]\n",
    "\n",
    "\n",
    "def passphrase_valid(passphrase: str) -> bool:\n",
    "    words_seen = set()\n",
    "    for word in passphrase.split(\" \"):\n",
    "        if word in words_seen:\n",
    "            return False\n",
    "        words_seen.add(word)\n",
    "    return True\n",
    "\n",
    "\n",
    "run_tests_params(passphrase_valid, tests)\n",
    "\n",
    "example = \"\"\"\n",
    "aa bb cc dd ee\n",
    "aa bb cc dd aa\n",
    "aa bb cc dd aaa\n",
    "\"\"\"\n",
    "\n",
    "\n",
    "def count_valid_passphrases(passphrases: str) -> int:\n",
    "    return sum(1 for pf in passphrases.strip().splitlines() if passphrase_valid(pf))\n",
    "\n",
    "\n",
    "assert count_valid_passphrases(example) == 2"
   ]
  },
  {
   "cell_type": "code",
   "execution_count": 20,
   "metadata": {},
   "outputs": [
    {
     "name": "stdout",
     "output_type": "stream",
     "text": [
      "Part I: 337\n"
     ]
    }
   ],
   "source": [
    "with open(\"../input/day4.txt\") as f:\n",
    "    puzzle = f.read()\n",
    "\n",
    "print(f\"Part I: {count_valid_passphrases(puzzle)}\")"
   ]
  },
  {
   "cell_type": "markdown",
   "metadata": {},
   "source": [
    "<link href=\"style.css\" rel=\"stylesheet\"></link>\n",
    "<main>\n",
    "\n",
    "<p>Your puzzle answer was <code>337</code>.</p><p class=\"day-success\">The first half of this puzzle is complete! It provides one gold star: *</p>\n",
    "<article class=\"day-desc\"><h2 id=\"part2\">--- Part Two ---</h2><p>For added security, <span title=\"Because as everyone knows, the number of rules is proportional to the level of security.\">yet another system policy</span> has been put in place.  Now, a valid passphrase must contain no two words that are anagrams of each other - that is, a passphrase is invalid if any word's letters can be rearranged to form any other word in the passphrase.</p>\n",
    "<p>For example:</p>\n",
    "<ul>\n",
    "<li><code>abcde fghij</code> is a valid passphrase.</li>\n",
    "<li><code>abcde xyz ecdab</code> is not valid - the letters from the third word can be rearranged to form the first word.</li>\n",
    "<li><code>a ab abc abd abf abj</code> is a valid passphrase, because <em>all</em> letters need to be used when forming another word.</li>\n",
    "<li><code>iiii oiii ooii oooi oooo</code> is valid.</li>\n",
    "<li><code>oiii ioii iioi iiio</code> is not valid - any of these words can be rearranged to form any other word.</li>\n",
    "</ul>\n",
    "<p>Under this new system policy, <em>how many passphrases are valid?</em></p>\n",
    "</article>\n",
    "\n",
    "</main>\n"
   ]
  },
  {
   "cell_type": "code",
   "execution_count": 21,
   "metadata": {},
   "outputs": [
    {
     "name": "stdout",
     "output_type": "stream",
     "text": [
      "\n",
      "\u001b[32mTest Example 1 passed, for passphrase_anagram_valid.\u001b[0m\n",
      "\u001b[32mTest Example 2 passed, for passphrase_anagram_valid.\u001b[0m\n",
      "\u001b[32mTest Example 3 passed, for passphrase_anagram_valid.\u001b[0m\n",
      "\u001b[32mTest Example 4 passed, for passphrase_anagram_valid.\u001b[0m\n",
      "\u001b[32mTest Example 5 passed, for passphrase_anagram_valid.\u001b[0m\n",
      "\u001b[32mSuccess\u001b[0m\n"
     ]
    }
   ],
   "source": [
    "tests = [\n",
    "    {\n",
    "        \"name\": \"Example 1\",\n",
    "        \"passphrase\": \"abcde fghij\",\n",
    "        \"expected\": True,\n",
    "    },\n",
    "    {\n",
    "        \"name\": \"Example 2\",\n",
    "        \"passphrase\": \"abcde xyz ecdab\",\n",
    "        \"expected\": False,\n",
    "    },\n",
    "    {\n",
    "        \"name\": \"Example 3\",\n",
    "        \"passphrase\": \"a ab abc abd abf abj\",\n",
    "        \"expected\": True,\n",
    "    },\n",
    "    {\n",
    "        \"name\": \"Example 4\",\n",
    "        \"passphrase\": \"iiii oiii ooii oooi oooo\",\n",
    "        \"expected\": True,\n",
    "    },\n",
    "    {\n",
    "        \"name\": \"Example 5\",\n",
    "        \"passphrase\": \"oiii ioii iioi iiio\",\n",
    "        \"expected\": False,\n",
    "    },\n",
    "]\n",
    "\n",
    "\n",
    "def passphrase_anagram_valid(passphrase: str) -> bool:\n",
    "    anagrams_seen = set()\n",
    "    for word in passphrase.split(\" \"):\n",
    "        anagram = \"\".join(sorted(word))\n",
    "        if anagram in anagrams_seen:\n",
    "            return False\n",
    "        anagrams_seen.add(anagram)\n",
    "    return True\n",
    "\n",
    "\n",
    "run_tests_params(passphrase_anagram_valid, tests)\n",
    "\n",
    "example = \"\"\"\n",
    "abcde fghij\n",
    "abcde xyz ecdab\n",
    "a ab abc abd abf abj\n",
    "iiii oiii ooii oooi oooo\n",
    "oiii ioii iioi iiio\n",
    "\"\"\"\n",
    "\n",
    "\n",
    "def count_anagram_valid_passphrases(passphrases: str) -> int:\n",
    "    return sum(\n",
    "        1 for pf in passphrases.strip().splitlines() if passphrase_anagram_valid(pf)\n",
    "    )\n",
    "\n",
    "\n",
    "assert count_anagram_valid_passphrases(example) == 3"
   ]
  },
  {
   "cell_type": "code",
   "execution_count": 22,
   "metadata": {},
   "outputs": [
    {
     "name": "stdout",
     "output_type": "stream",
     "text": [
      "Part II: 231\n"
     ]
    }
   ],
   "source": [
    "print(f\"Part II: {count_anagram_valid_passphrases(puzzle)}\")"
   ]
  },
  {
   "cell_type": "markdown",
   "metadata": {},
   "source": [
    "<link href=\"style.css\" rel=\"stylesheet\"></link>\n",
    "<main>\n",
    "\n",
    "<p>Your puzzle answer was <code>231</code>.</p><p class=\"day-success\">Both parts of this puzzle are complete! They provide two gold stars: **</p>\n",
    "\n",
    "</main>\n"
   ]
  },
  {
   "cell_type": "code",
   "execution_count": null,
   "metadata": {},
   "outputs": [],
   "source": []
  },
  {
   "cell_type": "code",
   "execution_count": null,
   "metadata": {},
   "outputs": [],
   "source": []
  }
 ],
 "metadata": {
  "kernelspec": {
   "display_name": ".venv",
   "language": "python",
   "name": "python3"
  },
  "language_info": {
   "codemirror_mode": {
    "name": "ipython",
    "version": 3
   },
   "file_extension": ".py",
   "mimetype": "text/x-python",
   "name": "python",
   "nbconvert_exporter": "python",
   "pygments_lexer": "ipython3",
   "version": "3.12.0"
  }
 },
 "nbformat": 4,
 "nbformat_minor": 2
}
