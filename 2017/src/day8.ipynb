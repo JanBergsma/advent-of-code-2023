{
 "cells": [
  {
   "cell_type": "code",
   "execution_count": 7,
   "metadata": {},
   "outputs": [],
   "source": [
    "# %matplotlib widget\n",
    "\n",
    "from __future__ import annotations\n",
    "\n",
    "import re\n",
    "from collections import defaultdict\n",
    "from dataclasses import dataclass, field\n",
    "from itertools import permutations, product\n",
    "from math import inf\n",
    "from random import choice\n",
    "\n",
    "import matplotlib.colors as mcolors\n",
    "import matplotlib.pyplot as plt\n",
    "import networkx as nx\n",
    "import numpy as np\n",
    "import numpy.typing as npt\n",
    "from mpl_toolkits.mplot3d import axes3d\n",
    "from numpy import int_, object_\n",
    "from numpy.typing import NDArray\n",
    "from test_utilities import run_tests_params\n",
    "from util import print_hex\n",
    "\n",
    "COLORS = list(mcolors.CSS4_COLORS.keys())"
   ]
  },
  {
   "cell_type": "markdown",
   "metadata": {},
   "source": [
    "<link href=\"style.css\" rel=\"stylesheet\"></link>\n",
    "<article class=\"day-desc\"><h2>--- Day 8: I Heard You Like Registers ---</h2><p>You receive a <span title=\"There's that sorcery I told you about.\">signal</span> directly from the CPU. Because of your recent assistance with <a href=\"5\">jump instructions</a>, it would like you to compute the result of a series of unusual register instructions.</p>\n",
    "<p>Each instruction consists of several parts: the register to modify, whether to increase or decrease that register's value, the amount by which to increase or decrease it, and a condition. If the condition fails, skip the instruction without modifying the register. The registers all start at <code>0</code>. The instructions look like this:</p>\n",
    "<pre><code>b inc 5 if a &gt; 1\n",
    "a inc 1 if b &lt; 5\n",
    "c dec -10 if a &gt;= 1\n",
    "c inc -20 if c == 10\n",
    "</code></pre>\n",
    "<p>These instructions would be processed as follows:</p>\n",
    "<ul>\n",
    "<li>Because <code>a</code> starts at <code>0</code>, it is not greater than <code>1</code>, and so <code>b</code> is not modified.</li>\n",
    "<li><code>a</code> is increased by <code>1</code> (to <code>1</code>) because <code>b</code> is less than <code>5</code> (it is <code>0</code>).</li>\n",
    "<li><code>c</code> is decreased by <code>-10</code> (to <code>10</code>) because <code>a</code> is now greater than or equal to <code>1</code> (it is <code>1</code>).</li>\n",
    "<li><code>c</code> is increased by <code>-20</code> (to <code>-10</code>) because <code>c</code> is equal to <code>10</code>.</li>\n",
    "</ul>\n",
    "<p>After this process, the largest value in any register is <code>1</code>.</p>\n",
    "<p>You might also encounter <code>&lt;=</code> (less than or equal to) or <code>!=</code> (not equal to). However, the CPU doesn't have the bandwidth to tell you what all the registers are named, and leaves that to you to determine.</p>\n",
    "<p><em>What is the largest value in any register</em> after completing the instructions in your puzzle input?</p>\n",
    "</article>\n"
   ]
  },
  {
   "cell_type": "code",
   "execution_count": 8,
   "metadata": {},
   "outputs": [],
   "source": [
    "from operator import eq, ge, gt, le, lt, ne\n",
    "from re import fullmatch\n",
    "from typing import Generator\n",
    "\n",
    "from more_itertools import first\n",
    "\n",
    "\n",
    "example = \"\"\"\n",
    "b inc 5 if a > 1\n",
    "a inc 1 if b < 5\n",
    "c dec -10 if a >= 1\n",
    "c inc -20 if c == 10\n",
    "\"\"\"\n",
    "\n",
    "\n",
    "def largest_value_register(instructions: str) -> int:\n",
    "    operations = {\">\": gt, \">=\": ge, \"==\": eq, \"!=\": ne, \"<=\": le, \"<\": lt}\n",
    "    registers = defaultdict(int)\n",
    "\n",
    "    maximum = -inf\n",
    "    for l in instructions.strip().splitlines():\n",
    "        r0, op, v0, _, r1, co, v1 = parse(l)\n",
    "\n",
    "        if operations[co](registers[r1], v1):\n",
    "            registers[r0] += v0 if op == \"inc\" else -v0\n",
    "            maximum = max(maximum, registers[r0])\n",
    "\n",
    "    return max(registers.values()), maximum\n",
    "\n",
    "\n",
    "def parse(l: str) -> Generator[tuple[int, str, str, str, str, str, int]]:\n",
    "    return (int(ch) if fullmatch(r\"-?[0-9]+\", ch) else ch for ch in l.split(\" \"))\n",
    "\n",
    "\n",
    "assert first(largest_value_register(example)) == 1"
   ]
  },
  {
   "cell_type": "code",
   "execution_count": 9,
   "metadata": {},
   "outputs": [
    {
     "name": "stdout",
     "output_type": "stream",
     "text": [
      "Part I: 4567\n"
     ]
    }
   ],
   "source": [
    "with open(\"../input/day8.txt\") as f:\n",
    "    puzzle = f.read()\n",
    "\n",
    "print(f\"Part I: {first(largest_value_register(puzzle))}\")"
   ]
  },
  {
   "cell_type": "markdown",
   "metadata": {},
   "source": [
    "<link href=\"style.css\" rel=\"stylesheet\"></link>\n",
    "<main>\n",
    "\n",
    "<p>Your puzzle answer was <code>4567</code>.</p><p class=\"day-success\">The first half of this puzzle is complete! It provides one gold star: *</p>\n",
    "<article class=\"day-desc\"><h2 id=\"part2\">--- Part Two ---</h2><p>To be safe, the CPU also needs to know <em>the highest value held in any register during this process</em> so that it can decide how much memory to allocate to these operations. For example, in the above instructions, the highest value ever held was <code>10</code> (in register <code>c</code> after the third instruction was evaluated).</p>\n",
    "</article>\n",
    "\n",
    "</main>\n"
   ]
  },
  {
   "cell_type": "code",
   "execution_count": 10,
   "metadata": {},
   "outputs": [],
   "source": [
    "from more_itertools import last\n",
    "\n",
    "\n",
    "assert last(largest_value_register(example)) == 10"
   ]
  },
  {
   "cell_type": "code",
   "execution_count": 11,
   "metadata": {},
   "outputs": [
    {
     "name": "stdout",
     "output_type": "stream",
     "text": [
      "Part II: 5636\n"
     ]
    }
   ],
   "source": [
    "with open(\"../input/day8.txt\") as f:\n",
    "    puzzle = f.read()\n",
    "\n",
    "print(f\"Part II: {last(largest_value_register(puzzle))}\")"
   ]
  },
  {
   "cell_type": "markdown",
   "metadata": {},
   "source": [
    "<link href=\"style.css\" rel=\"stylesheet\"></link>\n",
    "<main>\n",
    "\n",
    "<p>Your puzzle answer was <code>5636</code>.</p><p class=\"day-success\">Both parts of this puzzle are complete! They provide two gold stars: **</p>\n",
    "\n",
    "</main>\n"
   ]
  },
  {
   "cell_type": "markdown",
   "metadata": {},
   "source": [
    "<link href=\"style.css\" rel=\"stylesheet\"></link>\n"
   ]
  }
 ],
 "metadata": {
  "kernelspec": {
   "display_name": ".venv",
   "language": "python",
   "name": "python3"
  },
  "language_info": {
   "codemirror_mode": {
    "name": "ipython",
    "version": 3
   },
   "file_extension": ".py",
   "mimetype": "text/x-python",
   "name": "python",
   "nbconvert_exporter": "python",
   "pygments_lexer": "ipython3",
   "version": "3.12.0"
  }
 },
 "nbformat": 4,
 "nbformat_minor": 2
}
