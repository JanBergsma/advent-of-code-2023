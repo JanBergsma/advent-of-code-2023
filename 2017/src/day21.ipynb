{
 "cells": [
  {
   "cell_type": "code",
   "execution_count": 62,
   "metadata": {},
   "outputs": [],
   "source": [
    "# %matplotlib widget\n",
    "\n",
    "from __future__ import annotations\n",
    "\n",
    "import re\n",
    "from collections import defaultdict\n",
    "from dataclasses import dataclass, field\n",
    "from itertools import permutations, product\n",
    "from math import inf\n",
    "from random import choice\n",
    "\n",
    "import matplotlib.colors as mcolors\n",
    "import matplotlib.pyplot as plt\n",
    "import networkx as nx\n",
    "import numpy as np\n",
    "import numpy.typing as npt\n",
    "from mpl_toolkits.mplot3d import axes3d\n",
    "from numpy import int_, object_\n",
    "from numpy.typing import NDArray\n",
    "from test_utilities import run_tests_params\n",
    "from util import print_hex\n",
    "\n",
    "COLORS = list(mcolors.CSS4_COLORS.keys())"
   ]
  },
  {
   "cell_type": "markdown",
   "metadata": {},
   "source": [
    "<link href=\"style.css\" rel=\"stylesheet\"></link>\n",
    "<article class=\"day-desc read-aloud\"><h2>--- Day 21: Fractal Art ---</h2><p>You find a program trying to generate some art. It uses a strange process that involves <span title=\"This technique is also often used on TV.\">repeatedly enhancing</span> the detail of an image through a set of rules.</p>\n",
    "<p>The image consists of a two-dimensional square grid of pixels that are either on (<code>#</code>) or off (<code>.</code>). The program always begins with this pattern:</p>\n",
    "<pre><code>.#.\n",
    "..#\n",
    "###\n",
    "</code></pre>\n",
    "<p>Because the pattern is both <code>3</code> pixels wide and <code>3</code> pixels tall, it is said to have a <em>size</em> of <code>3</code>.</p>\n",
    "<p>Then, the program repeats the following process:</p>\n",
    "<ul>\n",
    "<li>If the size is evenly divisible by <code>2</code>, break the pixels up into <code>2x2</code> squares, and convert each <code>2x2</code> square into a <code>3x3</code> square by following the corresponding <em>enhancement rule</em>.</li>\n",
    "<li>Otherwise, the size is evenly divisible by <code>3</code>; break the pixels up into <code>3x3</code> squares, and convert each <code>3x3</code> square into a <code>4x4</code> square by following the corresponding <em>enhancement rule</em>.</li>\n",
    "</ul>\n",
    "<p>Because each square of pixels is replaced by a larger one, the image gains pixels and so its <em>size</em> increases.</p>\n",
    "<p>The artist's book of enhancement rules is nearby (your puzzle input); however, it seems to be missing rules.  The artist explains that sometimes, one must <em>rotate</em> or <em>flip</em> the input pattern to find a match. (Never rotate or flip the output pattern, though.) Each pattern is written concisely: rows are listed as single units, ordered top-down, and separated by slashes. For example, the following rules correspond to the adjacent patterns:</p>\n",
    "<pre><code>../.#  =  ..\n",
    "          .#\n",
    "\n",
    "                .#.\n",
    "\n",
    ".#./..#/### = ..# ###\n",
    "\n",
    "                        #..#\n",
    "\n",
    "#..#/..../#..#/.##. = ....\n",
    "#..#\n",
    ".##.\n",
    "</code></pre>\n",
    "\n",
    "<p>When searching for a rule to use, rotate and flip the pattern as necessary.  For example, all of the following patterns match the same rule:</p>\n",
    "<pre><code>.#.   .#.   #..   ###\n",
    "..#   #..   #.#   ..#\n",
    "###   ###   ##.   .#.\n",
    "</code></pre>\n",
    "<p>Suppose the book contained the following two rules:</p>\n",
    "<pre><code>../.# =&gt; ##./#../...\n",
    ".#./..#/### =&gt; #..#/..../..../#..#\n",
    "</code></pre>\n",
    "<p>As before, the program begins with this pattern:</p>\n",
    "<pre><code>.#.\n",
    "..#\n",
    "###\n",
    "</code></pre>\n",
    "<p>The size of the grid (<code>3</code>) is not divisible by <code>2</code>, but it is divisible by <code>3</code>. It divides evenly into a single square; the square matches the second rule, which produces:</p>\n",
    "<pre><code>#..#\n",
    "....\n",
    "....\n",
    "#..#\n",
    "</code></pre>\n",
    "<p>The size of this enhanced grid (<code>4</code>) is evenly divisible by <code>2</code>, so that rule is used. It divides evenly into four squares:</p>\n",
    "<pre><code>#.|.#\n",
    "..|..\n",
    "--+--\n",
    "..|..\n",
    "#.|.#\n",
    "</code></pre>\n",
    "<p>Each of these squares matches the same rule (<code>../.# =&gt; ##./#../...</code>), three of which require some flipping and rotation to line up with the rule. The output for the rule is the same in all four cases:</p>\n",
    "<pre><code>##.|##.\n",
    "#..|#..\n",
    "...|...\n",
    "---+---\n",
    "##.|##.\n",
    "#..|#..\n",
    "...|...\n",
    "</code></pre>\n",
    "<p>Finally, the squares are joined into a new grid:</p>\n",
    "<pre><code>##.##.\n",
    "#..#..\n",
    "......\n",
    "##.##.\n",
    "#..#..\n",
    "......\n",
    "</code></pre>\n",
    "<p>Thus, after <code>2</code> iterations, the grid contains <code>12</code> pixels that are <em>on</em>.</p>\n",
    "<p><em>How many pixels stay on</em> after <code>5</code> iterations?</p>\n",
    "</article>\n"
   ]
  },
  {
   "cell_type": "code",
   "execution_count": 63,
   "metadata": {},
   "outputs": [
    {
     "name": "stdout",
     "output_type": "stream",
     "text": [
      "Example 12 should be 12\n"
     ]
    }
   ],
   "source": [
    "from numpy import flip, int8\n",
    "\n",
    "\n",
    "start = \"\"\"\n",
    ".#.\n",
    "..#\n",
    "###\n",
    "\"\"\"\n",
    "\n",
    "rules = \"\"\"\n",
    "../.# => ##./#../...\n",
    ".#./..#/### => #..#/..../..../#..#                  \n",
    "\"\"\"\n",
    "\n",
    "\n",
    "def parse(s: str) -> np.ndarray[int8]:\n",
    "    return np.array(\n",
    "        [[c == \"#\" for c in l] for l in s.strip().splitlines()], dtype=\"int\"\n",
    "    )\n",
    "\n",
    "\n",
    "def _hash(m: np.ndarray[int8]) -> int:\n",
    "    return hash(bytes(m))\n",
    "\n",
    "\n",
    "def parse_rules(rules: str) -> dict[int, np.ndarray[int8]]:\n",
    "    rules_map = {}\n",
    "    for rule in rules.strip().splitlines():\n",
    "        k, v = (parse(r.replace(\"/\", \"\\n\")) for r in rule.split(\" => \"))\n",
    "        rules_map[_hash(k)] = v\n",
    "    return rules_map\n",
    "\n",
    "\n",
    "def get_rule(\n",
    "    m: np.ndarray[int8], rules: dict[int, np.ndarray[int8]]\n",
    ") -> np.ndarray[int8]:\n",
    "    for _ in range(3):\n",
    "        i = _hash(m)\n",
    "        if i in rules:\n",
    "            return rules[i]\n",
    "        i = _hash(np.flip(m, 0))\n",
    "        if i in rules:\n",
    "            return rules[i]\n",
    "        i = _hash(np.flip(m, 1))\n",
    "        if i in rules:\n",
    "            return rules[i]\n",
    "        m = np.rot90(m)\n",
    "\n",
    "\n",
    "def generate(start: str, rules: str, cycles: int = 2) -> np.ndarray[int8]:\n",
    "    m = parse(start)\n",
    "    rules = parse_rules(rules)\n",
    "    for _ in range(cycles):\n",
    "        n = m.shape[0]\n",
    "        b = 2 if n % 2 == 0 else 3\n",
    "        m = np.block(\n",
    "            [\n",
    "                [get_rule(m[y - b : y, x - b : x], rules) for x in range(b, n + 1, b)]\n",
    "                for y in range(b, n + 1, b)\n",
    "            ]\n",
    "        )\n",
    "\n",
    "    return m\n",
    "\n",
    "\n",
    "def count_pixels(start: str, rules: str, cycles=2) -> int:\n",
    "    m = generate(start, rules, cycles)\n",
    "    return m.sum()\n",
    "\n",
    "\n",
    "print(f\"Example {count_pixels(start, rules, cycles=2)} should be 12\")"
   ]
  },
  {
   "cell_type": "code",
   "execution_count": 64,
   "metadata": {},
   "outputs": [
    {
     "name": "stdout",
     "output_type": "stream",
     "text": [
      "Part I: 117\n"
     ]
    }
   ],
   "source": [
    "with open(\"../input/day21.txt\") as f:\n",
    "    puzzle = f.read()\n",
    "\n",
    "\n",
    "print(f\"Part I: {count_pixels(start, puzzle, cycles=5)}\")"
   ]
  },
  {
   "cell_type": "markdown",
   "metadata": {},
   "source": [
    "<link href=\"style.css\" rel=\"stylesheet\"></link>\n",
    "<main>\n",
    "\n",
    "<p>Your puzzle answer was <code>117</code>.</p><p class=\"day-success\">The first half of this puzzle is complete! It provides one gold star: *</p>\n",
    "<article class=\"day-desc\"><h2 id=\"part2\">--- Part Two ---</h2><p><em>How many pixels stay on</em> after <code>18</code> iterations?</p>\n",
    "</article>\n",
    "\n",
    "</main>\n"
   ]
  },
  {
   "cell_type": "code",
   "execution_count": 65,
   "metadata": {},
   "outputs": [
    {
     "name": "stdout",
     "output_type": "stream",
     "text": [
      "Part II: 2026963\n"
     ]
    }
   ],
   "source": [
    "print(f\"Part II: {count_pixels(start, puzzle, cycles=18)}\")"
   ]
  },
  {
   "cell_type": "markdown",
   "metadata": {},
   "source": [
    "<link href=\"style.css\" rel=\"stylesheet\"></link>\n",
    "<main>\n",
    "\n",
    "<p>Your puzzle answer was <code>2026963</code>.</p><p class=\"day-success\">Both parts of this puzzle are complete! They provide two gold stars: **</p>\n",
    "\n",
    "</main>\n"
   ]
  },
  {
   "cell_type": "code",
   "execution_count": null,
   "metadata": {},
   "outputs": [],
   "source": []
  }
 ],
 "metadata": {
  "kernelspec": {
   "display_name": ".venv",
   "language": "python",
   "name": "python3"
  },
  "language_info": {
   "codemirror_mode": {
    "name": "ipython",
    "version": 3
   },
   "file_extension": ".py",
   "mimetype": "text/x-python",
   "name": "python",
   "nbconvert_exporter": "python",
   "pygments_lexer": "ipython3",
   "version": "3.12.0"
  }
 },
 "nbformat": 4,
 "nbformat_minor": 2
}
