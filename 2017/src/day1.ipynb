{
 "cells": [
  {
   "cell_type": "code",
   "execution_count": 1,
   "metadata": {},
   "outputs": [],
   "source": [
    "# %matplotlib widget\n",
    "\n",
    "from __future__ import annotations\n",
    "\n",
    "import re\n",
    "from collections import defaultdict\n",
    "from dataclasses import dataclass, field\n",
    "from itertools import permutations, product\n",
    "from math import inf\n",
    "from random import choice\n",
    "\n",
    "import matplotlib.colors as mcolors\n",
    "import matplotlib.pyplot as plt\n",
    "import networkx as nx\n",
    "import numpy as np\n",
    "import numpy.typing as npt\n",
    "from mpl_toolkits.mplot3d import axes3d\n",
    "from numpy import int_, object_\n",
    "from numpy.typing import NDArray\n",
    "from test_utilities import run_tests_params\n",
    "from util import print_hex\n",
    "\n",
    "COLORS = list(mcolors.CSS4_COLORS.keys())"
   ]
  },
  {
   "cell_type": "markdown",
   "metadata": {},
   "source": [
    "<link href=\"style.css\" rel=\"stylesheet\"></link>\n",
    "<article class=\"day-desc read-aloud\"><h2>--- Day 1: Inverse Captcha ---</h2><p>The night before Christmas, one of Santa's Elves calls you in a panic. \"The printer's broken! We can't print the <em>Naughty or Nice List</em>!\" By the time you make it to <span title=\"Floor 17: cafeteria, printing department, and experimental organic digitization equipment.\">sub-basement 17</span>, there are only a few minutes until midnight. \"We have a big problem,\" she says; \"there must be almost <em>fifty</em> bugs in this system, but nothing else can print The List. Stand in this square, quick! There's no time to explain; if you can convince them to pay you in <em class=\"star\">stars</em>, you'll be able to--\" She pulls a lever and the world goes blurry.</p>\n",
    "<p>When your eyes can focus again, everything seems a lot more pixelated than before. She must have sent you inside the computer! You check the system clock: <em>25 milliseconds</em> until midnight. With that much time, you should be able to collect all <em class=\"star\">fifty stars</em> by December 25th.</p>\n",
    "<p>Collect stars by solving puzzles.  Two puzzles will be made available on each <s style=\"text-decoration-color:#fff;\">day</s> millisecond in the Advent calendar; the second puzzle is unlocked when you complete the first.  Each puzzle grants <em class=\"star\">one star</em>. Good luck!</p>\n",
    "<p>You're standing in a room with \"digitization quarantine\" written in LEDs along one wall. The only door is locked, but it includes a small interface. \"Restricted Area - Strictly No Digitized Users Allowed.\"</p>\n",
    "<p>It goes on to explain that you may only leave by solving a <a href=\"https://en.wikipedia.org/wiki/CAPTCHA\">captcha</a> to prove you're <em>not</em> a human. Apparently, you only get one millisecond to solve the captcha: too fast for a normal human, but it feels like hours to you.</p>\n",
    "<p>The captcha requires you to review a sequence of digits (your puzzle input) and find the <em>sum</em> of all digits that match the <em>next</em> digit in the list. The list is circular, so the digit after the last digit is the <em>first</em> digit in the list.</p>\n",
    "<p>For example:</p>\n",
    "<ul>\n",
    "<li><code>1122</code> produces a sum of <code>3</code> (<code>1</code> + <code>2</code>) because the first digit (<code>1</code>) matches the second digit and the third digit (<code>2</code>) matches the fourth digit.</li>\n",
    "<li><code>1111</code> produces <code>4</code> because each digit (all <code>1</code>) matches the next.</li>\n",
    "<li><code>1234</code> produces <code>0</code> because no digit matches the next.</li>\n",
    "<li><code>91212129</code> produces <code>9</code> because the only digit that matches the next one is the last digit, <code>9</code>.</li>\n",
    "</ul>\n",
    "<p><em>What is the solution</em> to your captcha?</p>\n",
    "</article>\n"
   ]
  },
  {
   "cell_type": "code",
   "execution_count": 8,
   "metadata": {},
   "outputs": [
    {
     "name": "stdout",
     "output_type": "stream",
     "text": [
      "\n",
      "\u001b[32mTest Example 1 passed, for inverse_captcha.\u001b[0m\n",
      "\u001b[32mTest Example 2 passed, for inverse_captcha.\u001b[0m\n",
      "\u001b[32mTest Example 3 passed, for inverse_captcha.\u001b[0m\n",
      "\u001b[32mTest Example 4 passed, for inverse_captcha.\u001b[0m\n",
      "\u001b[32mSuccess\u001b[0m\n"
     ]
    }
   ],
   "source": [
    "tests = [\n",
    "    {\n",
    "        \"name\": \"Example 1\",\n",
    "        \"digits\": \"1122\",\n",
    "        \"expected\": 3,\n",
    "    },\n",
    "    {\n",
    "        \"name\": \"Example 2\",\n",
    "        \"digits\": \"1111\",\n",
    "        \"expected\": 4,\n",
    "    },\n",
    "    {\n",
    "        \"name\": \"Example 3\",\n",
    "        \"digits\": \"1234\",\n",
    "        \"expected\": 0,\n",
    "    },\n",
    "    {\n",
    "        \"name\": \"Example 4\",\n",
    "        \"digits\": \"91212129\",\n",
    "        \"expected\": 9,\n",
    "    },\n",
    "]\n",
    "\n",
    "\n",
    "def inverse_captcha(digits: str) -> int:\n",
    "    ds = [int(d) for d in digits.strip()]\n",
    "    n = len(ds)\n",
    "    return sum(ds[i] for i in range(n) if ds[i] == ds[(i + 1) % n])\n",
    "\n",
    "\n",
    "run_tests_params(inverse_captcha, tests)"
   ]
  },
  {
   "cell_type": "code",
   "execution_count": 9,
   "metadata": {},
   "outputs": [
    {
     "name": "stdout",
     "output_type": "stream",
     "text": [
      "Part I: 1029\n"
     ]
    }
   ],
   "source": [
    "with open(\"../input/day1.txt\") as f:\n",
    "    print(f\"Part I: {inverse_captcha(f.read())}\")"
   ]
  },
  {
   "cell_type": "markdown",
   "metadata": {},
   "source": [
    "<link href=\"style.css\" rel=\"stylesheet\"></link>\n",
    "<main>\n",
    "\n",
    "<p>Your puzzle answer was <code>1029</code>.</p><p class=\"day-success\">The first half of this puzzle is complete! It provides one gold star: *</p>\n",
    "<article class=\"day-desc\"><h2 id=\"part2\">--- Part Two ---</h2><p>You notice a progress bar that jumps to 50% completion. Apparently, the door isn't yet satisfied, but it did emit a <em class=\"star\">star</em> as encouragement. The instructions change:</p>\n",
    "<p>Now, instead of considering the <em>next</em> digit, it wants you to consider the digit <em>halfway around</em> the circular list.  That is, if your list contains <code>10</code> items, only include a digit in your sum if the digit <code>10/2 = 5</code> steps forward matches it. Fortunately, your list has an even number of elements.</p>\n",
    "<p>For example:</p>\n",
    "<ul>\n",
    "<li><code>1212</code> produces <code>6</code>: the list contains <code>4</code> items, and all four digits match the digit <code>2</code> items ahead.</li>\n",
    "<li><code>1221</code> produces <code>0</code>, because every comparison is between a <code>1</code> and a <code>2</code>.</li>\n",
    "<li><code>123425</code> produces <code>4</code>, because both <code>2</code>s match each other, but no other digit has a match.</li>\n",
    "<li><code>123123</code> produces <code>12</code>.</li>\n",
    "<li><code>12131415</code> produces <code>4</code>.</li>\n",
    "</ul>\n",
    "<p><em>What is the solution</em> to your new captcha?</p>\n",
    "</article>\n",
    "\n",
    "</main>\n"
   ]
  },
  {
   "cell_type": "code",
   "execution_count": 10,
   "metadata": {},
   "outputs": [
    {
     "name": "stdout",
     "output_type": "stream",
     "text": [
      "\n",
      "\u001b[32mTest Example 1 passed, for inverse_captcha_II.\u001b[0m\n",
      "\u001b[32mTest Example 2 passed, for inverse_captcha_II.\u001b[0m\n",
      "\u001b[32mTest Example 3 passed, for inverse_captcha_II.\u001b[0m\n",
      "\u001b[32mTest Example 4 passed, for inverse_captcha_II.\u001b[0m\n",
      "\u001b[32mTest Example 5 passed, for inverse_captcha_II.\u001b[0m\n",
      "\u001b[32mSuccess\u001b[0m\n"
     ]
    }
   ],
   "source": [
    "tests_partII = [\n",
    "    {\n",
    "        \"name\": \"Example 1\",\n",
    "        \"digits\": \"1212\",\n",
    "        \"expected\": 6,\n",
    "    },\n",
    "    {\n",
    "        \"name\": \"Example 2\",\n",
    "        \"digits\": \"1221\",\n",
    "        \"expected\": 0,\n",
    "    },\n",
    "    {\n",
    "        \"name\": \"Example 3\",\n",
    "        \"digits\": \"123425\",\n",
    "        \"expected\": 4,\n",
    "    },\n",
    "    {\n",
    "        \"name\": \"Example 4\",\n",
    "        \"digits\": \"123123\",\n",
    "        \"expected\": 12,\n",
    "    },\n",
    "    {\n",
    "        \"name\": \"Example 5\",\n",
    "        \"digits\": \"12131415\",\n",
    "        \"expected\": 4,\n",
    "    },\n",
    "]\n",
    "\n",
    "\n",
    "def inverse_captcha_II(digits: str) -> int:\n",
    "    ds = [int(d) for d in digits.strip()]\n",
    "    n = len(ds)\n",
    "    return sum(ds[i] for i in range(n) if ds[i] == ds[(i + n // 2) % n])\n",
    "\n",
    "\n",
    "run_tests_params(inverse_captcha_II, tests_partII)"
   ]
  },
  {
   "cell_type": "code",
   "execution_count": 11,
   "metadata": {},
   "outputs": [
    {
     "name": "stdout",
     "output_type": "stream",
     "text": [
      "Part II: 1220\n"
     ]
    }
   ],
   "source": [
    "with open(\"../input/day1.txt\") as f:\n",
    "    print(f\"Part II: {inverse_captcha_II(f.read())}\")"
   ]
  },
  {
   "cell_type": "markdown",
   "metadata": {},
   "source": [
    "<link href=\"style.css\" rel=\"stylesheet\"></link>\n",
    "<p>Your puzzle answer was <code>1220</code>.</p>\n",
    "<p class=\"day-success\">Both parts of this puzzle are complete! They provide two gold stars: **</p>\n"
   ]
  },
  {
   "cell_type": "code",
   "execution_count": null,
   "metadata": {},
   "outputs": [],
   "source": []
  }
 ],
 "metadata": {
  "kernelspec": {
   "display_name": ".venv",
   "language": "python",
   "name": "python3"
  },
  "language_info": {
   "codemirror_mode": {
    "name": "ipython",
    "version": 3
   },
   "file_extension": ".py",
   "mimetype": "text/x-python",
   "name": "python",
   "nbconvert_exporter": "python",
   "pygments_lexer": "ipython3",
   "version": "3.12.0"
  }
 },
 "nbformat": 4,
 "nbformat_minor": 2
}
