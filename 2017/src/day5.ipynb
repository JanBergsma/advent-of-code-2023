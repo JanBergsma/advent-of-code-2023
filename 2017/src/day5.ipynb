{
 "cells": [
  {
   "cell_type": "code",
   "execution_count": 17,
   "metadata": {},
   "outputs": [],
   "source": [
    "# %matplotlib widget\n",
    "\n",
    "from __future__ import annotations\n",
    "\n",
    "import re\n",
    "from collections import defaultdict\n",
    "from dataclasses import dataclass, field\n",
    "from itertools import permutations, product\n",
    "from math import inf\n",
    "from random import choice\n",
    "\n",
    "import matplotlib.colors as mcolors\n",
    "import matplotlib.pyplot as plt\n",
    "import networkx as nx\n",
    "import numpy as np\n",
    "import numpy.typing as npt\n",
    "from mpl_toolkits.mplot3d import axes3d\n",
    "from numpy import int_, object_\n",
    "from numpy.typing import NDArray\n",
    "from test_utilities import run_tests_params\n",
    "from util import print_hex\n",
    "\n",
    "COLORS = list(mcolors.CSS4_COLORS.keys())"
   ]
  },
  {
   "cell_type": "markdown",
   "metadata": {},
   "source": [
    "<link href=\"style.css\" rel=\"stylesheet\"></link>\n",
    "<article class=\"day-desc read-aloud\"><h2>--- Day 5: A Maze of Twisty Trampolines, All Alike ---</h2><p>An urgent <span title=\"Later, on its turn, it sends you a sorcery.\">interrupt</span> arrives from the CPU: it's trapped in a maze of jump instructions, and it would like assistance from any programs with spare cycles to help find the exit.</p>\n",
    "<p>The message includes a list of the offsets for each jump. Jumps are relative: <code>-1</code> moves to the previous instruction, and <code>2</code> skips the next one. Start at the first instruction in the list. The goal is to follow the jumps until one leads <em>outside</em> the list.</p>\n",
    "<p>In addition, these instructions are a little strange; after each jump, the offset of that instruction increases by <code>1</code>. So, if you come across an offset of <code>3</code>, you would move three instructions forward, but change it to a <code>4</code> for the next time it is encountered.</p>\n",
    "<p>For example, consider the following list of jump offsets:</p>\n",
    "<pre><code>0\n",
    "3\n",
    "0\n",
    "1\n",
    "-3\n",
    "</code></pre>\n",
    "<p>Positive jumps (\"forward\") move downward; negative jumps move upward. For legibility in this example, these offset values will be written all on one line, with the current instruction marked in parentheses. The following steps would be taken before an exit is found:</p>\n",
    "<ul>\n",
    "<li><code>(0)&nbsp;3&nbsp;&nbsp;0&nbsp;&nbsp;1&nbsp;&nbsp;-3&nbsp;</code> - <em>before</em> we have taken any steps.</li>\n",
    "<li><code>(1)&nbsp;3&nbsp;&nbsp;0&nbsp;&nbsp;1&nbsp;&nbsp;-3&nbsp;</code> - jump with offset <code>0</code> (that is, don't jump at all). Fortunately, the instruction is then incremented to <code>1</code>.</li>\n",
    "<li><code>&nbsp;2&nbsp;(3)&nbsp;0&nbsp;&nbsp;1&nbsp;&nbsp;-3&nbsp;</code> - step forward because of the instruction we just modified. The first instruction is incremented again, now to <code>2</code>.</li>\n",
    "<li><code>&nbsp;2&nbsp;&nbsp;4&nbsp;&nbsp;0&nbsp;&nbsp;1&nbsp;(-3)</code> - jump all the way to the end; leave a <code>4</code> behind.</li>\n",
    "<li><code>&nbsp;2&nbsp;(4)&nbsp;0&nbsp;&nbsp;1&nbsp;&nbsp;-2&nbsp;</code> - go back to where we just were; increment <code>-3</code> to <code>-2</code>.</li>\n",
    "<li><code>&nbsp;2&nbsp;&nbsp;5&nbsp;&nbsp;0&nbsp;&nbsp;1&nbsp;&nbsp;-2&nbsp;</code> - jump <code>4</code> steps forward, escaping the maze.</li>\n",
    "</ul>\n",
    "<p>In this example, the exit is reached in <code>5</code> steps.</p>\n",
    "<p><em>How many steps</em> does it take to reach the exit?</p>\n",
    "</article>\n"
   ]
  },
  {
   "cell_type": "code",
   "execution_count": 18,
   "metadata": {},
   "outputs": [
    {
     "data": {
      "text/plain": [
       "5"
      ]
     },
     "execution_count": 18,
     "metadata": {},
     "output_type": "execute_result"
    }
   ],
   "source": [
    "example = \"\"\"\n",
    "0\n",
    "3\n",
    "0\n",
    "1\n",
    "-3\n",
    "\"\"\"\n",
    "\n",
    "\n",
    "def steps_to_exiit(jumps: str) -> int:\n",
    "    js = [int(i) for i in jumps.strip().splitlines()]\n",
    "    counter, steps = 0, 0\n",
    "\n",
    "    while 0 <= counter < len(js):\n",
    "        jump = js[counter]\n",
    "        js[counter] += 1\n",
    "        counter += jump\n",
    "        steps += 1\n",
    "\n",
    "    return steps\n",
    "\n",
    "\n",
    "steps_to_exiit(example)"
   ]
  },
  {
   "cell_type": "code",
   "execution_count": 19,
   "metadata": {},
   "outputs": [
    {
     "name": "stdout",
     "output_type": "stream",
     "text": [
      "Part I: 364539\n"
     ]
    }
   ],
   "source": [
    "with open(\"../input//day5.txt\") as f:\n",
    "    puzzle = f.read()\n",
    "\n",
    "print(f\"Part I: {steps_to_exiit(puzzle)}\")"
   ]
  },
  {
   "cell_type": "markdown",
   "metadata": {},
   "source": [
    "<link href=\"style.css\" rel=\"stylesheet\"></link>\n",
    "<main>\n",
    "\n",
    "<p>Your puzzle answer was <code>364539</code>.</p><p class=\"day-success\">The first half of this puzzle is complete! It provides one gold star: *</p>\n",
    "<article class=\"day-desc\"><h2 id=\"part2\">--- Part Two ---</h2><p>Now, the jumps are even stranger: after each jump, if the offset was <em>three or more</em>, instead <em>decrease</em> it by <code>1</code>. Otherwise, increase it by <code>1</code> as before.</p>\n",
    "<p>Using this rule with the above example, the process now takes <code>10</code> steps, and the offset values after finding the exit are left as <code>2 3 2 3 -1</code>.</p>\n",
    "<p><em>How many steps</em> does it now take to reach the exit?</p>\n",
    "</article>\n",
    "\n",
    "</main>\n"
   ]
  },
  {
   "cell_type": "code",
   "execution_count": 20,
   "metadata": {},
   "outputs": [
    {
     "data": {
      "text/plain": [
       "10"
      ]
     },
     "execution_count": 20,
     "metadata": {},
     "output_type": "execute_result"
    }
   ],
   "source": [
    "def stranger_steps_to_exit(jumps: str) -> int:\n",
    "    js = [int(i) for i in jumps.strip().splitlines()]\n",
    "    counter, steps = 0, 0\n",
    "\n",
    "    while 0 <= counter < len(js):\n",
    "        jump = js[counter]\n",
    "        if js[counter] >= 3:\n",
    "            js[counter] -= 1\n",
    "        else:\n",
    "            js[counter] += 1\n",
    "        counter += jump\n",
    "        steps += 1\n",
    "\n",
    "    return steps\n",
    "\n",
    "\n",
    "stranger_steps_to_exit(example)"
   ]
  },
  {
   "cell_type": "code",
   "execution_count": 21,
   "metadata": {},
   "outputs": [
    {
     "name": "stdout",
     "output_type": "stream",
     "text": [
      "Part II: 27477714\n"
     ]
    }
   ],
   "source": [
    "print(f\"Part II: {stranger_steps_to_exit(puzzle)}\")"
   ]
  },
  {
   "cell_type": "markdown",
   "metadata": {},
   "source": [
    "<link href=\"style.css\" rel=\"stylesheet\"></link>\n",
    "<main>\n",
    "\n",
    "<p>Your puzzle answer was <code>27477714</code>.</p><p class=\"day-success\">Both parts of this puzzle are complete! They provide two gold stars: **</p>\n",
    "\n",
    "</main>\n"
   ]
  },
  {
   "cell_type": "code",
   "execution_count": null,
   "metadata": {},
   "outputs": [],
   "source": []
  }
 ],
 "metadata": {
  "kernelspec": {
   "display_name": ".venv",
   "language": "python",
   "name": "python3"
  },
  "language_info": {
   "codemirror_mode": {
    "name": "ipython",
    "version": 3
   },
   "file_extension": ".py",
   "mimetype": "text/x-python",
   "name": "python",
   "nbconvert_exporter": "python",
   "pygments_lexer": "ipython3",
   "version": "3.12.0"
  }
 },
 "nbformat": 4,
 "nbformat_minor": 2
}
