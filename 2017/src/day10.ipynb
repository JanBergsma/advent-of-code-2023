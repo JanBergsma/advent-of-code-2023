{
 "cells": [
  {
   "cell_type": "code",
   "execution_count": 37,
   "metadata": {},
   "outputs": [],
   "source": [
    "# %matplotlib widget\n",
    "\n",
    "from __future__ import annotations\n",
    "\n",
    "import re\n",
    "from collections import defaultdict\n",
    "from dataclasses import dataclass, field\n",
    "from itertools import permutations, product\n",
    "from math import inf\n",
    "from random import choice\n",
    "\n",
    "import matplotlib.colors as mcolors\n",
    "import matplotlib.pyplot as plt\n",
    "import networkx as nx\n",
    "import numpy as np\n",
    "import numpy.typing as npt\n",
    "from mpl_toolkits.mplot3d import axes3d\n",
    "from numpy import int_, object_\n",
    "from numpy.typing import NDArray\n",
    "from test_utilities import run_tests_params\n",
    "from util import print_hex\n",
    "\n",
    "COLORS = list(mcolors.CSS4_COLORS.keys())"
   ]
  },
  {
   "cell_type": "markdown",
   "metadata": {},
   "source": [
    "<link href=\"style.css\" rel=\"stylesheet\"></link>\n",
    "<article class=\"day-desc read-aloud\"><h2>--- Day 10: Knot Hash ---</h2><p>You come across some programs that are trying to implement a software emulation of a hash based on knot-tying. The hash these programs are implementing isn't very strong, but you decide to help them anyway. You make a mental note to remind the Elves later not to <span title=\"NEW CRYPTOSYSTEM WHO DIS\">invent their own cryptographic functions</span>.</p>\n",
    "<p>This hash function simulates tying a knot in a circle of string with 256 marks on it. Based on the input to be hashed, the function repeatedly selects a span of string, brings the ends together, and gives the span a half-twist to reverse the order of the marks within it. After doing this many times, the order of the marks is used to build the resulting hash.</p>\n",
    "<pre><code>  4--5   pinch   4  5           4   1\n",
    " /    \\  5,0,1  / \\/ \\  twist  / \\ / \\\n",
    "3      0  --&gt;  3      0  --&gt;  3   X   0\n",
    " \\    /         \\ /\\ /         \\ / \\ /\n",
    "  2--1           2  1           2   5\n",
    "</code></pre>\n",
    "<p>To achieve this, begin with a <em>list</em> of numbers from <code>0</code> to <code>255</code>, a <em>current position</em> which begins at <code>0</code> (the first element in the list), a <em>skip size</em> (which starts at <code>0</code>), and a sequence of <em>lengths</em> (your puzzle input).  Then, for each length:</p>\n",
    "<ul>\n",
    "<li><em>Reverse</em> the order of that <em>length</em> of elements in the <em>list</em>, starting with the element at the <em>current position</em>.</li>\n",
    "<li><em>Move</em> the <em>current position</em> forward by that <em>length</em> plus the <em>skip size</em>.</li>\n",
    "<li><em>Increase</em> the <em>skip size</em> by one.</li>\n",
    "</ul>\n",
    "<p>The <em>list</em> is circular; if the <em>current position</em> and the <em>length</em> try to reverse elements beyond the end of the list, the operation reverses using as many extra elements as it needs from the front of the list. If the <em>current position</em> moves past the end of the list, it wraps around to the front. <em>Lengths</em> larger than the size of the <em>list</em> are invalid.</p>\n",
    "<p>Here's an example using a smaller list:</p>\n",
    "<p>Suppose we instead only had a circular list containing five elements, <code>0, 1, 2, 3, 4</code>, and were given input lengths of <code>3, 4, 1, 5</code>.</p>\n",
    "<ul>\n",
    "<li>The list begins as <code>[0] 1 2 3 4</code> (where square brackets indicate the <em>current position</em>).</li>\n",
    "<li>The first length, <code>3</code>, selects <code>([0] 1 2) 3 4</code> (where parentheses indicate the sublist to be reversed).</li>\n",
    "<li>After reversing that section (<code>0 1 2</code> into <code>2 1 0</code>), we get <code>([2] 1 0) 3 4</code>.</li>\n",
    "<li>Then, the <em>current position</em> moves forward by the <em>length</em>, <code>3</code>, plus the <em>skip size</em>, 0: <code>2 1 0 [3] 4</code>. Finally, the <em>skip size</em> increases to <code>1</code>.</li>\n",
    "</ul>\n",
    "<ul>\n",
    "<li>The second length, <code>4</code>, selects a section which wraps: <code>2 1) 0 ([3] 4</code>.</li>\n",
    "<li>The sublist <code>3 4 2 1</code> is reversed to form <code>1 2 4 3</code>: <code>4 3) 0 ([1] 2</code>.</li>\n",
    "<li>The <em>current position</em> moves forward by the <em>length</em> plus the <em>skip size</em>, a total of <code>5</code>, causing it not to move because it wraps around: <code>4 3 0 [1] 2</code>. The <em>skip size</em> increases to <code>2</code>.</li>\n",
    "</ul>\n",
    "<ul>\n",
    "<li>The third length, <code>1</code>, selects a sublist of a single element, and so reversing it has no effect.</li>\n",
    "<li>The <em>current position</em> moves forward by the <em>length</em> (<code>1</code>) plus the <em>skip size</em> (<code>2</code>): <code>4 [3] 0 1 2</code>. The <em>skip size</em> increases to <code>3</code>.</li>\n",
    "</ul>\n",
    "<ul>\n",
    "<li>The fourth length, <code>5</code>, selects every element starting with the second: <code>4) ([3] 0 1 2</code>. Reversing this sublist (<code>3 0 1 2 4</code> into <code>4 2 1 0 3</code>) produces: <code>3) ([4] 2 1 0</code>.</li>\n",
    "<li>Finally, the <em>current position</em> moves forward by <code>8</code>: <code>3 4 2 1 [0]</code>. The <em>skip size</em> increases to <code>4</code>.</li>\n",
    "</ul>\n",
    "<p>In this example, the first two numbers in the list end up being <code>3</code> and <code>4</code>; to check the process, you can multiply them together to produce <code>12</code>.</p>\n",
    "<p>However, you should instead use the standard list size of <code>256</code> (with values <code>0</code> to <code>255</code>) and the sequence of <em>lengths</em> in your puzzle input. Once this process is complete, <em>what is the result of multiplying the first two numbers in the list</em>?</p>\n",
    "</article>\n"
   ]
  },
  {
   "cell_type": "markdown",
   "metadata": {},
   "source": [
    "<link href=\"style.css\" rel=\"stylesheet\"></link>\n"
   ]
  },
  {
   "cell_type": "code",
   "execution_count": 38,
   "metadata": {},
   "outputs": [
    {
     "name": "stdout",
     "output_type": "stream",
     "text": [
      "([3, 4, 2, 1, 0], 12)\n"
     ]
    }
   ],
   "source": [
    "from math import prod\n",
    "\n",
    "\n",
    "example = [3, 4, 1, 5]\n",
    "\n",
    "\n",
    "def single_round_knot_hash(lengths: list[int], n: int = 256) -> list[int]:\n",
    "    lst = list(range(n))\n",
    "    p, skip_size = 0, 0\n",
    "\n",
    "    for l in lengths:\n",
    "        lst = reverse(p, l, n, lst)\n",
    "        p = (p + l + skip_size) % n\n",
    "        skip_size += 1\n",
    "\n",
    "    return lst, prod(lst[:2])\n",
    "\n",
    "\n",
    "def reverse(p: int, l: int, n: int, lst: int) -> list[int]:\n",
    "    lst1 = lst[p : p + l]\n",
    "    if p + l >= n:\n",
    "        lst1 += lst[: p + l - n]\n",
    "        lst1 = lst1[::-1]\n",
    "        lst = lst1[n - p :] + lst[p + l - n : p] + lst1[: n - p]\n",
    "    else:\n",
    "        lst = lst[:p] + lst1[::-1] + lst[p + l :]\n",
    "    return lst\n",
    "\n",
    "\n",
    "print(single_round_knot_hash(example, 5))"
   ]
  },
  {
   "cell_type": "code",
   "execution_count": 39,
   "metadata": {},
   "outputs": [
    {
     "name": "stdout",
     "output_type": "stream",
     "text": [
      "Part I: 6952\n"
     ]
    }
   ],
   "source": [
    "from more_itertools import last\n",
    "\n",
    "\n",
    "puzzle = [31, 2, 85, 1, 80, 109, 35, 63, 98, 255, 0, 13, 105, 254, 128, 33]\n",
    "print(f\"Part I: {last(single_round_knot_hash(puzzle))}\")"
   ]
  },
  {
   "cell_type": "markdown",
   "metadata": {},
   "source": [
    "<link href=\"style.css\" rel=\"stylesheet\"></link>\n",
    "<main>\n",
    "\n",
    "<p>Your puzzle answer was <code>6952</code>.</p><p class=\"day-success\">The first half of this puzzle is complete! It provides one gold star: *</p>\n",
    "<article class=\"day-desc\"><h2 id=\"part2\">--- Part Two ---</h2><p>The logic you've constructed forms a single <em>round</em> of the <em>Knot Hash</em> algorithm; running the full thing requires many of these rounds. Some input and output processing is also required.</p>\n",
    "<p>First, from now on, your input should be taken not as a list of numbers, but as a string of bytes instead. Unless otherwise specified, convert characters to bytes using their <a href=\"https://en.wikipedia.org/wiki/ASCII#Printable_characters\">ASCII codes</a>. This will allow you to handle arbitrary ASCII strings, and it also ensures that your input lengths are never larger than <code>255</code>. For example, if you are given <code>1,2,3</code>, you should convert it to the ASCII codes for each character: <code>49,44,50,44,51</code>.</p>\n",
    "<p>Once you have determined the sequence of lengths to use, add the following lengths to the end of the sequence: <code>17, 31, 73, 47, 23</code>. For example, if you are given <code>1,2,3</code>, your final sequence of lengths should be <code>49,44,50,44,51,17,31,73,47,23</code> (the ASCII codes from the input string combined with the standard length suffix values).</p>\n",
    "<p>Second, instead of merely running one <em>round</em> like you did above, run a total of <code>64</code> rounds, using the same <em>length</em> sequence in each round. The <em>current position</em> and <em>skip size</em> should be preserved between rounds. For example, if the previous example was your first round, you would start your second round with the same <em>length</em> sequence (<code>3, 4, 1, 5, 17, 31, 73, 47, 23</code>, now assuming they came from ASCII codes and include the suffix), but start with the previous round's <em>current position</em> (<code>4</code>) and <em>skip size</em> (<code>4</code>).</p>\n",
    "<p>Once the rounds are complete, you will be left with the numbers from <code>0</code> to <code>255</code> in some order, called the <em>sparse hash</em>. Your next task is to reduce these to a list of only <code>16</code> numbers called the <em>dense hash</em>. To do this, use numeric bitwise <a href=\"https://en.wikipedia.org/wiki/Bitwise_operation#XOR\">XOR</a> to combine each consecutive block of <code>16</code> numbers in the sparse hash (there are <code>16</code> such blocks in a list of <code>256</code> numbers). So, the first element in the dense hash is the first sixteen elements of the sparse hash XOR'd together, the second element in the dense hash is the second sixteen elements of the sparse hash XOR'd together, etc.</p>\n",
    "<p>For example, if the first sixteen elements of your sparse hash are as shown below, and the XOR operator is <code>^</code>, you would calculate the first output number like this:</p>\n",
    "<pre><code>65 ^ 27 ^ 9 ^ 1 ^ 4 ^ 3 ^ 40 ^ 50 ^ 91 ^ 7 ^ 6 ^ 0 ^ 2 ^ 5 ^ 68 ^ 22 = 64</code></pre>\n",
    "<p>Perform this operation on each of the sixteen blocks of sixteen numbers in your sparse hash to determine the sixteen numbers in your dense hash.</p>\n",
    "<p>Finally, the standard way to represent a Knot Hash is as a single <a href=\"https://en.wikipedia.org/wiki/Hexadecimal\">hexadecimal</a> string; the final output is the dense hash in hexadecimal notation. Because each number in your dense hash will be between <code>0</code> and <code>255</code> (inclusive), always represent each number as two hexadecimal digits (including a leading zero as necessary). So, if your first three numbers are <code>64, 7, 255</code>, they correspond to the hexadecimal numbers <code>40, 07, ff</code>, and so the first six characters of the hash would be <code>4007ff</code>. Because every Knot Hash is sixteen such numbers, the hexadecimal representation is always <code>32</code> hexadecimal digits (<code>0</code>-<code>f</code>) long.\n",
    "</p><p>Here are some example hashes:</p>\n",
    "<ul>\n",
    "<li>The empty string becomes <code>a2582a3a0e66e6e86e3812dcb672a272</code>.</li>\n",
    "<li><code>AoC 2017</code> becomes <code>33efeb34ea91902bb2f59c9920caa6cd</code>.</li>\n",
    "<li><code>1,2,3</code> becomes <code>3efbe78a8d82f29979031a4aa0b16a9d</code>.</li>\n",
    "<li><code>1,2,4</code> becomes <code>63960835bcdc130f0b66d7ff4f6a5a8e</code>.</li>\n",
    "</ul>\n",
    "<p>Treating your puzzle input as a string of ASCII characters, <em>what is the Knot Hash of your puzzle input?</em> Ignore any leading or trailing whitespace you might encounter.</p>\n",
    "</article>\n",
    "\n",
    "</main>\n"
   ]
  },
  {
   "cell_type": "code",
   "execution_count": 43,
   "metadata": {},
   "outputs": [
    {
     "name": "stdout",
     "output_type": "stream",
     "text": [
      "\n",
      "\u001b[32mTest Example 1 passed, for knot_hash.\u001b[0m\n",
      "\u001b[32mTest Example 2 passed, for knot_hash.\u001b[0m\n",
      "\u001b[32mTest Example 3 passed, for knot_hash.\u001b[0m\n",
      "\u001b[32mTest Example 4 passed, for knot_hash.\u001b[0m\n",
      "\u001b[32mSuccess\u001b[0m\n"
     ]
    }
   ],
   "source": [
    "from functools import reduce\n",
    "from itertools import batched\n",
    "from operator import xor\n",
    "\n",
    "\n",
    "def knot_hash(lengths: str, n: int = 256) -> str:\n",
    "    p, skip_size = 0, 0\n",
    "    lengths = list(bytes(lengths, \"ascii\")) + [17, 31, 73, 47, 23]\n",
    "    lst = list(range(n))\n",
    "\n",
    "    for _ in range(64):\n",
    "        for l in lengths:\n",
    "            lst = reverse(p, l, n, lst)\n",
    "            p = (p + l + skip_size) % n\n",
    "            skip_size += 1\n",
    "\n",
    "    return \"\".join(f\"{reduce(xor, b[1:], b[0]):02x}\" for b in batched(lst, 16))\n",
    "\n",
    "\n",
    "tests = [\n",
    "    {\n",
    "        \"name\": \"Example 1\",\n",
    "        \"lengths\": \"\",\n",
    "        \"expected\": \"a2582a3a0e66e6e86e3812dcb672a272\",\n",
    "    },\n",
    "    {\n",
    "        \"name\": \"Example 2\",\n",
    "        \"lengths\": \"AoC 2017\",\n",
    "        \"expected\": \"33efeb34ea91902bb2f59c9920caa6cd\",\n",
    "    },\n",
    "    {\n",
    "        \"name\": \"Example 3\",\n",
    "        \"lengths\": \"1,2,3\",\n",
    "        \"expected\": \"3efbe78a8d82f29979031a4aa0b16a9d\",\n",
    "    },\n",
    "    {\n",
    "        \"name\": \"Example 4\",\n",
    "        \"lengths\": \"1,2,4\",\n",
    "        \"expected\": \"63960835bcdc130f0b66d7ff4f6a5a8e\",\n",
    "    },\n",
    "]\n",
    "\n",
    "\n",
    "run_tests_params(knot_hash, tests)"
   ]
  },
  {
   "cell_type": "code",
   "execution_count": 44,
   "metadata": {},
   "outputs": [
    {
     "name": "stdout",
     "output_type": "stream",
     "text": [
      "Example: 4a19451b02fb05416d73aea0ec8c00c0\n"
     ]
    }
   ],
   "source": [
    "print(f\"Example: {knot_hash(\",\".join(map(str, example)))}\")"
   ]
  },
  {
   "cell_type": "code",
   "execution_count": 45,
   "metadata": {},
   "outputs": [
    {
     "name": "stdout",
     "output_type": "stream",
     "text": [
      "Part II: 28e7c4360520718a5dc811d3942cf1fd\n"
     ]
    }
   ],
   "source": [
    "print(f\"Part II: {knot_hash(\",\".join(map(str, puzzle)))}\")"
   ]
  },
  {
   "cell_type": "markdown",
   "metadata": {},
   "source": [
    "<link href=\"style.css\" rel=\"stylesheet\"></link>\n",
    "<main>\n",
    "\n",
    "<p>Your puzzle answer was <code>28e7c4360520718a5dc811d3942cf1fd</code>.</p><p class=\"day-success\">Both parts of this puzzle are complete! They provide two gold stars: **</p>\n",
    "\n",
    "</main>\n"
   ]
  },
  {
   "cell_type": "code",
   "execution_count": null,
   "metadata": {},
   "outputs": [],
   "source": []
  },
  {
   "cell_type": "markdown",
   "metadata": {},
   "source": [
    "<link href=\"style.css\" rel=\"stylesheet\"></link>\n"
   ]
  },
  {
   "cell_type": "markdown",
   "metadata": {},
   "source": [
    "<link href=\"style.css\" rel=\"stylesheet\"></link>\n"
   ]
  }
 ],
 "metadata": {
  "kernelspec": {
   "display_name": ".venv",
   "language": "python",
   "name": "python3"
  },
  "language_info": {
   "codemirror_mode": {
    "name": "ipython",
    "version": 3
   },
   "file_extension": ".py",
   "mimetype": "text/x-python",
   "name": "python",
   "nbconvert_exporter": "python",
   "pygments_lexer": "ipython3",
   "version": "3.12.0"
  }
 },
 "nbformat": 4,
 "nbformat_minor": 2
}
