{
 "cells": [
  {
   "cell_type": "code",
   "execution_count": 12,
   "metadata": {},
   "outputs": [],
   "source": [
    "# %matplotlib widget\n",
    "\n",
    "from __future__ import annotations\n",
    "\n",
    "import re\n",
    "from collections import defaultdict\n",
    "from dataclasses import dataclass, field\n",
    "from itertools import permutations, product\n",
    "from math import inf\n",
    "from random import choice\n",
    "\n",
    "import matplotlib.colors as mcolors\n",
    "import matplotlib.pyplot as plt\n",
    "import networkx as nx\n",
    "import numpy as np\n",
    "import numpy.typing as npt\n",
    "from mpl_toolkits.mplot3d import axes3d\n",
    "from numpy import int_, object_\n",
    "from numpy.typing import NDArray\n",
    "from test_utilities import run_tests_params\n",
    "from util import print_hex\n",
    "\n",
    "COLORS = list(mcolors.CSS4_COLORS.keys())"
   ]
  },
  {
   "cell_type": "markdown",
   "metadata": {},
   "source": [
    "<link href=\"style.css\" rel=\"stylesheet\"></link>\n",
    "<article class=\"day-desc read-aloud\"><h2>--- Day 14: Disk Defragmentation ---</h2><p>Suddenly, a scheduled job activates the system's <a href=\"https://en.wikipedia.org/wiki/Defragmentation\">disk defragmenter</a>. Were the situation different, you might <a href=\"https://www.youtube.com/watch?v=kPv1gQ5Rs8A&amp;t=37\">sit and watch it for a while</a>, but today, you just don't have that kind of time. It's soaking up valuable system resources that are needed elsewhere, and so the only option is to help it finish its task as soon as possible.</p>\n",
    "<p>The disk in question consists of a 128x128 grid; each square of the grid is either <em>free</em> or <em>used</em>. On this disk, the state of the grid is tracked by the bits in a sequence of <a href=\"10\">knot hashes</a>.</p>\n",
    "<p>A total of 128 knot hashes are calculated, each corresponding to a single row in the grid; each hash contains 128 bits which correspond to individual grid squares. Each bit of a hash indicates whether that square is <em>free</em> (<code>0</code>) or <em>used</em> (<code>1</code>).</p>\n",
    "<p>The hash inputs are a key string (your puzzle input), a dash, and a number from <code>0</code> to <code>127</code> corresponding to the row.  For example, if your key string were <code>flqrgnkx</code>, then the first row would be given by the bits of the knot hash of <code>flqrgnkx-0</code>, the second row from the bits of the knot hash of <code>flqrgnkx-1</code>, and so on until the last row, <code>flqrgnkx-127</code>.</p>\n",
    "<p>The output of a knot hash is traditionally represented by 32 hexadecimal digits; each of these digits correspond to 4 bits, for a total of <code>4 * 32 = 128</code> bits. To convert to bits, turn each hexadecimal digit to its equivalent binary value, high-bit first: <code>0</code> becomes <code>0000</code>, <code>1</code> becomes <code>0001</code>, <code>e</code> becomes <code>1110</code>, <code>f</code> becomes <code>1111</code>, and so on; a hash that begins with <code>a0c2017...</code> in hexadecimal would begin with <code>10100000110000100000000101110000...</code> in binary.</p>\n",
    "<p>Continuing this process, the <em>first 8 rows and columns</em> for key <code>flqrgnkx</code> appear as follows, using <code>#</code> to denote used squares, and <code>.</code> to denote free ones:</p>\n",
    "<pre><code>##.#.#..--&gt;\n",
    ".#.#.#.#   \n",
    "....#.#.   \n",
    "#.#.##.#   \n",
    ".##.#...   \n",
    "##..#..#   \n",
    ".#...#..   \n",
    "##.#.##.--&gt;\n",
    "|      |   \n",
    "V      V   \n",
    "</code></pre>\n",
    "<p>In this example, <code>8108</code> squares are used across the entire 128x128 grid.</p>\n",
    "<p>Given your actual key string, <em>how many squares are used</em>?</p>\n",
    "</article>\n"
   ]
  },
  {
   "cell_type": "markdown",
   "metadata": {},
   "source": [
    "<link href=\"style.css\" rel=\"stylesheet\"></link>\n"
   ]
  },
  {
   "cell_type": "code",
   "execution_count": 13,
   "metadata": {},
   "outputs": [],
   "source": [
    "example = \"flqrgnkx\""
   ]
  },
  {
   "cell_type": "code",
   "execution_count": 14,
   "metadata": {},
   "outputs": [
    {
     "name": "stdout",
     "output_type": "stream",
     "text": [
      "Example: 8108 should 8108\n"
     ]
    }
   ],
   "source": [
    "from functools import reduce\n",
    "from itertools import batched\n",
    "from operator import xor\n",
    "\n",
    "from tabulate import tabulate\n",
    "\n",
    "\n",
    "def reverse(p: int, l: int, n: int, lst: int) -> list[int]:\n",
    "    lst1 = lst[p : p + l]\n",
    "    if p + l >= n:\n",
    "        lst1 += lst[: p + l - n]\n",
    "        lst1 = lst1[::-1]\n",
    "        lst = lst1[n - p :] + lst[p + l - n : p] + lst1[: n - p]\n",
    "    else:\n",
    "        lst = lst[:p] + lst1[::-1] + lst[p + l :]\n",
    "    return lst\n",
    "\n",
    "\n",
    "def knot_hash(lengths: str, n: int = 256) -> str:\n",
    "    p, skip_size = 0, 0\n",
    "    lengths = list(bytes(lengths, \"ascii\")) + [17, 31, 73, 47, 23]\n",
    "    lst = list(range(n))\n",
    "\n",
    "    for _ in range(64):\n",
    "        for l in lengths:\n",
    "            lst = reverse(p, l, n, lst)\n",
    "            p = (p + l + skip_size) % n\n",
    "            skip_size += 1\n",
    "\n",
    "    return \"\".join(f\"{reduce(xor, b[1:], b[0]):02x}\" for b in batched(lst, 16))\n",
    "\n",
    "\n",
    "def harddisk_state(s: str) -> list[str]:\n",
    "    return [\n",
    "        \"\".join(f\"{int(b, base=16):04b}\" for b in knot_hash(f\"{s}-{i}\"))\n",
    "        for i in range(128)\n",
    "    ]\n",
    "\n",
    "\n",
    "def count_used(s: str) -> int:\n",
    "    state = harddisk_state(s)\n",
    "    return sum(sum(1 for b in l if b == \"1\") for l in state)\n",
    "\n",
    "\n",
    "print(f\"Example: {count_used(example)} should 8108\")"
   ]
  },
  {
   "cell_type": "code",
   "execution_count": 15,
   "metadata": {},
   "outputs": [
    {
     "name": "stdout",
     "output_type": "stream",
     "text": [
      "Part I: 8250\n"
     ]
    }
   ],
   "source": [
    "puzzle = \"stpzcrnm\"\n",
    "print(f\"Part I: {count_used(puzzle)}\")"
   ]
  },
  {
   "cell_type": "markdown",
   "metadata": {},
   "source": [
    "<link href=\"style.css\" rel=\"stylesheet\"></link>\n",
    "<main>\n",
    "\n",
    "<p>Your puzzle answer was <code>8250</code>.</p><p class=\"day-success\">The first half of this puzzle is complete! It provides one gold star: *</p>\n",
    "<article class=\"day-desc\"><h2 id=\"part2\">--- Part Two ---</h2><p>Now, <span title=\"This is exactly how it works in real life.\">all the defragmenter needs to know</span> is the number of <em>regions</em>. A region is a group of <em>used</em> squares that are all <em>adjacent</em>, not including diagonals. Every used square is in exactly one region: lone used squares form their own isolated regions, while several adjacent squares all count as a single region.</p>\n",
    "<p>In the example above, the following nine regions are visible, each marked with a distinct digit:</p>\n",
    "<pre><code>11.2.3..--&gt;\n",
    ".1.2.3.4   \n",
    "....5.6.   \n",
    "7.8.55.9   \n",
    ".88.5...   \n",
    "88..5..8   \n",
    ".8...8..   \n",
    "88.8.88.--&gt;\n",
    "|      |   \n",
    "V      V   \n",
    "</code></pre>\n",
    "<p>Of particular interest is the region marked <code>8</code>; while it does not appear contiguous in this small view, all of the squares marked <code>8</code> are connected when considering the whole 128x128 grid. In total, in this example, <code>1242</code> regions are present.</p>\n",
    "<p><em>How many regions</em> are present given your key string?</p>\n",
    "</article>\n",
    "\n",
    "</main>\n"
   ]
  },
  {
   "cell_type": "code",
   "execution_count": 16,
   "metadata": {},
   "outputs": [
    {
     "name": "stdout",
     "output_type": "stream",
     "text": [
      "Example: 1242 should 1242\n"
     ]
    }
   ],
   "source": [
    "from collections import deque\n",
    "\n",
    "\n",
    "def count_regions(s: str) -> int:\n",
    "    state = harddisk_state(s)\n",
    "    seen = set()\n",
    "    groups = 0\n",
    "    for r, c in product(range(128), repeat=2):\n",
    "        if state[r][c] == \"0\" or (r, c) in seen:\n",
    "            continue\n",
    "\n",
    "        groups += 1\n",
    "\n",
    "        queue = deque([(r, c)])\n",
    "        while queue:\n",
    "            rr, cc = queue.popleft()\n",
    "            seen.add((rr, cc))\n",
    "            queue.extend(\n",
    "                (rr + dr, cc + dc)\n",
    "                for dr, dc in ((-1, 0), (0, 1), (1, 0), (0, -1))\n",
    "                if 0 <= rr + dr < 128\n",
    "                and 0 <= cc + dc < 128\n",
    "                and state[rr + dr][cc + dc] == \"1\"\n",
    "                and (rr + dr, cc + dc) not in seen\n",
    "            )\n",
    "\n",
    "    return groups\n",
    "\n",
    "\n",
    "print(f\"Example: {count_regions(example)} should 1242\")"
   ]
  },
  {
   "cell_type": "code",
   "execution_count": 17,
   "metadata": {},
   "outputs": [
    {
     "name": "stdout",
     "output_type": "stream",
     "text": [
      "Part II: 1113\n"
     ]
    }
   ],
   "source": [
    "print(f\"Part II: {count_regions(puzzle)}\")"
   ]
  },
  {
   "cell_type": "markdown",
   "metadata": {},
   "source": [
    "<link href=\"style.css\" rel=\"stylesheet\"></link>\n",
    "<main>\n",
    "\n",
    "<p>Your puzzle answer was <code>1113</code>.</p><p class=\"day-success\">Both parts of this puzzle are complete! They provide two gold stars: **</p>\n",
    "\n",
    "</main>\n"
   ]
  },
  {
   "cell_type": "markdown",
   "metadata": {},
   "source": [
    "<link href=\"style.css\" rel=\"stylesheet\"></link>\n"
   ]
  }
 ],
 "metadata": {
  "kernelspec": {
   "display_name": ".venv",
   "language": "python",
   "name": "python3"
  },
  "language_info": {
   "codemirror_mode": {
    "name": "ipython",
    "version": 3
   },
   "file_extension": ".py",
   "mimetype": "text/x-python",
   "name": "python",
   "nbconvert_exporter": "python",
   "pygments_lexer": "ipython3",
   "version": "3.12.0"
  }
 },
 "nbformat": 4,
 "nbformat_minor": 2
}
