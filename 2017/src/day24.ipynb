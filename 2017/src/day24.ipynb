{
 "cells": [
  {
   "cell_type": "code",
   "execution_count": 81,
   "metadata": {},
   "outputs": [],
   "source": [
    "# %matplotlib widget\n",
    "\n",
    "from __future__ import annotations\n",
    "\n",
    "import re\n",
    "from collections import defaultdict\n",
    "from dataclasses import dataclass, field\n",
    "from itertools import permutations, product\n",
    "from math import inf\n",
    "from random import choice\n",
    "\n",
    "import matplotlib.colors as mcolors\n",
    "import matplotlib.pyplot as plt\n",
    "import networkx as nx\n",
    "import numpy as np\n",
    "import numpy.typing as npt\n",
    "from mpl_toolkits.mplot3d import axes3d\n",
    "from numpy import int_, object_\n",
    "from numpy.typing import NDArray\n",
    "from test_utilities import run_tests_params\n",
    "from util import print_hex\n",
    "\n",
    "COLORS = list(mcolors.CSS4_COLORS.keys())"
   ]
  },
  {
   "cell_type": "markdown",
   "metadata": {},
   "source": [
    "<link href=\"style.css\" rel=\"stylesheet\"></link><main>\n",
    "<article class=\"day-desc\"><h2>--- Day 24: Electromagnetic Moat ---</h2><p>The CPU itself is a large, black building surrounded by a bottomless pit. Enormous metal tubes extend outward from the side of the building at regular intervals and descend down into the void. There's no way to cross, but you need to get inside.</p>\n",
    "<p>No way, of course, other than building a <em>bridge</em> out of the magnetic components strewn about nearby.</p>\n",
    "<p>Each component has two <em>ports</em>, one on each end.  The ports come in all different types, and only matching types can be connected.  You take an inventory of the components by their port types (your puzzle input). Each port is identified by the number of <em>pins</em> it uses; more pins mean a stronger connection for your bridge. A <code>3/7</code> component, for example, has a type-<code>3</code> port on one side, and a type-<code>7</code> port on the other.</p>\n",
    "<p>Your side of the pit is metallic; a perfect surface to connect a magnetic, <em>zero-pin port</em>. Because of this, the first port you use must be of type <code>0</code>. It doesn't matter what type of port you end with; your goal is just to make the bridge as strong as possible.</p>\n",
    "<p>The <em>strength</em> of a bridge is the sum of the port types in each component. For example, if your bridge is made of components <code>0/3</code>, <code>3/7</code>, and <code>7/4</code>, your bridge has a strength of <code>0+3 + 3+7 + 7+4 = 24</code>.</p>\n",
    "<p>For example, suppose you had the following components:</p>\n",
    "<pre><code>0/2\n",
    "2/2\n",
    "2/3\n",
    "3/4\n",
    "3/5\n",
    "0/1\n",
    "10/1\n",
    "9/10\n",
    "</code></pre>\n",
    "<p>With them, you could make the following valid bridges:</p>\n",
    "<ul>\n",
    "<li><code>0/1</code></li>\n",
    "<li><code>0/1</code>--<code>10/1</code></li>\n",
    "<li><code>0/1</code>--<code>10/1</code>--<code>9/10</code></li>\n",
    "<li><code>0/2</code></li>\n",
    "<li><code>0/2</code>--<code>2/3</code></li>\n",
    "<li><code>0/2</code>--<code>2/3</code>--<code>3/4</code></li>\n",
    "<li><code>0/2</code>--<code>2/3</code>--<code>3/5</code></li>\n",
    "<li><code>0/2</code>--<code>2/2</code></li>\n",
    "<li><code>0/2</code>--<code>2/2</code>--<code>2/3</code></li>\n",
    "<li><code>0/2</code>--<code>2/2</code>--<code>2/3</code>--<code>3/4</code></li>\n",
    "<li><code>0/2</code>--<code>2/2</code>--<code>2/3</code>--<code>3/5</code></li>\n",
    "</ul>\n",
    "<p>(Note how, as shown by <code>10/1</code>, order of ports within a component doesn't matter. However, you may only use each port on a component once.)</p>\n",
    "<p>Of these bridges, the <em>strongest</em> one is <code>0/1</code>--<code>10/1</code>--<code>9/10</code>; it has a strength of <code>0+1 + 1+10 + 10+9 = <em>31</em></code>.</p>\n",
    "<p><em>What is the strength of the strongest bridge you can make</em> with the components you have available?</p>\n",
    "</article>\n"
   ]
  },
  {
   "cell_type": "code",
   "execution_count": 82,
   "metadata": {},
   "outputs": [
    {
     "name": "stdout",
     "output_type": "stream",
     "text": [
      "Example : 31 should be 31\n"
     ]
    }
   ],
   "source": [
    "from collections import deque\n",
    "from functools import cache\n",
    "from typing import Generator\n",
    "from more_itertools import minmax\n",
    "\n",
    "\n",
    "example = \"\"\"\n",
    "0/2\n",
    "2/2\n",
    "2/3\n",
    "3/4\n",
    "3/5\n",
    "0/1\n",
    "10/1\n",
    "9/10\n",
    "\"\"\"\n",
    "\n",
    "\n",
    "def parse_components(s: str) -> Generator[tuple[int, int], None, None]:\n",
    "    return (map(int, l.split(\"/\")) for l in s.strip().splitlines())\n",
    "\n",
    "\n",
    "def get_components(s: str) -> dict[int, set[int]]:\n",
    "    components = defaultdict(set)\n",
    "    for mi, ma in parse_components(s):\n",
    "        components[mi].add(ma)\n",
    "        components[ma].add(mi)\n",
    "    return components\n",
    "\n",
    "\n",
    "def strongest_bridge(s: str) -> int:\n",
    "    def dfs(fr: int) -> int:\n",
    "        max_strenght = 0\n",
    "        for to in componenents[fr]:\n",
    "            if minmax(fr, to) not in seen:\n",
    "                seen.add(minmax(fr, to))\n",
    "                max_strenght = max(max_strenght, fr + to + dfs(to))\n",
    "                seen.remove(minmax(fr, to))\n",
    "\n",
    "        return max_strenght\n",
    "\n",
    "    componenents = get_components(s)\n",
    "    seen = set()\n",
    "    return dfs(0)\n",
    "\n",
    "\n",
    "print(f\"Example : {strongest_bridge(example)} should be 31\")"
   ]
  },
  {
   "cell_type": "code",
   "execution_count": 83,
   "metadata": {},
   "outputs": [
    {
     "name": "stdout",
     "output_type": "stream",
     "text": [
      "Part I: 1868\n"
     ]
    }
   ],
   "source": [
    "with open(\"../input/day24.txt\") as f:\n",
    "    puzzle = f.read()\n",
    "\n",
    "print(f\"Part I: {strongest_bridge(puzzle)}\")"
   ]
  },
  {
   "cell_type": "markdown",
   "metadata": {},
   "source": [
    "<link href=\"style.css\" rel=\"stylesheet\"></link><main>\n",
    "...<main>\n",
    "\n",
    "<p>Your puzzle answer was <code>1868</code>.</p><p class=\"day-success\">The first half of this puzzle is complete! It provides one gold star: *</p>\n",
    "<article class=\"day-desc\"><h2 id=\"part2\">--- Part Two ---</h2><p>The bridge you've built isn't long enough; you can't <span title=\"Who do you think you are, Mario?\">jump the rest of the way</span>.</p>\n",
    "<p>In the example above, there are two longest bridges:</p>\n",
    "<ul>\n",
    "<li><code>0/2</code>--<code>2/2</code>--<code>2/3</code>--<code>3/4</code></li>\n",
    "<li><code>0/2</code>--<code>2/2</code>--<code>2/3</code>--<code>3/5</code></li>\n",
    "</ul>\n",
    "<p>Of them, the one which uses the <code>3/5</code> component is stronger; its strength is <code>0+2 + 2+2 + 2+3 + 3+5 = <em>19</em></code>.</p>\n",
    "<p><em>What is the strength of the longest bridge you can make?</em> If you can make multiple bridges of the longest length, pick the <em>strongest</em> one.</p>\n",
    "</article>\n",
    "\n",
    "</main>\n"
   ]
  },
  {
   "cell_type": "code",
   "execution_count": 84,
   "metadata": {},
   "outputs": [
    {
     "name": "stdout",
     "output_type": "stream",
     "text": [
      "Example : 19 should be 19\n"
     ]
    }
   ],
   "source": [
    "from more_itertools import first\n",
    "\n",
    "\n",
    "def longest_strongest_bridge(s: str) -> int:\n",
    "    def dfs(fr: int) -> tuple[int, int]:\n",
    "        max_strenght, max_length = 0, 0\n",
    "        for to in componenents[fr]:\n",
    "            if minmax(fr, to) not in seen:\n",
    "                seen.add(minmax(fr, to))\n",
    "                w, l = dfs(to)\n",
    "                if l > max_length:\n",
    "                    max_strenght = fr + to + w\n",
    "                    max_length = l\n",
    "                elif l == max_length:\n",
    "                    max_strenght = max(max_strenght, fr + to + w)\n",
    "                seen.remove(minmax(fr, to))\n",
    "\n",
    "        return max_strenght, max_length + 1\n",
    "\n",
    "    componenents = get_components(s)\n",
    "    seen = set()\n",
    "    return first(dfs(0))\n",
    "\n",
    "\n",
    "print(f\"Example : {longest_strongest_bridge(example)} should be 19\")"
   ]
  },
  {
   "cell_type": "code",
   "execution_count": 85,
   "metadata": {},
   "outputs": [
    {
     "name": "stdout",
     "output_type": "stream",
     "text": [
      "Part II: 1841\n"
     ]
    }
   ],
   "source": [
    "print(f\"Part II: {longest_strongest_bridge(puzzle)}\")"
   ]
  },
  {
   "cell_type": "markdown",
   "metadata": {},
   "source": [
    "<link href=\"style.css\" rel=\"stylesheet\"></link><main>\n",
    "<main>\n",
    "\n",
    "<p>Your puzzle answer was <code>1841</code>.</p><p class=\"day-success\">Both parts of this puzzle are complete! They provide two gold stars: **</p>\n",
    "\n",
    "</main>\n"
   ]
  }
 ],
 "metadata": {
  "kernelspec": {
   "display_name": ".venv",
   "language": "python",
   "name": "python3"
  },
  "language_info": {
   "codemirror_mode": {
    "name": "ipython",
    "version": 3
   },
   "file_extension": ".py",
   "mimetype": "text/x-python",
   "name": "python",
   "nbconvert_exporter": "python",
   "pygments_lexer": "ipython3",
   "version": "3.12.0"
  }
 },
 "nbformat": 4,
 "nbformat_minor": 2
}
