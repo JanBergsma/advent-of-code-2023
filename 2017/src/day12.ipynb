{
 "cells": [
  {
   "cell_type": "code",
   "execution_count": 1,
   "metadata": {},
   "outputs": [],
   "source": [
    "# %matplotlib widget\n",
    "\n",
    "from __future__ import annotations\n",
    "\n",
    "import re\n",
    "from collections import defaultdict\n",
    "from dataclasses import dataclass, field\n",
    "from itertools import permutations, product\n",
    "from math import inf\n",
    "from random import choice\n",
    "\n",
    "import matplotlib.colors as mcolors\n",
    "import matplotlib.pyplot as plt\n",
    "import networkx as nx\n",
    "import numpy as np\n",
    "import numpy.typing as npt\n",
    "from mpl_toolkits.mplot3d import axes3d\n",
    "from numpy import int_, object_\n",
    "from numpy.typing import NDArray\n",
    "from test_utilities import run_tests_params\n",
    "from util import print_hex\n",
    "\n",
    "COLORS = list(mcolors.CSS4_COLORS.keys())"
   ]
  },
  {
   "cell_type": "markdown",
   "metadata": {},
   "source": [
    "<link href=\"style.css\" rel=\"stylesheet\"></link>\n",
    "<article class=\"day-desc read-aloud\"><h2>--- Day 12: Digital Plumber ---</h2><p>Walking along the memory banks of the stream, you find a small village that is experiencing a little confusion: some programs can't communicate with each other.</p>\n",
    "<p>Programs in this village communicate using a fixed system of <em>pipes</em>. Messages are passed between programs using these pipes, but most programs aren't connected to each other directly.  Instead, programs pass messages between each other until the message reaches the intended recipient.</p>\n",
    "<p>For some reason, though, some of these messages aren't ever reaching their intended recipient, and the programs suspect that some <span title=\"Yes, citizens, plumbing! It's the latest invention to hit Rome!\">pipes</span> are missing. They would like you to investigate.</p>\n",
    "<p>You walk through the village and record the ID of each program and the IDs with which it can communicate directly (your puzzle input). Each program has one or more programs with which it can communicate, and these pipes are bidirectional; if <code>8</code> says it can communicate with <code>11</code>, then <code>11</code> will say it can communicate with <code>8</code>.</p>\n",
    "<p>You need to figure out how many programs are in the group that contains program ID <code>0</code>.</p>\n",
    "<p>For example, suppose you go door-to-door like a travelling salesman and record the following list:</p>\n",
    "<pre><code>0 &lt;-&gt; 2\n",
    "1 &lt;-&gt; 1\n",
    "2 &lt;-&gt; 0, 3, 4\n",
    "3 &lt;-&gt; 2, 4\n",
    "4 &lt;-&gt; 2, 3, 6\n",
    "5 &lt;-&gt; 6\n",
    "6 &lt;-&gt; 4, 5\n",
    "</code></pre>\n",
    "<p>In this example, the following programs are in the group that contains program ID <code>0</code>:</p>\n",
    "<ul>\n",
    "<li>Program <code>0</code> by definition.</li>\n",
    "<li>Program <code>2</code>, directly connected to program <code>0</code>.</li>\n",
    "<li>Program <code>3</code> via program <code>2</code>.</li>\n",
    "<li>Program <code>4</code> via program <code>2</code>.</li>\n",
    "<li>Program <code>5</code> via programs <code>6</code>, then <code>4</code>, then <code>2</code>.</li>\n",
    "<li>Program <code>6</code> via programs <code>4</code>, then <code>2</code>.</li>\n",
    "</ul>\n",
    "<p>Therefore, a total of <code>6</code> programs are in this group; all but program <code>1</code>, which has a pipe that connects it to itself.</p>\n",
    "<p><em>How many programs</em> are in the group that contains program ID <code>0</code>?</p>\n",
    "</article>\n"
   ]
  },
  {
   "cell_type": "code",
   "execution_count": 2,
   "metadata": {},
   "outputs": [
    {
     "data": {
      "text/plain": [
       "6"
      ]
     },
     "execution_count": 2,
     "metadata": {},
     "output_type": "execute_result"
    }
   ],
   "source": [
    "from collections import deque\n",
    "from re import findall, split\n",
    "\n",
    "\n",
    "example = \"\"\"\n",
    "0 <-> 2\n",
    "1 <-> 1\n",
    "2 <-> 0, 3, 4\n",
    "3 <-> 2, 4\n",
    "4 <-> 2, 3, 6\n",
    "5 <-> 6\n",
    "6 <-> 4, 5\n",
    "\"\"\"\n",
    "\n",
    "\n",
    "def program_group_0(lst: str) -> int:\n",
    "    graph = {}\n",
    "    for line in lst.strip().splitlines():\n",
    "        node, *neigbors = map(int, findall(r\"\\d+\", line))\n",
    "        graph[node] = set(neigbors)\n",
    "\n",
    "    queue = deque(graph[0])\n",
    "\n",
    "    while queue:\n",
    "        node = queue.popleft()\n",
    "        if node != 0:\n",
    "            graph[0] |= graph[node]\n",
    "            queue.extend(graph[node])\n",
    "            graph[node] = set()\n",
    "\n",
    "    return len(graph[0])\n",
    "\n",
    "\n",
    "program_group_0(example)"
   ]
  },
  {
   "cell_type": "code",
   "execution_count": 3,
   "metadata": {},
   "outputs": [
    {
     "name": "stdout",
     "output_type": "stream",
     "text": [
      "Part I: 380\n"
     ]
    }
   ],
   "source": [
    "from more_itertools import first\n",
    "\n",
    "\n",
    "with open(\"../input/day12.txt\") as f:\n",
    "    puzzle = f.read()\n",
    "\n",
    "\n",
    "print(f\"Part I: {program_group_0(puzzle)}\")"
   ]
  },
  {
   "cell_type": "markdown",
   "metadata": {},
   "source": [
    "<link href=\"style.css\" rel=\"stylesheet\"></link>\n",
    "<main>\n",
    "\n",
    "<p>Your puzzle answer was <code>380</code>.</p><p class=\"day-success\">The first half of this puzzle is complete! It provides one gold star: *</p>\n",
    "<article class=\"day-desc\"><h2 id=\"part2\">--- Part Two ---</h2><p>There are more programs than just the ones in the group containing program ID <code>0</code>. The rest of them have no way of reaching that group, and still might have no way of reaching each other.</p>\n",
    "<p>A <em>group</em> is a collection of programs that can all communicate via pipes either directly or indirectly. The programs you identified just a moment ago are all part of the same group. Now, they would like you to determine the total number of groups.</p>\n",
    "<p>In the example above, there were <code>2</code> groups: one consisting of programs <code>0,2,3,4,5,6</code>, and the other consisting solely of program <code>1</code>.</p>\n",
    "<p><em>How many groups are there</em> in total?</p>\n",
    "</article>\n",
    "\n",
    "</main>\n"
   ]
  },
  {
   "cell_type": "code",
   "execution_count": 8,
   "metadata": {},
   "outputs": [
    {
     "name": "stdout",
     "output_type": "stream",
     "text": [
      "Example = groups(example)=2 should be 2\n"
     ]
    }
   ],
   "source": [
    "def groups(lst: str) -> int:\n",
    "    groups = defaultdict(set)\n",
    "    for line in lst.strip().splitlines():\n",
    "        node, *neigbors = map(int, findall(r\"\\d+\", line))\n",
    "        for n in neigbors:\n",
    "            groups[n].add(node)\n",
    "\n",
    "    for group in list(groups.keys()):\n",
    "        queue = deque(groups.get(group, set()))\n",
    "        while queue:\n",
    "            child = queue.popleft()\n",
    "            if child != group:\n",
    "                queue.extend(groups[child])\n",
    "                groups[group] |= groups[child]\n",
    "                del groups[child]\n",
    "\n",
    "    return len(groups)\n",
    "\n",
    "\n",
    "print(f\"Example = {groups(example)=} should be 2\")"
   ]
  },
  {
   "cell_type": "code",
   "execution_count": 5,
   "metadata": {},
   "outputs": [
    {
     "name": "stdout",
     "output_type": "stream",
     "text": [
      "Part II: 181\n"
     ]
    }
   ],
   "source": [
    "from more_itertools import last\n",
    "\n",
    "\n",
    "print(f\"Part II: {groups(puzzle)}\")"
   ]
  },
  {
   "cell_type": "markdown",
   "metadata": {},
   "source": [
    "<link href=\"style.css\" rel=\"stylesheet\"></link>\n",
    "<main>\n",
    "\n",
    "<p>Your puzzle answer was <code>181</code>.</p><p class=\"day-success\">Both parts of this puzzle are complete! They provide two gold stars: **</p>\n",
    "\n",
    "</main>\n"
   ]
  },
  {
   "cell_type": "markdown",
   "metadata": {},
   "source": [
    "<link href=\"style.css\" rel=\"stylesheet\"></link>\n"
   ]
  },
  {
   "cell_type": "markdown",
   "metadata": {},
   "source": [
    "<link href=\"style.css\" rel=\"stylesheet\"></link>\n"
   ]
  }
 ],
 "metadata": {
  "kernelspec": {
   "display_name": ".venv",
   "language": "python",
   "name": "python3"
  },
  "language_info": {
   "codemirror_mode": {
    "name": "ipython",
    "version": 3
   },
   "file_extension": ".py",
   "mimetype": "text/x-python",
   "name": "python",
   "nbconvert_exporter": "python",
   "pygments_lexer": "ipython3",
   "version": "3.12.0"
  }
 },
 "nbformat": 4,
 "nbformat_minor": 2
}
