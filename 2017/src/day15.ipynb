{
 "cells": [
  {
   "cell_type": "code",
   "execution_count": 1,
   "metadata": {},
   "outputs": [],
   "source": [
    "# %matplotlib widget\n",
    "\n",
    "from __future__ import annotations\n",
    "\n",
    "import re\n",
    "from collections import defaultdict\n",
    "from dataclasses import dataclass, field\n",
    "from itertools import permutations, product\n",
    "from math import inf\n",
    "from random import choice\n",
    "\n",
    "import matplotlib.colors as mcolors\n",
    "import matplotlib.pyplot as plt\n",
    "import networkx as nx\n",
    "import numpy as np\n",
    "import numpy.typing as npt\n",
    "from mpl_toolkits.mplot3d import axes3d\n",
    "from numpy import int_, object_\n",
    "from numpy.typing import NDArray\n",
    "from test_utilities import run_tests_params\n",
    "from util import print_hex\n",
    "\n",
    "COLORS = list(mcolors.CSS4_COLORS.keys())"
   ]
  },
  {
   "cell_type": "markdown",
   "metadata": {},
   "source": [
    "<link href=\"style.css\" rel=\"stylesheet\"></link>\n",
    "<article class=\"day-desc read-aloud\"><h2>--- Day 15: Dueling Generators ---</h2><p>Here, you encounter a pair of dueling <span title=\"I guess they *are* a little banjo-shaped. Why do you ask?\">generators</span>. The generators, called <em>generator A</em> and <em>generator B</em>, are trying to agree on a sequence of numbers. However, one of them is malfunctioning, and so the sequences don't always match.</p>\n",
    "<p>As they do this, a <em>judge</em> waits for each of them to generate its next value, compares the lowest 16 bits of both values, and keeps track of the number of times those parts of the values match.</p>\n",
    "<p>The generators both work on the same principle. To create its next value, a generator will take the previous value it produced, multiply it by a <em>factor</em> (generator A uses <code>16807</code>; generator B uses <code>48271</code>), and then keep the remainder of dividing that resulting product by <code>2147483647</code>. That final remainder is the value it produces next.</p>\n",
    "<p>To calculate each generator's first value, it instead uses a specific starting value as its \"previous value\" (as listed in your puzzle input).</p>\n",
    "<p>For example, suppose that for starting values, generator A uses <code>65</code>, while generator B uses <code>8921</code>. Then, the first five pairs of generated values are:</p>\n",
    "<pre><code>--Gen. A--  --Gen. B--\n",
    "   1092455   430625591\n",
    "1181022009  1233683848\n",
    " 245556042  1431495498\n",
    "1744312007   137874439\n",
    "1352636452   285222916\n",
    "</code></pre>\n",
    "<p>In binary, these pairs are (with generator A's value first in each pair):</p>\n",
    "<pre><code>00000000000100001010101101100111\n",
    "00011001101010101101001100110111\n",
    "\n",
    "01000110011001001111011100111001\n",
    "01001001100010001000010110001000\n",
    "\n",
    "00001110101000101110001101001010\n",
    "01010101010100101110001101001010\n",
    "\n",
    "01100111111110000001011011000111\n",
    "00001000001101111100110000000111\n",
    "\n",
    "01010000100111111001100000100100\n",
    "00010001000000000010100000000100\n",
    "</code></pre>\n",
    "\n",
    "<p>Here, you can see that the lowest (here, rightmost) 16 bits of the third value match: <code>1110001101001010</code>. Because of this one match, after processing these five pairs, the judge would have added only <code>1</code> to its total.</p>\n",
    "<p>To get a significant sample, the judge would like to consider <em>40 million</em> pairs. (In the example above, the judge would eventually find a total of <code>588</code> pairs that match in their lowest 16 bits.)</p>\n",
    "<p>After 40 million pairs, <em>what is the judge's final count</em>?</p>\n",
    "</article>\n"
   ]
  },
  {
   "cell_type": "code",
   "execution_count": 2,
   "metadata": {},
   "outputs": [
    {
     "name": "stdout",
     "output_type": "stream",
     "text": [
      "Example: 588 should be 588\n"
     ]
    }
   ],
   "source": [
    "from typing import Callable\n",
    "\n",
    "\n",
    "def gen(factor: int) -> Callable[[int], int]:\n",
    "    def generator(value: int) -> int:\n",
    "        return factor * value % 2147483647\n",
    "\n",
    "    return generator\n",
    "\n",
    "\n",
    "def judge(a: int, b: int, n=40_000_000) -> int:\n",
    "    l = 2**16 - 1\n",
    "    gen_a, gen_b = gen(16807), gen(48271)\n",
    "    count = 0\n",
    "    for _ in range(n):\n",
    "        a = gen_a(a)\n",
    "        b = gen_b(b)\n",
    "        if (a ^ b) & l == 0:\n",
    "            count += 1\n",
    "\n",
    "    return count\n",
    "\n",
    "\n",
    "print(f\"Example: {judge(65, 8921)} should be 588\")"
   ]
  },
  {
   "cell_type": "code",
   "execution_count": 3,
   "metadata": {},
   "outputs": [
    {
     "name": "stdout",
     "output_type": "stream",
     "text": [
      "Part I: 631\n"
     ]
    }
   ],
   "source": [
    "# Generator A starts with 873\n",
    "# Generator B starts with 583\n",
    "print(f\"Part I: {judge(873, 583)}\")"
   ]
  },
  {
   "cell_type": "markdown",
   "metadata": {},
   "source": [
    "<link href=\"style.css\" rel=\"stylesheet\"></link>\n",
    "<main>\n",
    "\n",
    "<p>Your puzzle answer was <code>631</code>.</p><p class=\"day-success\">The first half of this puzzle is complete! It provides one gold star: *</p>\n",
    "<article class=\"day-desc\"><h2 id=\"part2\">--- Part Two ---</h2><p>In the interest of trying to align a little better, the generators get more picky about the numbers they actually give to the judge.</p>\n",
    "<p>They still generate values in the same way, but now they only hand a value to the judge when it meets their <em>criteria</em>:</p>\n",
    "<ul>\n",
    "<li>Generator A looks for values that are multiples of <code><em>4</em></code>.</li>\n",
    "<li>Generator B looks for values that are multiples of <code><em>8</em></code>.</li>\n",
    "</ul>\n",
    "<p>Each generator functions completely <em>independently</em>: they both go through values entirely on their own, only occasionally handing an acceptable value to the judge, and otherwise working through the same sequence of values as before until they find one.</p>\n",
    "<p>The judge still waits for each generator to provide it with a value before comparing them (using the same comparison method as before). It keeps track of the order it receives values; the first values from each generator are compared, then the second values from each generator, then the third values, and so on.</p>\n",
    "<p>Using the example starting values given above, the generators now produce the following first five values each:</p>\n",
    "<pre><code>--Gen. A--  --Gen. B--\n",
    "1352636452  1233683848\n",
    "1992081072   862516352\n",
    " 530830436  1159784568\n",
    "1980017072  1616057672\n",
    " 740335192   412269392\n",
    "</code></pre>\n",
    "<p>These values have the following corresponding binary values:</p>\n",
    "<pre><code>01010000100111111001100000100100\n",
    "01001001100010001000010110001000\n",
    "\n",
    "01110110101111001011111010110000\n",
    "00110011011010001111010010000000\n",
    "\n",
    "00011111101000111101010001100100\n",
    "01000101001000001110100001111000\n",
    "\n",
    "01110110000001001010100110110000\n",
    "01100000010100110001010101001000\n",
    "\n",
    "00101100001000001001111001011000\n",
    "00011000100100101011101101010000\n",
    "</code></pre>\n",
    "\n",
    "<p>Unfortunately, even though this change makes more bits similar on average, none of these values' lowest 16 bits match. Now, it's not until the 1056th pair that the judge finds the first match:</p>\n",
    "<pre><code>--Gen. A--  --Gen. B--\n",
    "1023762912   896885216\n",
    "\n",
    "00111101000001010110000111100000\n",
    "00110101011101010110000111100000\n",
    "</code></pre>\n",
    "\n",
    "<p>This change makes the generators much slower, and the judge is getting impatient; it is now only willing to consider <em>5 million</em> pairs. (Using the values from the example above, after five million pairs, the judge would eventually find a total of <code>309</code> pairs that match in their lowest 16 bits.)</p>\n",
    "<p>After 5 million pairs, but using this new generator logic, <em>what is the judge's final count</em>?</p>\n",
    "</article>\n",
    "\n",
    "</main>\n"
   ]
  },
  {
   "cell_type": "code",
   "execution_count": 4,
   "metadata": {},
   "outputs": [
    {
     "name": "stdout",
     "output_type": "stream",
     "text": [
      "Example: 309 should be 309\n"
     ]
    }
   ],
   "source": [
    "from more_itertools import consume\n",
    "\n",
    "\n",
    "def gen_II(factor: int, multiple: int) -> Callable[[int], int]:\n",
    "    def generator(value: int) -> int:\n",
    "        while True:\n",
    "            value = factor * value % 2147483647\n",
    "            if value % multiple == 0:\n",
    "                return value\n",
    "\n",
    "    return generator\n",
    "\n",
    "\n",
    "def judge_II(a: int, b: int, n=5_000_000) -> int:\n",
    "    l = 2**16 - 1\n",
    "    gen_a, gen_b = gen_II(16807, 4), gen_II(48271, 8)\n",
    "    count = 0\n",
    "    for _ in range(n):\n",
    "        a = gen_a(a)\n",
    "        b = gen_b(b)\n",
    "        if (a ^ b) & l == 0:\n",
    "            count += 1\n",
    "    return count\n",
    "\n",
    "\n",
    "print(f\"Example: {judge_II(65, 8921)} should be 309\")"
   ]
  },
  {
   "cell_type": "code",
   "execution_count": 5,
   "metadata": {},
   "outputs": [
    {
     "name": "stdout",
     "output_type": "stream",
     "text": [
      "Part II: 279\n"
     ]
    }
   ],
   "source": [
    "print(f\"Part II: {judge_II(873, 583)}\")"
   ]
  },
  {
   "cell_type": "markdown",
   "metadata": {},
   "source": [
    "<link href=\"style.css\" rel=\"stylesheet\"></link>\n",
    "<main>\n",
    "\n",
    "<p>Your puzzle answer was <code>279</code>.</p><p class=\"day-success\">Both parts of this puzzle are complete! They provide two gold stars: **</p>\n",
    "\n",
    "</main>\n"
   ]
  },
  {
   "cell_type": "markdown",
   "metadata": {},
   "source": [
    "<link href=\"style.css\" rel=\"stylesheet\"></link>\n"
   ]
  }
 ],
 "metadata": {
  "kernelspec": {
   "display_name": ".venv",
   "language": "python",
   "name": "python3"
  },
  "language_info": {
   "codemirror_mode": {
    "name": "ipython",
    "version": 3
   },
   "file_extension": ".py",
   "mimetype": "text/x-python",
   "name": "python",
   "nbconvert_exporter": "python",
   "pygments_lexer": "ipython3",
   "version": "3.12.0"
  }
 },
 "nbformat": 4,
 "nbformat_minor": 2
}
