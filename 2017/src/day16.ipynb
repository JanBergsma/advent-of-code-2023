{
 "cells": [
  {
   "cell_type": "code",
   "execution_count": 36,
   "metadata": {},
   "outputs": [],
   "source": [
    "# %matplotlib widget\n",
    "\n",
    "from __future__ import annotations\n",
    "\n",
    "import re\n",
    "from collections import defaultdict\n",
    "from dataclasses import dataclass, field\n",
    "from itertools import permutations, product\n",
    "from math import inf\n",
    "from random import choice\n",
    "\n",
    "import matplotlib.colors as mcolors\n",
    "import matplotlib.pyplot as plt\n",
    "import networkx as nx\n",
    "import numpy as np\n",
    "import numpy.typing as npt\n",
    "from mpl_toolkits.mplot3d import axes3d\n",
    "from numpy import int_, object_\n",
    "from numpy.typing import NDArray\n",
    "from test_utilities import run_tests_params\n",
    "from util import print_hex\n",
    "\n",
    "COLORS = list(mcolors.CSS4_COLORS.keys())"
   ]
  },
  {
   "cell_type": "markdown",
   "metadata": {},
   "source": [
    "<link href=\"style.css\" rel=\"stylesheet\"></link>\n",
    "<article class=\"day-desc read-aloud\"><h2>--- Day 16: Permutation Promenade ---</h2><p>You come upon a very unusual sight; a group of programs here appear to be <a href=\"https://www.youtube.com/watch?v=lyZQPjUT5B4&amp;t=53\">dancing</a>.</p>\n",
    "<p>There are sixteen programs in total, named <code>a</code> through <code>p</code>. They start by standing in a <span title=\"This is called a 'newline'.\">line</span>: <code>a</code> stands in position <code>0</code>, <code>b</code> stands in position <code>1</code>, and so on until <code>p</code>, which stands in position <code>15</code>.</p>\n",
    "<p>The programs' <em>dance</em> consists of a sequence of <em>dance moves</em>:</p>\n",
    "<ul>\n",
    "<li><em>Spin</em>, written <code>sX</code>, makes <code>X</code> programs move from the end to the front, but maintain their order otherwise. (For example, <code>s3</code> on <code>abcde</code> produces <code>cdeab</code>).</li>\n",
    "<li><em>Exchange</em>, written <code>xA/B</code>, makes the programs at positions <code>A</code> and <code>B</code> swap places.</li>\n",
    "<li><em>Partner</em>, written <code>pA/B</code>, makes the programs named <code>A</code> and <code>B</code> swap places.</li>\n",
    "</ul>\n",
    "<p>For example, with only five programs standing in a line (<code>abcde</code>), they could do the following dance:</p>\n",
    "<ul>\n",
    "<li><code>s1</code>, a spin of size <code>1</code>: <code>eabcd</code>.</li>\n",
    "<li><code>x3/4</code>, swapping the last two programs: <code>eabdc</code>.</li>\n",
    "<li><code>pe/b</code>, swapping programs <code>e</code> and <code>b</code>: <code>baedc</code>.</li>\n",
    "</ul>\n",
    "<p>After finishing their dance, the programs end up in order <code>baedc</code>.</p><p>\n",
    "</p><p>You watch the dance for a while and record their dance moves (your puzzle input). <em>In what order are the programs standing</em> after their dance?</p>\n",
    "</article>\n"
   ]
  },
  {
   "cell_type": "markdown",
   "metadata": {},
   "source": [
    "<link href=\"style.css\" rel=\"stylesheet\"></link>\n"
   ]
  },
  {
   "cell_type": "code",
   "execution_count": 37,
   "metadata": {},
   "outputs": [
    {
     "name": "stdout",
     "output_type": "stream",
     "text": [
      "Example: baedc, should be baedc\n"
     ]
    }
   ],
   "source": [
    "from string import ascii_lowercase\n",
    "\n",
    "\n",
    "example = \"s1,x3/4,pe/b\"\n",
    "\n",
    "\n",
    "def one_step_dance(pos, ops, n):\n",
    "    for op in ops:\n",
    "        if op.startswith(\"s\"):\n",
    "            d = -int(op[1:]) % n\n",
    "            pos = pos[d:] + pos[:d]\n",
    "        elif op.startswith(\"x\"):\n",
    "            fr, to = map(int, op[1:].split(\"/\"))\n",
    "            pos[fr], pos[to] = pos[to], pos[fr]\n",
    "        else:\n",
    "            fr, to = map(pos.index, op[1:].split(\"/\"))\n",
    "            pos[fr], pos[to] = pos[to], pos[fr]\n",
    "    return pos\n",
    "\n",
    "\n",
    "def dancing(n: int, s: str) -> str:\n",
    "    ops = s.split(\",\")\n",
    "    pos = list(ascii_lowercase[:n])\n",
    "    pos = one_step_dance(pos, ops, n)\n",
    "    return \"\".join(pos)\n",
    "\n",
    "\n",
    "print(f\"Example: {dancing(5, example)}, should be baedc\")"
   ]
  },
  {
   "cell_type": "code",
   "execution_count": 38,
   "metadata": {},
   "outputs": [
    {
     "name": "stdout",
     "output_type": "stream",
     "text": [
      "Part I: glnacbhedpfjkiom\n"
     ]
    }
   ],
   "source": [
    "with open(\"../input/day16.txt\") as f:\n",
    "    puzzle = f.read()\n",
    "\n",
    "print(f\"Part I: {dancing(16, puzzle)}\")"
   ]
  },
  {
   "cell_type": "markdown",
   "metadata": {},
   "source": [
    "<link href=\"style.css\" rel=\"stylesheet\"></link>\n",
    "<main>\n",
    "\n",
    "<p>Your puzzle answer was <code>glnacbhedpfjkiom</code>.</p><p class=\"day-success\">The first half of this puzzle is complete! It provides one gold star: *</p>\n",
    "<article class=\"day-desc\"><h2 id=\"part2\">--- Part Two ---</h2><p>Now that you're starting to get a feel for the dance moves, you turn your attention to <em>the dance as a whole</em>.</p>\n",
    "<p>Keeping the positions they ended up in from their previous dance, the programs perform it again and again: including the first dance, a total of <em>one billion</em> (<code>1000000000</code>) times.</p>\n",
    "<p>In the example above, their second dance would <em>begin</em> with the order <code>baedc</code>, and use the same dance moves:</p>\n",
    "<ul>\n",
    "<li><code>s1</code>, a spin of size <code>1</code>: <code>cbaed</code>.</li>\n",
    "<li><code>x3/4</code>, swapping the last two programs: <code>cbade</code>.</li>\n",
    "<li><code>pe/b</code>, swapping programs <code>e</code> and <code>b</code>: <code>ceadb</code>.</li>\n",
    "</ul>\n",
    "<p><em>In what order are the programs standing</em> after their billion dances?</p>\n",
    "</article>\n",
    "\n",
    "</main>\n"
   ]
  },
  {
   "cell_type": "code",
   "execution_count": 43,
   "metadata": {},
   "outputs": [
    {
     "name": "stdout",
     "output_type": "stream",
     "text": [
      "Example: abcde, should be ceadb\n",
      "Example: abcde, should be abcde\n"
     ]
    }
   ],
   "source": [
    "def detect_cycles(pos: list[str], ops: list[str], repeat: int) -> tuple[int, int]:\n",
    "    cycles = {\"\".join(pos): 0}\n",
    "    n, step = len(pos), 0\n",
    "    for _ in range(repeat):\n",
    "        step += 1\n",
    "        pos = one_step_dance(pos, ops, n)\n",
    "        s = \"\".join(pos)\n",
    "        if s in cycles:\n",
    "            return cycles[s], step\n",
    "        cycles[s] = step\n",
    "    return 0, -1\n",
    "\n",
    "\n",
    "def dancing_cycles(pos: list[str], ops: list[str], repeat: int) -> str:\n",
    "    n = len(pos)\n",
    "    for _ in range(repeat):\n",
    "        pos = one_step_dance(pos, ops, n)\n",
    "    return pos\n",
    "\n",
    "\n",
    "def dancing_II(n: int, s: str, repeat=1) -> str:\n",
    "    ops = s.split(\",\")\n",
    "    fr, to = detect_cycles(list(ascii_lowercase[:n]), ops, repeat)\n",
    "    pos = dancing_cycles(list(ascii_lowercase[:n]), ops, fr)\n",
    "    return \"\".join(dancing_cycles(pos, ops, (repeat - fr) % (to - fr)))\n",
    "\n",
    "\n",
    "print(f\"Example: {dancing_II(5, example, 2)}, should be ceadb\")\n",
    "print(f\"Example: {dancing_II(5, example, 1_000_000_000)}, should be abcde\")"
   ]
  },
  {
   "cell_type": "code",
   "execution_count": 44,
   "metadata": {},
   "outputs": [
    {
     "name": "stdout",
     "output_type": "stream",
     "text": [
      "Part II: fmpanloehgkdcbji\n"
     ]
    }
   ],
   "source": [
    "print(f\"Part II: {dancing_II(16, puzzle, 1_000_000_000)}\")"
   ]
  },
  {
   "cell_type": "markdown",
   "metadata": {},
   "source": [
    "<link href=\"style.css\" rel=\"stylesheet\"></link>\n",
    "<main>\n",
    "\n",
    "<p>Your puzzle answer was <code>fmpanloehgkdcbji</code>.</p><p class=\"day-success\">Both parts of this puzzle are complete! They provide two gold stars: **</p>\n",
    "\n",
    "</main>\n"
   ]
  }
 ],
 "metadata": {
  "kernelspec": {
   "display_name": ".venv",
   "language": "python",
   "name": "python3"
  },
  "language_info": {
   "codemirror_mode": {
    "name": "ipython",
    "version": 3
   },
   "file_extension": ".py",
   "mimetype": "text/x-python",
   "name": "python",
   "nbconvert_exporter": "python",
   "pygments_lexer": "ipython3",
   "version": "3.12.0"
  }
 },
 "nbformat": 4,
 "nbformat_minor": 2
}
