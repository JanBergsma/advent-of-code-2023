{
 "cells": [
  {
   "cell_type": "code",
   "execution_count": 10,
   "metadata": {},
   "outputs": [],
   "source": [
    "# %matplotlib widget\n",
    "\n",
    "from __future__ import annotations\n",
    "\n",
    "import re\n",
    "from collections import defaultdict\n",
    "from dataclasses import dataclass, field\n",
    "from itertools import permutations, product\n",
    "from math import inf\n",
    "from random import choice\n",
    "\n",
    "import matplotlib.colors as mcolors\n",
    "import matplotlib.pyplot as plt\n",
    "import networkx as nx\n",
    "import numpy as np\n",
    "import numpy.typing as npt\n",
    "from mpl_toolkits.mplot3d import axes3d\n",
    "from numpy import int_, object_\n",
    "from numpy.typing import NDArray\n",
    "from test_utilities import run_tests_params\n",
    "from util import print_hex\n",
    "\n",
    "COLORS = list(mcolors.CSS4_COLORS.keys())"
   ]
  },
  {
   "cell_type": "markdown",
   "metadata": {},
   "source": [
    "<link href=\"style.css\" rel=\"stylesheet\"></link>\n",
    "<article class=\"day-desc read-aloud\"><h2>--- Day 11: Hex Ed ---</h2><p>Crossing the bridge, you've barely reached the other side of the stream when a program comes up to you, clearly in distress.  \"It's my child process,\" she says, \"he's gotten lost in an infinite grid!\"</p>\n",
    "<p>Fortunately for her, you have plenty of experience with infinite grids.</p>\n",
    "<p>Unfortunately for you, it's a <a href=\"https://en.wikipedia.org/wiki/Hexagonal_tiling\">hex grid</a>.</p>\n",
    "<p>The hexagons (\"hexes\") in <span title=\"Raindrops on roses and whiskers on kittens.\">this grid</span> are aligned such that adjacent hexes can be found to the north, northeast, southeast, south, southwest, and northwest:</p>\n",
    "<pre><code>  \\ n  /\n",
    "nw +--+ ne\n",
    "  /    \\\n",
    "-+      +-\n",
    "  \\    /\n",
    "sw +--+ se\n",
    "  / s  \\\n",
    "</code></pre>\n",
    "<p>You have the path the child process took. Starting where he started, you need to determine the fewest number of steps required to reach him. (A \"step\" means to move from the hex you are in to any adjacent hex.)</p>\n",
    "<p>For example:</p>\n",
    "<ul>\n",
    "<li><code>ne,ne,ne</code> is <code>3</code> steps away.</li>\n",
    "<li><code>ne,ne,sw,sw</code> is <code>0</code> steps away (back where you started).</li>\n",
    "<li><code>ne,ne,s,s</code> is <code>2</code> steps away (<code>se,se</code>).</li>\n",
    "<li><code>se,sw,se,sw,sw</code> is <code>3</code> steps away (<code>s,s,sw</code>).</li>\n",
    "</ul>\n",
    "</article>\n"
   ]
  },
  {
   "cell_type": "code",
   "execution_count": 11,
   "metadata": {},
   "outputs": [
    {
     "name": "stdout",
     "output_type": "stream",
     "text": [
      "\n",
      "\u001b[32mTest Example 1 passed, for <lambda>.\u001b[0m\n",
      "\u001b[32mTest Example 2 passed, for <lambda>.\u001b[0m\n",
      "\u001b[32mTest Example 3 passed, for <lambda>.\u001b[0m\n",
      "\u001b[32mTest Example 4 passed, for <lambda>.\u001b[0m\n",
      "\u001b[32mTest Example 5 passed, for <lambda>.\u001b[0m\n",
      "\u001b[32mTest Example 5 passed, for <lambda>.\u001b[0m\n",
      "\u001b[32mTest Example 5 passed, for <lambda>.\u001b[0m\n",
      "\u001b[32mSuccess\u001b[0m\n"
     ]
    }
   ],
   "source": [
    "from functools import cache\n",
    "from math import ceil\n",
    "\n",
    "from more_itertools import first\n",
    "\n",
    "\n",
    "tests_partI = [\n",
    "    {\n",
    "        \"name\": \"Example 1\",\n",
    "        \"directions\": \"ne,ne,ne\",\n",
    "        \"expected\": 3,\n",
    "    },\n",
    "    {\n",
    "        \"name\": \"Example 2\",\n",
    "        \"directions\": \"ne,ne,sw,sw\",\n",
    "        \"expected\": 0,\n",
    "    },\n",
    "    {\n",
    "        \"name\": \"Example 3\",\n",
    "        \"directions\": \"ne,ne,s,s\",\n",
    "        \"expected\": 2,\n",
    "    },\n",
    "    {\n",
    "        \"name\": \"Example 4\",\n",
    "        \"directions\": \"se,sw,se,sw,sw\",\n",
    "        \"expected\": 3,\n",
    "    },\n",
    "    {\n",
    "        \"name\": \"Example 5\",\n",
    "        \"directions\": \"ne,nw,ne,nw\",\n",
    "        \"expected\": 2,\n",
    "    },\n",
    "    {\n",
    "        \"name\": \"Example 5\",\n",
    "        \"directions\": \"ne,se,ne,se\",\n",
    "        \"expected\": 4,\n",
    "    },\n",
    "    {\n",
    "        \"name\": \"Example 5\",\n",
    "        \"directions\": \"nw,sw,nw\",\n",
    "        \"expected\": 3,\n",
    "    },\n",
    "]\n",
    "\n",
    "\n",
    "#   \\    /    \\    /    \\    /    \\    /    \\    /    \\    /    \\    /\n",
    "#    +--+      +--+      +--+      +--+      +--+      +--+      +--+\n",
    "#   /    \\    /    \\    /    \\    /    \\    /    \\    /    \\    /    \\\n",
    "# -+      +--+      +--+      +--+      +--+      +--+      +--+      +-\n",
    "#   \\    /    \\    /    \\    /    \\    /    \\    /    \\    /    \\    /\n",
    "#    +--+      +--+      +--+      +--+      +--+      +--+      +--+\n",
    "#   /    \\    /    \\    /    \\    /    \\    /    \\    /    \\    /    \\\n",
    "# -+      +--+      +--+      +--+ 0, 0 +--+      +--+      +--+      +-\n",
    "#   \\    /    \\    /    \\    /    \\    /    \\    /    \\    /    \\    /\n",
    "#    +--+      +--+      +--+      +--+      +--+      +--+      +--+\n",
    "#   /    \\    /    \\    /    \\    /    \\    /    \\    /    \\    /    \\\n",
    "# -+      +--+      +--+      +--+      +--+      +--+      +--+      +-\n",
    "#   \\    /    \\    /    \\    /    \\    /    \\    /    \\    /    \\    /\n",
    "#    +--+      +--+      +--+      +--+      +--+      +--+      +--+\n",
    "#   /    \\    /    \\    /    \\    /    \\    /    \\    /    \\    /    \\\n",
    "# -+      +--+      +--+      +--+      +--+      +--+      +--+      +-\n",
    "#   \\    /    \\    /    \\    /    \\    /    \\    /    \\    /    \\    /\n",
    "#    +--+      +--+      +--+      +--+      +--+      +--+      +--+\n",
    "#   /    \\    /    \\    /    \\    /    \\    /    \\    /    \\    /    \\\n",
    "# -+      +--+      +--+      +--+      +--+      +--+      +--+      +-\n",
    "#   \\ n  /    \\ n  /    \\ n  /    \\ n  /    \\ n  /    \\ n  /    \\ n  /\n",
    "# nw +--+ nenw +--+ nenw +--+ nenw +--+ nenw +--+ nenw +--+ nenw +--+ ne\n",
    "#   /    \\    /    \\    /    \\    /    \\    /    \\    /    \\    /    \\\n",
    "# -+      +--+      +--+      +--+      +--+      +--+      +--+      +-\n",
    "#   \\    /    \\    /    \\    /    \\    /    \\    /    \\    /    \\    /\n",
    "# sw +--+ sesw +--+ sesw +--+ sesw +--+ sesw +--+ sesw +--+ sesw +--+ se\n",
    "#   / s  \\    / s  \\    / s  \\    / s  \\    / s  \\    / s  \\    / s  \\\n",
    "# -+      +--+      +--+      +--+      +--+      +--+      +--+      +-\n",
    "#   \\    /    \\    /    \\    /    \\    /    \\    /    \\    /    \\    /\n",
    "#    +--+      +--+      +--+      +--+      +--+      +--+      +--+\n",
    "def fewest_number_of_steps(directions: str) -> int:\n",
    "    moves = {\n",
    "        \"n\": (-1, 0),\n",
    "        \"ne\": (-1 / 2, 1),\n",
    "        \"se\": (1 / 2, 1),\n",
    "        \"s\": (1, 0),\n",
    "        \"sw\": (1 / 2, -1),\n",
    "        \"nw\": (-1 / 2, -1),\n",
    "    }\n",
    "    max_steps = 0\n",
    "    r, q = 0, 0\n",
    "    for m in directions.split(\",\"):\n",
    "        dr, dq = moves[m]\n",
    "        r += dr\n",
    "        q += dq\n",
    "        max_steps = max(max_steps, calc_steps(r, q))\n",
    "\n",
    "    return calc_steps(r, q), max_steps\n",
    "\n",
    "\n",
    "@cache\n",
    "def calc_steps(r, q):\n",
    "    r, q = abs(r), abs(q)\n",
    "\n",
    "    steps = 0\n",
    "    while r > 0 and q > 0:\n",
    "        r -= 1 / 2\n",
    "        q -= 1\n",
    "        steps += 1\n",
    "\n",
    "    return ceil(steps + r + q)\n",
    "\n",
    "\n",
    "run_tests_params(\n",
    "    lambda directions: first(fewest_number_of_steps(directions)), tests_partI\n",
    ")"
   ]
  },
  {
   "cell_type": "code",
   "execution_count": 12,
   "metadata": {},
   "outputs": [
    {
     "name": "stdout",
     "output_type": "stream",
     "text": [
      "part I: 808\n"
     ]
    }
   ],
   "source": [
    "with open(\"../input/day11.txt\") as f:\n",
    "    puzzle = f.read().strip()\n",
    "\n",
    "partI, partII = fewest_number_of_steps(puzzle)\n",
    "\n",
    "print(f\"part I: {partI}\")"
   ]
  },
  {
   "cell_type": "markdown",
   "metadata": {},
   "source": [
    "<link href=\"style.css\" rel=\"stylesheet\"></link>\n",
    "<main>\n",
    "\n",
    "<p>Your puzzle answer was <code>808</code>.</p><p class=\"day-success\">The first half of this puzzle is complete! It provides one gold star: *</p>\n",
    "<article class=\"day-desc\"><h2 id=\"part2\">--- Part Two ---</h2><p><em>How many steps away</em> is the <em>furthest</em> he ever got from his starting position?</p>\n",
    "</article>\n",
    "\n",
    "</main>\n"
   ]
  },
  {
   "cell_type": "code",
   "execution_count": 13,
   "metadata": {},
   "outputs": [
    {
     "name": "stdout",
     "output_type": "stream",
     "text": [
      "part II: 1556\n"
     ]
    }
   ],
   "source": [
    "print(f\"part II: {partII}\")"
   ]
  },
  {
   "cell_type": "markdown",
   "metadata": {},
   "source": [
    "<link href=\"style.css\" rel=\"stylesheet\"></link>\n",
    "<main>\n",
    "\n",
    "<p>Your puzzle answer was <code>1556</code>.</p><p class=\"day-success\">Both parts of this puzzle are complete! They provide two gold stars: **</p>\n",
    "\n",
    "</main>\n"
   ]
  },
  {
   "cell_type": "markdown",
   "metadata": {},
   "source": [
    "<link href=\"style.css\" rel=\"stylesheet\"></link>\n"
   ]
  },
  {
   "cell_type": "markdown",
   "metadata": {},
   "source": [
    "<link href=\"style.css\" rel=\"stylesheet\"></link>\n"
   ]
  },
  {
   "cell_type": "markdown",
   "metadata": {},
   "source": []
  }
 ],
 "metadata": {
  "kernelspec": {
   "display_name": ".venv",
   "language": "python",
   "name": "python3"
  },
  "language_info": {
   "codemirror_mode": {
    "name": "ipython",
    "version": 3
   },
   "file_extension": ".py",
   "mimetype": "text/x-python",
   "name": "python",
   "nbconvert_exporter": "python",
   "pygments_lexer": "ipython3",
   "version": "3.12.0"
  }
 },
 "nbformat": 4,
 "nbformat_minor": 2
}
