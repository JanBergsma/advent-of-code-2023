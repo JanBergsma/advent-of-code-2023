{
 "cells": [
  {
   "cell_type": "code",
   "execution_count": 48,
   "metadata": {},
   "outputs": [],
   "source": [
    "# %matplotlib widget\n",
    "\n",
    "from __future__ import annotations\n",
    "\n",
    "import re\n",
    "from collections import defaultdict\n",
    "from dataclasses import dataclass, field\n",
    "from itertools import permutations, product\n",
    "from math import inf\n",
    "from random import choice\n",
    "\n",
    "import matplotlib.colors as mcolors\n",
    "import matplotlib.pyplot as plt\n",
    "import networkx as nx\n",
    "import numpy as np\n",
    "import numpy.typing as npt\n",
    "from mpl_toolkits.mplot3d import axes3d\n",
    "from numpy import int_, object_\n",
    "from numpy.typing import NDArray\n",
    "from test_utilities import run_tests_params\n",
    "from util import print_hex\n",
    "\n",
    "COLORS = list(mcolors.CSS4_COLORS.keys())"
   ]
  },
  {
   "cell_type": "markdown",
   "metadata": {},
   "source": [
    "<link href=\"style.css\" rel=\"stylesheet\"></link>\n",
    "<article class=\"day-desc read-aloud\"><h2>--- Day 19: A Series of Tubes ---</h2><p>Somehow, a network packet got <span title=\"I know how fast it's going, but I don't know where it is.\">lost</span> and ended up here.  It's trying to follow a routing diagram (your puzzle input), but it's confused about where to go.</p>\n",
    "<p>Its starting point is just off the top of the diagram. Lines (drawn with <code>|</code>, <code>-</code>, and <code>+</code>) show the path it needs to take, starting by going down onto the only line connected to the top of the diagram. It needs to follow this path until it reaches the end (located somewhere within the diagram) and stop there.</p>\n",
    "<p>Sometimes, the lines cross over each other; in these cases, it needs to continue going the same direction, and only turn left or right when there's no other option.  In addition, someone has left <em>letters</em> on the line; these also don't change its direction, but it can use them to keep track of where it's been. For example:</p>\n",
    "<pre><code>     |          \n",
    "     |  +--+    \n",
    "     A  |  C    \n",
    " F---|----E|--+ \n",
    "     |  |  |  D \n",
    "     +B-+  +--+\n",
    "\n",
    "</code></pre>\n",
    "\n",
    "<p>Given this diagram, the packet needs to take the following path:</p>\n",
    "<ul>\n",
    "<li>Starting at the only line touching the top of the diagram, it must go down, pass through <code>A</code>, and continue onward to the first <code>+</code>.</li>\n",
    "<li>Travel right, up, and right, passing through <code>B</code> in the process.</li>\n",
    "<li>Continue down (collecting <code>C</code>), right, and up (collecting <code>D</code>).</li>\n",
    "<li>Finally, go all the way left through <code>E</code> and stopping at <code>F</code>.</li>\n",
    "</ul>\n",
    "<p>Following the path to the end, the letters it sees on its path are <code>ABCDEF</code>.</p>\n",
    "<p>The little packet looks up at you, hoping you can help it find the way.  <em>What letters will it see</em> (in the order it would see them) if it follows the path? (The routing diagram is very wide; make sure you view it without line wrapping.)</p>\n",
    "</article>\n"
   ]
  },
  {
   "cell_type": "code",
   "execution_count": 49,
   "metadata": {},
   "outputs": [
    {
     "name": "stdout",
     "output_type": "stream",
     "text": [
      "Example; ABCDEF should be 'ABCDEF'\n"
     ]
    }
   ],
   "source": [
    "from more_itertools import first\n",
    "from tabulate import tabulate\n",
    "\n",
    "\n",
    "example = \"\"\"\n",
    "     |          \n",
    "     |  +--+    \n",
    "     A  |  C    \n",
    " F---|----E|--+\n",
    "     |  |  |  D \n",
    "     +B-+  +--+ \n",
    "\"\"\"\n",
    "\n",
    "\n",
    "def walk(diagram: str) -> str:\n",
    "    diagram = diagram.splitlines()\n",
    "    if not diagram[0]:\n",
    "        diagram = diagram[1:]\n",
    "\n",
    "    rows, cols = len(diagram), len(diagram[0])\n",
    "    r, c = 0, diagram[0].index(\"|\")\n",
    "    dr, dc = 1, 0\n",
    "    path = []\n",
    "    steps = 0\n",
    "    while True:\n",
    "        steps += 1\n",
    "        if (\n",
    "            0 <= r + dr < rows\n",
    "            and 0 <= c + dc < cols\n",
    "            and diagram[r][c] in \"|-\"\n",
    "            or diagram[r][c].isalpha()\n",
    "        ):\n",
    "            if diagram[r][c].isalpha():\n",
    "                path.append(diagram[r][c])\n",
    "            if diagram[r + dr][c + dc] in \"|-+\" or diagram[r + dr][c + dc].isalpha():\n",
    "                r, c = r + dr, c + dc\n",
    "            else:\n",
    "                return \"\".join(path), steps\n",
    "        else:  # diagram[r][c] == \"+\":\n",
    "            dr, dc = dc, dr\n",
    "            if not (\n",
    "                0 <= r + dr < rows\n",
    "                and 0 <= c + dc < cols\n",
    "                and (\n",
    "                    diagram[r + dr][c + dc] in \"|-+\"\n",
    "                    or diagram[r + dr][c + dc].isalpha()\n",
    "                )\n",
    "            ):\n",
    "                dr, dc = -dr, -dc\n",
    "            r, c = r + dr, c + dc\n",
    "\n",
    "\n",
    "print(f\"Example; {first(walk(example))} should be 'ABCDEF'\")"
   ]
  },
  {
   "cell_type": "code",
   "execution_count": 50,
   "metadata": {},
   "outputs": [
    {
     "name": "stdout",
     "output_type": "stream",
     "text": [
      "Part I; GPALMJSOY\n"
     ]
    }
   ],
   "source": [
    "with open(\"../input/day19.txt\") as f:\n",
    "    puzzle = f.read()\n",
    "\n",
    "\n",
    "print(f\"Part I; {first(walk(puzzle))}\")"
   ]
  },
  {
   "cell_type": "markdown",
   "metadata": {},
   "source": [
    "<link href=\"style.css\" rel=\"stylesheet\"></link>\n",
    "<main>\n",
    "\n",
    "<p>Your puzzle answer was <code>GPALMJSOY</code>.</p><p class=\"day-success\">The first half of this puzzle is complete! It provides one gold star: *</p>\n",
    "<article class=\"day-desc\"><h2 id=\"part2\">--- Part Two ---</h2><p>The packet is curious how many steps it needs to go.</p>\n",
    "<p>For example, using the same routing diagram from the example above...</p>\n",
    "<pre><code>     |          \n",
    "     |  +--+    \n",
    "     A  |  C    \n",
    " F---|--|-E---+ \n",
    "     |  |  |  D \n",
    "     +B-+  +--+\n",
    "\n",
    "</code></pre>\n",
    "\n",
    "<p>...the packet would go:</p>\n",
    "<ul>\n",
    "<li><code>6</code> steps down (including the first line at the top of the diagram).</li>\n",
    "<li><code>3</code> steps right.</li>\n",
    "<li><code>4</code> steps up.</li>\n",
    "<li><code>3</code> steps right.</li>\n",
    "<li><code>4</code> steps down.</li>\n",
    "<li><code>3</code> steps right.</li>\n",
    "<li><code>2</code> steps up.</li>\n",
    "<li><code>13</code> steps left (including the <code>F</code> it stops on).</li>\n",
    "</ul>\n",
    "<p>This would result in a total of <code>38</code> steps.</p>\n",
    "<p><em>How many steps</em> does the packet need to go?</p>\n",
    "</article>\n",
    "\n",
    "</main>\n"
   ]
  },
  {
   "cell_type": "code",
   "execution_count": 51,
   "metadata": {},
   "outputs": [
    {
     "name": "stdout",
     "output_type": "stream",
     "text": [
      "Example; 38 should be 38\n",
      "Part II; 16204\n"
     ]
    }
   ],
   "source": [
    "from more_itertools import last\n",
    "\n",
    "\n",
    "print(f\"Example; {last(walk(example))} should be 38\")\n",
    "print(f\"Part II; {last(walk(puzzle))}\")"
   ]
  },
  {
   "cell_type": "markdown",
   "metadata": {},
   "source": [
    "<link href=\"style.css\" rel=\"stylesheet\"></link>\n",
    "<main>\n",
    "\n",
    "<p>Your puzzle answer was <code>16204</code>.</p><p class=\"day-success\">Both parts of this puzzle are complete! They provide two gold stars: **</p>\n",
    "\n",
    "</main>\n"
   ]
  },
  {
   "cell_type": "code",
   "execution_count": null,
   "metadata": {},
   "outputs": [],
   "source": []
  }
 ],
 "metadata": {
  "kernelspec": {
   "display_name": ".venv",
   "language": "python",
   "name": "python3"
  },
  "language_info": {
   "codemirror_mode": {
    "name": "ipython",
    "version": 3
   },
   "file_extension": ".py",
   "mimetype": "text/x-python",
   "name": "python",
   "nbconvert_exporter": "python",
   "pygments_lexer": "ipython3",
   "version": "3.12.0"
  }
 },
 "nbformat": 4,
 "nbformat_minor": 2
}
