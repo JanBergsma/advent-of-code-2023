{
 "cells": [
  {
   "cell_type": "code",
   "execution_count": 20,
   "metadata": {},
   "outputs": [],
   "source": [
    "# %matplotlib widget\n",
    "\n",
    "from __future__ import annotations\n",
    "\n",
    "import re\n",
    "from collections import defaultdict\n",
    "from dataclasses import dataclass, field\n",
    "from itertools import permutations, product\n",
    "from math import inf\n",
    "from random import choice\n",
    "\n",
    "import matplotlib.colors as mcolors\n",
    "import matplotlib.pyplot as plt\n",
    "import networkx as nx\n",
    "import numpy as np\n",
    "import numpy.typing as npt\n",
    "from mpl_toolkits.mplot3d import axes3d\n",
    "from numpy import int_, object_\n",
    "from numpy.typing import NDArray\n",
    "from test_utilities import run_tests_params\n",
    "from util import print_hex\n",
    "\n",
    "COLORS = list(mcolors.CSS4_COLORS.keys())"
   ]
  },
  {
   "cell_type": "markdown",
   "metadata": {},
   "source": [
    "<link href=\"style.css\" rel=\"stylesheet\"></link>\n",
    "<article class=\"day-desc read-aloud\"><h2>--- Day 7: Recursive Circus ---</h2><p>Wandering further through the circuits of the computer, you come upon a tower of <span title=\"Turtles, all the way down.\">programs</span> that have gotten themselves into a bit of trouble.  A recursive algorithm has gotten out of hand, and now they're balanced precariously in a large tower.</p>\n",
    "<p>One program at the bottom supports the entire tower. It's holding a large disc, and on the disc are balanced several more sub-towers. At the bottom of these sub-towers, standing on the bottom disc, are other programs, each holding <em>their</em> own disc, and so on. At the very tops of these sub-sub-sub-...-towers, many programs stand simply keeping the disc below them balanced but with no disc of their own.</p>\n",
    "<p>You offer to help, but first you need to understand the structure of these towers.  You ask each program to yell out their <em>name</em>, their <em>weight</em>, and (if they're holding a disc) the <em>names of the programs immediately above them</em> balancing on that disc. You write this information down (your puzzle input). Unfortunately, in their panic, they don't do this in an orderly fashion; by the time you're done, you're not sure which program gave which information.</p>\n",
    "<p>For example, if your list is the following:</p>\n",
    "<pre><code>pbga (66)\n",
    "xhth (57)\n",
    "ebii (61)\n",
    "havc (66)\n",
    "ktlj (57)\n",
    "fwft (72) -&gt; ktlj, cntj, xhth\n",
    "qoyq (66)\n",
    "padx (45) -&gt; pbga, havc, qoyq\n",
    "tknk (41) -&gt; ugml, padx, fwft\n",
    "jptl (61)\n",
    "ugml (68) -&gt; gyxo, ebii, jptl\n",
    "gyxo (61)\n",
    "cntj (57)\n",
    "</code></pre>\n",
    "<p>...then you would be able to recreate the structure of the towers that looks like this:</p>\n",
    "<pre><code>                gyxo\n",
    "              /     \n",
    "         ugml - ebii\n",
    "       /      \\     \n",
    "      |         jptl\n",
    "      |        \n",
    "      |         pbga\n",
    "     /        /\n",
    "tknk --- padx - havc\n",
    "     \\        \\\n",
    "      |         qoyq\n",
    "      |             \n",
    "      |         ktlj\n",
    "       \\      /     \n",
    "         fwft - cntj\n",
    "              \\     \n",
    "                xhth\n",
    "</code></pre>\n",
    "<p>In this example, <code>tknk</code> is at the bottom of the tower (the <em>bottom program</em>), and is holding up <code>ugml</code>, <code>padx</code>, and <code>fwft</code>.  Those programs are, in turn, holding up other programs; in this example, none of those programs are holding up any other programs, and are all the tops of their own towers. (The actual tower balancing in front of you is much larger.)</p>\n",
    "<p>Before you're ready to help them, you need to make sure your information is correct.  <em>What is the name of the bottom program?</em></p>\n",
    "</article>\n"
   ]
  },
  {
   "cell_type": "code",
   "execution_count": 21,
   "metadata": {},
   "outputs": [],
   "source": [
    "from more_itertools import one\n",
    "\n",
    "\n",
    "example = \"\"\"\n",
    "pbga (66)\n",
    "xhth (57)\n",
    "ebii (61)\n",
    "havc (66)\n",
    "ktlj (57)\n",
    "fwft (72) -> ktlj, cntj, xhth\n",
    "qoyq (66)\n",
    "padx (45) -> pbga, havc, qoyq\n",
    "tknk (41) -> ugml, padx, fwft\n",
    "jptl (61)\n",
    "ugml (68) -> gyxo, ebii, jptl\n",
    "gyxo (61)\n",
    "cntj (57)\n",
    "\n",
    "\"\"\"\n",
    "\n",
    "\n",
    "def get_bottom(sketch: str) -> str:\n",
    "    nodes = set()\n",
    "    not_root = set()\n",
    "    for line in sketch.strip().splitlines():\n",
    "        node, *rest = re.split(r\",*\\s\", line)\n",
    "\n",
    "        if len(rest) > 1:\n",
    "            nodes.add(node)\n",
    "        not_root |= set(rest[2:])\n",
    "\n",
    "    return one(nodes - not_root)\n",
    "\n",
    "\n",
    "assert get_bottom(example) == \"tknk\""
   ]
  },
  {
   "cell_type": "code",
   "execution_count": 22,
   "metadata": {},
   "outputs": [
    {
     "name": "stdout",
     "output_type": "stream",
     "text": [
      "Part I: vvsvez\n"
     ]
    }
   ],
   "source": [
    "with open(\"../input/day7.txt\") as f:\n",
    "    puzzle = f.read()\n",
    "\n",
    "print(f\"Part I: {get_bottom(puzzle)}\")"
   ]
  },
  {
   "cell_type": "markdown",
   "metadata": {},
   "source": [
    "<link href=\"style.css\" rel=\"stylesheet\"></link>\n",
    "<main>\n",
    "\n",
    "<p>Your puzzle answer was <code>vvsvez</code>.</p><p class=\"day-success\">The first half of this puzzle is complete! It provides one gold star: *</p>\n",
    "<article class=\"day-desc\"><h2 id=\"part2\">--- Part Two ---</h2><p>The programs explain the situation: they can't get down.  Rather, they <em>could</em> get down, if they weren't expending all of their energy trying to keep the tower balanced. Apparently, one program has the <em>wrong weight</em>, and until it's fixed, they're stuck here.</p>\n",
    "<p>For any program holding a disc, each program standing on that disc forms a sub-tower. Each of those sub-towers are supposed to be the same weight, or the disc itself isn't balanced. The weight of a tower is the sum of the weights of the programs in that tower.</p>\n",
    "<p>In the example above, this means that for <code>ugml</code>'s disc to be balanced, <code>gyxo</code>, <code>ebii</code>, and <code>jptl</code> must all have the same weight, and they do: <code>61</code>.</p>\n",
    "<p>However, for <code>tknk</code> to be balanced, each of the programs standing on its disc <em>and all programs above it</em> must each match. This means that the following sums must all be the same:</p>\n",
    "<ul>\n",
    "<li><code>ugml</code> + (<code>gyxo</code> + <code>ebii</code> + <code>jptl</code>) = 68 + (61 + 61 + 61) = 251</li>\n",
    "<li><code>padx</code> + (<code>pbga</code> + <code>havc</code> + <code>qoyq</code>) = 45 + (66 + 66 + 66) = 243</li>\n",
    "<li><code>fwft</code> + (<code>ktlj</code> + <code>cntj</code> + <code>xhth</code>) = 72 + (57 + 57 + 57) = 243</li>\n",
    "</ul>\n",
    "<p>As you can see, <code>tknk</code>'s disc is unbalanced: <code>ugml</code>'s stack is heavier than the other two. Even though the nodes above <code>ugml</code> are balanced, <code>ugml</code> itself is too heavy: it needs to be <code>8</code> units lighter for its stack to weigh <code>243</code> and keep the towers balanced.  If this change were made, its weight would be <code>60</code>.</p>\n",
    "<p>Given that exactly one program is the wrong weight, <em>what would its weight need to be</em> to balance the entire tower?</p>\n",
    "</article>\n",
    "\n",
    "</main>\n"
   ]
  },
  {
   "cell_type": "code",
   "execution_count": 23,
   "metadata": {},
   "outputs": [
    {
     "data": {
      "text/plain": [
       "60"
      ]
     },
     "execution_count": 23,
     "metadata": {},
     "output_type": "execute_result"
    }
   ],
   "source": [
    "from collections import Counter\n",
    "from more_itertools import all_equal\n",
    "\n",
    "\n",
    "def balance_tower(sketch: str) -> int:\n",
    "    # Doesn't work if the unbalnced node has a parent that has two childs\n",
    "    def dfs(node: str) -> tuple[int, int]:\n",
    "        children = [dfs(c) for c in graph[node][1]]\n",
    "        values = Counter(wt for _, wt in children)\n",
    "\n",
    "        if len(values) > 1:\n",
    "            nonlocal balancing_weight\n",
    "            desired_weight = one(w for w, c in values.items() if c > 1)\n",
    "            current_weight = one(w for w, c in values.items() if c == 1)\n",
    "            balancing_weight = one(wc for wc, wt in children if wt != desired_weight)\n",
    "            balancing_weight += desired_weight - current_weight\n",
    "            return graph[node][0], desired_weight * len(children) + graph[node][0]\n",
    "\n",
    "        return graph[node][0], sum((ws for _, ws in children), start=graph[node][0])\n",
    "\n",
    "    root = get_bottom(sketch)\n",
    "    graph = create_graph(sketch)\n",
    "    balancing_weight = -1\n",
    "    dfs(root)\n",
    "    return balancing_weight\n",
    "\n",
    "\n",
    "def create_graph(sketch):\n",
    "    graph = {}\n",
    "\n",
    "    for line in sketch.strip().splitlines():\n",
    "        node, *rest = re.split(r\",*\\s\", line)\n",
    "        graph[node] = int(rest[0][1:-1]), rest[2:]\n",
    "    return graph\n",
    "\n",
    "\n",
    "balance_tower(example)"
   ]
  },
  {
   "cell_type": "code",
   "execution_count": 24,
   "metadata": {},
   "outputs": [
    {
     "name": "stdout",
     "output_type": "stream",
     "text": [
      "Part II: 362\n"
     ]
    }
   ],
   "source": [
    "print(f\"Part II: {balance_tower(puzzle)}\")\n",
    "# not 8"
   ]
  },
  {
   "cell_type": "markdown",
   "metadata": {},
   "source": [
    "<link href=\"style.css\" rel=\"stylesheet\"></link>\n",
    "<main>\n",
    "\n",
    "<p>Your puzzle answer was <code>362</code>.</p><p class=\"day-success\">Both parts of this puzzle are complete! They provide two gold stars: **</p>\n",
    "\n",
    "</main>\n"
   ]
  },
  {
   "cell_type": "code",
   "execution_count": null,
   "metadata": {},
   "outputs": [],
   "source": []
  },
  {
   "cell_type": "markdown",
   "metadata": {},
   "source": [
    "<link href=\"style.css\" rel=\"stylesheet\"></link>\n"
   ]
  }
 ],
 "metadata": {
  "kernelspec": {
   "display_name": ".venv",
   "language": "python",
   "name": "python3"
  },
  "language_info": {
   "codemirror_mode": {
    "name": "ipython",
    "version": 3
   },
   "file_extension": ".py",
   "mimetype": "text/x-python",
   "name": "python",
   "nbconvert_exporter": "python",
   "pygments_lexer": "ipython3",
   "version": "3.12.0"
  }
 },
 "nbformat": 4,
 "nbformat_minor": 2
}
