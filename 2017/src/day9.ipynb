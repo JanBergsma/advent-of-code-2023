{
 "cells": [
  {
   "cell_type": "code",
   "execution_count": 1,
   "metadata": {},
   "outputs": [],
   "source": [
    "# %matplotlib widget\n",
    "\n",
    "from __future__ import annotations\n",
    "\n",
    "import re\n",
    "from collections import defaultdict\n",
    "from dataclasses import dataclass, field\n",
    "from itertools import permutations, product\n",
    "from math import inf\n",
    "from random import choice\n",
    "\n",
    "import matplotlib.colors as mcolors\n",
    "import matplotlib.pyplot as plt\n",
    "import networkx as nx\n",
    "import numpy as np\n",
    "import numpy.typing as npt\n",
    "from mpl_toolkits.mplot3d import axes3d\n",
    "from numpy import int_, object_\n",
    "from numpy.typing import NDArray\n",
    "from test_utilities import run_tests_params\n",
    "from util import print_hex\n",
    "\n",
    "COLORS = list(mcolors.CSS4_COLORS.keys())"
   ]
  },
  {
   "cell_type": "markdown",
   "metadata": {},
   "source": [
    "<link href=\"style.css\" rel=\"stylesheet\"></link>\n",
    "\n",
    "<article class=\"day-desc\"><h2>--- Day 9: Stream Processing ---</h2><p>A large stream blocks your path. According to the locals, it's not safe to <span title=\"&quot;Don't cross the streams!&quot;, they yell, even though there's only one. They seem to think they're hilarious.\">cross the stream</span> at the moment because it's full of <em>garbage</em>. You look down at the stream; rather than water, you discover that it's a <em>stream of characters</em>.</p>\n",
    "<p>You sit for a while and record part of the stream (your puzzle input). The characters represent <em>groups</em> - sequences that begin with <code>{</code> and end with <code>}</code>. Within a group, there are zero or more other things, separated by commas: either another <em>group</em> or <em>garbage</em>. Since groups can contain other groups, a <code>}</code> only closes the <em>most-recently-opened unclosed group</em> - that is, they are nestable. Your puzzle input represents a single, large group which itself contains many smaller ones.</p>\n",
    "<p>Sometimes, instead of a group, you will find <em>garbage</em>. Garbage begins with <code>&lt;</code> and ends with <code>&gt;</code>. Between those angle brackets, almost any character can appear, including <code>{</code> and <code>}</code>. <em>Within</em> garbage, <code>&lt;</code> has no special meaning.</p>\n",
    "<p>In a futile attempt to clean up the garbage, some program has <em>canceled</em> some of the characters within it using <code>!</code>: inside garbage, <em>any</em> character that comes after <code>!</code> should be <em>ignored</em>, including <code>&lt;</code>, <code>&gt;</code>, and even another <code>!</code>.</p>\n",
    "<p>You don't see any characters that deviate from these rules.  Outside garbage, you only find well-formed groups, and garbage always terminates according to the rules above.</p>\n",
    "<p>Here are some self-contained pieces of garbage:</p>\n",
    "<ul>\n",
    "<li><code>&lt;&gt;</code>, empty garbage.</li>\n",
    "<li><code>&lt;random characters&gt;</code>, garbage containing random characters.</li>\n",
    "<li><code>&lt;&lt;&lt;&lt;&gt;</code>, because the extra <code>&lt;</code> are ignored.</li>\n",
    "<li><code>&lt;{!&gt;}&gt;</code>, because the first <code>&gt;</code> is canceled.</li>\n",
    "<li><code>&lt;!!&gt;</code>, because the second <code>!</code> is canceled, allowing the <code>&gt;</code> to terminate the garbage.</li>\n",
    "<li><code>&lt;!!!&gt;&gt;</code>, because the second <code>!</code> and the first <code>&gt;</code> are canceled.</li>\n",
    "<li><code>&lt;{o\"i!a,&lt;{i&lt;a&gt;</code>, which ends at the first <code>&gt;</code>.</li>\n",
    "</ul>\n",
    "<p>Here are some examples of whole streams and the number of groups they contain:</p>\n",
    "<ul>\n",
    "<li><code>{}</code>, <code>1</code> group.</li>\n",
    "<li><code>{{{}}}</code>, <code>3</code> groups.</li>\n",
    "<li><code>{{},{}}</code>, also <code>3</code> groups.</li>\n",
    "<li><code>{{{},{},{{}}}}</code>, <code>6</code> groups.</li>\n",
    "<li><code>{&lt;{},{},{{}}&gt;}</code>, <code>1</code> group (which itself contains garbage).</li>\n",
    "<li><code>{&lt;a&gt;,&lt;a&gt;,&lt;a&gt;,&lt;a&gt;}</code>, <code>1</code> group.</li>\n",
    "<li><code>{{&lt;a&gt;},{&lt;a&gt;},{&lt;a&gt;},{&lt;a&gt;}}</code>, <code>5</code> groups.</li>\n",
    "<li><code>{{&lt;!&gt;},{&lt;!&gt;},{&lt;!&gt;},{&lt;a&gt;}}</code>, <code>2</code> groups (since all but the last <code>&gt;</code> are canceled).</li>\n",
    "</ul>\n",
    "<p>Your goal is to find the total score for all groups in your input. Each group is assigned a <em>score</em> which is one more than the score of the group that immediately contains it. (The outermost group gets a score of <code>1</code>.)</p>\n",
    "<ul>\n",
    "<li><code>{}</code>, score of <code>1</code>.</li>\n",
    "<li><code>{{{}}}</code>, score of <code>1 + 2 + 3 = 6</code>.</li>\n",
    "<li><code>{{},{}}</code>, score of <code>1 + 2 + 2 = 5</code>.</li>\n",
    "<li><code>{{{},{},{{}}}}</code>, score of <code>1 + 2 + 3 + 3 + 3 + 4 = 16</code>.</li>\n",
    "<li><code>{&lt;a&gt;,&lt;a&gt;,&lt;a&gt;,&lt;a&gt;}</code>, score of <code>1</code>.</li>\n",
    "<li><code>{{&lt;ab&gt;},{&lt;ab&gt;},{&lt;ab&gt;},{&lt;ab&gt;}}</code>, score of <code>1 + 2 + 2 + 2 + 2 = 9</code>.</li>\n",
    "<li><code>{{&lt;!!&gt;},{&lt;!!&gt;},{&lt;!!&gt;},{&lt;!!&gt;}}</code>, score of <code>1 + 2 + 2 + 2 + 2 = 9</code>.</li>\n",
    "<li><code>{{&lt;a!&gt;},{&lt;a!&gt;},{&lt;a!&gt;},{&lt;ab&gt;}}</code>, score of <code>1 + 2 = 3</code>.</li>\n",
    "</ul>\n",
    "<p><em>What is the total score</em> for all groups in your input?</p>\n",
    "</article>\n"
   ]
  },
  {
   "cell_type": "code",
   "execution_count": 2,
   "metadata": {},
   "outputs": [
    {
     "name": "stdout",
     "output_type": "stream",
     "text": [
      "\n",
      "\u001b[32mTest Example 1 passed, for sum_score_groupes.\u001b[0m\n",
      "\u001b[32mTest Example 2 passed, for sum_score_groupes.\u001b[0m\n",
      "\u001b[32mTest Example 3 passed, for sum_score_groupes.\u001b[0m\n",
      "\u001b[32mTest Example 4 passed, for sum_score_groupes.\u001b[0m\n",
      "\u001b[32mTest Example 5 passed, for sum_score_groupes.\u001b[0m\n",
      "\u001b[32mTest Example 6 passed, for sum_score_groupes.\u001b[0m\n",
      "\u001b[32mTest Example 7 passed, for sum_score_groupes.\u001b[0m\n",
      "\u001b[32mTest Example 8 passed, for sum_score_groupes.\u001b[0m\n",
      "\u001b[32mSuccess\u001b[0m\n"
     ]
    }
   ],
   "source": [
    "tests = [\n",
    "    {\n",
    "        \"name\": \"Example 1\",\n",
    "        \"s\": \"{}\",\n",
    "        \"expected\": 1,\n",
    "    },\n",
    "    {\n",
    "        \"name\": \"Example 2\",\n",
    "        \"s\": \"{{{}}}\",\n",
    "        \"expected\": 6,\n",
    "    },\n",
    "    {\n",
    "        \"name\": \"Example 3\",\n",
    "        \"s\": \"{{},{}}\",\n",
    "        \"expected\": 5,\n",
    "    },\n",
    "    {\n",
    "        \"name\": \"Example 4\",\n",
    "        \"s\": \"{{{},{},{{}}}}\",\n",
    "        \"expected\": 16,\n",
    "    },\n",
    "    {\n",
    "        \"name\": \"Example 5\",\n",
    "        \"s\": \"{<a>,<a>,<a>,<a>}\",\n",
    "        \"expected\": 1,\n",
    "    },\n",
    "    {\n",
    "        \"name\": \"Example 6\",\n",
    "        \"s\": \"{{<ab>},{<ab>},{<ab>},{<ab>}}\",\n",
    "        \"expected\": 9,\n",
    "    },\n",
    "    {\n",
    "        \"name\": \"Example 7\",\n",
    "        \"s\": \"{{<!!>},{<!!>},{<!!>},{<!!>}}\",\n",
    "        \"expected\": 9,\n",
    "    },\n",
    "    {\n",
    "        \"name\": \"Example 8\",\n",
    "        \"s\": \"{{<a!>},{<a!>},{<a!>},{<ab>}}\",\n",
    "        \"expected\": 3,\n",
    "    },\n",
    "]\n",
    "\n",
    "\n",
    "def sum_score_groupes(s: str) -> int:\n",
    "    (\n",
    "        level,\n",
    "        group_sum,\n",
    "    ) = (\n",
    "        0,\n",
    "        0,\n",
    "    )\n",
    "    i, n = 0, len(s)\n",
    "\n",
    "    while i < n:\n",
    "        if s[i] == \"<\":\n",
    "            while i < n and s[i] != \">\":\n",
    "                i += 2 if s[i] == \"!\" else 1\n",
    "        elif s[i] == \"{\":\n",
    "            level += 1\n",
    "            group_sum += level\n",
    "            i += 1\n",
    "        elif s[i] == \"}\":\n",
    "            level -= 1\n",
    "            i += 1\n",
    "        else:\n",
    "            i += 1\n",
    "\n",
    "    return group_sum\n",
    "\n",
    "\n",
    "run_tests_params(sum_score_groupes, tests)"
   ]
  },
  {
   "cell_type": "code",
   "execution_count": 3,
   "metadata": {},
   "outputs": [
    {
     "name": "stdout",
     "output_type": "stream",
     "text": [
      "Part I: 10050\n"
     ]
    }
   ],
   "source": [
    "with open(\"../input//day9.txt\") as f:\n",
    "    puzzle = f.read()\n",
    "\n",
    "print(f\"Part I: {sum_score_groupes(puzzle)}\")"
   ]
  },
  {
   "cell_type": "markdown",
   "metadata": {},
   "source": [
    "<link href=\"style.css\" rel=\"stylesheet\"></link>\n",
    "\n",
    "<main>\n",
    "\n",
    "<p>Your puzzle answer was <code>10050</code>.</p><p class=\"day-success\">The first half of this puzzle is complete! It provides one gold star: *</p>\n",
    "<article class=\"day-desc\"><h2 id=\"part2\">--- Part Two ---</h2><p>Now, you're ready to remove the garbage.</p>\n",
    "<p>To prove you've removed it, you need to count all of the characters within the garbage.  The leading and trailing <code>&lt;</code> and <code>&gt;</code> don't count, nor do any canceled characters or the <code>!</code> doing the canceling.</p>\n",
    "<ul>\n",
    "<li><code>&lt;&gt;</code>, <code>0</code> characters.</li>\n",
    "<li><code>&lt;random characters&gt;</code>, <code>17</code> characters.</li>\n",
    "<li><code>&lt;&lt;&lt;&lt;&gt;</code>, <code>3</code> characters.</li>\n",
    "<li><code>&lt;{!&gt;}&gt;</code>, <code>2</code> characters.</li>\n",
    "<li><code>&lt;!!&gt;</code>, <code>0</code> characters.</li>\n",
    "<li><code>&lt;!!!&gt;&gt;</code>, <code>0</code> characters.</li>\n",
    "<li><code>&lt;{o\"i!a,&lt;{i&lt;a&gt;</code>, <code>10</code> characters.</li>\n",
    "</ul>\n",
    "<p><em>How many non-canceled characters are within the garbage</em> in your puzzle input?</p>\n",
    "</article>\n",
    "\n",
    "</main>\n"
   ]
  },
  {
   "cell_type": "code",
   "execution_count": 27,
   "metadata": {},
   "outputs": [
    {
     "name": "stdout",
     "output_type": "stream",
     "text": [
      "\n",
      "\u001b[32mTest Example 1 passed, for count_garbage.\u001b[0m\n",
      "\u001b[32mTest Example 2 passed, for count_garbage.\u001b[0m\n",
      "\u001b[32mTest Example 3 passed, for count_garbage.\u001b[0m\n",
      "\u001b[32mTest Example 4 passed, for count_garbage.\u001b[0m\n",
      "\u001b[32mTest Example 5 passed, for count_garbage.\u001b[0m\n",
      "\u001b[32mTest Example 6 passed, for count_garbage.\u001b[0m\n",
      "\u001b[32mTest Example 7 passed, for count_garbage.\u001b[0m\n",
      "\u001b[32mTest Example 8 passed, for count_garbage.\u001b[0m\n",
      "\u001b[32mSuccess\u001b[0m\n"
     ]
    }
   ],
   "source": [
    "tests_count_garbage = [\n",
    "    {\n",
    "        \"name\": \"Example 1\",\n",
    "        \"s\": \"{}\",\n",
    "        \"expected\": 0,\n",
    "    },\n",
    "    {\n",
    "        \"name\": \"Example 2\",\n",
    "        \"s\": \"{{{}}}\",\n",
    "        \"expected\": 0,\n",
    "    },\n",
    "    {\n",
    "        \"name\": \"Example 3\",\n",
    "        \"s\": \"{{},{}}\",\n",
    "        \"expected\": 0,\n",
    "    },\n",
    "    {\n",
    "        \"name\": \"Example 4\",\n",
    "        \"s\": \"{{{},{},{{}}}}\",\n",
    "        \"expected\": 0,\n",
    "    },\n",
    "    {\n",
    "        \"name\": \"Example 5\",\n",
    "        \"s\": \"{<a>,<a>,<a>,<a>}\",\n",
    "        \"expected\": 4,\n",
    "    },\n",
    "    {\n",
    "        \"name\": \"Example 6\",\n",
    "        \"s\": \"{{<ab>},{<ab>},{<ab>},{<ab>}}\",\n",
    "        \"expected\": 8,\n",
    "    },\n",
    "    {\n",
    "        \"name\": \"Example 7\",\n",
    "        \"s\": \"{{<!!>},{<!!>},{<!!>},{<!!>}}\",\n",
    "        \"expected\": 0,\n",
    "    },\n",
    "    {\n",
    "        \"name\": \"Example 8\",\n",
    "        \"s\": \"{{<a!>},{<a!>},{<a!>},{<ab>}}\",\n",
    "        \"expected\": 17,\n",
    "    },\n",
    "]\n",
    "\n",
    "\n",
    "def count_garbage(s: str) -> int:\n",
    "    garbage, i, n = 0, 0, len(s)\n",
    "\n",
    "    while i < n:\n",
    "        ch = s[i]\n",
    "        i += 1\n",
    "        if ch == \"<\":\n",
    "            while i < n and s[i] != \">\":\n",
    "                garbage += 0 if s[i] == \"!\" else 1\n",
    "                i += 2 if s[i] == \"!\" else 1\n",
    "\n",
    "    return garbage\n",
    "\n",
    "\n",
    "run_tests_params(count_garbage, tests_count_garbage)"
   ]
  },
  {
   "cell_type": "code",
   "execution_count": 28,
   "metadata": {},
   "outputs": [
    {
     "name": "stdout",
     "output_type": "stream",
     "text": [
      "Part II: 4482\n"
     ]
    }
   ],
   "source": [
    "print(f\"Part II: {count_garbage(puzzle)}\")"
   ]
  },
  {
   "cell_type": "markdown",
   "metadata": {},
   "source": [
    "<link href=\"style.css\" rel=\"stylesheet\"></link>\n",
    "<main>\n",
    "\n",
    "<p>Your puzzle answer was <code>4482</code>.</p><p class=\"day-success\">Both parts of this puzzle are complete! They provide two gold stars: **</p>\n",
    "\n",
    "</main>\n"
   ]
  },
  {
   "cell_type": "markdown",
   "metadata": {},
   "source": [
    "<link href=\"style.css\" rel=\"stylesheet\"></link>\n"
   ]
  }
 ],
 "metadata": {
  "kernelspec": {
   "display_name": ".venv",
   "language": "python",
   "name": "python3"
  },
  "language_info": {
   "codemirror_mode": {
    "name": "ipython",
    "version": 3
   },
   "file_extension": ".py",
   "mimetype": "text/x-python",
   "name": "python",
   "nbconvert_exporter": "python",
   "pygments_lexer": "ipython3",
   "version": "3.12.0"
  }
 },
 "nbformat": 4,
 "nbformat_minor": 2
}
