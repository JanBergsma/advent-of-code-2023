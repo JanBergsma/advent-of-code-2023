{
 "cells": [
  {
   "cell_type": "code",
   "execution_count": 1,
   "metadata": {},
   "outputs": [],
   "source": [
    "# %matplotlib widget\n",
    "\n",
    "from __future__ import annotations\n",
    "\n",
    "import re\n",
    "from collections import defaultdict\n",
    "from dataclasses import dataclass, field\n",
    "from itertools import permutations, product\n",
    "from math import inf\n",
    "from random import choice\n",
    "\n",
    "import matplotlib.colors as mcolors\n",
    "import matplotlib.pyplot as plt\n",
    "import networkx as nx\n",
    "import numpy as np\n",
    "import numpy.typing as npt\n",
    "from mpl_toolkits.mplot3d import axes3d\n",
    "from numpy import int_, object_\n",
    "from numpy.typing import NDArray\n",
    "from test_utilities import run_tests_params\n",
    "from util import print_hex\n",
    "\n",
    "COLORS = list(mcolors.CSS4_COLORS.keys())"
   ]
  },
  {
   "cell_type": "markdown",
   "metadata": {},
   "source": [
    "<link href=\"style.css\" rel=\"stylesheet\"></link>\n",
    "<article class=\"day-desc\"><h2>--- Day 2: Corruption Checksum ---</h2><p>As you walk through the door, a glowing humanoid shape yells in your direction. \"You there! Your state appears to be idle. Come help us repair the corruption in this spreadsheet - if we take another millisecond, we'll have to display an hourglass cursor!\"</p>\n",
    "<p>The spreadsheet consists of rows of apparently-random numbers. To make sure the recovery process is on the right track, they need you to calculate the spreadsheet's <em>checksum</em>. For each row, determine the difference between the largest value and the smallest value; the checksum is the sum of all of these differences.</p>\n",
    "<p>For example, given the following spreadsheet:</p>\n",
    "<pre><code>5 1 9 5\n",
    "7 5 3\n",
    "2 4 6 8</code></pre>\n",
    "<ul>\n",
    "<li>The first row's largest and smallest values are <code>9</code> and <code>1</code>, and their difference is <code>8</code>.</li>\n",
    "<li>The second row's largest and smallest values are <code>7</code> and <code>3</code>, and their difference is <code>4</code>.</li>\n",
    "<li>The third row's difference is <code>6</code>.</li>\n",
    "</ul>\n",
    "<p>In this example, the spreadsheet's checksum would be <code>8 + 4 + 6 = 18</code>.</p>\n",
    "<p><em>What is the checksum</em> for the spreadsheet in your puzzle input?</p>\n",
    "</article>\n"
   ]
  },
  {
   "cell_type": "code",
   "execution_count": 21,
   "metadata": {},
   "outputs": [],
   "source": [
    "from functools import reduce\n",
    "from operator import sub\n",
    "from re import findall\n",
    "\n",
    "from more_itertools import minmax\n",
    "from tabulate import tabulate\n",
    "\n",
    "\n",
    "example = \"\"\"\n",
    "5 1 9 5\n",
    "7 5 3\n",
    "2 4 6 8\n",
    "\"\"\"\n",
    "\n",
    "\n",
    "def checksum(spreadsheat: str) -> int:\n",
    "    return sum(\n",
    "        reduce(lambda v, e: e - v, minmax(map(int, findall(r\"\\d+\", line))), 0)\n",
    "        for line in spreadsheat.strip().splitlines()\n",
    "    )\n",
    "\n",
    "\n",
    "assert checksum(example) == 18"
   ]
  },
  {
   "cell_type": "code",
   "execution_count": 22,
   "metadata": {},
   "outputs": [
    {
     "name": "stdout",
     "output_type": "stream",
     "text": [
      "Part I: 41919\n"
     ]
    }
   ],
   "source": [
    "with open(\"../input/day2.txt\") as f:\n",
    "    puzzle = f.read()\n",
    "\n",
    "print(f\"Part I: {checksum(puzzle)}\")"
   ]
  },
  {
   "cell_type": "markdown",
   "metadata": {},
   "source": [
    "<link href=\"style.css\" rel=\"stylesheet\"></link>\n",
    "<main>\n",
    "\n",
    "<p>Your puzzle answer was <code>41919</code>.</p><p class=\"day-success\">The first half of this puzzle is complete! It provides one gold star: *</p>\n",
    "<article class=\"day-desc\"><h2 id=\"part2\">--- Part Two ---</h2><p>\"Great work; looks like we're on the right track after all.  Here's a <em class=\"star\">star</em> for your effort.\" However, the program seems a little worried. Can programs <em>be</em> worried?</p>\n",
    "<p>\"Based on what we're seeing, it looks like all the User wanted is some information about the <em>evenly divisible values</em> in the spreadsheet.  Unfortunately, none of us are equipped for that kind of calculation - most of us specialize in <span title=\"Bonus points if you solve this part using only bitwise operations.\">bitwise operations</span>.\"</p>\n",
    "<p>It sounds like the goal is to find the only two numbers in each row where one evenly divides the other - that is, where the result of the division operation is a whole number. They would like you to find those numbers on each line, divide them, and add up each line's result.</p>\n",
    "<p>For example, given the following spreadsheet:</p>\n",
    "<pre><code>5 9 2 8\n",
    "9 4 7 3\n",
    "3 8 6 5</code></pre>\n",
    "<ul>\n",
    "<li>In the first row, the only two numbers that evenly divide are <code>8</code> and <code>2</code>; the result of this division is <code>4</code>.</li>\n",
    "<li>In the second row, the two numbers are <code>9</code> and <code>3</code>; the result is <code>3</code>.</li>\n",
    "<li>In the third row, the result is <code>2</code>.</li>\n",
    "</ul>\n",
    "<p>In this example, the sum of the results would be <code>4 + 3 + 2 = 9</code>.</p>\n",
    "<p>What is the <em>sum of each row's result</em> in your puzzle input?</p>\n",
    "</article>\n",
    "\n",
    "</main>\n"
   ]
  },
  {
   "cell_type": "code",
   "execution_count": 37,
   "metadata": {},
   "outputs": [],
   "source": [
    "from more_itertools import one\n",
    "\n",
    "\n",
    "example_II = \"\"\"\n",
    "5 9 2 8\n",
    "9 4 7 3\n",
    "3 8 6 5\n",
    "\"\"\"\n",
    "\n",
    "\n",
    "def evenly_divisible_checksum(spreadsheat: str) -> int:\n",
    "    return sum(\n",
    "        one(\n",
    "            a // b\n",
    "            for a, b in product(map(int, findall(r\"\\d+\", line)), repeat=2)\n",
    "            if a != b and a % b == 0\n",
    "        )\n",
    "        for line in spreadsheat.strip().splitlines()\n",
    "    )\n",
    "\n",
    "\n",
    "assert evenly_divisible_checksum(example_II) == 9"
   ]
  },
  {
   "cell_type": "code",
   "execution_count": 38,
   "metadata": {},
   "outputs": [
    {
     "name": "stdout",
     "output_type": "stream",
     "text": [
      "Part II: 303\n"
     ]
    }
   ],
   "source": [
    "print(f\"Part II: {evenly_divisible_checksum(puzzle)}\")"
   ]
  },
  {
   "cell_type": "markdown",
   "metadata": {},
   "source": [
    "<link href=\"style.css\" rel=\"stylesheet\"></link>\n",
    "\n",
    "<p>Your puzzle answer was <code>303</code>.</p><p class=\"day-success\">Both parts of this puzzle are complete! They provide two gold stars: **</p>\n"
   ]
  },
  {
   "cell_type": "code",
   "execution_count": null,
   "metadata": {},
   "outputs": [],
   "source": []
  }
 ],
 "metadata": {
  "kernelspec": {
   "display_name": ".venv",
   "language": "python",
   "name": "python3"
  },
  "language_info": {
   "codemirror_mode": {
    "name": "ipython",
    "version": 3
   },
   "file_extension": ".py",
   "mimetype": "text/x-python",
   "name": "python",
   "nbconvert_exporter": "python",
   "pygments_lexer": "ipython3",
   "version": "3.12.0"
  }
 },
 "nbformat": 4,
 "nbformat_minor": 2
}
