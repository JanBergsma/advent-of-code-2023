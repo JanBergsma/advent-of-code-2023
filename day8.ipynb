{
 "cells": [
  {
   "cell_type": "code",
   "execution_count": 143,
   "metadata": {},
   "outputs": [],
   "source": [
    "import re"
   ]
  },
  {
   "cell_type": "markdown",
   "metadata": {},
   "source": [
    "<link href=\"style.css\" rel=\"stylesheet\"></link>\n",
    "\n",
    "<article class=\"day-desc\"><h2>--- Day 8: Haunted Wasteland ---</h2><p>You're still riding a camel across Desert Island when you spot a sandstorm quickly approaching. When you turn to warn the Elf, she disappears before your eyes! To be fair, she had just finished warning you about <em>ghosts</em> a few minutes ago.</p>\n",
    "<p>One of the camel's pouches is labeled \"maps\" - sure enough, it's full of documents (your puzzle input) about how to navigate the desert. At least, you're pretty sure that's what they are; one of the documents contains a list of left/right instructions, and the rest of the documents seem to describe some kind of <em>network</em> of labeled nodes.</p>\n",
    "<p>It seems like you're meant to use the <em>left/right</em> instructions to <em>navigate the network</em>. Perhaps if you have the camel follow the same instructions, you can escape the haunted wasteland!</p>\n",
    "<p>After examining the maps for a bit, two nodes stick out: <code>AAA</code> and <code>ZZZ</code>. You feel like <code>AAA</code> is where you are now, and you have to follow the left/right instructions until you reach <code>ZZZ</code>.</p>\n",
    "<p>This format defines each <em>node</em> of the network individually. For example:</p>\n",
    "<pre><code>RL\n",
    "\n",
    "AAA = (BBB, CCC)\n",
    "BBB = (DDD, EEE)\n",
    "CCC = (ZZZ, GGG)\n",
    "DDD = (DDD, DDD)\n",
    "EEE = (EEE, EEE)\n",
    "GGG = (GGG, GGG)\n",
    "ZZZ = (ZZZ, ZZZ)\n",
    "</code></pre>\n",
    "\n",
    "<p>Starting with <code>AAA</code>, you need to <em>look up the next element</em> based on the next left/right instruction in your input. In this example, start with <code>AAA</code> and go <em>right</em> (<code>R</code>) by choosing the right element of <code>AAA</code>, <code><em>CCC</em></code>. Then, <code>L</code> means to choose the <em>left</em> element of <code>CCC</code>, <code><em>ZZZ</em></code>. By following the left/right instructions, you reach <code>ZZZ</code> in <code><em>2</em></code> steps.</p>\n",
    "<p>Of course, you might not find <code>ZZZ</code> right away. If you run out of left/right instructions, repeat the whole sequence of instructions as necessary: <code>RL</code> really means <code>RLRLRLRLRLRLRLRL...</code> and so on. For example, here is a situation that takes <code><em>6</em></code> steps to reach <code>ZZZ</code>:</p>\n",
    "<pre><code>LLR\n",
    "\n",
    "AAA = (BBB, BBB)\n",
    "BBB = (AAA, ZZZ)\n",
    "ZZZ = (ZZZ, ZZZ)\n",
    "</code></pre>\n",
    "\n",
    "<p>Starting at <code>AAA</code>, follow the left/right instructions. <em>How many steps are required to reach <code>ZZZ</code>?</em></p>\n",
    "</article>\n"
   ]
  },
  {
   "cell_type": "code",
   "execution_count": 144,
   "metadata": {},
   "outputs": [],
   "source": [
    "case_1 = \"\"\"\n",
    "RL\n",
    "\n",
    "AAA = (BBB, CCC)\n",
    "BBB = (DDD, EEE)\n",
    "CCC = (ZZZ, GGG)\n",
    "DDD = (DDD, DDD)\n",
    "EEE = (EEE, EEE)\n",
    "GGG = (GGG, GGG)\n",
    "ZZZ = (ZZZ, ZZZ)\n",
    "\"\"\""
   ]
  },
  {
   "cell_type": "code",
   "execution_count": 145,
   "metadata": {},
   "outputs": [],
   "source": [
    "case_2 = \"\"\"\n",
    "LLR\n",
    "\n",
    "AAA = (BBB, BBB)\n",
    "BBB = (AAA, ZZZ)\n",
    "ZZZ = (ZZZ, ZZZ)\n",
    "\n",
    "\"\"\""
   ]
  },
  {
   "cell_type": "code",
   "execution_count": 146,
   "metadata": {},
   "outputs": [],
   "source": [
    "from itertools import cycle\n",
    "\n",
    "\n",
    "def count_steps(s: str) -> int:\n",
    "    s = s.strip()\n",
    "    instructions, nodes = re.split(r\"\\s+\\n\", s)\n",
    "    instructions = instructions.strip()\n",
    "\n",
    "    nodes = nodes.splitlines()\n",
    "    nodes = [re.findall(r\"[A-Z]{3}\", node) for node in nodes]\n",
    "    graph = {node: (left, right) for node, left, right in nodes}\n",
    "\n",
    "    current = \"AAA\"\n",
    "    goal = \"ZZZ\"\n",
    "\n",
    "    for i, instruction in enumerate(cycle(instructions), start=1):\n",
    "        current = graph[current][0 if instruction == \"L\" else 1]\n",
    "        if current == goal:\n",
    "            return i\n",
    "\n",
    "\n",
    "assert count_steps(case_1) == 2\n",
    "assert count_steps(case_2) == 6"
   ]
  },
  {
   "cell_type": "code",
   "execution_count": 147,
   "metadata": {},
   "outputs": [
    {
     "name": "stdout",
     "output_type": "stream",
     "text": [
      "24253\n"
     ]
    }
   ],
   "source": [
    "with open(\"./input/day8.txt\") as f:\n",
    "    print(count_steps(f.read()))"
   ]
  },
  {
   "cell_type": "code",
   "execution_count": 148,
   "metadata": {},
   "outputs": [],
   "source": [
    "def count_cache(s: str) -> int:\n",
    "    s = s.strip()\n",
    "    instructions, nodes = re.split(r\"\\s+\\n\", s)\n",
    "    instructions = instructions.strip()\n",
    "\n",
    "    nodes = nodes.splitlines()\n",
    "    nodes = [re.findall(r\"[A-Z]{3}\", node) for node in nodes]\n",
    "    graph = {node: (left, right) for node, left, right in nodes}\n",
    "\n",
    "    goal = \"ZZZ\"\n",
    "\n",
    "    paths_containing_goal = {}\n",
    "    full_cylce_graph = {}\n",
    "    for node in graph.keys():\n",
    "        current = node\n",
    "        for step, inst in enumerate(instructions, start=1):\n",
    "            current = graph[current][0 if inst == \"L\" else 1]\n",
    "            if current == goal:\n",
    "                paths_containing_goal[node] = step\n",
    "        full_cylce_graph[node] = current\n",
    "\n",
    "    current = \"AAA\"\n",
    "    steps = 0\n",
    "\n",
    "    while current not in paths_containing_goal:\n",
    "        steps += len(instructions)\n",
    "        current = full_cylce_graph[current]\n",
    "\n",
    "    return steps + paths_containing_goal[current]\n",
    "\n",
    "\n",
    "assert count_cache(case_1) == 2\n",
    "assert count_cache(case_2) == 6"
   ]
  },
  {
   "cell_type": "code",
   "execution_count": 149,
   "metadata": {},
   "outputs": [
    {
     "name": "stdout",
     "output_type": "stream",
     "text": [
      "24253\n"
     ]
    }
   ],
   "source": [
    "with open(\"./input/day8.txt\") as f:\n",
    "    print(count_cache(f.read()))"
   ]
  },
  {
   "cell_type": "markdown",
   "metadata": {},
   "source": [
    "<link href=\"style.css\" rel=\"stylesheet\"></link>\n",
    "\n",
    "<main>\n",
    "\n",
    "<p>Your puzzle answer was <code>24253</code>.</p><p class=\"day-success\">The first half of this puzzle is complete! It provides one gold star: *</p>\n",
    "<article class=\"day-desc\"><h2 id=\"part2\">--- Part Two ---</h2><p>The <span title=\"Duhduhduhduhduh! Dah, duhduhduhduhduh!\">sandstorm</span> is upon you and you aren't any closer to escaping the wasteland. You had the camel follow the instructions, but you've barely left your starting position. It's going to take <em>significantly more steps</em> to escape!</p>\n",
    "<p>What if the map isn't for people - what if the map is for <em>ghosts</em>? Are ghosts even bound by the laws of spacetime? Only one way to find out.</p>\n",
    "<p>After examining the maps a bit longer, your attention is drawn to a curious fact: the number of nodes with names ending in <code>A</code> is equal to the number ending in <code>Z</code>! If you were a ghost, you'd probably just <em>start at every node that ends with <code>A</code></em> and follow all of the paths at the same time until they all simultaneously end up at nodes that end with <code>Z</code>.</p>\n",
    "<p>For example:</p>\n",
    "<pre><code>LR\n",
    "\n",
    "11A = (11B, XXX)\n",
    "11B = (XXX, 11Z)\n",
    "11Z = (11B, XXX)\n",
    "22A = (22B, XXX)\n",
    "22B = (22C, 22C)\n",
    "22C = (22Z, 22Z)\n",
    "22Z = (22B, 22B)\n",
    "XXX = (XXX, XXX)\n",
    "</code></pre>\n",
    "\n",
    "<p>Here, there are two starting nodes, <code>11A</code> and <code>22A</code> (because they both end with <code>A</code>). As you follow each left/right instruction, use that instruction to <em>simultaneously</em> navigate away from both nodes you're currently on. Repeat this process until <em>all</em> of the nodes you're currently on end with <code>Z</code>. (If only some of the nodes you're on end with <code>Z</code>, they act like any other node and you continue as normal.) In this example, you would proceed as follows:</p>\n",
    "<ul>\n",
    "<li>Step 0: You are at <code>11A</code> and <code>22A</code>.</li>\n",
    "<li>Step 1: You choose all of the <em>left</em> paths, leading you to <code>11B</code> and <code>22B</code>.</li>\n",
    "<li>Step 2: You choose all of the <em>right</em> paths, leading you to <code><em>11Z</em></code> and <code>22C</code>.</li>\n",
    "<li>Step 3: You choose all of the <em>left</em> paths, leading you to <code>11B</code> and <code><em>22Z</em></code>.</li>\n",
    "<li>Step 4: You choose all of the <em>right</em> paths, leading you to <code><em>11Z</em></code> and <code>22B</code>.</li>\n",
    "<li>Step 5: You choose all of the <em>left</em> paths, leading you to <code>11B</code> and <code>22C</code>.</li>\n",
    "<li>Step 6: You choose all of the <em>right</em> paths, leading you to <code><em>11Z</em></code> and <code><em>22Z</em></code>.</li>\n",
    "</ul>\n",
    "<p>So, in this example, you end up entirely on nodes that end in <code>Z</code> after <code><em>6</em></code> steps.</p>\n",
    "<p>Simultaneously start on every node that ends with <code>A</code>. <em>How many steps does it take before you're only on nodes that end with <code>Z</code>?</em></p>\n",
    "</article>\n"
   ]
  },
  {
   "cell_type": "code",
   "execution_count": 150,
   "metadata": {},
   "outputs": [],
   "source": [
    "case_ghosty = \"\"\"\n",
    "LR\n",
    "\n",
    "11A = (11B, XXX)\n",
    "11B = (XXX, 11Z)\n",
    "11Z = (11B, XXX)\n",
    "22A = (22B, XXX)\n",
    "22B = (22C, 22C)\n",
    "22C = (22Z, 22Z)\n",
    "22Z = (22B, 22B)\n",
    "XXX = (XXX, XXX)\n",
    "\"\"\""
   ]
  },
  {
   "cell_type": "code",
   "execution_count": 151,
   "metadata": {},
   "outputs": [],
   "source": [
    "def ghosty_too_slow(s: str) -> int:\n",
    "    s = s.strip()\n",
    "    instructions, nodes = re.split(r\"\\s+\\n\", s)\n",
    "    instructions = instructions.strip()\n",
    "\n",
    "    nodes = nodes.splitlines()\n",
    "    nodes = [re.findall(r\"[A-Z0-9]{3}\", node) for node in nodes]\n",
    "    graph = {node: (left, right) for node, left, right in nodes}\n",
    "\n",
    "    current = [node for node, _, _ in nodes if node[-1] == \"A\"]\n",
    "\n",
    "    for i, instruction in enumerate(cycle(instructions), start=1):\n",
    "        direction = 0 if instruction == \"L\" else 1\n",
    "        current = [graph[c][direction] for c in current]\n",
    "        if all(c[-1] == \"Z\" for c in current):\n",
    "            return i\n",
    "\n",
    "\n",
    "assert ghosty_too_slow(case_ghosty) == 6"
   ]
  },
  {
   "cell_type": "code",
   "execution_count": 152,
   "metadata": {},
   "outputs": [],
   "source": [
    "# with open(\"./input/day8.txt\") as f:\n",
    "#     print(ghosty_too_slow(f.read()))"
   ]
  },
  {
   "cell_type": "code",
   "execution_count": 163,
   "metadata": {},
   "outputs": [
    {
     "name": "stdout",
     "output_type": "stream",
     "text": [
      "6\n"
     ]
    }
   ],
   "source": [
    "from itertools import cycle\n",
    "from math import lcm\n",
    "\n",
    "\n",
    "def ghosty(s: str) -> int:\n",
    "    s = s.strip()\n",
    "    instructions, nodes = re.split(r\"\\s+\\n\", s)\n",
    "    instructions = instructions.strip()\n",
    "\n",
    "    nodes = nodes.splitlines()\n",
    "    nodes = [re.findall(r\"[A-Z0-9]{3}\", node) for node in nodes]\n",
    "    graph = {node: (left, right) for node, left, right in nodes}\n",
    "\n",
    "    currents = [node for node in graph.keys() if node[-1] == \"A\"]\n",
    "\n",
    "    steps_container = []\n",
    "    for current in currents:\n",
    "        for i, instruction in enumerate(cycle(instructions), start=1):\n",
    "            current = graph[current][0 if instruction == \"L\" else 1]\n",
    "            if current[-1] == \"Z\":\n",
    "                steps_container.append(i)\n",
    "                break\n",
    "\n",
    "    return lcm(*steps_container)  # only works because of cycles\n",
    "\n",
    "\n",
    "print(ghosty(case_ghosty))"
   ]
  },
  {
   "cell_type": "code",
   "execution_count": 164,
   "metadata": {},
   "outputs": [
    {
     "name": "stdout",
     "output_type": "stream",
     "text": [
      "12357789728873\n"
     ]
    }
   ],
   "source": [
    "with open(\"./input/day8.txt\") as f:\n",
    "    print(ghosty(f.read()))"
   ]
  },
  {
   "cell_type": "code",
   "execution_count": 159,
   "metadata": {},
   "outputs": [
    {
     "data": {
      "text/plain": [
       "40253386739"
      ]
     },
     "execution_count": 159,
     "metadata": {},
     "output_type": "execute_result"
    }
   ],
   "source": [
    "12357789728873 // 307"
   ]
  },
  {
   "cell_type": "markdown",
   "metadata": {},
   "source": [
    "<link href=\"style.css\" rel=\"stylesheet\"></link>\n",
    "\n",
    "<main>\n",
    "\n",
    "<p>Your puzzle answer was <code>12357789728873</code>.</p><p class=\"day-success\">Both parts of this puzzle are complete! They provide two gold stars: **</p>\n",
    "<p>At this point, you should <a href=\"/2023\">return to your Advent calendar</a> and try another puzzle.</p>\n",
    "<p>If you still want to see it, you can <a href=\"8/input\" target=\"_blank\">get your puzzle input</a>.</p>\n",
    "<p>You can also <span class=\"share\">[Share<span class=\"share-content\">on\n",
    "  <a href=\"https://twitter.com/intent/tweet?text=I%27ve+completed+%22Haunted+Wasteland%22+%2D+Day+8+%2D+Advent+of+Code+2023&amp;url=https%3A%2F%2Fadventofcode%2Ecom%2F2023%2Fday%2F8&amp;related=ericwastl&amp;hashtags=AdventOfCode\" target=\"_blank\">Twitter</a>\n",
    "  <a href=\"javascript:void(0);\" onclick=\"var ms; try{ms=localStorage.getItem('mastodon.server')}finally{} if(typeof ms!=='string')ms=''; ms=prompt('Mastodon Server?',ms); if(typeof ms==='string' &amp;&amp; ms.length){this.href='https://'+ms+'/share?text=I%27ve+completed+%22Haunted+Wasteland%22+%2D+Day+8+%2D+Advent+of+Code+2023+%23AdventOfCode+https%3A%2F%2Fadventofcode%2Ecom%2F2023%2Fday%2F8';try{localStorage.setItem('mastodon.server',ms);}finally{}}else{return false;}\" target=\"_blank\">Mastodon</a></span>]</span> this puzzle.</p>\n",
    "</main>\n"
   ]
  }
 ],
 "metadata": {
  "kernelspec": {
   "display_name": ".venv",
   "language": "python",
   "name": "python3"
  },
  "language_info": {
   "codemirror_mode": {
    "name": "ipython",
    "version": 3
   },
   "file_extension": ".py",
   "mimetype": "text/x-python",
   "name": "python",
   "nbconvert_exporter": "python",
   "pygments_lexer": "ipython3",
   "version": "3.12.0"
  }
 },
 "nbformat": 4,
 "nbformat_minor": 2
}
