{
 "cells": [
  {
   "cell_type": "code",
   "execution_count": 21,
   "metadata": {},
   "outputs": [],
   "source": [
    "import re"
   ]
  },
  {
   "cell_type": "markdown",
   "metadata": {},
   "source": [
    "<link href=\"style.css\" rel=\"stylesheet\"></link>\n",
    "\n",
    "<main>\n",
    "<article class=\"day-desc read-aloud\"><h2>--- Day 6: Wait For It ---</h2><p>The ferry quickly brings you across Island Island. After asking around, you discover that there is indeed normally a large pile of sand somewhere near here, but you don't see anything besides lots of water and the small island where the ferry has docked.</p>\n",
    "<p>As you try to figure out what to do next, you notice a poster on a wall near the ferry dock. \"Boat races! Open to the public! Grand prize is an all-expenses-paid trip to <em>Desert Island</em>!\" That must be where the sand comes from! Best of all, the boat races are starting in just a few minutes.</p>\n",
    "<p>You manage to sign up as a competitor in the boat races just in time. The organizer explains that it's not really a traditional race - instead, you will get a fixed amount of time during which your boat has to travel as far as it can, and you win if your boat goes the farthest.</p>\n",
    "<p>As part of signing up, you get a sheet of paper (your puzzle input) that lists the <em>time</em> allowed for each race and also the best <em>distance</em> ever recorded in that race. To guarantee you win the grand prize, you need to make sure you <em>go farther in each race</em> than the current record holder.</p>\n",
    "<p>The organizer brings you over to the area where the boat races are held. The boats are much smaller than you expected - they're actually <em>toy boats</em>, each with a big button on top. Holding down the button <em>charges the boat</em>, and releasing the button <em>allows the boat to move</em>. Boats move faster if their button was held longer, but time spent holding the button counts against the total race time. You can only hold the button at the start of the race, and boats don't move until the button is released.</p>\n",
    "<p>For example:</p>\n",
    "<pre><code>Time:      7  15   30\n",
    "Distance:  9  40  200\n",
    "</code></pre>\n",
    "<p>This document describes three races:</p>\n",
    "<ul>\n",
    "<li>The first race lasts 7 milliseconds. The record distance in this race is 9 millimeters.</li>\n",
    "<li>The second race lasts 15 milliseconds. The record distance in this race is 40 millimeters.</li>\n",
    "<li>The third race lasts 30 milliseconds. The record distance in this race is 200 millimeters.</li>\n",
    "</ul>\n",
    "<p>Your toy boat has a starting speed of <em>zero millimeters per millisecond</em>. For each whole millisecond you spend at the beginning of the race holding down the button, the boat's speed increases by <em>one millimeter per millisecond</em>.</p>\n",
    "<p>So, because the first race lasts 7 milliseconds, you only have a few options:</p>\n",
    "<ul>\n",
    "<li>Don't hold the button at all (that is, hold it for <em><code>0</code> milliseconds</em>) at the start of the race. The boat won't move; it will have traveled <em><code>0</code> millimeters</em> by the end of the race.</li>\n",
    "<li>Hold the button for <em><code>1</code> millisecond</em> at the start of the race. Then, the boat will travel at a speed of <code>1</code> millimeter per millisecond for 6 milliseconds, reaching a total distance traveled of <em><code>6</code> millimeters</em>.</li>\n",
    "<li>Hold the button for <em><code>2</code> milliseconds</em>, giving the boat a speed of <code>2</code> millimeters per millisecond. It will then get 5 milliseconds to move, reaching a total distance of <em><code>10</code> millimeters</em>.</li>\n",
    "<li>Hold the button for <em><code>3</code> milliseconds</em>. After its remaining 4 milliseconds of travel time, the boat will have gone <em><code>12</code> millimeters</em>.</li>\n",
    "<li>Hold the button for <em><code>4</code> milliseconds</em>. After its remaining 3 milliseconds of travel time, the boat will have gone <em><code>12</code> millimeters</em>.</li>\n",
    "<li>Hold the button for <em><code>5</code> milliseconds</em>, causing the boat to travel a total of <em><code>10</code> millimeters</em>.</li>\n",
    "<li>Hold the button for <em><code>6</code> milliseconds</em>, causing the boat to travel a total of <em><code>6</code> millimeters</em>.</li>\n",
    "<li>Hold the button for <em><code>7</code> milliseconds</em>. That's the entire duration of the race. You never let go of the button. The boat can't move until you let go of the button. Please make sure you let go of the button so the boat gets to move. <em><code>0</code> millimeters</em>.</li>\n",
    "</ul>\n",
    "<p>Since the current record for this race is <code>9</code> millimeters, there are actually <code><em>4</em></code> different ways you could win: you could hold the button for <code>2</code>, <code>3</code>, <code>4</code>, or <code>5</code> milliseconds at the start of the race.</p>\n",
    "<p>In the second race, you could hold the button for at least <code>4</code> milliseconds and at most <code>11</code> milliseconds and beat the record, a total of <code><em>8</em></code> different ways to win.</p>\n",
    "<p>In the third race, you could hold the button for at least <code>11</code> milliseconds and no more than <code>19</code> milliseconds and still beat the record, a total of <code><em>9</em></code> ways you could win.</p>\n",
    "<p>To see how much margin of error you have, determine the <em>number of ways you can beat the record</em> in each race; in this example, if you multiply these values together, you get <code><em>288</em></code> (<code>4</code> * <code>8</code> * <code>9</code>).</p>\n",
    "<p>Determine the number of ways you could beat the record in each race. <em>What do you get if you multiply these numbers together?</em></p>\n",
    "</article>\n",
    "<p>To begin, <a href=\"6/input\" target=\"_blank\">get your puzzle input</a>.</p>\n",
    "<form method=\"post\" action=\"6/answer\"><input type=\"hidden\" name=\"level\" value=\"1\"><p>Answer: <input type=\"text\" name=\"answer\" autocomplete=\"off\"> <input type=\"submit\" value=\"[Submit]\"></p></form>\n",
    "<p>You can also <span class=\"share\">[Share<span class=\"share-content\">on\n",
    "  <a href=\"https://twitter.com/intent/tweet?text=%22Wait+For+It%22+%2D+Day+6+%2D+Advent+of+Code+2023&amp;url=https%3A%2F%2Fadventofcode%2Ecom%2F2023%2Fday%2F6&amp;related=ericwastl&amp;hashtags=AdventOfCode\" target=\"_blank\">Twitter</a>\n",
    "  <a href=\"javascript:void(0);\" onclick=\"var ms; try{ms=localStorage.getItem('mastodon.server')}finally{} if(typeof ms!=='string')ms=''; ms=prompt('Mastodon Server?',ms); if(typeof ms==='string' &amp;&amp; ms.length){this.href='https://'+ms+'/share?text=%22Wait+For+It%22+%2D+Day+6+%2D+Advent+of+Code+2023+%23AdventOfCode+https%3A%2F%2Fadventofcode%2Ecom%2F2023%2Fday%2F6';try{localStorage.setItem('mastodon.server',ms);}finally{}}else{return false;}\" target=\"_blank\">Mastodon</a></span>]</span> this puzzle.</p>\n",
    "</main>\n"
   ]
  },
  {
   "cell_type": "code",
   "execution_count": 22,
   "metadata": {},
   "outputs": [],
   "source": [
    "test_races = \"\"\"\n",
    "Time:      7  15   30\n",
    "Distance:  9  40  200\n",
    "\"\"\""
   ]
  },
  {
   "cell_type": "code",
   "execution_count": 32,
   "metadata": {},
   "outputs": [],
   "source": [
    "def determindisctance(race_time: int, time_button_push_down: int) -> int:\n",
    "    return (race_time - time_button_push_down) * time_button_push_down\n",
    "\n",
    "\n",
    "def detrmine_ways_to_win_race(\n",
    "    race_time: int, current_record, push_button_time_range: range | None = None\n",
    ") -> int:\n",
    "    if push_button_time_range is None:\n",
    "        push_button_time_range = range(race_time + 1)\n",
    "    return sum(\n",
    "        1\n",
    "        for time_button_push_down in push_button_time_range\n",
    "        if determindisctance(race_time, time_button_push_down) > current_record\n",
    "    )\n",
    "\n",
    "\n",
    "race_time = 7\n",
    "tests = [\n",
    "    {\"time_button_push_down\": 0, \"distance_traveled\": 0},\n",
    "    {\"time_button_push_down\": 1, \"distance_traveled\": 6},\n",
    "    {\"time_button_push_down\": 2, \"distance_traveled\": 10},\n",
    "    {\"time_button_push_down\": 3, \"distance_traveled\": 12},\n",
    "    {\"time_button_push_down\": 4, \"distance_traveled\": 12},\n",
    "    {\"time_button_push_down\": 5, \"distance_traveled\": 10},\n",
    "    {\"time_button_push_down\": 6, \"distance_traveled\": 6},\n",
    "    {\"time_button_push_down\": 7, \"distance_traveled\": 0},\n",
    "]\n",
    "\n",
    "\n",
    "assert all(\n",
    "    determindisctance(race_time, test[\"time_button_push_down\"])\n",
    "    == test[\"distance_traveled\"]\n",
    "    for test in tests\n",
    ")\n",
    "\n",
    "assert detrmine_ways_to_win_race(7, 9) == 4\n",
    "assert detrmine_ways_to_win_race(15, 40) == 8\n",
    "assert detrmine_ways_to_win_race(30, 200) == 9\n",
    "assert detrmine_ways_to_win_race(71530, 940200, range(14, 71516 + 1)) == 71503"
   ]
  },
  {
   "cell_type": "code",
   "execution_count": 33,
   "metadata": {},
   "outputs": [
    {
     "data": {
      "text/plain": [
       "(288, 288)"
      ]
     },
     "execution_count": 33,
     "metadata": {},
     "output_type": "execute_result"
    }
   ],
   "source": [
    "def product_of_ways_to_win_races(races: str) -> int:\n",
    "    lines = [[int(i) for i in line.split()[1:]] for line in races.strip().splitlines()]\n",
    "    product = 1\n",
    "    for i in range(len(lines[0])):\n",
    "        product *= detrmine_ways_to_win_race(lines[0][i], lines[1][i])\n",
    "    return product\n",
    "\n",
    "\n",
    "product_of_ways_to_win_races(test_races), 288  # (4 * 8 * 9)"
   ]
  },
  {
   "cell_type": "code",
   "execution_count": 34,
   "metadata": {},
   "outputs": [
    {
     "data": {
      "text/plain": [
       "281600"
      ]
     },
     "execution_count": 34,
     "metadata": {},
     "output_type": "execute_result"
    }
   ],
   "source": [
    "races = \"\"\"\n",
    "Time:        47     70     75     66\n",
    "Distance:   282   1079   1147   1062\n",
    "\"\"\"\n",
    "product_of_ways_to_win_races(races)"
   ]
  },
  {
   "cell_type": "markdown",
   "metadata": {},
   "source": [
    "<link href=\"style.css\" rel=\"stylesheet\"></link>\n",
    "\n",
    "<main>\n",
    "<article><p>That's the right answer!  You are <span class=\"day-success\">one gold star</span> closer to restoring snow operations. <a href=\"/2023/day/6#part2\">[Continue to Part Two]</a></p></article>\n",
    "</main>\n"
   ]
  },
  {
   "cell_type": "markdown",
   "metadata": {},
   "source": [
    "<link href=\"style.css\" rel=\"stylesheet\"></link>\n",
    "\n",
    "<main>\n",
    "\n",
    "<p>Your puzzle answer was <code>281600</code>.</p><p class=\"day-success\">The first half of this puzzle is complete! It provides one gold star: *</p>\n",
    "<article class=\"day-desc\"><h2 id=\"part2\">--- Part Two ---</h2><p>As the race is about to start, you realize the piece of paper with race times and record distances you got earlier actually just has <span title=\"Keming!\">very bad</span> <a href=\"https://en.wikipedia.org/wiki/Kerning\" target=\"_blank\">kerning</a>. There's really <em>only one race</em> - ignore the spaces between the numbers on each line.</p>\n",
    "<p>So, the example from before:</p>\n",
    "<pre><code>Time:      7  15   30\n",
    "Distance:  9  40  200\n",
    "</code></pre>\n",
    "<p>...now instead means this:</p>\n",
    "<pre><code>Time:      71530\n",
    "Distance:  940200\n",
    "</code></pre>\n",
    "<p>Now, you have to figure out how many ways there are to win this single race. In this example, the race lasts for <em><code>71530</code> milliseconds</em> and the record distance you need to beat is <em><code>940200</code> millimeters</em>. You could hold the button anywhere from <code>14</code> to <code>71516</code> milliseconds and beat the record, a total of <code><em>71503</em></code> ways!</p>\n",
    "<p><em>How many ways can you beat the record in this one much longer race?</em></p>\n",
    "</article>\n",
    "<form method=\"post\" action=\"6/answer\"><input type=\"hidden\" name=\"level\" value=\"2\"><p>Answer: <input type=\"text\" name=\"answer\" autocomplete=\"off\"> <input type=\"submit\" value=\"[Submit]\"></p></form>\n",
    "<p>Although it hasn't changed, you can still <a href=\"6/input\" target=\"_blank\">get your puzzle input</a>.</p>\n",
    "<p>You can also <span class=\"share\">[Share<span class=\"share-content\">on\n",
    "  <a href=\"https://twitter.com/intent/tweet?text=I%27ve+completed+Part+One+of+%22Wait+For+It%22+%2D+Day+6+%2D+Advent+of+Code+2023&amp;url=https%3A%2F%2Fadventofcode%2Ecom%2F2023%2Fday%2F6&amp;related=ericwastl&amp;hashtags=AdventOfCode\" target=\"_blank\">Twitter</a>\n",
    "  <a href=\"javascript:void(0);\" onclick=\"var ms; try{ms=localStorage.getItem('mastodon.server')}finally{} if(typeof ms!=='string')ms=''; ms=prompt('Mastodon Server?',ms); if(typeof ms==='string' &amp;&amp; ms.length){this.href='https://'+ms+'/share?text=I%27ve+completed+Part+One+of+%22Wait+For+It%22+%2D+Day+6+%2D+Advent+of+Code+2023+%23AdventOfCode+https%3A%2F%2Fadventofcode%2Ecom%2F2023%2Fday%2F6';try{localStorage.setItem('mastodon.server',ms);}finally{}}else{return false;}\" target=\"_blank\">Mastodon</a></span>]</span> this puzzle.</p>\n",
    "</main>\n"
   ]
  },
  {
   "cell_type": "code",
   "execution_count": 37,
   "metadata": {},
   "outputs": [
    {
     "data": {
      "text/plain": [
       "33875953"
      ]
     },
     "execution_count": 37,
     "metadata": {},
     "output_type": "execute_result"
    }
   ],
   "source": [
    "races = \"\"\"\n",
    "Time:        47707566\n",
    "Distance:   282107911471062\n",
    "\"\"\"\n",
    "detrmine_ways_to_win_race(47707566, 282107911471062, range(14, 47707566 - 14 + 1))\n",
    "#  47707539"
   ]
  },
  {
   "cell_type": "markdown",
   "metadata": {},
   "source": [
    "<link href=\"style.css\" rel=\"stylesheet\"></link>\n",
    "\n",
    "<main>\n",
    "<article><p>That's the right answer!  You are <span class=\"day-success\">one gold star</span> closer to restoring snow operations.</p><p>You have completed Day 6! You can <span class=\"share\">[Share<span class=\"share-content\">on\n",
    "  <a href=\"https://twitter.com/intent/tweet?text=I+just+completed+%22Wait+For+It%22+%2D+Day+6+%2D+Advent+of+Code+2023&amp;url=https%3A%2F%2Fadventofcode%2Ecom%2F2023%2Fday%2F6&amp;related=ericwastl&amp;hashtags=AdventOfCode\" target=\"_blank\">Twitter</a>\n",
    "  <a href=\"javascript:void(0);\" onclick=\"var ms; try{ms=localStorage.getItem('mastodon.server')}finally{} if(typeof ms!=='string')ms=''; ms=prompt('Mastodon Server?',ms); if(typeof ms==='string' &amp;&amp; ms.length){this.href='https://'+ms+'/share?text=I+just+completed+%22Wait+For+It%22+%2D+Day+6+%2D+Advent+of+Code+2023+%23AdventOfCode+https%3A%2F%2Fadventofcode%2Ecom%2F2023%2Fday%2F6';try{localStorage.setItem('mastodon.server',ms);}finally{}}else{return false;}\" target=\"_blank\">Mastodon</a></span>]</span> this victory or <a href=\"/2023\">[Return to Your Advent Calendar]</a>.</p></article>\n",
    "</main>\n"
   ]
  },
  {
   "cell_type": "code",
   "execution_count": null,
   "metadata": {},
   "outputs": [],
   "source": []
  }
 ],
 "metadata": {
  "kernelspec": {
   "display_name": ".venv",
   "language": "python",
   "name": "python3"
  },
  "language_info": {
   "codemirror_mode": {
    "name": "ipython",
    "version": 3
   },
   "file_extension": ".py",
   "mimetype": "text/x-python",
   "name": "python",
   "nbconvert_exporter": "python",
   "pygments_lexer": "ipython3",
   "version": "3.12.0"
  }
 },
 "nbformat": 4,
 "nbformat_minor": 2
}
