{
 "cells": [
  {
   "cell_type": "code",
   "execution_count": 1,
   "metadata": {},
   "outputs": [],
   "source": [
    "# %matplotlib widget\n",
    "\n",
    "from __future__ import annotations\n",
    "\n",
    "import re\n",
    "from collections import defaultdict\n",
    "from dataclasses import dataclass, field\n",
    "from itertools import permutations, product\n",
    "from math import inf\n",
    "from random import choice\n",
    "\n",
    "import matplotlib.colors as mcolors\n",
    "import matplotlib.pyplot as plt\n",
    "import networkx as nx\n",
    "import numpy as np\n",
    "import numpy.typing as npt\n",
    "from mpl_toolkits.mplot3d import axes3d\n",
    "from numpy import int_, object_\n",
    "from numpy.typing import NDArray\n",
    "from test_utilities import run_tests_params\n",
    "from util import print_hex\n",
    "\n",
    "COLORS = list(mcolors.CSS4_COLORS.keys())"
   ]
  },
  {
   "cell_type": "markdown",
   "metadata": {},
   "source": [
    "<link href=\"style.css\" rel=\"stylesheet\"></link>\n",
    "<article class=\"day-desc read-aloud\"><h2>--- Day 24: It Hangs in the Balance ---</h2><p>It's Christmas Eve, and Santa is loading up the sleigh for this year's deliveries.  However, there's one small problem: he can't get the sleigh to balance.  If it isn't balanced, he can't defy physics, and nobody gets presents this year.</p>\n",
    "<p>No pressure.</p>\n",
    "<p>Santa has provided you a list of the weights of every package he needs to fit on the sleigh.  The packages need to be split into <em>three groups of exactly the same weight</em>, and every package has to fit.  The first group goes in the passenger compartment of the sleigh, and the second and third go in containers on either side.  Only when all three groups weigh exactly the same amount will the sleigh be able to fly.  Defying physics has rules, you know!</p>\n",
    "<p>Of course, that's not the only problem.  The first group - the one going in the passenger compartment - needs <em>as few packages as possible</em> so that Santa has some legroom left over.  It doesn't matter how many packages are in either of the other two groups, so long as all of the groups weigh the same.</p>\n",
    "<p>Furthermore, Santa tells you, if there are multiple ways to arrange the packages such that the fewest possible are in the first group, you need to choose the way where the first group has <em>the smallest quantum entanglement</em> to reduce the chance of any <span title=\"Santa does not elaborate on what he means by this, but the cringe he makes indicates that it wouldn't be pretty.\">\"complications\"</span>.  The quantum entanglement of a group of packages is the <a href=\"https://en.wikipedia.org/wiki/Product_%28mathematics%29\">product</a> of their weights, that is, the value you get when you multiply their weights together.  Only consider quantum entanglement if the first group has the fewest possible number of packages in it and all groups weigh the same amount.</p>\n",
    "<p>For example, suppose you have ten packages with weights <code>1</code> through <code>5</code> and <code>7</code> through <code>11</code>.  For this situation, some of the unique first groups, their quantum entanglements, and a way to divide the remaining packages are as follows:</p>\n",
    "<pre><code>Group 1;             Group 2; Group 3\n",
    "11 9       (QE= 99); 10 8 2;  7 5 4 3 1\n",
    "10 9 1     (QE= 90); 11 7 2;  8 5 4 3\n",
    "10 8 2     (QE=160); 11 9;    7 5 4 3 1\n",
    "10 7 3     (QE=210); 11 9;    8 5 4 2 1\n",
    "10 5 4 1   (QE=200); 11 9;    8 7 3 2\n",
    "10 5 3 2   (QE=300); 11 9;    8 7 4 1\n",
    "10 4 3 2 1 (QE=240); 11 9;    8 7 5\n",
    "9 8 3      (QE=216); 11 7 2;  10 5 4 1\n",
    "9 7 4      (QE=252); 11 8 1;  10 5 3 2\n",
    "9 5 4 2    (QE=360); 11 8 1;  10 7 3\n",
    "8 7 5      (QE=280); 11 9;    10 4 3 2 1\n",
    "8 5 4 3    (QE=480); 11 9;    10 7 2 1\n",
    "7 5 4 3 1  (QE=420); 11 9;    10 8 2\n",
    "</code></pre>\n",
    "<p>Of these, although <code>10 9 1</code> has the smallest quantum entanglement (<code>90</code>), the configuration with only two packages, <code>11 9</code>, in the passenger compartment gives Santa the most legroom and wins.  In this situation, the quantum entanglement for the ideal configuration is therefore <code>99</code>.  Had there been two configurations with only two packages in the first group, the one with the smaller quantum entanglement would be chosen.</p>\n",
    "<p>What is the <em>quantum entanglement</em> of the first group of packages in the ideal configuration?</p>\n",
    "</article>\n"
   ]
  },
  {
   "cell_type": "code",
   "execution_count": 2,
   "metadata": {},
   "outputs": [
    {
     "name": "stdout",
     "output_type": "stream",
     "text": [
      "((11, 9), (10, 8, 2), (7, 5, 4, 3, 1))\n"
     ]
    }
   ],
   "source": [
    "from copy import deepcopy\n",
    "from heapq import heappop, heappush\n",
    "from math import prod\n",
    "from typing import Generator, Iterable, Iterator\n",
    "from more_itertools import set_partitions, take\n",
    "\n",
    "\n",
    "weights = list(range(1, 5 + 1)) + list(range(7, 11 + 1))\n",
    "\n",
    "\n",
    "def pack_bf(weights: list[int]) -> list[list[int]]:\n",
    "    return min(\n",
    "        (\n",
    "            sorted((a, b, c), key=len)\n",
    "            for a, b, c in set_partitions(weights, 3)\n",
    "            if sum(a) == sum(b) == sum(c)\n",
    "        ),\n",
    "        key=lambda t: (len(t[0]), prod(t[0])),\n",
    "    )\n",
    "\n",
    "\n",
    "def pack(weights: list[int]):\n",
    "    heap = [(0, 1, 0, tuple(sorted(weights, reverse=True)), (tuple(), tuple()))]\n",
    "    target = sum(weights) // 3\n",
    "\n",
    "    while heap:\n",
    "        length, qe, gr, ws, groups = heappop(heap)\n",
    "        # print(length, qe, gr, groups[0], ws, groups[1])\n",
    "        som = sum(groups[gr])\n",
    "        if som == target:\n",
    "            if gr == 1:\n",
    "                return groups + (ws,)\n",
    "            heappush(heap, (length, qe, 1, ws, groups))\n",
    "        elif som < target:\n",
    "            for i, w in enumerate(ws):\n",
    "                if not groups[gr] or w <= groups[gr][-1]:\n",
    "                    if gr == 0:\n",
    "                        groups1 = (groups[0] + (w,), groups[1])\n",
    "                    else:\n",
    "                        groups1 = (groups[0], groups[1] + (w,))\n",
    "                    qe1 = qe if gr else qe * w\n",
    "                    l1 = length if gr else length + 1\n",
    "                    heappush(heap, (l1, qe1, gr, ws[:i] + ws[i + 1 :], groups1))\n",
    "\n",
    "\n",
    "# print(\"pack_bf\", pack_bf(weights))\n",
    "\n",
    "print(pack(weights))"
   ]
  },
  {
   "cell_type": "code",
   "execution_count": 3,
   "metadata": {},
   "outputs": [
    {
     "name": "stdout",
     "output_type": "stream",
     "text": [
      "Part I: 10439961859\n"
     ]
    }
   ],
   "source": [
    "weights_f = [\n",
    "    1,\n",
    "    3,\n",
    "    5,\n",
    "    11,\n",
    "    13,\n",
    "    17,\n",
    "    19,\n",
    "    23,\n",
    "    29,\n",
    "    31,\n",
    "    37,\n",
    "    41,\n",
    "    43,\n",
    "    47,\n",
    "    53,\n",
    "    59,\n",
    "    67,\n",
    "    71,\n",
    "    73,\n",
    "    79,\n",
    "    83,\n",
    "    89,\n",
    "    97,\n",
    "    101,\n",
    "    103,\n",
    "    107,\n",
    "    109,\n",
    "    113,\n",
    "]\n",
    "\n",
    "res = pack(weights_f)\n",
    "print(\"Part I:\", prod(res[0]))"
   ]
  },
  {
   "cell_type": "markdown",
   "metadata": {},
   "source": [
    "<link href=\"style.css\" rel=\"stylesheet\"></link>\n",
    "<main>\n",
    "\n",
    "<p>Your puzzle answer was <code>10439961859</code>.</p><p class=\"day-success\">The first half of this puzzle is complete! It provides one gold star: *</p>\n",
    "<article class=\"day-desc\"><h2 id=\"part2\">--- Part Two ---</h2><p>That's weird... the sleigh still isn't balancing.</p>\n",
    "<p>\"Ho ho ho\", Santa muses to himself. \"I forgot the trunk\".</p>\n",
    "<p>Balance the sleigh again, but this time, separate the packages into <em>four groups</em> instead of three.  The other constraints still apply.</p>\n",
    "<p>Given the example packages above, this would be some of the new unique first groups, their quantum entanglements, and one way to divide the remaining packages:</p>\n",
    "<pre><code>\n",
    "11 4    (QE=44); 10 5;   9 3 2 1; 8 7\n",
    "10 5    (QE=50); 11 4;   9 3 2 1; 8 7\n",
    "9 5 1   (QE=45); 11 4;   10 3 2;  8 7\n",
    "9 4 2   (QE=72); 11 3 1; 10 5;    8 7\n",
    "9 3 2 1 (QE=54); 11 4;   10 5;    8 7\n",
    "8 7     (QE=56); 11 4;   10 5;    9 3 2 1\n",
    "</code></pre>\n",
    "<p>Of these, there are three arrangements that put the minimum (two) number of packages in the first group: <code>11 4</code>, <code>10 5</code>, and <code>8 7</code>.  Of these, <code>11 4</code> has the lowest quantum entanglement, and so it is selected.</p>\n",
    "<p>Now, what is the <em>quantum entanglement</em> of the first group of packages in the ideal configuration?</p>\n",
    "</article>\n",
    "\n",
    "</main>\n"
   ]
  },
  {
   "cell_type": "code",
   "execution_count": 4,
   "metadata": {},
   "outputs": [
    {
     "name": "stdout",
     "output_type": "stream",
     "text": [
      "((11, 4), (10, 5), (9, 3, 2, 1), (8, 7))\n"
     ]
    }
   ],
   "source": [
    "def pack_II(weights: list[int]):\n",
    "    heap = [\n",
    "        (0, 1, 0, tuple(sorted(weights, reverse=True)), (tuple(), tuple(), tuple()))\n",
    "    ]\n",
    "    target = sum(weights) // 4\n",
    "\n",
    "    while heap:\n",
    "        length, qe, gr, ws, groups = heappop(heap)\n",
    "        # print(length, qe, gr, groups, ws)\n",
    "        som = sum(groups[gr])\n",
    "        if som == target:\n",
    "            if gr == 2:\n",
    "                return groups + (ws,)\n",
    "            heappush(heap, (length, qe, gr + 1, ws, groups))\n",
    "        elif som < target:\n",
    "            for i, w in enumerate(ws):\n",
    "                if not groups[gr] or w <= groups[gr][-1]:\n",
    "                    if gr == 0:\n",
    "                        groups1 = (groups[0] + (w,), groups[1], groups[2])\n",
    "                    elif gr == 1:\n",
    "                        groups1 = (groups[0], groups[1] + (w,), groups[2])\n",
    "                    else:\n",
    "                        groups1 = (groups[0], groups[1], groups[2] + (w,))\n",
    "                    qe1 = qe if gr else qe * w\n",
    "                    l1 = length if gr else length + 1\n",
    "                    heappush(heap, (l1, qe1, gr, ws[:i] + ws[i + 1 :], groups1))\n",
    "\n",
    "\n",
    "# print(\"pack_bf\", pack_bf(weights))\n",
    "\n",
    "print(pack_II(weights))"
   ]
  },
  {
   "cell_type": "code",
   "execution_count": 5,
   "metadata": {},
   "outputs": [
    {
     "name": "stdout",
     "output_type": "stream",
     "text": [
      "Part I: 72050269\n"
     ]
    }
   ],
   "source": [
    "res = pack_II(weights_f)\n",
    "print(\"Part I:\", prod(res[0]))"
   ]
  },
  {
   "cell_type": "markdown",
   "metadata": {},
   "source": [
    "<link href=\"style.css\" rel=\"stylesheet\"></link>\n",
    "<main>\n",
    "\n",
    "<p>Your puzzle answer was <code>72050269</code>.</p><p class=\"day-success\">Both parts of this puzzle are complete! They provide two gold stars: **</p>\n",
    "<p>At this point, you should <a href=\"/2015\">return to your Advent calendar</a> and try another puzzle.</p>\n",
    "<p>If you still want to see it, you can <a href=\"24/input\" target=\"_blank\">get your puzzle input</a>.</p>\n",
    "<p>You can also <span class=\"share\">[Share<span class=\"share-content\">on\n",
    "  <a href=\"https://twitter.com/intent/tweet?text=I%27ve+completed+%22It+Hangs+in+the+Balance%22+%2D+Day+24+%2D+Advent+of+Code+2015&amp;url=https%3A%2F%2Fadventofcode%2Ecom%2F2015%2Fday%2F24&amp;related=ericwastl&amp;hashtags=AdventOfCode\" target=\"_blank\">Twitter</a>\n",
    "  <a href=\"javascript:void(0);\" onclick=\"var ms; try{ms=localStorage.getItem('mastodon.server')}finally{} if(typeof ms!=='string')ms=''; ms=prompt('Mastodon Server?',ms); if(typeof ms==='string' &amp;&amp; ms.length){this.href='https://'+ms+'/share?text=I%27ve+completed+%22It+Hangs+in+the+Balance%22+%2D+Day+24+%2D+Advent+of+Code+2015+%23AdventOfCode+https%3A%2F%2Fadventofcode%2Ecom%2F2015%2Fday%2F24';try{localStorage.setItem('mastodon.server',ms);}finally{}}else{return false;}\" target=\"_blank\">Mastodon</a></span>]</span> this puzzle.</p>\n",
    "</main>\n"
   ]
  },
  {
   "cell_type": "markdown",
   "metadata": {},
   "source": [
    "Argument of type \"list[tuple[Literal[0], Literal[1], Literal[0], tuple[int, ...], tuple[tuple[int, ...], tuple[int, ...]]]]\" cannot be assigned to parameter \"\\_\\_heap\" of type \"list[_T@heappush]\" in function \"heappush\"\n",
    "\"list[tuple[Literal[0], Literal[1], Literal[0], tuple[int, ...], tuple[tuple[int, ...], tuple[int, ...]]]]\" is incompatible with \"list[tuple[Literal[0], Literal[1], Literal[0], tuple[int, ...], tuple[tuple[int, ...], tuple[int, ...]]] | tuple[Literal[0], Literal[1], Literal[1], tuple[int, ...], tuple[tuple[int, ...], tuple[int, ...]]]]\"\n",
    "Type parameter \"\\_T@list\" is invariant, but \"tuple[Literal[0], Literal[1], Literal[0], tuple[int, ...], tuple[tuple[int, ...], tuple[int, ...]]]\" is not the same as \"tuple[Literal[0], Literal[1], Literal[0], tuple[int, ...], tuple[tuple[int, ...], tuple[int, ...]]] | tuple[Literal[0], Literal[1], Literal[1], tuple[int, ...],\n",
    "\n",
    "list[tuple[Literal[0], Literal[1], Literal[0], tuple[int, ...], tuple[tuple[int, ...], tuple[int, ...]]]]\n",
    "list[tuple[Literal[0], Literal[1], Literal[0], tuple[int, ...], tuple[tuple[int, ...], tuple[int, ...]]] | tuple[Literal[0], Literal[1], Literal[1], tuple[int, ...], tuple[tuple[int, ...], tuple[int, ...]]]]\n"
   ]
  }
 ],
 "metadata": {
  "kernelspec": {
   "display_name": ".venv",
   "language": "python",
   "name": "python3"
  },
  "language_info": {
   "codemirror_mode": {
    "name": "ipython",
    "version": 3
   },
   "file_extension": ".py",
   "mimetype": "text/x-python",
   "name": "python",
   "nbconvert_exporter": "python",
   "pygments_lexer": "ipython3",
   "version": "3.12.0"
  }
 },
 "nbformat": 4,
 "nbformat_minor": 2
}
