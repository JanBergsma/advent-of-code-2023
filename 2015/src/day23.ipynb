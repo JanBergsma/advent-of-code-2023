{
 "cells": [
  {
   "cell_type": "code",
   "execution_count": 16,
   "metadata": {},
   "outputs": [],
   "source": [
    "# %matplotlib widget\n",
    "\n",
    "from __future__ import annotations\n",
    "\n",
    "import re\n",
    "from collections import defaultdict\n",
    "from dataclasses import dataclass, field\n",
    "from itertools import permutations, product\n",
    "from math import inf\n",
    "from random import choice\n",
    "\n",
    "import matplotlib.colors as mcolors\n",
    "import matplotlib.pyplot as plt\n",
    "import networkx as nx\n",
    "import numpy as np\n",
    "import numpy.typing as npt\n",
    "from mpl_toolkits.mplot3d import axes3d\n",
    "from numpy import int_, object_\n",
    "from numpy.typing import NDArray\n",
    "from test_utilities import run_tests_params\n",
    "from util import print_hex\n",
    "\n",
    "COLORS = list(mcolors.CSS4_COLORS.keys())"
   ]
  },
  {
   "cell_type": "markdown",
   "metadata": {},
   "source": [
    "<link href=\"style.css\" rel=\"stylesheet\"></link>\n",
    "<article class=\"day-desc read-aloud\"><h2>--- Day 23: Opening the Turing Lock ---</h2><p>Little Jane Marie just got her very first computer for Christmas from some <span title=\"Definitely not Wintermute.\">unknown benefactor</span>.  It comes with instructions and an example program, but the computer itself seems to be malfunctioning.  She's curious what the program does, and would like you to help her run it.</p>\n",
    "<p>The manual explains that the computer supports two <a href=\"https://en.wikipedia.org/wiki/Processor_register\">registers</a> and six <a href=\"https://en.wikipedia.org/wiki/Instruction_set\">instructions</a> (truly, it goes on to remind the reader, a state-of-the-art technology). The registers are named <code>a</code> and <code>b</code>, can hold any <a href=\"https://en.wikipedia.org/wiki/Natural_number\">non-negative integer</a>, and begin with a value of <code>0</code>.  The instructions are as follows:</p>\n",
    "<ul>\n",
    "<li><code>hlf r</code> sets register <code>r</code> to <em>half</em> its current value, then continues with the next instruction.</li>\n",
    "<li><code>tpl r</code> sets register <code>r</code> to <em>triple</em> its current value, then continues with the next instruction.</li>\n",
    "<li><code>inc r</code> <em>increments</em> register <code>r</code>, adding <code>1</code> to it, then continues with the next instruction.</li>\n",
    "<li><code>jmp offset</code> is a <em>jump</em>; it continues with the instruction <code>offset</code> away <em>relative to itself</em>.</li>\n",
    "<li><code>jie r, offset</code> is like <code>jmp</code>, but only jumps if register <code>r</code> is <em>even</em> (\"jump if even\").</li>\n",
    "<li><code>jio r, offset</code> is like <code>jmp</code>, but only jumps if register <code>r</code> is <code>1</code> (\"jump if <em>one</em>\", not odd).</li>\n",
    "</ul>\n",
    "<p>All three jump instructions work with an <em>offset</em> relative to that instruction.  The offset is always written with a prefix <code>+</code> or <code>-</code> to indicate the direction of the jump (forward or backward, respectively).  For example, <code>jmp +1</code> would simply continue with the next instruction, while <code>jmp +0</code> would continuously jump back to itself forever.</p>\n",
    "<p>The program exits when it tries to run an instruction beyond the ones defined.</p>\n",
    "<p>For example, this program sets <code>a</code> to <code>2</code>, because the <code>jio</code> instruction causes it to skip the <code>tpl</code> instruction:</p>\n",
    "<pre><code>inc a\n",
    "jio a, +2\n",
    "tpl a\n",
    "inc a\n",
    "</code></pre>\n",
    "<p>What is <em>the value in register <code>b</code></em> when the program in your puzzle input is finished executing?</p>\n",
    "</article>\n"
   ]
  },
  {
   "cell_type": "code",
   "execution_count": 106,
   "metadata": {},
   "outputs": [],
   "source": [
    "programm = \"\"\"\n",
    "inc a\n",
    "jio a, +2\n",
    "tpl a\n",
    "inc a\n",
    "\"\"\"\n",
    "\n",
    "\n",
    "@dataclass\n",
    "class Instruction:\n",
    "    instruction: str\n",
    "    register: str\n",
    "\n",
    "\n",
    "@dataclass\n",
    "class Jump:\n",
    "    instruction: str\n",
    "    offset: int\n",
    "\n",
    "\n",
    "@dataclass\n",
    "class ConditionalJump:\n",
    "    instruction: str\n",
    "    register: str\n",
    "    offset: int\n",
    "\n",
    "\n",
    "class TurningMachine:\n",
    "    def __init__(self, programm: str) -> None:\n",
    "        self.registers = {\"a\": 0, \"b\": 0}\n",
    "        self.programm = self._parse(programm)\n",
    "\n",
    "    def _parse(self, programm: str):\n",
    "        return [self._parse_step(step) for step in programm.strip().splitlines()]\n",
    "\n",
    "    def _parse_step(self, step: str) -> Instruction | Jump | ConditionalJump:\n",
    "        match (step[:3]):\n",
    "            case \"hlf\" | \"tpl\" | \"tpl\" | \"inc\":\n",
    "                return Instruction(step[:3], step[4:])\n",
    "            case \"jmp\":\n",
    "                return Jump(step[:3], int(step[4:]))\n",
    "            case \"jie\" | \"jio\":\n",
    "                return ConditionalJump(step[:3], step[4:5], int(step[6:]))\n",
    "            case _:\n",
    "                return Instruction(step[:3], step[4:5])\n",
    "\n",
    "    def process(self):\n",
    "        counter = 0\n",
    "        while 0 <= counter < len(self.programm):\n",
    "            match self.programm[counter]:\n",
    "                case Instruction(instruction=\"hlf\", register=register):\n",
    "                    # hlf r sets register r to half its current value,\n",
    "                    self.registers[register] //= 2\n",
    "                    # then continues with the next instruction.\n",
    "                    counter += 1\n",
    "                case Instruction(instruction=\"tpl\", register=register):\n",
    "                    # tpl r sets register r to triple its current value,\n",
    "                    self.registers[register] *= 3\n",
    "                    # then continues with the next instruction.\n",
    "                    counter += 1\n",
    "                case Instruction(instruction=\"inc\", register=register):\n",
    "                    # inc r increments register r, adding 1 to it,\n",
    "                    self.registers[register] += 1\n",
    "                    # then continues with the next instruction.\n",
    "                    counter += 1\n",
    "                case Jump(instruction=\"jmp\", offset=offset):\n",
    "                    # jmp offset is a jump;\n",
    "                    # it continues with the instruction offset away relative to itself.\n",
    "                    counter += int(offset)\n",
    "                case ConditionalJump(\n",
    "                    instruction=\"jie\", register=register, offset=offset\n",
    "                ):\n",
    "                    # jie r, offset is like jmp,\n",
    "                    # but only jumps if register r is even (\"jump if even\").\n",
    "                    if self.registers[register] % 2 == 0:\n",
    "                        counter += offset\n",
    "                    else:\n",
    "                        counter += 1\n",
    "                case ConditionalJump(\n",
    "                    instruction=\"jio\", register=register, offset=offset\n",
    "                ):\n",
    "                    # jio r, offset is like jmp,\n",
    "                    # but only jumps if register r is 1 (\"jump if one\", not odd).\n",
    "                    if self.registers[register] == 1:\n",
    "                        counter += offset\n",
    "                    else:\n",
    "                        counter += 1\n",
    "                case _:\n",
    "                    raise ValueError(f\"Unknown instruction {self.programm[counter]}!\")\n",
    "\n",
    "    def __repr__(self) -> str:\n",
    "        return f\"TurningMachine{self.registers}\"\n",
    "\n",
    "\n",
    "tm = TurningMachine(programm)\n",
    "tm.process()\n",
    "assert tm.registers == {\"a\": 2, \"b\": 0}"
   ]
  },
  {
   "cell_type": "code",
   "execution_count": 107,
   "metadata": {},
   "outputs": [],
   "source": [
    "programm = \"\"\"\n",
    "inc a\n",
    "inc a\n",
    "tpl a\n",
    "\"\"\"\n",
    "tm = TurningMachine(programm)\n",
    "tm.process()\n",
    "assert tm.registers == {\"a\": 6, \"b\": 0}"
   ]
  },
  {
   "cell_type": "code",
   "execution_count": 108,
   "metadata": {},
   "outputs": [],
   "source": [
    "programm = \"\"\"\n",
    "inc a\n",
    "jmp +2\n",
    "inc a\n",
    "tpl a\n",
    "\"\"\"\n",
    "tm = TurningMachine(programm)\n",
    "tm.process()\n",
    "assert tm.registers == {\"a\": 3, \"b\": 0}"
   ]
  },
  {
   "cell_type": "code",
   "execution_count": 109,
   "metadata": {},
   "outputs": [],
   "source": [
    "programm = \"\"\"\n",
    "inc a\n",
    "jie a -1\n",
    "inc a\n",
    "tpl a\n",
    "\"\"\"\n",
    "tm = TurningMachine(programm)\n",
    "tm.process()\n",
    "assert tm.registers == {\"a\": 6, \"b\": 0}"
   ]
  },
  {
   "cell_type": "code",
   "execution_count": 110,
   "metadata": {},
   "outputs": [],
   "source": [
    "programm = \"\"\"\n",
    "inc a\n",
    "jio a -1\n",
    "inc a\n",
    "tpl a\n",
    "\"\"\"\n",
    "tm = TurningMachine(programm)\n",
    "tm.process()\n",
    "assert tm.registers == {\"a\": 9, \"b\": 0}"
   ]
  },
  {
   "cell_type": "code",
   "execution_count": 111,
   "metadata": {},
   "outputs": [],
   "source": [
    "programm = \"\"\"\n",
    "inc a\n",
    "jie a -1\n",
    "inc a\n",
    "tpl a\n",
    "\"\"\"\n",
    "tm = TurningMachine(programm)\n",
    "tm.process()\n",
    "assert tm.registers == {\"a\": 6, \"b\": 0}"
   ]
  },
  {
   "cell_type": "code",
   "execution_count": 112,
   "metadata": {},
   "outputs": [],
   "source": [
    "programm = \"\"\"\n",
    "inc a\n",
    "jie a -1\n",
    "inc a\n",
    "tpl a\n",
    "hlf a\n",
    "\"\"\"\n",
    "tm = TurningMachine(programm)\n",
    "tm.process()\n",
    "assert tm.registers == {\"a\": 3, \"b\": 0}"
   ]
  },
  {
   "cell_type": "code",
   "execution_count": 113,
   "metadata": {},
   "outputs": [
    {
     "data": {
      "text/plain": [
       "TurningMachine{'a': 1, 'b': 307}"
      ]
     },
     "execution_count": 113,
     "metadata": {},
     "output_type": "execute_result"
    }
   ],
   "source": [
    "with open(\"../input/day23.txt\") as f:\n",
    "    tmf = TurningMachine(f.read())\n",
    "tmf.process()\n",
    "tmf"
   ]
  },
  {
   "cell_type": "markdown",
   "metadata": {},
   "source": [
    "<link href=\"style.css\" rel=\"stylesheet\"></link>\n",
    "<main>\n",
    "\n",
    "<p>Your puzzle answer was <code>307</code>.</p><p class=\"day-success\">The first half of this puzzle is complete! It provides one gold star: *</p>\n",
    "<article class=\"day-desc\"><h2 id=\"part2\">--- Part Two ---</h2><p>The unknown benefactor is <em>very</em> thankful for releasi-- er, helping little Jane Marie with her computer.  Definitely not to distract you, what is the value in register <code>b</code> after the program is finished executing if register <code>a</code> starts as <code>1</code> instead?</p>\n",
    "</article>\n",
    "\n",
    "</main>\n"
   ]
  },
  {
   "cell_type": "code",
   "execution_count": 114,
   "metadata": {},
   "outputs": [
    {
     "data": {
      "text/plain": [
       "TurningMachine{'a': 1, 'b': 160}"
      ]
     },
     "execution_count": 114,
     "metadata": {},
     "output_type": "execute_result"
    }
   ],
   "source": [
    "with open(\"../input/day23.txt\") as f:\n",
    "    tmf = TurningMachine(f.read())\n",
    "tmf.registers[\"a\"] = 1\n",
    "tmf.process()\n",
    "tmf"
   ]
  },
  {
   "cell_type": "markdown",
   "metadata": {},
   "source": [
    "<link href=\"style.css\" rel=\"stylesheet\"></link>\n",
    "<main>\n",
    "\n",
    "<p>Your puzzle answer was <code>160</code>.</p><p class=\"day-success\">Both parts of this puzzle are complete! They provide two gold stars: **</p>\n",
    "<p>At this point, you should <a href=\"/2015\">return to your Advent calendar</a> and try another puzzle.</p>\n",
    "<p>If you still want to see it, you can <a href=\"23/input\" target=\"_blank\">get your puzzle input</a>.</p>\n",
    "<p>You can also <span class=\"share\">[Share<span class=\"share-content\">on\n",
    "  <a href=\"https://twitter.com/intent/tweet?text=I%27ve+completed+%22Opening+the+Turing+Lock%22+%2D+Day+23+%2D+Advent+of+Code+2015&amp;url=https%3A%2F%2Fadventofcode%2Ecom%2F2015%2Fday%2F23&amp;related=ericwastl&amp;hashtags=AdventOfCode\" target=\"_blank\">Twitter</a>\n",
    "  <a href=\"javascript:void(0);\" onclick=\"var ms; try{ms=localStorage.getItem('mastodon.server')}finally{} if(typeof ms!=='string')ms=''; ms=prompt('Mastodon Server?',ms); if(typeof ms==='string' &amp;&amp; ms.length){this.href='https://'+ms+'/share?text=I%27ve+completed+%22Opening+the+Turing+Lock%22+%2D+Day+23+%2D+Advent+of+Code+2015+%23AdventOfCode+https%3A%2F%2Fadventofcode%2Ecom%2F2015%2Fday%2F23';try{localStorage.setItem('mastodon.server',ms);}finally{}}else{return false;}\" target=\"_blank\">Mastodon</a></span>]</span> this puzzle.</p>\n",
    "</main>\n"
   ]
  },
  {
   "cell_type": "code",
   "execution_count": null,
   "metadata": {},
   "outputs": [],
   "source": []
  }
 ],
 "metadata": {
  "kernelspec": {
   "display_name": ".venv",
   "language": "python",
   "name": "python3"
  },
  "language_info": {
   "codemirror_mode": {
    "name": "ipython",
    "version": 3
   },
   "file_extension": ".py",
   "mimetype": "text/x-python",
   "name": "python",
   "nbconvert_exporter": "python",
   "pygments_lexer": "ipython3",
   "version": "3.12.0"
  }
 },
 "nbformat": 4,
 "nbformat_minor": 2
}
