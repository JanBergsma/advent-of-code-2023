{
 "cells": [
  {
   "cell_type": "code",
   "execution_count": 39,
   "metadata": {},
   "outputs": [],
   "source": [
    "import re\n",
    "from test_utilities import run_tests_params"
   ]
  },
  {
   "cell_type": "markdown",
   "metadata": {},
   "source": [
    "<link href=\"style.css\" rel=\"stylesheet\"></link>\n",
    "<article class=\"day-desc\"><h2>--- Day 5: Doesn't He Have Intern-Elves For This? ---</h2><p>Santa needs help figuring out which strings in his text file are naughty or nice.</p>\n",
    "<p>A <em>nice string</em> is one with all of the following properties:</p>\n",
    "<ul>\n",
    "<li>It contains at least three vowels (<code>aeiou</code> only), like <code>aei</code>, <code>xazegov</code>, or <code title=\"John Madden John Madden John Madden\">aeiouaeiouaeiou</code>.</li>\n",
    "<li>It contains at least one letter that appears twice in a row, like <code>xx</code>, <code>abcdde</code> (<code>dd</code>), or <code>aabbccdd</code> (<code>aa</code>, <code>bb</code>, <code>cc</code>, or <code>dd</code>).</li>\n",
    "<li>It does <em>not</em> contain the strings <code>ab</code>, <code>cd</code>, <code>pq</code>, or <code>xy</code>, even if they are part of one of the other requirements.</li>\n",
    "</ul>\n",
    "<p>For example:</p>\n",
    "<ul>\n",
    "<li><code>ugknbfddgicrmopn</code> is nice because it has at least three vowels (<code>u...i...o...</code>), a double letter (<code>...dd...</code>), and none of the disallowed substrings.</li>\n",
    "<li><code>aaa</code> is nice because it has at least three vowels and a double letter, even though the letters used by different rules overlap.</li>\n",
    "<li><code>jchzalrnumimnmhp</code> is naughty because it has no double letter.</li>\n",
    "<li><code>haegwjzuvuyypxyu</code> is naughty because it contains the string <code>xy</code>.</li>\n",
    "<li><code>dvszwmarrgswjxmb</code> is naughty because it contains only one vowel.</li>\n",
    "</ul>\n",
    "<p>How many strings are nice?</p>\n",
    "</article>\n"
   ]
  },
  {
   "cell_type": "code",
   "execution_count": 40,
   "metadata": {},
   "outputs": [
    {
     "name": "stdout",
     "output_type": "stream",
     "text": [
      "\n",
      "\u001b[32mTest Example 1 passed, for nice.\u001b[0m\n",
      "\u001b[32mTest Example 2 passed, for nice.\u001b[0m\n",
      "\u001b[32mTest Example 3 passed, for nice.\u001b[0m\n",
      "\u001b[32mTest Example 4 passed, for nice.\u001b[0m\n",
      "\u001b[32mTest Example 5 passed, for nice.\u001b[0m\n",
      "\u001b[32mSuccess\u001b[0m\n"
     ]
    }
   ],
   "source": [
    "tests = [\n",
    "    {\n",
    "        \"name\": \"Example 1\",\n",
    "        \"s\": \"ugknbfddgicrmopn\",\n",
    "        \"expected\": True,\n",
    "    },\n",
    "    {\n",
    "        \"name\": \"Example 2\",\n",
    "        \"s\": \"aaa\",\n",
    "        \"expected\": True,\n",
    "    },\n",
    "    {\n",
    "        \"name\": \"Example 3\",\n",
    "        \"s\": \"jchzalrnumimnmhp\",\n",
    "        \"expected\": False,\n",
    "    },\n",
    "    {\n",
    "        \"name\": \"Example 4\",\n",
    "        \"s\": \"haegwjzuvuyypxyu\",\n",
    "        \"expected\": False,\n",
    "    },\n",
    "    {\n",
    "        \"name\": \"Example 5\",\n",
    "        \"s\": \"dvszwmarrgswjxmb\",\n",
    "        \"expected\": False,\n",
    "    },\n",
    "]\n",
    "\n",
    "\n",
    "def nice(s: str) -> bool:\n",
    "    # It contains at least three vowels (aeiou only)\n",
    "    vowels = r\"[a|e|i|o|u]\"\n",
    "    if len(re.findall(vowels, s)) < 3:\n",
    "        return False\n",
    "    # It contains at least one letter that appears twice in a row\n",
    "    double_vowels = r\"(.)\\1\"\n",
    "    if re.search(double_vowels, s) is None:\n",
    "        return False\n",
    "    # It does not contain the strings ab, cd, pq, or xy\n",
    "    illegal = r\"ab|cd|pq|xy\"\n",
    "    return re.search(illegal, s) is None\n",
    "\n",
    "\n",
    "run_tests_params(nice, tests)"
   ]
  },
  {
   "cell_type": "code",
   "execution_count": 41,
   "metadata": {},
   "outputs": [],
   "source": [
    "s = \"\"\"\n",
    "ugknbfddgicrmopn\n",
    "aaa\n",
    "jchzalrnumimnmhp\n",
    "haegwjzuvuyypxyu\n",
    "dvszwmarrgswjxmb\n",
    "\"\"\"\n",
    "\n",
    "\n",
    "def count_nice(s: str) -> int:\n",
    "    return sum(1 for l in s.strip().splitlines() if nice(l))\n",
    "\n",
    "\n",
    "assert count_nice(s) == 2"
   ]
  },
  {
   "cell_type": "code",
   "execution_count": 42,
   "metadata": {},
   "outputs": [
    {
     "name": "stdout",
     "output_type": "stream",
     "text": [
      "238\n"
     ]
    }
   ],
   "source": [
    "with open(\"../input/day5.txt\") as f:\n",
    "    print(count_nice(f.read()))"
   ]
  },
  {
   "cell_type": "markdown",
   "metadata": {},
   "source": [
    "<link href=\"style.css\" rel=\"stylesheet\"></link>\n",
    "<main>\n",
    "\n",
    "<p>Your puzzle answer was <code>238</code>.</p><p class=\"day-success\">The first half of this puzzle is complete! It provides one gold star: *</p>\n",
    "<article class=\"day-desc\"><h2 id=\"part2\">--- Part Two ---</h2><p>Realizing the error of his ways, Santa has switched to a better model of determining whether a string is naughty or nice.  None of the old rules apply, as they are all clearly ridiculous.</p>\n",
    "<p>Now, a nice string is one with all of the following properties:</p>\n",
    "<ul>\n",
    "<li>It contains a pair of any two letters that appears at least twice in the string without overlapping, like <code>xyxy</code> (<code>xy</code>) or <code>aabcdefgaa</code> (<code>aa</code>), but not like <code>aaa</code> (<code>aa</code>, but it overlaps).</li>\n",
    "<li>It contains at least one letter which repeats with exactly one letter between them, like <code>xyx</code>, <code>abcdefeghi</code> (<code>efe</code>), or even <code>aaa</code>.</li>\n",
    "</ul>\n",
    "<p>For example:</p>\n",
    "<ul>\n",
    "<li><code>qjhvhtzxzqqjkmpb</code> is nice because is has a pair that appears twice (<code>qj</code>) and a letter that repeats with exactly one letter between them (<code>zxz</code>).</li>\n",
    "<li><code>xxyxx</code> is nice because it has a pair that appears twice and a letter that repeats with one between, even though the letters used by each rule overlap.</li>\n",
    "<li><code>uurcxstgmygtbstg</code> is naughty because it has a pair (<code>tg</code>) but no repeat with a single letter between them.</li>\n",
    "<li><code>ieodomkazucvgmuy</code> is naughty because it has a repeating letter with one between (<code>odo</code>), but no pair that appears twice.</li>\n",
    "</ul>\n",
    "<p>How many strings are nice under these new rules?</p>\n",
    "</article>\n",
    "</main>\n"
   ]
  },
  {
   "cell_type": "code",
   "execution_count": 43,
   "metadata": {},
   "outputs": [
    {
     "name": "stdout",
     "output_type": "stream",
     "text": [
      "\n",
      "\u001b[32mTest Example 1 passed, for nice_II.\u001b[0m\n",
      "\u001b[32mTest Example 2 passed, for nice_II.\u001b[0m\n",
      "\u001b[32mTest Example 3 passed, for nice_II.\u001b[0m\n",
      "\u001b[32mTest Example 4 passed, for nice_II.\u001b[0m\n",
      "\u001b[32mSuccess\u001b[0m\n"
     ]
    }
   ],
   "source": [
    "from collections import defaultdict\n",
    "\n",
    "\n",
    "tests = [\n",
    "    {\n",
    "        \"name\": \"Example 1\",\n",
    "        \"s\": \"qjhvhtzxzqqjkmpb\",\n",
    "        \"expected\": True,\n",
    "    },\n",
    "    {\n",
    "        \"name\": \"Example 2\",\n",
    "        \"s\": \"xxyxx\",\n",
    "        \"expected\": True,\n",
    "    },\n",
    "    {\n",
    "        \"name\": \"Example 3\",\n",
    "        \"s\": \"uurcxstgmygtbstg\",\n",
    "        \"expected\": False,\n",
    "    },\n",
    "    {\n",
    "        \"name\": \"Example 4\",\n",
    "        \"s\": \"ieodomkazucvgmuy\",\n",
    "        \"expected\": False,\n",
    "    },\n",
    "]\n",
    "\n",
    "\n",
    "def at_least_one_non_overlapping_pair(s: str) -> bool:\n",
    "    indici = defaultdict(list)\n",
    "    for i in range(1, len(s)):\n",
    "        double = s[i - 1 : i + 1]\n",
    "        if double in indici:\n",
    "            for ii in indici[double]:\n",
    "                if i - ii > 1:\n",
    "                    return True\n",
    "        indici[double].append(i)\n",
    "    return False\n",
    "\n",
    "\n",
    "def at_least_one_repeating_letter_with_one_letter_in_between(\n",
    "    s: str,\n",
    ") -> bool:\n",
    "    for i in range(2, len(s)):\n",
    "        if s[i - 2] == s[i]:\n",
    "            return True\n",
    "    return False\n",
    "\n",
    "\n",
    "def nice_II(s: str) -> bool:\n",
    "    # It contains a pair of any two letters that appears at least\n",
    "    # twice in the string without overlapping,\n",
    "    # It contains at least one letter which repeats with exactly one letter between them\n",
    "    return at_least_one_repeating_letter_with_one_letter_in_between(\n",
    "        s\n",
    "    ) and at_least_one_non_overlapping_pair(s)\n",
    "\n",
    "\n",
    "run_tests_params(nice_II, tests)"
   ]
  },
  {
   "cell_type": "code",
   "execution_count": 44,
   "metadata": {},
   "outputs": [],
   "source": [
    "s = \"\"\"\n",
    "qjhvhtzxzqqjkmpb\n",
    "xxyxx\n",
    "uurcxstgmygtbstg\n",
    "ieodomkazucvgmuy\n",
    "\"\"\"\n",
    "\n",
    "\n",
    "def count_nice_II(s: str) -> int:\n",
    "    return sum(1 for l in s.strip().splitlines() if nice_II(l))\n",
    "\n",
    "\n",
    "assert count_nice_II(s) == 2"
   ]
  },
  {
   "cell_type": "code",
   "execution_count": 45,
   "metadata": {},
   "outputs": [
    {
     "name": "stdout",
     "output_type": "stream",
     "text": [
      "69\n"
     ]
    }
   ],
   "source": [
    "with open(\"../input/day5.txt\") as f:\n",
    "    print(count_nice_II(f.read()))"
   ]
  },
  {
   "cell_type": "markdown",
   "metadata": {},
   "source": [
    "<link href=\"style.css\" rel=\"stylesheet\"></link>\n",
    "\n",
    "<main>\n",
    "\n",
    "<p>Your puzzle answer was <code>69</code>.</p><p class=\"day-success\">Both parts of this puzzle are complete! They provide two gold stars: **</p>\n",
    "<p>At this point, you should <a href=\"/2015\">return to your Advent calendar</a> and try another puzzle.</p>\n",
    "<p>If you still want to see it, you can <a href=\"5/input\" target=\"_blank\">get your puzzle input</a>.</p>\n",
    "<p>You can also <span class=\"share\">[Share<span class=\"share-content\">on\n",
    "  <a href=\"https://twitter.com/intent/tweet?text=I%27ve+completed+%22Doesn%27t+He+Have+Intern%2DElves+For+This%3F%22+%2D+Day+5+%2D+Advent+of+Code+2015&amp;url=https%3A%2F%2Fadventofcode%2Ecom%2F2015%2Fday%2F5&amp;related=ericwastl&amp;hashtags=AdventOfCode\" target=\"_blank\">Twitter</a>\n",
    "  <a href=\"javascript:void(0);\" onclick=\"var ms; try{ms=localStorage.getItem('mastodon.server')}finally{} if(typeof ms!=='string')ms=''; ms=prompt('Mastodon Server?',ms); if(typeof ms==='string' &amp;&amp; ms.length){this.href='https://'+ms+'/share?text=I%27ve+completed+%22Doesn%27t+He+Have+Intern%2DElves+For+This%3F%22+%2D+Day+5+%2D+Advent+of+Code+2015+%23AdventOfCode+https%3A%2F%2Fadventofcode%2Ecom%2F2015%2Fday%2F5';try{localStorage.setItem('mastodon.server',ms);}finally{}}else{return false;}\" target=\"_blank\">Mastodon</a></span>]</span> this puzzle.</p>\n",
    "</main>\n"
   ]
  },
  {
   "cell_type": "code",
   "execution_count": null,
   "metadata": {},
   "outputs": [],
   "source": []
  }
 ],
 "metadata": {
  "kernelspec": {
   "display_name": ".venv",
   "language": "python",
   "name": "python3"
  },
  "language_info": {
   "codemirror_mode": {
    "name": "ipython",
    "version": 3
   },
   "file_extension": ".py",
   "mimetype": "text/x-python",
   "name": "python",
   "nbconvert_exporter": "python",
   "pygments_lexer": "ipython3",
   "version": "3.12.0"
  }
 },
 "nbformat": 4,
 "nbformat_minor": 2
}
