{
 "cells": [
  {
   "cell_type": "code",
   "execution_count": 22,
   "metadata": {},
   "outputs": [],
   "source": [
    "import re\n",
    "from test_utilities import run_tests_params"
   ]
  },
  {
   "cell_type": "markdown",
   "metadata": {},
   "source": [
    "<link href=\"style.css\" rel=\"stylesheet\"></link>\n",
    "<main>\n",
    "<article class=\"day-desc\"><h2>--- Day 1: Not Quite Lisp ---</h2><p>Santa was hoping for a white Christmas, but his weather machine's \"snow\" function is powered by stars, and he's fresh out!  To save Christmas, he needs you to collect <em class=\"star\">fifty stars</em> by December 25th.</p>\n",
    "<p>Collect stars by helping Santa solve puzzles.  Two puzzles will be made available on each day in the Advent calendar; the second puzzle is unlocked when you complete the first.  Each puzzle grants <em class=\"star\">one star</em>. <span title=\"Also, some puzzles contain Easter eggs like this one. Yes, I know it's not traditional to do Advent calendars for Easter.\">Good luck!</span></p>\n",
    "<p>Here's an easy puzzle to warm you up.</p>\n",
    "<p>Santa is trying to deliver presents in a large apartment building, but he can't find the right floor - the directions he got are a little confusing. He starts on the ground floor (floor <code>0</code>) and then follows the instructions one character at a time.</p>\n",
    "<p>An opening parenthesis, <code>(</code>, means he should go up one floor, and a closing parenthesis, <code>)</code>, means he should go down one floor.</p>\n",
    "<p>The apartment building is very tall, and the basement is very deep; he will never find the top or bottom floors.</p>\n",
    "<p>For example:</p>\n",
    "<ul>\n",
    "<li><code>(())</code> and <code>()()</code> both result in floor <code>0</code>.</li>\n",
    "<li><code>(((</code> and <code>(()(()(</code> both result in floor <code>3</code>.</li>\n",
    "<li><code>))(((((</code> also results in floor <code>3</code>.</li>\n",
    "<li><code>())</code> and <code>))(</code> both result in floor <code>-1</code> (the first basement level).</li>\n",
    "<li><code>)))</code> and <code>)())())</code> both result in floor <code>-3</code>.</li>\n",
    "</ul>\n",
    "<p>To <em>what floor</em> do the instructions take Santa?</p>\n",
    "</article>\n",
    "</main>\n"
   ]
  },
  {
   "cell_type": "code",
   "execution_count": 25,
   "metadata": {},
   "outputs": [
    {
     "name": "stdout",
     "output_type": "stream",
     "text": [
      "\n",
      "\u001b[32mTest Example 1 passed, for floor.\u001b[0m\n",
      "\u001b[32mTest Example 2 passed, for floor.\u001b[0m\n",
      "\u001b[32mTest Example 3 passed, for floor.\u001b[0m\n",
      "\u001b[32mTest Example 4 passed, for floor.\u001b[0m\n",
      "\u001b[32mTest Example 5 passed, for floor.\u001b[0m\n",
      "\u001b[32mTest Example 6 passed, for floor.\u001b[0m\n",
      "\u001b[32mTest Example 7 passed, for floor.\u001b[0m\n",
      "\u001b[32mTest Example 8 passed, for floor.\u001b[0m\n",
      "\u001b[32mTest Example 8 passed, for floor.\u001b[0m\n",
      "\u001b[32mSuccess\u001b[0m\n"
     ]
    }
   ],
   "source": [
    "tests = [\n",
    "    {\n",
    "        \"name\": \"Example 1\",\n",
    "        \"num\": \"(())\",\n",
    "        \"expected\": 0,\n",
    "    },\n",
    "    {\n",
    "        \"name\": \"Example 2\",\n",
    "        \"num\": \"()()\",\n",
    "        \"expected\": 0,\n",
    "    },\n",
    "    {\n",
    "        \"name\": \"Example 3\",\n",
    "        \"num\": \"(((\",\n",
    "        \"expected\": 3,\n",
    "    },\n",
    "    {\n",
    "        \"name\": \"Example 4\",\n",
    "        \"num\": \"(()(()(\",\n",
    "        \"expected\": 3,\n",
    "    },\n",
    "    {\n",
    "        \"name\": \"Example 5\",\n",
    "        \"num\": \"))(((((\",\n",
    "        \"expected\": 3,\n",
    "    },\n",
    "    {\n",
    "        \"name\": \"Example 6\",\n",
    "        \"num\": \"())\",\n",
    "        \"expected\": -1,\n",
    "    },\n",
    "    {\n",
    "        \"name\": \"Example 7\",\n",
    "        \"num\": \"))(\",\n",
    "        \"expected\": -1,\n",
    "    },\n",
    "    {\n",
    "        \"name\": \"Example 8\",\n",
    "        \"num\": \")))\",\n",
    "        \"expected\": -3,\n",
    "    },\n",
    "    {\n",
    "        \"name\": \"Example 8\",\n",
    "        \"num\": \")())())\",\n",
    "        \"expected\": -3,\n",
    "    },\n",
    "]\n",
    "\n",
    "\n",
    "def floor(num: str) -> int:\n",
    "    return num.count(\"(\") - num.count(\")\")\n",
    "\n",
    "\n",
    "run_tests_params(floor, tests)"
   ]
  },
  {
   "cell_type": "code",
   "execution_count": 26,
   "metadata": {},
   "outputs": [
    {
     "name": "stdout",
     "output_type": "stream",
     "text": [
      "280\n"
     ]
    }
   ],
   "source": [
    "with open(\"../input/day1.txt\") as f:\n",
    "    print(floor(f.read()))"
   ]
  },
  {
   "cell_type": "markdown",
   "metadata": {},
   "source": [
    "<link href=\"style.css\" rel=\"stylesheet\"></link>\n",
    "<main>\n",
    "\n",
    "<p>Your puzzle answer was <code>280</code>.</p><p class=\"day-success\">The first half of this puzzle is complete! It provides one gold star: *</p>\n",
    "<article class=\"day-desc\"><h2 id=\"part2\">--- Part Two ---</h2><p>Now, given the same instructions, find the <em>position</em> of the first character that causes him to enter the basement (floor <code>-1</code>).  The first character in the instructions has position <code>1</code>, the second character has position <code>2</code>, and so on.</p>\n",
    "<p>For example:</p>\n",
    "<ul>\n",
    "<li><code>)</code> causes him to enter the basement at character position <code>1</code>.</li>\n",
    "<li><code>()())</code> causes him to enter the basement at character position <code>5</code>.</li>\n",
    "</ul>\n",
    "<p>What is the <em>position</em> of the character that causes Santa to first enter the basement?</p>\n",
    "</article>\n",
    "\n",
    "</main>\n"
   ]
  },
  {
   "cell_type": "code",
   "execution_count": 28,
   "metadata": {},
   "outputs": [
    {
     "name": "stdout",
     "output_type": "stream",
     "text": [
      "\n",
      "\u001b[32mTest Example 1 passed, for floor.\u001b[0m\n",
      "\u001b[32mTest Example 2 passed, for floor.\u001b[0m\n",
      "\u001b[32mSuccess\u001b[0m\n"
     ]
    }
   ],
   "source": [
    "tests = [\n",
    "    {\n",
    "        \"name\": \"Example 1\",\n",
    "        \"num\": \")\",\n",
    "        \"expected\": 1,\n",
    "    },\n",
    "    {\n",
    "        \"name\": \"Example 2\",\n",
    "        \"num\": \"()())\",\n",
    "        \"expected\": 5,\n",
    "    },\n",
    "]\n",
    "\n",
    "\n",
    "# class Solution:\n",
    "#     @staticmethod\n",
    "\n",
    "\n",
    "def floor(num: str) -> int:\n",
    "    count = 0\n",
    "    for i, c in enumerate(num, start=1):\n",
    "        if c == \"(\":\n",
    "            count += 1\n",
    "        else:\n",
    "            count -= 1\n",
    "            if count == -1:\n",
    "                return i\n",
    "\n",
    "    return -1\n",
    "\n",
    "\n",
    "run_tests_params(floor, tests)"
   ]
  },
  {
   "cell_type": "code",
   "execution_count": 29,
   "metadata": {},
   "outputs": [
    {
     "name": "stdout",
     "output_type": "stream",
     "text": [
      "1797\n"
     ]
    }
   ],
   "source": [
    "with open(\"../input/day1.txt\") as f:\n",
    "    print(floor(f.read()))"
   ]
  },
  {
   "cell_type": "markdown",
   "metadata": {},
   "source": [
    "<link href=\"style.css\" rel=\"stylesheet\"></link>\n",
    "<main>\n",
    "\n",
    "<p>Your puzzle answer was <code>1797</code>.</p><p class=\"day-success\">Both parts of this puzzle are complete! They provide two gold stars: **</p>\n",
    "<p>At this point, you should <a href=\"/2015\">return to your Advent calendar</a> and try another puzzle.</p>\n",
    "<p>If you still want to see it, you can <a href=\"1/input\" target=\"_blank\">get your puzzle input</a>.</p>\n",
    "<p>You can also <span class=\"share\">[Share<span class=\"share-content\">on\n",
    "  <a href=\"https://twitter.com/intent/tweet?text=I%27ve+completed+%22Not+Quite+Lisp%22+%2D+Day+1+%2D+Advent+of+Code+2015&amp;url=https%3A%2F%2Fadventofcode%2Ecom%2F2015%2Fday%2F1&amp;related=ericwastl&amp;hashtags=AdventOfCode\" target=\"_blank\">Twitter</a>\n",
    "  <a href=\"javascript:void(0);\" onclick=\"var ms; try{ms=localStorage.getItem('mastodon.server')}finally{} if(typeof ms!=='string')ms=''; ms=prompt('Mastodon Server?',ms); if(typeof ms==='string' &amp;&amp; ms.length){this.href='https://'+ms+'/share?text=I%27ve+completed+%22Not+Quite+Lisp%22+%2D+Day+1+%2D+Advent+of+Code+2015+%23AdventOfCode+https%3A%2F%2Fadventofcode%2Ecom%2F2015%2Fday%2F1';try{localStorage.setItem('mastodon.server',ms);}finally{}}else{return false;}\" target=\"_blank\">Mastodon</a></span>]</span> this puzzle.</p>\n",
    "</main>\n"
   ]
  },
  {
   "cell_type": "code",
   "execution_count": null,
   "metadata": {},
   "outputs": [],
   "source": []
  }
 ],
 "metadata": {
  "kernelspec": {
   "display_name": ".venv",
   "language": "python",
   "name": "python3"
  },
  "language_info": {
   "codemirror_mode": {
    "name": "ipython",
    "version": 3
   },
   "file_extension": ".py",
   "mimetype": "text/x-python",
   "name": "python",
   "nbconvert_exporter": "python",
   "pygments_lexer": "ipython3",
   "version": "3.12.0"
  }
 },
 "nbformat": 4,
 "nbformat_minor": 2
}
