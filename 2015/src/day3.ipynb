{
 "cells": [
  {
   "cell_type": "code",
   "execution_count": 1,
   "metadata": {},
   "outputs": [],
   "source": [
    "import re\n",
    "from test_utilities import run_tests_params"
   ]
  },
  {
   "cell_type": "markdown",
   "metadata": {},
   "source": [
    "<link href=\"style.css\" rel=\"stylesheet\"></link>\n",
    "<article class=\"day-desc\"><h2>--- Day 3: Perfectly Spherical Houses in a Vacuum ---</h2><p>Santa is delivering presents to an infinite two-dimensional grid of houses.</p>\n",
    "<p>He begins by delivering a present to the house at his starting location, and then an elf at the North Pole calls him via radio and tells him where to move next.  Moves are always exactly one house to the north (<code>^</code>), south (<code>v</code>), east (<code>&gt;</code>), or west (<code>&lt;</code>).  After each move, he delivers another present to the house at his new location.</p>\n",
    "<p>However, the elf back at the north pole has had a little too much eggnog, and so his directions are a little off, and Santa ends up visiting some houses more than once.  How many houses receive <em>at least one present</em>?</p>\n",
    "<p>For example:</p>\n",
    "<ul>\n",
    "<li><code>&gt;</code> delivers presents to <code>2</code> houses: one at the starting location, and one to the east.</li>\n",
    "<li><code>^&gt;v&lt;</code> delivers presents to <code>4</code> houses in a square, including twice to the house at his starting/ending location.</li>\n",
    "<li><code>^v^v^v^v^v</code> delivers a bunch of presents to some very lucky children at only <code>2</code> houses.</li>\n",
    "</ul>\n",
    "</article>\n"
   ]
  },
  {
   "cell_type": "code",
   "execution_count": 4,
   "metadata": {},
   "outputs": [
    {
     "name": "stdout",
     "output_type": "stream",
     "text": [
      "\n",
      "\u001b[32mTest Example 1 passed, for houses.\u001b[0m\n",
      "\u001b[32mTest Example 1 passed, for houses.\u001b[0m\n",
      "\u001b[32mTest Example 1 passed, for houses.\u001b[0m\n",
      "\u001b[32mSuccess\u001b[0m\n"
     ]
    }
   ],
   "source": [
    "tests = [\n",
    "    {\n",
    "        \"name\": \"Example 1\",\n",
    "        \"ds\": \">\",\n",
    "        \"expected\": 2,\n",
    "    },\n",
    "    {\n",
    "        \"name\": \"Example 1\",\n",
    "        \"ds\": \"^>v<\",\n",
    "        \"expected\": 4,\n",
    "    },\n",
    "    {\n",
    "        \"name\": \"Example 1\",\n",
    "        \"ds\": \"^v^v^v^v^v\",\n",
    "        \"expected\": 2,\n",
    "    },\n",
    "]\n",
    "\n",
    "\n",
    "def houses(ds: str) -> int:\n",
    "    houses = {(0, 0)}\n",
    "    r, c = 0, 0\n",
    "    for d in ds:\n",
    "        if d == \">\":\n",
    "            c += 1\n",
    "        elif d == \"<\":\n",
    "            c -= 1\n",
    "        elif d == \"^\":\n",
    "            r -= 1\n",
    "        else:  # d == 'v':\n",
    "            r += 1\n",
    "        houses.add((r, c))\n",
    "\n",
    "    return len(houses)\n",
    "\n",
    "\n",
    "run_tests_params(houses, tests)"
   ]
  },
  {
   "cell_type": "code",
   "execution_count": 5,
   "metadata": {},
   "outputs": [
    {
     "name": "stdout",
     "output_type": "stream",
     "text": [
      "2565\n"
     ]
    }
   ],
   "source": [
    "with open(\"../input/day3.txt\") as f:\n",
    "    print(houses(f.read()))"
   ]
  },
  {
   "cell_type": "markdown",
   "metadata": {},
   "source": [
    "<link href=\"style.css\" rel=\"stylesheet\"></link>\n",
    "<main>\n",
    "\n",
    "<p>Your puzzle answer was <code>2565</code>.</p><p class=\"day-success\">The first half of this puzzle is complete! It provides one gold star: *</p>\n",
    "<article class=\"day-desc\"><h2 id=\"part2\">--- Part Two ---</h2><p>The next year, to speed up the process, Santa creates a robot version of himself, <em>Robo-Santa</em>, to deliver presents with him.</p>\n",
    "<p>Santa and Robo-Santa start at the same location (delivering two presents to the same starting house), then take turns moving based on instructions from the elf, who is <span title=\"This absolutely real word was invented by someone flipping eggnoggedly through a dictionary.\">eggnoggedly</span> reading from the same script as the previous year.</p>\n",
    "<p>This year, how many houses receive <em>at least one present</em>?</p>\n",
    "<p>For example:</p>\n",
    "<ul>\n",
    "<li><code>^v</code> delivers presents to <code>3</code> houses, because Santa goes north, and then Robo-Santa goes south.</li>\n",
    "<li><code>^&gt;v&lt;</code> now delivers presents to <code>3</code> houses, and Santa and Robo-Santa end up back where they started.</li>\n",
    "<li><code>^v^v^v^v^v</code> now delivers presents to <code>11</code> houses, with Santa going one direction and Robo-Santa going the other.</li>\n",
    "</ul>\n",
    "</article>\n",
    "\n",
    "</main>\n"
   ]
  },
  {
   "cell_type": "code",
   "execution_count": 10,
   "metadata": {},
   "outputs": [
    {
     "name": "stdout",
     "output_type": "stream",
     "text": [
      "\n",
      "\u001b[32mTest Example 1 passed, for houses_with_robo.\u001b[0m\n",
      "\u001b[32mTest Example 1 passed, for houses_with_robo.\u001b[0m\n",
      "\u001b[32mTest Example 1 passed, for houses_with_robo.\u001b[0m\n",
      "\u001b[32mSuccess\u001b[0m\n"
     ]
    }
   ],
   "source": [
    "tests = [\n",
    "    {\n",
    "        \"name\": \"Example 1\",\n",
    "        \"ds\": \"^v\",\n",
    "        \"expected\": 3,\n",
    "    },\n",
    "    {\n",
    "        \"name\": \"Example 1\",\n",
    "        \"ds\": \"^>v<\",\n",
    "        \"expected\": 3,\n",
    "    },\n",
    "    {\n",
    "        \"name\": \"Example 1\",\n",
    "        \"ds\": \"^v^v^v^v^v\",\n",
    "        \"expected\": 11,\n",
    "    },\n",
    "]\n",
    "\n",
    "\n",
    "def houses_with_robo(ds: str) -> int:\n",
    "    houses = {(0, 0)}\n",
    "    r_s, c_s = 0, 0\n",
    "    r_r, c_r = 0, 0\n",
    "    santa = True\n",
    "    for d in ds:\n",
    "        r, c = (r_s, c_s) if santa else (r_r, c_r)\n",
    "        if d == \">\":\n",
    "            c += 1\n",
    "        elif d == \"<\":\n",
    "            c -= 1\n",
    "        elif d == \"^\":\n",
    "            r -= 1\n",
    "        else:  # d == 'v':\n",
    "            r += 1\n",
    "        houses.add((r, c))\n",
    "        if santa:\n",
    "            r_s, c_s = r, c\n",
    "        else:\n",
    "            r_r, c_r = r, c\n",
    "\n",
    "        santa = not santa\n",
    "    return len(houses)\n",
    "\n",
    "\n",
    "run_tests_params(houses_with_robo, tests)"
   ]
  },
  {
   "cell_type": "code",
   "execution_count": 11,
   "metadata": {},
   "outputs": [
    {
     "name": "stdout",
     "output_type": "stream",
     "text": [
      "2639\n"
     ]
    }
   ],
   "source": [
    "with open(\"../input/day3.txt\") as f:\n",
    "    print(houses_with_robo(f.read()))"
   ]
  },
  {
   "cell_type": "markdown",
   "metadata": {},
   "source": [
    "<link href=\"style.css\" rel=\"stylesheet\"></link>\n",
    "\n",
    "<main>\n",
    "\n",
    "<p>Your puzzle answer was <code>2639</code>.</p><p class=\"day-success\">Both parts of this puzzle are complete! They provide two gold stars: **</p>\n",
    "<p>At this point, you should <a href=\"/2015\">return to your Advent calendar</a> and try another puzzle.</p>\n",
    "<p>If you still want to see it, you can <a href=\"3/input\" target=\"_blank\">get your puzzle input</a>.</p>\n",
    "<p>You can also <span class=\"share\">[Share<span class=\"share-content\">on\n",
    "  <a href=\"https://twitter.com/intent/tweet?text=I%27ve+completed+%22Perfectly+Spherical+Houses+in+a+Vacuum%22+%2D+Day+3+%2D+Advent+of+Code+2015&amp;url=https%3A%2F%2Fadventofcode%2Ecom%2F2015%2Fday%2F3&amp;related=ericwastl&amp;hashtags=AdventOfCode\" target=\"_blank\">Twitter</a>\n",
    "  <a href=\"javascript:void(0);\" onclick=\"var ms; try{ms=localStorage.getItem('mastodon.server')}finally{} if(typeof ms!=='string')ms=''; ms=prompt('Mastodon Server?',ms); if(typeof ms==='string' &amp;&amp; ms.length){this.href='https://'+ms+'/share?text=I%27ve+completed+%22Perfectly+Spherical+Houses+in+a+Vacuum%22+%2D+Day+3+%2D+Advent+of+Code+2015+%23AdventOfCode+https%3A%2F%2Fadventofcode%2Ecom%2F2015%2Fday%2F3';try{localStorage.setItem('mastodon.server',ms);}finally{}}else{return false;}\" target=\"_blank\">Mastodon</a></span>]</span> this puzzle.</p>\n",
    "</main>\n"
   ]
  }
 ],
 "metadata": {
  "kernelspec": {
   "display_name": ".venv",
   "language": "python",
   "name": "python3"
  },
  "language_info": {
   "codemirror_mode": {
    "name": "ipython",
    "version": 3
   },
   "file_extension": ".py",
   "mimetype": "text/x-python",
   "name": "python",
   "nbconvert_exporter": "python",
   "pygments_lexer": "ipython3",
   "version": "3.12.0"
  }
 },
 "nbformat": 4,
 "nbformat_minor": 2
}
