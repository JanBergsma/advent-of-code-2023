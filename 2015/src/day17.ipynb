{
 "cells": [
  {
   "cell_type": "code",
   "execution_count": 1,
   "metadata": {},
   "outputs": [],
   "source": [
    "# %matplotlib widget\n",
    "\n",
    "from __future__ import annotations\n",
    "\n",
    "import re\n",
    "from collections import defaultdict\n",
    "from dataclasses import dataclass, field\n",
    "from itertools import permutations, product\n",
    "from math import inf\n",
    "from random import choice\n",
    "\n",
    "import matplotlib.colors as mcolors\n",
    "import matplotlib.pyplot as plt\n",
    "import networkx as nx\n",
    "import numpy as np\n",
    "import numpy.typing as npt\n",
    "from mpl_toolkits.mplot3d import axes3d\n",
    "from numpy import int_, object_\n",
    "from numpy.typing import NDArray\n",
    "from test_utilities import run_tests_params\n",
    "from util import print_hex\n",
    "\n",
    "COLORS = list(mcolors.CSS4_COLORS.keys())"
   ]
  },
  {
   "cell_type": "markdown",
   "metadata": {},
   "source": [
    "<link href=\"style.css\" rel=\"stylesheet\"></link>\n",
    "<article class=\"day-desc\"><h2>--- Day 17: No Such Thing as Too Much ---</h2><p>The elves bought too much eggnog again - <code>150</code> liters this time.  To fit it all into your refrigerator, you'll need to move it into smaller containers.  You take an inventory of the capacities of the available containers.</p>\n",
    "<p>For example, suppose you have containers of size <code>20</code>, <code>15</code>, <code>10</code>, <code>5</code>, and <code>5</code> liters.  If you need to store <code>25</code> liters, there are four ways to do it:</p>\n",
    "<ul>\n",
    "<li><code>15</code> and <code>10</code></li>\n",
    "<li><code>20</code> and <code>5</code> (the first <code>5</code>)</li>\n",
    "<li><code>20</code> and <code>5</code> (the second <code>5</code>)</li>\n",
    "<li><code>15</code>, <code>5</code>, and <code>5</code></li>\n",
    "</ul>\n",
    "<p>Filling all containers entirely, how many different <em>combinations of containers</em> can exactly fit all <code>150</code> liters of eggnog?</p>\n",
    "</article>\n"
   ]
  },
  {
   "cell_type": "code",
   "execution_count": 2,
   "metadata": {},
   "outputs": [
    {
     "name": "stdout",
     "output_type": "stream",
     "text": [
      "4\n"
     ]
    }
   ],
   "source": [
    "from typing import Generator\n",
    "\n",
    "\n",
    "containers = [20, 15, 10, 5, 5]\n",
    "eggnog = 25\n",
    "\n",
    "\n",
    "def combinations(eggnog: int, containers: list[int]) -> int:\n",
    "    def dfs(i: int, eggnog: int, combination: list[int]) -> Generator[tuple[int, ...]]:\n",
    "        if eggnog == 0:\n",
    "            yield combination\n",
    "        elif i < len(containers):\n",
    "            yield from dfs(i + 1, eggnog - containers[i], combination + [containers[i]])\n",
    "            yield from dfs(i + 1, eggnog, combination)\n",
    "\n",
    "    yield from dfs(0, eggnog, [])\n",
    "\n",
    "\n",
    "def different_combinations(eggnog, containers):\n",
    "    return sum(1 for _ in combinations(eggnog, containers))\n",
    "\n",
    "\n",
    "print(different_combinations(eggnog, containers))"
   ]
  },
  {
   "cell_type": "code",
   "execution_count": 3,
   "metadata": {},
   "outputs": [
    {
     "name": "stdout",
     "output_type": "stream",
     "text": [
      "4372\n"
     ]
    }
   ],
   "source": [
    "containers = [11, 30, 47, 31, 32, 36, 3, 1, 5, 3, 32, 36, 15, 11, 46, 26, 28, 1, 19, 3]\n",
    "eggnog = 150\n",
    "print(different_combinations(eggnog, containers))"
   ]
  },
  {
   "cell_type": "markdown",
   "metadata": {},
   "source": [
    "<link href=\"style.css\" rel=\"stylesheet\"></link>\n",
    "<article class=\"day-desc\"><h2>--- Day 17: No Such Thing as Too Much ---</h2><p>The elves bought too much eggnog again - <code>150</code> liters this time.  To fit it all into your refrigerator, you'll need to move it into smaller containers.  You take an inventory of the capacities of the available containers.</p>\n",
    "<p>For example, suppose you have containers of size <code>20</code>, <code>15</code>, <code>10</code>, <code>5</code>, and <code>5</code> liters.  If you need to store <code>25</code> liters, there are four ways to do it:</p>\n",
    "<ul>\n",
    "<li><code>15</code> and <code>10</code></li>\n",
    "<li><code>20</code> and <code>5</code> (the first <code>5</code>)</li>\n",
    "<li><code>20</code> and <code>5</code> (the second <code>5</code>)</li>\n",
    "<li><code>15</code>, <code>5</code>, and <code>5</code></li>\n",
    "</ul>\n",
    "<p>Filling all containers entirely, how many different <em>combinations of containers</em> can exactly fit all <code>150</code> liters of eggnog?</p>\n",
    "</article>\n"
   ]
  },
  {
   "cell_type": "markdown",
   "metadata": {},
   "source": [
    "<link href=\"style.css\" rel=\"stylesheet\"></link>\n",
    "<main>\n",
    "\n",
    "<p>Your puzzle answer was <code>4372</code>.</p><p class=\"day-success\">The first half of this puzzle is complete! It provides one gold star: *</p>\n",
    "<article class=\"day-desc\"><h2 id=\"part2\">--- Part Two ---</h2><p>While playing with all the containers in the kitchen, another load of eggnog <span title=\"Apparently, Amazon ships to the North Pole now.\">arrives</span>!  The shipping and receiving department is requesting as many containers as you can spare.</p>\n",
    "<p>Find the minimum number of containers that can exactly fit all <code>150</code> liters of eggnog.  <em>How many different ways</em> can you fill that number of containers and still hold exactly <code>150</code> litres?</p>\n",
    "<p>In the example above, the minimum number of containers was two.  There were three ways to use that many containers, and so the answer there would be <code>3</code>.</p>\n",
    "<p></p>\n",
    "</article>\n",
    "\n",
    "</main>\n"
   ]
  },
  {
   "cell_type": "code",
   "execution_count": 4,
   "metadata": {},
   "outputs": [
    {
     "name": "stdout",
     "output_type": "stream",
     "text": [
      "[[20, 5], [20, 5], [15, 10]]\n",
      "answer = 3\n"
     ]
    }
   ],
   "source": [
    "containers = [20, 15, 10, 5, 5]\n",
    "eggnog = 25\n",
    "\n",
    "min_length = len(min(combinations(eggnog, containers), key=len))\n",
    "\n",
    "all_min_containers = [\n",
    "    c for c in combinations(eggnog, containers) if len(c) == min_length\n",
    "]\n",
    "\n",
    "\n",
    "print(all_min_containers)\n",
    "print(\"answer =\", len(all_min_containers))"
   ]
  },
  {
   "cell_type": "code",
   "execution_count": 5,
   "metadata": {},
   "outputs": [
    {
     "name": "stdout",
     "output_type": "stream",
     "text": [
      "[[47, 31, 36, 36], [47, 31, 46, 26], [32, 36, 36, 46], [36, 32, 36, 46]]\n",
      "answer = 4\n"
     ]
    }
   ],
   "source": [
    "containers = [11, 30, 47, 31, 32, 36, 3, 1, 5, 3, 32, 36, 15, 11, 46, 26, 28, 1, 19, 3]\n",
    "eggnog = 150\n",
    "\n",
    "min_length = len(min(combinations(eggnog, containers), key=len))\n",
    "\n",
    "all_min_containers = [\n",
    "    c for c in combinations(eggnog, containers) if len(c) == min_length\n",
    "]\n",
    "\n",
    "\n",
    "print(all_min_containers)\n",
    "print(\"answer =\", len(all_min_containers))"
   ]
  },
  {
   "cell_type": "markdown",
   "metadata": {},
   "source": [
    "<link href=\"style.css\" rel=\"stylesheet\"></link>\n",
    "<main>\n",
    "\n",
    "<p>Your puzzle answer was <code>4</code>.</p><p class=\"day-success\">Both parts of this puzzle are complete! They provide two gold stars: **</p>\n",
    "<p>At this point, you should <a href=\"/2015\">return to your Advent calendar</a> and try another puzzle.</p>\n",
    "<p>If you still want to see it, you can <a href=\"17/input\" target=\"_blank\">get your puzzle input</a>.</p>\n",
    "<p>You can also <span class=\"share\">[Share<span class=\"share-content\">on\n",
    "  <a href=\"https://twitter.com/intent/tweet?text=I%27ve+completed+%22No+Such+Thing+as+Too+Much%22+%2D+Day+17+%2D+Advent+of+Code+2015&amp;url=https%3A%2F%2Fadventofcode%2Ecom%2F2015%2Fday%2F17&amp;related=ericwastl&amp;hashtags=AdventOfCode\" target=\"_blank\">Twitter</a>\n",
    "  <a href=\"javascript:void(0);\" onclick=\"var ms; try{ms=localStorage.getItem('mastodon.server')}finally{} if(typeof ms!=='string')ms=''; ms=prompt('Mastodon Server?',ms); if(typeof ms==='string' &amp;&amp; ms.length){this.href='https://'+ms+'/share?text=I%27ve+completed+%22No+Such+Thing+as+Too+Much%22+%2D+Day+17+%2D+Advent+of+Code+2015+%23AdventOfCode+https%3A%2F%2Fadventofcode%2Ecom%2F2015%2Fday%2F17';try{localStorage.setItem('mastodon.server',ms);}finally{}}else{return false;}\" target=\"_blank\">Mastodon</a></span>]</span> this puzzle.</p>\n",
    "</main>\n"
   ]
  },
  {
   "cell_type": "code",
   "execution_count": null,
   "metadata": {},
   "outputs": [],
   "source": []
  }
 ],
 "metadata": {
  "kernelspec": {
   "display_name": ".venv",
   "language": "python",
   "name": "python3"
  },
  "language_info": {
   "codemirror_mode": {
    "name": "ipython",
    "version": 3
   },
   "file_extension": ".py",
   "mimetype": "text/x-python",
   "name": "python",
   "nbconvert_exporter": "python",
   "pygments_lexer": "ipython3",
   "version": "3.12.0"
  }
 },
 "nbformat": 4,
 "nbformat_minor": 2
}
