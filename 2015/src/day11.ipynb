{
 "cells": [
  {
   "cell_type": "code",
   "execution_count": 6,
   "metadata": {},
   "outputs": [],
   "source": [
    "# %matplotlib widget\n",
    "\n",
    "from __future__ import annotations\n",
    "\n",
    "import re\n",
    "from collections import defaultdict\n",
    "from dataclasses import dataclass, field\n",
    "from itertools import product\n",
    "from math import inf\n",
    "from random import choice\n",
    "\n",
    "import matplotlib.colors as mcolors\n",
    "import matplotlib.pyplot as plt\n",
    "import networkx as nx\n",
    "import numpy as np\n",
    "import numpy.typing as npt\n",
    "from mpl_toolkits.mplot3d import axes3d\n",
    "from numpy import int_, object_\n",
    "from numpy.typing import NDArray\n",
    "from test_utilities import run_tests_params\n",
    "from util import print_hex\n",
    "\n",
    "COLORS = list(mcolors.CSS4_COLORS.keys())"
   ]
  },
  {
   "cell_type": "markdown",
   "metadata": {},
   "source": [
    "<link href=\"style.css\" rel=\"stylesheet\"></link>\n",
    "<article class=\"day-desc read-aloud\"><h2>--- Day 11: Corporate Policy ---</h2><p>Santa's previous password expired, and he needs help choosing a new one.</p>\n",
    "<p>To help him remember his new password after the old one expires, Santa has devised a method of coming up with a password based on the previous one.  Corporate policy dictates that passwords must be exactly eight lowercase letters (for security reasons), so he finds his new password by <em>incrementing</em> his old password string repeatedly until it is valid.</p>\n",
    "<p>Incrementing is just like counting with numbers: <code>xx</code>, <code>xy</code>, <code>xz</code>, <code>ya</code>, <code>yb</code>, and so on. Increase the rightmost letter one step; if it was <code>z</code>, it wraps around to <code>a</code>, and repeat with the next letter to the left until one doesn't wrap around.</p>\n",
    "<p>Unfortunately for Santa, a new Security-Elf recently started, and he has imposed some additional password requirements:</p>\n",
    "<ul>\n",
    "<li>Passwords must include one increasing straight of at least three letters, like <code>abc</code>, <code>bcd</code>, <code>cde</code>, and so on, up to <code>xyz</code>. They cannot skip letters; <code>abd</code> doesn't count.</li>\n",
    "<li>Passwords may not contain the letters <code>i</code>, <code>o</code>, or <code>l</code>, as these letters can be mistaken for other characters and are therefore confusing.</li>\n",
    "<li>Passwords must contain at least two different, non-overlapping pairs of letters, like <code>aa</code>, <code>bb</code>, or <code>zz</code>.</li>\n",
    "</ul>\n",
    "<p>For example:</p>\n",
    "<ul>\n",
    "<li><code>hijklmmn</code> meets the first requirement (because it contains the straight <code>hij</code>) but fails the second requirement requirement (because it contains <code>i</code> and <code>l</code>).</li>\n",
    "<li><code>abbceffg</code> meets the third requirement (because it repeats <code>bb</code> and <code>ff</code>) but fails the first requirement.</li>\n",
    "<li><code>abbcegjk</code> fails the third requirement, because it only has one double letter (<code>bb</code>).</li>\n",
    "<li>The next password after <code>abcdefgh</code> is <code>abcdffaa</code>.</li>\n",
    "<li>The next password after <code>ghijklmn</code> is <code>ghjaabcc</code>, because you eventually skip all the passwords that start with <code>ghi...</code>, since <code>i</code> is not allowed.</li>\n",
    "</ul>\n",
    "<p>Given Santa's current password (your puzzle input), what should his <em>next password</em> be?</p>\n",
    "</article>\n",
    "<p>Your puzzle input is <code class=\"puzzle-input\">hepxcrrq</code>.</p>\n"
   ]
  },
  {
   "cell_type": "code",
   "execution_count": 7,
   "metadata": {},
   "outputs": [
    {
     "name": "stdout",
     "output_type": "stream",
     "text": [
      "\n",
      "\u001b[32mTest Example 1 passed, for valid.\u001b[0m\n",
      "\u001b[32mTest Example 2 passed, for valid.\u001b[0m\n",
      "\u001b[32mTest Example 3 passed, for valid.\u001b[0m\n",
      "\u001b[32mTest Example 4 passed, for valid.\u001b[0m\n",
      "\u001b[32mTest Example 5 passed, for valid.\u001b[0m\n",
      "\u001b[32mTest Example 6 passed, for valid.\u001b[0m\n",
      "\u001b[32mTest Example 7 passed, for valid.\u001b[0m\n",
      "\u001b[32mTest Example 8 passed, for valid.\u001b[0m\n",
      "\u001b[32mSuccess\u001b[0m\n"
     ]
    }
   ],
   "source": [
    "valid_tests = [\n",
    "    {\n",
    "        \"name\": \"Example 1\",\n",
    "        \"password\": \"hijklmmn\",\n",
    "        \"expected\": False,\n",
    "    },\n",
    "    {\n",
    "        \"name\": \"Example 2\",\n",
    "        \"password\": \"abbceffg\",\n",
    "        \"expected\": False,\n",
    "    },\n",
    "    {\n",
    "        \"name\": \"Example 3\",\n",
    "        \"password\": \"abbcegjk\",\n",
    "        \"expected\": False,\n",
    "    },\n",
    "    {\n",
    "        \"name\": \"Example 4\",\n",
    "        \"password\": \"abcdefgh\",\n",
    "        \"expected\": False,\n",
    "    },\n",
    "    {\n",
    "        \"name\": \"Example 5\",\n",
    "        \"password\": \"abcdffaa\",\n",
    "        \"expected\": True,\n",
    "    },\n",
    "    {\n",
    "        \"name\": \"Example 6\",\n",
    "        \"password\": \"ghijklmn\",\n",
    "        \"expected\": False,\n",
    "    },\n",
    "    {\n",
    "        \"name\": \"Example 7\",\n",
    "        \"password\": \"ghjaabcc\",\n",
    "        \"expected\": True,\n",
    "    },\n",
    "    {\n",
    "        \"name\": \"Example 8\",\n",
    "        \"password\": \"hepxcrrq\",\n",
    "        \"expected\": False,\n",
    "    },\n",
    "]\n",
    "\n",
    "\n",
    "def valid(password: str) -> bool:\n",
    "    # passwords must be exactly eight lowercase letters (for security reasons),\n",
    "    if len(password) != 8:\n",
    "        return False\n",
    "    # Passwords must include one increasing straight of at least three letters,\n",
    "    # like abc, bcd, cde, and so on, up to xyz.\n",
    "    if all(\n",
    "        ord(password[i]) - ord(password[i - 1]) != 1\n",
    "        or ord(password[i - 1]) - ord(password[i - 2]) != 1\n",
    "        for i in range(2, len(password))\n",
    "    ):\n",
    "        return False\n",
    "    # Passwords may not contain the letters i, o, or l\n",
    "    if re.search(r\"[i|o|l]+\", password):\n",
    "        return False\n",
    "    # Passwords must contain at least two different, non-overlapping pairs of letters,\n",
    "    # like aa, bb, or zz.\n",
    "    return len(re.findall(r\"(.)\\1\", password)) > 1\n",
    "\n",
    "\n",
    "run_tests_params(valid, valid_tests)"
   ]
  },
  {
   "cell_type": "code",
   "execution_count": 8,
   "metadata": {},
   "outputs": [
    {
     "name": "stdout",
     "output_type": "stream",
     "text": [
      "\n",
      "\u001b[32mTest Example 1 passed, for next_valid.\u001b[0m\n",
      "\u001b[32mTest Example 2 passed, for next_valid.\u001b[0m\n",
      "\u001b[32mSuccess\u001b[0m\n"
     ]
    }
   ],
   "source": [
    "from functools import cache\n",
    "from string import ascii_lowercase\n",
    "\n",
    "from more_itertools import first, take\n",
    "\n",
    "valid_tests = [\n",
    "    {\n",
    "        \"name\": \"Example 1\",\n",
    "        \"password\": \"abcdefgh\",\n",
    "        \"expected\": \"abcdffaa\",\n",
    "    },\n",
    "    {\n",
    "        \"name\": \"Example 2\",\n",
    "        \"password\": \"ghijklmn\",\n",
    "        \"expected\": \"ghjaabcc\",\n",
    "    },\n",
    "]\n",
    "\n",
    "\n",
    "def next_valid(password: str) -> str:\n",
    "    def nxt(acc: str, index: int, start=False) -> str:\n",
    "        if index == len(password):\n",
    "            yield acc\n",
    "        else:\n",
    "            j = ascii_lowercase.index(password[index]) + 1 if start else 0\n",
    "            for i in range(j, len(ascii_lowercase)):\n",
    "                if not ascii_lowercase[i] in \"iol\":\n",
    "                    yield from nxt(acc + ascii_lowercase[i], index + 1)\n",
    "\n",
    "    def start():\n",
    "        for index in range(len(password) - 1, -1, -1):\n",
    "            acc = password[:index]\n",
    "            if not re.search(r\"[i|o|l]+\", acc):\n",
    "                yield from nxt(acc, index, True)\n",
    "\n",
    "    chars = \"abcdefghjkmnpqrstuvwxyz\"\n",
    "    return first(pw for pw in start() if valid(pw))\n",
    "\n",
    "\n",
    "run_tests_params(next_valid, valid_tests)"
   ]
  },
  {
   "cell_type": "markdown",
   "metadata": {},
   "source": []
  },
  {
   "cell_type": "code",
   "execution_count": 9,
   "metadata": {},
   "outputs": [
    {
     "data": {
      "text/plain": [
       "'hepxxyzz'"
      ]
     },
     "execution_count": 9,
     "metadata": {},
     "output_type": "execute_result"
    }
   ],
   "source": [
    "next_valid(\"hepxcrrq\")"
   ]
  },
  {
   "cell_type": "markdown",
   "metadata": {},
   "source": [
    "<link href=\"style.css\" rel=\"stylesheet\"></link>\n",
    "\n",
    "<main>\n",
    "\n",
    "<p>Your puzzle answer was <code>hepxxyzz</code>.</p><p class=\"day-success\">The first half of this puzzle is complete! It provides one gold star: *</p>\n",
    "<article class=\"day-desc\"><h2 id=\"part2\">--- Part Two ---</h2><p>Santa's password <span title=\"The corporate policy says your password expires after 12 seconds.  For security.\">expired again</span>.  What's the next one?</p>\n",
    "</article>\n",
    "\n",
    "</main>\n"
   ]
  },
  {
   "cell_type": "code",
   "execution_count": 10,
   "metadata": {},
   "outputs": [
    {
     "data": {
      "text/plain": [
       "'heqaabcc'"
      ]
     },
     "execution_count": 10,
     "metadata": {},
     "output_type": "execute_result"
    }
   ],
   "source": [
    "next_valid(\"hepxxyzz\")"
   ]
  },
  {
   "cell_type": "markdown",
   "metadata": {},
   "source": [
    "<link href=\"style.css\" rel=\"stylesheet\"></link>\n",
    "\n",
    "<main>\n",
    "\n",
    "<article class=\"day-desc\"><h2 id=\"part2\">--- Part Two ---</h2><p>Santa's password <span title=\"The corporate policy says your password expires after 12 seconds.  For security.\">expired again</span>.  What's the next one?</p>\n",
    "</article>\n",
    "<p>Your puzzle answer was <code>heqaabcc</code>.</p><p class=\"day-success\">Both parts of this puzzle are complete! They provide two gold stars: **</p>\n",
    "<p>At this point, you should <a href=\"/2015\">return to your Advent calendar</a> and try another puzzle.</p>\n",
    "<p>Your puzzle input was <code class=\"puzzle-input\">hepxcrrq</code>.</p>\n",
    "<p>You can also <span class=\"share\">[Share<span class=\"share-content\">on\n",
    "  <a href=\"https://twitter.com/intent/tweet?text=I%27ve+completed+%22Corporate+Policy%22+%2D+Day+11+%2D+Advent+of+Code+2015&amp;url=https%3A%2F%2Fadventofcode%2Ecom%2F2015%2Fday%2F11&amp;related=ericwastl&amp;hashtags=AdventOfCode\" target=\"_blank\">Twitter</a>\n",
    "  <a href=\"javascript:void(0);\" onclick=\"var ms; try{ms=localStorage.getItem('mastodon.server')}finally{} if(typeof ms!=='string')ms=''; ms=prompt('Mastodon Server?',ms); if(typeof ms==='string' &amp;&amp; ms.length){this.href='https://'+ms+'/share?text=I%27ve+completed+%22Corporate+Policy%22+%2D+Day+11+%2D+Advent+of+Code+2015+%23AdventOfCode+https%3A%2F%2Fadventofcode%2Ecom%2F2015%2Fday%2F11';try{localStorage.setItem('mastodon.server',ms);}finally{}}else{return false;}\" target=\"_blank\">Mastodon</a></span>]</span> this puzzle.</p>\n",
    "</main>\n"
   ]
  },
  {
   "cell_type": "code",
   "execution_count": null,
   "metadata": {},
   "outputs": [],
   "source": []
  }
 ],
 "metadata": {
  "kernelspec": {
   "display_name": ".venv",
   "language": "python",
   "name": "python3"
  },
  "language_info": {
   "codemirror_mode": {
    "name": "ipython",
    "version": 3
   },
   "file_extension": ".py",
   "mimetype": "text/x-python",
   "name": "python",
   "nbconvert_exporter": "python",
   "pygments_lexer": "ipython3",
   "version": "3.12.0"
  }
 },
 "nbformat": 4,
 "nbformat_minor": 2
}
