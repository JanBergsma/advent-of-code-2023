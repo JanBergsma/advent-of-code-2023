{
 "cells": [
  {
   "cell_type": "code",
   "execution_count": 31,
   "metadata": {},
   "outputs": [],
   "source": [
    "# %matplotlib widget\n",
    "\n",
    "from __future__ import annotations\n",
    "\n",
    "import re\n",
    "from collections import defaultdict\n",
    "from dataclasses import dataclass, field\n",
    "from itertools import product\n",
    "from math import inf\n",
    "from random import choice\n",
    "\n",
    "import matplotlib.colors as mcolors\n",
    "import matplotlib.pyplot as plt\n",
    "import networkx as nx\n",
    "import numpy as np\n",
    "import numpy.typing as npt\n",
    "from mpl_toolkits.mplot3d import axes3d\n",
    "from numpy import int_, object_\n",
    "from numpy.typing import NDArray\n",
    "from test_utilities import run_tests_params\n",
    "from util import print_hex\n",
    "\n",
    "COLORS = list(mcolors.CSS4_COLORS.keys())"
   ]
  },
  {
   "cell_type": "markdown",
   "metadata": {},
   "source": [
    "<link href=\"style.css\" rel=\"stylesheet\"></link>\n",
    "<article class=\"day-desc\"><h2>--- Day 12: JSAbacusFramework.io ---</h2><p>Santa's Accounting-Elves need help balancing the books after a recent order.  Unfortunately, their accounting software uses a peculiar storage format.  That's where you come in.</p>\n",
    "<p>They have a <a href=\"http://json.org/\">JSON</a> document which contains a variety of things: arrays (<code>[1,2,3]</code>), objects (<code>{\"a\":1, \"b\":2}</code>), numbers, and strings.  Your first job is to simply find all of the <em>numbers</em> throughout the document and add them together.</p>\n",
    "<p>For example:</p>\n",
    "<ul>\n",
    "<li><code>[1,2,3]</code> and <code>{\"a\":2,\"b\":4}</code> both have a sum of <code>6</code>.</li>\n",
    "<li><code>[[[3]]]</code> and <code>{\"a\":{\"b\":4},\"c\":-1}</code> both have a sum of <code>3</code>.</li>\n",
    "<li><code>{\"a\":[-1,1]}</code> and <code>[-1,{\"a\":1}]</code> both have a sum of <code>0</code>.</li>\n",
    "<li><code>[]</code> and <code>{}</code> both have a sum of <code>0</code>.</li>\n",
    "</ul>\n",
    "<p>You will not <span title=\"Nor are you likely to be eaten by a grue... during *this* puzzle, anyway.\">encounter</span> any strings containing numbers.</p>\n",
    "<p>What is the <em>sum of all numbers</em> in the document?</p>\n",
    "</article>\n"
   ]
  },
  {
   "cell_type": "code",
   "execution_count": 32,
   "metadata": {},
   "outputs": [
    {
     "name": "stdout",
     "output_type": "stream",
     "text": [
      "\n",
      "\u001b[32mTest Example 1 passed, for sum_all_ints.\u001b[0m\n",
      "\u001b[32mTest Example 2 passed, for sum_all_ints.\u001b[0m\n",
      "\u001b[32mTest Example 3 passed, for sum_all_ints.\u001b[0m\n",
      "\u001b[32mTest Example 4 passed, for sum_all_ints.\u001b[0m\n",
      "\u001b[32mTest Example 5 passed, for sum_all_ints.\u001b[0m\n",
      "\u001b[32mTest Example 6 passed, for sum_all_ints.\u001b[0m\n",
      "\u001b[32mTest Example 7 passed, for sum_all_ints.\u001b[0m\n",
      "\u001b[32mTest Example 8 passed, for sum_all_ints.\u001b[0m\n",
      "\u001b[32mSuccess\u001b[0m\n"
     ]
    }
   ],
   "source": [
    "tests = [\n",
    "    {\n",
    "        \"name\": \"Example 1\",\n",
    "        \"s\": \"[1,2,3]\",\n",
    "        \"expected\": 6,\n",
    "    },\n",
    "    {\n",
    "        \"name\": \"Example 2\",\n",
    "        \"s\": '{\"a\":2,\"b\":4}',\n",
    "        \"expected\": 6,\n",
    "    },\n",
    "    {\n",
    "        \"name\": \"Example 3\",\n",
    "        \"s\": \"[[[3]]]\",\n",
    "        \"expected\": 3,\n",
    "    },\n",
    "    {\n",
    "        \"name\": \"Example 4\",\n",
    "        \"s\": '{\"a\":{\"b\":4},\"c\":-1}',\n",
    "        \"expected\": 3,\n",
    "    },\n",
    "    {\n",
    "        \"name\": \"Example 5\",\n",
    "        \"s\": '{\"a\":[-1,1]}',\n",
    "        \"expected\": 0,\n",
    "    },\n",
    "    {\n",
    "        \"name\": \"Example 6\",\n",
    "        \"s\": '[-1,{\"a\":1}]',\n",
    "        \"expected\": 0,\n",
    "    },\n",
    "    {\n",
    "        \"name\": \"Example 7\",\n",
    "        \"s\": \"[]\",\n",
    "        \"expected\": 0,\n",
    "    },\n",
    "    {\n",
    "        \"name\": \"Example 8\",\n",
    "        \"s\": \"{}\",\n",
    "        \"expected\": 0,\n",
    "    },\n",
    "]\n",
    "\n",
    "\n",
    "def sum_all_ints(s: str) -> int:\n",
    "    return sum(map(int, re.findall(r\"-?\\d+\", s)))\n",
    "\n",
    "\n",
    "run_tests_params(sum_all_ints, tests)"
   ]
  },
  {
   "cell_type": "code",
   "execution_count": 33,
   "metadata": {},
   "outputs": [
    {
     "name": "stdout",
     "output_type": "stream",
     "text": [
      "156366\n"
     ]
    }
   ],
   "source": [
    "with open(\"../input/day12.txt\") as f:\n",
    "    print(sum_all_ints(f.read()))"
   ]
  },
  {
   "cell_type": "markdown",
   "metadata": {},
   "source": [
    "<link href=\"style.css\" rel=\"stylesheet\"></link>\n",
    "<main>\n",
    "\n",
    "<p>Your puzzle answer was <code>156366</code>.</p><p class=\"day-success\">The first half of this puzzle is complete! It provides one gold star: *</p>\n",
    "<article class=\"day-desc\"><h2 id=\"part2\">--- Part Two ---</h2><p>Uh oh - the Accounting-Elves have realized that they double-counted everything <em>red</em>.</p>\n",
    "<p>Ignore any object (and all of its children) which has any property with the value <code>\"red\"</code>.  Do this only for objects (<code>{...}</code>), not arrays (<code>[...]</code>).</p>\n",
    "<ul>\n",
    "<li><code>[1,2,3]</code> still has a sum of <code>6</code>.</li>\n",
    "<li><code>[1,{\"c\":\"red\",\"b\":2},3]</code> now has a sum of <code>4</code>, because the middle object is ignored.</li>\n",
    "<li><code>{\"d\":\"red\",\"e\":[1,2,3,4],\"f\":5}</code> now has a sum of <code>0</code>, because the entire structure is ignored.</li>\n",
    "<li><code>[1,\"red\",5]</code> has a sum of <code>6</code>, because <code>\"red\"</code> in an array has no effect.</li>\n",
    "</ul>\n",
    "</article>\n",
    "\n",
    "</main>\n"
   ]
  },
  {
   "cell_type": "code",
   "execution_count": 38,
   "metadata": {},
   "outputs": [
    {
     "name": "stdout",
     "output_type": "stream",
     "text": [
      "\n",
      "\u001b[32mTest Example 1 passed, for sum_ints_no_reds.\u001b[0m\n",
      "\u001b[32mTest Example 2 passed, for sum_ints_no_reds.\u001b[0m\n",
      "\u001b[32mTest Example 3 passed, for sum_ints_no_reds.\u001b[0m\n",
      "\u001b[32mTest Example 4 passed, for sum_ints_no_reds.\u001b[0m\n",
      "\u001b[32mSuccess\u001b[0m\n"
     ]
    }
   ],
   "source": [
    "import json\n",
    "\n",
    "\n",
    "tests = [\n",
    "    {\n",
    "        \"name\": \"Example 1\",\n",
    "        \"s\": \"[1,2,3]\",\n",
    "        \"expected\": 6,\n",
    "    },\n",
    "    {\n",
    "        \"name\": \"Example 2\",\n",
    "        \"s\": '[1,{\"c\":\"red\",\"b\":2},3]',\n",
    "        \"expected\": 4,\n",
    "    },\n",
    "    {\n",
    "        \"name\": \"Example 3\",\n",
    "        \"s\": '{\"d\":\"red\",\"e\":[1,2,3,4],\"f\":5}',\n",
    "        \"expected\": 0,\n",
    "    },\n",
    "    {\n",
    "        \"name\": \"Example 4\",\n",
    "        \"s\": '[1,\"red\",5]',\n",
    "        \"expected\": 6,\n",
    "    },\n",
    "]\n",
    "\n",
    "\n",
    "def sum_ints_no_reds(s: str) -> int:\n",
    "    def dfs(token: dict | list | str | int | None) -> int:\n",
    "        if token is None:\n",
    "            return 0\n",
    "        if isinstance(token, str):\n",
    "            return 0\n",
    "        if isinstance(token, int):\n",
    "            return int(token)\n",
    "        if isinstance(token, list):\n",
    "            return sum(map(dfs, token), start=0)\n",
    "        if \"red\" not in token.values():\n",
    "            return sum(map(dfs, token.values()), start=0)\n",
    "        return 0\n",
    "\n",
    "    return dfs(json.loads(s))\n",
    "\n",
    "\n",
    "run_tests_params(sum_ints_no_reds, tests)"
   ]
  },
  {
   "cell_type": "code",
   "execution_count": 39,
   "metadata": {},
   "outputs": [
    {
     "name": "stdout",
     "output_type": "stream",
     "text": [
      "96852\n"
     ]
    }
   ],
   "source": [
    "with open(\"../input/day12.txt\") as f:\n",
    "    print(sum_ints_no_reds(f.read()))"
   ]
  },
  {
   "cell_type": "markdown",
   "metadata": {},
   "source": [
    "<link href=\"style.css\" rel=\"stylesheet\"></link>\n",
    "<main>\n",
    "\n",
    "<p>Your puzzle answer was <code>96852</code>.</p><p class=\"day-success\">Both parts of this puzzle are complete! They provide two gold stars: **</p>\n",
    "<p>At this point, you should <a href=\"/2015\">return to your Advent calendar</a> and try another puzzle.</p>\n",
    "<p>If you still want to see it, you can <a href=\"12/input\" target=\"_blank\">get your puzzle input</a>.</p>\n",
    "<p>You can also <span class=\"share\">[Share<span class=\"share-content\">on\n",
    "  <a href=\"https://twitter.com/intent/tweet?text=I%27ve+completed+%22JSAbacusFramework%2Eio%22+%2D+Day+12+%2D+Advent+of+Code+2015&amp;url=https%3A%2F%2Fadventofcode%2Ecom%2F2015%2Fday%2F12&amp;related=ericwastl&amp;hashtags=AdventOfCode\" target=\"_blank\">Twitter</a>\n",
    "  <a href=\"javascript:void(0);\" onclick=\"var ms; try{ms=localStorage.getItem('mastodon.server')}finally{} if(typeof ms!=='string')ms=''; ms=prompt('Mastodon Server?',ms); if(typeof ms==='string' &amp;&amp; ms.length){this.href='https://'+ms+'/share?text=I%27ve+completed+%22JSAbacusFramework%2Eio%22+%2D+Day+12+%2D+Advent+of+Code+2015+%23AdventOfCode+https%3A%2F%2Fadventofcode%2Ecom%2F2015%2Fday%2F12';try{localStorage.setItem('mastodon.server',ms);}finally{}}else{return false;}\" target=\"_blank\">Mastodon</a></span>]</span> this puzzle.</p>\n",
    "</main>\n"
   ]
  },
  {
   "cell_type": "code",
   "execution_count": null,
   "metadata": {},
   "outputs": [],
   "source": []
  }
 ],
 "metadata": {
  "kernelspec": {
   "display_name": ".venv",
   "language": "python",
   "name": "python3"
  },
  "language_info": {
   "codemirror_mode": {
    "name": "ipython",
    "version": 3
   },
   "file_extension": ".py",
   "mimetype": "text/x-python",
   "name": "python",
   "nbconvert_exporter": "python",
   "pygments_lexer": "ipython3",
   "version": "3.12.0"
  }
 },
 "nbformat": 4,
 "nbformat_minor": 2
}
