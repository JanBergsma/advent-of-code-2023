{
 "cells": [
  {
   "cell_type": "code",
   "execution_count": 8,
   "metadata": {},
   "outputs": [],
   "source": [
    "# %matplotlib widget\n",
    "\n",
    "from __future__ import annotations\n",
    "\n",
    "import re\n",
    "from collections import defaultdict\n",
    "from dataclasses import dataclass, field\n",
    "from itertools import product\n",
    "from math import inf\n",
    "from random import choice\n",
    "\n",
    "import matplotlib.colors as mcolors\n",
    "import matplotlib.pyplot as plt\n",
    "import networkx as nx\n",
    "import numpy as np\n",
    "import numpy.typing as npt\n",
    "from mpl_toolkits.mplot3d import axes3d\n",
    "from numpy import int_, object_\n",
    "from numpy.typing import NDArray\n",
    "from test_utilities import run_tests_params\n",
    "from util import print_hex\n",
    "\n",
    "COLORS = list(mcolors.CSS4_COLORS.keys())"
   ]
  },
  {
   "cell_type": "markdown",
   "metadata": {},
   "source": [
    "<link href=\"style.css\" rel=\"stylesheet\"></link>\n",
    "<article class=\"day-desc read-aloud\"><h2>--- Day 8: Matchsticks ---</h2><p>Space on the sleigh is limited this year, and so Santa will be bringing his list as a digital copy. He needs to know how much space it will take up when stored.</p>\n",
    "<p>It is common in many programming languages to provide a way to <span title=\"It is common for many programmers to try to escape from string escaping.  No such luck here.\">escape</span> special characters in strings.  For example, <a href=\"https://en.wikipedia.org/wiki/Escape_sequences_in_C\">C</a>, <a href=\"https://developer.mozilla.org/en-US/docs/Web/JavaScript/Reference/Global_Objects/String\">JavaScript</a>, <a href=\"http://perldoc.perl.org/perlop.html#Quote-and-Quote-like-Operators\">Perl</a>, <a href=\"https://docs.python.org/2.0/ref/strings.html\">Python</a>, and even <a href=\"http://php.net/manual/en/language.types.string.php#language.types.string.syntax.double\">PHP</a> handle special characters in very similar ways.</p>\n",
    "<p>However, it is important to realize the difference between the number of characters <em>in the code representation of the string literal</em> and the number of characters <em>in the in-memory string itself</em>.</p>\n",
    "<p>For example:</p>\n",
    "<ul>\n",
    "<li><code>\"\"</code> is <code>2</code> characters of code (the two double quotes), but the string contains zero characters.</li>\n",
    "<li><code>\"abc\"</code> is <code>5</code> characters of code, but <code>3</code> characters in the string data.</li>\n",
    "<li><code>\"aaa\\\"aaa\"</code> is <code>10</code> characters of code, but the string itself contains six \"a\" characters and a single, escaped quote character, for a total of <code>7</code> characters in the string data.</li>\n",
    "<li><code>\"\\x27\"</code> is <code>6</code> characters of code, but the string itself contains just one - an apostrophe (<code>'</code>), escaped using hexadecimal notation.</li>\n",
    "</ul>\n",
    "<p>Santa's list is a file that contains many double-quoted string literals, one on each line.  The only escape sequences used are <code>\\\\</code> (which represents a single backslash), <code>\\\"</code> (which represents a lone double-quote character), and <code>\\x</code> plus two hexadecimal characters (which represents a single character with that ASCII code).</p>\n",
    "<p>Disregarding the whitespace in the file, what is <em>the number of characters of code for string literals</em> minus <em>the number of characters in memory for the values of the strings</em> in total for the entire file?</p>\n",
    "<p>For example, given the four strings above, the total number of characters of string code (<code>2 + 5 + 10 + 6 = 23</code>) minus the total number of characters in memory for string values (<code>0 + 3 + 7 + 1 = 11</code>) is <code>23 - 11 = 12</code>.</p>\n",
    "</article>\n"
   ]
  },
  {
   "cell_type": "code",
   "execution_count": 9,
   "metadata": {},
   "outputs": [
    {
     "name": "stdout",
     "output_type": "stream",
     "text": [
      "\n",
      "\u001b[32mTest Example 1 passed, for chars_in_memory.\u001b[0m\n",
      "\u001b[32mTest Example 2 passed, for chars_in_memory.\u001b[0m\n",
      "\u001b[32mTest Example 3 passed, for chars_in_memory.\u001b[0m\n",
      "\u001b[32mTest Example 4 passed, for chars_in_memory.\u001b[0m\n",
      "\u001b[32mTest Example 5 passed, for chars_in_memory.\u001b[0m\n",
      "\u001b[32mSuccess\u001b[0m\n",
      "\n",
      "\u001b[32mTest Example 1 passed, for chars_in_code.\u001b[0m\n",
      "\u001b[32mTest Example 1 passed, for chars_in_code.\u001b[0m\n",
      "\u001b[32mTest Example 1 passed, for chars_in_code.\u001b[0m\n",
      "\u001b[32mTest Example 1 passed, for chars_in_code.\u001b[0m\n",
      "\u001b[32mTest Example 5 passed, for chars_in_code.\u001b[0m\n",
      "\u001b[32mSuccess\u001b[0m\n"
     ]
    }
   ],
   "source": [
    "from codecs import unicode_escape_decode\n",
    "\n",
    "\n",
    "chars_in_memory_tests = [\n",
    "    {\n",
    "        \"name\": \"Example 1\",\n",
    "        \"s\": r\"\",\n",
    "        \"expected\": 0,\n",
    "    },\n",
    "    {\n",
    "        \"name\": \"Example 2\",\n",
    "        \"s\": r\"abc\",\n",
    "        \"expected\": 3,\n",
    "    },\n",
    "    {\n",
    "        \"name\": \"Example 3\",\n",
    "        \"s\": r\"aaa\\\"aaa\",\n",
    "        \"expected\": 7,\n",
    "    },\n",
    "    {\n",
    "        \"name\": \"Example 4\",\n",
    "        \"s\": r\"\\x27\",\n",
    "        \"expected\": 1,\n",
    "    },\n",
    "    {\n",
    "        \"name\": \"Example 5\",\n",
    "        \"s\": r\"\\\\\",\n",
    "        \"expected\": 1,\n",
    "    },\n",
    "]\n",
    "\n",
    "\n",
    "def chars_in_memory(s: str) -> int:\n",
    "    return len(unicode_escape_decode(s)[0])\n",
    "\n",
    "\n",
    "chars_in_code_tests = [\n",
    "    {\n",
    "        \"name\": \"Example 1\",\n",
    "        \"s\": r\"\",\n",
    "        \"expected\": 2,\n",
    "    },\n",
    "    {\n",
    "        \"name\": \"Example 1\",\n",
    "        \"s\": r\"abc\",\n",
    "        \"expected\": 5,\n",
    "    },\n",
    "    {\n",
    "        \"name\": \"Example 1\",\n",
    "        \"s\": r\"aaa\\\"aaa\",\n",
    "        \"expected\": 10,\n",
    "    },\n",
    "    {\n",
    "        \"name\": \"Example 1\",\n",
    "        \"s\": r\"\\x27\",\n",
    "        \"expected\": 6,\n",
    "    },\n",
    "    {\n",
    "        \"name\": \"Example 5\",\n",
    "        \"s\": r\"\\\\\",\n",
    "        \"expected\": 4,\n",
    "    },\n",
    "]\n",
    "\n",
    "\n",
    "def chars_in_code(s: str) -> int:\n",
    "    return len(s) + 2\n",
    "\n",
    "\n",
    "run_tests_params(chars_in_memory, chars_in_memory_tests)\n",
    "run_tests_params(chars_in_code, chars_in_code_tests)"
   ]
  },
  {
   "cell_type": "code",
   "execution_count": 10,
   "metadata": {},
   "outputs": [],
   "source": [
    "s = r\"\"\"\n",
    "\"\"\n",
    "\"abc\"\n",
    "\"aaa\\\"aaa\"\n",
    "\"\\x27\"\n",
    "\"\"\"\n",
    "\n",
    "\n",
    "def difference(s: str):\n",
    "    return sum(chars_in_code(l) - chars_in_memory(l) for l in s.strip().splitlines())\n",
    "\n",
    "\n",
    "assert difference(s) == 12\n",
    "\n",
    "# (2 + 5 + 10 + 6 = 23)\n",
    "# (0 + 3 + 7 + 1 = 11)"
   ]
  },
  {
   "cell_type": "code",
   "execution_count": 11,
   "metadata": {},
   "outputs": [
    {
     "data": {
      "text/plain": [
       "1371"
      ]
     },
     "execution_count": 11,
     "metadata": {},
     "output_type": "execute_result"
    }
   ],
   "source": [
    "with open(\"../input/day8.txt\", encoding=\"utf-8\") as f:\n",
    "    s = f.read()\n",
    "\n",
    "difference(s)"
   ]
  },
  {
   "cell_type": "markdown",
   "metadata": {},
   "source": [
    "<link href=\"style.css\" rel=\"stylesheet\"></link>\n",
    "<main>\n",
    "<article>\n",
    "<p>Your puzzle answer was <code>1371</code>.</p><p class=\"day-success\">The first half of this puzzle is complete! It provides one gold star: *</p>\n",
    "<article class=\"day-desc\"><h2 id=\"part2\">--- Part Two ---</h2><p>Now, let's go the other way.  In addition to finding the number of characters of code, you should now <em>encode each code representation as a new string</em> and find the number of characters of the new encoded representation, including the surrounding double quotes.</p>\n",
    "<p>For example:</p>\n",
    "<ul>\n",
    "<li><code>\"\"</code> encodes to <code>\"\\\"\\\"\"</code>, an increase from <code>2</code> characters to <code>6</code>.</li>\n",
    "<li><code>\"abc\"</code> encodes to <code>\"\\\"abc\\\"\"</code>, an increase from <code>5</code> characters to <code>9</code>.</li>\n",
    "<li><code>\"aaa\\\"aaa\"</code> encodes to <code>\"\\\"aaa\\\\\\\"aaa\\\"\"</code>, an increase from <code>10</code> characters to <code>16</code>.</li>\n",
    "<li><code>\"\\x27\"</code> encodes to <code>\"\\\"\\\\x27\\\"\"</code>, an increase from <code>6</code> characters to <code>11</code>.</li>\n",
    "</ul>\n",
    "<p>Your task is to find <em>the total number of characters to represent the newly encoded strings</em> minus <em>the number of characters of code in each original string literal</em>. For example, for the strings above, the total encoded length (<code>6 + 9 + 16 + 11 = 42</code>) minus the characters in the original code representation (<code>23</code>, just like in the first part of this puzzle) is <code>42 - 23 = 19</code>.</p>\n",
    "</article>\n",
    "\n",
    "</main>\n"
   ]
  },
  {
   "cell_type": "code",
   "execution_count": 12,
   "metadata": {},
   "outputs": [
    {
     "name": "stdout",
     "output_type": "stream",
     "text": [
      "\n",
      "\u001b[32mTest Example 1 passed, for convert.\u001b[0m\n",
      "\u001b[32mTest Example 2 passed, for convert.\u001b[0m\n",
      "\u001b[32mTest Example 3 passed, for convert.\u001b[0m\n",
      "\u001b[32mTest Example 4 passed, for convert.\u001b[0m\n",
      "\u001b[32mTest Example 5 passed, for convert.\u001b[0m\n",
      "\u001b[32mSuccess\u001b[0m\n"
     ]
    }
   ],
   "source": [
    "convert_tests = [\n",
    "    {\n",
    "        \"name\": \"Example 1\",\n",
    "        \"s\": r'\"\"',\n",
    "        \"expected\": r\"\\\"\\\"\",\n",
    "    },\n",
    "    {\n",
    "        \"name\": \"Example 2\",\n",
    "        \"s\": r'\"abc\"',\n",
    "        \"expected\": r\"\\\"abc\\\"\",\n",
    "    },\n",
    "    {\n",
    "        \"name\": \"Example 3\",\n",
    "        \"s\": r'\"aaa\\\"aaa\"',\n",
    "        \"expected\": r\"\\\"aaa\\\\\\\"aaa\\\"\",\n",
    "    },\n",
    "    {\n",
    "        \"name\": \"Example 4\",\n",
    "        \"s\": r'\"\\x27\"',\n",
    "        \"expected\": r\"\\\"\\\\x27\\\"\",\n",
    "    },\n",
    "    {\n",
    "        \"name\": \"Example 5\",\n",
    "        \"s\": r'\"\\\\\"',\n",
    "        \"expected\": r\"\\\"\\\\\\\\\\\"\",\n",
    "    },\n",
    "]\n",
    "\n",
    "\n",
    "def convert(s: str) -> str:\n",
    "    return s.replace(\"\\\\\", \"\\\\\\\\\").replace('\"', r\"\\\"\")\n",
    "\n",
    "\n",
    "run_tests_params(convert, convert_tests)"
   ]
  },
  {
   "cell_type": "code",
   "execution_count": 13,
   "metadata": {},
   "outputs": [],
   "source": [
    "s = r\"\"\"\n",
    "\"\"\n",
    "\"abc\"\n",
    "\"aaa\\\"aaa\"\n",
    "\"\\x27\"\n",
    "\"\"\"\n",
    "\n",
    "\n",
    "def diffII(s: str) -> int:\n",
    "    return sum(\n",
    "        chars_in_code(convert(l)) - chars_in_code(l) + 2 for l in s.strip().splitlines()\n",
    "    )\n",
    "\n",
    "\n",
    "assert diffII(s) == 19\n",
    "\n",
    "# For example, for the strings above, the total encoded length\n",
    "# (6 + 9 + 16 + 11 = 42)"
   ]
  },
  {
   "cell_type": "code",
   "execution_count": 14,
   "metadata": {},
   "outputs": [
    {
     "data": {
      "text/plain": [
       "2117"
      ]
     },
     "execution_count": 14,
     "metadata": {},
     "output_type": "execute_result"
    }
   ],
   "source": [
    "with open(\"../input/day8.txt\", encoding=\"utf-8\") as f:\n",
    "    s = f.read()\n",
    "\n",
    "diffII(s)"
   ]
  },
  {
   "cell_type": "markdown",
   "metadata": {},
   "source": [
    "<link href=\"style.css\" rel=\"stylesheet\"></link>\n",
    "\n",
    "<main>\n",
    "\n",
    "<p>Your puzzle answer was <code>2117</code>.</p><p class=\"day-success\">Both parts of this puzzle are complete! They provide two gold stars: **</p>\n",
    "<p>At this point, you should <a href=\"/2015\">return to your Advent calendar</a> and try another puzzle.</p>\n",
    "<p>If you still want to see it, you can <a href=\"8/input\" target=\"_blank\">get your puzzle input</a>.</p>\n",
    "<p>You can also <span class=\"share\">[Share<span class=\"share-content\">on\n",
    "  <a href=\"https://twitter.com/intent/tweet?text=I%27ve+completed+%22Matchsticks%22+%2D+Day+8+%2D+Advent+of+Code+2015&amp;url=https%3A%2F%2Fadventofcode%2Ecom%2F2015%2Fday%2F8&amp;related=ericwastl&amp;hashtags=AdventOfCode\" target=\"_blank\">Twitter</a>\n",
    "  <a href=\"javascript:void(0);\" onclick=\"var ms; try{ms=localStorage.getItem('mastodon.server')}finally{} if(typeof ms!=='string')ms=''; ms=prompt('Mastodon Server?',ms); if(typeof ms==='string' &amp;&amp; ms.length){this.href='https://'+ms+'/share?text=I%27ve+completed+%22Matchsticks%22+%2D+Day+8+%2D+Advent+of+Code+2015+%23AdventOfCode+https%3A%2F%2Fadventofcode%2Ecom%2F2015%2Fday%2F8';try{localStorage.setItem('mastodon.server',ms);}finally{}}else{return false;}\" target=\"_blank\">Mastodon</a></span>]</span> this puzzle.</p>\n",
    "</main>\n"
   ]
  },
  {
   "cell_type": "code",
   "execution_count": null,
   "metadata": {},
   "outputs": [],
   "source": []
  },
  {
   "cell_type": "code",
   "execution_count": null,
   "metadata": {},
   "outputs": [],
   "source": []
  }
 ],
 "metadata": {
  "kernelspec": {
   "display_name": ".venv",
   "language": "python",
   "name": "python3"
  },
  "language_info": {
   "codemirror_mode": {
    "name": "ipython",
    "version": 3
   },
   "file_extension": ".py",
   "mimetype": "text/x-python",
   "name": "python",
   "nbconvert_exporter": "python",
   "pygments_lexer": "ipython3",
   "version": "3.12.0"
  }
 },
 "nbformat": 4,
 "nbformat_minor": 2
}
