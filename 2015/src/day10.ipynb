{
 "cells": [
  {
   "cell_type": "code",
   "execution_count": 1,
   "metadata": {},
   "outputs": [],
   "source": [
    "# %matplotlib widget\n",
    "\n",
    "from __future__ import annotations\n",
    "\n",
    "import re\n",
    "from collections import defaultdict\n",
    "from dataclasses import dataclass, field\n",
    "from itertools import product\n",
    "from math import inf\n",
    "from random import choice\n",
    "\n",
    "import matplotlib.colors as mcolors\n",
    "import matplotlib.pyplot as plt\n",
    "import networkx as nx\n",
    "import numpy as np\n",
    "import numpy.typing as npt\n",
    "from mpl_toolkits.mplot3d import axes3d\n",
    "from numpy import int_, object_\n",
    "from numpy.typing import NDArray\n",
    "from test_utilities import run_tests_params\n",
    "from util import print_hex\n",
    "\n",
    "COLORS = list(mcolors.CSS4_COLORS.keys())"
   ]
  },
  {
   "cell_type": "markdown",
   "metadata": {},
   "source": [
    "<link href=\"style.css\" rel=\"stylesheet\"></link>\n",
    "<article class=\"day-desc\"><h2>--- Day 10: Elves Look, Elves Say ---</h2><p>Today, the Elves are playing a game called <a href=\"https://en.wikipedia.org/wiki/Look-and-say_sequence\">look-and-say</a>.  They take turns making sequences by reading aloud the previous sequence and using that reading as the next sequence.  For example, <code>211</code> is read as \"one two, two ones\", which becomes <code>1221</code> (<code>1</code> <code>2</code>, <code>2</code> <code>1</code>s).</p>\n",
    "<p>Look-and-say sequences are generated iteratively, using the previous value as input for the next step.  For each step, take the previous value, and replace each run of digits (like <code>111</code>) with the number of digits (<code>3</code>) followed by the digit itself (<code>1</code>).</p>\n",
    "<p>For example:</p>\n",
    "<ul>\n",
    "<li><code>1</code> becomes <code>11</code> (<code>1</code> copy of digit <code>1</code>).</li>\n",
    "<li><code>11</code> becomes <code>21</code> (<code>2</code> copies of digit <code>1</code>).</li>\n",
    "<li><code>21</code> becomes <code>1211</code> (one <code>2</code> followed by one <code>1</code>).</li>\n",
    "<li><code>1211</code> becomes <code>111221</code> (one <code>1</code>, one <code>2</code>, and two <code>1</code>s).</li>\n",
    "<li><code>111221</code> becomes <code>312211</code> (three <code>1</code>s, two <code>2</code>s, and one <code>1</code>).</li>\n",
    "</ul>\n",
    "<p>Starting with the digits in your puzzle input, apply this process 40 times.  What is <em>the length of the result</em>?</p>\n",
    "</article>\n",
    "\n",
    "<p>Your puzzle input is <code class=\"puzzle-input\">3113322113</code>.</p>\n"
   ]
  },
  {
   "cell_type": "code",
   "execution_count": 2,
   "metadata": {},
   "outputs": [
    {
     "name": "stdout",
     "output_type": "stream",
     "text": [
      "\n",
      "\u001b[32mTest Example 1 passed, for look_and_say_one_step.\u001b[0m\n",
      "\u001b[32mTest Example 1 passed, for look_and_say_one_step.\u001b[0m\n",
      "\u001b[32mTest Example 1 passed, for look_and_say_one_step.\u001b[0m\n",
      "\u001b[32mTest Example 1 passed, for look_and_say_one_step.\u001b[0m\n",
      "\u001b[32mTest Example 5 passed, for look_and_say_one_step.\u001b[0m\n",
      "\u001b[32mSuccess\u001b[0m\n"
     ]
    }
   ],
   "source": [
    "tests = [\n",
    "    {\n",
    "        \"name\": \"Example 1\",\n",
    "        \"s\": \"1\",\n",
    "        \"expected\": \"11\",\n",
    "    },\n",
    "    {\n",
    "        \"name\": \"Example 2\",\n",
    "        \"s\": \"11\",\n",
    "        \"expected\": \"21\",\n",
    "    },\n",
    "    {\n",
    "        \"name\": \"Example 3\",\n",
    "        \"s\": \"21\",\n",
    "        \"expected\": \"1211\",\n",
    "    },\n",
    "    {\n",
    "        \"name\": \"Example 4\",\n",
    "        \"s\": \"1211\",\n",
    "        \"expected\": \"111221\",\n",
    "    },\n",
    "    {\n",
    "        \"name\": \"Example 5\",\n",
    "        \"s\": \"111221\",\n",
    "        \"expected\": \"312211\",\n",
    "    },\n",
    "]\n",
    "\n",
    "\n",
    "def look_and_say_one_step(s: str) -> str:\n",
    "    count, prev = 1, s[0]\n",
    "    r = []\n",
    "    for c in s[1:]:\n",
    "        if c == prev:\n",
    "            count += 1\n",
    "        else:\n",
    "            r.append(str(count))\n",
    "            r.append(prev)\n",
    "            count = 1\n",
    "        prev = c\n",
    "\n",
    "    r.append(str(count))\n",
    "    r.append(prev)\n",
    "\n",
    "    return \"\".join(r)\n",
    "\n",
    "\n",
    "run_tests_params(look_and_say_one_step, tests)"
   ]
  },
  {
   "cell_type": "code",
   "execution_count": 3,
   "metadata": {},
   "outputs": [],
   "source": [
    "def look_and_say_one(s: str, n: int) -> str:\n",
    "    for i in range(n):\n",
    "        s = look_and_say_one_step(s)\n",
    "    return s\n",
    "\n",
    "\n",
    "assert look_and_say_one(\"1\", 5) == \"312211\"\n",
    "assert (\n",
    "    look_and_say_one(\"1\", 14)\n",
    "    == \"311311222113111231131112132112311321322112111312211312111322212311322113212221\"\n",
    ")"
   ]
  },
  {
   "cell_type": "code",
   "execution_count": 4,
   "metadata": {},
   "outputs": [
    {
     "data": {
      "text/plain": [
       "329356"
      ]
     },
     "execution_count": 4,
     "metadata": {},
     "output_type": "execute_result"
    }
   ],
   "source": [
    "len(look_and_say_one(\"3113322113\", 40))"
   ]
  },
  {
   "cell_type": "markdown",
   "metadata": {},
   "source": [
    "<link href=\"style.css\" rel=\"stylesheet\"></link>\n",
    "<main>\n",
    "\n",
    "<p>Your puzzle answer was <code>329356</code>.</p><p class=\"day-success\">The first half of this puzzle is complete! It provides one gold star: *</p>\n",
    "<article class=\"day-desc\"><h2 id=\"part2\">--- Part Two ---</h2><p>Neat, right? You might also enjoy hearing <a href=\"https://www.youtube.com/watch?v=ea7lJkEhytA\">John Conway talking about this sequence</a> (that's Conway of <em>Conway's Game of Life</em> fame).</p>\n",
    "<p>Now, starting again with the digits in your puzzle input, apply this process <em title=\"Only because any longer started taking alarmingly long on my test hardware, and I wanted to avoid excluding people.\">50</em> times.  What is <em>the length of the new result</em>?</p>\n",
    "</article>\n",
    "\n",
    "</main>\n"
   ]
  },
  {
   "cell_type": "code",
   "execution_count": 5,
   "metadata": {},
   "outputs": [
    {
     "data": {
      "text/plain": [
       "4666278"
      ]
     },
     "execution_count": 5,
     "metadata": {},
     "output_type": "execute_result"
    }
   ],
   "source": [
    "len(look_and_say_one(\"3113322113\", 50))"
   ]
  },
  {
   "cell_type": "markdown",
   "metadata": {},
   "source": [
    "<link href=\"style.css\" rel=\"stylesheet\"></link>\n",
    "\n",
    "<main>\n",
    "\n",
    "</p><article class=\"day-desc\"><h2 id=\"part2\">--- Part Two ---</h2><p>Neat, right? You might also enjoy hearing <a href=\"https://www.youtube.com/watch?v=ea7lJkEhytA\">John Conway talking about this sequence</a> (that's Conway of <em>Conway's Game of Life</em> fame).</p>\n",
    "<p>Now, starting again with the digits in your puzzle input, apply this process <em title=\"Only because any longer started taking alarmingly long on my test hardware, and I wanted to avoid excluding people.\">50</em> times.  What is <em>the length of the new result</em>?</p>\n",
    "</article>\n",
    "<p>Your puzzle answer was <code>4666278</code>.</p><p class=\"day-success\">Both parts of this puzzle are complete! They provide two gold stars: **</p>\n",
    "<p>At this point, you should <a href=\"/2015\">return to your Advent calendar</a> and try another puzzle.</p>\n",
    "<p>Your puzzle input was <code class=\"puzzle-input\">3113322113</code>.</p>\n",
    "<p>You can also <span class=\"share\">[Share<span class=\"share-content\">on\n",
    "  <a href=\"https://twitter.com/intent/tweet?text=I%27ve+completed+%22Elves+Look%2C+Elves+Say%22+%2D+Day+10+%2D+Advent+of+Code+2015&amp;url=https%3A%2F%2Fadventofcode%2Ecom%2F2015%2Fday%2F10&amp;related=ericwastl&amp;hashtags=AdventOfCode\" target=\"_blank\">Twitter</a>\n",
    "  <a href=\"javascript:void(0);\" onclick=\"var ms; try{ms=localStorage.getItem('mastodon.server')}finally{} if(typeof ms!=='string')ms=''; ms=prompt('Mastodon Server?',ms); if(typeof ms==='string' &amp;&amp; ms.length){this.href='https://'+ms+'/share?text=I%27ve+completed+%22Elves+Look%2C+Elves+Say%22+%2D+Day+10+%2D+Advent+of+Code+2015+%23AdventOfCode+https%3A%2F%2Fadventofcode%2Ecom%2F2015%2Fday%2F10';try{localStorage.setItem('mastodon.server',ms);}finally{}}else{return false;}\" target=\"_blank\">Mastodon</a></span>]</span> this puzzle.</p>\n",
    "</main>\n"
   ]
  },
  {
   "cell_type": "code",
   "execution_count": 27,
   "metadata": {},
   "outputs": [
    {
     "data": {
      "text/plain": [
       "'312211'"
      ]
     },
     "execution_count": 27,
     "metadata": {},
     "output_type": "execute_result"
    }
   ],
   "source": [
    "from itertools import groupby\n",
    "\n",
    "from more_itertools import flatten\n",
    "\n",
    "\n",
    "def look_and_say_itr(s: str, n) -> str:\n",
    "    l = [int(i) for i in s]\n",
    "    for _ in range(n):\n",
    "        l = flatten((len(list(b)), a) for a, b in groupby(l))\n",
    "    return \"\".join(map(str, l))\n",
    "\n",
    "\n",
    "look_and_say_itr(\"1\", 5)"
   ]
  },
  {
   "cell_type": "code",
   "execution_count": 28,
   "metadata": {},
   "outputs": [
    {
     "name": "stdout",
     "output_type": "stream",
     "text": [
      "2.04 s ± 85.2 ms per loop (mean ± std. dev. of 7 runs, 1 loop each)\n"
     ]
    }
   ],
   "source": [
    "%%timeit\n",
    "len(look_and_say_one(\"3113322113\", 50))"
   ]
  },
  {
   "cell_type": "code",
   "execution_count": 30,
   "metadata": {},
   "outputs": [
    {
     "name": "stdout",
     "output_type": "stream",
     "text": [
      "7.42 s ± 66.8 ms per loop (mean ± std. dev. of 7 runs, 1 loop each)\n"
     ]
    }
   ],
   "source": [
    "%%timeit\n",
    "len(look_and_say_itr(\"3113322113\", 50))"
   ]
  },
  {
   "cell_type": "code",
   "execution_count": null,
   "metadata": {},
   "outputs": [],
   "source": []
  }
 ],
 "metadata": {
  "kernelspec": {
   "display_name": ".venv",
   "language": "python",
   "name": "python3"
  },
  "language_info": {
   "codemirror_mode": {
    "name": "ipython",
    "version": 3
   },
   "file_extension": ".py",
   "mimetype": "text/x-python",
   "name": "python",
   "nbconvert_exporter": "python",
   "pygments_lexer": "ipython3",
   "version": "3.12.0"
  }
 },
 "nbformat": 4,
 "nbformat_minor": 2
}
