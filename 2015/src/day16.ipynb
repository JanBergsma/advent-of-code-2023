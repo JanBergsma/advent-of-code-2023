{
 "cells": [
  {
   "cell_type": "code",
   "execution_count": 1,
   "metadata": {},
   "outputs": [],
   "source": [
    "# %matplotlib widget\n",
    "\n",
    "from __future__ import annotations\n",
    "\n",
    "import re\n",
    "from collections import defaultdict\n",
    "from dataclasses import dataclass, field\n",
    "from itertools import permutations, product\n",
    "from math import inf\n",
    "from random import choice\n",
    "\n",
    "import matplotlib.colors as mcolors\n",
    "import matplotlib.pyplot as plt\n",
    "import networkx as nx\n",
    "import numpy as np\n",
    "import numpy.typing as npt\n",
    "from mpl_toolkits.mplot3d import axes3d\n",
    "from numpy import int_, object_\n",
    "from numpy.typing import NDArray\n",
    "from test_utilities import run_tests_params\n",
    "from util import print_hex\n",
    "\n",
    "COLORS = list(mcolors.CSS4_COLORS.keys())"
   ]
  },
  {
   "cell_type": "markdown",
   "metadata": {},
   "source": [
    "<link href=\"style.css\" rel=\"stylesheet\"></link>\n",
    "<article class=\"day-desc\"><h2>--- Day 16: Aunt Sue ---</h2><p>Your Aunt Sue has given you a wonderful gift, and you'd like to send her a thank you card.  However, there's a small problem: she signed it \"From, Aunt Sue\".</p>\n",
    "<p>You have 500 Aunts named \"Sue\".</p>\n",
    "<p>So, to avoid sending the card to the wrong person, you need to figure out which Aunt Sue (which you conveniently number 1 to 500, for sanity) gave you the gift.  You open the present and, as luck would have it, good ol' Aunt Sue got you a My First Crime Scene Analysis Machine!  Just what you wanted.  Or needed, as the case may be.</p>\n",
    "<p>The My First Crime Scene Analysis Machine (MFCSAM for short) can detect a few specific compounds in a given sample, as well as how many distinct kinds of those compounds there are. According to the instructions, these are what the MFCSAM can detect:</p>\n",
    "<ul>\n",
    "<li><code>children</code>, by human DNA age analysis.</li>\n",
    "<li><code>cats</code>.  It doesn't differentiate individual breeds.</li>\n",
    "<li>Several <span title=\"It can tell them apart by their distinct Dog Residue.\">seemingly random breeds of dog</span>: <code><a href=\"https://en.wikipedia.org/wiki/Samoyed_%28dog%29\">samoyeds</a></code>, <code><a href=\"https://en.wikipedia.org/wiki/Pomeranian_%28dog%29\">pomeranians</a></code>, <code><a href=\"https://en.wikipedia.org/wiki/Akita_%28dog%29\">akitas</a></code>, and <code><a href=\"https://en.wikipedia.org/wiki/Vizsla\">vizslas</a></code>.</li>\n",
    "<li><code>goldfish</code>.  No other kinds of fish.</li>\n",
    "<li><code>trees</code>, all in one group.</li>\n",
    "<li><code>cars</code>, presumably by exhaust or gasoline or something.</li>\n",
    "<li><code>perfumes</code>, which is handy, since many of your Aunts Sue wear a few kinds.</li>\n",
    "</ul>\n",
    "<p>In fact, many of your Aunts Sue have many of these.  You put the wrapping from the gift into the MFCSAM.  It beeps inquisitively at you a few times and then prints out a message on <a href=\"https://en.wikipedia.org/wiki/Ticker_tape\">ticker tape</a>:</p>\n",
    "<pre><code>children: 3\n",
    "cats: 7\n",
    "samoyeds: 2\n",
    "pomeranians: 3\n",
    "akitas: 0\n",
    "vizslas: 0\n",
    "goldfish: 5\n",
    "trees: 3\n",
    "cars: 2\n",
    "perfumes: 1\n",
    "</code></pre>\n",
    "<p>You make a list of the things you can remember about each Aunt Sue.  Things missing from your list aren't zero - you simply don't remember the value.</p>\n",
    "<p>What is the <em>number</em> of the Sue that got you the gift?</p>\n",
    "</article>\n"
   ]
  },
  {
   "cell_type": "code",
   "execution_count": 83,
   "metadata": {},
   "outputs": [
    {
     "data": {
      "text/plain": [
       "'Sue 373'"
      ]
     },
     "execution_count": 83,
     "metadata": {},
     "output_type": "execute_result"
    }
   ],
   "source": [
    "from pprint import pprint\n",
    "\n",
    "\n",
    "tickertape = \"\"\"\n",
    "children: 3\n",
    "cats: 7\n",
    "samoyeds: 2\n",
    "pomeranians: 3\n",
    "akitas: 0\n",
    "vizslas: 0\n",
    "goldfish: 5\n",
    "trees: 3\n",
    "cars: 2\n",
    "perfumes: 1\n",
    "\"\"\"\n",
    "\n",
    "\n",
    "def parse_ticker(tickertape: str) -> dict[str, int]:\n",
    "    given = {}\n",
    "    for l in tickertape.strip().splitlines():\n",
    "        name, i = l.split(\": \")\n",
    "        given[name] = int(i)\n",
    "    return given\n",
    "\n",
    "\n",
    "def parse_sues(s: str) -> dict[str, dict[str, int]]:\n",
    "    sues = {}\n",
    "    for l in s.strip().splitlines():\n",
    "        i = re.search(r\"Sue \\d+:\\s+\", l)\n",
    "        sue = l[: i.end() - 2]\n",
    "        things = l[i.end() :]\n",
    "        sues[sue] = {}\n",
    "        sue = sues[sue]\n",
    "        for thing in things.split(\", \"):\n",
    "            name, count = thing.split(\": \")\n",
    "            sue[name] = int(count)\n",
    "\n",
    "    return sues\n",
    "\n",
    "\n",
    "ticker = parse_ticker(tickertape)\n",
    "\n",
    "with open(\"../input/day16.txt\") as f:\n",
    "    sues = parse_sues(f.read())\n",
    "\n",
    "\n",
    "def could_be_the_sue(ticker: dict[str, int], sue: dict[str, int]) -> bool:\n",
    "    for name, value in sue.items():\n",
    "        if value != ticker[name]:\n",
    "            return False\n",
    "    return True\n",
    "\n",
    "\n",
    "next(sue for sue in sues.keys() if could_be_the_sue(ticker, sues[sue]))"
   ]
  },
  {
   "cell_type": "markdown",
   "metadata": {},
   "source": [
    "<link href=\"style.css\" rel=\"stylesheet\"></link>\n",
    "<main>\n",
    "\n",
    "<p>Your puzzle answer was <code>373</code>.</p><p class=\"day-success\">The first half of this puzzle is complete! It provides one gold star: *</p>\n",
    "<article class=\"day-desc\"><h2 id=\"part2\">--- Part Two ---</h2><p>As you're about to send the thank you note, something in the MFCSAM's instructions catches your eye.  Apparently, it has an outdated <a href=\"https://www.youtube.com/watch?v=RXJKdh1KZ0w\">retroencabulator</a>, and so the output from the machine isn't exact values - some of them indicate ranges.</p>\n",
    "<p>In particular, the <code>cats</code> and <code>trees</code> readings indicates that there are <em>greater than</em> that many (due to the unpredictable nuclear decay of cat dander and tree pollen), while the <code>pomeranians</code> and <code>goldfish</code> readings indicate that there are <em>fewer than</em> that many (due to the modial interaction of magnetoreluctance).</p>\n",
    "<p>What is the <em>number</em> of the real Aunt Sue?</p>\n",
    "</article>\n",
    "\n",
    "</main>\n"
   ]
  },
  {
   "cell_type": "code",
   "execution_count": 86,
   "metadata": {},
   "outputs": [
    {
     "data": {
      "text/plain": [
       "'Sue 260'"
      ]
     },
     "execution_count": 86,
     "metadata": {},
     "output_type": "execute_result"
    }
   ],
   "source": [
    "def could_be_the_sue_II(ticker: dict[str, int], sue: dict[str, int]) -> bool:\n",
    "    for name, value in sue.items():\n",
    "        if name in (\"cats\", \"trees\"):\n",
    "            if value <= ticker[name]:\n",
    "                return False\n",
    "        elif name in (\"pomeranians\", \"goldfish\"):\n",
    "            if value >= ticker[name]:\n",
    "                return False\n",
    "        elif value != ticker[name]:\n",
    "            return False\n",
    "    return True\n",
    "\n",
    "\n",
    "next(sue for sue, vs in sues.items() if could_be_the_sue_II(ticker, vs))"
   ]
  },
  {
   "cell_type": "markdown",
   "metadata": {},
   "source": [
    "<link href=\"style.css\" rel=\"stylesheet\"></link>\n",
    "<main>\n",
    "\n",
    "<p>Your puzzle answer was <code>260</code>.</p><p class=\"day-success\">Both parts of this puzzle are complete! They provide two gold stars: **</p>\n",
    "<p>At this point, you should <a href=\"/2015\">return to your Advent calendar</a> and try another puzzle.</p>\n",
    "<p>If you still want to see it, you can <a href=\"16/input\" target=\"_blank\">get your puzzle input</a>.</p>\n",
    "<p>You can also <span class=\"share\">[Share<span class=\"share-content\">on\n",
    "  <a href=\"https://twitter.com/intent/tweet?text=I%27ve+completed+%22Aunt+Sue%22+%2D+Day+16+%2D+Advent+of+Code+2015&amp;url=https%3A%2F%2Fadventofcode%2Ecom%2F2015%2Fday%2F16&amp;related=ericwastl&amp;hashtags=AdventOfCode\" target=\"_blank\">Twitter</a>\n",
    "  <a href=\"javascript:void(0);\" onclick=\"var ms; try{ms=localStorage.getItem('mastodon.server')}finally{} if(typeof ms!=='string')ms=''; ms=prompt('Mastodon Server?',ms); if(typeof ms==='string' &amp;&amp; ms.length){this.href='https://'+ms+'/share?text=I%27ve+completed+%22Aunt+Sue%22+%2D+Day+16+%2D+Advent+of+Code+2015+%23AdventOfCode+https%3A%2F%2Fadventofcode%2Ecom%2F2015%2Fday%2F16';try{localStorage.setItem('mastodon.server',ms);}finally{}}else{return false;}\" target=\"_blank\">Mastodon</a></span>]</span> this puzzle.</p>\n",
    "</main>\n"
   ]
  },
  {
   "cell_type": "code",
   "execution_count": null,
   "metadata": {},
   "outputs": [],
   "source": []
  }
 ],
 "metadata": {
  "kernelspec": {
   "display_name": ".venv",
   "language": "python",
   "name": "python3"
  },
  "language_info": {
   "codemirror_mode": {
    "name": "ipython",
    "version": 3
   },
   "file_extension": ".py",
   "mimetype": "text/x-python",
   "name": "python",
   "nbconvert_exporter": "python",
   "pygments_lexer": "ipython3",
   "version": "3.12.0"
  }
 },
 "nbformat": 4,
 "nbformat_minor": 2
}
