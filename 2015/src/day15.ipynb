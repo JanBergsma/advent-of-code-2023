{
 "cells": [
  {
   "cell_type": "code",
   "execution_count": 73,
   "metadata": {},
   "outputs": [],
   "source": [
    "# %matplotlib widget\n",
    "\n",
    "from __future__ import annotations\n",
    "\n",
    "import re\n",
    "from collections import defaultdict\n",
    "from dataclasses import dataclass, field\n",
    "from itertools import permutations, product\n",
    "from math import inf\n",
    "from random import choice\n",
    "\n",
    "import matplotlib.colors as mcolors\n",
    "import matplotlib.pyplot as plt\n",
    "import networkx as nx\n",
    "import numpy as np\n",
    "import numpy.typing as npt\n",
    "from mpl_toolkits.mplot3d import axes3d\n",
    "from numpy import int_, object_\n",
    "from numpy.typing import NDArray\n",
    "from test_utilities import run_tests_params\n",
    "from util import print_hex\n",
    "\n",
    "COLORS = list(mcolors.CSS4_COLORS.keys())"
   ]
  },
  {
   "cell_type": "markdown",
   "metadata": {},
   "source": [
    "<link href=\"style.css\" rel=\"stylesheet\"></link>\n",
    "<article class=\"day-desc read-aloud\"><h2>--- Day 15: Science for Hungry People ---</h2><p>Today, you set out on the task of perfecting your milk-dunking cookie recipe.  All you have to do is find the right balance of ingredients.</p>\n",
    "<p>Your recipe leaves room for exactly <code>100</code> teaspoons of ingredients.  You make a list of the <em>remaining ingredients you could use to finish the recipe</em> (your puzzle input) and their <em>properties per teaspoon</em>:</p>\n",
    "<ul>\n",
    "<li><code>capacity</code> (how well it helps the cookie absorb milk)</li>\n",
    "<li><code>durability</code> (how well it keeps the cookie intact when full of milk)</li>\n",
    "<li><code>flavor</code> (how tasty it makes the cookie)</li>\n",
    "<li><code>texture</code> (how it improves the feel of the cookie)</li>\n",
    "<li><code>calories</code> (how many calories it adds to the cookie)</li>\n",
    "</ul>\n",
    "<p>You can only measure ingredients in whole-teaspoon amounts accurately, and you have to be accurate so you can reproduce your results in the future.  The <em>total score</em> of a cookie can be found by adding up each of the properties (negative totals become <code>0</code>) and then multiplying together everything except calories.</p>\n",
    "<p>For instance, suppose you have <span title=\"* I know what your preference is, but...\">these two ingredients</span>:</p>\n",
    "<pre><code>Butterscotch: capacity -1, durability -2, flavor 6, texture 3, calories 8\n",
    "Cinnamon: capacity 2, durability 3, flavor -2, texture -1, calories 3\n",
    "</code></pre>\n",
    "<p>Then, choosing to use <code>44</code> teaspoons of butterscotch and <code>56</code> teaspoons of cinnamon (because the amounts of each ingredient must add up to <code>100</code>) would result in a cookie with the following properties:</p>\n",
    "<ul>\n",
    "<li>A <code>capacity</code> of <code>44*-1 + 56*2 = 68</code></li>\n",
    "<li>A <code>durability</code> of <code>44*-2 + 56*3 = 80</code></li>\n",
    "<li>A <code>flavor</code> of <code>44*6 + 56*-2 = 152</code></li>\n",
    "<li>A <code>texture</code> of <code>44*3 + 56*-1 = 76</code></li>\n",
    "</ul>\n",
    "<p>Multiplying these together (<code>68 * 80 * 152 * 76</code>, ignoring <code>calories</code> for now) results in a total score of  <code>62842880</code>, which happens to be the best score possible given these ingredients.  If any properties had produced a negative total, it would have instead become zero, causing the whole score to multiply to zero.</p>\n",
    "<p>Given the ingredients in your kitchen and their properties, what is the <em>total score</em> of the highest-scoring cookie you can make?</p>\n",
    "</article>\n"
   ]
  },
  {
   "cell_type": "code",
   "execution_count": 74,
   "metadata": {},
   "outputs": [],
   "source": [
    "from functools import cache\n",
    "from typing import Iterator, Sequence\n",
    "\n",
    "\n",
    "s = \"\"\"\n",
    "Butterscotch: capacity -1, durability -2, flavor 6, texture 3, calories 8\n",
    "Cinnamon: capacity 2, durability 3, flavor -2, texture -1, calories 3\n",
    "\"\"\"\n",
    "\n",
    "\n",
    "@dataclass(frozen=True, slots=True)\n",
    "class Ingredient:\n",
    "    name: str\n",
    "    capacity: int  # (how well it helps the cookie absorb milk)\n",
    "    durability: int  # (how well it keeps the cookie intact when full of milk)\n",
    "    flavor: int  # (how tasty it makes the cookie)\n",
    "    texture: int  # (how it improves the feel of the cookie)\n",
    "    calories: int  # (how many calories it adds to the cookie)\n",
    "\n",
    "\n",
    "@dataclass(init=False, slots=True)\n",
    "class Cookie:\n",
    "    ingredients: list[Ingredient]\n",
    "\n",
    "    def __init__(self, s: str) -> None:\n",
    "        self.ingredients = self.parse(s)\n",
    "\n",
    "    def max_score(self, total_tea_spoons: int = 100) -> int:\n",
    "        return max(self.total_score(t) for t in self.ingredients_permutations())\n",
    "\n",
    "    def max_score_with_exact_calories(\n",
    "        self, total_tea_spoons: int = 100, calories: int = 500\n",
    "    ) -> int:\n",
    "        return max(\n",
    "            self.total_score(t)\n",
    "            for t in self.ingredients_permutations()\n",
    "            if self.calories(t) == 500\n",
    "        )\n",
    "\n",
    "    def ingredients_permutations(\n",
    "        self, total_tea_spoons: int = 100\n",
    "    ) -> Iterator[tuple[int, ...]]:\n",
    "        def dfs(n: int, rest: int, acc: tuple[int, ...]) -> Iterator[tuple[int, ...]]:\n",
    "            if n == 1:\n",
    "                yield acc + (rest,)\n",
    "            else:\n",
    "                for i in range(1, rest):\n",
    "                    if rest - i > 0:\n",
    "                        yield from dfs(n - 1, rest - i, acc + (i,))\n",
    "\n",
    "        yield from dfs(len(self.ingredients), total_tea_spoons, tuple())\n",
    "\n",
    "    @classmethod\n",
    "    def parse(cls, s: str) -> list[Ingredient]:\n",
    "        ingredients = []\n",
    "        for l in s.strip().splitlines():\n",
    "            name, rest = l.split(\":\")\n",
    "            rest = [int(r.split(\" \")[-1]) for r in rest.split(\", \")]\n",
    "            ingredients.append(Ingredient(name, *rest))\n",
    "        return ingredients\n",
    "\n",
    "    def capacity(self, tea_spones: Sequence[int]) -> int:\n",
    "        return max(sum(i.capacity * t for i, t in zip(self.ingredients, tea_spones)), 0)\n",
    "\n",
    "    def durability(self, tea_spones: Sequence[int]) -> int:\n",
    "        return max(\n",
    "            sum(i.durability * t for i, t in zip(self.ingredients, tea_spones)), 0\n",
    "        )\n",
    "\n",
    "    def flavor(self, tea_spones: Sequence[int]) -> int:\n",
    "        return max(sum(i.flavor * t for i, t in zip(self.ingredients, tea_spones)), 0)\n",
    "\n",
    "    def texture(self, tea_spones: Sequence[int]) -> int:\n",
    "        return max(sum(i.texture * t for i, t in zip(self.ingredients, tea_spones)), 0)\n",
    "\n",
    "    def calories(self, tea_spones: Sequence[int]) -> int:\n",
    "        return max(sum(i.calories * t for i, t in zip(self.ingredients, tea_spones)), 0)\n",
    "\n",
    "    def total_score(self, tea_spones: Sequence[int]) -> int:\n",
    "        return (\n",
    "            self.capacity(tea_spones)\n",
    "            * self.durability(tea_spones)\n",
    "            * self.flavor(tea_spones)\n",
    "            * self.texture(tea_spones)\n",
    "        )\n",
    "\n",
    "\n",
    "assert Cookie(s).max_score() == 62842880"
   ]
  },
  {
   "cell_type": "code",
   "execution_count": 75,
   "metadata": {},
   "outputs": [
    {
     "data": {
      "text/plain": [
       "21367368"
      ]
     },
     "execution_count": 75,
     "metadata": {},
     "output_type": "execute_result"
    }
   ],
   "source": [
    "fs = \"\"\"\n",
    "Sprinkles: capacity 2, durability 0, flavor -2, texture 0, calories 3\n",
    "Butterscotch: capacity 0, durability 5, flavor -3, texture 0, calories 3\n",
    "Chocolate: capacity 0, durability 0, flavor 5, texture -1, calories 8\n",
    "Candy: capacity 0, durability -1, flavor 0, texture 5, calories 8\n",
    "\"\"\"\n",
    "Cookie(fs).max_score()"
   ]
  },
  {
   "cell_type": "markdown",
   "metadata": {},
   "source": [
    "<link href=\"style.css\" rel=\"stylesheet\"></link>\n",
    "<main>\n",
    "\n",
    "<p>Your puzzle answer was <code>21367368</code>.</p><p class=\"day-success\">The first half of this puzzle is complete! It provides one gold star: *</p>\n",
    "<article class=\"day-desc\"><h2 id=\"part2\">--- Part Two ---</h2><p>Your cookie recipe becomes wildly popular!  Someone asks if you can make another recipe that has exactly <code>500</code> calories per cookie (so they can use it as a meal replacement).  Keep the rest of your award-winning process the same (100 teaspoons, same ingredients, same scoring system).</p>\n",
    "<p>For example, given the ingredients above, if you had instead selected <code>40</code> teaspoons of butterscotch and <code>60</code> teaspoons of cinnamon (which still adds to <code>100</code>), the total calorie count would be <code>40*8 + 60*3 = 500</code>.  The total score would go down, though: only <code>57600000</code>, the best you can do in such trying circumstances.</p>\n",
    "<p>Given the ingredients in your kitchen and their properties, what is the <em>total score</em> of the highest-scoring cookie you can make with a calorie total of <code>500</code>?</p>\n",
    "</article>\n",
    "\n",
    "</main>\n"
   ]
  },
  {
   "cell_type": "code",
   "execution_count": 76,
   "metadata": {},
   "outputs": [],
   "source": [
    "assert Cookie(s).max_score_with_exact_calories() == 57600000"
   ]
  },
  {
   "cell_type": "code",
   "execution_count": 77,
   "metadata": {},
   "outputs": [
    {
     "data": {
      "text/plain": [
       "1766400"
      ]
     },
     "execution_count": 77,
     "metadata": {},
     "output_type": "execute_result"
    }
   ],
   "source": [
    "Cookie(fs).max_score_with_exact_calories()"
   ]
  },
  {
   "cell_type": "markdown",
   "metadata": {},
   "source": [
    "<link href=\"style.css\" rel=\"stylesheet\"></link>\n",
    "<main>\n",
    "\n",
    "<p>Your puzzle answer was <code>1766400</code>.</p><p class=\"day-success\">Both parts of this puzzle are complete! They provide two gold stars: **</p>\n",
    "<p>At this point, you should <a href=\"/2015\">return to your Advent calendar</a> and try another puzzle.</p>\n",
    "<p>If you still want to see it, you can <a href=\"15/input\" target=\"_blank\">get your puzzle input</a>.</p>\n",
    "<p>You can also <span class=\"share\">[Share<span class=\"share-content\">on\n",
    "  <a href=\"https://twitter.com/intent/tweet?text=I%27ve+completed+%22Science+for+Hungry+People%22+%2D+Day+15+%2D+Advent+of+Code+2015&amp;url=https%3A%2F%2Fadventofcode%2Ecom%2F2015%2Fday%2F15&amp;related=ericwastl&amp;hashtags=AdventOfCode\" target=\"_blank\">Twitter</a>\n",
    "  <a href=\"javascript:void(0);\" onclick=\"var ms; try{ms=localStorage.getItem('mastodon.server')}finally{} if(typeof ms!=='string')ms=''; ms=prompt('Mastodon Server?',ms); if(typeof ms==='string' &amp;&amp; ms.length){this.href='https://'+ms+'/share?text=I%27ve+completed+%22Science+for+Hungry+People%22+%2D+Day+15+%2D+Advent+of+Code+2015+%23AdventOfCode+https%3A%2F%2Fadventofcode%2Ecom%2F2015%2Fday%2F15';try{localStorage.setItem('mastodon.server',ms);}finally{}}else{return false;}\" target=\"_blank\">Mastodon</a></span>]</span> this puzzle.</p>\n",
    "</main>\n"
   ]
  },
  {
   "cell_type": "code",
   "execution_count": null,
   "metadata": {},
   "outputs": [],
   "source": []
  }
 ],
 "metadata": {
  "kernelspec": {
   "display_name": ".venv",
   "language": "python",
   "name": "python3"
  },
  "language_info": {
   "codemirror_mode": {
    "name": "ipython",
    "version": 3
   },
   "file_extension": ".py",
   "mimetype": "text/x-python",
   "name": "python",
   "nbconvert_exporter": "python",
   "pygments_lexer": "ipython3",
   "version": "3.12.0"
  }
 },
 "nbformat": 4,
 "nbformat_minor": 2
}
