{
 "cells": [
  {
   "cell_type": "code",
   "execution_count": 21,
   "metadata": {},
   "outputs": [],
   "source": [
    "# %matplotlib widget\n",
    "\n",
    "from __future__ import annotations\n",
    "\n",
    "import re\n",
    "from collections import defaultdict\n",
    "from dataclasses import dataclass, field\n",
    "from itertools import permutations, product\n",
    "from math import inf\n",
    "from random import choice\n",
    "\n",
    "import matplotlib.colors as mcolors\n",
    "import matplotlib.pyplot as plt\n",
    "import networkx as nx\n",
    "import numpy as np\n",
    "import numpy.typing as npt\n",
    "from mpl_toolkits.mplot3d import axes3d\n",
    "from numpy import int_, object_\n",
    "from numpy.typing import NDArray\n",
    "from test_utilities import run_tests_params\n",
    "from util import print_hex\n",
    "\n",
    "COLORS = list(mcolors.CSS4_COLORS.keys())"
   ]
  },
  {
   "cell_type": "markdown",
   "metadata": {},
   "source": [
    "<link href=\"style.css\" rel=\"stylesheet\"></link>\n",
    "<article class=\"day-desc\"><h2>--- Day 4: Secure Container ---</h2><p>You arrive at the Venus fuel depot only to discover it's protected by a password.  The Elves had written the password on a sticky note, but someone <span title=\"Look on the bright side - isn't it more secure if nobody knows the password?\">threw it out</span>.</p>\n",
    "<p>However, they do remember a few key facts about the password:</p>\n",
    "<ul>\n",
    "<li>It is a six-digit number.</li>\n",
    "<li>The value is within the range given in your puzzle input.</li>\n",
    "<li>Two adjacent digits are the same (like <code>22</code> in <code>1<em>22</em>345</code>).</li>\n",
    "<li>Going from left to right, the digits <em>never decrease</em>; they only ever increase or stay the same (like <code>111123</code> or <code>135679</code>).</li>\n",
    "</ul>\n",
    "<p>Other than the range rule, the following are true:</p>\n",
    "<ul>\n",
    "<li><code>111111</code> meets these criteria (double <code>11</code>, never decreases).</li>\n",
    "<li><code>2234<em>50</em></code> does not meet these criteria (decreasing pair of digits <code>50</code>).</li>\n",
    "<li><code>123789</code> does not meet these criteria (no double).</li>\n",
    "</ul>\n",
    "<p><em>How many different passwords</em> within the range given in your puzzle input meet these criteria?</p>\n",
    "</article>\n"
   ]
  },
  {
   "cell_type": "code",
   "execution_count": 22,
   "metadata": {},
   "outputs": [
    {
     "name": "stdout",
     "output_type": "stream",
     "text": [
      "\n",
      "\u001b[32mTest Example 1 passed, for validate.\u001b[0m\n",
      "\u001b[32mTest Example 2 passed, for validate.\u001b[0m\n",
      "\u001b[32mTest Example 3 passed, for validate.\u001b[0m\n",
      "\u001b[32mSuccess\u001b[0m\n"
     ]
    }
   ],
   "source": [
    "tests = [\n",
    "    {\n",
    "        \"name\": \"Example 1\",\n",
    "        \"password\": 111111,\n",
    "        \"expected\": True,\n",
    "    },\n",
    "    {\n",
    "        \"name\": \"Example 2\",\n",
    "        \"password\": 223450,\n",
    "        \"expected\": False,\n",
    "    },\n",
    "    {\n",
    "        \"name\": \"Example 3\",\n",
    "        \"password\": 123789,\n",
    "        \"expected\": False,\n",
    "    },\n",
    "]\n",
    "\n",
    "\n",
    "def validate(password: int) -> bool:\n",
    "    # It is a six-digit number.\n",
    "    pws = str(password)\n",
    "    if len(pws) != 6:\n",
    "        return False\n",
    "    two_adjacent_same = False\n",
    "    # Two adjacent digits are the same (like 22 in 122345).\n",
    "    # Going from left to right, the digits never decrease;\n",
    "    # they only ever increase or stay the same (like 111123 or 135679)\n",
    "    for i in range(1, len(pws)):\n",
    "        two_adjacent_same |= pws[i - 1] == pws[i]\n",
    "        if pws[i - 1] > pws[i]:\n",
    "            return False\n",
    "    return two_adjacent_same\n",
    "\n",
    "\n",
    "run_tests_params(validate, tests)"
   ]
  },
  {
   "cell_type": "code",
   "execution_count": 23,
   "metadata": {},
   "outputs": [
    {
     "name": "stdout",
     "output_type": "stream",
     "text": [
      "Part I: 931\n"
     ]
    }
   ],
   "source": [
    "answer = sum(1 for pw in range(272091, 815432 + 1) if validate(pw))\n",
    "print(f\"Part I: {answer}\")"
   ]
  },
  {
   "cell_type": "markdown",
   "metadata": {},
   "source": [
    "<link href=\"style.css\" rel=\"stylesheet\"></link>\n",
    "<main>\n",
    "\n",
    "<p>Your puzzle answer was <code>931</code>.</p><p class=\"day-success\">The first half of this puzzle is complete! It provides one gold star: *</p>\n",
    "<article class=\"day-desc\"><h2 id=\"part2\">--- Part Two ---</h2><p>An Elf just remembered one more important detail: the two adjacent matching digits <em>are not part of a larger group of matching digits</em>.</p>\n",
    "<p>Given this additional criterion, but still ignoring the range rule, the following are now true:</p>\n",
    "<ul>\n",
    "<li><code>112233</code> meets these criteria because the digits never decrease and all repeated digits are exactly two digits long.</li>\n",
    "<li><code>123<em>444</em></code> no longer meets the criteria (the repeated <code>44</code> is part of a larger group of <code>444</code>).</li>\n",
    "<li><code>111122</code> meets the criteria (even though <code>1</code> is repeated more than twice, it still contains a double <code>22</code>).</li>\n",
    "</ul>\n",
    "<p><em>How many different passwords</em> within the range given in your puzzle input meet all of the criteria?</p>\n",
    "</article>\n",
    "\n",
    "</main>\n"
   ]
  },
  {
   "cell_type": "code",
   "execution_count": 24,
   "metadata": {},
   "outputs": [
    {
     "name": "stdout",
     "output_type": "stream",
     "text": [
      "\n",
      "\u001b[32mTest Example 1 passed, for validate_II.\u001b[0m\n",
      "\u001b[32mTest Example 2 passed, for validate_II.\u001b[0m\n",
      "\u001b[32mTest Example 3 passed, for validate_II.\u001b[0m\n",
      "\u001b[32mSuccess\u001b[0m\n"
     ]
    }
   ],
   "source": [
    "tests = [\n",
    "    {\n",
    "        \"name\": \"Example 1\",\n",
    "        \"password\": 112233,\n",
    "        \"expected\": True,\n",
    "    },\n",
    "    {\n",
    "        \"name\": \"Example 2\",\n",
    "        \"password\": 123444,\n",
    "        \"expected\": False,\n",
    "    },\n",
    "    {\n",
    "        \"name\": \"Example 3\",\n",
    "        \"password\": 111122,\n",
    "        \"expected\": True,\n",
    "    },\n",
    "]\n",
    "\n",
    "\n",
    "def validate_II(password: int) -> bool:\n",
    "    # It is a six-digit number.\n",
    "    pws = str(password)\n",
    "    if len(pws) != 6:\n",
    "        return False\n",
    "    # Two adjacent digits are the same (like 22 in 122345).\n",
    "    # The two adjacent matching digits are not part of a larger\n",
    "    # group of matching digits\n",
    "    # Going from left to right, the digits never decrease;\n",
    "    # they only ever increase or stay the same (like 111123 or 135679)\n",
    "    two_adjacent_same = False\n",
    "    count = 1\n",
    "    prev = pws[0]\n",
    "    for i in range(1, len(pws)):\n",
    "        if prev == pws[i]:\n",
    "            count += 1\n",
    "        else:\n",
    "            two_adjacent_same |= count == 2\n",
    "            count = 1\n",
    "            prev = pws[i]\n",
    "\n",
    "        if pws[i - 1] > pws[i]:\n",
    "            return False\n",
    "    return two_adjacent_same or count == 2\n",
    "\n",
    "\n",
    "run_tests_params(validate_II, tests)"
   ]
  },
  {
   "cell_type": "code",
   "execution_count": 25,
   "metadata": {},
   "outputs": [
    {
     "name": "stdout",
     "output_type": "stream",
     "text": [
      "Part II: 609\n"
     ]
    }
   ],
   "source": [
    "answer = sum(1 for pw in range(272091, 815432 + 1) if validate_II(pw))\n",
    "print(f\"Part II: {answer}\")"
   ]
  },
  {
   "cell_type": "markdown",
   "metadata": {},
   "source": [
    "<link href=\"style.css\" rel=\"stylesheet\"></link>\n",
    "<main>\n",
    "\n",
    "<p>Your puzzle answer was <code>609</code>.</p><p class=\"day-success\">Both parts of this puzzle are complete! They provide two gold stars: **</p>\n",
    "\n",
    "</main>\n"
   ]
  },
  {
   "cell_type": "code",
   "execution_count": null,
   "metadata": {},
   "outputs": [],
   "source": []
  }
 ],
 "metadata": {
  "kernelspec": {
   "display_name": ".venv",
   "language": "python",
   "name": "python3"
  },
  "language_info": {
   "codemirror_mode": {
    "name": "ipython",
    "version": 3
   },
   "file_extension": ".py",
   "mimetype": "text/x-python",
   "name": "python",
   "nbconvert_exporter": "python",
   "pygments_lexer": "ipython3",
   "version": "3.12.0"
  }
 },
 "nbformat": 4,
 "nbformat_minor": 2
}
