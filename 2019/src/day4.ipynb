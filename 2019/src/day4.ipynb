{
 "cells": [
  {
   "cell_type": "code",
   "execution_count": 1,
   "metadata": {},
   "outputs": [],
   "source": [
    "# %matplotlib widget\n",
    "\n",
    "from __future__ import annotations\n",
    "\n",
    "import re\n",
    "from collections import defaultdict\n",
    "from dataclasses import dataclass, field\n",
    "from itertools import permutations, product\n",
    "from math import inf\n",
    "from random import choice\n",
    "\n",
    "import matplotlib.colors as mcolors\n",
    "import matplotlib.pyplot as plt\n",
    "import networkx as nx\n",
    "import numpy as np\n",
    "import numpy.typing as npt\n",
    "from mpl_toolkits.mplot3d import axes3d\n",
    "from numpy import int_, object_\n",
    "from numpy.typing import NDArray\n",
    "from test_utilities import run_tests_params\n",
    "from util import print_hex\n",
    "\n",
    "COLORS = list(mcolors.CSS4_COLORS.keys())"
   ]
  },
  {
   "cell_type": "markdown",
   "metadata": {},
   "source": [
    "<link href=\"style.css\" rel=\"stylesheet\"></link>\n",
    "...\n"
   ]
  },
  {
   "cell_type": "code",
   "execution_count": 2,
   "metadata": {},
   "outputs": [
    {
     "name": "stdout",
     "output_type": "stream",
     "text": [
      "\n",
      "\u001b[32mTest Example 1 passed, for frequency.\u001b[0m\n",
      "\u001b[32mTest Example 2 passed, for frequency.\u001b[0m\n",
      "\u001b[32mTest Example 3 passed, for frequency.\u001b[0m\n",
      "\u001b[32mTest Example 4 passed, for frequency.\u001b[0m\n",
      "\u001b[32mSuccess\u001b[0m\n"
     ]
    }
   ],
   "source": [
    "tests = [\n",
    "    {\n",
    "        \"name\": \"Example 1\",\n",
    "        \"changes\": \"+1, -2, +3, +1\",\n",
    "        \"expected\": 3,\n",
    "    },\n",
    "    {\n",
    "        \"name\": \"Example 2\",\n",
    "        \"changes\": \"+1, +1, +1\",\n",
    "        \"expected\": 3,\n",
    "    },\n",
    "    {\n",
    "        \"name\": \"Example 3\",\n",
    "        \"changes\": \"+1, +1, -2\",\n",
    "        \"expected\": 0,\n",
    "    },\n",
    "    {\n",
    "        \"name\": \"Example 4\",\n",
    "        \"changes\": \"-1, -2, -3\",\n",
    "        \"expected\": -6,\n",
    "    },\n",
    "]\n",
    "\n",
    "\n",
    "def frequency(changes: str) -> int:\n",
    "    return sum(map(int, changes.strip().replace(\",\", \"\\n\").splitlines()))\n",
    "\n",
    "\n",
    "run_tests_params(frequency, tests)"
   ]
  },
  {
   "cell_type": "code",
   "execution_count": 3,
   "metadata": {},
   "outputs": [
    {
     "name": "stdout",
     "output_type": "stream",
     "text": [
      "Part I: 9811696\n"
     ]
    }
   ],
   "source": [
    "with open(\"../input/day1.txt\") as f:\n",
    "    puzzle = f.read()\n",
    "\n",
    "print(f\"Part I: {frequency(puzzle)}\")"
   ]
  },
  {
   "cell_type": "markdown",
   "metadata": {},
   "source": [
    "<link href=\"style.css\" rel=\"stylesheet\"></link>\n",
    "...\n"
   ]
  },
  {
   "cell_type": "code",
   "execution_count": 4,
   "metadata": {},
   "outputs": [
    {
     "name": "stdout",
     "output_type": "stream",
     "text": [
      "\n",
      "\u001b[32mTest Example 1 passed, for first_frequency_encounterd_twice.\u001b[0m\n",
      "\u001b[32mTest Example 2 passed, for first_frequency_encounterd_twice.\u001b[0m\n",
      "\u001b[32mTest Example 3 passed, for first_frequency_encounterd_twice.\u001b[0m\n",
      "\u001b[32mTest Example 4 passed, for first_frequency_encounterd_twice.\u001b[0m\n",
      "\u001b[32mTest Example 5 passed, for first_frequency_encounterd_twice.\u001b[0m\n",
      "\u001b[32mSuccess\u001b[0m\n"
     ]
    }
   ],
   "source": [
    "from itertools import accumulate, cycle\n",
    "\n",
    "from more_itertools import duplicates_everseen, first\n",
    "\n",
    "\n",
    "tests = [\n",
    "    {\n",
    "        \"name\": \"Example 1\",\n",
    "        \"changes\": \"+1, -1\",\n",
    "        \"expected\": 0,\n",
    "    },\n",
    "    {\n",
    "        \"name\": \"Example 2\",\n",
    "        \"changes\": \"+3, +3, +4, -2, -4\",\n",
    "        \"expected\": 10,\n",
    "    },\n",
    "    {\n",
    "        \"name\": \"Example 3\",\n",
    "        \"changes\": \"-6, +3, +8, +5, -6\",\n",
    "        \"expected\": 5,\n",
    "    },\n",
    "    {\n",
    "        \"name\": \"Example 4\",\n",
    "        \"changes\": \"+7, +7, -2, -7, -4\",\n",
    "        \"expected\": 14,\n",
    "    },\n",
    "    {\n",
    "        \"name\": \"Example 5\",\n",
    "        \"changes\": \"+1, -2, +3, +1\",\n",
    "        \"expected\": 2,\n",
    "    },\n",
    "]\n",
    "\n",
    "\n",
    "def first_frequency_encounterd_twice(changes: str) -> int:\n",
    "    return first(\n",
    "        duplicates_everseen(\n",
    "            accumulate(\n",
    "                cycle(map(int, changes.strip().replace(\",\", \"\\n\").splitlines())),\n",
    "                initial=0,\n",
    "            )\n",
    "        )\n",
    "    )\n",
    "\n",
    "\n",
    "run_tests_params(first_frequency_encounterd_twice, tests)"
   ]
  },
  {
   "cell_type": "code",
   "execution_count": 5,
   "metadata": {},
   "outputs": [],
   "source": [
    "print(f\"Part II: {first_frequency_encounterd_twice(puzzle)}\")"
   ]
  },
  {
   "cell_type": "markdown",
   "metadata": {},
   "source": [
    "<link href=\"style.css\" rel=\"stylesheet\"></link>\n",
    "...\n"
   ]
  },
  {
   "cell_type": "code",
   "execution_count": null,
   "metadata": {},
   "outputs": [],
   "source": []
  }
 ],
 "metadata": {
  "kernelspec": {
   "display_name": ".venv",
   "language": "python",
   "name": "python3"
  },
  "language_info": {
   "codemirror_mode": {
    "name": "ipython",
    "version": 3
   },
   "file_extension": ".py",
   "mimetype": "text/x-python",
   "name": "python",
   "nbconvert_exporter": "python",
   "pygments_lexer": "ipython3",
   "version": "3.12.0"
  }
 },
 "nbformat": 4,
 "nbformat_minor": 2
}
