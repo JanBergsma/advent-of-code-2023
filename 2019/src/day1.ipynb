{
 "cells": [
  {
   "cell_type": "code",
   "execution_count": 1,
   "metadata": {},
   "outputs": [],
   "source": [
    "# %matplotlib widget\n",
    "\n",
    "from __future__ import annotations\n",
    "\n",
    "import re\n",
    "from collections import defaultdict\n",
    "from dataclasses import dataclass, field\n",
    "from itertools import permutations, product\n",
    "from math import inf\n",
    "from random import choice\n",
    "\n",
    "import matplotlib.colors as mcolors\n",
    "import matplotlib.pyplot as plt\n",
    "import networkx as nx\n",
    "import numpy as np\n",
    "import numpy.typing as npt\n",
    "from mpl_toolkits.mplot3d import axes3d\n",
    "from numpy import int_, object_\n",
    "from numpy.typing import NDArray\n",
    "from test_utilities import run_tests_params\n",
    "from util import print_hex\n",
    "\n",
    "COLORS = list(mcolors.CSS4_COLORS.keys())"
   ]
  },
  {
   "cell_type": "markdown",
   "metadata": {},
   "source": [
    "<link href=\"style.css\" rel=\"stylesheet\"></link>\n",
    "...\n"
   ]
  },
  {
   "cell_type": "code",
   "execution_count": 2,
   "metadata": {},
   "outputs": [
    {
     "name": "stdout",
     "output_type": "stream",
     "text": [
      "\n",
      "\u001b[32mTest Example 1 passed, for frequency.\u001b[0m\n",
      "\u001b[32mTest Example 2 passed, for frequency.\u001b[0m\n",
      "\u001b[32mTest Example 3 passed, for frequency.\u001b[0m\n",
      "\u001b[32mTest Example 4 passed, for frequency.\u001b[0m\n",
      "\u001b[32mSuccess\u001b[0m\n"
     ]
    }
   ],
   "source": [
    "tests = [\n",
    "    {\n",
    "        \"name\": \"Example 1\",\n",
    "        \"changes\": \"+1, -2, +3, +1\",\n",
    "        \"expected\": 3,\n",
    "    },\n",
    "    {\n",
    "        \"name\": \"Example 2\",\n",
    "        \"changes\": \"+1, +1, +1\",\n",
    "        \"expected\": 3,\n",
    "    },\n",
    "    {\n",
    "        \"name\": \"Example 3\",\n",
    "        \"changes\": \"+1, +1, -2\",\n",
    "        \"expected\": 0,\n",
    "    },\n",
    "    {\n",
    "        \"name\": \"Example 4\",\n",
    "        \"changes\": \"-1, -2, -3\",\n",
    "        \"expected\": -6,\n",
    "    },\n",
    "]\n",
    "\n",
    "\n",
    "def frequency(changes: str) -> int:\n",
    "    return sum(map(int, changes.strip().replace(\",\", \"\\n\").splitlines()))\n",
    "\n",
    "\n",
    "run_tests_params(frequency, tests)"
   ]
  },
  {
   "cell_type": "code",
   "execution_count": 3,
   "metadata": {},
   "outputs": [
    {
     "ename": "FileNotFoundError",
     "evalue": "[Errno 2] No such file or directory: '../input/day1.txt'",
     "output_type": "error",
     "traceback": [
      "\u001b[0;31m---------------------------------------------------------------------------\u001b[0m",
      "\u001b[0;31mFileNotFoundError\u001b[0m                         Traceback (most recent call last)",
      "Cell \u001b[0;32mIn[3], line 1\u001b[0m\n\u001b[0;32m----> 1\u001b[0m \u001b[38;5;28;01mwith\u001b[39;00m \u001b[38;5;28;43mopen\u001b[39;49m\u001b[43m(\u001b[49m\u001b[38;5;124;43m\"\u001b[39;49m\u001b[38;5;124;43m../input/day1.txt\u001b[39;49m\u001b[38;5;124;43m\"\u001b[39;49m\u001b[43m)\u001b[49m \u001b[38;5;28;01mas\u001b[39;00m f:\n\u001b[1;32m      2\u001b[0m     puzzle \u001b[38;5;241m=\u001b[39m f\u001b[38;5;241m.\u001b[39mread()\n\u001b[1;32m      4\u001b[0m \u001b[38;5;28mprint\u001b[39m(\u001b[38;5;124mf\u001b[39m\u001b[38;5;124m\"\u001b[39m\u001b[38;5;124mPart I: \u001b[39m\u001b[38;5;132;01m{\u001b[39;00mfrequency(puzzle)\u001b[38;5;132;01m}\u001b[39;00m\u001b[38;5;124m\"\u001b[39m)\n",
      "File \u001b[0;32m~/Documents/python/advent of code 2023/.venv/lib/python3.12/site-packages/IPython/core/interactiveshell.py:310\u001b[0m, in \u001b[0;36m_modified_open\u001b[0;34m(file, *args, **kwargs)\u001b[0m\n\u001b[1;32m    303\u001b[0m \u001b[38;5;28;01mif\u001b[39;00m file \u001b[38;5;129;01min\u001b[39;00m {\u001b[38;5;241m0\u001b[39m, \u001b[38;5;241m1\u001b[39m, \u001b[38;5;241m2\u001b[39m}:\n\u001b[1;32m    304\u001b[0m     \u001b[38;5;28;01mraise\u001b[39;00m \u001b[38;5;167;01mValueError\u001b[39;00m(\n\u001b[1;32m    305\u001b[0m         \u001b[38;5;124mf\u001b[39m\u001b[38;5;124m\"\u001b[39m\u001b[38;5;124mIPython won\u001b[39m\u001b[38;5;124m'\u001b[39m\u001b[38;5;124mt let you open fd=\u001b[39m\u001b[38;5;132;01m{\u001b[39;00mfile\u001b[38;5;132;01m}\u001b[39;00m\u001b[38;5;124m by default \u001b[39m\u001b[38;5;124m\"\u001b[39m\n\u001b[1;32m    306\u001b[0m         \u001b[38;5;124m\"\u001b[39m\u001b[38;5;124mas it is likely to crash IPython. If you know what you are doing, \u001b[39m\u001b[38;5;124m\"\u001b[39m\n\u001b[1;32m    307\u001b[0m         \u001b[38;5;124m\"\u001b[39m\u001b[38;5;124myou can use builtins\u001b[39m\u001b[38;5;124m'\u001b[39m\u001b[38;5;124m open.\u001b[39m\u001b[38;5;124m\"\u001b[39m\n\u001b[1;32m    308\u001b[0m     )\n\u001b[0;32m--> 310\u001b[0m \u001b[38;5;28;01mreturn\u001b[39;00m \u001b[43mio_open\u001b[49m\u001b[43m(\u001b[49m\u001b[43mfile\u001b[49m\u001b[43m,\u001b[49m\u001b[43m \u001b[49m\u001b[38;5;241;43m*\u001b[39;49m\u001b[43margs\u001b[49m\u001b[43m,\u001b[49m\u001b[43m \u001b[49m\u001b[38;5;241;43m*\u001b[39;49m\u001b[38;5;241;43m*\u001b[39;49m\u001b[43mkwargs\u001b[49m\u001b[43m)\u001b[49m\n",
      "\u001b[0;31mFileNotFoundError\u001b[0m: [Errno 2] No such file or directory: '../input/day1.txt'"
     ]
    }
   ],
   "source": [
    "with open(\"../input/day1.txt\") as f:\n",
    "    puzzle = f.read()\n",
    "\n",
    "print(f\"Part I: {frequency(puzzle)}\")"
   ]
  },
  {
   "cell_type": "markdown",
   "metadata": {},
   "source": [
    "<link href=\"style.css\" rel=\"stylesheet\"></link>\n",
    "...\n"
   ]
  },
  {
   "cell_type": "code",
   "execution_count": null,
   "metadata": {},
   "outputs": [
    {
     "name": "stdout",
     "output_type": "stream",
     "text": [
      "\n",
      "\u001b[32mTest Example 1 passed, for first_frequency_encounterd_twice.\u001b[0m\n",
      "\u001b[32mTest Example 2 passed, for first_frequency_encounterd_twice.\u001b[0m\n",
      "\u001b[32mTest Example 3 passed, for first_frequency_encounterd_twice.\u001b[0m\n",
      "\u001b[32mTest Example 4 passed, for first_frequency_encounterd_twice.\u001b[0m\n",
      "\u001b[32mTest Example 5 passed, for first_frequency_encounterd_twice.\u001b[0m\n",
      "\u001b[32mSuccess\u001b[0m\n"
     ]
    }
   ],
   "source": [
    "from itertools import accumulate, cycle\n",
    "\n",
    "from more_itertools import duplicates_everseen, first\n",
    "\n",
    "\n",
    "tests = [\n",
    "    {\n",
    "        \"name\": \"Example 1\",\n",
    "        \"changes\": \"+1, -1\",\n",
    "        \"expected\": 0,\n",
    "    },\n",
    "    {\n",
    "        \"name\": \"Example 2\",\n",
    "        \"changes\": \"+3, +3, +4, -2, -4\",\n",
    "        \"expected\": 10,\n",
    "    },\n",
    "    {\n",
    "        \"name\": \"Example 3\",\n",
    "        \"changes\": \"-6, +3, +8, +5, -6\",\n",
    "        \"expected\": 5,\n",
    "    },\n",
    "    {\n",
    "        \"name\": \"Example 4\",\n",
    "        \"changes\": \"+7, +7, -2, -7, -4\",\n",
    "        \"expected\": 14,\n",
    "    },\n",
    "    {\n",
    "        \"name\": \"Example 5\",\n",
    "        \"changes\": \"+1, -2, +3, +1\",\n",
    "        \"expected\": 2,\n",
    "    },\n",
    "]\n",
    "\n",
    "\n",
    "def first_frequency_encounterd_twice(changes: str) -> int:\n",
    "    return first(\n",
    "        duplicates_everseen(\n",
    "            accumulate(\n",
    "                cycle(map(int, changes.strip().replace(\",\", \"\\n\").splitlines())),\n",
    "                initial=0,\n",
    "            )\n",
    "        )\n",
    "    )\n",
    "\n",
    "\n",
    "run_tests_params(first_frequency_encounterd_twice, tests)"
   ]
  },
  {
   "cell_type": "code",
   "execution_count": null,
   "metadata": {},
   "outputs": [
    {
     "name": "stdout",
     "output_type": "stream",
     "text": [
      "Part II: 394\n"
     ]
    }
   ],
   "source": [
    "print(f\"Part II: {first_frequency_encounterd_twice(puzzle)}\")"
   ]
  },
  {
   "cell_type": "markdown",
   "metadata": {},
   "source": [
    "<link href=\"style.css\" rel=\"stylesheet\"></link>\n",
    "...\n"
   ]
  },
  {
   "cell_type": "code",
   "execution_count": 4,
   "metadata": {},
   "outputs": [
    {
     "name": "stdout",
     "output_type": "stream",
     "text": [
      "/home/jan/Documents/python/advent of code 2023/2019/src\n"
     ]
    }
   ],
   "source": [
    "import os\n",
    "\n",
    "print(os.getcwd())\n",
    "# with open(\"../\")"
   ]
  },
  {
   "cell_type": "code",
   "execution_count": null,
   "metadata": {},
   "outputs": [],
   "source": []
  }
 ],
 "metadata": {
  "kernelspec": {
   "display_name": ".venv",
   "language": "python",
   "name": "python3"
  },
  "language_info": {
   "codemirror_mode": {
    "name": "ipython",
    "version": 3
   },
   "file_extension": ".py",
   "mimetype": "text/x-python",
   "name": "python",
   "nbconvert_exporter": "python",
   "pygments_lexer": "ipython3",
   "version": "3.12.0"
  }
 },
 "nbformat": 4,
 "nbformat_minor": 2
}
