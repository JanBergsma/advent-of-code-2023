{
 "cells": [
  {
   "cell_type": "code",
   "execution_count": 64,
   "metadata": {},
   "outputs": [],
   "source": [
    "# %matplotlib widget\n",
    "\n",
    "from __future__ import annotations\n",
    "\n",
    "import re\n",
    "from collections import defaultdict\n",
    "from dataclasses import dataclass, field\n",
    "from itertools import permutations, product\n",
    "from math import inf\n",
    "from random import choice\n",
    "\n",
    "import matplotlib.colors as mcolors\n",
    "import matplotlib.pyplot as plt\n",
    "import networkx as nx\n",
    "import numpy as np\n",
    "import numpy.typing as npt\n",
    "from mpl_toolkits.mplot3d import axes3d\n",
    "from numpy import int_, object_\n",
    "from numpy.typing import NDArray\n",
    "from test_utilities import run_tests_params\n",
    "from util import print_hex\n",
    "\n",
    "COLORS = list(mcolors.CSS4_COLORS.keys())"
   ]
  },
  {
   "cell_type": "markdown",
   "metadata": {},
   "source": [
    "<link href=\"style.css\" rel=\"stylesheet\"></link>\n",
    "<article class=\"day-desc read-aloud\"><h2>--- Day 8: Space Image Format ---</h2><p><span title=\"I'm not sorry.\">The Elves' spirits are lifted when they realize you have an opportunity to reboot one of their Mars rovers, and so they are curious if you would spend a brief sojourn on Mars.</span> You land your ship near the rover.</p>\n",
    "<p>When you reach the rover, you discover that it's already in the process of rebooting! It's just waiting for someone to enter a <a href=\"https://en.wikipedia.org/wiki/BIOS\">BIOS</a> password. The Elf responsible for the rover takes a picture of the password (your puzzle input) and sends it to you via the Digital Sending Network.</p>\n",
    "<p>Unfortunately, images sent via the Digital Sending Network aren't encoded with any normal encoding; instead, they're encoded in a special Space Image Format.  None of the Elves seem to remember why this is the case. They send you the instructions to decode it.</p>\n",
    "<p>Images are sent as a series of digits that each represent the color of a single pixel.  The digits fill each row of the image left-to-right, then move downward to the next row, filling rows top-to-bottom until every pixel of the image is filled.</p>\n",
    "<p>Each image actually consists of a series of identically-sized <em>layers</em> that are filled in this way. So, the first digit corresponds to the top-left pixel of the first layer, the second digit corresponds to the pixel to the right of that on the same layer, and so on until the last digit, which corresponds to the bottom-right pixel of the last layer.</p>\n",
    "<p>For example, given an image <code>3</code> pixels wide and <code>2</code> pixels tall, the image data <code>123456789012</code> corresponds to the following image layers:</p>\n",
    "<pre><code>Layer 1: 123\n",
    "         456\n",
    "\n",
    "Layer 2: 789\n",
    "012\n",
    "</code></pre>\n",
    "\n",
    "<p>The image you received is <em><code>25</code> pixels wide and <code>6</code> pixels tall</em>.</p>\n",
    "<p>To make sure the image wasn't corrupted during transmission, the Elves would like you to find the layer that contains the <em>fewest <code>0</code> digits</em>.  On that layer, what is <em>the number of <code>1</code> digits multiplied by the number of <code>2</code> digits?</em></p>\n",
    "</article>\n"
   ]
  },
  {
   "cell_type": "code",
   "execution_count": 65,
   "metadata": {},
   "outputs": [
    {
     "name": "stdout",
     "output_type": "stream",
     "text": [
      "layer=1\n",
      "-  -  -\n",
      "1  2  3\n",
      "4  5  6\n",
      "-  -  -\n",
      "\n",
      "layer=2\n",
      "-  -  -\n",
      "7  8  9\n",
      "0  1  2\n",
      "-  -  -\n",
      "\n"
     ]
    }
   ],
   "source": [
    "from more_itertools import chunked\n",
    "from tabulate import tabulate\n",
    "\n",
    "\n",
    "def layers(wide: int, tall: int, data: str) -> list[list[list[int]]]:\n",
    "    return [\n",
    "        list(chunked(c, wide)) for c in chunked(map(int, data.strip()), wide * tall)\n",
    "    ]\n",
    "\n",
    "\n",
    "def print_layers(ls):\n",
    "    for i, l in enumerate(ls, start=1):\n",
    "        print(f\"layer={i}\")\n",
    "        print(tabulate(l))\n",
    "        print()\n",
    "\n",
    "\n",
    "print_layers(layers(3, 2, \"123456789012\"))"
   ]
  },
  {
   "cell_type": "code",
   "execution_count": 66,
   "metadata": {},
   "outputs": [
    {
     "name": "stdout",
     "output_type": "stream",
     "text": [
      "Part I: 2500\n"
     ]
    }
   ],
   "source": [
    "with open(\"../input/day8.txt\") as f:\n",
    "    puzzle = f.read()\n",
    "\n",
    "level_fewest_0s = min(\n",
    "    layers(25, 6, puzzle), key=lambda l: sum(1 for ll in l for i in ll if i == 0)\n",
    ")\n",
    "\n",
    "answer = sum(1 for h in level_fewest_0s for i in h if i == 1) * sum(\n",
    "    1 for h in level_fewest_0s for i in h if i == 2\n",
    ")\n",
    "\n",
    "print(f\"Part I: {answer}\")"
   ]
  },
  {
   "cell_type": "markdown",
   "metadata": {},
   "source": [
    "<link href=\"style.css\" rel=\"stylesheet\"></link>\n",
    "<main>\n",
    "\n",
    "<p>Your puzzle answer was <code>2500</code>.</p><p class=\"day-success\">The first half of this puzzle is complete! It provides one gold star: *</p>\n",
    "<article class=\"day-desc\"><h2 id=\"part2\">--- Part Two ---</h2><p>Now you're ready to decode the image. The image is rendered by stacking the layers and aligning the pixels with the same positions in each layer. The digits indicate the color of the corresponding pixel: <code>0</code> is black, <code>1</code> is white, and <code>2</code> is transparent.</p>\n",
    "<p>The layers are rendered with the first layer in front and the last layer in back. So, if a given position has a transparent pixel in the first and second layers, a black pixel in the third layer, and a white pixel in the fourth layer, the final image would have a <em>black</em> pixel at that position.</p>\n",
    "<p>For example, given an image <code>2</code> pixels wide and <code>2</code> pixels tall, the image data <code>0222112222120000</code> corresponds to the following image layers:</p>\n",
    "<pre><code>Layer 1: <em>0</em>2\n",
    "         22\n",
    "\n",
    "Layer 2: 1<em>1</em>\n",
    "22\n",
    "\n",
    "Layer 3: 22\n",
    "<em>1</em>2\n",
    "\n",
    "Layer 4: 00\n",
    "0<em>0</em>\n",
    "</code></pre>\n",
    "\n",
    "<p>Then, the full image can be found by determining the top visible pixel in each position:</p>\n",
    "<ul>\n",
    "<li>The top-left pixel is <em>black</em> because the top layer is <code>0</code>.</li>\n",
    "<li>The top-right pixel is <em>white</em> because the top layer is <code>2</code> (transparent), but the second layer is <code>1</code>.</li>\n",
    "<li>The bottom-left pixel is <em>white</em> because the top two layers are <code>2</code>, but the third layer is <code>1</code>.</li>\n",
    "<li>The bottom-right pixel is <em>black</em> because the only visible pixel in that position is <code>0</code> (from layer 4).</li>\n",
    "</ul>\n",
    "<p>So, the final image looks like this:</p>\n",
    "<pre><code>01\n",
    "10\n",
    "</code></pre>\n",
    "<p><em>What message is produced after decoding your image?</em></p>\n",
    "</article>\n",
    "\n",
    "</main>\n"
   ]
  },
  {
   "cell_type": "code",
   "execution_count": 67,
   "metadata": {},
   "outputs": [
    {
     "data": {
      "image/png": "[encoded data removed]",
      "text/plain": [
       "<Figure size 640x480 with 1 Axes>"
      ]
     },
     "metadata": {},
     "output_type": "display_data"
    },
    {
     "data": {
      "image/png": "[encoded data removed]",
      "text/plain": [
       "<Figure size 640x480 with 1 Axes>"
      ]
     },
     "metadata": {},
     "output_type": "display_data"
    }
   ],
   "source": [
    "data = \"0222112222120000\"\n",
    "expected = [\n",
    "    [0, 1],\n",
    "    [1, 0],\n",
    "]\n",
    "\n",
    "\n",
    "def decode(wide: int, tall: int, data: str) -> list[list[int]]:\n",
    "    ls = layers(wide, tall, data)\n",
    "    final_image = [[0] * wide for _ in range(tall)]\n",
    "    n = len(ls)\n",
    "\n",
    "    for t, w in product(range(tall), range(wide)):\n",
    "        layer = 0\n",
    "\n",
    "        while layer < n and ls[layer][t][w] == 2:\n",
    "            layer += 1\n",
    "\n",
    "        final_image[t][w] = ls[layer][t][w]\n",
    "\n",
    "    return final_image\n",
    "\n",
    "\n",
    "plt.imshow(expected, cmap=\"binary\")\n",
    "plt.show()\n",
    "plt.imshow(decode(2, 2, data), cmap=\"binary\")\n",
    "plt.show()"
   ]
  },
  {
   "cell_type": "code",
   "execution_count": 68,
   "metadata": {},
   "outputs": [
    {
     "name": "stdout",
     "output_type": "stream",
     "text": [
      "Part II: CYUAH\n"
     ]
    },
    {
     "data": {
      "image/png": "[encoded data removed]",
      "text/plain": [
       "<Figure size 640x480 with 1 Axes>"
      ]
     },
     "metadata": {},
     "output_type": "display_data"
    }
   ],
   "source": [
    "plt.imshow(decode(25, 6, puzzle), cmap=\"binary\")\n",
    "print(f\"Part II: CYUAH\")"
   ]
  },
  {
   "cell_type": "markdown",
   "metadata": {},
   "source": [
    "<link href=\"style.css\" rel=\"stylesheet\"></link>\n",
    "<main>\n",
    "\n",
    "<p>Your puzzle answer was <code>CYUAH</code>.</p><p class=\"day-success\">Both parts of this puzzle are complete! They provide two gold stars: **</p>\n",
    "\n",
    "</main>\n"
   ]
  },
  {
   "cell_type": "code",
   "execution_count": null,
   "metadata": {},
   "outputs": [],
   "source": []
  }
 ],
 "metadata": {
  "kernelspec": {
   "display_name": ".venv",
   "language": "python",
   "name": "python3"
  },
  "language_info": {
   "codemirror_mode": {
    "name": "ipython",
    "version": 3
   },
   "file_extension": ".py",
   "mimetype": "text/x-python",
   "name": "python",
   "nbconvert_exporter": "python",
   "pygments_lexer": "ipython3",
   "version": "3.12.0"
  }
 },
 "nbformat": 4,
 "nbformat_minor": 2
}
