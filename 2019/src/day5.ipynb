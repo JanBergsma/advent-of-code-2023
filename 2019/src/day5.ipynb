{
 "cells": [
  {
   "cell_type": "code",
   "execution_count": 66,
   "metadata": {},
   "outputs": [],
   "source": [
    "# %matplotlib widget\n",
    "\n",
    "from __future__ import annotations\n",
    "\n",
    "import re\n",
    "from collections import defaultdict\n",
    "from dataclasses import dataclass, field\n",
    "from itertools import permutations, product\n",
    "from math import inf\n",
    "from random import choice\n",
    "\n",
    "import matplotlib.colors as mcolors\n",
    "import matplotlib.pyplot as plt\n",
    "import networkx as nx\n",
    "import numpy as np\n",
    "import numpy.typing as npt\n",
    "from mpl_toolkits.mplot3d import axes3d\n",
    "from numpy import int_, object_\n",
    "from numpy.typing import NDArray\n",
    "from test_utilities import run_tests_params\n",
    "from util import print_hex\n",
    "\n",
    "COLORS = list(mcolors.CSS4_COLORS.keys())"
   ]
  },
  {
   "cell_type": "markdown",
   "metadata": {},
   "source": [
    "<link href=\"style.css\" rel=\"stylesheet\"></link>\n",
    "<article class=\"day-desc read-aloud\"><h2>--- Day 5: Alchemical Reduction ---</h2><p>You've managed to sneak in to the prototype suit manufacturing lab.  The Elves are making decent progress, but are still struggling with the suit's size reduction capabilities.</p>\n",
    "<p>While the very latest in 1518 alchemical technology might have solved their problem eventually, you can do better.  You scan the chemical composition of the suit's material and discover that it is formed by extremely long <a href=\"https://en.wikipedia.org/wiki/Polymer\">polymers</a> (one of which is <span title=\"I've always wanted a polymer!\">available</span> as your puzzle input).</p>\n",
    "<p>The polymer is formed by smaller <em>units</em> which, when triggered, react with each other such that two adjacent units of the same type and opposite polarity are destroyed. Units' types are represented by letters; units' polarity is represented by capitalization.  For instance, <code>r</code> and <code>R</code> are units with the same type but opposite polarity, whereas <code>r</code> and <code>s</code> are entirely different types and do not react.</p>\n",
    "<p>For example:</p>\n",
    "<ul>\n",
    "<li>In <code>aA</code>, <code>a</code> and <code>A</code> react, leaving nothing behind.</li>\n",
    "<li>In <code>abBA</code>, <code>bB</code> destroys itself, leaving <code>aA</code>.  As above, this then destroys itself, leaving nothing.</li>\n",
    "<li>In <code>abAB</code>, no two adjacent units are of the same type, and so nothing happens.</li>\n",
    "<li>In <code>aabAAB</code>, even though <code>aa</code> and <code>AA</code> are of the same type, their polarities match, and so nothing happens.</li>\n",
    "</ul>\n",
    "<p>Now, consider a larger example, <code>dabAcCaCBAcCcaDA</code>:</p>\n",
    "<pre><code>dabA<em>cC</em>aCBAcCcaDA  The first 'cC' is removed.\n",
    "dab<em>Aa</em>CBAcCcaDA    This creates 'Aa', which is removed.\n",
    "dabCBA<em>cCc</em>aDA      Either 'cC' or 'Cc' are removed (the result is the same).\n",
    "dabCBAcaDA        No further actions can be taken.\n",
    "</code></pre>\n",
    "<p>After all possible reactions, the resulting polymer contains <em>10 units</em>.</p>\n",
    "<p><em>How many units remain after fully reacting the polymer you scanned?</em> <span class=\"quiet\">(Note: in this puzzle and others, the input is large; if you copy/paste your input, make sure you get the whole thing.)</span></p>\n",
    "</article>\n"
   ]
  },
  {
   "cell_type": "code",
   "execution_count": 67,
   "metadata": {},
   "outputs": [
    {
     "name": "stdout",
     "output_type": "stream",
     "text": [
      "\n",
      "\u001b[32mTest Example 1 passed, for react.\u001b[0m\n",
      "\u001b[32mTest Example 2 passed, for react.\u001b[0m\n",
      "\u001b[32mTest Example 3 passed, for react.\u001b[0m\n",
      "\u001b[32mTest Example 4 passed, for react.\u001b[0m\n",
      "\u001b[32mTest Example 5 passed, for react.\u001b[0m\n",
      "\u001b[32mSuccess\u001b[0m\n"
     ]
    }
   ],
   "source": [
    "def react(polymer: str) -> int:\n",
    "    p = list(polymer.strip())\n",
    "    i = 0\n",
    "\n",
    "    while i < len(p) - 1:\n",
    "        if reacts(p, i):\n",
    "            p.pop(i)\n",
    "            p.pop(i)\n",
    "            if i > 0:\n",
    "                i -= 1\n",
    "        else:\n",
    "            i += 1\n",
    "    return len(p)\n",
    "\n",
    "\n",
    "def reacts(p, i):\n",
    "    return p[i].lower() == p[i + 1].lower() and (\n",
    "        (p[i].islower() and p[i + 1].isupper())\n",
    "        or (p[i].isupper() and p[i + 1].islower())\n",
    "    )\n",
    "\n",
    "\n",
    "tests = [\n",
    "    {\n",
    "        \"name\": \"Example 1\",\n",
    "        \"polymer\": \"aA\",\n",
    "        \"expected\": 0,\n",
    "    },\n",
    "    {\n",
    "        \"name\": \"Example 2\",\n",
    "        \"polymer\": \"abBA\",\n",
    "        \"expected\": 0,\n",
    "    },\n",
    "    {\n",
    "        \"name\": \"Example 3\",\n",
    "        \"polymer\": \"abAB\",\n",
    "        \"expected\": 4,\n",
    "    },\n",
    "    {\n",
    "        \"name\": \"Example 4\",\n",
    "        \"polymer\": \"aabAAB\",\n",
    "        \"expected\": 6,\n",
    "    },\n",
    "    {\n",
    "        \"name\": \"Example 5\",\n",
    "        \"polymer\": \"dabAcCaCBAcCcaDA\",\n",
    "        \"expected\": 10,\n",
    "    },\n",
    "]\n",
    "\n",
    "run_tests_params(react, tests)"
   ]
  },
  {
   "cell_type": "code",
   "execution_count": 68,
   "metadata": {},
   "outputs": [
    {
     "name": "stdout",
     "output_type": "stream",
     "text": [
      "Part I: 10384\n"
     ]
    }
   ],
   "source": [
    "with open(\"../input/day5.txt\") as f:\n",
    "    puzzle = f.read()\n",
    "\n",
    "print(f\"Part I: {react(puzzle)}\")"
   ]
  },
  {
   "cell_type": "markdown",
   "metadata": {},
   "source": [
    "<link href=\"style.css\" rel=\"stylesheet\"></link>\n",
    "<main>\n",
    "\n",
    "<p>Your puzzle answer was <code>10384</code>.</p><p class=\"day-success\">The first half of this puzzle is complete! It provides one gold star: *</p>\n",
    "<article class=\"day-desc\"><h2 id=\"part2\">--- Part Two ---</h2><p>Time to improve the polymer.</p>\n",
    "<p>One of the unit types is causing problems; it's preventing the polymer from collapsing as much as it should.  Your goal is to figure out which unit type is causing the most problems, remove all instances of it (regardless of polarity), fully react the remaining polymer, and measure its length.</p>\n",
    "<p>For example, again using the polymer <code>dabAcCaCBAcCcaDA</code> from above:</p>\n",
    "<ul>\n",
    "<li>Removing all <code>A</code>/<code>a</code> units produces <code>dbcCCBcCcD</code>. Fully reacting this polymer produces <code>dbCBcD</code>, which has length 6.</li>\n",
    "<li>Removing all <code>B</code>/<code>b</code> units produces <code>daAcCaCAcCcaDA</code>. Fully reacting this polymer produces <code>daCAcaDA</code>, which has length 8.</li>\n",
    "<li>Removing all <code>C</code>/<code>c</code> units produces <code>dabAaBAaDA</code>. Fully reacting this polymer produces <code>daDA</code>, which has length 4.</li>\n",
    "<li>Removing all <code>D</code>/<code>d</code> units produces <code>abAcCaCBAcCcaA</code>. Fully reacting this polymer produces <code>abCBAc</code>, which has length 6.</li>\n",
    "</ul>\n",
    "<p>In this example, removing all <code>C</code>/<code>c</code> units was best, producing the answer <em>4</em>.</p>\n",
    "<p><em>What is the length of the shortest polymer you can produce</em> by removing all units of exactly one type and fully reacting the result?</p>\n",
    "</article>\n",
    "\n",
    "</main>\n"
   ]
  },
  {
   "cell_type": "code",
   "execution_count": 85,
   "metadata": {},
   "outputs": [
    {
     "name": "stdout",
     "output_type": "stream",
     "text": [
      "Example: 4 should be 4\n"
     ]
    }
   ],
   "source": [
    "example = \"dabAcCaCBAcCcaDA\"\n",
    "\n",
    "\n",
    "def shortest_possible_polymer(polymer: str) -> int:\n",
    "    p = polymer.strip()\n",
    "    letters = set(map(str.lower, p))\n",
    "    return min(react(p.replace(l, \"\").replace(l.upper(), \"\")) for l in letters)\n",
    "\n",
    "\n",
    "print(f\"Example: {shortest_possible_polymer(example)} should be 4\")"
   ]
  },
  {
   "cell_type": "code",
   "execution_count": 86,
   "metadata": {},
   "outputs": [
    {
     "name": "stdout",
     "output_type": "stream",
     "text": [
      "Part II: 5412\n"
     ]
    }
   ],
   "source": [
    "print(f\"Part II: {shortest_possible_polymer(puzzle)}\")  # 5412"
   ]
  },
  {
   "cell_type": "markdown",
   "metadata": {},
   "source": [
    "<link href=\"style.css\" rel=\"stylesheet\"></link>\n",
    "<main>\n",
    "\n",
    "<p>Your puzzle answer was <code>5412</code>.</p><p class=\"day-success\">Both parts of this puzzle are complete! They provide two gold stars: **</p>\n",
    "\n",
    "</main>\n"
   ]
  },
  {
   "cell_type": "code",
   "execution_count": null,
   "metadata": {},
   "outputs": [],
   "source": []
  }
 ],
 "metadata": {
  "kernelspec": {
   "display_name": ".venv",
   "language": "python",
   "name": "python3"
  },
  "language_info": {
   "codemirror_mode": {
    "name": "ipython",
    "version": 3
   },
   "file_extension": ".py",
   "mimetype": "text/x-python",
   "name": "python",
   "nbconvert_exporter": "python",
   "pygments_lexer": "ipython3",
   "version": "3.12.0"
  }
 },
 "nbformat": 4,
 "nbformat_minor": 2
}
