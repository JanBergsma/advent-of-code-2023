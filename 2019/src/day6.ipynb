{
 "cells": [
  {
   "cell_type": "code",
   "execution_count": 1,
   "metadata": {},
   "outputs": [],
   "source": [
    "# %matplotlib widget\n",
    "\n",
    "from __future__ import annotations\n",
    "\n",
    "import re\n",
    "from collections import defaultdict\n",
    "from dataclasses import dataclass, field\n",
    "from itertools import permutations, product\n",
    "from math import inf\n",
    "from random import choice\n",
    "\n",
    "import matplotlib.colors as mcolors\n",
    "import matplotlib.pyplot as plt\n",
    "import networkx as nx\n",
    "import numpy as np\n",
    "import numpy.typing as npt\n",
    "from mpl_toolkits.mplot3d import axes3d\n",
    "from numpy import int_, object_\n",
    "from numpy.typing import NDArray\n",
    "from test_utilities import run_tests_params\n",
    "from util import print_hex\n",
    "\n",
    "COLORS = list(mcolors.CSS4_COLORS.keys())"
   ]
  },
  {
   "cell_type": "markdown",
   "metadata": {},
   "source": [
    "<link href=\"style.css\" rel=\"stylesheet\"></link>\n",
    "<article class=\"day-desc\"><h2>--- Day 6: Universal Orbit Map ---</h2><p>You've landed at the Universal Orbit Map facility on Mercury.  Because navigation in space often involves transferring between orbits, the orbit maps here are useful for finding efficient routes between, for example, you and Santa. You download a map of the local orbits (your puzzle input).</p>\n",
    "<p>Except for the universal Center of Mass (<code>COM</code>), every object in space is in orbit around <span title=\"What do you mean, Kerbal Space Program doesn't have accurate orbital physics?\">exactly one other object</span>.  An <a href=\"https://en.wikipedia.org/wiki/Orbit\">orbit</a> looks roughly like this:</p>\n",
    "<pre><code>                  \\\n",
    "                   \\\n",
    "                    |\n",
    "                    |\n",
    "AAA--&gt; o            o &lt;--BBB\n",
    "                    |\n",
    "                    |\n",
    "                   /\n",
    "                  /\n",
    "</code></pre>\n",
    "<p>In this diagram, the object <code>BBB</code> is in orbit around <code>AAA</code>. The path that <code>BBB</code> takes around <code>AAA</code> (drawn with lines) is only partly shown. In the map data, this orbital relationship is written <code>AAA)BBB</code>, which means \"<code>BBB</code> is in orbit around <code>AAA</code>\".</p>\n",
    "<p>Before you use your map data to plot a course, you need to make sure it wasn't corrupted during the download.  To verify maps, the Universal Orbit Map facility uses <em>orbit count checksums</em> - the total number of <em>direct orbits</em> (like the one shown above) and <em>indirect orbits</em>.</p>\n",
    "\t<p>Whenever <code>A</code> orbits <code>B</code> and <code>B</code> orbits <code>C</code>, then <code>A</code> <em>indirectly orbits</em> <code>C</code>.  This chain can be any number of objects long: if <code>A</code> orbits <code>B</code>, <code>B</code> orbits <code>C</code>, and <code>C</code> orbits <code>D</code>, then <code>A</code> indirectly orbits <code>D</code>.\n",
    "</p><p>For example, suppose you have the following map:</p>\n",
    "<pre><code>COM)B\n",
    "B)C\n",
    "C)D\n",
    "D)E\n",
    "E)F\n",
    "B)G\n",
    "G)H\n",
    "D)I\n",
    "E)J\n",
    "J)K\n",
    "K)L\n",
    "</code></pre>\n",
    "<p>Visually, the above map of orbits looks like this:</p>\n",
    "<pre><code>        G - H       J - K - L\n",
    "       /           /\n",
    "COM - B - C - D - E - F\n",
    "               \\\n",
    "                I\n",
    "</code></pre>\n",
    "<p>In this visual representation, when two objects are connected by a line, the one on the right directly orbits the one on the left.</p>\n",
    "<p>Here, we can count the total number of orbits as follows:</p>\n",
    "<ul>\n",
    "<li><code>D</code> directly orbits <code>C</code> and indirectly orbits <code>B</code> and <code>COM</code>, a total of <code>3</code> orbits.</li>\n",
    "<li><code>L</code> directly orbits <code>K</code> and indirectly orbits <code>J</code>, <code>E</code>, <code>D</code>, <code>C</code>, <code>B</code>, and <code>COM</code>, a total of <code>7</code> orbits.</li>\n",
    "<li><code>COM</code> orbits nothing.</li>\n",
    "</ul>\n",
    "<p>The total number of direct and indirect orbits in this example is <code><em>42</em></code>.</p>\n",
    "<p><em>What is the total number of direct and indirect orbits</em> in your map data?</p>\n",
    "</article>\n"
   ]
  },
  {
   "cell_type": "code",
   "execution_count": 62,
   "metadata": {},
   "outputs": [
    {
     "name": "stdout",
     "output_type": "stream",
     "text": [
      "Example: 42 should be 42\n"
     ]
    }
   ],
   "source": [
    "from collections import deque\n",
    "from functools import reduce\n",
    "\n",
    "from more_itertools import one\n",
    "\n",
    "\n",
    "example = \"\"\"\n",
    "COM)B\n",
    "B)C\n",
    "C)D\n",
    "D)E\n",
    "E)F\n",
    "B)G\n",
    "G)H\n",
    "D)I\n",
    "E)J\n",
    "J)K\n",
    "K)L\n",
    "\"\"\"\n",
    "\n",
    "\n",
    "class Orbit:\n",
    "    def __init__(self, s: str) -> None:\n",
    "        orbits = defaultdict(set)\n",
    "        undirected = defaultdict(set)\n",
    "        for line in s.strip().splitlines():\n",
    "            center, orbiter = line.split(\")\")\n",
    "            orbits[center].add(orbiter)\n",
    "            undirected[center].add(orbiter)\n",
    "            undirected[orbiter].add(center)\n",
    "\n",
    "        self.root = \"COM\"\n",
    "        self.orbits = orbits\n",
    "        self.undirected = undirected\n",
    "\n",
    "    def total_orbits(self) -> int:\n",
    "        def count_orbits(count: int, node: str) -> int:\n",
    "            return count + sum(\n",
    "                count_orbits(count + 1, child) for child in self.orbits[node]\n",
    "            )\n",
    "\n",
    "        return count_orbits(0, self.root)\n",
    "\n",
    "    def min_orbital_transfers(self, target=\"SAN\") -> int:\n",
    "        queue = deque([\"YOU\"])\n",
    "        seen = set()\n",
    "        steps = 0\n",
    "        while queue:\n",
    "            for _ in range(len(queue)):\n",
    "                node = queue.popleft()\n",
    "\n",
    "                if node == target:\n",
    "                    return steps - 2\n",
    "\n",
    "                if node in seen:\n",
    "                    continue\n",
    "\n",
    "                seen.add(node)\n",
    "\n",
    "                queue.extend(c for c in self.undirected[node])\n",
    "\n",
    "            steps += 1\n",
    "\n",
    "        return -1\n",
    "\n",
    "    def __repr__(self) -> str:\n",
    "        return f\"root={self.root} and orbits={self.orbits}\"\n",
    "\n",
    "\n",
    "print(f\"Example: {Orbit(example).total_orbits()} should be 42\")"
   ]
  },
  {
   "cell_type": "code",
   "execution_count": 63,
   "metadata": {},
   "outputs": [
    {
     "name": "stdout",
     "output_type": "stream",
     "text": [
      "Part II: 247089\n"
     ]
    }
   ],
   "source": [
    "with open(\"../input/day6.txt\") as f:\n",
    "    puzzle = f.read()\n",
    "\n",
    "print(f\"Part II: {Orbit(puzzle).total_orbits()}\")"
   ]
  },
  {
   "cell_type": "markdown",
   "metadata": {},
   "source": [
    "<link href=\"style.css\" rel=\"stylesheet\"></link>\n",
    "<main>\n",
    "\n",
    "<p>Your puzzle answer was <code>247089</code>.</p><p class=\"day-success\">The first half of this puzzle is complete! It provides one gold star: *</p>\n",
    "<article class=\"day-desc\"><h2 id=\"part2\">--- Part Two ---</h2><p>Now, you just need to figure out how many <em>orbital transfers</em> you (<code>YOU</code>) need to take to get to Santa (<code>SAN</code>).</p>\n",
    "<p>You start at the object <code>YOU</code> are orbiting; your destination is the object <code>SAN</code> is orbiting. An orbital transfer lets you move from any object to an object orbiting or orbited by that object.</p>\n",
    "<p>For example, suppose you have the following map:</p>\n",
    "<pre><code>COM)B\n",
    "B)C\n",
    "C)D\n",
    "D)E\n",
    "E)F\n",
    "B)G\n",
    "G)H\n",
    "D)I\n",
    "E)J\n",
    "J)K\n",
    "K)L\n",
    "K)YOU\n",
    "I)SAN\n",
    "</code></pre>\n",
    "<p>Visually, the above map of orbits looks like this:</p>\n",
    "<pre><code>                          <em>YOU</em>\n",
    "                         <em>/</em>\n",
    "        G - H       <em>J - K</em> - L\n",
    "       /           <em>/</em>\n",
    "COM - B - C - <em>D - E</em> - F\n",
    "               <em>\\</em>\n",
    "                <em>I - SAN</em>\n",
    "</code></pre>\n",
    "<p>In this example, <code>YOU</code> are in orbit around <code>K</code>, and <code>SAN</code> is in orbit around <code>I</code>. To move from <code>K</code> to <code>I</code>, a minimum of <code>4</code> orbital transfers are required:</p>\n",
    "<ul>\n",
    "<li><code>K</code> to <code>J</code></li>\n",
    "<li><code>J</code> to <code>E</code></li>\n",
    "<li><code>E</code> to <code>D</code></li>\n",
    "<li><code>D</code> to <code>I</code></li>\n",
    "</ul>\n",
    "<p>Afterward, the map of orbits looks like this:</p>\n",
    "<pre><code>        G - H       J - K - L\n",
    "       /           /\n",
    "COM - B - C - D - E - F\n",
    "               \\\n",
    "                I - SAN\n",
    "                 <em>\\</em>\n",
    "                  <em>YOU</em>\n",
    "</code></pre>\n",
    "<p><em>What is the minimum number of orbital transfers required</em> to move from the object <code>YOU</code> are orbiting to the object <code>SAN</code> is orbiting? (Between the objects they are orbiting - <em>not</em> between <code>YOU</code> and <code>SAN</code>.)</p>\n",
    "</article>\n",
    "\n",
    "</main>\n"
   ]
  },
  {
   "cell_type": "code",
   "execution_count": 64,
   "metadata": {},
   "outputs": [
    {
     "name": "stdout",
     "output_type": "stream",
     "text": [
      "Example: 4 should be 4\n"
     ]
    }
   ],
   "source": [
    "example_II = \"\"\"\n",
    "COM)B\n",
    "B)C\n",
    "C)D\n",
    "D)E\n",
    "E)F\n",
    "B)G\n",
    "G)H\n",
    "D)I\n",
    "E)J\n",
    "J)K\n",
    "K)L\n",
    "K)YOU\n",
    "I)SAN\n",
    "\"\"\"\n",
    "\n",
    "print(f\"Example: {Orbit(example_II).min_orbital_transfers()} should be 4\")"
   ]
  },
  {
   "cell_type": "code",
   "execution_count": 65,
   "metadata": {},
   "outputs": [
    {
     "name": "stdout",
     "output_type": "stream",
     "text": [
      "Part II: 442\n"
     ]
    }
   ],
   "source": [
    "print(f\"Part II: {Orbit(puzzle).min_orbital_transfers()}\")"
   ]
  },
  {
   "cell_type": "markdown",
   "metadata": {},
   "source": [
    "<link href=\"style.css\" rel=\"stylesheet\"></link>\n",
    "<main>\n",
    "\n",
    "<p>Your puzzle answer was <code>442</code>.</p><p class=\"day-success\">Both parts of this puzzle are complete! They provide two gold stars: **</p>\n",
    "\n",
    "</main>\n"
   ]
  },
  {
   "cell_type": "code",
   "execution_count": null,
   "metadata": {},
   "outputs": [],
   "source": []
  }
 ],
 "metadata": {
  "kernelspec": {
   "display_name": ".venv",
   "language": "python",
   "name": "python3"
  },
  "language_info": {
   "codemirror_mode": {
    "name": "ipython",
    "version": 3
   },
   "file_extension": ".py",
   "mimetype": "text/x-python",
   "name": "python",
   "nbconvert_exporter": "python",
   "pygments_lexer": "ipython3",
   "version": "3.12.0"
  }
 },
 "nbformat": 4,
 "nbformat_minor": 2
}
