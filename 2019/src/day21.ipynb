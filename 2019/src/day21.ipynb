{
 "cells": [
  {
   "cell_type": "code",
   "execution_count": 21,
   "metadata": {},
   "outputs": [],
   "source": [
    "# %matplotlib widget\n",
    "\n",
    "from __future__ import annotations\n",
    "\n",
    "import re\n",
    "from collections import defaultdict\n",
    "from dataclasses import dataclass, field\n",
    "from itertools import permutations, product\n",
    "from math import inf\n",
    "from random import choice\n",
    "\n",
    "import matplotlib.colors as mcolors\n",
    "import matplotlib.pyplot as plt\n",
    "import networkx as nx\n",
    "import numpy as np\n",
    "import numpy.typing as npt\n",
    "from mpl_toolkits.mplot3d import axes3d\n",
    "from numpy import int_, object_\n",
    "from numpy.typing import NDArray\n",
    "from test_utilities import run_tests_params\n",
    "from util import print_hex\n",
    "\n",
    "COLORS = list(mcolors.CSS4_COLORS.keys())"
   ]
  },
  {
   "cell_type": "markdown",
   "metadata": {},
   "source": [
    "<link href=\"style.css\" rel=\"stylesheet\"></link>\n",
    "...\n"
   ]
  },
  {
   "cell_type": "code",
   "execution_count": 22,
   "metadata": {},
   "outputs": [
    {
     "name": "stdout",
     "output_type": "stream",
     "text": [
      "Input instructions:\n",
      "\n",
      " Walking...\n",
      "\n",
      "Part I: 19354818\n"
     ]
    }
   ],
   "source": [
    "from copy import deepcopy\n",
    "from IntcodeComputer import IntcodeComputer\n",
    "\n",
    "with open(\"../input/day21.txt\") as f:\n",
    "    puzzle = f.read()\n",
    "\n",
    "# print(f\"Part I: {frequency(puzzle)}\")\n",
    "program = \"\"\"\n",
    "NOT C J\n",
    "AND D J\n",
    "NOT A T\n",
    "OR T J\n",
    "WALK\n",
    "\"\"\"\n",
    "\n",
    "\n",
    "ic = IntcodeComputer(puzzle)\n",
    "iter = deepcopy(ic).run()\n",
    "\n",
    "out = iter.send(None)\n",
    "print(f\"{None if out is None else chr(out)}\", end=\"\")\n",
    "\n",
    "while out != 10:\n",
    "    out = iter.send(None)\n",
    "    print(f\"{None if out is None else chr(out)}\", end=\"\")\n",
    "\n",
    "iter.send(None)\n",
    "\n",
    "for line in program.strip().splitlines():\n",
    "    for c in (ord(c) for c in line.strip()):\n",
    "        out = iter.send(c)\n",
    "\n",
    "    out = iter.send(10)\n",
    "\n",
    "\n",
    "print(f\"{None if out is None else chr(out)}\", end=\" \")\n",
    "try:\n",
    "    while True:\n",
    "        out = iter.send(None)\n",
    "        print(f\"{None if out is None else chr(out)}\", end=\"\")\n",
    "except (StopIteration, ValueError):\n",
    "    print(\"Part I:\", out)"
   ]
  },
  {
   "cell_type": "markdown",
   "metadata": {},
   "source": [
    "<link href=\"style.css\" rel=\"stylesheet\"></link>\n",
    "<main>\n",
    "\n",
    "<p>Your puzzle answer was <code>19354818</code>.</p><p class=\"day-success\">The first half of this puzzle is complete! It provides one gold star: *</p>\n",
    "<article class=\"day-desc\"><h2 id=\"part2\">--- Part Two ---</h2><p>There are many areas the springdroid can't reach.  You flip through the manual and discover a way to <em>increase its sensor range</em>.</p>\n",
    "<p>Instead of ending your springcode program with <code>WALK</code>, use <code>RUN</code>. Doing this will enable <em>extended sensor mode</em>, capable of sensing ground up to <em>nine tiles away</em>. This data is available in <em>five new read-only registers</em>:</p>\n",
    "<ul>\n",
    "<li>Register <code>E</code> indicates whether there is ground <em>five</em> tiles away.</li>\n",
    "<li>Register <code>F</code> indicates whether there is ground <em>six</em> tiles away.</li>\n",
    "<li>Register <code>G</code> indicates whether there is ground <em>seven</em> tiles away.</li>\n",
    "<li>Register <code>H</code> indicates whether there is ground <em>eight</em> tiles away.</li>\n",
    "<li>Register <code>I</code> indicates whether there is ground <em>nine</em> tiles away.</li>\n",
    "</ul>\n",
    "<p>All other functions remain the same.</p>\n",
    "<p>Successfully survey the rest of the hull by ending your program with <code>RUN</code>.  <em>What amount of hull damage does the springdroid now report?</em></p>\n",
    "</article>\n",
    "\n",
    "</main>\n"
   ]
  },
  {
   "cell_type": "code",
   "execution_count": 23,
   "metadata": {},
   "outputs": [
    {
     "name": "stdout",
     "output_type": "stream",
     "text": [
      "Input instructions:\n",
      "\n",
      " Running...\n",
      "\n",
      "Part II: 1143787220\n"
     ]
    }
   ],
   "source": [
    "program = \"\"\"\n",
    "NOT C J\n",
    "AND D J\n",
    "AND H J\n",
    "NOT B T\n",
    "AND D T\n",
    "OR T J\n",
    "NOT A T\n",
    "OR T J\n",
    "RUN\n",
    "\"\"\"\n",
    "\n",
    "ic = IntcodeComputer(puzzle)\n",
    "iter = deepcopy(ic).run()\n",
    "\n",
    "out = iter.send(None)\n",
    "print(f\"{None if out is None else chr(out)}\", end=\"\")\n",
    "\n",
    "while out != 10:\n",
    "    out = iter.send(None)\n",
    "    print(f\"{None if out is None else chr(out)}\", end=\"\")\n",
    "\n",
    "iter.send(None)\n",
    "\n",
    "for line in program.strip().splitlines():\n",
    "    for c in (ord(c) for c in line.strip()):\n",
    "        out = iter.send(c)\n",
    "\n",
    "    out = iter.send(10)\n",
    "\n",
    "\n",
    "print(f\"{None if out is None else chr(out)}\", end=\" \")\n",
    "try:\n",
    "    while True:\n",
    "        out = iter.send(None)\n",
    "        print(f\"{None if out is None else chr(out)}\", end=\"\")\n",
    "except (StopIteration, ValueError):\n",
    "    print(\"Part II:\", out)"
   ]
  },
  {
   "cell_type": "markdown",
   "metadata": {},
   "source": [
    "<link href=\"style.css\" rel=\"stylesheet\"></link>\n",
    "<main>\n",
    "\n",
    "<p>Your puzzle answer was <code>1143787220</code>.</p><p class=\"day-success\">Both parts of this puzzle are complete! They provide two gold stars: **</p>\n",
    "\n",
    "</main>\n"
   ]
  },
  {
   "cell_type": "code",
   "execution_count": null,
   "metadata": {},
   "outputs": [],
   "source": []
  }
 ],
 "metadata": {
  "kernelspec": {
   "display_name": ".venv",
   "language": "python",
   "name": "python3"
  },
  "language_info": {
   "codemirror_mode": {
    "name": "ipython",
    "version": 3
   },
   "file_extension": ".py",
   "mimetype": "text/x-python",
   "name": "python",
   "nbconvert_exporter": "python",
   "pygments_lexer": "ipython3",
   "version": "3.12.0"
  }
 },
 "nbformat": 4,
 "nbformat_minor": 2
}
