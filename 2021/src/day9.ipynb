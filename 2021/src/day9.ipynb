{
 "cells": [
  {
   "cell_type": "code",
   "execution_count": 56,
   "metadata": {},
   "outputs": [],
   "source": [
    "# %matplotlib widget\n",
    "\n",
    "from __future__ import annotations\n",
    "\n",
    "import re\n",
    "from collections import defaultdict\n",
    "from dataclasses import dataclass, field\n",
    "from itertools import permutations, product\n",
    "from math import inf\n",
    "from random import choice\n",
    "\n",
    "import matplotlib.colors as mcolors\n",
    "import matplotlib.pyplot as plt\n",
    "import networkx as nx\n",
    "import numpy as np\n",
    "import numpy.typing as npt\n",
    "from mpl_toolkits.mplot3d import axes3d\n",
    "from numpy import int_, object_\n",
    "from numpy.typing import NDArray\n",
    "from test_utilities import run_tests_params\n",
    "from util import print_hex\n",
    "\n",
    "COLORS = list(mcolors.CSS4_COLORS.keys())"
   ]
  },
  {
   "cell_type": "markdown",
   "metadata": {},
   "source": [
    "<link href=\"style.css\" rel=\"stylesheet\"></link>\n",
    "\n",
    "<article class=\"day-desc read-aloud\"><h2>--- Day 9: Smoke Basin ---</h2><p>These caves seem to be <a href=\"https://en.wikipedia.org/wiki/Lava_tube\" target=\"_blank\">lava tubes</a>. Parts are even still volcanically active; small hydrothermal vents release smoke into the caves that slowly <span title=\"This was originally going to be a puzzle about watersheds, but we're already under water.\">settles like rain</span>.</p>\n",
    "<p>If you can model how the smoke flows through the caves, you might be able to avoid it and be that much safer. The submarine generates a heightmap of the floor of the nearby caves for you (your puzzle input).</p>\n",
    "<p>Smoke flows to the lowest point of the area it's in. For example, consider the following heightmap:</p>\n",
    "<pre><code>2<em>1</em>9994321<em>0</em>\n",
    "3987894921\n",
    "98<em>5</em>6789892\n",
    "8767896789\n",
    "989996<em>5</em>678\n",
    "</code></pre>\n",
    "<p>Each number corresponds to the height of a particular location, where <code>9</code> is the highest and <code>0</code> is the lowest a location can be.</p>\n",
    "<p>Your first goal is to find the <em>low points</em> - the locations that are lower than any of its adjacent locations. Most locations have four adjacent locations (up, down, left, and right); locations on the edge or corner of the map have three or two adjacent locations, respectively. (Diagonal locations do not count as adjacent.)</p>\n",
    "<p>In the above example, there are <em>four</em> low points, all highlighted: two are in the first row (a <code>1</code> and a <code>0</code>), one is in the third row (a <code>5</code>), and one is in the bottom row (also a <code>5</code>). All other locations on the heightmap have some lower adjacent location, and so are not low points.</p>\n",
    "<p>The <em>risk level</em> of a low point is <em>1 plus its height</em>. In the above example, the risk levels of the low points are <code>2</code>, <code>1</code>, <code>6</code>, and <code>6</code>. The sum of the risk levels of all low points in the heightmap is therefore <code><em>15</em></code>.</p>\n",
    "<p>Find all of the low points on your heightmap. <em>What is the sum of the risk levels of all low points on your heightmap?</em></p>\n",
    "</article>\n"
   ]
  },
  {
   "cell_type": "code",
   "execution_count": 57,
   "metadata": {},
   "outputs": [],
   "source": [
    "from collections import deque\n",
    "from math import prod\n",
    "from collections.abc import Generator, Iterator\n",
    "\n",
    "\n",
    "example = \"\"\"\n",
    "2199943210\n",
    "3987894921\n",
    "9856789892\n",
    "8767896789\n",
    "9899965678\n",
    "\"\"\"\n",
    "\n",
    "\n",
    "class HeightMap:\n",
    "    ADJACENT = (-1, 0), (0, 1), (1, 0), (0, -1)\n",
    "\n",
    "    def __init__(self, s: str) -> None:\n",
    "        map = [[int(i) for i in l] for l in s.strip().splitlines()]\n",
    "        self.map = (\n",
    "            [[10] * (len(map[0]) + 2)]\n",
    "            + [[10] + l + [10] for l in map]\n",
    "            + [[10] * (len(map[0]) + 2)]\n",
    "        )\n",
    "        self.rows, self.cols = len(map), len(map[0])\n",
    "\n",
    "    def lowpoints(self) -> Iterator[tuple[int, int]]:\n",
    "        yield from (\n",
    "            (r, c)\n",
    "            for r, c in product(range(1, self.rows + 1), range(1, self.cols + 1))\n",
    "            if all(self[r, c] < self[r + dr, c + dc] for dr, dc in self.ADJACENT)\n",
    "        )\n",
    "\n",
    "    def adjacent(self, r, c) -> Iterator[tuple[int, int]]:\n",
    "        yield from (\n",
    "            (r + dr, c + dc)\n",
    "            for dr, dc in self.ADJACENT\n",
    "            if 0 <= r + dr < len(self.map) and 0 <= c + dc < len(self.map[0])\n",
    "        )\n",
    "\n",
    "    def basins(self) -> list[list[tuple[int, int]]]:\n",
    "        basins = [[lp] for lp in self.lowpoints()]\n",
    "\n",
    "        for basin in basins:\n",
    "            queue = deque([basin.pop()])\n",
    "            seen = set()\n",
    "\n",
    "            while queue:\n",
    "                r, c = queue.popleft()\n",
    "\n",
    "                if self[r, c] > 8 or (r, c) in seen:\n",
    "                    continue\n",
    "\n",
    "                seen.add((r, c))\n",
    "                basin.append((r, c))\n",
    "                queue.extend(self.adjacent(r, c))\n",
    "\n",
    "        return basins\n",
    "\n",
    "    def three_largest_basins_and_multiply_sizes(self) -> int:  # -> Any:\n",
    "        return prod(sorted(len(b) for b in self.basins())[-3:])\n",
    "\n",
    "    def __getitem__(self, key: tuple[int, int]) -> int:\n",
    "        r, c = key\n",
    "        return self.map[r][c]\n",
    "\n",
    "    def __repr__(self) -> str:\n",
    "        return \"\\n\".join(\"\".join(f\"{i:2}\" for i in l) for l in self.map[1:-1])\n",
    "\n",
    "\n",
    "def lowpoints(s: str) -> int:\n",
    "    heightmap = HeightMap(s)\n",
    "    return sum(heightmap[r, c] + 1 for r, c in heightmap.lowpoints())\n",
    "\n",
    "\n",
    "assert lowpoints((example)) == 15"
   ]
  },
  {
   "cell_type": "code",
   "execution_count": 58,
   "metadata": {},
   "outputs": [
    {
     "name": "stdout",
     "output_type": "stream",
     "text": [
      "Part I: 436\n"
     ]
    }
   ],
   "source": [
    "with open(\"../input/day9.txt\") as f:\n",
    "    puzzle = f.read()\n",
    "\n",
    "print(f\"Part I: {lowpoints(puzzle)}\")"
   ]
  },
  {
   "cell_type": "markdown",
   "metadata": {},
   "source": [
    "<link href=\"style.css\" rel=\"stylesheet\"></link>\n",
    "\n",
    "<main>\n",
    "\n",
    "<p>Your puzzle answer was <code>436</code>.</p><p class=\"day-success\">The first half of this puzzle is complete! It provides one gold star: *</p>\n",
    "<article class=\"day-desc\"><h2 id=\"part2\">--- Part Two ---</h2><p>Next, you need to find the largest basins so you know what areas are most important to avoid.</p>\n",
    "<p>A <em>basin</em> is all locations that eventually flow downward to a single low point. Therefore, every low point has a basin, although some basins are very small. Locations of height <code>9</code> do not count as being in any basin, and all other locations will always be part of exactly one basin.</p>\n",
    "<p>The <em>size</em> of a basin is the number of locations within the basin, including the low point. The example above has four basins.</p>\n",
    "<p>The top-left basin, size <code>3</code>:</p>\n",
    "<pre><code><em>21</em>99943210\n",
    "<em>3</em>987894921\n",
    "9856789892\n",
    "8767896789\n",
    "9899965678\n",
    "</code></pre>\n",
    "<p>The top-right basin, size <code>9</code>:</p>\n",
    "<pre><code>21999<em>43210</em>\n",
    "398789<em>4</em>9<em>21</em>\n",
    "985678989<em>2</em>\n",
    "8767896789\n",
    "9899965678\n",
    "</code></pre>\n",
    "<p>The middle basin, size <code>14</code>:</p>\n",
    "<pre><code>2199943210\n",
    "39<em>878</em>94921\n",
    "9<em>85678</em>9892\n",
    "<em>87678</em>96789\n",
    "9<em>8</em>99965678\n",
    "</code></pre>\n",
    "<p>The bottom-right basin, size <code>9</code>:</p>\n",
    "<pre><code>2199943210\n",
    "3987894921\n",
    "9856789<em>8</em>92\n",
    "876789<em>678</em>9\n",
    "98999<em>65678</em>\n",
    "</code></pre>\n",
    "<p>Find the three largest basins and multiply their sizes together. In the above example, this is <code>9 * 14 * 9 = <em>1134</em></code>.</p>\n",
    "<p><em>What do you get if you multiply together the sizes of the three largest basins?</em></p>\n",
    "</article>\n",
    "\n",
    "</main>\n"
   ]
  },
  {
   "cell_type": "code",
   "execution_count": 59,
   "metadata": {},
   "outputs": [],
   "source": [
    "assert HeightMap(example).three_largest_basins_and_multiply_sizes() == 1134"
   ]
  },
  {
   "cell_type": "code",
   "execution_count": 60,
   "metadata": {},
   "outputs": [
    {
     "name": "stdout",
     "output_type": "stream",
     "text": [
      "Part II: 1317792\n"
     ]
    }
   ],
   "source": [
    "print(f\"Part II: { HeightMap(puzzle).three_largest_basins_and_multiply_sizes()}\")"
   ]
  },
  {
   "cell_type": "markdown",
   "metadata": {},
   "source": [
    "<link href=\"style.css\" rel=\"stylesheet\"></link>\n",
    "<main>\n",
    "\n",
    "<p>Your puzzle answer was <code>1317792</code>.</p><p class=\"day-success\">Both parts of this puzzle are complete! They provide two gold stars: **</p>\n",
    "\n",
    "</main>\n"
   ]
  },
  {
   "cell_type": "code",
   "execution_count": null,
   "metadata": {},
   "outputs": [],
   "source": []
  },
  {
   "cell_type": "code",
   "execution_count": null,
   "metadata": {},
   "outputs": [],
   "source": []
  }
 ],
 "metadata": {
  "kernelspec": {
   "display_name": ".venv",
   "language": "python",
   "name": "python3"
  },
  "language_info": {
   "codemirror_mode": {
    "name": "ipython",
    "version": 3
   },
   "file_extension": ".py",
   "mimetype": "text/x-python",
   "name": "python",
   "nbconvert_exporter": "python",
   "pygments_lexer": "ipython3",
   "version": "3.12.0"
  }
 },
 "nbformat": 4,
 "nbformat_minor": 2
}
