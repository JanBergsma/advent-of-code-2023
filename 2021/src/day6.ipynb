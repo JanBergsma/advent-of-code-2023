{
 "cells": [
  {
   "cell_type": "code",
   "execution_count": 80,
   "metadata": {},
   "outputs": [],
   "source": [
    "# %matplotlib widget\n",
    "\n",
    "from __future__ import annotations\n",
    "\n",
    "import re\n",
    "from collections import defaultdict\n",
    "from dataclasses import dataclass, field\n",
    "from itertools import permutations, product\n",
    "from math import inf\n",
    "from random import choice\n",
    "\n",
    "import matplotlib.colors as mcolors\n",
    "import matplotlib.pyplot as plt\n",
    "import networkx as nx\n",
    "import numpy as np\n",
    "import numpy.typing as npt\n",
    "from mpl_toolkits.mplot3d import axes3d\n",
    "from numpy import int_, object_\n",
    "from numpy.typing import NDArray\n",
    "from test_utilities import run_tests_params\n",
    "from util import print_hex\n",
    "\n",
    "COLORS = list(mcolors.CSS4_COLORS.keys())"
   ]
  },
  {
   "cell_type": "markdown",
   "metadata": {},
   "source": [
    "<link href=\"style.css\" rel=\"stylesheet\"></link>\n",
    "<article class=\"day-desc read-aloud\"><h2>--- Day 6: Lanternfish ---</h2><p>The sea floor is getting steeper. Maybe the sleigh keys got carried this way?</p>\n",
    "<p>A massive school of glowing <a href=\"https://en.wikipedia.org/wiki/Lanternfish\" target=\"_blank\">lanternfish</a> swims past. They must spawn quickly to reach such large numbers - maybe <em>exponentially</em> quickly? You should model their growth rate to be sure.</p>\n",
    "<p>Although you know nothing about this specific species of lanternfish, you make some guesses about their attributes. Surely, <span title=\"I heard you like lanternfish.\">each lanternfish creates a new lanternfish</span> once every <em>7</em> days.</p>\n",
    "<p>However, this process isn't necessarily synchronized between every lanternfish - one lanternfish might have 2 days left until it creates another lanternfish, while another might have 4. So, you can model each fish as a single number that represents <em>the number of days until it creates a new lanternfish</em>.</p>\n",
    "<p>Furthermore, you reason, a <em>new</em> lanternfish would surely need slightly longer before it's capable of producing more lanternfish: two more days for its first cycle.</p>\n",
    "<p>So, suppose you have a lanternfish with an internal timer value of <code>3</code>:</p>\n",
    "<ul>\n",
    "<li>After one day, its internal timer would become <code>2</code>.</li>\n",
    "<li>After another day, its internal timer would become <code>1</code>.</li>\n",
    "<li>After another day, its internal timer would become <code>0</code>.</li>\n",
    "<li>After another day, its internal timer would reset to <code>6</code>, and it would create a <em>new</em> lanternfish with an internal timer of <code>8</code>.</li>\n",
    "<li>After another day, the first lanternfish would have an internal timer of <code>5</code>, and the second lanternfish would have an internal timer of <code>7</code>.</li>\n",
    "</ul>\n",
    "<p>A lanternfish that creates a new fish resets its timer to <code>6</code>, <em>not <code>7</code></em> (because <code>0</code> is included as a valid timer value). The new lanternfish starts with an internal timer of <code>8</code> and does not start counting down until the next day.</p>\n",
    "<p>Realizing what you're trying to do, the submarine automatically produces a list of the ages of several hundred nearby lanternfish (your puzzle input). For example, suppose you were given the following list:</p>\n",
    "<pre><code>3,4,3,1,2</code></pre>\n",
    "<p>This list means that the first fish has an internal timer of <code>3</code>, the second fish has an internal timer of <code>4</code>, and so on until the fifth fish, which has an internal timer of <code>2</code>. Simulating these fish over several days would proceed as follows:</p>\n",
    "<pre><code>Initial state: 3,4,3,1,2\n",
    "After  1 day:  2,3,2,0,1\n",
    "After  2 days: 1,2,1,6,0,8\n",
    "After  3 days: 0,1,0,5,6,7,8\n",
    "After  4 days: 6,0,6,4,5,6,7,8,8\n",
    "After  5 days: 5,6,5,3,4,5,6,7,7,8\n",
    "After  6 days: 4,5,4,2,3,4,5,6,6,7\n",
    "After  7 days: 3,4,3,1,2,3,4,5,5,6\n",
    "After  8 days: 2,3,2,0,1,2,3,4,4,5\n",
    "After  9 days: 1,2,1,6,0,1,2,3,3,4,8\n",
    "After 10 days: 0,1,0,5,6,0,1,2,2,3,7,8\n",
    "After 11 days: 6,0,6,4,5,6,0,1,1,2,6,7,8,8,8\n",
    "After 12 days: 5,6,5,3,4,5,6,0,0,1,5,6,7,7,7,8,8\n",
    "After 13 days: 4,5,4,2,3,4,5,6,6,0,4,5,6,6,6,7,7,8,8\n",
    "After 14 days: 3,4,3,1,2,3,4,5,5,6,3,4,5,5,5,6,6,7,7,8\n",
    "After 15 days: 2,3,2,0,1,2,3,4,4,5,2,3,4,4,4,5,5,6,6,7\n",
    "After 16 days: 1,2,1,6,0,1,2,3,3,4,1,2,3,3,3,4,4,5,5,6,8\n",
    "After 17 days: 0,1,0,5,6,0,1,2,2,3,0,1,2,2,2,3,3,4,4,5,7,8\n",
    "After 18 days: 6,0,6,4,5,6,0,1,1,2,6,0,1,1,1,2,2,3,3,4,6,7,8,8,8,8\n",
    "</code></pre>\n",
    "<p>Each day, a <code>0</code> becomes a <code>6</code> and adds a new <code>8</code> to the end of the list, while each other number decreases by 1 if it was present at the start of the day.</p>\n",
    "<p>In this example, after 18 days, there are a total of <code>26</code> fish. After 80 days, there would be a total of <code><em>5934</em></code>.</p>\n",
    "<p>Find a way to simulate lanternfish. <em>How many lanternfish would there be after 80 days?</em></p>\n",
    "</article>\n"
   ]
  },
  {
   "cell_type": "code",
   "execution_count": 81,
   "metadata": {},
   "outputs": [],
   "source": [
    "example = \"3,4,3,1,2\"\n",
    "\n",
    "\n",
    "def lantarnfish(s: str, days: int = 80, do_print=False) -> int:\n",
    "    lfs = [int(lf) for lf in s.strip().split(\",\")]\n",
    "\n",
    "    if do_print:\n",
    "        print(f\"Initial state:   {','.join(map(str, lfs))}\")\n",
    "\n",
    "    for day in range(1, days + 1):\n",
    "        for i in range(len(lfs)):\n",
    "            if lfs[i] == 0:\n",
    "                lfs[i] = 6\n",
    "                lfs.append(8)\n",
    "            else:\n",
    "                lfs[i] -= 1\n",
    "\n",
    "        if do_print:\n",
    "            print(\n",
    "                f\"After {day:4} {'day: ' if day ==1 else 'days:'} {','.join(map(str, lfs))}\"\n",
    "            )\n",
    "    return len(lfs)\n",
    "\n",
    "\n",
    "assert lantarnfish(example, 18) == 26\n",
    "assert lantarnfish(example) == 5934"
   ]
  },
  {
   "cell_type": "code",
   "execution_count": 82,
   "metadata": {},
   "outputs": [
    {
     "name": "stdout",
     "output_type": "stream",
     "text": [
      "Part I: 396210\n"
     ]
    }
   ],
   "source": [
    "with open(\"../input/day6.txt\") as f:\n",
    "    puzzle = f.read()\n",
    "\n",
    "print(f\"Part I: {lantarnfish(puzzle)}\")"
   ]
  },
  {
   "cell_type": "markdown",
   "metadata": {},
   "source": [
    "<link href=\"style.css\" rel=\"stylesheet\"></link>\n",
    "<main>\n",
    "\n",
    "<p>Your puzzle answer was <code>396210</code>.</p><p class=\"day-success\">The first half of this puzzle is complete! It provides one gold star: *</p>\n",
    "<article class=\"day-desc\"><h2 id=\"part2\">--- Part Two ---</h2><p>Suppose the lanternfish live forever and have unlimited food and space. Would they take over the entire ocean?</p>\n",
    "<p>After 256 days in the example above, there would be a total of <code><em>26984457539</em></code> lanternfish!</p>\n",
    "<p><em>How many lanternfish would there be after 256 days?</em></p>\n",
    "</article>\n",
    "\n",
    "</main>\n"
   ]
  },
  {
   "cell_type": "code",
   "execution_count": 83,
   "metadata": {},
   "outputs": [],
   "source": [
    "def lantarnfish_II(s: str, days: int = 80) -> int:\n",
    "    lfs0 = [0] * 9\n",
    "    lfs1 = [0] * 9\n",
    "\n",
    "    for lf in s.strip().split(\",\"):\n",
    "        lfs0[int(lf)] += 1\n",
    "\n",
    "    for _ in range(1, days + 1):\n",
    "        for lf in range(9):\n",
    "            lfs1[lf] = 0\n",
    "\n",
    "        for lf in range(9):\n",
    "            if lf == 0:\n",
    "                lfs1[6] += lfs0[0]\n",
    "                lfs1[8] += lfs0[0]\n",
    "            else:\n",
    "                lfs1[lf - 1] += lfs0[lf]\n",
    "\n",
    "        lfs0, lfs1 = lfs1, lfs0\n",
    "\n",
    "    return sum(lfs0)\n",
    "\n",
    "\n",
    "assert lantarnfish_II(example, 256) == 26984457539"
   ]
  },
  {
   "cell_type": "code",
   "execution_count": 84,
   "metadata": {},
   "outputs": [
    {
     "name": "stdout",
     "output_type": "stream",
     "text": [
      "Part II: 1770823541496\n"
     ]
    }
   ],
   "source": [
    "print(f\"Part II: {lantarnfish_II(puzzle, 256)}\")"
   ]
  },
  {
   "cell_type": "markdown",
   "metadata": {},
   "source": [
    "<link href=\"style.css\" rel=\"stylesheet\"></link>\n",
    "<main>\n",
    "\n",
    "<p>Your puzzle answer was <code>1770823541496</code>.</p><p class=\"day-success\">Both parts of this puzzle are complete! They provide two gold stars: **</p>\n",
    "\n",
    "</main>\n"
   ]
  },
  {
   "cell_type": "code",
   "execution_count": null,
   "metadata": {},
   "outputs": [],
   "source": []
  },
  {
   "cell_type": "code",
   "execution_count": null,
   "metadata": {},
   "outputs": [],
   "source": []
  }
 ],
 "metadata": {
  "kernelspec": {
   "display_name": ".venv",
   "language": "python",
   "name": "python3"
  },
  "language_info": {
   "codemirror_mode": {
    "name": "ipython",
    "version": 3
   },
   "file_extension": ".py",
   "mimetype": "text/x-python",
   "name": "python",
   "nbconvert_exporter": "python",
   "pygments_lexer": "ipython3",
   "version": "3.12.0"
  }
 },
 "nbformat": 4,
 "nbformat_minor": 2
}
