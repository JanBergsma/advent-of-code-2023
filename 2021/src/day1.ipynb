{
 "cells": [
  {
   "cell_type": "code",
   "execution_count": 6,
   "metadata": {},
   "outputs": [],
   "source": [
    "# %matplotlib widget\n",
    "\n",
    "from __future__ import annotations\n",
    "\n",
    "import re\n",
    "from collections import defaultdict\n",
    "from dataclasses import dataclass, field\n",
    "from itertools import permutations, product\n",
    "from math import inf\n",
    "from random import choice\n",
    "\n",
    "import matplotlib.colors as mcolors\n",
    "import matplotlib.pyplot as plt\n",
    "import networkx as nx\n",
    "import numpy as np\n",
    "import numpy.typing as npt\n",
    "from mpl_toolkits.mplot3d import axes3d\n",
    "from numpy import int_, object_\n",
    "from numpy.typing import NDArray\n",
    "from test_utilities import run_tests_params\n",
    "from util import print_hex\n",
    "\n",
    "COLORS = list(mcolors.CSS4_COLORS.keys())"
   ]
  },
  {
   "cell_type": "markdown",
   "metadata": {},
   "source": [
    "<link href=\"style.css\" rel=\"stylesheet\"></link>\n",
    "<article class=\"day-desc\"><h2>--- Day 1: Sonar Sweep ---</h2><p>You're minding your own business on a ship at sea when the overboard alarm goes off! You rush to see if you can help. Apparently, one of the Elves tripped and accidentally sent the sleigh keys flying into the ocean!</p>\n",
    "<p>Before you know it, you're inside a submarine the Elves keep ready for situations like this. It's covered in Christmas lights (because of course it is), and it even has an experimental antenna that should be able to track the keys if you can boost its signal strength high enough; there's a little meter that indicates the antenna's signal strength by displaying 0-50 <em class=\"star\">stars</em>.</p>\n",
    "<p>Your instincts tell you that in order to save Christmas, you'll need to get all <em class=\"star\">fifty stars</em> by December 25th.</p>\n",
    "<p>Collect stars by solving puzzles.  Two puzzles will be made available on each day in the Advent calendar; the second puzzle is unlocked when you complete the first.  Each puzzle grants <em class=\"star\">one star</em>. Good luck!</p>\n",
    "<p>As the submarine drops below the surface of the ocean, it automatically performs a sonar sweep of the nearby sea floor. On a small screen, the sonar sweep report (your puzzle input) appears: each line is a measurement of the sea floor depth as the sweep looks further and further away from the submarine.</p>\n",
    "<p>For example, suppose you had the following report:</p>\n",
    "<pre><code>199\n",
    "200\n",
    "208\n",
    "210\n",
    "200\n",
    "207\n",
    "240\n",
    "269\n",
    "260\n",
    "263\n",
    "</code></pre>\n",
    "<p>This report indicates that, scanning outward from the submarine, the sonar sweep found depths of <code>199</code>, <code>200</code>, <code>208</code>, <code>210</code>, and so on.</p>\n",
    "<p>The first order of business is to figure out how quickly the depth increases, just so you know what you're dealing with - you never know if the keys will get <span title=\"Does this premise seem fishy to you?\">carried into deeper water</span> by an ocean current or a fish or something.</p>\n",
    "<p>To do this, count <em>the number of times a depth measurement increases</em> from the previous measurement. (There is no measurement before the first measurement.) In the example above, the changes are as follows:</p>\n",
    "<pre><code>199 (N/A - no previous measurement)\n",
    "200 (<em>increased</em>)\n",
    "208 (<em>increased</em>)\n",
    "210 (<em>increased</em>)\n",
    "200 (decreased)\n",
    "207 (<em>increased</em>)\n",
    "240 (<em>increased</em>)\n",
    "269 (<em>increased</em>)\n",
    "260 (decreased)\n",
    "263 (<em>increased</em>)\n",
    "</code></pre>\n",
    "<p>In this example, there are <em><code>7</code></em> measurements that are larger than the previous measurement.</p>\n",
    "<p><em>How many measurements are larger than the previous measurement?</em></p>\n",
    "</article>\n"
   ]
  },
  {
   "cell_type": "code",
   "execution_count": 7,
   "metadata": {},
   "outputs": [],
   "source": [
    "example = \"\"\"\n",
    "199\n",
    "200\n",
    "208\n",
    "210\n",
    "200\n",
    "207\n",
    "240\n",
    "269\n",
    "260\n",
    "263\n",
    "\"\"\"\n",
    "\n",
    "\n",
    "def count_messurement_increases(s: str) -> int:\n",
    "    prev = inf\n",
    "    count = 0\n",
    "\n",
    "    for m in s.strip().splitlines():\n",
    "        m = int(m)\n",
    "        if m > prev:\n",
    "            count += 1\n",
    "\n",
    "        prev = m\n",
    "\n",
    "    return count\n",
    "\n",
    "\n",
    "assert count_messurement_increases(example) == 7"
   ]
  },
  {
   "cell_type": "code",
   "execution_count": 8,
   "metadata": {},
   "outputs": [
    {
     "name": "stdout",
     "output_type": "stream",
     "text": [
      "Part I: 1722\n"
     ]
    }
   ],
   "source": [
    "with open(\"../input/day1.txt\") as f:\n",
    "    puzzle = f.read()\n",
    "\n",
    "print(f\"Part I: {count_messurement_increases(puzzle)}\")"
   ]
  },
  {
   "cell_type": "markdown",
   "metadata": {},
   "source": [
    "<link href=\"style.css\" rel=\"stylesheet\"></link>\n",
    "<main>\n",
    "\n",
    "<p>Your puzzle answer was <code>1722</code>.</p><p class=\"day-success\">The first half of this puzzle is complete! It provides one gold star: *</p>\n",
    "<article class=\"day-desc\"><h2 id=\"part2\">--- Part Two ---</h2><p>Considering every single measurement isn't as useful as you expected: there's just too much noise in the data.</p>\n",
    "<p>Instead, consider sums of a <em>three-measurement sliding window</em>.  Again considering the above example:</p>\n",
    "<pre><code>199  A      \n",
    "200  A B    \n",
    "208  A B C  \n",
    "210    B C D\n",
    "200  E   C D\n",
    "207  E F   D\n",
    "240  E F G  \n",
    "269    F G H\n",
    "260      G H\n",
    "263        H\n",
    "</code></pre>\n",
    "<p>Start by comparing the first and second three-measurement windows. The measurements in the first window are marked <code>A</code> (<code>199</code>, <code>200</code>, <code>208</code>); their sum is <code>199 + 200 + 208 = 607</code>. The second window is marked <code>B</code> (<code>200</code>, <code>208</code>, <code>210</code>); its sum is <code>618</code>. The sum of measurements in the second window is larger than the sum of the first, so this first comparison <em>increased</em>.</p>\n",
    "<p>Your goal now is to count <em>the number of times the sum of measurements in this sliding window increases</em> from the previous sum. So, compare <code>A</code> with <code>B</code>, then compare <code>B</code> with <code>C</code>, then <code>C</code> with <code>D</code>, and so on. Stop when there aren't enough measurements left to create a new three-measurement sum.</p>\n",
    "<p>In the above example, the sum of each three-measurement window is as follows:</p>\n",
    "<pre><code>A: 607 (N/A - no previous sum)\n",
    "B: 618 (<em>increased</em>)\n",
    "C: 618 (no change)\n",
    "D: 617 (decreased)\n",
    "E: 647 (<em>increased</em>)\n",
    "F: 716 (<em>increased</em>)\n",
    "G: 769 (<em>increased</em>)\n",
    "H: 792 (<em>increased</em>)\n",
    "</code></pre>\n",
    "<p>In this example, there are <em><code>5</code></em> sums that are larger than the previous sum.</p>\n",
    "<p>Consider sums of a three-measurement sliding window. <em>How many sums are larger than the previous sum?</em></p>\n",
    "</article>\n",
    "\n",
    "</main>\n"
   ]
  },
  {
   "cell_type": "code",
   "execution_count": 9,
   "metadata": {},
   "outputs": [],
   "source": [
    "def countsliding_window_increases(s: str) -> int:\n",
    "    measurements = [int(m) for m in s.strip().splitlines()]\n",
    "\n",
    "    prev = sum(measurements[:3])\n",
    "    count = 0\n",
    "\n",
    "    for i in range(3, len(measurements)):\n",
    "        som = prev - measurements[i - 3] + measurements[i]\n",
    "\n",
    "        if som > prev:\n",
    "            count += 1\n",
    "\n",
    "        prev = som\n",
    "\n",
    "    return count\n",
    "\n",
    "\n",
    "assert countsliding_window_increases(example) == 5"
   ]
  },
  {
   "cell_type": "code",
   "execution_count": 10,
   "metadata": {},
   "outputs": [
    {
     "name": "stdout",
     "output_type": "stream",
     "text": [
      "Part II: 1748\n"
     ]
    }
   ],
   "source": [
    "print(f\"Part II: {countsliding_window_increases(puzzle)}\")"
   ]
  },
  {
   "cell_type": "markdown",
   "metadata": {},
   "source": [
    "<link href=\"style.css\" rel=\"stylesheet\"></link>\n",
    "<main>\n",
    "\n",
    "<p>Your puzzle answer was <code>1748</code>.</p><p class=\"day-success\">Both parts of this puzzle are complete! They provide two gold stars: **</p>\n",
    "\n",
    "</main>\n"
   ]
  },
  {
   "cell_type": "code",
   "execution_count": null,
   "metadata": {},
   "outputs": [],
   "source": []
  },
  {
   "cell_type": "code",
   "execution_count": null,
   "metadata": {},
   "outputs": [],
   "source": []
  }
 ],
 "metadata": {
  "kernelspec": {
   "display_name": ".venv",
   "language": "python",
   "name": "python3"
  },
  "language_info": {
   "codemirror_mode": {
    "name": "ipython",
    "version": 3
   },
   "file_extension": ".py",
   "mimetype": "text/x-python",
   "name": "python",
   "nbconvert_exporter": "python",
   "pygments_lexer": "ipython3",
   "version": "3.12.0"
  }
 },
 "nbformat": 4,
 "nbformat_minor": 2
}
