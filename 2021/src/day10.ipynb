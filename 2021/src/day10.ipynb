{
 "cells": [
  {
   "cell_type": "code",
   "execution_count": 57,
   "metadata": {},
   "outputs": [],
   "source": [
    "# %matplotlib widget\n",
    "\n",
    "from __future__ import annotations\n",
    "\n",
    "import re\n",
    "from collections import defaultdict\n",
    "from dataclasses import dataclass, field\n",
    "from itertools import permutations, product\n",
    "from math import inf\n",
    "from random import choice\n",
    "\n",
    "import matplotlib.colors as mcolors\n",
    "import matplotlib.pyplot as plt\n",
    "import networkx as nx\n",
    "import numpy as np\n",
    "import numpy.typing as npt\n",
    "from mpl_toolkits.mplot3d import axes3d\n",
    "from numpy import int_, object_\n",
    "from numpy.typing import NDArray\n",
    "from test_utilities import run_tests_params\n",
    "from util import print_hex\n",
    "\n",
    "COLORS = list(mcolors.CSS4_COLORS.keys())"
   ]
  },
  {
   "cell_type": "markdown",
   "metadata": {},
   "source": [
    "<link href=\"style.css\" rel=\"stylesheet\"></link>\n",
    "<article class=\"day-desc read-aloud\"><h2>--- Day 10: Syntax Scoring ---</h2><p>You ask the submarine to determine the best route out of the deep-sea cave, but it only replies:</p>\n",
    "<pre><code>Syntax error in navigation subsystem on line: <span title=\"Some days, that's just how it is.\">all of them</span></code></pre>\n",
    "<p><em>All of them?!</em> The damage is worse than you thought. You bring up a copy of the navigation subsystem (your puzzle input).</p>\n",
    "<p>The navigation subsystem syntax is made of several lines containing <em>chunks</em>. There are one or more chunks on each line, and chunks contain zero or more other chunks. Adjacent chunks are not separated by any delimiter; if one chunk stops, the next chunk (if any) can immediately start. Every chunk must <em>open</em> and <em>close</em> with one of four legal pairs of matching characters:</p>\n",
    "<ul>\n",
    "<li>If a chunk opens with <code>(</code>, it must close with <code>)</code>.</li>\n",
    "<li>If a chunk opens with <code>[</code>, it must close with <code>]</code>.</li>\n",
    "<li>If a chunk opens with <code>{</code>, it must close with <code>}</code>.</li>\n",
    "<li>If a chunk opens with <code>&lt;</code>, it must close with <code>&gt;</code>.</li>\n",
    "</ul>\n",
    "<p>So, <code>()</code> is a legal chunk that contains no other chunks, as is <code>[]</code>. More complex but valid chunks include <code>([])</code>, <code>{()()()}</code>, <code>&lt;([{}])&gt;</code>, <code>[&lt;&gt;({}){}[([])&lt;&gt;]]</code>, and even <code>(((((((((())))))))))</code>.</p>\n",
    "<p>Some lines are <em>incomplete</em>, but others are <em>corrupted</em>. Find and discard the corrupted lines first.</p>\n",
    "<p>A corrupted line is one where a chunk <em>closes with the wrong character</em> - that is, where the characters it opens and closes with do not form one of the four legal pairs listed above.</p>\n",
    "<p>Examples of corrupted chunks include <code>(]</code>, <code>{()()()&gt;</code>, <code>(((()))}</code>, and <code>&lt;([]){()}[{}])</code>. Such a chunk can appear anywhere within a line, and its presence causes the whole line to be considered corrupted.</p>\n",
    "<p>For example, consider the following navigation subsystem:</p>\n",
    "<pre><code>[({(&lt;(())[]&gt;[[{[]{&lt;()&lt;&gt;&gt;\n",
    "[(()[&lt;&gt;])]({[&lt;{&lt;&lt;[]&gt;&gt;(\n",
    "{([(&lt;{}[&lt;&gt;[]}&gt;{[]{[(&lt;()&gt;\n",
    "(((({&lt;&gt;}&lt;{&lt;{&lt;&gt;}{[]{[]{}\n",
    "[[&lt;[([]))&lt;([[{}[[()]]]\n",
    "[{[{({}]{}}([{[{{{}}([]\n",
    "{&lt;[[]]&gt;}&lt;{[{[{[]{()[[[]\n",
    "[&lt;(&lt;(&lt;(&lt;{}))&gt;&lt;([]([]()\n",
    "&lt;{([([[(&lt;&gt;()){}]&gt;(&lt;&lt;{{\n",
    "&lt;{([{{}}[&lt;[[[&lt;&gt;{}]]]&gt;[]]\n",
    "</code></pre>\n",
    "<p>Some of the lines aren't corrupted, just incomplete; you can ignore these lines for now. The remaining five lines are corrupted:</p>\n",
    "<ul>\n",
    "<li><code>{([(&lt;{}[&lt;&gt;[]}&gt;{[]{[(&lt;()&gt;</code> - Expected <code>]</code>, but found <code>}</code> instead.</li>\n",
    "<li><code>[[&lt;[([]))&lt;([[{}[[()]]]</code> - Expected <code>]</code>, but found <code>)</code> instead.</li>\n",
    "<li><code>[{[{({}]{}}([{[{{{}}([]</code> - Expected <code>)</code>, but found <code>]</code> instead.</li>\n",
    "<li><code>[&lt;(&lt;(&lt;(&lt;{}))&gt;&lt;([]([]()</code> - Expected <code>&gt;</code>, but found <code>)</code> instead.</li>\n",
    "<li><code>&lt;{([([[(&lt;&gt;()){}]&gt;(&lt;&lt;{{</code> - Expected <code>]</code>, but found <code>&gt;</code> instead.</li>\n",
    "</ul>\n",
    "<p>Stop at the first incorrect closing character on each corrupted line.</p>\n",
    "<p>Did you know that syntax checkers actually have contests to see who can get the high score for syntax errors in a file? It's true! To calculate the syntax error score for a line, take the <em>first illegal character</em> on the line and look it up in the following table:</p>\n",
    "<ul>\n",
    "<li><code>)</code>: <code>3</code> points.</li>\n",
    "<li><code>]</code>: <code>57</code> points.</li>\n",
    "<li><code>}</code>: <code>1197</code> points.</li>\n",
    "<li><code>&gt;</code>: <code>25137</code> points.</li>\n",
    "</ul>\n",
    "<p>In the above example, an illegal <code>)</code> was found twice (<code>2*3 = <em>6</em></code> points), an illegal <code>]</code> was found once (<code><em>57</em></code> points), an illegal <code>}</code> was found once (<code><em>1197</em></code> points), and an illegal <code>&gt;</code> was found once (<code><em>25137</em></code> points). So, the total syntax error score for this file is <code>6+57+1197+25137 = <em>26397</em></code> points!</p>\n",
    "<p>Find the first illegal character in each corrupted line of the navigation subsystem. <em>What is the total syntax error score for those errors?</em></p>\n",
    "</article>\n"
   ]
  },
  {
   "cell_type": "code",
   "execution_count": 58,
   "metadata": {},
   "outputs": [],
   "source": [
    "example = \"\"\"\n",
    "[({(<(())[]>[[{[]{<()<>>\n",
    "[(()[<>])]({[<{<<[]>>(\n",
    "{([(<{}[<>[]}>{[]{[(<()>\n",
    "(((({<>}<{<{<>}{[]{[]{}\n",
    "[[<[([]))<([[{}[[()]]]\n",
    "[{[{({}]{}}([{[{{{}}([]\n",
    "{<[[]]>}<{[{[{[]{()[[[]\n",
    "[<(<(<(<{}))><([]([]()\n",
    "<{([([[(<>()){}]>(<<{{\n",
    "<{([{{}}[<[[[<>{}]]]>[]]\n",
    "\"\"\"\n",
    "\n",
    "\n",
    "def syntex_check(chunck: str) -> str | list[str]:\n",
    "    stack = []\n",
    "    for ch in chunck.strip():\n",
    "        if ch in \"([{<\":\n",
    "            stack.append(\")]}>\"[\"([{<\".index(ch)])\n",
    "        elif ch == stack[-1]:\n",
    "            stack.pop()\n",
    "        else:\n",
    "            return ch\n",
    "    return stack\n",
    "\n",
    "\n",
    "def syntax_scoring(s: str):\n",
    "    score = {\")\": 3, \"]\": 57, \"}\": 1197, \">\": 25137}\n",
    "    return sum(\n",
    "        score[sc]\n",
    "        for line in s.strip().splitlines()\n",
    "        if isinstance(sc := syntex_check(line), str)\n",
    "    )\n",
    "\n",
    "\n",
    "assert syntax_scoring((example)) == 26397"
   ]
  },
  {
   "cell_type": "code",
   "execution_count": 59,
   "metadata": {},
   "outputs": [
    {
     "name": "stdout",
     "output_type": "stream",
     "text": [
      "Part I: 167379\n"
     ]
    }
   ],
   "source": [
    "with open(\"../input/day10.txt\") as f:\n",
    "    puzzle = f.read()\n",
    "\n",
    "print(f\"Part I: {syntax_scoring(puzzle)}\")"
   ]
  },
  {
   "cell_type": "markdown",
   "metadata": {},
   "source": [
    "<link href=\"style.css\" rel=\"stylesheet\"></link>\n",
    "<main>\n",
    "\n",
    "<p>Your puzzle answer was <code>167379</code>.</p><p class=\"day-success\">The first half of this puzzle is complete! It provides one gold star: *</p>\n",
    "<article class=\"day-desc\"><h2 id=\"part2\">--- Part Two ---</h2><p>Now, discard the corrupted lines.  The remaining lines are <em>incomplete</em>.</p>\n",
    "<p>Incomplete lines don't have any incorrect characters - instead, they're missing some closing characters at the end of the line. To repair the navigation subsystem, you just need to figure out <em>the sequence of closing characters</em> that complete all open chunks in the line.</p>\n",
    "<p>You can only use closing characters (<code>)</code>, <code>]</code>, <code>}</code>, or <code>&gt;</code>), and you must add them in the correct order so that only legal pairs are formed and all chunks end up closed.</p>\n",
    "<p>In the example above, there are five incomplete lines:</p>\n",
    "<ul>\n",
    "<li><code>[({(&lt;(())[]&gt;[[{[]{&lt;()&lt;&gt;&gt;</code> - Complete by adding <code>}}]])})]</code>.</li>\n",
    "<li><code>[(()[&lt;&gt;])]({[&lt;{&lt;&lt;[]&gt;&gt;(</code> - Complete by adding <code>)}&gt;]})</code>.</li>\n",
    "<li><code>(((({&lt;&gt;}&lt;{&lt;{&lt;&gt;}{[]{[]{}</code> - Complete by adding <code>}}&gt;}&gt;))))</code>.</li>\n",
    "<li><code>{&lt;[[]]&gt;}&lt;{[{[{[]{()[[[]</code> - Complete by adding <code>]]}}]}]}&gt;</code>.</li>\n",
    "<li><code>&lt;{([{{}}[&lt;[[[&lt;&gt;{}]]]&gt;[]]</code> - Complete by adding <code>])}&gt;</code>.</li>\n",
    "</ul>\n",
    "<p>Did you know that autocomplete tools <em>also</em> have contests? It's true! The score is determined by considering the completion string character-by-character. Start with a total score of <code>0</code>. Then, for each character, multiply the total score by 5 and then increase the total score by the point value given for the character in the following table:</p>\n",
    "<ul>\n",
    "<li><code>)</code>: <code>1</code> point.</li>\n",
    "<li><code>]</code>: <code>2</code> points.</li>\n",
    "<li><code>}</code>: <code>3</code> points.</li>\n",
    "<li><code>&gt;</code>: <code>4</code> points.</li>\n",
    "</ul>\n",
    "<p>So, the last completion string above - <code>])}&gt;</code> - would be scored as follows:</p>\n",
    "<ul>\n",
    "<li>Start with a total score of <code>0</code>.</li>\n",
    "<li>Multiply the total score by 5 to get <code>0</code>, then add the value of <code>]</code> (2) to get a new total score of <code>2</code>.</li>\n",
    "<li>Multiply the total score by 5 to get <code>10</code>, then add the value of <code>)</code> (1) to get a new total score of <code>11</code>.</li>\n",
    "<li>Multiply the total score by 5 to get <code>55</code>, then add the value of <code>}</code> (3) to get a new total score of <code>58</code>.</li>\n",
    "<li>Multiply the total score by 5 to get <code>290</code>, then add the value of <code>&gt;</code> (4) to get a new total score of <code>294</code>.</li>\n",
    "</ul>\n",
    "<p>The five lines' completion strings have total scores as follows:</p>\n",
    "<ul>\n",
    "<li><code>}}]])})]</code> - <code>288957</code> total points.</li>\n",
    "<li><code>)}&gt;]})</code> - <code>5566</code> total points.</li>\n",
    "<li><code>}}&gt;}&gt;))))</code> - <code>1480781</code> total points.</li>\n",
    "<li><code>]]}}]}]}&gt;</code> - <code>995444</code> total points.</li>\n",
    "<li><code>])}&gt;</code> - <code>294</code> total points.</li>\n",
    "</ul>\n",
    "<p>Autocomplete tools are an odd bunch: the winner is found by <em>sorting</em> all of the scores and then taking the <em>middle</em> score. (There will always be an odd number of scores to consider.) In this example, the middle score is <code><em>288957</em></code> because there are the same number of scores smaller and larger than it.</p>\n",
    "<p>Find the completion string for each incomplete line, score the completion strings, and sort the scores. <em>What is the middle score?</em></p>\n",
    "</article>\n",
    "\n",
    "</main>\n"
   ]
  },
  {
   "cell_type": "code",
   "execution_count": 62,
   "metadata": {},
   "outputs": [],
   "source": [
    "from collections.abc import Iterator\n",
    "from functools import reduce\n",
    "\n",
    "\n",
    "def completion_scoring(s: str) -> Iterator[int]:\n",
    "    score = [\"\", \")\", \"]\", \"}\", \">\"]\n",
    "    return (\n",
    "        reduce(lambda v, e: 5 * v + score.index(e), reversed(sc), 0)\n",
    "        for line in s.strip().splitlines()\n",
    "        if isinstance(sc := syntex_check(line), list)\n",
    "    )\n",
    "\n",
    "\n",
    "def middlescore(s: str) -> int:\n",
    "    scores = sorted(completion_scoring(s))\n",
    "    return scores[len(scores) // 2]\n",
    "\n",
    "\n",
    "assert middlescore(example) == 288957"
   ]
  },
  {
   "cell_type": "code",
   "execution_count": 63,
   "metadata": {},
   "outputs": [
    {
     "name": "stdout",
     "output_type": "stream",
     "text": [
      "Part II: 2776842859\n"
     ]
    }
   ],
   "source": [
    "print(f\"Part II: { middlescore(puzzle) }\")"
   ]
  },
  {
   "cell_type": "markdown",
   "metadata": {},
   "source": [
    "<link href=\"style.css\" rel=\"stylesheet\"></link>\n",
    "<main>\n",
    "\n",
    "<p>Your puzzle answer was <code>2776842859</code>.</p><p class=\"day-success\">Both parts of this puzzle are complete! They provide two gold stars: **</p>\n",
    "\n",
    "</main>\n"
   ]
  },
  {
   "cell_type": "code",
   "execution_count": null,
   "metadata": {},
   "outputs": [],
   "source": []
  },
  {
   "cell_type": "code",
   "execution_count": null,
   "metadata": {},
   "outputs": [],
   "source": []
  }
 ],
 "metadata": {
  "kernelspec": {
   "display_name": ".venv",
   "language": "python",
   "name": "python3"
  },
  "language_info": {
   "codemirror_mode": {
    "name": "ipython",
    "version": 3
   },
   "file_extension": ".py",
   "mimetype": "text/x-python",
   "name": "python",
   "nbconvert_exporter": "python",
   "pygments_lexer": "ipython3",
   "version": "3.12.0"
  }
 },
 "nbformat": 4,
 "nbformat_minor": 2
}
