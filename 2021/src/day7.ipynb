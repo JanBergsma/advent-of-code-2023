{
 "cells": [
  {
   "cell_type": "code",
   "execution_count": 123,
   "metadata": {},
   "outputs": [],
   "source": [
    "# %matplotlib widget\n",
    "\n",
    "from __future__ import annotations\n",
    "\n",
    "import re\n",
    "from collections import defaultdict\n",
    "from dataclasses import dataclass, field\n",
    "from itertools import permutations, product\n",
    "from math import inf\n",
    "from random import choice\n",
    "\n",
    "import matplotlib.colors as mcolors\n",
    "import matplotlib.pyplot as plt\n",
    "import networkx as nx\n",
    "import numpy as np\n",
    "import numpy.typing as npt\n",
    "from mpl_toolkits.mplot3d import axes3d\n",
    "from numpy import int_, object_\n",
    "from numpy.typing import NDArray\n",
    "from test_utilities import run_tests_params\n",
    "from util import print_hex\n",
    "\n",
    "COLORS = list(mcolors.CSS4_COLORS.keys())"
   ]
  },
  {
   "cell_type": "markdown",
   "metadata": {},
   "source": [
    "<link href=\"style.css\" rel=\"stylesheet\"></link>\n",
    "<article class=\"day-desc read-aloud\"><h2>--- Day 7: The Treachery of Whales ---</h2><p>A giant <a href=\"https://en.wikipedia.org/wiki/Sperm_whale\" target=\"_blank\">whale</a> has decided your submarine is its next meal, and it's much faster than you are. There's nowhere to run!</p>\n",
    "<p>Suddenly, a swarm of crabs (each in its own tiny submarine - it's too deep for them otherwise) zooms in to rescue you! They seem to be preparing to blast a hole in the ocean floor; sensors indicate a <em>massive underground cave system</em> just beyond where they're aiming!</p>\n",
    "<p>The crab submarines all need to be aligned before they'll have enough power to blast a large enough hole for your submarine to get through. However, it doesn't look like they'll be aligned before the whale catches you! Maybe you can help?</p>\n",
    "<p>There's one major catch - crab submarines can only move horizontally.</p>\n",
    "<p>You quickly make a list of <em>the horizontal position of each crab</em> (your puzzle input). Crab submarines have limited fuel, so you need to find a way to make all of their horizontal positions match while requiring them to spend as little fuel as possible.</p>\n",
    "<p>For example, consider the following horizontal positions:</p>\n",
    "<pre><code>16,1,2,0,4,2,7,1,2,14</code></pre>\n",
    "<p>This means there's a crab with horizontal position <code>16</code>, a crab with horizontal position <code>1</code>, and so on.</p>\n",
    "<p>Each change of 1 step in horizontal position of a single crab costs 1 fuel. You could choose any horizontal position to align them all on, but the one that costs the least fuel is horizontal position <code>2</code>:</p>\n",
    "<ul>\n",
    "<li>Move from <code>16</code> to <code>2</code>: <code>14</code> fuel</li>\n",
    "<li>Move from <code>1</code> to <code>2</code>: <code>1</code> fuel</li>\n",
    "<li>Move from <code>2</code> to <code>2</code>: <code>0</code> fuel</li>\n",
    "<li>Move from <code>0</code> to <code>2</code>: <code>2</code> fuel</li>\n",
    "<li>Move from <code>4</code> to <code>2</code>: <code>2</code> fuel</li>\n",
    "<li>Move from <code>2</code> to <code>2</code>: <code>0</code> fuel</li>\n",
    "<li>Move from <code>7</code> to <code>2</code>: <code>5</code> fuel</li>\n",
    "<li>Move from <code>1</code> to <code>2</code>: <code>1</code> fuel</li>\n",
    "<li>Move from <code>2</code> to <code>2</code>: <code>0</code> fuel</li>\n",
    "<li>Move from <code>14</code> to <code>2</code>: <code>12</code> fuel</li>\n",
    "</ul>\n",
    "<p>This costs a total of <code><em>37</em></code> fuel. This is the cheapest possible outcome; more expensive outcomes include aligning at position <code>1</code> (<code>41</code> fuel), position <code>3</code> (<code>39</code> fuel), or position <code>10</code> (<code>71</code> fuel).</p>\n",
    "<p>Determine the horizontal position that the crabs can align to using the least fuel possible. <em>How much fuel must they spend to align to that position?</em></p>\n",
    "</article>\n"
   ]
  },
  {
   "cell_type": "code",
   "execution_count": 124,
   "metadata": {},
   "outputs": [],
   "source": [
    "from more_itertools import minmax\n",
    "\n",
    "\n",
    "example = \"16,1,2,0,4,2,7,1,2,14\"\n",
    "\n",
    "\n",
    "def min_fuel(s: str) -> int:\n",
    "    crabs = [int(x) for x in s.strip().split(\",\")]\n",
    "    return min(sum(abs(x - crab) for crab in crabs) for x in range(*minmax(crabs)))\n",
    "\n",
    "\n",
    "assert min_fuel(example) == 37"
   ]
  },
  {
   "cell_type": "code",
   "execution_count": 125,
   "metadata": {},
   "outputs": [
    {
     "name": "stdout",
     "output_type": "stream",
     "text": [
      "Part I: 344535\n"
     ]
    }
   ],
   "source": [
    "with open(\"../input/day7.txt\") as f:\n",
    "    puzzle = f.read()\n",
    "\n",
    "print(f\"Part I: {min_fuel(puzzle)}\")"
   ]
  },
  {
   "cell_type": "markdown",
   "metadata": {},
   "source": [
    "<link href=\"style.css\" rel=\"stylesheet\"></link>\n",
    "\n",
    "<main>\n",
    "\n",
    "<p>Your puzzle answer was <code>344535</code>.</p><p class=\"day-success\">The first half of this puzzle is complete! It provides one gold star: *</p>\n",
    "<article class=\"day-desc\"><h2 id=\"part2\">--- Part Two ---</h2><p>The crabs don't seem interested in your proposed solution. Perhaps you misunderstand crab engineering?</p>\n",
    "<p>As it turns out, crab submarine engines <span title=\"This appears to be due to the modial interaction of magneto-reluctance and capacitive duractance.\">don't burn fuel at a constant rate</span>. Instead, each change of 1 step in horizontal position costs 1 more unit of fuel than the last: the first step costs <code>1</code>, the second step costs <code>2</code>, the third step costs <code>3</code>, and so on.</p>\n",
    "<p>As each crab moves, moving further becomes more expensive. This changes the best horizontal position to align them all on; in the example above, this becomes <code>5</code>:</p>\n",
    "<ul>\n",
    "<li>Move from <code>16</code> to <code>5</code>: <code>66</code> fuel</li>\n",
    "<li>Move from <code>1</code> to <code>5</code>: <code>10</code> fuel</li>\n",
    "<li>Move from <code>2</code> to <code>5</code>: <code>6</code> fuel</li>\n",
    "<li>Move from <code>0</code> to <code>5</code>: <code>15</code> fuel</li>\n",
    "<li>Move from <code>4</code> to <code>5</code>: <code>1</code> fuel</li>\n",
    "<li>Move from <code>2</code> to <code>5</code>: <code>6</code> fuel</li>\n",
    "<li>Move from <code>7</code> to <code>5</code>: <code>3</code> fuel</li>\n",
    "<li>Move from <code>1</code> to <code>5</code>: <code>10</code> fuel</li>\n",
    "<li>Move from <code>2</code> to <code>5</code>: <code>6</code> fuel</li>\n",
    "<li>Move from <code>14</code> to <code>5</code>: <code>45</code> fuel</li>\n",
    "</ul>\n",
    "<p>This costs a total of <code><em>168</em></code> fuel. This is the new cheapest possible outcome; the old alignment position (<code>2</code>) now costs <code>206</code> fuel instead.</p>\n",
    "<p>Determine the horizontal position that the crabs can align to using the least fuel possible so they can make you an escape route! <em>How much fuel must they spend to align to that position?</em></p>\n",
    "</article>\n",
    "\n",
    "</main>\n"
   ]
  },
  {
   "cell_type": "code",
   "execution_count": 126,
   "metadata": {},
   "outputs": [],
   "source": [
    "def a000217(n: int) -> int:\n",
    "    return n * (n + 1) // 2\n",
    "\n",
    "\n",
    "def min_fuel_2(s: str) -> int:\n",
    "    crabs = [int(x) for x in s.strip().split(\",\")]\n",
    "    return min(\n",
    "        sum(a000217(abs(x - crab)) for crab in crabs) for x in range(*minmax(crabs))\n",
    "    )\n",
    "\n",
    "\n",
    "assert min_fuel_2(example) == 168"
   ]
  },
  {
   "cell_type": "code",
   "execution_count": 127,
   "metadata": {},
   "outputs": [
    {
     "name": "stdout",
     "output_type": "stream",
     "text": [
      "Part II: 95581659\n"
     ]
    }
   ],
   "source": [
    "print(f\"Part II: { min_fuel_2(puzzle)}\")"
   ]
  },
  {
   "cell_type": "markdown",
   "metadata": {},
   "source": [
    "<link href=\"style.css\" rel=\"stylesheet\"></link>\n",
    "<main>\n",
    "\n",
    "<p>Your puzzle answer was <code>95581659</code>.</p><p class=\"day-success\">Both parts of this puzzle are complete! They provide two gold stars: **</p>\n",
    "\n",
    "</main>\n"
   ]
  },
  {
   "cell_type": "code",
   "execution_count": null,
   "metadata": {},
   "outputs": [],
   "source": []
  },
  {
   "cell_type": "code",
   "execution_count": null,
   "metadata": {},
   "outputs": [],
   "source": []
  }
 ],
 "metadata": {
  "kernelspec": {
   "display_name": ".venv",
   "language": "python",
   "name": "python3"
  },
  "language_info": {
   "codemirror_mode": {
    "name": "ipython",
    "version": 3
   },
   "file_extension": ".py",
   "mimetype": "text/x-python",
   "name": "python",
   "nbconvert_exporter": "python",
   "pygments_lexer": "ipython3",
   "version": "3.12.0"
  }
 },
 "nbformat": 4,
 "nbformat_minor": 2
}
