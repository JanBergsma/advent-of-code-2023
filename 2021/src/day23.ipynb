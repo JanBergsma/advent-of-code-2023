{
 "cells": [
  {
   "cell_type": "code",
   "execution_count": 7,
   "metadata": {},
   "outputs": [],
   "source": [
    "# %matplotlib widget\n",
    "\n",
    "from __future__ import annotations\n",
    "\n",
    "import re\n",
    "from collections import defaultdict\n",
    "from dataclasses import dataclass, field\n",
    "from itertools import permutations, product\n",
    "from math import inf\n",
    "from random import choice\n",
    "\n",
    "import matplotlib.colors as mcolors\n",
    "import matplotlib.pyplot as plt\n",
    "import networkx as nx\n",
    "import numpy as np\n",
    "import numpy.typing as npt\n",
    "from mpl_toolkits.mplot3d import axes3d\n",
    "from numpy import int_, object_\n",
    "from numpy.typing import NDArray\n",
    "from test_utilities import run_tests_params\n",
    "from util import print_hex\n",
    "\n",
    "COLORS = list(mcolors.CSS4_COLORS.keys())"
   ]
  },
  {
   "cell_type": "markdown",
   "metadata": {},
   "source": [
    "<link href=\"style.css\" rel=\"stylesheet\"></link>\n",
    "\n",
    "<article class=\"day-desc read-aloud\"><h2>--- Day 23: Amphipod ---</h2><p>A group of <a href=\"https://en.wikipedia.org/wiki/Amphipoda\" target=\"_blank\">amphipods</a> notice your fancy submarine and flag you down. \"With such an impressive shell,\" one amphipod <span title=\"What? You didn't know amphipods can talk?\">says</span>, \"surely you can help us with a question that has stumped our best scientists.\"</p>\n",
    "<p>They go on to explain that a group of timid, stubborn amphipods live in a nearby burrow. Four types of amphipods live there: <em>Amber</em> (<code>A</code>), <em>Bronze</em> (<code>B</code>), <em>Copper</em> (<code>C</code>), and <em>Desert</em> (<code>D</code>). They live in a burrow that consists of a <em>hallway</em> and four <em>side rooms</em>. The side rooms are initially full of amphipods, and the hallway is initially empty.</p>\n",
    "<p>They give you a <em>diagram of the situation</em> (your puzzle input), including locations of each amphipod (<code>A</code>, <code>B</code>, <code>C</code>, or <code>D</code>, each of which is occupying an otherwise open space), walls (<code>#</code>), and open space (<code>.</code>).</p>\n",
    "<p>For example:</p>\n",
    "<pre><code>#############\n",
    "#...........#\n",
    "###B#C#B#D###\n",
    "  #A#D#C#A#\n",
    "  #########\n",
    "</code></pre>\n",
    "<p>The amphipods would like a method to organize every amphipod into side rooms so that each side room contains one type of amphipod and the types are sorted <code>A</code>-<code>D</code> going left to right, like this:</p>\n",
    "<pre><code>#############\n",
    "#...........#\n",
    "###A#B#C#D###\n",
    "  #A#B#C#D#\n",
    "  #########\n",
    "</code></pre>\n",
    "<p>Amphipods can move up, down, left, or right so long as they are moving into an unoccupied open space. Each type of amphipod requires a different amount of <em>energy</em> to move one step: Amber amphipods require <code>1</code> energy per step, Bronze amphipods require <code>10</code> energy, Copper amphipods require <code>100</code>, and Desert ones require <code>1000</code>. The amphipods would like you to find a way to organize the amphipods that requires the <em>least total energy</em>.</p>\n",
    "<p>However, because they are timid and stubborn, the amphipods have some extra rules:</p>\n",
    "<ul>\n",
    "<li>Amphipods will never <em>stop on the space immediately outside any room</em>. They can move into that space so long as they immediately continue moving. (Specifically, this refers to the four open spaces in the hallway that are directly above an amphipod starting position.)</li>\n",
    "<li>Amphipods will never <em>move from the hallway into a room</em> unless that room is their destination room <em>and</em> that room contains no amphipods which do not also have that room as their own destination. If an amphipod's starting room is not its destination room, it can stay in that room until it leaves the room. (For example, an Amber amphipod will not move from the hallway into the right three rooms, and will only move into the leftmost room if that room is empty or if it only contains other Amber amphipods.)</li>\n",
    "<li>Once an amphipod stops moving in the hallway, <em>it will stay in that spot until it can move into a room</em>. (That is, once any amphipod starts moving, any other amphipods currently in the hallway are locked in place and will not move again until they can move fully into a room.)</li>\n",
    "</ul>\n",
    "<p>In the above example, the amphipods can be organized using a minimum of <code><em>12521</em></code> energy. One way to do this is shown below.</p>\n",
    "<p>Starting configuration:</p>\n",
    "<pre><code>#############\n",
    "#...........#\n",
    "###B#C#B#D###\n",
    "  #A#D#C#A#\n",
    "  #########\n",
    "</code></pre>\n",
    "<p>One Bronze amphipod moves into the hallway, taking 4 steps and using <code>40</code> energy:</p>\n",
    "<pre><code>#############\n",
    "#...B.......#\n",
    "###B#C#.#D###\n",
    "  #A#D#C#A#\n",
    "  #########\n",
    "</code></pre>\n",
    "<p>The only Copper amphipod not in its side room moves there, taking 4 steps and using <code>400</code> energy:</p>\n",
    "<pre><code>#############\n",
    "#...B.......#\n",
    "###B#.#C#D###\n",
    "  #A#D#C#A#\n",
    "  #########\n",
    "</code></pre>\n",
    "<p>A Desert amphipod moves out of the way, taking 3 steps and using <code>3000</code> energy, and then the Bronze amphipod takes its place, taking 3 steps and using <code>30</code> energy:</p>\n",
    "<pre><code>#############\n",
    "#.....D.....#\n",
    "###B#.#C#D###\n",
    "  #A#B#C#A#\n",
    "  #########\n",
    "</code></pre>\n",
    "<p>The leftmost Bronze amphipod moves to its room using <code>40</code> energy:</p>\n",
    "<pre><code>#############\n",
    "#.....D.....#\n",
    "###.#B#C#D###\n",
    "  #A#B#C#A#\n",
    "  #########\n",
    "</code></pre>\n",
    "<p>Both amphipods in the rightmost room move into the hallway, using <code>2003</code> energy in total:</p>\n",
    "<pre><code>#############\n",
    "#.....D.D.A.#\n",
    "###.#B#C#.###\n",
    "  #A#B#C#.#\n",
    "  #########\n",
    "</code></pre>\n",
    "<p>Both Desert amphipods move into the rightmost room using <code>7000</code> energy:</p>\n",
    "<pre><code>#############\n",
    "#.........A.#\n",
    "###.#B#C#D###\n",
    "  #A#B#C#D#\n",
    "  #########\n",
    "</code></pre>\n",
    "<p>Finally, the last Amber amphipod moves into its room, using <code>8</code> energy:</p>\n",
    "<pre><code>#############\n",
    "#...........#\n",
    "###A#B#C#D###\n",
    "  #A#B#C#D#\n",
    "  #########\n",
    "</code></pre>\n",
    "<p><em>What is the least energy required to organize the amphipods?</em></p>\n",
    "</article>\n"
   ]
  },
  {
   "cell_type": "code",
   "execution_count": null,
   "metadata": {},
   "outputs": [
    {
     "ename": "SyntaxError",
     "evalue": "invalid syntax (3430318248.py, line 27)",
     "output_type": "error",
     "traceback": [
      "\u001b[0;36m  Cell \u001b[0;32mIn[16], line 27\u001b[0;36m\u001b[0m\n\u001b[0;31m    reurrn inf\u001b[0m\n\u001b[0m           ^\u001b[0m\n\u001b[0;31mSyntaxError\u001b[0m\u001b[0;31m:\u001b[0m invalid syntax\n"
     ]
    }
   ],
   "source": [
    "from collections import deque\n",
    "from heapq import heapify\n",
    "from pprint import pprint\n",
    "from more_itertools import flatten\n",
    "\n",
    "example = \"\"\"\n",
    "#############\n",
    "#...........#\n",
    "###B#C#B#D###\n",
    "  #A#D#C#A#  \n",
    "  #########  \n",
    "\"\"\"\n",
    "\n",
    "\n",
    "def parse(s: str) -> list[list[str]]:\n",
    "    return [list(s) for s in s.splitlines()[1:]]\n",
    "\n",
    "\n",
    "def to_str(d: list[list[str]]) -> str:\n",
    "    return \"\\n\".join(\"\".join(l) for l in d)\n",
    "\n",
    "\n",
    "def organize(s: str):\n",
    "    diagram = parse(s)\n",
    "    bags = {\n",
    "        \"A\": [diagram[3][3], diagram[4][3]],\n",
    "        \"B\": [diagram[3][5], diagram[4][5]],\n",
    "        \"C\": [diagram[3][7], diagram[4][7]],\n",
    "        \"D\": [diagram[3][9], diagram[4][9]],\n",
    "    }\n",
    "\n",
    "    ##################################\n",
    "    #\n",
    "    #    #############\n",
    "    #    #ab.c.d.e.fg#\n",
    "    #    ###A#B#C#D###\n",
    "    #      #A#B#C#D#\n",
    "    #      #########\n",
    "    #\n",
    "    ##################################\n",
    "    graph = {\n",
    "        \"A1\": [(\"A2\", 1)],\n",
    "        \"A2\": [(\"A1\", 1), (\"b\", 2), (\"c\", 2)],\n",
    "    }\n",
    "\n",
    "\n",
    "organize(example)"
   ]
  },
  {
   "cell_type": "code",
   "execution_count": 9,
   "metadata": {},
   "outputs": [
    {
     "name": "stdout",
     "output_type": "stream",
     "text": [
      "defaultdict(<class 'list'>, {'#': [(0, 0), (0, 1), (0, 2), (0, 3), (0, 4), (0, 5), (0, 6), (0, 7), (0, 8), (0, 9), (0, 10), (0, 11), (0, 12), (1, 0), (1, 12), (2, 0), (2, 1), (2, 2), (2, 4), (2, 6), (2, 8), (2, 10), (2, 11), (2, 12), (3, 2), (3, 4), (3, 6), (3, 8), (3, 10), (4, 2), (4, 3), (4, 4), (4, 5), (4, 6), (4, 7), (4, 8), (4, 9), (4, 10)], '.': [(1, 1), (1, 2), (1, 3), (1, 4), (1, 5), (1, 6), (1, 7), (1, 8), (1, 9), (1, 10), (1, 11)], 'D': [(2, 3), (2, 5)], 'C': [(2, 7), (2, 9)], ' ': [(3, 0), (3, 1), (3, 11), (3, 12), (4, 0), (4, 1), (4, 11), (4, 12)], 'B': [(3, 3), (3, 7)], 'A': [(3, 5), (3, 9)]})\n"
     ]
    },
    {
     "data": {
      "text/plain": [
       "inf"
      ]
     },
     "execution_count": 9,
     "metadata": {},
     "output_type": "execute_result"
    }
   ],
   "source": [
    "puzzle = \"\"\"\n",
    "#############\n",
    "#...........#\n",
    "###D#D#C#C###\n",
    "  #B#A#B#A#  \n",
    "  #########  \n",
    "\"\"\"\n",
    "# print(f\"Part I: {Toboggan(puzzle).count_tree_on_path_down()}\")\n",
    "organize(puzzle)"
   ]
  },
  {
   "cell_type": "markdown",
   "metadata": {},
   "source": [
    "<link href=\"style.css\" rel=\"stylesheet\"></link>\n"
   ]
  },
  {
   "cell_type": "code",
   "execution_count": null,
   "metadata": {},
   "outputs": [],
   "source": []
  },
  {
   "cell_type": "code",
   "execution_count": 10,
   "metadata": {},
   "outputs": [],
   "source": [
    "# print(f\"Part II: { Toboggan(puzzle).count_tree_on_path_down_on_slopes()}\")"
   ]
  },
  {
   "cell_type": "markdown",
   "metadata": {},
   "source": [
    "<link href=\"style.css\" rel=\"stylesheet\"></link>\n",
    "<main>\n",
    "\n",
    "<p>Your puzzle answer was <code>3093068400</code>.</p><p class=\"day-success\">Both parts of this puzzle are complete! They provide two gold stars: **</p>\n",
    "\n",
    "</main>\n"
   ]
  },
  {
   "cell_type": "code",
   "execution_count": null,
   "metadata": {},
   "outputs": [],
   "source": []
  },
  {
   "cell_type": "code",
   "execution_count": null,
   "metadata": {},
   "outputs": [],
   "source": []
  }
 ],
 "metadata": {
  "kernelspec": {
   "display_name": ".venv",
   "language": "python",
   "name": "python3"
  },
  "language_info": {
   "codemirror_mode": {
    "name": "ipython",
    "version": 3
   },
   "file_extension": ".py",
   "mimetype": "text/x-python",
   "name": "python",
   "nbconvert_exporter": "python",
   "pygments_lexer": "ipython3",
   "version": "3.12.0"
  }
 },
 "nbformat": 4,
 "nbformat_minor": 2
}
