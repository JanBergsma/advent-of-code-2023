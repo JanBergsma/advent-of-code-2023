{
 "cells": [
  {
   "cell_type": "code",
   "execution_count": 89,
   "metadata": {},
   "outputs": [],
   "source": [
    "# %matplotlib widget\n",
    "\n",
    "from __future__ import annotations\n",
    "\n",
    "import re\n",
    "from collections import defaultdict\n",
    "from dataclasses import dataclass, field\n",
    "from itertools import permutations, product\n",
    "from math import inf\n",
    "from random import choice\n",
    "\n",
    "import matplotlib.colors as mcolors\n",
    "import matplotlib.pyplot as plt\n",
    "import networkx as nx\n",
    "import numpy as np\n",
    "import numpy.typing as npt\n",
    "from mpl_toolkits.mplot3d import axes3d\n",
    "from numpy import int_, object_\n",
    "from numpy.typing import NDArray\n",
    "from test_utilities import run_tests_params\n",
    "from util import print_hex\n",
    "\n",
    "COLORS = list(mcolors.CSS4_COLORS.keys())"
   ]
  },
  {
   "cell_type": "markdown",
   "metadata": {},
   "source": [
    "<link href=\"style.css\" rel=\"stylesheet\"></link>\n",
    "<article class=\"day-desc read-aloud\"><h2>--- Day 14: Extended Polymerization ---</h2><p>The incredible pressures at this depth are starting to put a strain on your submarine. The submarine has <a href=\"https://en.wikipedia.org/wiki/Polymerization\" target=\"_blank\">polymerization</a> equipment that would produce suitable materials to reinforce the submarine, and the nearby volcanically-active caves should even have the necessary input elements in sufficient quantities.</p>\n",
    "<p>The submarine manual contains <span title=\"HOHO -> OH\">instructions</span> for finding the optimal polymer formula; specifically, it offers a <em>polymer template</em> and a list of <em>pair insertion</em> rules (your puzzle input). You just need to work out what polymer would result after repeating the pair insertion process a few times.</p>\n",
    "<p>For example:</p>\n",
    "<pre><code>NNCB\n",
    "\n",
    "CH -&gt; B\n",
    "HH -&gt; N\n",
    "CB -&gt; H\n",
    "NH -&gt; C\n",
    "HB -&gt; C\n",
    "HC -&gt; B\n",
    "HN -&gt; C\n",
    "NN -&gt; C\n",
    "BH -&gt; H\n",
    "NC -&gt; B\n",
    "NB -&gt; B\n",
    "BN -&gt; B\n",
    "BB -&gt; N\n",
    "BC -&gt; B\n",
    "CC -&gt; N\n",
    "CN -&gt; C\n",
    "</code></pre>\n",
    "\n",
    "<p>The first line is the <em>polymer template</em> - this is the starting point of the process.</p>\n",
    "<p>The following section defines the <em>pair insertion</em> rules. A rule like <code>AB -&gt; C</code> means that when elements <code>A</code> and <code>B</code> are immediately adjacent, element <code>C</code> should be inserted between them. These insertions all happen simultaneously.</p>\n",
    "<p>So, starting with the polymer template <code>NNCB</code>, the first step simultaneously considers all three pairs:</p>\n",
    "<ul>\n",
    "<li>The first pair (<code>NN</code>) matches the rule <code>NN -&gt; C</code>, so element <code><em>C</em></code> is inserted between the first <code>N</code> and the second <code>N</code>.</li>\n",
    "<li>The second pair (<code>NC</code>) matches the rule <code>NC -&gt; B</code>, so element <code><em>B</em></code> is inserted between the <code>N</code> and the <code>C</code>.</li>\n",
    "<li>The third pair (<code>CB</code>) matches the rule <code>CB -&gt; H</code>, so element <code><em>H</em></code> is inserted between the <code>C</code> and the <code>B</code>.</li>\n",
    "</ul>\n",
    "<p>Note that these pairs overlap: the second element of one pair is the first element of the next pair. Also, because all pairs are considered simultaneously, inserted elements are not considered to be part of a pair until the next step.</p>\n",
    "<p>After the first step of this process, the polymer becomes <code>N<em>C</em>N<em>B</em>C<em>H</em>B</code>.</p>\n",
    "<p>Here are the results of a few steps using the above rules:</p>\n",
    "<pre><code>Template:     NNCB\n",
    "After step 1: NCNBCHB\n",
    "After step 2: NBCCNBBBCBHCB\n",
    "After step 3: NBBBCNCCNBBNBNBBCHBHHBCHB\n",
    "After step 4: NBBNBNBBCCNBCNCCNBBNBBNBBBNBBNBBCBHCBHHNHCBBCBHCB\n",
    "</code></pre>\n",
    "<p>This polymer grows quickly. After step 5, it has length 97; After step 10, it has length 3073. After step 10, <code>B</code> occurs 1749 times, <code>C</code> occurs 298 times, <code>H</code> occurs 161 times, and <code>N</code> occurs 865 times; taking the quantity of the most common element (<code>B</code>, 1749) and subtracting the quantity of the least common element (<code>H</code>, 161) produces <code>1749 - 161 = <em>1588</em></code>.</p>\n",
    "<p>Apply 10 steps of pair insertion to the polymer template and find the most and least common elements in the result. <em>What do you get if you take the quantity of the most common element and subtract the quantity of the least common element?</em></p>\n",
    "</article>\n"
   ]
  },
  {
   "cell_type": "code",
   "execution_count": 90,
   "metadata": {},
   "outputs": [],
   "source": [
    "from collections import Counter\n",
    "\n",
    "from more_itertools import minmax\n",
    "\n",
    "\n",
    "example = \"\"\"\n",
    "NNCB\n",
    "\n",
    "CH -> B\n",
    "HH -> N\n",
    "CB -> H\n",
    "NH -> C\n",
    "HB -> C\n",
    "HC -> B\n",
    "HN -> C\n",
    "NN -> C\n",
    "BH -> H\n",
    "NC -> B\n",
    "NB -> B\n",
    "BN -> B\n",
    "BB -> N\n",
    "BC -> B\n",
    "CC -> N\n",
    "CN -> C\n",
    "\"\"\"\n",
    "\n",
    "\n",
    "def polymerization(s: str, steps=10, do_print=False):\n",
    "    template, pair_insertions = re.split(r\"\\n\\s*\\n\", s.strip())\n",
    "    template = list(template)\n",
    "    pair_insertions = dict(pi.split(\" -> \") for pi in pair_insertions.splitlines())\n",
    "\n",
    "    if do_print:\n",
    "        print(f\"template\\t\\t: {''.join(template)}\")\n",
    "\n",
    "    for step in range(1, steps + 1):\n",
    "        new_template = []\n",
    "        for i in range(len(template) - 1):\n",
    "            new_template.append(template[i])\n",
    "            pair = \"\".join(template[i : i + 2])\n",
    "            if pair in pair_insertions:\n",
    "                new_template.append(pair_insertions[pair])\n",
    "        new_template.append(template[-1])\n",
    "        template = new_template\n",
    "\n",
    "        if do_print:\n",
    "            print(f\"After step {step}\\t\\t: {''.join(template)}\")\n",
    "\n",
    "    mn, mx = minmax(Counter(template).values())\n",
    "    return mx - mn\n",
    "\n",
    "\n",
    "assert polymerization(example) == 1588"
   ]
  },
  {
   "cell_type": "code",
   "execution_count": 91,
   "metadata": {},
   "outputs": [
    {
     "name": "stdout",
     "output_type": "stream",
     "text": [
      "Part I: 3306\n"
     ]
    }
   ],
   "source": [
    "with open(\"../input/day14.txt\") as f:\n",
    "    puzzle = f.read()\n",
    "\n",
    "print(f\"Part I: { polymerization(puzzle) }\")"
   ]
  },
  {
   "cell_type": "markdown",
   "metadata": {},
   "source": [
    "<link href=\"style.css\" rel=\"stylesheet\"></link>\n",
    "<main>\n",
    "\n",
    "<p>Your puzzle answer was <code>3306</code>.</p><p class=\"day-success\">The first half of this puzzle is complete! It provides one gold star: *</p>\n",
    "<article class=\"day-desc\"><h2 id=\"part2\">--- Part Two ---</h2><p>The resulting polymer isn't nearly strong enough to reinforce the submarine. You'll need to run more steps of the pair insertion process; a total of <em>40 steps</em> should do it.</p>\n",
    "<p>In the above example, the most common element is <code>B</code> (occurring <code>2192039569602</code> times) and the least common element is <code>H</code> (occurring <code>3849876073</code> times); subtracting these produces <code><em>2188189693529</em></code>.</p>\n",
    "<p>Apply <em>40</em> steps of pair insertion to the polymer template and find the most and least common elements in the result. <em>What do you get if you take the quantity of the most common element and subtract the quantity of the least common element?</em></p>\n",
    "</article>\n",
    "\n",
    "</main>\n"
   ]
  },
  {
   "cell_type": "code",
   "execution_count": 92,
   "metadata": {},
   "outputs": [],
   "source": [
    "def transform(s: str, pair_insertions: dict[str, str]) -> list[str]:\n",
    "    result = []\n",
    "    for i in range(len(s) - 1):\n",
    "        result.append(s[i])\n",
    "        pair = s[i : i + 2]\n",
    "        if pair in pair_insertions:\n",
    "            result.append(pair_insertions[pair])\n",
    "    result.append(s[-1])\n",
    "    return [\"\".join(result[i - 1 : i + 1]) for i in range(1, len(result))]\n",
    "\n",
    "\n",
    "def polymerization_fast(s: str, steps=10):\n",
    "    template, pair_insertions = re.split(r\"\\n\\s*\\n\", s.strip())\n",
    "    pair_insertions = dict(pi.split(\" -> \") for pi in pair_insertions.splitlines())\n",
    "\n",
    "    pairs = Counter(template[i - 1 : i + 1] for i in range(1, len(template)))\n",
    "\n",
    "    for _ in range(steps):\n",
    "        new_pairs = defaultdict(int)\n",
    "    \n",
    "        for p, count in pairs.items():\n",
    "            for pp in transform(p, pair_insertions):\n",
    "                new_pairs[pp] += count\n",
    "\n",
    "        pairs = new_pairs\n",
    "\n",
    "    letter_count = defaultdict(int)\n",
    "    for k, v in pairs.items():\n",
    "        for ch in k:\n",
    "            letter_count[ch] += v\n",
    "\n",
    "    mn, mx = minmax(letter_count.values())\n",
    "    return (mx - mn) // 2 + 1\n",
    "\n",
    "\n",
    "assert polymerization_fast(example, 40) == 2188189693529"
   ]
  },
  {
   "cell_type": "code",
   "execution_count": 93,
   "metadata": {},
   "outputs": [
    {
     "name": "stdout",
     "output_type": "stream",
     "text": [
      "Part II: 3760312702877\n"
     ]
    }
   ],
   "source": [
    "print(f\"Part II: { polymerization_fast(puzzle,40) }\")"
   ]
  },
  {
   "cell_type": "markdown",
   "metadata": {},
   "source": [
    "<link href=\"style.css\" rel=\"stylesheet\"></link>\n",
    "<main>\n",
    "\n",
    "<p>Your puzzle answer was <code>3760312702877</code>.</p><p class=\"day-success\">Both parts of this puzzle are complete! They provide two gold stars: **</p>\n",
    "\n",
    "</main>\n"
   ]
  },
  {
   "cell_type": "code",
   "execution_count": null,
   "metadata": {},
   "outputs": [],
   "source": []
  }
 ],
 "metadata": {
  "kernelspec": {
   "display_name": ".venv",
   "language": "python",
   "name": "python3"
  },
  "language_info": {
   "codemirror_mode": {
    "name": "ipython",
    "version": 3
   },
   "file_extension": ".py",
   "mimetype": "text/x-python",
   "name": "python",
   "nbconvert_exporter": "python",
   "pygments_lexer": "ipython3",
   "version": "3.12.0"
  }
 },
 "nbformat": 4,
 "nbformat_minor": 2
}
