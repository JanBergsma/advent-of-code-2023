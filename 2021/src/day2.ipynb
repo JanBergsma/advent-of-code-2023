{
 "cells": [
  {
   "cell_type": "code",
   "execution_count": 50,
   "metadata": {},
   "outputs": [],
   "source": [
    "# %matplotlib widget\n",
    "\n",
    "from __future__ import annotations\n",
    "\n",
    "import re\n",
    "from collections import defaultdict\n",
    "from dataclasses import dataclass, field\n",
    "from itertools import permutations, product\n",
    "from math import inf\n",
    "from random import choice\n",
    "\n",
    "import matplotlib.colors as mcolors\n",
    "import matplotlib.pyplot as plt\n",
    "import networkx as nx\n",
    "import numpy as np\n",
    "import numpy.typing as npt\n",
    "from mpl_toolkits.mplot3d import axes3d\n",
    "from numpy import int_, object_\n",
    "from numpy.typing import NDArray\n",
    "from test_utilities import run_tests_params\n",
    "from util import print_hex\n",
    "\n",
    "COLORS = list(mcolors.CSS4_COLORS.keys())"
   ]
  },
  {
   "cell_type": "markdown",
   "metadata": {},
   "source": [
    "<link href=\"style.css\" rel=\"stylesheet\"></link>\n"
   ]
  },
  {
   "cell_type": "code",
   "execution_count": 51,
   "metadata": {},
   "outputs": [
    {
     "name": "stdout",
     "output_type": "stream",
     "text": [
      "\n",
      "\u001b[32mTest Example 1 passed, for valid.\u001b[0m\n",
      "\u001b[32mTest Example 2 passed, for valid.\u001b[0m\n",
      "\u001b[32mTest Example 3 passed, for valid.\u001b[0m\n",
      "\u001b[32mSuccess\u001b[0m\n"
     ]
    }
   ],
   "source": [
    "tests = [\n",
    "    {\n",
    "        \"name\": \"Example 1\",\n",
    "        \"fr\": 1,\n",
    "        \"to\": 3,\n",
    "        \"symbol\": \"a\",\n",
    "        \"password\": \"abcde\",\n",
    "        \"expected\": True,\n",
    "    },\n",
    "    {\n",
    "        \"name\": \"Example 2\",\n",
    "        \"fr\": 1,\n",
    "        \"to\": 3,\n",
    "        \"symbol\": \"b\",\n",
    "        \"password\": \"cdefg\",\n",
    "        \"expected\": False,\n",
    "    },\n",
    "    {\n",
    "        \"name\": \"Example 3\",\n",
    "        \"fr\": 2,\n",
    "        \"to\": 9,\n",
    "        \"symbol\": \"c\",\n",
    "        \"password\": \"ccccccccc\",\n",
    "        \"expected\": True,\n",
    "    },\n",
    "]\n",
    "\n",
    "\n",
    "def valid(fr: int, to: int, symbol: chr, password: str) -> bool:\n",
    "    return fr <= password.count(symbol) <= to\n",
    "\n",
    "\n",
    "run_tests_params(valid, tests)\n",
    "\n",
    "\n",
    "example = \"\"\"\n",
    "    1-3 a: abcde\n",
    "    1-3 b: cdefg\n",
    "    2-9 c: ccccccccc\n",
    "\"\"\"\n",
    "\n",
    "\n",
    "def parse_line(s: str) -> tuple[int, int, chr, str]:\n",
    "    fr_to, symbol, password = s.strip().split()\n",
    "\n",
    "    fr, to = (int(i) for i in fr_to.split(\"-\"))\n",
    "    symbol = symbol[:-1]\n",
    "    return fr, to, symbol, password\n",
    "\n",
    "\n",
    "def parse(s):\n",
    "    return (parse_line(l) for l in s.strip().splitlines())\n",
    "\n",
    "\n",
    "def count_valid_passwords(s: str) -> int:\n",
    "    return sum(\n",
    "        1 for fr, to, symbol, password in parse(s) if valid(fr, to, symbol, password)\n",
    "    )\n",
    "\n",
    "\n",
    "assert count_valid_passwords(example) == 2"
   ]
  },
  {
   "cell_type": "code",
   "execution_count": 52,
   "metadata": {},
   "outputs": [
    {
     "name": "stdout",
     "output_type": "stream",
     "text": [
      "Part I: 393\n"
     ]
    }
   ],
   "source": [
    "with open(\"../input/day2.txt\") as f:\n",
    "    puzzle = f.read()\n",
    "\n",
    "print(f\"Part I: {count_valid_passwords(puzzle)}\")"
   ]
  },
  {
   "cell_type": "markdown",
   "metadata": {},
   "source": [
    "<link href=\"style.css\" rel=\"stylesheet\"></link>\n",
    "\n",
    "<main>\n",
    "\n",
    "<p>Your puzzle answer was <code>393</code>.</p><p class=\"day-success\">The first half of this puzzle is complete! It provides one gold star: *</p>\n",
    "<article class=\"day-desc\"><h2 id=\"part2\">--- Part Two ---</h2><p>While it appears you validated the passwords correctly, they don't seem to be what the Official Toboggan Corporate Authentication System is expecting.</p>\n",
    "<p>The shopkeeper suddenly realizes that he just accidentally explained the password policy rules from his old job at the sled rental place down the street! The Official Toboggan Corporate Policy actually works a little differently.</p>\n",
    "<p>Each policy actually describes two <em>positions in the password</em>, where <code>1</code> means the first character, <code>2</code> means the second character, and so on. (Be careful; Toboggan Corporate Policies have no concept of \"index zero\"!) <em>Exactly one of these positions</em> must contain the given letter. Other occurrences of the letter are irrelevant for the purposes of policy enforcement.</p>\n",
    "<p>Given the same example list from above:</p>\n",
    "<ul>\n",
    "<li><code>1-3 a: <em>a</em>b<em>c</em>de</code> is <em>valid</em>: position <code>1</code> contains <code>a</code> and position <code>3</code> does not.</li>\n",
    "<li><code>1-3 b: <em>c</em>d<em>e</em>fg</code> is <em>invalid</em>: neither position <code>1</code> nor position <code>3</code> contains <code>b</code>.</li>\n",
    "<li><code>2-9 c: c<em>c</em>cccccc<em>c</em></code> is <em>invalid</em>: both position <code>2</code> and position <code>9</code> contain <code>c</code>.</li>\n",
    "</ul>\n",
    "<p><em>How many passwords are valid</em> according to the new interpretation of the policies?</p>\n",
    "</article>\n",
    "\n",
    "</main>\n"
   ]
  },
  {
   "cell_type": "code",
   "execution_count": 53,
   "metadata": {},
   "outputs": [
    {
     "name": "stdout",
     "output_type": "stream",
     "text": [
      "\n",
      "\u001b[32mTest Example 1 passed, for valid.\u001b[0m\n",
      "\u001b[32mTest Example 2 passed, for valid.\u001b[0m\n",
      "\u001b[32mTest Example 3 passed, for valid.\u001b[0m\n",
      "\u001b[32mSuccess\u001b[0m\n"
     ]
    }
   ],
   "source": [
    "tests = [\n",
    "    {\n",
    "        \"name\": \"Example 1\",\n",
    "        \"fr\": 1,\n",
    "        \"to\": 3,\n",
    "        \"symbol\": \"a\",\n",
    "        \"password\": \"abcde\",\n",
    "        \"expected\": True,\n",
    "    },\n",
    "    {\n",
    "        \"name\": \"Example 2\",\n",
    "        \"fr\": 1,\n",
    "        \"to\": 3,\n",
    "        \"symbol\": \"b\",\n",
    "        \"password\": \"cdefg\",\n",
    "        \"expected\": False,\n",
    "    },\n",
    "    {\n",
    "        \"name\": \"Example 3\",\n",
    "        \"fr\": 2,\n",
    "        \"to\": 9,\n",
    "        \"symbol\": \"c\",\n",
    "        \"password\": \"ccccccccc\",\n",
    "        \"expected\": False,\n",
    "    },\n",
    "]\n",
    "\n",
    "\n",
    "def valid(fr: int, to: int, symbol: chr, password: str) -> bool:\n",
    "    return (password[fr - 1] == symbol) ^ (password[to - 1] == symbol)\n",
    "\n",
    "\n",
    "run_tests_params(valid, tests)\n",
    "\n",
    "\n",
    "example = \"\"\"\n",
    "    1-3 a: abcde\n",
    "    1-3 b: cdefg\n",
    "    2-9 c: ccccccccc\n",
    "\"\"\"\n",
    "\n",
    "\n",
    "assert count_valid_passwords(example) == 1"
   ]
  },
  {
   "cell_type": "code",
   "execution_count": 54,
   "metadata": {},
   "outputs": [
    {
     "name": "stdout",
     "output_type": "stream",
     "text": [
      "Part II: 690\n"
     ]
    }
   ],
   "source": [
    "print(f\"Part II: {count_valid_passwords(puzzle)}\")"
   ]
  },
  {
   "cell_type": "markdown",
   "metadata": {},
   "source": [
    "<link href=\"style.css\" rel=\"stylesheet\"></link>\n",
    "<main>\n",
    "\n",
    "<p>Your puzzle answer was <code>690</code>.</p><p class=\"day-success\">Both parts of this puzzle are complete! They provide two gold stars: **</p>\n",
    "\n",
    "</main>\n"
   ]
  },
  {
   "cell_type": "code",
   "execution_count": null,
   "metadata": {},
   "outputs": [],
   "source": []
  }
 ],
 "metadata": {
  "kernelspec": {
   "display_name": ".venv",
   "language": "python",
   "name": "python3"
  },
  "language_info": {
   "codemirror_mode": {
    "name": "ipython",
    "version": 3
   },
   "file_extension": ".py",
   "mimetype": "text/x-python",
   "name": "python",
   "nbconvert_exporter": "python",
   "pygments_lexer": "ipython3",
   "version": "3.12.0"
  }
 },
 "nbformat": 4,
 "nbformat_minor": 2
}
