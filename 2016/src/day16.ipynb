{
 "cells": [
  {
   "cell_type": "code",
   "execution_count": 19,
   "metadata": {},
   "outputs": [],
   "source": [
    "# %matplotlib widget\n",
    "\n",
    "from __future__ import annotations\n",
    "\n",
    "import re\n",
    "from collections import defaultdict\n",
    "from dataclasses import dataclass, field\n",
    "from itertools import permutations, product\n",
    "from math import inf\n",
    "from random import choice\n",
    "\n",
    "import matplotlib.colors as mcolors\n",
    "import matplotlib.pyplot as plt\n",
    "import networkx as nx\n",
    "import numpy as np\n",
    "import numpy.typing as npt\n",
    "from mpl_toolkits.mplot3d import axes3d\n",
    "from numpy import int_, object_\n",
    "from numpy.typing import NDArray\n",
    "from test_utilities import run_tests_params\n",
    "from util import print_hex\n",
    "\n",
    "COLORS = list(mcolors.CSS4_COLORS.keys())"
   ]
  },
  {
   "cell_type": "markdown",
   "metadata": {},
   "source": [
    "<link href=\"style.css\" rel=\"stylesheet\"></link>\n",
    "<article class=\"day-desc read-aloud\"><h2>--- Day 16: Dragon Checksum ---</h2><p>You're done scanning this part of the network, but you've left traces of your presence. You need to <span title=\"If I ever find one of my disks overwritten with a dragon curve, I'll know it was you.\">overwrite some disks</span> with random-looking data to cover your tracks and update the local security system with a new checksum for those disks.</p>\n",
    "<p>For the data to not be suspicious, it needs to have certain properties; purely random data will be detected as tampering. To generate appropriate random data, you'll need to use a modified <a href=\"https://en.wikipedia.org/wiki/Dragon_curve\">dragon curve</a>.</p>\n",
    "<p>Start with an appropriate initial state (your puzzle input). Then, so long as you don't have enough data yet to fill the disk, repeat the following steps:</p>\n",
    "<ul>\n",
    "<li>Call the data you have at this point \"a\".</li>\n",
    "<li>Make a copy of \"a\"; call this copy \"b\".</li>\n",
    "<li>Reverse the order of the characters in \"b\".</li>\n",
    "<li>In \"b\", replace all instances of <code>0</code> with <code>1</code> and all <code>1</code>s with <code>0</code>.</li>\n",
    "<li>The resulting data is \"a\", then a single <code>0</code>, then \"b\".</li>\n",
    "</ul>\n",
    "<p>For example, after a single step of this process,</p>\n",
    "<ul>\n",
    "<li><code>1</code> becomes <code>100</code>.</li>\n",
    "<li><code>0</code> becomes <code>001</code>.</li>\n",
    "<li><code>11111</code> becomes <code>11111000000</code>.</li>\n",
    "<li><code>111100001010</code> becomes <code>1111000010100101011110000</code>.</li>\n",
    "</ul>\n",
    "<p>Repeat these steps until you have enough data to fill the desired disk.</p>\n",
    "<p>Once the data has been generated, you also need to create a checksum of that data. Calculate the checksum <em>only</em> for the data that fits on the disk, even if you generated more data than that in the previous step.</p>\n",
    "<p>The checksum for some given data is created by considering each non-overlapping <em>pair</em> of characters in the input data.  If the two characters match (<code>00</code> or <code>11</code>), the next checksum character is a <code>1</code>.  If the characters do not match (<code>01</code> or <code>10</code>), the next checksum character is a <code>0</code>. This should produce a new string which is exactly half as long as the original. If the length of the checksum is <em>even</em>, repeat the process until you end up with a checksum with an <em>odd</em> length.</p>\n",
    "<p>For example, suppose we want to fill a disk of length <code>12</code>, and when we finally generate a string of at least length <code>12</code>, the first <code>12</code> characters are <code>110010110100</code>. To generate its checksum:</p>\n",
    "<ul>\n",
    "<li>Consider each pair: <code>11</code>, <code>00</code>, <code>10</code>, <code>11</code>, <code>01</code>, <code>00</code>.</li>\n",
    "<li>These are same, same, different, same, different, same, producing <code>110101</code>.</li>\n",
    "<li>The resulting string has length <code>6</code>, which is <em>even</em>, so we repeat the process.</li>\n",
    "<li>The pairs are <code>11</code> (same), <code>01</code> (different), <code>01</code> (different).</li>\n",
    "<li>This produces the checksum <code>100</code>, which has an <em>odd</em> length, so we stop.</li>\n",
    "</ul>\n",
    "<p>Therefore, the checksum for <code>110010110100</code> is <code>100</code>.</p>\n",
    "<p>Combining all of these steps together, suppose you want to fill a disk of length <code>20</code> using an initial state of <code>10000</code>:</p>\n",
    "<ul>\n",
    "<li>Because <code>10000</code> is too short, we first use the modified dragon curve to make it longer.</li>\n",
    "<li>After one round, it becomes <code>10000011110</code> (<code>11</code> characters), still too short.</li>\n",
    "<li>After two rounds, it becomes <code>10000011110010000111110</code> (<code>23</code> characters), which is enough.</li>\n",
    "<li>Since we only need <code>20</code>, but we have <code>23</code>, we get rid of all but the first <code>20</code> characters: <code>10000011110010000111</code>.</li>\n",
    "<li>Next, we start calculating the checksum; after one round, we have <code>0111110101</code>, which <code>10</code> characters long (<em>even</em>), so we continue.</li>\n",
    "<li>After two rounds, we have <code>01100</code>, which is <code>5</code> characters long (<em>odd</em>), so we are done.</li>\n",
    "</ul>\n",
    "<p>In this example, the correct checksum would therefore be <code>01100</code>.</p>\n",
    "<p>The first disk you have to fill has length <code>272</code>. Using the initial state in your puzzle input, <em>what is the correct checksum</em>?</p>\n",
    "</article>\n"
   ]
  },
  {
   "cell_type": "code",
   "execution_count": 20,
   "metadata": {},
   "outputs": [
    {
     "name": "stdout",
     "output_type": "stream",
     "text": [
      "\n",
      "\u001b[32mTest Example 1 passed, for convert.\u001b[0m\n",
      "\u001b[32mTest Example 2 passed, for convert.\u001b[0m\n",
      "\u001b[32mTest Example 3 passed, for convert.\u001b[0m\n",
      "\u001b[32mTest Example 4 passed, for convert.\u001b[0m\n",
      "\u001b[32mSuccess\u001b[0m\n"
     ]
    }
   ],
   "source": [
    "def convert(a: str) -> str:\n",
    "    return a + \"0\" + \"\".join(\"1\" if l == \"0\" else \"0\" for l in reversed(a))\n",
    "\n",
    "\n",
    "tests_convert = [\n",
    "    {\n",
    "        \"name\": \"Example 1\",\n",
    "        \"a\": \"1\",\n",
    "        \"expected\": \"100\",\n",
    "    },\n",
    "    {\n",
    "        \"name\": \"Example 2\",\n",
    "        \"a\": \"0\",\n",
    "        \"expected\": \"001\",\n",
    "    },\n",
    "    {\n",
    "        \"name\": \"Example 3\",\n",
    "        \"a\": \"11111\",\n",
    "        \"expected\": \"11111000000\",\n",
    "    },\n",
    "    {\n",
    "        \"name\": \"Example 4\",\n",
    "        \"a\": \"111100001010\",\n",
    "        \"expected\": \"1111000010100101011110000\",\n",
    "    },\n",
    "]\n",
    "\n",
    "run_tests_params(convert, tests_convert)"
   ]
  },
  {
   "cell_type": "code",
   "execution_count": 21,
   "metadata": {},
   "outputs": [
    {
     "name": "stdout",
     "output_type": "stream",
     "text": [
      "\n",
      "\u001b[32mTest Example 1 passed, for checksum.\u001b[0m\n",
      "\u001b[32mTest Example 2 passed, for checksum.\u001b[0m\n",
      "\u001b[32mTest Example 3 passed, for checksum.\u001b[0m\n",
      "\u001b[32mTest Example 4 passed, for checksum.\u001b[0m\n",
      "\u001b[32mTest Example 5 passed, for checksum.\u001b[0m\n",
      "\u001b[32mTest Example 6 passed, for checksum.\u001b[0m\n",
      "\u001b[32mSuccess\u001b[0m\n"
     ]
    }
   ],
   "source": [
    "from itertools import batched\n",
    "\n",
    "translate = dict(zip(batched(\"11001001\", n=2), \"1100\"))\n",
    "\n",
    "\n",
    "def checksum(a: str) -> str:\n",
    "    return \"\".join(translate[t] for t in batched(a, n=2))\n",
    "\n",
    "\n",
    "tests_checksum = [\n",
    "    {\n",
    "        \"name\": \"Example 1\",\n",
    "        \"a\": \"11\",\n",
    "        \"expected\": \"1\",\n",
    "    },\n",
    "    {\n",
    "        \"name\": \"Example 2\",\n",
    "        \"a\": \"00\",\n",
    "        \"expected\": \"1\",\n",
    "    },\n",
    "    {\n",
    "        \"name\": \"Example 3\",\n",
    "        \"a\": \"10\",\n",
    "        \"expected\": \"0\",\n",
    "    },\n",
    "    {\n",
    "        \"name\": \"Example 4\",\n",
    "        \"a\": \"01\",\n",
    "        \"expected\": \"0\",\n",
    "    },\n",
    "    {\n",
    "        \"name\": \"Example 5\",\n",
    "        \"a\": \"110010110100\",\n",
    "        \"expected\": \"110101\",\n",
    "    },\n",
    "    {\n",
    "        \"name\": \"Example 6\",\n",
    "        \"a\": \"110101\",\n",
    "        \"expected\": \"100\",\n",
    "    },\n",
    "]\n",
    "\n",
    "run_tests_params(checksum, tests_checksum)"
   ]
  },
  {
   "cell_type": "code",
   "execution_count": 24,
   "metadata": {},
   "outputs": [
    {
     "name": "stdout",
     "output_type": "stream",
     "text": [
      "\n",
      "\u001b[32mTest Example 1 passed, for dragon_curve.\u001b[0m\n",
      "\u001b[32mTest Example 2 passed, for dragon_curve.\u001b[0m\n",
      "\u001b[32mSuccess\u001b[0m\n"
     ]
    }
   ],
   "source": [
    "def dragon_curve(a: str, length: int) -> str:\n",
    "    while len(a) < length:\n",
    "        a = convert(a)\n",
    "\n",
    "    a = checksum(a[:length])\n",
    "    while len(a) & 1 == 0:\n",
    "        a = checksum(a[:length])\n",
    "\n",
    "    return a\n",
    "\n",
    "\n",
    "tests_dragon_curve = [\n",
    "    {\n",
    "        \"name\": \"Example 1\",\n",
    "        \"a\": \"110010110100\",\n",
    "        \"length\": 12,\n",
    "        \"expected\": \"100\",\n",
    "    },\n",
    "    {\n",
    "        \"name\": \"Example 2\",\n",
    "        \"a\": \"10000\",\n",
    "        \"length\": 20,\n",
    "        \"expected\": \"01100\",\n",
    "    },\n",
    "]\n",
    "\n",
    "run_tests_params(dragon_curve, tests_dragon_curve)"
   ]
  },
  {
   "cell_type": "code",
   "execution_count": 25,
   "metadata": {},
   "outputs": [
    {
     "data": {
      "text/plain": [
       "'10100101010101101'"
      ]
     },
     "execution_count": 25,
     "metadata": {},
     "output_type": "execute_result"
    }
   ],
   "source": [
    "dragon_curve(\"11101000110010100\", 272)"
   ]
  },
  {
   "cell_type": "markdown",
   "metadata": {},
   "source": [
    "<link href=\"style.css\" rel=\"stylesheet\"></link>\n",
    "<main>\n",
    "\n",
    "<p>Your puzzle answer was <code>10100101010101101</code>.</p><p class=\"day-success\">The first half of this puzzle is complete! It provides one gold star: *</p>\n",
    "<article class=\"day-desc\"><h2 id=\"part2\">--- Part Two ---</h2><p>The second disk you have to fill has length <code>35651584</code>. Again using the initial state in your puzzle input, <em>what is the correct checksum</em> for this disk?</p>\n",
    "</article>\n",
    "\n",
    "</main>\n"
   ]
  },
  {
   "cell_type": "code",
   "execution_count": 26,
   "metadata": {},
   "outputs": [
    {
     "data": {
      "text/plain": [
       "'01100001101101001'"
      ]
     },
     "execution_count": 26,
     "metadata": {},
     "output_type": "execute_result"
    }
   ],
   "source": [
    "dragon_curve(\"11101000110010100\", 35651584)"
   ]
  },
  {
   "cell_type": "markdown",
   "metadata": {},
   "source": [
    "<link href=\"style.css\" rel=\"stylesheet\"></link>\n",
    "<main>\n",
    "\n",
    "<p>Your puzzle answer was <code>01100001101101001</code>.</p><p class=\"day-success\">Both parts of this puzzle are complete! They provide two gold stars: **</p>\n",
    "<p>At this point, you should <a href=\"/2016\">return to your Advent calendar</a> and try another puzzle.</p>\n",
    "<p>Your puzzle input was <code class=\"puzzle-input\">11101000110010100</code>.</p>\n",
    "\n",
    "</main>\n"
   ]
  },
  {
   "cell_type": "code",
   "execution_count": null,
   "metadata": {},
   "outputs": [],
   "source": []
  }
 ],
 "metadata": {
  "kernelspec": {
   "display_name": ".venv",
   "language": "python",
   "name": "python3"
  },
  "language_info": {
   "codemirror_mode": {
    "name": "ipython",
    "version": 3
   },
   "file_extension": ".py",
   "mimetype": "text/x-python",
   "name": "python",
   "nbconvert_exporter": "python",
   "pygments_lexer": "ipython3",
   "version": "3.12.0"
  }
 },
 "nbformat": 4,
 "nbformat_minor": 2
}
