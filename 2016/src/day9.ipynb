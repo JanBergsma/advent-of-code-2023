{
 "cells": [
  {
   "cell_type": "code",
   "execution_count": 2,
   "metadata": {},
   "outputs": [],
   "source": [
    "# %matplotlib widget\n",
    "\n",
    "from __future__ import annotations\n",
    "\n",
    "import re\n",
    "from collections import defaultdict\n",
    "from dataclasses import dataclass, field\n",
    "from itertools import permutations, product\n",
    "from math import inf\n",
    "from random import choice\n",
    "\n",
    "import matplotlib.colors as mcolors\n",
    "import matplotlib.pyplot as plt\n",
    "import networkx as nx\n",
    "import numpy as np\n",
    "import numpy.typing as npt\n",
    "from mpl_toolkits.mplot3d import axes3d\n",
    "from numpy import int_, object_\n",
    "from numpy.typing import NDArray\n",
    "from test_utilities import run_tests_params\n",
    "from util import print_hex\n",
    "\n",
    "COLORS = list(mcolors.CSS4_COLORS.keys())"
   ]
  },
  {
   "cell_type": "markdown",
   "metadata": {},
   "source": [
    "<link href=\"style.css\" rel=\"stylesheet\"></link>\n",
    "\n",
    "<article class=\"day-desc read-aloud\"><h2>--- Day 9: Explosives in Cyberspace ---</h2><p>Wandering around a secure area, you come across a datalink port to a new part of the network. After briefly scanning it for interesting files, you find one file in particular that catches your attention. It's compressed with an experimental format, but fortunately, the documentation for the format is nearby.</p>\n",
    "<p>The format compresses a sequence of characters. Whitespace is ignored. To indicate that some sequence should be repeated, a marker is added to the file, like <code>(10x2)</code>. To decompress this marker, take the subsequent <code>10</code> characters and repeat them <code>2</code> times. Then, continue reading the file <em>after</em> the repeated data.  The marker itself is not included in the decompressed output.</p>\n",
    "<p>If parentheses or other characters appear within the data referenced by a marker, that's okay - treat it like normal data, not a marker, and then resume looking for markers after the decompressed section.</p>\n",
    "<p>For example:</p>\n",
    "<ul>\n",
    "<li><code>ADVENT</code> contains no markers and decompresses to itself with no changes, resulting in a decompressed length of <code>6</code>.</li>\n",
    "<li><code>A(1x5)BC</code> repeats only the <code>B</code> a total of <code>5</code> times, becoming <code>ABBBBBC</code> for a decompressed length of <code>7</code>.</li>\n",
    "<li><code>(3x3)XYZ</code> becomes <code>XYZXYZXYZ</code> for a decompressed length of <code>9</code>.</li>\n",
    "<li><code>A(2x2)BCD(2x2)EFG</code> doubles the <code>BC</code> and <code>EF</code>, becoming <code>ABCBCDEFEFG</code> for a decompressed length of <code>11</code>.</li>\n",
    "<li><code>(6x1)(1x3)A</code> simply becomes <code>(1x3)A</code> - the <code>(1x3)</code> looks like a marker, but because it's within a data section of another marker, it is not treated any differently from the <code>A</code> that comes after it. It has a decompressed length of <code>6</code>.</li>\n",
    "<li><code>X(8x2)(3x3)ABCY</code> becomes <code>X(3x3)ABC(3x3)ABCY</code> (for a decompressed length of <code>18</code>), because the decompressed data from the <code>(8x2)</code> marker (the <code>(3x3)ABC</code>) is skipped and not processed further.</li>\n",
    "</ul>\n",
    "<p>What is the <em>decompressed length</em> of the file (your puzzle input)? Don't count whitespace.</p>\n",
    "</article>\n"
   ]
  },
  {
   "cell_type": "code",
   "execution_count": 3,
   "metadata": {},
   "outputs": [
    {
     "name": "stdout",
     "output_type": "stream",
     "text": [
      "\n",
      "\u001b[32mTest ADVENT contains no markers and decompresses to itself with no changes, resulting in a decompressed length of 6. passed, for decompressedI_length.\u001b[0m\n",
      "\u001b[32mTest A(1x5)BC repeats only the B a total of 5 times, becoming ABBBBBC for a decompressed length of 7. passed, for decompressedI_length.\u001b[0m\n",
      "\u001b[32mTest (3x3)XYZ becomes XYZXYZXYZ for a decompressed length of 9. passed, for decompressedI_length.\u001b[0m\n",
      "\u001b[32mTest A(2x2)BCD(2x2)EFG doubles the BC and EF, becoming ABCBCDEFEFG for a decompressed length of 11. passed, for decompressedI_length.\u001b[0m\n",
      "\u001b[32mTest A(2x2)BCD(2x2)EFG doubles the BC and EF, becoming ABCBCDEFEFG for a decompressed length of 11. passed, for decompressedI_length.\u001b[0m\n",
      "\u001b[32mTest (6x1)(1x3) A simply becomes (1x3)A - the (1x3) looks like a marker, but because it's within a data section of another marker, it is not treated any differently from the A that comes after it. It has a decompressed length of 6. passed, for decompressedI_length.\u001b[0m\n",
      "\u001b[32mTest X(8x2)(3x3)ABCY becomes X(3x3)ABC(3x3)ABCY (for a decompressed length of 18), because the decompressed data from the (8x2) marker (the (3x3)ABC) is skipped and not processed further. passed, for decompressedI_length.\u001b[0m\n",
      "\u001b[32mSuccess\u001b[0m\n"
     ]
    }
   ],
   "source": [
    "tests = [\n",
    "    {\n",
    "        \"name\": \"ADVENT contains no markers and decompresses to itself with no changes, resulting in a decompressed length of 6.\",\n",
    "        \"chrs\": \"ADVENT\",\n",
    "        \"expected\": 6,\n",
    "    },\n",
    "    {\n",
    "        \"name\": \"A(1x5)BC repeats only the B a total of 5 times, becoming ABBBBBC for a decompressed length of 7.\",\n",
    "        \"chrs\": \"A(1x5)BC\",\n",
    "        \"expected\": 7,\n",
    "    },\n",
    "    {\n",
    "        \"name\": \"(3x3)XYZ becomes XYZXYZXYZ for a decompressed length of 9.\",\n",
    "        \"chrs\": \"(3x3)XYZ\",\n",
    "        \"expected\": 9,\n",
    "    },\n",
    "    {\n",
    "        \"name\": \"A(2x2)BCD(2x2)EFG doubles the BC and EF, becoming ABCBCDEFEFG for a decompressed length of 11.\",\n",
    "        \"chrs\": \"A(2x2)BCD(2x2)EFG\",\n",
    "        \"expected\": 11,\n",
    "    },\n",
    "    {\n",
    "        \"name\": \"A(2x2)BCD(2x2)EFG doubles the BC and EF, becoming ABCBCDEFEFG for a decompressed length of 11.\",\n",
    "        \"chrs\": \"A(2x2)BCD(2x2)EFG\",\n",
    "        \"expected\": 11,\n",
    "    },\n",
    "    {\n",
    "        \"name\": \"(6x1)(1x3) A simply becomes (1x3)A - the (1x3) looks like a marker, but because it's within a data section of another marker, it is not treated any differently from the A that comes after it. It has a decompressed length of 6.\",\n",
    "        \"chrs\": \"(6x1)(1x3) A\",\n",
    "        \"expected\": 6,\n",
    "    },\n",
    "    {\n",
    "        \"name\": \"X(8x2)(3x3)ABCY becomes X(3x3)ABC(3x3)ABCY (for a decompressed length of 18), because the decompressed data from the (8x2) marker (the (3x3)ABC) is skipped and not processed further.\",\n",
    "        \"chrs\": \"X(8x2)(3x3)ABCY\",\n",
    "        \"expected\": 18,\n",
    "    },\n",
    "]\n",
    "\n",
    "\n",
    "def decompressedI_length(chrs: str) -> int:\n",
    "    chrs = chrs.replace(\" \", \"\")\n",
    "    decompressed = []\n",
    "    last = 0\n",
    "\n",
    "    for m in re.finditer(r\"\\((\\d+)x(\\d+)\\)\", chrs):\n",
    "        if m.start() > last:\n",
    "            decompressed.append(chrs[last : m.start()])\n",
    "\n",
    "        if m.start() >= last:\n",
    "            start = m.end()\n",
    "            length, rep = (int(i) for i in chrs[m.start() + 1 : m.end() - 1].split(\"x\"))\n",
    "\n",
    "            decompressed.append((chrs[start : start + length] * rep))\n",
    "\n",
    "            last = start + length\n",
    "\n",
    "    decompressed.append(chrs[last:])\n",
    "    return len(\"\".join(decompressed))\n",
    "\n",
    "\n",
    "run_tests_params(decompressedI_length, tests)"
   ]
  },
  {
   "cell_type": "code",
   "execution_count": 4,
   "metadata": {},
   "outputs": [
    {
     "data": {
      "text/plain": [
       "57"
      ]
     },
     "execution_count": 4,
     "metadata": {},
     "output_type": "execute_result"
    }
   ],
   "source": [
    "decompressedI_length(\n",
    "    \"ADVENTA(1x5)BC(3x3)XYZA(2x2)BCD(2x2)EFG(6x1)(1x3)AX(8x2)(3x3)ABCY\"\n",
    ")"
   ]
  },
  {
   "cell_type": "code",
   "execution_count": 5,
   "metadata": {},
   "outputs": [
    {
     "name": "stdout",
     "output_type": "stream",
     "text": [
      "Part I: 107035\n"
     ]
    }
   ],
   "source": [
    "with open(\"../input/day9.txt\") as f:\n",
    "    print(\"Part I:\", decompressedI_length(f.read().strip()))\n",
    "\n",
    "# 399435 too high"
   ]
  },
  {
   "cell_type": "markdown",
   "metadata": {},
   "source": [
    "<link href=\"style.css\" rel=\"stylesheet\"></link>\n",
    "<main>\n",
    "\n",
    "<p>Your puzzle answer was <code>107035</code>.</p><p class=\"day-success\">The first half of this puzzle is complete! It provides one gold star: *</p>\n",
    "<article class=\"day-desc\"><h2 id=\"part2\">--- Part Two ---</h2><p>Apparently, the file actually uses <em>version two</em> of the format.</p>\n",
    "<p>In version two, the only difference is that markers within decompressed data <em>are</em> decompressed. This, the documentation explains, provides much more substantial compression capabilities, allowing many-gigabyte files to be stored in <span title=\"&quot;It's the bomb!&quot;, the documentation claims.\">only a few kilobytes</span>.</p>\n",
    "<p>For example:</p>\n",
    "<ul>\n",
    "<li><code>(3x3)XYZ</code> still becomes <code>XYZXYZXYZ</code>, as the decompressed section contains no markers.</li>\n",
    "<li><code>X(8x2)(3x3)ABCY</code> becomes <code>XABCABCABCABCABCABCY</code>, because the decompressed data from the <code>(8x2)</code> marker is then further decompressed, thus triggering the <code>(3x3)</code> marker twice for a total of six <code>ABC</code> sequences.</li>\n",
    "<li><code>(27x12)(20x12)(13x14)(7x10)(1x12)A</code> decompresses into a string of <code>A</code> repeated <code>241920</code> times.</li>\n",
    "<li><code>(25x3)(3x3)ABC(2x3)XY(5x2)PQRSTX(18x9)(3x2)TWO(5x7)SEVEN</code> becomes <code>445</code> characters long.</li>\n",
    "</ul>\n",
    "<p>Unfortunately, the computer you brought probably doesn't have enough memory to actually decompress the file; you'll have to <em>come up with another way</em> to get its decompressed length.</p>\n",
    "<p>What is the <em>decompressed length</em> of the file using this improved format?</p>\n",
    "</article>\n",
    "\n",
    "</main>\n"
   ]
  },
  {
   "cell_type": "code",
   "execution_count": 8,
   "metadata": {},
   "outputs": [
    {
     "name": "stdout",
     "output_type": "stream",
     "text": [
      "\n",
      "\u001b[32mTest (3x3)XYZ still becomes XYZXYZXYZ, as the decompressed section contains no markers. passed, for decompressedII_length.\u001b[0m\n",
      "\u001b[32mTest X(8x2)(3x3)ABCY becomes XABCABCABCABCABCABCY, because the decompressed data from the (8x2) marker is then further decompressed, thus triggering the (3x3) marker twice for a total of six ABC sequences. passed, for decompressedII_length.\u001b[0m\n",
      "\u001b[32mTest (27x12)(20x12)(13x14)(7x10)(1x12)A decompresses into a string of A repeated 241920 times. passed, for decompressedII_length.\u001b[0m\n",
      "\u001b[32mTest (25x3)(3x3)ABC(2x3)XY(5x2)PQRSTX(18x9)(3x2)TWO(5x7)SEVEN becomes 445 characters long. passed, for decompressedII_length.\u001b[0m\n",
      "\u001b[32mSuccess\u001b[0m\n"
     ]
    }
   ],
   "source": [
    "tests = [\n",
    "    {\n",
    "        \"name\": \"(3x3)XYZ still becomes XYZXYZXYZ, as the decompressed section contains no markers.\",\n",
    "        \"chrs\": \"(3x3)XYZ\",\n",
    "        \"expected\": len(\"XYZXYZXYZ\"),\n",
    "    },\n",
    "    {\n",
    "        \"name\": \"X(8x2)(3x3)ABCY becomes XABCABCABCABCABCABCY, because the decompressed data from the (8x2) marker is then further decompressed, thus triggering the (3x3) marker twice for a total of six ABC sequences.\",\n",
    "        \"chrs\": \"X(8x2)(3x3)ABCY\",\n",
    "        \"expected\": len(\"XABCABCABCABCABCABCY\"),\n",
    "    },\n",
    "    {\n",
    "        \"name\": \"(27x12)(20x12)(13x14)(7x10)(1x12)A decompresses into a string of A repeated 241920 times.\",\n",
    "        \"chrs\": \"(27x12)(20x12)(13x14)(7x10)(1x12)A\",\n",
    "        \"expected\": 241920,\n",
    "    },\n",
    "    {\n",
    "        \"name\": \"(25x3)(3x3)ABC(2x3)XY(5x2)PQRSTX(18x9)(3x2)TWO(5x7)SEVEN becomes 445 characters long.\",\n",
    "        \"chrs\": \"(25x3)(3x3)ABC(2x3)XY(5x2)PQRSTX(18x9)(3x2)TWO(5x7)SEVEN\",\n",
    "        \"expected\": 445,\n",
    "    },\n",
    "]\n",
    "\n",
    "\n",
    "def decompressed(chrs: str) -> int:\n",
    "    if not chrs:\n",
    "        return 0\n",
    "\n",
    "    m = re.search(r\"\\((\\d+)x(\\d+)\\)\", chrs)\n",
    "    if not m:\n",
    "        return len(chrs)\n",
    "\n",
    "    length, rep = (int(i) for i in chrs[m.start() + 1 : m.end() - 1].split(\"x\"))\n",
    "    return (\n",
    "        m.start()\n",
    "        + decompressed(chrs[m.end() : m.end() + length]) * rep\n",
    "        + decompressed(chrs[m.end() + length :])\n",
    "    )\n",
    "\n",
    "\n",
    "def decompressedII_length(chrs: str) -> int:\n",
    "    return decompressed(chrs.strip().replace(\" \", \"\"))\n",
    "\n",
    "\n",
    "run_tests_params(decompressedII_length, tests)"
   ]
  },
  {
   "cell_type": "code",
   "execution_count": 9,
   "metadata": {},
   "outputs": [
    {
     "name": "stdout",
     "output_type": "stream",
     "text": [
      "Part II: 11451628995\n"
     ]
    }
   ],
   "source": [
    "with open(\"../input/day9.txt\") as f:\n",
    "    print(\"Part II:\", decompressedII_length(f.read()))"
   ]
  },
  {
   "cell_type": "markdown",
   "metadata": {},
   "source": [
    "<link href=\"style.css\" rel=\"stylesheet\"></link>\n",
    "<main>\n",
    "\n",
    "<p>Your puzzle answer was <code>11451628995</code>.</p><p class=\"day-success\">Both parts of this puzzle are complete! They provide two gold stars: **</p>\n",
    "<p>At this point, you should <a href=\"/2016\">return to your Advent calendar</a> and try another puzzle.</p>\n",
    "<p>If you still want to see it, you can <a href=\"9/input\" target=\"_blank\">get your puzzle input</a>.</p>\n",
    "<p>You can also <span class=\"share\">[Share<span class=\"share-content\">on\n",
    "  <a href=\"https://twitter.com/intent/tweet?text=I%27ve+completed+%22Explosives+in+Cyberspace%22+%2D+Day+9+%2D+Advent+of+Code+2016&amp;url=https%3A%2F%2Fadventofcode%2Ecom%2F2016%2Fday%2F9&amp;related=ericwastl&amp;hashtags=AdventOfCode\" target=\"_blank\">Twitter</a>\n",
    "  <a href=\"javascript:void(0);\" onclick=\"var ms; try{ms=localStorage.getItem('mastodon.server')}finally{} if(typeof ms!=='string')ms=''; ms=prompt('Mastodon Server?',ms); if(typeof ms==='string' &amp;&amp; ms.length){this.href='https://'+ms+'/share?text=I%27ve+completed+%22Explosives+in+Cyberspace%22+%2D+Day+9+%2D+Advent+of+Code+2016+%23AdventOfCode+https%3A%2F%2Fadventofcode%2Ecom%2F2016%2Fday%2F9';try{localStorage.setItem('mastodon.server',ms);}finally{}}else{return false;}\" target=\"_blank\">Mastodon</a></span>]</span> this puzzle.</p>\n",
    "</main>\n"
   ]
  },
  {
   "cell_type": "code",
   "execution_count": null,
   "metadata": {},
   "outputs": [],
   "source": []
  }
 ],
 "metadata": {
  "kernelspec": {
   "display_name": ".venv",
   "language": "python",
   "name": "python3"
  },
  "language_info": {
   "codemirror_mode": {
    "name": "ipython",
    "version": 3
   },
   "file_extension": ".py",
   "mimetype": "text/x-python",
   "name": "python",
   "nbconvert_exporter": "python",
   "pygments_lexer": "ipython3",
   "version": "3.12.0"
  }
 },
 "nbformat": 4,
 "nbformat_minor": 2
}
