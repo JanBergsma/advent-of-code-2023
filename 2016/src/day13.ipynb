{
 "cells": [
  {
   "cell_type": "code",
   "execution_count": 37,
   "metadata": {},
   "outputs": [],
   "source": [
    "# %matplotlib widget\n",
    "\n",
    "from __future__ import annotations\n",
    "\n",
    "import re\n",
    "from collections import defaultdict\n",
    "from dataclasses import dataclass, field\n",
    "from itertools import permutations, product\n",
    "from math import inf\n",
    "from random import choice\n",
    "\n",
    "import matplotlib.colors as mcolors\n",
    "import matplotlib.pyplot as plt\n",
    "import networkx as nx\n",
    "import numpy as np\n",
    "import numpy.typing as npt\n",
    "from mpl_toolkits.mplot3d import axes3d\n",
    "from numpy import int_, object_\n",
    "from numpy.typing import NDArray\n",
    "from test_utilities import run_tests_params\n",
    "from util import print_hex\n",
    "\n",
    "COLORS = list(mcolors.CSS4_COLORS.keys())"
   ]
  },
  {
   "cell_type": "markdown",
   "metadata": {},
   "source": [
    "<link href=\"style.css\" rel=\"stylesheet\"></link>\n",
    "<article class=\"day-desc read-aloud\"><h2>--- Day 13: A Maze of Twisty Little Cubicles ---</h2><p>You arrive at the first floor of this new building to discover a much less welcoming environment than the shiny atrium of the last one.  Instead, you are in a maze of <span title=\"You are in a twisty alike of little cubicles, all maze.\">twisty little cubicles</span>, all alike.</p>\n",
    "<p>Every location in this area is addressed by a pair of non-negative integers (<code>x,y</code>). Each such coordinate is either a wall or an open space. You can't move diagonally. The cube maze starts at <code>0,0</code> and seems to extend infinitely toward <em>positive</em> <code>x</code> and <code>y</code>; negative values are <em>invalid</em>, as they represent a location outside the building. You are in a small waiting area at <code>1,1</code>.</p>\n",
    "<p>While it seems chaotic, a nearby morale-boosting poster explains, the layout is actually quite logical. You can determine whether a given <code>x,y</code> coordinate will be a wall or an open space using a simple system:</p>\n",
    "<ul>\n",
    "<li>Find <code>x*x + 3*x + 2*x*y + y + y*y</code>.</li>\n",
    "<li>Add the office designer's favorite number (your puzzle input).</li>\n",
    "<li>Find the <a href=\"https://en.wikipedia.org/wiki/Binary_number\">binary representation</a> of that sum; count the <em>number</em> of <a href=\"https://en.wikipedia.org/wiki/Bit\">bits</a> that are <code>1</code>.\n",
    "<ul>\n",
    "<li>If the number of bits that are <code>1</code> is <em>even</em>, it's an <em>open space</em>.</li>\n",
    "<li>If the number of bits that are <code>1</code> is <em>odd</em>, it's a <em>wall</em>.</li>\n",
    "</ul>\n",
    "</li>\n",
    "</ul>\n",
    "<p>For example, if the office designer's favorite number were <code>10</code>, drawing walls as <code>#</code> and open spaces as <code>.</code>, the corner of the building containing <code>0,0</code> would look like this:</p>\n",
    "<pre><code>  0123456789\n",
    "0 .#.####.##\n",
    "1 ..#..#...#\n",
    "2 #....##...\n",
    "3 ###.#.###.\n",
    "4 .##..#..#.\n",
    "5 ..##....#.\n",
    "6 #...##.###\n",
    "</code></pre>\n",
    "<p>Now, suppose you wanted to reach <code>7,4</code>. The shortest route you could take is marked as <code>O</code>:</p>\n",
    "<pre><code>  0123456789\n",
    "0 .#.####.##\n",
    "1 .O#..#...#\n",
    "2 #OOO.##...\n",
    "3 ###O#.###.\n",
    "4 .##OO#OO#.\n",
    "5 ..##OOO.#.\n",
    "6 #...##.###\n",
    "</code></pre>\n",
    "<p>Thus, reaching <code>7,4</code> would take a minimum of <code>11</code> steps (starting from your current location, <code>1,1</code>).</p>\n",
    "<p>What is the <em>fewest number of steps required</em> for you to reach <code>31,39</code>?</p>\n",
    "</article>\n"
   ]
  },
  {
   "cell_type": "code",
   "execution_count": 38,
   "metadata": {},
   "outputs": [
    {
     "data": {
      "text/plain": [
       "11"
      ]
     },
     "execution_count": 38,
     "metadata": {},
     "output_type": "execute_result"
    }
   ],
   "source": [
    "from collections import deque\n",
    "\n",
    "\n",
    "def minimum_steps(favorit: int, start: tuple[int, int], to: tuple[int, int]) -> int:\n",
    "    directions = ((-1, 0), (0, 1), (1, 0), (0, -1))\n",
    "    queue = deque([start])\n",
    "    visited = set()\n",
    "    steps = 0\n",
    "\n",
    "    while queue:\n",
    "        for _ in range(len(queue)):\n",
    "            cell = queue.popleft()\n",
    "            if cell == to:\n",
    "                return steps\n",
    "\n",
    "            if cell in visited:\n",
    "                continue\n",
    "\n",
    "            visited.add(cell)\n",
    "\n",
    "            for delta in directions:\n",
    "                cell1 = tuple(map(sum, zip(cell, delta)))\n",
    "                x, y = cell1\n",
    "                if x >= 0 and y >= 0:\n",
    "                    som = x * x + 3 * x + 2 * x * y + y + y * y + favorit\n",
    "                    if som.bit_count() & 1 == 0:\n",
    "                        queue.append(cell1)\n",
    "        steps += 1\n",
    "\n",
    "    return inf\n",
    "\n",
    "\n",
    "minimum_steps(10, (1, 1), (7, 4))"
   ]
  },
  {
   "cell_type": "code",
   "execution_count": 39,
   "metadata": {},
   "outputs": [
    {
     "data": {
      "text/plain": [
       "86"
      ]
     },
     "execution_count": 39,
     "metadata": {},
     "output_type": "execute_result"
    }
   ],
   "source": [
    "minimum_steps(1364, (1, 1), (31, 39))"
   ]
  },
  {
   "cell_type": "markdown",
   "metadata": {},
   "source": [
    "<link href=\"style.css\" rel=\"stylesheet\"></link>\n",
    "<main>\n",
    "\n",
    "<p>Your puzzle answer was <code>86</code>.</p><p class=\"day-success\">The first half of this puzzle is complete! It provides one gold star: *</p>\n",
    "<article class=\"day-desc\"><h2 id=\"part2\">--- Part Two ---</h2><p><em>How many locations</em> (distinct <code>x,y</code> coordinates, including your starting location) can you reach in at most <code>50</code> steps?</p>\n",
    "</article>\n",
    "\n",
    "</main>\n"
   ]
  },
  {
   "cell_type": "code",
   "execution_count": 40,
   "metadata": {},
   "outputs": [
    {
     "data": {
      "text/plain": [
       "19"
      ]
     },
     "execution_count": 40,
     "metadata": {},
     "output_type": "execute_result"
    }
   ],
   "source": [
    "def frontier_size(favorit: int, start: tuple[int, int], goal_steps: int) -> int:\n",
    "    directions = ((-1, 0), (0, 1), (1, 0), (0, -1))\n",
    "    queue = deque([start])\n",
    "    visited = set(start)\n",
    "    steps = 0\n",
    "\n",
    "    while queue:\n",
    "        if steps == goal_steps - 1:\n",
    "            return len(visited)\n",
    "\n",
    "        for _ in range(len(queue)):\n",
    "            cell = queue.popleft()\n",
    "\n",
    "            for delta in directions:\n",
    "                cell1 = tuple(map(sum, zip(cell, delta)))\n",
    "                x, y = cell1\n",
    "                if x >= 0 and y >= 0:\n",
    "                    som = x * x + 3 * x + 2 * x * y + y + y * y + favorit\n",
    "                    if som.bit_count() & 1 == 0 and cell1 not in visited:\n",
    "                        visited.add(cell1)\n",
    "                        queue.append(cell1)\n",
    "        steps += 1\n",
    "\n",
    "    return 0\n",
    "\n",
    "\n",
    "frontier_size(10, (1, 1), 11)"
   ]
  },
  {
   "cell_type": "code",
   "execution_count": 41,
   "metadata": {},
   "outputs": [
    {
     "data": {
      "text/plain": [
       "(127, 127)"
      ]
     },
     "execution_count": 41,
     "metadata": {},
     "output_type": "execute_result"
    }
   ],
   "source": [
    "frontier_size(1364, (1, 1), 50), 127"
   ]
  },
  {
   "cell_type": "markdown",
   "metadata": {},
   "source": [
    "<link href=\"style.css\" rel=\"stylesheet\"></link>\n",
    "<main>\n",
    "\n",
    "<p>Your puzzle answer was <code>127</code>.</p><p class=\"day-success\">Both parts of this puzzle are complete! They provide two gold stars: **</p>\n",
    "\n",
    "</main>\n"
   ]
  },
  {
   "cell_type": "code",
   "execution_count": null,
   "metadata": {},
   "outputs": [],
   "source": []
  }
 ],
 "metadata": {
  "kernelspec": {
   "display_name": ".venv",
   "language": "python",
   "name": "python3"
  },
  "language_info": {
   "codemirror_mode": {
    "name": "ipython",
    "version": 3
   },
   "file_extension": ".py",
   "mimetype": "text/x-python",
   "name": "python",
   "nbconvert_exporter": "python",
   "pygments_lexer": "ipython3",
   "version": "3.12.0"
  }
 },
 "nbformat": 4,
 "nbformat_minor": 2
}
