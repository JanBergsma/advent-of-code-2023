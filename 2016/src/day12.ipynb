{
 "cells": [
  {
   "cell_type": "code",
   "execution_count": 28,
   "metadata": {},
   "outputs": [],
   "source": [
    "# %matplotlib widget\n",
    "\n",
    "from __future__ import annotations\n",
    "\n",
    "import re\n",
    "from collections import defaultdict\n",
    "from dataclasses import dataclass, field\n",
    "from itertools import permutations, product\n",
    "from math import inf\n",
    "from random import choice\n",
    "\n",
    "import matplotlib.colors as mcolors\n",
    "import matplotlib.pyplot as plt\n",
    "import networkx as nx\n",
    "import numpy as np\n",
    "import numpy.typing as npt\n",
    "from mpl_toolkits.mplot3d import axes3d\n",
    "from numpy import int_, object_\n",
    "from numpy.typing import NDArray\n",
    "from test_utilities import run_tests_params\n",
    "from util import print_hex\n",
    "\n",
    "COLORS = list(mcolors.CSS4_COLORS.keys())"
   ]
  },
  {
   "cell_type": "markdown",
   "metadata": {},
   "source": [
    "<link href=\"style.css\" rel=\"stylesheet\"></link>\n",
    "<article class=\"day-desc\"><h2>--- Day 12: Leonardo's Monorail ---</h2><p>You finally reach the top floor of this building: a garden with a slanted glass ceiling. Looks like there are no more stars to be had.</p>\n",
    "<p>While sitting on a nearby bench amidst some <a href=\"https://www.google.com/search?q=tiger+lilies&amp;tbm=isch\">tiger lilies</a>, you manage to decrypt some of the files you extracted from the servers downstairs.</p>\n",
    "<p>According to these documents, Easter Bunny HQ isn't just this building - it's a collection of buildings in the nearby area. They're all connected by a local monorail, and there's another building not far from here! Unfortunately, being night, the monorail is currently not operating.</p>\n",
    "<p>You remotely connect to the monorail control systems and discover that the boot sequence expects a password. The password-checking logic (your puzzle input) is easy to extract, but the code it uses is strange: it's <span title=\"Strangely, this assembunny code doesn't seem to be very good at multiplying.\">assembunny</span> code designed for the <a href=\"11\">new computer</a> you just assembled. You'll have to execute the code and get the password.</p>\n",
    "<p>The assembunny code you've extracted operates on four <a href=\"https://en.wikipedia.org/wiki/Processor_register\">registers</a> (<code>a</code>, <code>b</code>, <code>c</code>, and <code>d</code>) that start at <code>0</code> and can hold any <a href=\"https://en.wikipedia.org/wiki/Integer\">integer</a>. However, it seems to make use of only a few <a href=\"https://en.wikipedia.org/wiki/Instruction_set\">instructions</a>:</p>\n",
    "<ul>\n",
    "<li><code>cpy x y</code> <em>copies</em> <code>x</code> (either an integer or the <em>value</em> of a register) into register <code>y</code>.</li>\n",
    "<li><code>inc x</code> <em>increases</em> the value of register <code>x</code> by one.</li>\n",
    "<li><code>dec x</code> <em>decreases</em> the value of register <code>x</code> by one.</li>\n",
    "<li><code>jnz x y</code> <em>jumps</em> to an instruction <code>y</code> away (positive means forward; negative means backward), but only if <code>x</code> is <em>not zero</em>.</li>\n",
    "</ul>\n",
    "<p>The <code>jnz</code> instruction moves relative to itself: an offset of <code>-1</code> would continue at the previous instruction, while an offset of <code>2</code> would <em>skip over</em> the next instruction.</p>\n",
    "<p>For example:</p>\n",
    "<pre><code>cpy 41 a\n",
    "inc a\n",
    "inc a\n",
    "dec a\n",
    "jnz a 2\n",
    "dec a\n",
    "</code></pre>\n",
    "<p>The above code would set register <code>a</code> to <code>41</code>, increase its value by <code>2</code>, decrease its value by <code>1</code>, and then skip the last <code>dec a</code> (because <code>a</code> is not zero, so the <code>jnz a 2</code> skips it), leaving register <code>a</code> at <code>42</code>. When you move past the last instruction, the program halts.</p>\n",
    "<p>After executing the assembunny code in your puzzle input, <em>what value is left in register <code>a</code>?</em></p>\n",
    "</article>\n"
   ]
  },
  {
   "cell_type": "code",
   "execution_count": 36,
   "metadata": {},
   "outputs": [
    {
     "name": "stdout",
     "output_type": "stream",
     "text": [
      "-  ------------------\n",
      "0  ['cpy', '41', 'a']\n",
      "1  ['inc', 'a']\n",
      "2  ['inc', 'a']\n",
      "3  ['dec', 'a']\n",
      "4  ['jnz', 'a', '2']\n",
      "5  ['dec', 'a']\n",
      "-  ------------------\n"
     ]
    }
   ],
   "source": [
    "from atexit import register\n",
    "from tabulate import tabulate\n",
    "\n",
    "\n",
    "program_example = \"\"\"\n",
    "cpy 41 a\n",
    "inc a\n",
    "inc a\n",
    "dec a\n",
    "jnz a 2\n",
    "dec a\n",
    "\"\"\"\n",
    "\n",
    "\n",
    "def process(\n",
    "    program: str, register_names: str = \"abcd\", register_initializer=lambda x: 0\n",
    ") -> dict[str, int]:\n",
    "    instructions = [i.split() for i in program.strip().splitlines()]\n",
    "    registers = {l: register_initializer(l) for l in register_names}\n",
    "    print(tabulate(enumerate(instructions)))\n",
    "    counter = 0\n",
    "\n",
    "    while counter < len(instructions):\n",
    "        instruction = instructions[counter]\n",
    "        if instruction[0] == \"cpy\":\n",
    "            # cpy x y copies x (either an integer or the value of a register)\n",
    "            # into register y.\n",
    "            _, x, y = instruction\n",
    "            if x in register_names:\n",
    "                registers[y] = registers[x]\n",
    "            else:\n",
    "                registers[y] = int(x)\n",
    "            counter += 1\n",
    "        elif instruction[0] == \"inc\":\n",
    "            # inc x increases the value of register x by one.\n",
    "            _, x = instruction\n",
    "            registers[x] += 1\n",
    "            counter += 1\n",
    "        elif instruction[0] == \"dec\":\n",
    "            # dec x decreases the value of register x by one.\n",
    "            _, x = instruction\n",
    "            registers[x] -= 1\n",
    "            counter += 1\n",
    "        elif instruction[0] == \"jnz\":\n",
    "            # jnz x y jumps to an instruction y away\n",
    "            # (positive means forward; negative means backward),\n",
    "            # but only if x is not zero.\n",
    "            _, x, y = instruction\n",
    "\n",
    "            if x in register_names and registers[x] != 0:\n",
    "                counter += int(y)\n",
    "            elif x.isdecimal() and int(x) != 0:\n",
    "                counter += int(y)\n",
    "            else:\n",
    "                counter += 1\n",
    "        else:\n",
    "            raise ValueError(f\"Unkonw isntruction: {instruction}\")\n",
    "\n",
    "    return registers\n",
    "\n",
    "\n",
    "example_answer = process(program_example)\n",
    "assert example_answer[\"a\"] == 42"
   ]
  },
  {
   "cell_type": "code",
   "execution_count": 37,
   "metadata": {},
   "outputs": [
    {
     "name": "stdout",
     "output_type": "stream",
     "text": [
      "--  ------------------\n",
      " 0  ['cpy', '1', 'a']\n",
      " 1  ['cpy', '1', 'b']\n",
      " 2  ['cpy', '26', 'd']\n",
      " 3  ['jnz', 'c', '2']\n",
      " 4  ['jnz', '1', '5']\n",
      " 5  ['cpy', '7', 'c']\n",
      " 6  ['inc', 'd']\n",
      " 7  ['dec', 'c']\n",
      " 8  ['jnz', 'c', '-2']\n",
      " 9  ['cpy', 'a', 'c']\n",
      "10  ['inc', 'a']\n",
      "11  ['dec', 'b']\n",
      "12  ['jnz', 'b', '-2']\n",
      "13  ['cpy', 'c', 'b']\n",
      "14  ['dec', 'd']\n",
      "15  ['jnz', 'd', '-6']\n",
      "16  ['cpy', '13', 'c']\n",
      "17  ['cpy', '14', 'd']\n",
      "18  ['inc', 'a']\n",
      "19  ['dec', 'd']\n",
      "20  ['jnz', 'd', '-2']\n",
      "21  ['dec', 'c']\n",
      "22  ['jnz', 'c', '-5']\n",
      "--  ------------------\n"
     ]
    },
    {
     "data": {
      "text/plain": [
       "{'a': 317993, 'b': 196418, 'c': 0, 'd': 0}"
      ]
     },
     "execution_count": 37,
     "metadata": {},
     "output_type": "execute_result"
    }
   ],
   "source": [
    "with open(\"../input/day12.txt\") as f:\n",
    "    program_I = f.read()\n",
    "\n",
    "\n",
    "process(program_I)"
   ]
  },
  {
   "cell_type": "markdown",
   "metadata": {},
   "source": [
    "<link href=\"style.css\" rel=\"stylesheet\"></link>\n",
    "<main>\n",
    "\n",
    "<p>Your puzzle answer was <code>317993</code>.</p><p class=\"day-success\">The first half of this puzzle is complete! It provides one gold star: *</p>\n",
    "<article class=\"day-desc\"><h2 id=\"part2\">--- Part Two ---</h2><p>As you head down the fire escape to the monorail, you notice it didn't start; register <code>c</code> needs to be initialized to the position of the ignition key.</p>\n",
    "<p>If you instead <em>initialize register <code>c</code> to be <code>1</code></em>, what value is now left in register <code>a</code>?</p>\n",
    "</article>\n",
    "\n",
    "</main>\n"
   ]
  },
  {
   "cell_type": "code",
   "execution_count": 39,
   "metadata": {},
   "outputs": [
    {
     "name": "stdout",
     "output_type": "stream",
     "text": [
      "--  ------------------\n",
      " 0  ['cpy', '1', 'a']\n",
      " 1  ['cpy', '1', 'b']\n",
      " 2  ['cpy', '26', 'd']\n",
      " 3  ['jnz', 'c', '2']\n",
      " 4  ['jnz', '1', '5']\n",
      " 5  ['cpy', '7', 'c']\n",
      " 6  ['inc', 'd']\n",
      " 7  ['dec', 'c']\n",
      " 8  ['jnz', 'c', '-2']\n",
      " 9  ['cpy', 'a', 'c']\n",
      "10  ['inc', 'a']\n",
      "11  ['dec', 'b']\n",
      "12  ['jnz', 'b', '-2']\n",
      "13  ['cpy', 'c', 'b']\n",
      "14  ['dec', 'd']\n",
      "15  ['jnz', 'd', '-6']\n",
      "16  ['cpy', '13', 'c']\n",
      "17  ['cpy', '14', 'd']\n",
      "18  ['inc', 'a']\n",
      "19  ['dec', 'd']\n",
      "20  ['jnz', 'd', '-2']\n",
      "21  ['dec', 'c']\n",
      "22  ['jnz', 'c', '-5']\n",
      "--  ------------------\n"
     ]
    },
    {
     "data": {
      "text/plain": [
       "{'a': 9227647, 'b': 5702887, 'c': 0, 'd': 0}"
      ]
     },
     "execution_count": 39,
     "metadata": {},
     "output_type": "execute_result"
    }
   ],
   "source": [
    "process(program_I, register_initializer=lambda l: 0 if l != \"c\" else 1)"
   ]
  },
  {
   "cell_type": "markdown",
   "metadata": {},
   "source": [
    "<link href=\"style.css\" rel=\"stylesheet\"></link>\n",
    "\n",
    "<main>\n",
    "\n",
    "<p>Your puzzle answer was <code>9227647</code>.</p><p class=\"day-success\">Both parts of this puzzle are complete! They provide two gold stars: **</p>\n",
    "\n",
    "</main>\n"
   ]
  },
  {
   "cell_type": "code",
   "execution_count": null,
   "metadata": {},
   "outputs": [],
   "source": []
  }
 ],
 "metadata": {
  "kernelspec": {
   "display_name": ".venv",
   "language": "python",
   "name": "python3"
  },
  "language_info": {
   "codemirror_mode": {
    "name": "ipython",
    "version": 3
   },
   "file_extension": ".py",
   "mimetype": "text/x-python",
   "name": "python",
   "nbconvert_exporter": "python",
   "pygments_lexer": "ipython3",
   "version": "3.12.0"
  }
 },
 "nbformat": 4,
 "nbformat_minor": 2
}
