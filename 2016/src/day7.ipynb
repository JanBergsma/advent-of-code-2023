{
 "cells": [
  {
   "cell_type": "code",
   "execution_count": 2,
   "metadata": {},
   "outputs": [],
   "source": [
    "# %matplotlib widget\n",
    "\n",
    "from __future__ import annotations\n",
    "\n",
    "import re\n",
    "from collections import defaultdict\n",
    "from dataclasses import dataclass, field\n",
    "from itertools import permutations, product\n",
    "from math import inf\n",
    "from random import choice\n",
    "\n",
    "import matplotlib.colors as mcolors\n",
    "import matplotlib.pyplot as plt\n",
    "import networkx as nx\n",
    "import numpy as np\n",
    "import numpy.typing as npt\n",
    "from mpl_toolkits.mplot3d import axes3d\n",
    "from numpy import int_, object_\n",
    "from numpy.typing import NDArray\n",
    "from test_utilities import run_tests_params\n",
    "from util import print_hex\n",
    "\n",
    "COLORS = list(mcolors.CSS4_COLORS.keys())"
   ]
  },
  {
   "cell_type": "markdown",
   "metadata": {},
   "source": [
    "<link href=\"style.css\" rel=\"stylesheet\"></link>\n",
    "\n",
    "<article class=\"day-desc read-aloud\"><h2>--- Day 7: Internet Protocol Version 7 ---</h2><p>While snooping around the local network of EBHQ, you compile a list of <a href=\"https://en.wikipedia.org/wiki/IP_address\">IP addresses</a> (they're IPv7, of course; <a href=\"https://en.wikipedia.org/wiki/IPv6\">IPv6</a> is much too limited). You'd like to figure out which IPs support <em>TLS</em> (transport-layer snooping).</p>\n",
    "<p>An IP supports TLS if it has an Autonomous Bridge Bypass Annotation, or <span title=\"Any similarity to the pattern it describes is purely coincidental.\"><em>ABBA</em></span>.  An ABBA is any four-character sequence which consists of a pair of two different characters followed by the reverse of that pair, such as <code>xyyx</code> or <code>abba</code>.  However, the IP also must not have an ABBA within any hypernet sequences, which are contained by <em>square brackets</em>.</p>\n",
    "<p>For example:</p>\n",
    "<ul>\n",
    "<li><code>abba[mnop]qrst</code> supports TLS (<code>abba</code> outside square brackets).</li>\n",
    "<li><code>abcd[bddb]xyyx</code> does <em>not</em> support TLS (<code>bddb</code> is within square brackets, even though <code>xyyx</code> is outside square brackets).</li>\n",
    "<li><code>aaaa[qwer]tyui</code> does <em>not</em> support TLS (<code>aaaa</code> is invalid; the interior characters must be different).</li>\n",
    "<li><code>ioxxoj[asdfgh]zxcvbn</code> supports TLS (<code>oxxo</code> is outside square brackets, even though it's within a larger string).</li>\n",
    "</ul>\n",
    "<p><em>How many IPs</em> in your puzzle input support TLS?</p>\n",
    "</article>\n"
   ]
  },
  {
   "cell_type": "code",
   "execution_count": 13,
   "metadata": {},
   "outputs": [
    {
     "name": "stdout",
     "output_type": "stream",
     "text": [
      "\n",
      "\u001b[32mTest supports TLS (abba outside square brackets) passed, for supports_TLS.\u001b[0m\n",
      "\u001b[32mTest does not support TLS (bddb is within square brackets, even though xyyx is outside square brackets) passed, for supports_TLS.\u001b[0m\n",
      "\u001b[32mTest does not support TLS (aaaa is invalid; the interior characters must be different) passed, for supports_TLS.\u001b[0m\n",
      "\u001b[32mTest supports TLS (oxxo is outside square brackets, even though it's within a larger string). passed, for supports_TLS.\u001b[0m\n",
      "\u001b[32mTest multiple brackets passed, for supports_TLS.\u001b[0m\n",
      "\u001b[32mSuccess\u001b[0m\n"
     ]
    }
   ],
   "source": [
    "tests = [\n",
    "    {\n",
    "        \"name\": \"supports TLS (abba outside square brackets)\",\n",
    "        \"ip_adress\": \"abba[mnop]qrst\",\n",
    "        \"expected\": True,\n",
    "    },\n",
    "    {\n",
    "        \"name\": \"does not support TLS (bddb is within square brackets, even though xyyx is outside square brackets)\",\n",
    "        \"ip_adress\": \"abcd[bddb]xyyx\",\n",
    "        \"expected\": False,\n",
    "    },\n",
    "    {\n",
    "        \"name\": \"does not support TLS (aaaa is invalid; the interior characters must be different)\",\n",
    "        \"ip_adress\": \"aaaa[qwer]tyui\",\n",
    "        \"expected\": False,\n",
    "    },\n",
    "    {\n",
    "        \"name\": \"supports TLS (oxxo is outside square brackets, even though it's within a larger string).\",\n",
    "        \"ip_adress\": \"ioxxoj[asdfgh]zxcvbn\",\n",
    "        \"expected\": True,\n",
    "    },\n",
    "    {\n",
    "        \"name\": \"multiple brackets\",\n",
    "        \"ip_adress\": \"terznkuheuiksxrak[mvnbiknrfabvjwdkxn]cwddjxvgmetzjrkzea[xziqxlxbnvhkmqbos]fhxfhmqgpuadsubh[zeqlrmsxwvjemyw]nsfzmxgouassmcs\",\n",
    "        \"expected\": False,\n",
    "    },\n",
    "]\n",
    "\n",
    "\n",
    "def supports_TLS(ip_adress: str) -> bool:\n",
    "    abba_regex = re.compile(r\"(.)(?!\\1)(.)\\2\\1\")\n",
    "    inside_regex = re.compile(r\"\\[(.*?)\\]\")\n",
    "    outside_regex = re.compile(r\"(.*?)(?:\\[.*?\\]|$)\")\n",
    "    inside = \" \".join(re.findall(inside_regex, ip_adress))\n",
    "    outside = \" \".join(re.findall(outside_regex, ip_adress))\n",
    "    return (\n",
    "        re.search(abba_regex, inside) is None\n",
    "        and re.search(abba_regex, outside) is not None\n",
    "    )\n",
    "\n",
    "\n",
    "run_tests_params(supports_TLS, tests)"
   ]
  },
  {
   "cell_type": "code",
   "execution_count": 14,
   "metadata": {},
   "outputs": [
    {
     "data": {
      "text/plain": [
       "2"
      ]
     },
     "execution_count": 14,
     "metadata": {},
     "output_type": "execute_result"
    }
   ],
   "source": [
    "adresses = \"\"\"\n",
    "abba[mnop]qrst\n",
    "abcd[bddb]xyyx\n",
    "aaaa[qwer]tyui\n",
    "ioxxoj[asdfgh]zxcvbn\n",
    "\"\"\"\n",
    "\n",
    "\n",
    "def count_TLS_support(adresses: str) -> int:\n",
    "    return sum(1 for l in adresses.strip().splitlines() if supports_TLS(l))\n",
    "\n",
    "\n",
    "count_TLS_support(adresses)"
   ]
  },
  {
   "cell_type": "code",
   "execution_count": 15,
   "metadata": {},
   "outputs": [
    {
     "name": "stdout",
     "output_type": "stream",
     "text": [
      "Part I: 110\n"
     ]
    }
   ],
   "source": [
    "with open(\"../input/day7.txt\") as f:\n",
    "    print(\"Part I:\", count_TLS_support(f.read()))"
   ]
  },
  {
   "cell_type": "markdown",
   "metadata": {},
   "source": [
    "<link href=\"style.css\" rel=\"stylesheet\"></link>\n",
    "<main>\n",
    "\n",
    "<p>Your puzzle answer was <code>110</code>.</p><p class=\"day-success\">The first half of this puzzle is complete! It provides one gold star: *</p>\n",
    "<article class=\"day-desc\"><h2 id=\"part2\">--- Part Two ---</h2><p>You would also like to know which IPs support <em>SSL</em> (super-secret listening).</p>\n",
    "<p>An IP supports SSL if it has an Area-Broadcast Accessor, or <em>ABA</em>, anywhere in the supernet sequences (outside any square bracketed sections), and a corresponding Byte Allocation Block, or <em>BAB</em>, anywhere in the hypernet sequences. An ABA is any three-character sequence which consists of the same character twice with a different character between them, such as <code>xyx</code> or <code>aba</code>. A corresponding BAB is the same characters but in reversed positions: <code>yxy</code> and <code>bab</code>, respectively.</p>\n",
    "<p>For example:</p>\n",
    "<ul>\n",
    "<li><code>aba[bab]xyz</code> supports SSL (<code>aba</code> outside square brackets with corresponding <code>bab</code> within square brackets).</li>\n",
    "<li><code>xyx[xyx]xyx</code> does <em>not</em> support SSL (<code>xyx</code>, but no corresponding <code>yxy</code>).</li>\n",
    "<li><code>aaa[kek]eke</code> supports SSL (<code>eke</code> in supernet with corresponding <code>kek</code> in hypernet; the <code>aaa</code> sequence is not related, because the interior character must be different).</li>\n",
    "<li><code>zazbz[bzb]cdb</code> supports SSL (<code>zaz</code> has no corresponding <code>aza</code>, but <code>zbz</code> has a corresponding <code>bzb</code>, even though <code>zaz</code> and <code>zbz</code> overlap).</li>\n",
    "</ul>\n",
    "<p><em>How many IPs</em> in your puzzle input support SSL?</p>\n",
    "</article>\n",
    "\n",
    "</main>\n"
   ]
  },
  {
   "cell_type": "code",
   "execution_count": 23,
   "metadata": {},
   "outputs": [
    {
     "name": "stdout",
     "output_type": "stream",
     "text": [
      "\n",
      "\u001b[32mTest supports SSL (aba outside square brackets with corresponding bab within square brackets). passed, for supports_SSL.\u001b[0m\n",
      "\u001b[32mTest does not support SSL (xyx, but no corresponding yxy). passed, for supports_SSL.\u001b[0m\n",
      "\u001b[32mTest supports SSL (eke in supernet with corresponding kek in hypernet; the aaa sequence is not related, because the interior character must be different). passed, for supports_SSL.\u001b[0m\n",
      "\u001b[32mTest supports SSL (zaz has no corresponding aza, but zbz has a corresponding bzb, even though zaz and zbz overlap). passed, for supports_SSL.\u001b[0m\n",
      "\u001b[32mSuccess\u001b[0m\n"
     ]
    }
   ],
   "source": [
    "tests = [\n",
    "    {\n",
    "        \"name\": \"supports SSL (aba outside square brackets with corresponding bab within square brackets).\",\n",
    "        \"ip_adress\": \"aba[bab]xyz\",\n",
    "        \"expected\": True,\n",
    "    },\n",
    "    {\n",
    "        \"name\": \"does not support SSL (xyx, but no corresponding yxy).\",\n",
    "        \"ip_adress\": \"xyx[xyx]xyx\",\n",
    "        \"expected\": False,\n",
    "    },\n",
    "    {\n",
    "        \"name\": \"supports SSL (eke in supernet with corresponding kek in hypernet; the aaa sequence is not related, because the interior character must be different).\",\n",
    "        \"ip_adress\": \"aaa[kek]eke\",\n",
    "        \"expected\": True,\n",
    "    },\n",
    "    {\n",
    "        \"name\": \"supports SSL (zaz has no corresponding aza, but zbz has a corresponding bzb, even though zaz and zbz overlap).\",\n",
    "        \"ip_adress\": \"zazbz[bzb]cdb\",\n",
    "        \"expected\": True,\n",
    "    },\n",
    "]\n",
    "\n",
    "\n",
    "def supports_SSL(ip_adress: str) -> bool:\n",
    "    inside_regex = re.compile(r\"\\[(.*?)\\]\")\n",
    "    outside_regex = re.compile(r\"(.*?)(?:\\[.*?\\]|$)\")\n",
    "    inside = \" \".join(re.findall(inside_regex, ip_adress))\n",
    "    outside = \" \".join(re.findall(outside_regex, ip_adress))\n",
    "    for i in range(2, len(outside)):\n",
    "        if outside[i - 2] == outside[i] and outside[i - 1] != outside[i]:\n",
    "            sbs = outside[i - 1] + outside[i] + outside[i - 1]\n",
    "            if sbs in inside:\n",
    "                return True\n",
    "    return False\n",
    "\n",
    "\n",
    "run_tests_params(supports_SSL, tests)"
   ]
  },
  {
   "cell_type": "code",
   "execution_count": 25,
   "metadata": {},
   "outputs": [
    {
     "data": {
      "text/plain": [
       "3"
      ]
     },
     "execution_count": 25,
     "metadata": {},
     "output_type": "execute_result"
    }
   ],
   "source": [
    "adresses = \"\"\"\n",
    "aba[bab]xyz\n",
    "xyx[xyx]xyx\n",
    "aaa[kek]eke\n",
    "zazbz[bzb]cdb\n",
    "\"\"\"\n",
    "\n",
    "\n",
    "def count_SSL_support(adresses: str) -> int:\n",
    "    return sum(1 for l in adresses.strip().splitlines() if supports_SSL(l))\n",
    "\n",
    "\n",
    "count_SSL_support(adresses)"
   ]
  },
  {
   "cell_type": "code",
   "execution_count": 26,
   "metadata": {},
   "outputs": [
    {
     "name": "stdout",
     "output_type": "stream",
     "text": [
      "Part II: 242\n"
     ]
    }
   ],
   "source": [
    "with open(\"../input/day7.txt\") as f:\n",
    "    print(\"Part II:\", count_SSL_support(f.read()))"
   ]
  },
  {
   "cell_type": "markdown",
   "metadata": {},
   "source": [
    "<link href=\"style.css\" rel=\"stylesheet\"></link>\n",
    "<main>\n",
    "\n",
    "<p>Your puzzle answer was <code>242</code>.</p><p class=\"day-success\">Both parts of this puzzle are complete! They provide two gold stars: **</p>\n",
    "<p>At this point, you should <a href=\"/2016\">return to your Advent calendar</a> and try another puzzle.</p>\n",
    "<p>If you still want to see it, you can <a href=\"7/input\" target=\"_blank\">get your puzzle input</a>.</p>\n",
    "<p>You can also <span class=\"share\">[Share<span class=\"share-content\">on\n",
    "  <a href=\"https://twitter.com/intent/tweet?text=I%27ve+completed+%22Internet+Protocol+Version+7%22+%2D+Day+7+%2D+Advent+of+Code+2016&amp;url=https%3A%2F%2Fadventofcode%2Ecom%2F2016%2Fday%2F7&amp;related=ericwastl&amp;hashtags=AdventOfCode\" target=\"_blank\">Twitter</a>\n",
    "  <a href=\"javascript:void(0);\" onclick=\"var ms; try{ms=localStorage.getItem('mastodon.server')}finally{} if(typeof ms!=='string')ms=''; ms=prompt('Mastodon Server?',ms); if(typeof ms==='string' &amp;&amp; ms.length){this.href='https://'+ms+'/share?text=I%27ve+completed+%22Internet+Protocol+Version+7%22+%2D+Day+7+%2D+Advent+of+Code+2016+%23AdventOfCode+https%3A%2F%2Fadventofcode%2Ecom%2F2016%2Fday%2F7';try{localStorage.setItem('mastodon.server',ms);}finally{}}else{return false;}\" target=\"_blank\">Mastodon</a></span>]</span> this puzzle.</p>\n",
    "</main>\n"
   ]
  },
  {
   "cell_type": "code",
   "execution_count": null,
   "metadata": {},
   "outputs": [],
   "source": []
  }
 ],
 "metadata": {
  "kernelspec": {
   "display_name": ".venv",
   "language": "python",
   "name": "python3"
  },
  "language_info": {
   "codemirror_mode": {
    "name": "ipython",
    "version": 3
   },
   "file_extension": ".py",
   "mimetype": "text/x-python",
   "name": "python",
   "nbconvert_exporter": "python",
   "pygments_lexer": "ipython3",
   "version": "3.12.0"
  }
 },
 "nbformat": 4,
 "nbformat_minor": 2
}
