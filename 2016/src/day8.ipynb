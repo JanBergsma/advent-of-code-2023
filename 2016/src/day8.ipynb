{
 "cells": [
  {
   "cell_type": "code",
   "execution_count": 105,
   "metadata": {},
   "outputs": [],
   "source": [
    "# %matplotlib widget\n",
    "\n",
    "from __future__ import annotations\n",
    "\n",
    "import re\n",
    "from collections import defaultdict\n",
    "from dataclasses import dataclass, field\n",
    "from itertools import permutations, product\n",
    "from math import inf\n",
    "from random import choice\n",
    "\n",
    "import matplotlib.colors as mcolors\n",
    "import matplotlib.pyplot as plt\n",
    "import networkx as nx\n",
    "import numpy as np\n",
    "import numpy.typing as npt\n",
    "from mpl_toolkits.mplot3d import axes3d\n",
    "from numpy import int_, object_\n",
    "from numpy.typing import NDArray\n",
    "from test_utilities import run_tests_params\n",
    "from util import print_hex\n",
    "\n",
    "COLORS = list(mcolors.CSS4_COLORS.keys())"
   ]
  },
  {
   "cell_type": "markdown",
   "metadata": {},
   "source": [
    "<link href=\"style.css\" rel=\"stylesheet\"></link>\n",
    "\n",
    "<article class=\"day-desc read-aloud\"><h2>--- Day 8: Two-Factor Authentication ---</h2><p>You come across a door implementing what you can only assume is an implementation of <a href=\"https://en.wikipedia.org/wiki/Multi-factor_authentication\">two-factor authentication</a> after a long game of <a href=\"https://en.wikipedia.org/wiki/Requirement\">requirements</a> <a href=\"https://en.wikipedia.org/wiki/Chinese_whispers\">telephone</a>.</p>\n",
    "<p>To get past the door, you first swipe a keycard (no problem; there was one on a nearby desk). Then, it displays a code on a <a href=\"https://www.google.com/search?q=tiny+lcd&amp;tbm=isch\">little screen</a>, and you type that code on a keypad. Then, presumably, the door unlocks.</p>\n",
    "<p>Unfortunately, the screen has been <span title=\"BUT BY WHOM?!\">smashed</span>. After a few minutes, you've taken everything apart and figured out how it works. Now you just have to work out what the screen <em>would</em> have displayed.</p>\n",
    "<p>The magnetic strip on the card you swiped encodes a series of instructions for the screen; these instructions are your puzzle input. The screen is <em><code>50</code> pixels wide and <code>6</code> pixels tall</em>, all of which start <em>off</em>, and is capable of three somewhat peculiar operations:</p>\n",
    "<ul>\n",
    "<li><code>rect AxB</code> turns <em>on</em> all of the pixels in a rectangle at the top-left of the screen which is <code>A</code> wide and <code>B</code> tall.</li>\n",
    "<li><code>rotate row y=A by B</code> shifts all of the pixels in row <code>A</code> (0 is the top row) <em>right</em> by <code>B</code> pixels. Pixels that would fall off the right end appear at the left end of the row.</li>\n",
    "<li><code>rotate column x=A by B</code> shifts all of the pixels in column <code>A</code> (0 is the left column) <em>down</em> by <code>B</code> pixels. Pixels that would fall off the bottom appear at the top of the column.</li>\n",
    "</ul>\n",
    "<p>For example, here is a simple sequence on a smaller screen:</p>\n",
    "<ul>\n",
    "<li><p><code>rect 3x2</code> creates a small rectangle in the top-left corner:</p><pre><code>###....\n",
    "###....\n",
    ".......</code></pre></li>\n",
    "<li><p><code>rotate column x=1 by 1</code> rotates the second column down by one pixel:</p><pre><code>#.#....\n",
    "###....\n",
    ".#.....</code></pre></li>\n",
    "<li><p><code>rotate row y=0 by 4</code> rotates the top row right by four pixels:</p><pre><code>....#.#\n",
    "###....\n",
    ".#.....</code></pre></li>\n",
    "<li><p><code>rotate column x=1 by 1</code> again rotates the second column down by one pixel, causing the bottom pixel to wrap back to the top:</p><pre><code>.#..#.#\n",
    "#.#....\n",
    ".#.....</code></pre></li>\n",
    "</ul>\n",
    "<p>As you can see, this display technology is extremely powerful, and will soon dominate the tiny-code-displaying-screen market.  That's what the advertisement on the back of the display tries to convince you, anyway.</p>\n",
    "<p>There seems to be an intermediate check of the voltage used by the display: after you swipe your card, if the screen did work, <em>how many pixels should be lit?</em></p>\n",
    "</article>\n"
   ]
  },
  {
   "cell_type": "code",
   "execution_count": 106,
   "metadata": {},
   "outputs": [],
   "source": [
    "from tabulate import tabulate\n",
    "\n",
    "\n",
    "class LittleScreen:\n",
    "    def __init__(self, width: int, height: int) -> None:\n",
    "        self.rows, self.cols = height, width\n",
    "        self.grid = [[\".\"] * width for _ in range(height)]\n",
    "\n",
    "    def rect(self, width: int, height: int) -> None:\n",
    "        for row, col in product(range(height), range(width)):\n",
    "            self.grid[row][col] = \"#\"\n",
    "\n",
    "    def rotate_row(self, row: int, shifts: int) -> None:\n",
    "        row1 = self.grid[row][:]\n",
    "        for col in range(self.cols):\n",
    "            self.grid[row][(col + shifts) % self.cols] = row1[col]\n",
    "\n",
    "    def rotate_col(self, col: int, shifts: int) -> None:\n",
    "        column = [self.grid[row][col] for row in range(self.rows)]\n",
    "        for row in range(self.rows):\n",
    "            self.grid[(row + shifts) % self.rows][col] = column[row]\n",
    "\n",
    "    def proccess(self, instructions: str) -> None:\n",
    "        for inst in instructions.strip().splitlines():\n",
    "            if inst.startswith(\"rect\"):\n",
    "                self.rect(*[int(i) for i in inst[5:].split(\"x\")])\n",
    "            elif inst.startswith(\"rotate row\"):\n",
    "                self.rotate_row(*[int(i) for i in inst[13:].split(\" by \")])\n",
    "            elif inst.startswith(\"rotate column\"):\n",
    "                self.rotate_col(*[int(i) for i in inst[16:].split(\" by \")])\n",
    "            else:\n",
    "                raise ValueError(f\"Unknown Value {inst}\")\n",
    "\n",
    "    def pixels_lit(self) -> int:\n",
    "        return sum(sum(1 for p in r if p == \"#\") for r in self.grid)\n",
    "\n",
    "    def __repr__(self) -> str:\n",
    "        return tabulate(self.grid, tablefmt=\"rounded_grid\")"
   ]
  },
  {
   "cell_type": "code",
   "execution_count": 107,
   "metadata": {},
   "outputs": [],
   "source": [
    "ls = LittleScreen(7, 3)\n",
    "ls.rect(3, 2)\n",
    "ls.rotate_col(1, 1)\n",
    "ls.rotate_row(0, 4)\n",
    "ls.rotate_col(1, 1)\n",
    "\n",
    "expected = \"\"\"\n",
    "╭───┬───┬───┬───┬───┬───┬───╮\n",
    "│ . │ # │ . │ . │ # │ . │ # │\n",
    "├───┼───┼───┼───┼───┼───┼───┤\n",
    "│ # │ . │ # │ . │ . │ . │ . │\n",
    "├───┼───┼───┼───┼───┼───┼───┤\n",
    "│ . │ # │ . │ . │ . │ . │ . │\n",
    "╰───┴───┴───┴───┴───┴───┴───╯\n",
    "\"\"\".strip()\n",
    "\n",
    "actual = str(ls)\n",
    "\n",
    "assert actual == expected"
   ]
  },
  {
   "cell_type": "code",
   "execution_count": 108,
   "metadata": {},
   "outputs": [],
   "source": [
    "instructions = \"\"\"\n",
    "rect 3x2 \n",
    "rotate column x=1 by 1\n",
    "rotate row y=0 by 4\n",
    "rotate column x=1 by 1\n",
    "\"\"\"\n",
    "\n",
    "\n",
    "screen = LittleScreen(7, 3)\n",
    "\n",
    "screen.proccess(instructions)\n",
    "actual = str(screen)\n",
    "assert actual == expected\n",
    "assert screen.pixels_lit() == 6"
   ]
  },
  {
   "cell_type": "code",
   "execution_count": 109,
   "metadata": {},
   "outputs": [
    {
     "name": "stdout",
     "output_type": "stream",
     "text": [
      "Part I: 128\n"
     ]
    }
   ],
   "source": [
    "partI_screen = LittleScreen(50, 6)\n",
    "with open(\"../input/day8.txt\") as f:\n",
    "    partI_screen.proccess(f.read())\n",
    "\n",
    "print(\"Part I:\", partI_screen.pixels_lit())"
   ]
  },
  {
   "cell_type": "markdown",
   "metadata": {},
   "source": [
    "<link href=\"style.css\" rel=\"stylesheet\"></link>\n",
    "\n",
    "<main>\n",
    "\n",
    "<p>Your puzzle answer was <code>128</code>.</p><p class=\"day-success\">The first half of this puzzle is complete! It provides one gold star: *</p>\n",
    "<article class=\"day-desc\"><h2 id=\"part2\">--- Part Two ---</h2><p>You notice that the screen is only capable of displaying capital letters; in the font it uses, each letter is <code>5</code> pixels wide and <code>6</code> tall.</p>\n",
    "<p>After you swipe your card, <em>what code is the screen trying to display?</em></p>\n",
    "</article>\n",
    "\n",
    "</main>\n"
   ]
  },
  {
   "cell_type": "code",
   "execution_count": 110,
   "metadata": {},
   "outputs": [
    {
     "data": {
      "text/plain": [
       "╭───┬───┬───┬───┬───┬───┬───┬───┬───┬───┬───┬───┬───┬───┬───┬───┬───┬───┬───┬───┬───┬───┬───┬───┬───┬───┬───┬───┬───┬───┬───┬───┬───┬───┬───┬───┬───┬───┬───┬───┬───┬───┬───┬───┬───┬───┬───┬───┬───┬───╮\n",
       "│ # │ # │ # │ # │ . │ . │ # │ # │ . │ . │ . │ # │ # │ . │ . │ # │ # │ # │ . │ . │ . │ # │ # │ . │ . │ # │ # │ # │ . │ . │ # │ . │ . │ # │ . │ # │ . │ . │ . │ # │ . │ # │ # │ . │ . │ . │ # │ # │ . │ . │\n",
       "├───┼───┼───┼───┼───┼───┼───┼───┼───┼───┼───┼───┼───┼───┼───┼───┼───┼───┼───┼───┼───┼───┼───┼───┼───┼───┼───┼───┼───┼───┼───┼───┼───┼───┼───┼───┼───┼───┼───┼───┼───┼───┼───┼───┼───┼───┼───┼───┼───┼───┤\n",
       "│ # │ . │ . │ . │ . │ # │ . │ . │ # │ . │ # │ . │ . │ # │ . │ # │ . │ . │ # │ . │ # │ . │ . │ # │ . │ # │ . │ . │ # │ . │ # │ . │ . │ # │ . │ # │ . │ . │ . │ # │ # │ . │ . │ # │ . │ # │ . │ . │ # │ . │\n",
       "├───┼───┼───┼───┼───┼───┼───┼───┼───┼───┼───┼───┼───┼───┼───┼───┼───┼───┼───┼───┼───┼───┼───┼───┼───┼───┼───┼───┼───┼───┼───┼───┼───┼───┼───┼───┼───┼───┼───┼───┼───┼───┼───┼───┼───┼───┼───┼───┼───┼───┤\n",
       "│ # │ # │ # │ . │ . │ # │ . │ . │ # │ . │ # │ . │ . │ # │ . │ # │ . │ . │ # │ . │ # │ . │ . │ . │ . │ # │ . │ . │ # │ . │ # │ # │ # │ # │ . │ . │ # │ . │ # │ . │ # │ . │ . │ # │ . │ # │ . │ . │ # │ . │\n",
       "├───┼───┼───┼───┼───┼───┼───┼───┼───┼───┼───┼───┼───┼───┼───┼───┼───┼───┼───┼───┼───┼───┼───┼───┼───┼───┼───┼───┼───┼───┼───┼───┼───┼───┼───┼───┼───┼───┼───┼───┼───┼───┼───┼───┼───┼───┼───┼───┼───┼───┤\n",
       "│ # │ . │ . │ . │ . │ # │ . │ . │ # │ . │ # │ # │ # │ # │ . │ # │ # │ # │ . │ . │ # │ . │ # │ # │ . │ # │ # │ # │ . │ . │ # │ . │ . │ # │ . │ . │ . │ # │ . │ . │ # │ # │ # │ # │ . │ # │ . │ . │ # │ . │\n",
       "├───┼───┼───┼───┼───┼───┼───┼───┼───┼───┼───┼───┼───┼───┼───┼───┼───┼───┼───┼───┼───┼───┼───┼───┼───┼───┼───┼───┼───┼───┼───┼───┼───┼───┼───┼───┼───┼───┼───┼───┼───┼───┼───┼───┼───┼───┼───┼───┼───┼───┤\n",
       "│ # │ . │ . │ . │ . │ # │ . │ . │ # │ . │ # │ . │ . │ # │ . │ # │ . │ # │ . │ . │ # │ . │ . │ # │ . │ # │ . │ . │ . │ . │ # │ . │ . │ # │ . │ . │ . │ # │ . │ . │ # │ . │ . │ # │ . │ # │ . │ . │ # │ . │\n",
       "├───┼───┼───┼───┼───┼───┼───┼───┼───┼───┼───┼───┼───┼───┼───┼───┼───┼───┼───┼───┼───┼───┼───┼───┼───┼───┼───┼───┼───┼───┼───┼───┼───┼───┼───┼───┼───┼───┼───┼───┼───┼───┼───┼───┼───┼───┼───┼───┼───┼───┤\n",
       "│ # │ # │ # │ # │ . │ . │ # │ # │ . │ . │ # │ . │ . │ # │ . │ # │ . │ . │ # │ . │ . │ # │ # │ # │ . │ # │ . │ . │ . │ . │ # │ . │ . │ # │ . │ . │ . │ # │ . │ . │ # │ . │ . │ # │ . │ . │ # │ # │ . │ . │\n",
       "╰───┴───┴───┴───┴───┴───┴───┴───┴───┴───┴───┴───┴───┴───┴───┴───┴───┴───┴───┴───┴───┴───┴───┴───┴───┴───┴───┴───┴───┴───┴───┴───┴───┴───┴───┴───┴───┴───┴───┴───┴───┴───┴───┴───┴───┴───┴───┴───┴───┴───╯"
      ]
     },
     "execution_count": 110,
     "metadata": {},
     "output_type": "execute_result"
    }
   ],
   "source": [
    "partI_screen"
   ]
  },
  {
   "cell_type": "code",
   "execution_count": 111,
   "metadata": {},
   "outputs": [
    {
     "name": "stdout",
     "output_type": "stream",
     "text": [
      "\n",
      "\u001b[42m \u001b[42m \u001b[42m \u001b[42m \u001b[40m \u001b[40m \u001b[42m \u001b[42m \u001b[40m \u001b[40m \u001b[40m \u001b[42m \u001b[42m \u001b[40m \u001b[40m \u001b[42m \u001b[42m \u001b[42m \u001b[40m \u001b[40m \u001b[40m \u001b[42m \u001b[42m \u001b[40m \u001b[40m \u001b[42m \u001b[42m \u001b[42m \u001b[40m \u001b[40m \u001b[42m \u001b[40m \u001b[40m \u001b[42m \u001b[40m \u001b[42m \u001b[40m \u001b[40m \u001b[40m \u001b[42m \u001b[40m \u001b[42m \u001b[42m \u001b[40m \u001b[40m \u001b[40m \u001b[42m \u001b[42m \u001b[40m \u001b[40m \n",
      "\u001b[42m \u001b[40m \u001b[40m \u001b[40m \u001b[40m \u001b[42m \u001b[40m \u001b[40m \u001b[42m \u001b[40m \u001b[42m \u001b[40m \u001b[40m \u001b[42m \u001b[40m \u001b[42m \u001b[40m \u001b[40m \u001b[42m \u001b[40m \u001b[42m \u001b[40m \u001b[40m \u001b[42m \u001b[40m \u001b[42m \u001b[40m \u001b[40m \u001b[42m \u001b[40m \u001b[42m \u001b[40m \u001b[40m \u001b[42m \u001b[40m \u001b[42m \u001b[40m \u001b[40m \u001b[40m \u001b[42m \u001b[42m \u001b[40m \u001b[40m \u001b[42m \u001b[40m \u001b[42m \u001b[40m \u001b[40m \u001b[42m \u001b[40m \n",
      "\u001b[42m \u001b[42m \u001b[42m \u001b[40m \u001b[40m \u001b[42m \u001b[40m \u001b[40m \u001b[42m \u001b[40m \u001b[42m \u001b[40m \u001b[40m \u001b[42m \u001b[40m \u001b[42m \u001b[40m \u001b[40m \u001b[42m \u001b[40m \u001b[42m \u001b[40m \u001b[40m \u001b[40m \u001b[40m \u001b[42m \u001b[40m \u001b[40m \u001b[42m \u001b[40m \u001b[42m \u001b[42m \u001b[42m \u001b[42m \u001b[40m \u001b[40m \u001b[42m \u001b[40m \u001b[42m \u001b[40m \u001b[42m \u001b[40m \u001b[40m \u001b[42m \u001b[40m \u001b[42m \u001b[40m \u001b[40m \u001b[42m \u001b[40m \n",
      "\u001b[42m \u001b[40m \u001b[40m \u001b[40m \u001b[40m \u001b[42m \u001b[40m \u001b[40m \u001b[42m \u001b[40m \u001b[42m \u001b[42m \u001b[42m \u001b[42m \u001b[40m \u001b[42m \u001b[42m \u001b[42m \u001b[40m \u001b[40m \u001b[42m \u001b[40m \u001b[42m \u001b[42m \u001b[40m \u001b[42m \u001b[42m \u001b[42m \u001b[40m \u001b[40m \u001b[42m \u001b[40m \u001b[40m \u001b[42m \u001b[40m \u001b[40m \u001b[40m \u001b[42m \u001b[40m \u001b[40m \u001b[42m \u001b[42m \u001b[42m \u001b[42m \u001b[40m \u001b[42m \u001b[40m \u001b[40m \u001b[42m \u001b[40m \n",
      "\u001b[42m \u001b[40m \u001b[40m \u001b[40m \u001b[40m \u001b[42m \u001b[40m \u001b[40m \u001b[42m \u001b[40m \u001b[42m \u001b[40m \u001b[40m \u001b[42m \u001b[40m \u001b[42m \u001b[40m \u001b[42m \u001b[40m \u001b[40m \u001b[42m \u001b[40m \u001b[40m \u001b[42m \u001b[40m \u001b[42m \u001b[40m \u001b[40m \u001b[40m \u001b[40m \u001b[42m \u001b[40m \u001b[40m \u001b[42m \u001b[40m \u001b[40m \u001b[40m \u001b[42m \u001b[40m \u001b[40m \u001b[42m \u001b[40m \u001b[40m \u001b[42m \u001b[40m \u001b[42m \u001b[40m \u001b[40m \u001b[42m \u001b[40m \n",
      "\u001b[42m \u001b[42m \u001b[42m \u001b[42m \u001b[40m \u001b[40m \u001b[42m \u001b[42m \u001b[40m \u001b[40m \u001b[42m \u001b[40m \u001b[40m \u001b[42m \u001b[40m \u001b[42m \u001b[40m \u001b[40m \u001b[42m \u001b[40m \u001b[40m \u001b[42m \u001b[42m \u001b[42m \u001b[40m \u001b[42m \u001b[40m \u001b[40m \u001b[40m \u001b[40m \u001b[42m \u001b[40m \u001b[40m \u001b[42m \u001b[40m \u001b[40m \u001b[40m \u001b[42m \u001b[40m \u001b[40m \u001b[42m \u001b[40m \u001b[40m \u001b[42m \u001b[40m \u001b[40m \u001b[42m \u001b[42m \u001b[40m \u001b[40m \n",
      "\u001b[0m\n"
     ]
    }
   ],
   "source": [
    "from colorama import Fore, Back, Style\n",
    "\n",
    "print()\n",
    "for row in partI_screen.grid:\n",
    "    for p in row:\n",
    "        if p == \"#\":\n",
    "            print(Back.GREEN + \" \", end=\"\")\n",
    "        else:\n",
    "            print(Back.BLACK + \" \", end=\"\")\n",
    "    print()\n",
    "print(Style.RESET_ALL)"
   ]
  },
  {
   "cell_type": "code",
   "execution_count": 112,
   "metadata": {},
   "outputs": [],
   "source": [
    "# EOARGPHYAO"
   ]
  },
  {
   "cell_type": "markdown",
   "metadata": {},
   "source": [
    "<link href=\"style.css\" rel=\"stylesheet\"></link>\n",
    "<main>\n",
    "\n",
    "<p>Your puzzle answer was <code>EOARGPHYAO</code>.</p><p class=\"day-success\">Both parts of this puzzle are complete! They provide two gold stars: **</p>\n",
    "<p>At this point, you should <a href=\"/2016\">return to your Advent calendar</a> and try another puzzle.</p>\n",
    "<p>If you still want to see it, you can <a href=\"8/input\" target=\"_blank\">get your puzzle input</a>.</p>\n",
    "<p>You can also <span class=\"share\">[Share<span class=\"share-content\">on\n",
    "  <a href=\"https://twitter.com/intent/tweet?text=I%27ve+completed+%22Two%2DFactor+Authentication%22+%2D+Day+8+%2D+Advent+of+Code+2016&amp;url=https%3A%2F%2Fadventofcode%2Ecom%2F2016%2Fday%2F8&amp;related=ericwastl&amp;hashtags=AdventOfCode\" target=\"_blank\">Twitter</a>\n",
    "  <a href=\"javascript:void(0);\" onclick=\"var ms; try{ms=localStorage.getItem('mastodon.server')}finally{} if(typeof ms!=='string')ms=''; ms=prompt('Mastodon Server?',ms); if(typeof ms==='string' &amp;&amp; ms.length){this.href='https://'+ms+'/share?text=I%27ve+completed+%22Two%2DFactor+Authentication%22+%2D+Day+8+%2D+Advent+of+Code+2016+%23AdventOfCode+https%3A%2F%2Fadventofcode%2Ecom%2F2016%2Fday%2F8';try{localStorage.setItem('mastodon.server',ms);}finally{}}else{return false;}\" target=\"_blank\">Mastodon</a></span>]</span> this puzzle.</p>\n",
    "</main>\n"
   ]
  },
  {
   "cell_type": "markdown",
   "metadata": {},
   "source": []
  }
 ],
 "metadata": {
  "kernelspec": {
   "display_name": ".venv",
   "language": "python",
   "name": "python3"
  },
  "language_info": {
   "codemirror_mode": {
    "name": "ipython",
    "version": 3
   },
   "file_extension": ".py",
   "mimetype": "text/x-python",
   "name": "python",
   "nbconvert_exporter": "python",
   "pygments_lexer": "ipython3",
   "version": "3.12.0"
  }
 },
 "nbformat": 4,
 "nbformat_minor": 2
}
