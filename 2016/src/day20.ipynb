{
 "cells": [
  {
   "cell_type": "code",
   "execution_count": 2,
   "metadata": {},
   "outputs": [],
   "source": [
    "# %matplotlib widget\n",
    "\n",
    "from __future__ import annotations\n",
    "\n",
    "import re\n",
    "from collections import defaultdict\n",
    "from dataclasses import dataclass, field\n",
    "from itertools import permutations, product\n",
    "from math import inf\n",
    "from random import choice\n",
    "\n",
    "import matplotlib.colors as mcolors\n",
    "import matplotlib.pyplot as plt\n",
    "import networkx as nx\n",
    "import numpy as np\n",
    "import numpy.typing as npt\n",
    "from mpl_toolkits.mplot3d import axes3d\n",
    "from numpy import int_, object_\n",
    "from numpy.typing import NDArray\n",
    "from test_utilities import run_tests_params\n",
    "from util import print_hex\n",
    "\n",
    "COLORS = list(mcolors.CSS4_COLORS.keys())"
   ]
  },
  {
   "cell_type": "markdown",
   "metadata": {},
   "source": [
    "<link href=\"style.css\" rel=\"stylesheet\"></link>\n",
    "bbb\n"
   ]
  },
  {
   "cell_type": "code",
   "execution_count": 3,
   "metadata": {},
   "outputs": [
    {
     "name": "stdout",
     "output_type": "stream",
     "text": [
      "\n",
      "\u001b[32mTest Example 1 passed, for bassie_elf.\u001b[0m\n",
      "\u001b[32mTest Example 2 passed, for bassie_elf.\u001b[0m\n",
      "\u001b[32mTest Example 3 passed, for bassie_elf.\u001b[0m\n",
      "\u001b[32mTest Example 4 passed, for bassie_elf.\u001b[0m\n",
      "\u001b[32mSuccess\u001b[0m\n"
     ]
    }
   ],
   "source": [
    "from itertools import cycle\n",
    "\n",
    "\n",
    "def bassie_elf(number_of_elfs: int) -> int:\n",
    "    elfs = [1] * number_of_elfs\n",
    "\n",
    "    for turn in cycle(range(number_of_elfs)):\n",
    "        if elfs[turn]:\n",
    "            j = 1\n",
    "            while elfs[(turn + j) % number_of_elfs] == 0:\n",
    "                j += 1\n",
    "            elfs[turn] += elfs[(turn + j) % number_of_elfs]\n",
    "            elfs[(turn + j) % number_of_elfs] = 0\n",
    "\n",
    "            if elfs[turn] == number_of_elfs:\n",
    "                return turn + 1\n",
    "    return 0\n",
    "\n",
    "\n",
    "tests_bassie_elf = [\n",
    "    {\n",
    "        \"name\": \"Example 1\",\n",
    "        \"number_of_elfs\": 2,\n",
    "        \"expected\": 1,\n",
    "    },\n",
    "    {\n",
    "        \"name\": \"Example 2\",\n",
    "        \"number_of_elfs\": 3,\n",
    "        \"expected\": 3,\n",
    "    },\n",
    "    {\n",
    "        \"name\": \"Example 3\",\n",
    "        \"number_of_elfs\": 4,\n",
    "        \"expected\": 1,\n",
    "    },\n",
    "    {\n",
    "        \"name\": \"Example 4\",\n",
    "        \"number_of_elfs\": 5,\n",
    "        \"expected\": 3,\n",
    "    },\n",
    "]\n",
    "\n",
    "run_tests_params(bassie_elf, tests_bassie_elf)"
   ]
  },
  {
   "cell_type": "code",
   "execution_count": null,
   "metadata": {},
   "outputs": [],
   "source": []
  }
 ],
 "metadata": {
  "kernelspec": {
   "display_name": ".venv",
   "language": "python",
   "name": "python3"
  },
  "language_info": {
   "codemirror_mode": {
    "name": "ipython",
    "version": 3
   },
   "file_extension": ".py",
   "mimetype": "text/x-python",
   "name": "python",
   "nbconvert_exporter": "python",
   "pygments_lexer": "ipython3",
   "version": "3.12.0"
  }
 },
 "nbformat": 4,
 "nbformat_minor": 2
}
