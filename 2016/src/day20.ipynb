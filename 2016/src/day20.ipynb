{
 "cells": [
  {
   "cell_type": "code",
   "execution_count": 54,
   "metadata": {},
   "outputs": [],
   "source": [
    "# %matplotlib widget\n",
    "\n",
    "from __future__ import annotations\n",
    "\n",
    "import re\n",
    "from collections import defaultdict\n",
    "from dataclasses import dataclass, field\n",
    "from itertools import permutations, product\n",
    "from math import inf\n",
    "from random import choice\n",
    "\n",
    "import matplotlib.colors as mcolors\n",
    "import matplotlib.pyplot as plt\n",
    "import networkx as nx\n",
    "import numpy as np\n",
    "import numpy.typing as npt\n",
    "from mpl_toolkits.mplot3d import axes3d\n",
    "from numpy import int_, object_\n",
    "from numpy.typing import NDArray\n",
    "from test_utilities import run_tests_params\n",
    "from util import print_hex\n",
    "\n",
    "COLORS = list(mcolors.CSS4_COLORS.keys())"
   ]
  },
  {
   "cell_type": "markdown",
   "metadata": {},
   "source": [
    "<link href=\"style.css\" rel=\"stylesheet\"></link>\n",
    "<article class=\"day-desc read-aloud\"><h2>--- Day 20: Firewall Rules ---</h2><p>You'd like to set up a small hidden computer here so you can use it to <span title=\"I'll create a GUI interface using Visual Basic... see if I can track an IP address.\">get back into the network</span> later. However, the corporate firewall only allows communication with certain external <a href=\"https://en.wikipedia.org/wiki/IPv4#Addressing\">IP addresses</a>.</p>\n",
    "<p>You've retrieved the list of blocked IPs from the firewall, but the list seems to be messy and poorly maintained, and it's not clear which IPs are allowed. Also, rather than being written in <a href=\"https://en.wikipedia.org/wiki/Dot-decimal_notation\">dot-decimal</a> notation, they are written as plain <a href=\"https://en.wikipedia.org/wiki/32-bit\">32-bit integers</a>, which can have any value from <code>0</code> through <code>4294967295</code>, inclusive.</p>\n",
    "<p>For example, suppose only the values <code>0</code> through <code>9</code> were valid, and that you retrieved the following blacklist:</p>\n",
    "<pre><code>5-8\n",
    "0-2\n",
    "4-7\n",
    "</code></pre>\n",
    "<p>The blacklist specifies ranges of IPs (inclusive of both the start and end value) that are <em>not</em> allowed. Then, the only IPs that this firewall allows are <code>3</code> and <code>9</code>, since those are the only numbers not in any range.</p>\n",
    "<p>Given the list of blocked IPs you retrieved from the firewall (your puzzle input), <em>what is the lowest-valued IP</em> that is not blocked?</p>\n",
    "</article>\n"
   ]
  },
  {
   "cell_type": "code",
   "execution_count": 55,
   "metadata": {},
   "outputs": [
    {
     "data": {
      "text/plain": [
       "(3, 3)"
      ]
     },
     "execution_count": 55,
     "metadata": {},
     "output_type": "execute_result"
    }
   ],
   "source": [
    "def lowest_non_blocked_ip(blacklist: str) -> int:\n",
    "    blocked = []\n",
    "    for line in blacklist.strip().splitlines():\n",
    "        fr, to = map(int, line.split(\"-\"))\n",
    "        blocked.append((fr, to + 1))\n",
    "\n",
    "    blocked.sort()\n",
    "    to_prev = 0\n",
    "    for fr, to in blocked:\n",
    "        if fr - to_prev > 0:\n",
    "            return to_prev\n",
    "        to_prev = to\n",
    "    return -1\n",
    "\n",
    "\n",
    "blacklist_example = \"\"\"\n",
    "5-8\n",
    "0-2\n",
    "4-7\n",
    "\"\"\"\n",
    "\n",
    "\n",
    "lowest_non_blocked_ip(blacklist_example), 3"
   ]
  },
  {
   "cell_type": "code",
   "execution_count": 56,
   "metadata": {},
   "outputs": [
    {
     "data": {
      "text/plain": [
       "19449262"
      ]
     },
     "execution_count": 56,
     "metadata": {},
     "output_type": "execute_result"
    }
   ],
   "source": [
    "with open(\"../input/day20.txt\") as f:\n",
    "    blacklist_partI = f.read()\n",
    "\n",
    "lowest_non_blocked_ip(blacklist_partI)"
   ]
  },
  {
   "cell_type": "markdown",
   "metadata": {},
   "source": [
    "<link href=\"style.css\" rel=\"stylesheet\"></link>\n",
    "<main>\n",
    "\n",
    "<p>Your puzzle answer was <code>19449262</code>.</p><p class=\"day-success\">The first half of this puzzle is complete! It provides one gold star: *</p>\n",
    "<article class=\"day-desc\"><h2 id=\"part2\">--- Part Two ---</h2><p><em>How many IPs</em> are allowed by the blacklist?</p>\n",
    "</article>\n",
    "\n",
    "</main>\n"
   ]
  },
  {
   "cell_type": "code",
   "execution_count": 57,
   "metadata": {},
   "outputs": [
    {
     "data": {
      "text/plain": [
       "1"
      ]
     },
     "execution_count": 57,
     "metadata": {},
     "output_type": "execute_result"
    }
   ],
   "source": [
    "def count_allowed(blacklist: str, fr: int, to: int) -> int:\n",
    "    blocked = []\n",
    "    for line in blacklist.strip().splitlines():\n",
    "        fr, to = map(int, line.split(\"-\"))\n",
    "        blocked.append((fr, to + 1))\n",
    "\n",
    "    blocked.sort()\n",
    "    allowed = 0\n",
    "    to_prev = 0\n",
    "\n",
    "    for fr, to in blocked:\n",
    "        if fr - to_prev > 0:\n",
    "            allowed += fr - to_prev\n",
    "        to_prev = max(to_prev, to)\n",
    "\n",
    "    if to_prev < to:\n",
    "        allowed += to - to_prev\n",
    "    return allowed\n",
    "\n",
    "\n",
    "count_allowed(blacklist_example, 0, 9)"
   ]
  },
  {
   "cell_type": "code",
   "execution_count": 58,
   "metadata": {},
   "outputs": [
    {
     "data": {
      "text/plain": [
       "119"
      ]
     },
     "execution_count": 58,
     "metadata": {},
     "output_type": "execute_result"
    }
   ],
   "source": [
    "count_allowed(blacklist_partI, 0, 19449262)"
   ]
  },
  {
   "cell_type": "markdown",
   "metadata": {},
   "source": [
    "<link href=\"style.css\" rel=\"stylesheet\"></link>\n",
    "\n",
    "<p>Your puzzle answer was <code>119</code>.</p><p class=\"day-success\">Both parts of this puzzle are complete! They provide two gold stars: **</p>\n"
   ]
  },
  {
   "cell_type": "code",
   "execution_count": null,
   "metadata": {},
   "outputs": [],
   "source": []
  },
  {
   "cell_type": "code",
   "execution_count": null,
   "metadata": {},
   "outputs": [],
   "source": []
  }
 ],
 "metadata": {
  "kernelspec": {
   "display_name": ".venv",
   "language": "python",
   "name": "python3"
  },
  "language_info": {
   "codemirror_mode": {
    "name": "ipython",
    "version": 3
   },
   "file_extension": ".py",
   "mimetype": "text/x-python",
   "name": "python",
   "nbconvert_exporter": "python",
   "pygments_lexer": "ipython3",
   "version": "3.12.0"
  }
 },
 "nbformat": 4,
 "nbformat_minor": 2
}
