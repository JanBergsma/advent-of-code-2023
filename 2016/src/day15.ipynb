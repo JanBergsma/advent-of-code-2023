{
 "cells": [
  {
   "cell_type": "code",
   "execution_count": 41,
   "metadata": {},
   "outputs": [],
   "source": [
    "# %matplotlib widget\n",
    "\n",
    "from __future__ import annotations\n",
    "\n",
    "import re\n",
    "from collections import defaultdict\n",
    "from dataclasses import dataclass, field\n",
    "from itertools import permutations, product\n",
    "from math import inf\n",
    "from random import choice\n",
    "\n",
    "import matplotlib.colors as mcolors\n",
    "import matplotlib.pyplot as plt\n",
    "import networkx as nx\n",
    "import numpy as np\n",
    "import numpy.typing as npt\n",
    "from mpl_toolkits.mplot3d import axes3d\n",
    "from numpy import int_, object_\n",
    "from numpy.typing import NDArray\n",
    "from test_utilities import run_tests_params\n",
    "from util import print_hex\n",
    "\n",
    "COLORS = list(mcolors.CSS4_COLORS.keys())"
   ]
  },
  {
   "cell_type": "markdown",
   "metadata": {},
   "source": [
    "<link href=\"style.css\" rel=\"stylesheet\"></link>\n",
    "<article class=\"day-desc read-aloud\"><h2>--- Day 15: Timing is Everything ---</h2><p>The halls open into an interior plaza containing a large kinetic sculpture. The sculpture is in a sealed enclosure and seems to involve a set of identical spherical capsules that are carried to the top and allowed to <a href=\"https://youtu.be/IxDoO9oODOk?t=177\">bounce through the maze</a> of spinning pieces.</p>\n",
    "<p>Part of the sculpture is even interactive! When a button is pressed, a capsule is dropped and tries to fall through slots in a set of rotating discs to finally go through a little hole at the bottom and come out of the sculpture. If any of the slots aren't aligned with the capsule as it passes, the capsule bounces off the disc and soars away. You feel compelled to <span title=\"These machines are everywhere in Japan, but on a MUCH smaller scale.\">get one of those capsules</span>.</p>\n",
    "<p>The discs pause their motion each second and come in different sizes; they seem to each have a fixed number of positions at which they stop.  You decide to call the position with the slot <code>0</code>, and count up for each position it reaches next.</p>\n",
    "<p>Furthermore, the discs are spaced out so that after you push the button, one second elapses before the first disc is reached, and one second elapses as the capsule passes from one disc to the one below it.  So, if you push the button at <code>time=100</code>, then the capsule reaches the top disc at <code>time=101</code>, the second disc at <code>time=102</code>, the third disc at <code>time=103</code>, and so on.</p>\n",
    "<p>The button will only drop a capsule at an integer time - no fractional seconds allowed.</p>\n",
    "<p>For example, at <code>time=0</code>, suppose you see the following arrangement:</p>\n",
    "<pre><code>Disc #1 has 5 positions; at time=0, it is at position 4.\n",
    "Disc #2 has 2 positions; at time=0, it is at position 1.\n",
    "</code></pre>\n",
    "<p>If you press the button exactly at <code>time=0</code>, the capsule would start to fall; it would reach the first disc at <code>time=1</code>. Since the first disc was at position <code>4</code> at <code>time=0</code>, by <code>time=1</code> it has ticked one position forward.  As a five-position disc, the next position is <code>0</code>, and the capsule falls through the slot.</p>\n",
    "<p>Then, at <code>time=2</code>, the capsule reaches the second disc. The second disc has ticked forward two positions at this point: it started at position <code>1</code>, then continued to position <code>0</code>, and finally ended up at position <code>1</code> again.  Because there's only a slot at position <code>0</code>, the capsule bounces away.</p>\n",
    "<p>If, however, you wait until <code>time=5</code> to push the button, then when the capsule reaches each disc, the first disc will have ticked forward <code>5+1 = 6</code> times (to position <code>0</code>), and the second disc will have ticked forward <code>5+2 = 7</code> times (also to position <code>0</code>). In this case, the capsule would fall through the discs and come out of the machine.</p>\n",
    "<p>However, your situation has more than two discs; you've noted their positions in your puzzle input. What is the <em>first time you can press the button</em> to get a capsule?</p>\n",
    "</article>\n"
   ]
  },
  {
   "cell_type": "code",
   "execution_count": 42,
   "metadata": {},
   "outputs": [
    {
     "data": {
      "text/plain": [
       "5"
      ]
     },
     "execution_count": 42,
     "metadata": {},
     "output_type": "execute_result"
    }
   ],
   "source": [
    "from re import findall\n",
    "\n",
    "\n",
    "def parse(arrangement: str) -> list[list[int, int]]:\n",
    "    arr = []\n",
    "    for delta, disc in enumerate(arrangement.strip().splitlines(), start=1):\n",
    "        _, positions, _, current = findall(r\"[0-9]+\", disc)\n",
    "        positions, current = int(positions), int(current)\n",
    "        arr.append((current, delta, positions))\n",
    "    return arr\n",
    "\n",
    "\n",
    "def first_press_for_capsule(arrangement: str) -> int:\n",
    "    arr = parse(arrangement)\n",
    "    t = 0\n",
    "    while any((c + d + t) % p != 0 for c, d, p in arr):\n",
    "        t += 1\n",
    "    return t\n",
    "\n",
    "\n",
    "arrangement_example = \"\"\"\n",
    "Disc #1 has 5 positions; at time=0, it is at position 4.\n",
    "Disc #2 has 2 positions; at time=0, it is at position 1.\n",
    "\"\"\"\n",
    "\n",
    "first_press_for_capsule(arrangement_example)"
   ]
  },
  {
   "cell_type": "code",
   "execution_count": 43,
   "metadata": {},
   "outputs": [
    {
     "data": {
      "text/plain": [
       "376777"
      ]
     },
     "execution_count": 43,
     "metadata": {},
     "output_type": "execute_result"
    }
   ],
   "source": [
    "arrangement_part_I = \"\"\"\n",
    "Disc #1 has 13 positions; at time=0, it is at position 1.\n",
    "Disc #2 has 19 positions; at time=0, it is at position 10.\n",
    "Disc #3 has 3 positions; at time=0, it is at position 2.\n",
    "Disc #4 has 7 positions; at time=0, it is at position 1.\n",
    "Disc #5 has 5 positions; at time=0, it is at position 3.\n",
    "Disc #6 has 17 positions; at time=0, it is at position 5.\n",
    "\"\"\"\n",
    "\n",
    "first_press_for_capsule(arrangement_part_I)"
   ]
  },
  {
   "cell_type": "markdown",
   "metadata": {},
   "source": [
    "<link href=\"style.css\" rel=\"stylesheet\"></link>\n",
    "<main>\n",
    "\n",
    "<p>Your puzzle answer was <code>376777</code>.</p><p class=\"day-success\">The first half of this puzzle is complete! It provides one gold star: *</p>\n",
    "<article class=\"day-desc\"><h2 id=\"part2\">--- Part Two ---</h2><p>After getting the first capsule (it contained a star! what great fortune!), the machine detects your success and begins to rearrange itself.</p>\n",
    "<p>When it's done, the discs are back in their original configuration as if it were <code>time=0</code> again, but a new disc with <code>11</code> positions and starting at position <code>0</code> has appeared exactly one second below the previously-bottom disc.</p>\n",
    "<p>With this new disc, and counting again starting from <code>time=0</code> with the configuration in your puzzle input, what is the <em>first time you can press the button</em> to get another capsule?</p>\n",
    "</article>\n",
    "\n",
    "</main>\n"
   ]
  },
  {
   "cell_type": "code",
   "execution_count": 44,
   "metadata": {},
   "outputs": [
    {
     "data": {
      "text/plain": [
       "85"
      ]
     },
     "execution_count": 44,
     "metadata": {},
     "output_type": "execute_result"
    }
   ],
   "source": [
    "arrangement_example_II = (\n",
    "    arrangement_example + \"Disc #3 has 11 positions; at time=0, it is at position 0\"\n",
    ")\n",
    "first_press_for_capsule(arrangement_example_II)"
   ]
  },
  {
   "cell_type": "code",
   "execution_count": 45,
   "metadata": {},
   "outputs": [
    {
     "data": {
      "text/plain": [
       "3903937"
      ]
     },
     "execution_count": 45,
     "metadata": {},
     "output_type": "execute_result"
    }
   ],
   "source": [
    "arrangement_part_II = (\n",
    "    arrangement_part_I + \"Disc #7 has 11 positions; at time=0, it is at position 0\"\n",
    ")\n",
    "first_press_for_capsule(arrangement_part_II)"
   ]
  },
  {
   "cell_type": "markdown",
   "metadata": {},
   "source": [
    "<link href=\"style.css\" rel=\"stylesheet\"></link>\n",
    "<main>\n",
    "\n",
    "<p>Your puzzle answer was <code>3903937</code>.</p><p class=\"day-success\">Both parts of this puzzle are complete! They provide two gold stars: **</p>\n",
    "\n",
    "</main>\n"
   ]
  },
  {
   "cell_type": "code",
   "execution_count": null,
   "metadata": {},
   "outputs": [],
   "source": []
  }
 ],
 "metadata": {
  "kernelspec": {
   "display_name": ".venv",
   "language": "python",
   "name": "python3"
  },
  "language_info": {
   "codemirror_mode": {
    "name": "ipython",
    "version": 3
   },
   "file_extension": ".py",
   "mimetype": "text/x-python",
   "name": "python",
   "nbconvert_exporter": "python",
   "pygments_lexer": "ipython3",
   "version": "3.12.0"
  }
 },
 "nbformat": 4,
 "nbformat_minor": 2
}
