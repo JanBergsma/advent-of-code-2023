{
 "cells": [
  {
   "cell_type": "code",
   "execution_count": 7,
   "metadata": {},
   "outputs": [],
   "source": [
    "# %matplotlib widget\n",
    "\n",
    "from __future__ import annotations\n",
    "\n",
    "import re\n",
    "from collections import defaultdict\n",
    "from dataclasses import dataclass, field\n",
    "from itertools import permutations, product\n",
    "from math import inf\n",
    "from random import choice\n",
    "\n",
    "import matplotlib.colors as mcolors\n",
    "import matplotlib.pyplot as plt\n",
    "import networkx as nx\n",
    "import numpy as np\n",
    "import numpy.typing as npt\n",
    "from mpl_toolkits.mplot3d import axes3d\n",
    "from numpy import int_, object_\n",
    "from numpy.typing import NDArray\n",
    "from test_utilities import run_tests_params\n",
    "from util import print_hex\n",
    "\n",
    "COLORS = list(mcolors.CSS4_COLORS.keys())"
   ]
  },
  {
   "cell_type": "markdown",
   "metadata": {},
   "source": [
    "<link href=\"style.css\" rel=\"stylesheet\"></link>\n",
    "<article class=\"day-desc\"><h2>--- Day 18: Like a Rogue ---</h2><p>As you enter this room, you hear a loud click! Some of the tiles in the floor here seem to be pressure plates for <a href=\"https://nethackwiki.com/wiki/Trap\">traps</a>, and the trap you just triggered has run out of... whatever it tried to do to you. You doubt you'll be so lucky next time.</p>\n",
    "<p>Upon closer examination, the traps and safe tiles in this room seem to follow a pattern. The tiles are arranged into rows that are all the same width; you take note of the safe tiles (<code>.</code>) and traps (<code>^</code>) in the first row (your puzzle input).</p>\n",
    "<p>The type of tile (trapped or safe) in each row is based on the types of the tiles in the same position, and to either side of that position, in the previous row. (If either side is off either end of the row, it counts as \"safe\" because there isn't a trap embedded in the wall.)</p>\n",
    "<p>For example, suppose you know the first row (with tiles marked by letters) and want to determine the next row (with tiles marked by numbers):</p>\n",
    "<pre><code>ABCDE\n",
    "12345\n",
    "</code></pre>\n",
    "<p>The type of tile <code>2</code> is based on the types of tiles <code>A</code>, <code>B</code>, and <code>C</code>; the type of tile <code>5</code> is based on tiles <code>D</code>, <code>E</code>, and an imaginary \"safe\" tile. Let's call these three tiles from the previous row the <em>left</em>, <em>center</em>, and <em>right</em> tiles, respectively. Then, a new tile is a <em>trap</em> only in one of the following situations:</p>\n",
    "<ul>\n",
    "<li>Its <em>left</em> and <em>center</em> tiles are traps, but its <em>right</em> tile is not.</li>\n",
    "<li>Its <em>center</em> and <em>right</em> tiles are traps, but its <em>left</em> tile is not.</li>\n",
    "<li>Only its <em>left</em> tile is a trap.</li>\n",
    "<li>Only its <em>right</em> tile is a trap.</li>\n",
    "</ul>\n",
    "<p>In any other situation, the new tile is safe.</p>\n",
    "<p>Then, starting with the row <code>..^^.</code>, you can determine the next row by applying those rules to each new tile:</p>\n",
    "<ul>\n",
    "<li>The leftmost character on the next row considers the left (nonexistent, so we assume \"safe\"), center (the first <code>.</code>, which means \"safe\"), and right (the second <code>.</code>, also \"safe\") tiles on the previous row. Because all of the trap rules require a trap in at least one of the previous three tiles, the first tile on this new row is also safe, <code>.</code>.</li>\n",
    "<li>The second character on the next row considers its left (<code>.</code>), center (<code>.</code>), and right (<code>^</code>) tiles from the previous row. This matches the fourth rule: only the right tile is a trap. Therefore, the next tile in this new row is a trap, <code>^</code>.</li>\n",
    "<li>The third character considers <code>.^^</code>, which matches the second trap rule: its center and right tiles are traps, but its left tile is not. Therefore, this tile is also a trap, <code>^</code>.</li>\n",
    "<li>The last two characters in this new row match the first and third rules, respectively, and so they are both also traps, <code>^</code>.</li>\n",
    "</ul>\n",
    "<p>After these steps, we now know the next row of tiles in the room: <code>.^^^^</code>. Then, we continue on to the next row, using the same rules, and get <code>^^..^</code>. After determining two new rows, our map looks like this:</p>\n",
    "<pre><code>..^^.\n",
    ".^^^^\n",
    "^^..^\n",
    "</code></pre>\n",
    "<p>Here's a larger example with ten tiles per row and ten rows:</p>\n",
    "<pre><code>.^^.^.^^^^\n",
    "^^^...^..^\n",
    "^.^^.^.^^.\n",
    "..^^...^^^\n",
    ".^^^^.^^.^\n",
    "^^..^.^^..\n",
    "^^^^..^^^.\n",
    "^..^^^^.^^\n",
    ".^^^..^.^^\n",
    "^^.^^^..^^\n",
    "</code></pre>\n",
    "<p>In ten rows, this larger example has <code>38</code> safe tiles.</p>\n",
    "<p>Starting with the map in your puzzle input, in a total of <code>40</code> rows (including the starting row), <em>how many safe tiles</em> are there?</p>\n",
    "</article>\n"
   ]
  },
  {
   "cell_type": "code",
   "execution_count": 36,
   "metadata": {},
   "outputs": [
    {
     "name": "stdout",
     "output_type": "stream",
     "text": [
      "\n",
      "\u001b[32mTest Example 1 passed, for count_save_tiles.\u001b[0m\n",
      "\u001b[32mTest Example 2 passed, for count_save_tiles.\u001b[0m\n",
      "\u001b[32mSuccess\u001b[0m\n"
     ]
    }
   ],
   "source": [
    "def count_save_tiles(starting_row: str, number_of_rows: int) -> int:\n",
    "    line = list(starting_row)\n",
    "    new_line = line[:]\n",
    "    n = len(line)\n",
    "    safe_tiles = line.count(\".\")\n",
    "\n",
    "    for _ in range(1, number_of_rows):\n",
    "        new_line[0] = \"^\" if line[1] == \"^\" else \".\"\n",
    "        new_line[-1] = \"^\" if line[-2] == \"^\" else \".\"\n",
    "\n",
    "        for i in range(1, n - 1):\n",
    "            new_line[i] = \"^\" if line[i - 1] != line[i + 1] else \".\"\n",
    "\n",
    "        line, new_line = new_line, line\n",
    "        safe_tiles += line.count(\".\")\n",
    "\n",
    "    return safe_tiles\n",
    "\n",
    "\n",
    "tests_shortest_path = [\n",
    "    {\n",
    "        \"name\": \"Example 1\",\n",
    "        \"starting_row\": \"..^^.\",\n",
    "        \"number_of_rows\": 3,\n",
    "        \"expected\": 6,\n",
    "    },\n",
    "    {\n",
    "        \"name\": \"Example 2\",\n",
    "        \"starting_row\": \".^^.^.^^^^\",\n",
    "        \"number_of_rows\": 10,\n",
    "        \"expected\": 38,\n",
    "    },\n",
    "]\n",
    "\n",
    "run_tests_params(count_save_tiles, tests_shortest_path)"
   ]
  },
  {
   "cell_type": "code",
   "execution_count": 37,
   "metadata": {},
   "outputs": [
    {
     "data": {
      "text/plain": [
       "1974"
      ]
     },
     "execution_count": 37,
     "metadata": {},
     "output_type": "execute_result"
    }
   ],
   "source": [
    "puzzle = \"^.....^.^^^^^.^..^^.^.......^^..^^^..^^^^..^.^^.^.^....^^...^^.^^.^...^^.^^^^..^^.....^.^...^.^.^^.^\"\n",
    "\n",
    "count_save_tiles(puzzle, 40)"
   ]
  },
  {
   "cell_type": "markdown",
   "metadata": {},
   "source": [
    "<link href=\"style.css\" rel=\"stylesheet\"></link>\n",
    "<main>\n",
    "\n",
    "<p>Your puzzle answer was <code>1974</code>.</p><p class=\"day-success\">The first half of this puzzle is complete! It provides one gold star: *</p>\n",
    "<article class=\"day-desc\"><h2 id=\"part2\">--- Part Two ---</h2><p><em>How many safe tiles</em> are there in a total of <span title=\"You feel a wrenching sensation.\"><code>400000</code> rows</span>?</p>\n",
    "</article>\n",
    "\n",
    "</main>\n"
   ]
  },
  {
   "cell_type": "code",
   "execution_count": 38,
   "metadata": {},
   "outputs": [
    {
     "data": {
      "text/plain": [
       "19991126"
      ]
     },
     "execution_count": 38,
     "metadata": {},
     "output_type": "execute_result"
    }
   ],
   "source": [
    "count_save_tiles(puzzle, 400_000)"
   ]
  },
  {
   "cell_type": "markdown",
   "metadata": {},
   "source": [
    "<link href=\"style.css\" rel=\"stylesheet\"></link>\n",
    "<main>\n",
    "<article><p>That's the right answer!  You are <span class=\"day-success\">one gold star</span> closer to fixing the sleigh.</p><p>You have completed Day 18! You can <span class=\"share\">[Share<span class=\"share-content\">on\n",
    "  <a href=\"https://twitter.com/intent/tweet?text=I+just+completed+%22Like+a+Rogue%22+%2D+Day+18+%2D+Advent+of+Code+2016&amp;url=https%3A%2F%2Fadventofcode%2Ecom%2F2016%2Fday%2F18&amp;related=ericwastl&amp;hashtags=AdventOfCode\" target=\"_blank\">Twitter</a>\n",
    "  <a href=\"javascript:void(0);\" onclick=\"var ms; try{ms=localStorage.getItem('mastodon.server')}finally{} if(typeof ms!=='string')ms=''; ms=prompt('Mastodon Server?',ms); if(typeof ms==='string' &amp;&amp; ms.length){this.href='https://'+ms+'/share?text=I+just+completed+%22Like+a+Rogue%22+%2D+Day+18+%2D+Advent+of+Code+2016+%23AdventOfCode+https%3A%2F%2Fadventofcode%2Ecom%2F2016%2Fday%2F18';try{localStorage.setItem('mastodon.server',ms);}finally{}}else{return false;}\" target=\"_blank\">Mastodon</a></span>]</span> this victory or <a href=\"/2016\">[Return to Your Advent Calendar]</a>.</p></article>\n",
    "</main>\n"
   ]
  },
  {
   "cell_type": "code",
   "execution_count": null,
   "metadata": {},
   "outputs": [],
   "source": []
  }
 ],
 "metadata": {
  "kernelspec": {
   "display_name": ".venv",
   "language": "python",
   "name": "python3"
  },
  "language_info": {
   "codemirror_mode": {
    "name": "ipython",
    "version": 3
   },
   "file_extension": ".py",
   "mimetype": "text/x-python",
   "name": "python",
   "nbconvert_exporter": "python",
   "pygments_lexer": "ipython3",
   "version": "3.12.0"
  }
 },
 "nbformat": 4,
 "nbformat_minor": 2
}
