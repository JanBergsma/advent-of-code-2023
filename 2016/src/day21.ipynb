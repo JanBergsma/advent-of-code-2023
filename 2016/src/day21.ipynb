{
 "cells": [
  {
   "cell_type": "code",
   "execution_count": 8,
   "metadata": {},
   "outputs": [],
   "source": [
    "# %matplotlib widget\n",
    "\n",
    "from __future__ import annotations\n",
    "\n",
    "import re\n",
    "from collections import defaultdict\n",
    "from dataclasses import dataclass, field\n",
    "from itertools import permutations, product\n",
    "from math import inf\n",
    "from random import choice\n",
    "\n",
    "import matplotlib.colors as mcolors\n",
    "import matplotlib.pyplot as plt\n",
    "import networkx as nx\n",
    "import numpy as np\n",
    "import numpy.typing as npt\n",
    "from mpl_toolkits.mplot3d import axes3d\n",
    "from numpy import int_, object_\n",
    "from numpy.typing import NDArray\n",
    "from test_utilities import run_tests_params\n",
    "from util import print_hex\n",
    "\n",
    "COLORS = list(mcolors.CSS4_COLORS.keys())"
   ]
  },
  {
   "cell_type": "markdown",
   "metadata": {},
   "source": [
    "<link href=\"style.css\" rel=\"stylesheet\"></link>\n",
    "<article class=\"day-desc\"><h2>--- Day 21: Scrambled Letters and Hash ---</h2><p>The computer system you're breaking into uses a <span title=\"I do not like them, Security-Account-Manager-I-Am! I do not like scrambled letters and hash!\">weird scrambling function</span> to store its passwords. It shouldn't be much trouble to create your own scrambled password so you can add it to the system; you just have to implement the scrambler.</p>\n",
    "<p>The scrambling function is a series of operations (the exact list is provided in your puzzle input). Starting with the password to be scrambled, apply each operation in succession to the string. The individual operations behave as follows:</p>\n",
    "<ul>\n",
    "<li><code>swap position X with position Y</code> means that the letters at indexes <code>X</code> and <code>Y</code> (counting from <code>0</code>) should be <em>swapped</em>.</li>\n",
    "<li><code>swap letter X with letter Y</code> means that the letters <code>X</code> and <code>Y</code> should be <em>swapped</em> (regardless of where they appear in the string).</li>\n",
    "<li><code>rotate left/right X steps</code> means that the whole string should be <em>rotated</em>; for example, one right rotation would turn <code>abcd</code> into <code>dabc</code>.</li>\n",
    "<li><code>rotate based on position of letter X</code> means that the whole string should be <em>rotated to the right</em> based on the <em>index</em> of letter <code>X</code> (counting from <code>0</code>) as determined <em>before</em> this instruction does any rotations.  Once the index is determined, rotate the string to the right one time, plus a number of times equal to that index, plus one additional time if the index was at least <code>4</code>.</li>\n",
    "<li><code>reverse positions X through Y</code> means that the span of letters at indexes <code>X</code> through <code>Y</code> (including the letters at <code>X</code> and <code>Y</code>) should be <em>reversed in order</em>.</li>\n",
    "<li><code>move position X to position Y</code> means that the letter which is at index <code>X</code> should be <em>removed</em> from the string, then <em>inserted</em> such that it ends up at index <code>Y</code>.</li>\n",
    "</ul>\n",
    "<p>For example, suppose you start with <code>abcde</code> and perform the following operations:</p>\n",
    "<ul>\n",
    "<li><code>swap position 4 with position 0</code> swaps the first and last letters, producing the input for the next step, <code>ebcda</code>.</li>\n",
    "<li><code>swap letter d with letter b</code> swaps the positions of <code>d</code> and <code>b</code>: <code>edcba</code>.</li>\n",
    "<li><code>reverse positions 0 through 4</code> causes the entire string to be reversed, producing <code>abcde</code>.</li>\n",
    "<li><code>rotate left 1 step</code> shifts all letters left one position, causing the first letter to wrap to the end of the string: <code>bcdea</code>.</li>\n",
    "<li><code>move position 1 to position 4</code> removes the letter at position <code>1</code> (<code>c</code>), then inserts it at position <code>4</code> (the end of the string): <code>bdeac</code>.</li>\n",
    "<li><code>move position 3 to position 0</code> removes the letter at position <code>3</code> (<code>a</code>), then inserts it at position <code>0</code> (the front of the string): <code>abdec</code>.</li>\n",
    "<li><code>rotate based on position of letter b</code> finds the index of letter <code>b</code> (<code>1</code>), then rotates the string right once plus a number of times equal to that index (<code>2</code>): <code>ecabd</code>.</li>\n",
    "<li><code>rotate based on position of letter d</code> finds the index of letter <code>d</code> (<code>4</code>), then rotates the string right once, plus a number of times equal to that index, plus an additional time because the index was at least <code>4</code>, for a total of <code>6</code> right rotations: <code>decab</code>.</li>\n",
    "</ul>\n",
    "<p>After these steps, the resulting scrambled password is <code>decab</code>.</p>\n",
    "<p>Now, you just need to generate a new scrambled password and you can access the system. Given the list of scrambling operations in your puzzle input, <em>what is the result of scrambling <code>abcdefgh</code></em>?</p>\n",
    "</article>\n"
   ]
  },
  {
   "cell_type": "code",
   "execution_count": 9,
   "metadata": {},
   "outputs": [
    {
     "data": {
      "text/plain": [
       "('decab', 'decab')"
      ]
     },
     "execution_count": 9,
     "metadata": {},
     "output_type": "execute_result"
    }
   ],
   "source": [
    "example_operations = \"\"\"\n",
    "swap position 4 with position 0\n",
    "swap letter d with letter b\n",
    "reverse positions 0 through 4\n",
    "rotate left 1 step\n",
    "move position 1 to position 4\n",
    "move position 3 to position 0\n",
    "rotate based on position of letter b\n",
    "rotate based on position of letter d\n",
    "\"\"\"\n",
    "\n",
    "password = \"abcde\"\n",
    "expected = \"decab\"\n",
    "\n",
    "\n",
    "def scramble(password: str, operations: str) -> str:\n",
    "    pw = list(password)\n",
    "\n",
    "    for line in operations.strip().splitlines():\n",
    "        if line.startswith(\"swap position\"):\n",
    "            # swap position X with position Y\n",
    "            x, y = map(int, re.findall(r\"\\d+\", line))\n",
    "            pw[x], pw[y] = pw[y], pw[x]\n",
    "        elif line.startswith(\"swap letter\"):\n",
    "            # swap letter X with letter Y\n",
    "            x, y = re.findall(r\"\\b[a-z]{1}\\b\", line)\n",
    "            xi = pw.index(x)\n",
    "            yi = pw.index(y)\n",
    "            pw[xi], pw[yi] = pw[yi], pw[xi]\n",
    "        elif line.startswith(\"rotate left\"):\n",
    "            # rotate left X steps\n",
    "            x, *_ = map(int, re.findall(r\"\\d+\", line))\n",
    "            pw = pw[x:] + pw[:x]\n",
    "        elif line.startswith(\"rotate right\"):\n",
    "            # rotate right X steps\n",
    "            x, *_ = map(int, re.findall(r\"\\d+\", line))\n",
    "            pw = pw[-x:] + pw[:-x]\n",
    "        elif line.startswith(\"rotate based\"):\n",
    "            # rotate based on position of letter X means\n",
    "            x, *_ = re.findall(r\"\\b[a-z]{1}\\b\", line)\n",
    "            xi = pw.index(x)\n",
    "            pw = pw[-xi - 1 :] + pw[: -xi - 1]\n",
    "            if xi > 3:\n",
    "                pw = pw[-1:] + pw[:-1]\n",
    "\n",
    "        elif line.startswith(\"reverse positions\"):\n",
    "            # reverse positions X through Y\n",
    "            x, y = map(int, re.findall(r\"\\d+\", line))\n",
    "            pw[x : y + 1] = pw[y : x - 1 : -1] if x else pw[y::-1]\n",
    "\n",
    "        elif line.startswith(\"move position\"):\n",
    "            # move position X to position Y\n",
    "            x, y = map(int, re.findall(r\"\\d+\", line))\n",
    "            l = pw.pop(x)\n",
    "            pw.insert(y, l)\n",
    "        else:\n",
    "            raise ValueError(f\"Unknown operations {line}.\")\n",
    "\n",
    "    return \"\".join(pw)\n",
    "\n",
    "\n",
    "scramble(password, example_operations), expected"
   ]
  },
  {
   "cell_type": "code",
   "execution_count": 10,
   "metadata": {},
   "outputs": [
    {
     "name": "stdout",
     "output_type": "stream",
     "text": [
      "Part I: bdfhgeca\n"
     ]
    }
   ],
   "source": [
    "with open(\"../input/day21.txt\") as f:\n",
    "    operations = f.read()\n",
    "\n",
    "\n",
    "print(\"Part I:\", scramble(\"abcdefgh\", operations))"
   ]
  },
  {
   "cell_type": "markdown",
   "metadata": {},
   "source": [
    "<link href=\"style.css\" rel=\"stylesheet\"></link>\n",
    "<main>\n",
    "\n",
    "<p>Your puzzle answer was <code>bdfhgeca</code>.</p><p class=\"day-success\">The first half of this puzzle is complete! It provides one gold star: *</p>\n",
    "<article class=\"day-desc\"><h2 id=\"part2\">--- Part Two ---</h2><p>You scrambled the password correctly, but you discover that you <a href=\"https://en.wikipedia.org/wiki/File_system_permissions\">can't actually modify</a> the <a href=\"https://en.wikipedia.org/wiki/Passwd\">password file</a> on the system. You'll need to un-scramble one of the existing passwords by reversing the scrambling process.</p>\n",
    "<p>What is the un-scrambled version of the scrambled password <code>fbgdceah</code>?</p>\n",
    "</article>\n",
    "\n",
    "</main>\n"
   ]
  },
  {
   "cell_type": "code",
   "execution_count": 13,
   "metadata": {},
   "outputs": [
    {
     "name": "stdout",
     "output_type": "stream",
     "text": [
      "abcde\n",
      "abcdefgh\n"
     ]
    }
   ],
   "source": [
    "def unscramble(scrambeled: str, operations: str):\n",
    "    pw = list(scrambeled)\n",
    "\n",
    "    for line in reversed(operations.strip().splitlines()):\n",
    "        if line.startswith(\"swap position\"):\n",
    "            # swap position X with position Y\n",
    "            x, y = map(int, re.findall(r\"\\d+\", line))\n",
    "            pw[x], pw[y] = pw[y], pw[x]\n",
    "        elif line.startswith(\"swap letter\"):\n",
    "            # swap letter X with letter Y\n",
    "            x, y = re.findall(r\"\\b[a-z]{1}\\b\", line)\n",
    "            xi = pw.index(x)\n",
    "            yi = pw.index(y)\n",
    "            pw[xi], pw[yi] = pw[yi], pw[xi]\n",
    "        elif line.startswith(\"rotate left\"):\n",
    "            # rotate left X steps\n",
    "            x, *_ = map(int, re.findall(r\"\\d+\", line))\n",
    "            pw = pw[-x:] + pw[:-x]\n",
    "        elif line.startswith(\"rotate right\"):\n",
    "            # rotate right X steps\n",
    "            x, *_ = map(int, re.findall(r\"\\d+\", line))\n",
    "            pw = pw[x:] + pw[:x]\n",
    "        elif line.startswith(\"rotate based\"):\n",
    "            # rotate based on position of letter X means\n",
    "            x, *_ = re.findall(r\"\\b[a-z]{1}\\b\", line)\n",
    "            xi = pw.index(x)\n",
    "\n",
    "            rotations = -1\n",
    "            if xi % 2:\n",
    "                rotations = -(xi + 1) // 2\n",
    "            elif xi:\n",
    "                rotations = (len(pw) - xi - 2) // 2\n",
    "\n",
    "            pw = pw[-rotations:] + pw[:-rotations]\n",
    "        elif line.startswith(\"reverse positions\"):\n",
    "            # reverse positions X through Y\n",
    "            x, y = map(int, re.findall(r\"\\d+\", line))\n",
    "            pw[x : y + 1] = pw[y : x - 1 : -1] if x else pw[y::-1]\n",
    "\n",
    "        elif line.startswith(\"move position\"):\n",
    "            # move position X to position Y\n",
    "            x, y = map(int, re.findall(r\"\\d+\", line))\n",
    "            l = pw.pop(y)\n",
    "            pw.insert(x, l)\n",
    "        else:\n",
    "            raise ValueError(f\"Unknown operations {line}.\")\n",
    "\n",
    "    return \"\".join(pw)\n",
    "\n",
    "\n",
    "print(unscramble(scramble(\"abcde\", example_operations), example_operations))\n",
    "print(unscramble(scramble(\"abcdefgh\", operations), operations))"
   ]
  },
  {
   "cell_type": "code",
   "execution_count": 14,
   "metadata": {},
   "outputs": [
    {
     "name": "stdout",
     "output_type": "stream",
     "text": [
      "Part II: gdfcabeh\n"
     ]
    }
   ],
   "source": [
    "print(\"Part II:\", unscramble(\"fbgdceah\", operations))"
   ]
  },
  {
   "cell_type": "markdown",
   "metadata": {},
   "source": [
    "<link href=\"style.css\" rel=\"stylesheet\"></link>\n",
    "\n",
    "<p>Your puzzle answer was <code>gdfcabeh</code>.</p><p class=\"day-success\">Both parts of this puzzle are complete! They provide two gold stars: **</p>\n"
   ]
  },
  {
   "cell_type": "code",
   "execution_count": null,
   "metadata": {},
   "outputs": [],
   "source": []
  }
 ],
 "metadata": {
  "kernelspec": {
   "display_name": ".venv",
   "language": "python",
   "name": "python3"
  },
  "language_info": {
   "codemirror_mode": {
    "name": "ipython",
    "version": 3
   },
   "file_extension": ".py",
   "mimetype": "text/x-python",
   "name": "python",
   "nbconvert_exporter": "python",
   "pygments_lexer": "ipython3",
   "version": "3.12.0"
  }
 },
 "nbformat": 4,
 "nbformat_minor": 2
}
