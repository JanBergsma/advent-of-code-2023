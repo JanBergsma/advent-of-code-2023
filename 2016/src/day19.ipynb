{
 "cells": [
  {
   "cell_type": "code",
   "execution_count": 1,
   "metadata": {},
   "outputs": [],
   "source": [
    "# %matplotlib widget\n",
    "\n",
    "from __future__ import annotations\n",
    "\n",
    "import re\n",
    "from collections import defaultdict\n",
    "from dataclasses import dataclass, field\n",
    "from itertools import permutations, product\n",
    "from math import inf\n",
    "from random import choice\n",
    "\n",
    "import matplotlib.colors as mcolors\n",
    "import matplotlib.pyplot as plt\n",
    "import networkx as nx\n",
    "import numpy as np\n",
    "import numpy.typing as npt\n",
    "from mpl_toolkits.mplot3d import axes3d\n",
    "from numpy import int_, object_\n",
    "from numpy.typing import NDArray\n",
    "from test_utilities import run_tests_params\n",
    "from util import print_hex\n",
    "\n",
    "COLORS = list(mcolors.CSS4_COLORS.keys())"
   ]
  },
  {
   "cell_type": "markdown",
   "metadata": {},
   "source": [
    "<link href=\"style.css\" rel=\"stylesheet\"></link>\n",
    "<article class=\"day-desc\"><h2>--- Day 19: An Elephant Named Joseph ---</h2><p>The Elves contact you over a highly secure emergency channel. Back at the North Pole, the Elves are busy <span title=\"Eggnoggedly misunderstanding them, actually.\">misunderstanding</span> <a href=\"https://en.wikipedia.org/wiki/White_elephant_gift_exchange\">White Elephant parties</a>.</p>\n",
    "<p>Each Elf brings a present. They all sit in a circle, numbered starting with position <code>1</code>. Then, starting with the first Elf, they take turns stealing all the presents from the Elf to their left.  An Elf with no presents is removed from the circle and does not take turns.</p>\n",
    "<p>For example, with five Elves (numbered <code>1</code> to <code>5</code>):</p>\n",
    "<pre><code>  1\n",
    "5   2\n",
    " 4 3\n",
    "</code></pre>\n",
    "<ul>\n",
    "<li>Elf <code>1</code> takes Elf <code>2</code>'s present.</li>\n",
    "<li>Elf <code>2</code> has no presents and is skipped.</li>\n",
    "<li>Elf <code>3</code> takes Elf <code>4</code>'s present.</li>\n",
    "<li>Elf <code>4</code> has no presents and is also skipped.</li>\n",
    "<li>Elf <code>5</code> takes Elf <code>1</code>'s two presents.</li>\n",
    "<li>Neither Elf <code>1</code> nor Elf <code>2</code> have any presents, so both are skipped.</li>\n",
    "<li>Elf <code>3</code> takes Elf <code>5</code>'s three presents.</li>\n",
    "</ul>\n",
    "<p>So, with <em>five</em> Elves, the Elf that sits starting in position <code>3</code> gets all the presents.</p>\n",
    "<p>With the number of Elves given in your puzzle input, <em>which Elf gets all the presents?</em></p>\n",
    "</article>\n"
   ]
  },
  {
   "cell_type": "code",
   "execution_count": 2,
   "metadata": {},
   "outputs": [
    {
     "name": "stdout",
     "output_type": "stream",
     "text": [
      "\n",
      "\u001b[32mTest Example 1 passed, for bassie_elf.\u001b[0m\n",
      "\u001b[32mTest Example 2 passed, for bassie_elf.\u001b[0m\n",
      "\u001b[32mTest Example 3 passed, for bassie_elf.\u001b[0m\n",
      "\u001b[32mTest Example 4 passed, for bassie_elf.\u001b[0m\n",
      "\u001b[32mSuccess\u001b[0m\n"
     ]
    }
   ],
   "source": [
    "from itertools import cycle\n",
    "\n",
    "\n",
    "def bassie_elf(number_of_elfs: int) -> int:\n",
    "    elfs = [1] * number_of_elfs\n",
    "\n",
    "    for turn in cycle(range(number_of_elfs)):\n",
    "        if elfs[turn]:\n",
    "            j = 1\n",
    "            while elfs[(turn + j) % number_of_elfs] == 0:\n",
    "                j += 1\n",
    "            elfs[turn] += elfs[(turn + j) % number_of_elfs]\n",
    "            elfs[(turn + j) % number_of_elfs] = 0\n",
    "\n",
    "            if elfs[turn] == number_of_elfs:\n",
    "                return turn + 1\n",
    "    return 0\n",
    "\n",
    "\n",
    "tests_bassie_elf = [\n",
    "    {\n",
    "        \"name\": \"Example 1\",\n",
    "        \"number_of_elfs\": 2,\n",
    "        \"expected\": 1,\n",
    "    },\n",
    "    {\n",
    "        \"name\": \"Example 2\",\n",
    "        \"number_of_elfs\": 3,\n",
    "        \"expected\": 3,\n",
    "    },\n",
    "    {\n",
    "        \"name\": \"Example 3\",\n",
    "        \"number_of_elfs\": 4,\n",
    "        \"expected\": 1,\n",
    "    },\n",
    "    {\n",
    "        \"name\": \"Example 4\",\n",
    "        \"number_of_elfs\": 5,\n",
    "        \"expected\": 3,\n",
    "    },\n",
    "]\n",
    "\n",
    "run_tests_params(bassie_elf, tests_bassie_elf)"
   ]
  },
  {
   "cell_type": "markdown",
   "metadata": {},
   "source": [
    "                         1\n",
    "                        /  \\\n",
    "                        \\  /\n",
    "                         2\n",
    "\n",
    "-1- 1 takes presents from 2\n",
    "Answer 1\n",
    "\n",
    "                         1\n",
    "                       /   \\\n",
    "                      3-----2\n",
    "\n",
    "-1- 1 takes presents from 2\n",
    "-2- 2 has no presents and will be skipped\n",
    "-3- 3 will take all presents from 1\n",
    "Answer 3\n",
    "\n",
    "                     1----2\n",
    "                     |    |\n",
    "                     4----3\n",
    "\n",
    "-1- 1 takes presents from 2\n",
    "-2- 2 has no presents and will be skipped\n",
    "-3- 3 will take all presents from 4\n",
    "-4- 4 has no presents and will be skipped\n",
    "-1- 1 will takes presents of 3\n",
    "Answer 1\n"
   ]
  },
  {
   "cell_type": "code",
   "execution_count": 3,
   "metadata": {},
   "outputs": [
    {
     "data": {
      "text/plain": [
       "1834903"
      ]
     },
     "execution_count": 3,
     "metadata": {},
     "output_type": "execute_result"
    }
   ],
   "source": [
    "bassie_elf(3014603)"
   ]
  },
  {
   "cell_type": "markdown",
   "metadata": {},
   "source": [
    "<link href=\"style.css\" rel=\"stylesheet\"></link>\n",
    "<main>\n",
    "\n",
    "<p>Your puzzle answer was <code>1834903</code>.</p><p class=\"day-success\">The first half of this puzzle is complete! It provides one gold star: *</p>\n",
    "<article class=\"day-desc\"><h2 id=\"part2\">--- Part Two ---</h2><p>Realizing the folly of their present-exchange rules, the Elves agree to instead steal presents from the Elf <em>directly across the circle</em>. If two Elves are across the circle, the one on the left (from the perspective of the stealer) is stolen from.  The other rules remain unchanged: Elves with no presents are removed from the circle entirely, and the other elves move in slightly to keep the circle evenly spaced.</p>\n",
    "<p>For example, with five Elves (again numbered <code>1</code> to <code>5</code>):</p>\n",
    "<ul>\n",
    "<li>The Elves sit in a circle; Elf <code>1</code> goes first:\n",
    "<pre><code>  <em>1</em>\n",
    "5   2\n",
    " 4 3\n",
    "</code></pre></li>\n",
    "<li>Elves <code>3</code> and <code>4</code> are across the circle; Elf <code>3</code>'s present is stolen, being the one to the left. Elf <code>3</code> leaves the circle, and the rest of the Elves move in:\n",
    "<pre><code>  <em>1</em>           1\n",
    "5   2  --&gt;  5   2\n",
    " 4 -          4\n",
    "</code></pre></li>\n",
    "<li>Elf <code>2</code> steals from the Elf directly across the circle, Elf <code>5</code>:\n",
    "<pre><code>  1         1 \n",
    "-   <em>2</em>  --&gt;     2\n",
    "  4         4 \n",
    "</code></pre></li>\n",
    "<li>Next is Elf <code>4</code> who, choosing between Elves <code>1</code> and <code>2</code>, steals from Elf <code>1</code>:\n",
    "<pre><code> -          2  \n",
    "    2  --&gt;\n",
    " <em>4</em>          4\n",
    "</code></pre></li>\n",
    "<li>Finally, Elf <code>2</code> steals from Elf <code>4</code>:\n",
    "<pre><code> <em>2</em>\n",
    "    --&gt;  2  \n",
    " -\n",
    "</code></pre></li>\n",
    "</ul>\n",
    "<p>So, with <em>five</em> Elves, the Elf that sits starting in position <code>2</code> gets all the presents.</p>\n",
    "<p>With the number of Elves given in your puzzle input, <em>which Elf now gets all the presents?</em></p>\n",
    "</article>\n",
    "\n",
    "</main>\n"
   ]
  },
  {
   "cell_type": "code",
   "execution_count": 4,
   "metadata": {},
   "outputs": [
    {
     "data": {
      "text/plain": [
       "2"
      ]
     },
     "execution_count": 4,
     "metadata": {},
     "output_type": "execute_result"
    }
   ],
   "source": [
    "def bassie_elf_II_too_slow(n: int) -> int:\n",
    "    elfs = list(range(1, n + 1))\n",
    "    presents = [1] * n\n",
    "\n",
    "    elf = 0\n",
    "    while len(elfs) > 1:\n",
    "        other_elf = (elf + len(elfs) // 2) % len(elfs)\n",
    "        presents[elf] += presents[other_elf]\n",
    "        elfs.pop(other_elf)\n",
    "        presents.pop(other_elf)\n",
    "        if other_elf < elf:\n",
    "            elf -= 1\n",
    "        elf = (elf + 1) % len(elfs)\n",
    "\n",
    "    return elfs[0]\n",
    "\n",
    "\n",
    "bassie_elf_II_too_slow(5)"
   ]
  },
  {
   "cell_type": "code",
   "execution_count": 5,
   "metadata": {},
   "outputs": [],
   "source": [
    "def highest_power_of_3(n):\n",
    "    option = 0\n",
    "    while 3**option <= n:\n",
    "        option += 1\n",
    "    return 3 ** (option - 1)\n",
    "\n",
    "\n",
    "def bassie_elf_II(n):\n",
    "    # https://oeis.org/A334473\n",
    "    x = highest_power_of_3(n)\n",
    "    if x == n:\n",
    "        return x\n",
    "    if n < 2 * x:\n",
    "        return n % x\n",
    "    return x + 2 * (n % x)\n",
    "\n",
    "\n",
    "assert all(bassie_elf_II(i) == bassie_elf_II_too_slow(i) for i in range(1, 101))"
   ]
  },
  {
   "cell_type": "code",
   "execution_count": 6,
   "metadata": {},
   "outputs": [
    {
     "data": {
      "text/plain": [
       "1420280"
      ]
     },
     "execution_count": 6,
     "metadata": {},
     "output_type": "execute_result"
    }
   ],
   "source": [
    "bassie_elf_II(3014603)"
   ]
  },
  {
   "cell_type": "markdown",
   "metadata": {},
   "source": [
    "<link href=\"style.css\" rel=\"stylesheet\"></link>\n",
    "\n",
    "<p>Your puzzle answer was <code>1420280</code>.</p><p class=\"day-success\">Both parts of this puzzle are complete! They provide two gold stars: **</p>\n"
   ]
  },
  {
   "cell_type": "code",
   "execution_count": null,
   "metadata": {},
   "outputs": [],
   "source": []
  }
 ],
 "metadata": {
  "kernelspec": {
   "display_name": ".venv",
   "language": "python",
   "name": "python3"
  },
  "language_info": {
   "codemirror_mode": {
    "name": "ipython",
    "version": 3
   },
   "file_extension": ".py",
   "mimetype": "text/x-python",
   "name": "python",
   "nbconvert_exporter": "python",
   "pygments_lexer": "ipython3",
   "version": "3.12.0"
  }
 },
 "nbformat": 4,
 "nbformat_minor": 2
}
