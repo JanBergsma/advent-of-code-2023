{
 "cells": [
  {
   "cell_type": "code",
   "execution_count": 1,
   "metadata": {},
   "outputs": [],
   "source": [
    "# %matplotlib widget\n",
    "\n",
    "from __future__ import annotations\n",
    "\n",
    "import re\n",
    "from collections import defaultdict\n",
    "from dataclasses import dataclass, field\n",
    "from itertools import permutations, product\n",
    "from math import inf\n",
    "from random import choice\n",
    "\n",
    "import matplotlib.colors as mcolors\n",
    "import matplotlib.pyplot as plt\n",
    "import networkx as nx\n",
    "import numpy as np\n",
    "import numpy.typing as npt\n",
    "from mpl_toolkits.mplot3d import axes3d\n",
    "from numpy import int_, object_\n",
    "from numpy.typing import NDArray\n",
    "from test_utilities import run_tests_params\n",
    "from util import print_hex\n",
    "\n",
    "COLORS = list(mcolors.CSS4_COLORS.keys())"
   ]
  },
  {
   "cell_type": "markdown",
   "metadata": {},
   "source": [
    "<link href=\"style.css\" rel=\"stylesheet\"></link>\n",
    "<article class=\"day-desc\"><h2>--- Day 17: Two Steps Forward ---</h2><p>You're trying to access a secure vault protected by a <code>4x4</code> grid of small rooms connected by doors. You start in the top-left room (marked <code>S</code>), and you can access the vault (marked <code>V</code>) once you reach the bottom-right room:</p>\n",
    "<pre><code>#########\n",
    "#S| | | #\n",
    "#-#-#-#-#\n",
    "# | | | #\n",
    "#-#-#-#-#\n",
    "# | | | #\n",
    "#-#-#-#-#\n",
    "# | | |  \n",
    "####### V\n",
    "</code></pre>\n",
    "<p>Fixed walls are marked with <code>#</code>, and doors are marked with <code>-</code> or <code>|</code>.</p>\n",
    "<p>The doors in your <em>current room</em> are either open or closed (and locked) based on the hexadecimal <a href=\"https://en.wikipedia.org/wiki/MD5\">MD5</a> hash of a passcode (your puzzle input) followed by a sequence of uppercase characters representing the <em>path you have taken so far</em> (<code>U</code> for up, <code>D</code> for down, <code>L</code> for left, and <code>R</code> for right).</p>\n",
    "<p>Only the first four characters of the hash are used; they represent, respectively, the doors <em>up, down, left, and right</em> from your current position. Any <code>b</code>, <code>c</code>, <code>d</code>, <code>e</code>, or <code>f</code> means that the corresponding door is <em>open</em>; any other character (any number or <code>a</code>) means that the corresponding door is <em>closed and locked</em>.</p>\n",
    "<p>To access the vault, all you need to do is reach the bottom-right room; reaching this room opens the vault and all doors in the maze.</p>\n",
    "<p>For example, suppose the passcode is <code>hijkl</code>. Initially, you have taken no steps, and so your path is empty: you simply find the MD5 hash of <code>hijkl</code> alone. The first four characters of this hash are <code>ced9</code>, which indicate that up is open (<code>c</code>), down is open (<code>e</code>), left is open (<code>d</code>), and right is closed and locked (<code>9</code>). Because you start in the top-left corner, there are no \"up\" or \"left\" doors to be open, so your only choice is <em>down</em>.</p>\n",
    "<p>Next, having gone only one step (down, or <code>D</code>), you find the hash of <code>hijkl<em>D</em></code>. This produces <code>f2bc</code>, which indicates that you can go back up, left (but that's a wall), or right. Going right means hashing <code>hijkl<em>DR</em></code> to get <code>5745</code> - all doors closed and locked. However, going <em>up</em> instead is worthwhile: even though it returns you to the room you started in, your path would then be <code>DU</code>, opening a <em>different set of doors</em>.</p>\n",
    "<p>After going <code>DU</code> (and then hashing <code>hijkl<em>DU</em></code> to get <code>528e</code>), only the right door is open; after going <code>DUR</code>, all doors lock. (Fortunately, your actual passcode is <span title=\"It took four days to rescue the engineer that tried this.\">not <code>hijkl</code></span>).</p>\n",
    "<p>Passcodes actually used by Easter Bunny Vault Security do allow access to the vault if you know the right path.  For example:</p>\n",
    "<ul>\n",
    "<li>If your passcode were <code>ihgpwlah</code>, the shortest path would be <code>DDRRRD</code>.</li>\n",
    "<li>With <code>kglvqrro</code>, the shortest path would be <code>DDUDRLRRUDRD</code>.</li>\n",
    "<li>With <code>ulqzkmiv</code>, the shortest would be <code>DRURDRUDDLLDLUURRDULRLDUUDDDRR</code>.</li>\n",
    "</ul>\n",
    "<p>Given your vault's passcode, <em>what is the shortest path</em> (the actual path, not just the length) to reach the vault?</p>\n",
    "</article>\n"
   ]
  },
  {
   "cell_type": "code",
   "execution_count": 2,
   "metadata": {},
   "outputs": [
    {
     "name": "stdout",
     "output_type": "stream",
     "text": [
      "\n",
      "\u001b[32mTest Example 1 passed, for shortest_path.\u001b[0m\n",
      "\u001b[32mTest Example 2 passed, for shortest_path.\u001b[0m\n",
      "\u001b[32mTest Example 3 passed, for shortest_path.\u001b[0m\n",
      "\u001b[32mTest Example 4 passed, for shortest_path.\u001b[0m\n",
      "\u001b[32mSuccess\u001b[0m\n"
     ]
    }
   ],
   "source": [
    "from collections import deque\n",
    "from hashlib import md5\n",
    "\n",
    "\n",
    "def shortest_path(key: str) -> str:\n",
    "    queue = deque([(0, 0, \"\")])\n",
    "\n",
    "    while queue:\n",
    "        r, c, path = queue.popleft()\n",
    "        if r == 3 and c == 3:\n",
    "            return path\n",
    "\n",
    "        doors = md5(f\"{key}{path}\".encode()).hexdigest()[:4]\n",
    "        if r - 1 >= 0 and doors[0] in \"bcdef\":\n",
    "            queue.append((r - 1, c, path + \"U\"))\n",
    "\n",
    "        if r + 1 < 4 and doors[1] in \"bcdef\":\n",
    "            queue.append((r + 1, c, path + \"D\"))\n",
    "\n",
    "        if c - 1 >= 0 and doors[2] in \"bcdef\":\n",
    "            queue.append((r, c - 1, path + \"L\"))\n",
    "\n",
    "        if c + 1 < 4 and doors[3] in \"bcdef\":\n",
    "            queue.append((r, c + 1, path + \"R\"))\n",
    "\n",
    "    return \"\"\n",
    "\n",
    "\n",
    "tests_shortest_path = [\n",
    "    {\n",
    "        \"name\": \"Example 1\",\n",
    "        \"key\": \"ihgpwlah\",\n",
    "        \"expected\": \"DDRRRD\",\n",
    "    },\n",
    "    {\n",
    "        \"name\": \"Example 2\",\n",
    "        \"key\": \"kglvqrro\",\n",
    "        \"expected\": \"DDUDRLRRUDRD\",\n",
    "    },\n",
    "    {\n",
    "        \"name\": \"Example 3\",\n",
    "        \"key\": \"ulqzkmiv\",\n",
    "        \"expected\": \"DRURDRUDDLLDLUURRDULRLDUUDDDRR\",\n",
    "    },\n",
    "    {\n",
    "        \"name\": \"Example 4\",\n",
    "        \"key\": \"hijkl\",\n",
    "        \"expected\": \"\",\n",
    "    },\n",
    "]\n",
    "\n",
    "run_tests_params(shortest_path, tests_shortest_path)"
   ]
  },
  {
   "cell_type": "code",
   "execution_count": 3,
   "metadata": {},
   "outputs": [
    {
     "data": {
      "text/plain": [
       "'DURLDRRDRD'"
      ]
     },
     "execution_count": 3,
     "metadata": {},
     "output_type": "execute_result"
    }
   ],
   "source": [
    "shortest_path(\"njfxhljp\")"
   ]
  },
  {
   "cell_type": "markdown",
   "metadata": {},
   "source": [
    "<link href=\"style.css\" rel=\"stylesheet\"></link>\n",
    "<main>\n",
    "\n",
    "<p>Your puzzle answer was <code>DURLDRRDRD</code>.</p><p class=\"day-success\">The first half of this puzzle is complete! It provides one gold star: *</p>\n",
    "<article class=\"day-desc\"><h2 id=\"part2\">--- Part Two ---</h2><p>You're curious how robust this security solution really is, and so you decide to find longer and longer paths which still provide access to the vault. You remember that paths always end the first time they reach the bottom-right room (that is, they can never pass through it, only end in it).</p>\n",
    "<p>For example:</p>\n",
    "<ul>\n",
    "<li>If your passcode were <code>ihgpwlah</code>, the longest path would take <code>370</code> steps.</li>\n",
    "<li>With <code>kglvqrro</code>, the longest path would be <code>492</code> steps long.</li>\n",
    "<li>With <code>ulqzkmiv</code>, the longest path would be <code>830</code> steps long.</li>\n",
    "</ul>\n",
    "<p></p>\n",
    "<p>What is the <em>length of the longest path</em> that reaches the vault?</p>\n",
    "</article>\n",
    "\n",
    "</main>\n"
   ]
  },
  {
   "cell_type": "code",
   "execution_count": 4,
   "metadata": {},
   "outputs": [
    {
     "name": "stdout",
     "output_type": "stream",
     "text": [
      "\n",
      "\u001b[32mTest Example 1 passed, for longest_path.\u001b[0m\n",
      "\u001b[32mTest Example 2 passed, for longest_path.\u001b[0m\n",
      "\u001b[32mTest Example 3 passed, for longest_path.\u001b[0m\n",
      "\u001b[32mTest Example 4 passed, for longest_path.\u001b[0m\n",
      "\u001b[32mSuccess\u001b[0m\n"
     ]
    }
   ],
   "source": [
    "def longest_path(key: str) -> int:\n",
    "    def dfs(r: int, c: int, path: str) -> int:\n",
    "        if r == 3 and c == 3:\n",
    "            return len(path)\n",
    "\n",
    "        maximum = 0\n",
    "        doors = md5(f\"{key}{path}\".encode()).hexdigest()[:4]\n",
    "\n",
    "        if r - 1 >= 0 and doors[0] in \"bcdef\":\n",
    "            maximum = max(maximum, dfs(r - 1, c, path + \"U\"))\n",
    "\n",
    "        if r + 1 < 4 and doors[1] in \"bcdef\":\n",
    "            maximum = max(maximum, dfs(r + 1, c, path + \"D\"))\n",
    "\n",
    "        if c - 1 >= 0 and doors[2] in \"bcdef\":\n",
    "            maximum = max(maximum, dfs(r, c - 1, path + \"L\"))\n",
    "\n",
    "        if c + 1 < 4 and doors[3] in \"bcdef\":\n",
    "            maximum = max(maximum, dfs(r, c + 1, path + \"R\"))\n",
    "\n",
    "        return maximum\n",
    "\n",
    "    return dfs(0, 0, \"\")\n",
    "\n",
    "\n",
    "tests_longest_path = [\n",
    "    {\n",
    "        \"name\": \"Example 1\",\n",
    "        \"key\": \"ihgpwlah\",\n",
    "        \"expected\": 370,\n",
    "    },\n",
    "    {\n",
    "        \"name\": \"Example 2\",\n",
    "        \"key\": \"kglvqrro\",\n",
    "        \"expected\": 492,\n",
    "    },\n",
    "    {\n",
    "        \"name\": \"Example 3\",\n",
    "        \"key\": \"ulqzkmiv\",\n",
    "        \"expected\": 830,\n",
    "    },\n",
    "    {\n",
    "        \"name\": \"Example 4\",\n",
    "        \"key\": \"hijkl\",\n",
    "        \"expected\": 0,\n",
    "    },\n",
    "]\n",
    "\n",
    "run_tests_params(longest_path, tests_longest_path)"
   ]
  },
  {
   "cell_type": "code",
   "execution_count": 5,
   "metadata": {},
   "outputs": [
    {
     "data": {
      "text/plain": [
       "650"
      ]
     },
     "execution_count": 5,
     "metadata": {},
     "output_type": "execute_result"
    }
   ],
   "source": [
    "longest_path(\"njfxhljp\")"
   ]
  },
  {
   "cell_type": "markdown",
   "metadata": {},
   "source": [
    "<link href=\"style.css\" rel=\"stylesheet\"></link>\n",
    "<main>\n",
    "\n",
    "<p>Your puzzle answer was <code>650</code>.</p><p class=\"day-success\">Both parts of this puzzle are complete! They provide two gold stars: **</p>\n",
    "<p>At this point, you should <a href=\"/2016\">return to your Advent calendar</a> and try another puzzle.</p>\n",
    "\n",
    "</main>\n"
   ]
  },
  {
   "cell_type": "code",
   "execution_count": null,
   "metadata": {},
   "outputs": [],
   "source": []
  }
 ],
 "metadata": {
  "kernelspec": {
   "display_name": ".venv",
   "language": "python",
   "name": "python3"
  },
  "language_info": {
   "codemirror_mode": {
    "name": "ipython",
    "version": 3
   },
   "file_extension": ".py",
   "mimetype": "text/x-python",
   "name": "python",
   "nbconvert_exporter": "python",
   "pygments_lexer": "ipython3",
   "version": "3.12.0"
  }
 },
 "nbformat": 4,
 "nbformat_minor": 2
}
