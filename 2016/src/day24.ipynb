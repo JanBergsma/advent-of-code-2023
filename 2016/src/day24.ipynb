{
 "cells": [
  {
   "cell_type": "code",
   "execution_count": 1,
   "metadata": {},
   "outputs": [],
   "source": [
    "# %matplotlib widget\n",
    "\n",
    "from __future__ import annotations\n",
    "\n",
    "import re\n",
    "from collections import defaultdict\n",
    "from dataclasses import dataclass, field\n",
    "from itertools import permutations, product\n",
    "from math import inf\n",
    "from random import choice\n",
    "\n",
    "import matplotlib.colors as mcolors\n",
    "import matplotlib.pyplot as plt\n",
    "import networkx as nx\n",
    "import numpy as np\n",
    "import numpy.typing as npt\n",
    "from mpl_toolkits.mplot3d import axes3d\n",
    "from numpy import int_, object_\n",
    "from numpy.typing import NDArray\n",
    "from test_utilities import run_tests_params\n",
    "from util import print_hex\n",
    "\n",
    "COLORS = list(mcolors.CSS4_COLORS.keys())"
   ]
  },
  {
   "cell_type": "markdown",
   "metadata": {},
   "source": [
    "<link href=\"style.css\" rel=\"stylesheet\"></link>\n",
    "<article class=\"day-desc read-aloud\"><h2>--- Day 24: Air Duct Spelunking ---</h2><p>You've finally met your match; the doors that provide access to the roof are locked tight, and all of the controls and related electronics are inaccessible. You simply can't reach them.</p>\n",
    "<p>The robot that cleans the air ducts, however, <em>can</em>.</p>\n",
    "<p>It's not a very fast <span title=\"The Brave Little Air Duct Cleaning Robot That Could\">little robot</span>, but you reconfigure it to be able to interface with some of the exposed wires that have been routed through the <a href=\"https://en.wikipedia.org/wiki/HVAC\">HVAC</a> system. If you can direct it to each of those locations, you should be able to bypass the security controls.</p>\n",
    "<p>You extract the duct layout for this area from some blueprints you acquired and create a map with the relevant locations marked (your puzzle input). <code>0</code> is your current location, from which the cleaning robot embarks; the other numbers are (in <em>no particular order</em>) the locations the robot needs to visit at least once each. Walls are marked as <code>#</code>, and open passages are marked as <code>.</code>. Numbers behave like open passages.</p>\n",
    "<p>For example, suppose you have a map like the following:</p>\n",
    "<pre><code>###########\n",
    "#0.1.....2#\n",
    "#.#######.#\n",
    "#4.......3#\n",
    "###########\n",
    "</code></pre>\n",
    "<p>To reach all of the points of interest as quickly as possible, you would have the robot take the following path:</p>\n",
    "<ul>\n",
    "<li><code>0</code> to <code>4</code> (<code>2</code> steps)</li>\n",
    "<li><code>4</code> to <code>1</code> (<code>4</code> steps; it can't move diagonally)</li>\n",
    "<li><code>1</code> to <code>2</code> (<code>6</code> steps)</li>\n",
    "<li><code>2</code> to <code>3</code> (<code>2</code> steps)</li>\n",
    "</ul>\n",
    "<p>Since the robot isn't very fast, you need to find it the <em>shortest route</em>. This path is the fewest steps (in the above example, a total of <code>14</code>) required to start at <code>0</code> and then visit every other location at least once.</p>\n",
    "<p>Given your actual map, and starting from location <code>0</code>, what is the <em>fewest number of steps</em> required to visit every non-<code>0</code> number marked on the map at least once?</p>\n",
    "</article>\n"
   ]
  },
  {
   "cell_type": "code",
   "execution_count": 2,
   "metadata": {},
   "outputs": [
    {
     "name": "stdout",
     "output_type": "stream",
     "text": [
      "example_I :  14\n",
      "example_II:  26\n"
     ]
    }
   ],
   "source": [
    "from collections import deque\n",
    "from curses.ascii import isdigit\n",
    "from tabulate import tabulate\n",
    "\n",
    "\n",
    "example_I = \"\"\"\n",
    "###########\n",
    "#0.1.....2#\n",
    "#.#######.#\n",
    "#4.......3#\n",
    "###########\n",
    "\"\"\"\n",
    "# [\n",
    "#     (1, 1), (2, 1), (3, 1), (2, 1), (1, 1),\n",
    "#     (1, 2), (1, 3), (1, 4), (1, 5), (1, 6),\n",
    "#     (1, 7), (1, 8), (1, 9), (2, 9),\n",
    "# ]\n",
    "\n",
    "\n",
    "example_II = \"\"\"\n",
    "###########\n",
    "#0.1.....2#\n",
    "#.#########\n",
    "#4.......3#\n",
    "###########\n",
    "\"\"\"\n",
    "# [\n",
    "#     (1, 1), (1, 2), (1, 3), (1, 4), (1, 5),\n",
    "#     (1, 6), (1, 7), (1, 8), (1, 9), (1, 8),\n",
    "#     (1, 7), (1, 6), (1, 5), (1, 4), (1, 3),\n",
    "#     (1, 2), (1, 1), (2, 1), (3, 1), (3, 2),\n",
    "#     (3, 3), (3, 4), (3, 5), (3, 6), (3, 7),\n",
    "#     (3, 8),\n",
    "# ]\n",
    "\n",
    "\n",
    "def minimal_steps(grst: str, go_back: bool = False) -> int:\n",
    "    grid = [list(line) for line in grst.strip().splitlines()]\n",
    "    rows, cols = len(grid), len(grid[0])\n",
    "    numbers = {\n",
    "        grid[r][c]: (r, c)\n",
    "        for r, c in product(range(rows), range(cols))\n",
    "        if grid[r][c].isdigit()\n",
    "    }\n",
    "    visited = set()\n",
    "\n",
    "    queue = deque([(numbers[\"0\"], list(numbers.keys()), [])])\n",
    "\n",
    "    while queue:\n",
    "        (r, c), notseen, path = queue.popleft()\n",
    "\n",
    "        if grid[r][c].isdigit() and grid[r][c] in notseen:\n",
    "            notseen.remove(grid[r][c])\n",
    "\n",
    "        if not notseen and (not go_back or (r, c) == numbers[\"0\"]):\n",
    "            return len(path)\n",
    "\n",
    "        to_be_hashed = (r, c, tuple(notseen), path[-1] if path else None)\n",
    "        if to_be_hashed in visited:\n",
    "            continue\n",
    "\n",
    "        visited.add(to_be_hashed)\n",
    "\n",
    "        taken = False\n",
    "        for d_r, d_c in ((-1, 0), (0, 1), (1, 0), (0, -1)):\n",
    "            if (\n",
    "                0 <= r + d_r < rows\n",
    "                and 0 <= c + d_c < cols\n",
    "                and grid[r + d_r][c + d_c] != \"#\"\n",
    "                and (not path or grid[r][c].isdigit() or (r + d_r, c + d_c) != path[-1])\n",
    "            ):\n",
    "                taken = True\n",
    "                queue.append(\n",
    "                    (\n",
    "                        (r + d_r, c + d_c),\n",
    "                        list(notseen),\n",
    "                        path + [(r, c)],\n",
    "                    )\n",
    "                )\n",
    "\n",
    "        if not taken:\n",
    "            queue.append(\n",
    "                (\n",
    "                    path[-1],\n",
    "                    list(notseen),\n",
    "                    path + [(r, c)],\n",
    "                )\n",
    "            )\n",
    "\n",
    "\n",
    "print(\"example_I : \", minimal_steps(example_I))\n",
    "print(\"example_II: \", minimal_steps(example_II))"
   ]
  },
  {
   "cell_type": "code",
   "execution_count": 3,
   "metadata": {},
   "outputs": [
    {
     "data": {
      "text/plain": [
       "474"
      ]
     },
     "execution_count": 3,
     "metadata": {},
     "output_type": "execute_result"
    }
   ],
   "source": [
    "with open(\"../input/day24.txt\") as f:\n",
    "    part_I = f.read()\n",
    "\n",
    "minimal_steps(part_I)"
   ]
  },
  {
   "cell_type": "markdown",
   "metadata": {},
   "source": [
    "<link href=\"style.css\" rel=\"stylesheet\"></link>\n",
    "<main>\n",
    "\n",
    "<p>Your puzzle answer was <code>474</code>.</p><p class=\"day-success\">The first half of this puzzle is complete! It provides one gold star: *</p>\n",
    "<article class=\"day-desc\"><h2 id=\"part2\">--- Part Two ---</h2><p>Of course, if you leave the cleaning robot somewhere weird, someone is bound to notice.</p>\n",
    "<p>What is the fewest number of steps required to start at <code>0</code>, visit every non-<code>0</code> number marked on the map at least once, and then <em>return to <code>0</code></em>?</p>\n",
    "</article>\n",
    "\n",
    "</main>\n"
   ]
  },
  {
   "cell_type": "code",
   "execution_count": 4,
   "metadata": {},
   "outputs": [
    {
     "name": "stdout",
     "output_type": "stream",
     "text": [
      "example_I :  20\n",
      "example_II:  36\n"
     ]
    }
   ],
   "source": [
    "print(\"example_I : \", minimal_steps(example_I, True))\n",
    "example_I = \"\"\"\n",
    "###########\n",
    "#0.1.....2#\n",
    "#.#######.#\n",
    "#4.......3#\n",
    "###########\n",
    "\"\"\"\n",
    "# [\n",
    "#     (1, 1), (1, 2), (1, 3), (1, 4), (1, 5),\n",
    "#     (1, 6), (1, 7), (1, 8), (1, 9), (2, 9),\n",
    "#     (3, 9), (3, 8), (3, 7), (3, 6), (3, 5),\n",
    "#     (3, 4), (3, 3), (3, 2), (3, 1), (2, 1),\n",
    "# ]\n",
    "\n",
    "\n",
    "print(\"example_II: \", minimal_steps(example_II, True))\n",
    "example_II = \"\"\"\n",
    "###########\n",
    "#0.1.....2#\n",
    "#.#########\n",
    "#4.......3#\n",
    "###########\n",
    "\"\"\"\n",
    "# [\n",
    "#     (1, 1), (1, 2), (1, 3), (1, 4), (1, 5), (1, 6),\n",
    "#     (1, 7), (1, 8), (1, 9), (1, 8), (1, 7), (1, 6),\n",
    "#     (1, 5), (1, 4), (1, 3), (1, 2), (1, 1), (2, 1),\n",
    "#     (3, 1), (3, 2), (3, 3), (3, 4), (3, 5), (3, 6),\n",
    "#     (3, 7), (3, 8), (3, 9), (3, 8), (3, 7), (3, 6),\n",
    "#     (3, 5), (3, 4), (3, 3), (3, 2), (3, 1), (2, 1)\n",
    "# ]"
   ]
  },
  {
   "cell_type": "code",
   "execution_count": 5,
   "metadata": {},
   "outputs": [
    {
     "data": {
      "text/plain": [
       "696"
      ]
     },
     "execution_count": 5,
     "metadata": {},
     "output_type": "execute_result"
    }
   ],
   "source": [
    "with open(\"../input/day24.txt\") as f:\n",
    "    part_I = f.read()\n",
    "\n",
    "minimal_steps(part_I, True)"
   ]
  },
  {
   "cell_type": "markdown",
   "metadata": {},
   "source": [
    "<link href=\"style.css\" rel=\"stylesheet\"></link>\n",
    "\n",
    "<p>Your puzzle answer was <code>696</code>.</p><p class=\"day-success\">Both parts of this puzzle are complete! They provide two gold stars: **</p>\n"
   ]
  },
  {
   "cell_type": "code",
   "execution_count": null,
   "metadata": {},
   "outputs": [],
   "source": []
  }
 ],
 "metadata": {
  "kernelspec": {
   "display_name": ".venv",
   "language": "python",
   "name": "python3"
  },
  "language_info": {
   "codemirror_mode": {
    "name": "ipython",
    "version": 3
   },
   "file_extension": ".py",
   "mimetype": "text/x-python",
   "name": "python",
   "nbconvert_exporter": "python",
   "pygments_lexer": "ipython3",
   "version": "3.12.0"
  }
 },
 "nbformat": 4,
 "nbformat_minor": 2
}
