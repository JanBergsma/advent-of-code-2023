{
 "cells": [
  {
   "cell_type": "code",
   "execution_count": 33,
   "metadata": {},
   "outputs": [],
   "source": [
    "# %matplotlib widget\n",
    "\n",
    "from __future__ import annotations\n",
    "\n",
    "import re\n",
    "from collections import defaultdict\n",
    "from dataclasses import dataclass, field\n",
    "from itertools import permutations, product\n",
    "from math import inf\n",
    "from random import choice\n",
    "\n",
    "import matplotlib.colors as mcolors\n",
    "import matplotlib.pyplot as plt\n",
    "import networkx as nx\n",
    "import numpy as np\n",
    "import numpy.typing as npt\n",
    "from mpl_toolkits.mplot3d import axes3d\n",
    "from numpy import int_, object_\n",
    "from numpy.typing import NDArray\n",
    "from test_utilities import run_tests_params\n",
    "from util import print_hex\n",
    "\n",
    "COLORS = list(mcolors.CSS4_COLORS.keys())"
   ]
  },
  {
   "cell_type": "markdown",
   "metadata": {},
   "source": [
    "<link href=\"style.css\" rel=\"stylesheet\"></link>\n",
    "<article class=\"day-desc\"><h2>--- Day 14: One-Time Pad ---</h2><p>In order to communicate securely with Santa while you're on this mission, you've been using a <a href=\"https://en.wikipedia.org/wiki/One-time_pad\">one-time pad</a> that you <a href=\"https://en.wikipedia.org/wiki/Security_through_obscurity\">generate</a> using a <span title=\"This also happens to be the plot of World War II.\">pre-agreed algorithm</span>. Unfortunately, you've run out of keys in your one-time pad, and so you need to generate some more.</p>\n",
    "<p>To generate keys, you first get a stream of random data by taking the <a href=\"https://en.wikipedia.org/wiki/MD5\">MD5</a> of a pre-arranged <a href=\"https://en.wikipedia.org/wiki/Salt_(cryptography)\">salt</a> (your puzzle input) and an increasing integer index (starting with <code>0</code>, and represented in decimal); the resulting MD5 hash should be represented as a string of <em>lowercase</em> hexadecimal digits.</p>\n",
    "<p>However, not all of these MD5 hashes are <em>keys</em>, and you need <code>64</code> new keys for your one-time pad.  A hash is a key <em>only if</em>:</p>\n",
    "<ul>\n",
    "<li>It contains <em>three</em> of the same character in a row, like <code>777</code>. Only consider the first such triplet in a hash.</li>\n",
    "<li>One of the next <code>1000</code> hashes in the stream contains that same character <em>five</em> times in a row, like <code>77777</code>.</li>\n",
    "</ul>\n",
    "<p>Considering future hashes for five-of-a-kind sequences does not cause those hashes to be skipped; instead, regardless of whether the current hash is a key, always resume testing for keys starting with the very next hash.</p>\n",
    "<p>For example, if the pre-arranged salt is <code>abc</code>:</p>\n",
    "<ul>\n",
    "<li>The first index which produces a triple is <code>18</code>, because the MD5 hash of <code>abc18</code> contains <code>...cc38887a5...</code>. However, index <code>18</code> does not count as a key for your one-time pad, because none of the next thousand hashes (index <code>19</code> through index <code>1018</code>) contain <code>88888</code>.</li>\n",
    "<li>The next index which produces a triple is <code>39</code>; the hash of <code>abc39</code> contains <code>eee</code>. It is also the first key: one of the next thousand hashes (the one at index 816) contains <code>eeeee</code>.</li>\n",
    "<li>None of the next six triples are keys, but the one after that, at index <code>92</code>, is: it contains <code>999</code> and index <code>200</code> contains <code>99999</code>.</li>\n",
    "<li>Eventually, index <code>22728</code> meets all of the criteria to generate the <code>64</code>th key.</li>\n",
    "</ul>\n",
    "<p>So, using our example salt of <code>abc</code>, index <code>22728</code> produces the <code>64</code>th key.</p>\n",
    "<p>Given the actual salt in your puzzle input, <em>what index</em> produces your <code>64</code>th one-time pad key?</p>\n",
    "</article>\n"
   ]
  },
  {
   "cell_type": "code",
   "execution_count": 34,
   "metadata": {},
   "outputs": [
    {
     "data": {
      "text/plain": [
       "(22728, '26ccc731a8706e0c4f979aeb341871f0')"
      ]
     },
     "execution_count": 34,
     "metadata": {},
     "output_type": "execute_result"
    }
   ],
   "source": [
    "from hashlib import md5\n",
    "from itertools import islice\n",
    "\n",
    "\n",
    "salt_example = \"abc\"\n",
    "\n",
    "\n",
    "def otps(salt: str) -> str:\n",
    "    three_in_a_row = re.compile(r\"(\\w)\\1{2,}\")\n",
    "    md5s = []\n",
    "\n",
    "    keys = []\n",
    "    i = 0\n",
    "\n",
    "    while len(keys) < 64:\n",
    "        if len(md5s) - i < 1000:\n",
    "            n = len(md5s)\n",
    "            md5s += [\n",
    "                md5((salt + f\"{i}\").encode()).hexdigest() for i in range(n, n + 1065)\n",
    "            ]\n",
    "        key = md5s[i]\n",
    "\n",
    "        m = re.search(three_in_a_row, key)\n",
    "        if m is not None and any(m[1] * 5 in k for k in islice(md5s, i + 1, i + 1001)):\n",
    "            keys.append((i, key))\n",
    "\n",
    "        i += 1\n",
    "\n",
    "    return keys\n",
    "\n",
    "\n",
    "otps(salt_example)[-1]"
   ]
  },
  {
   "cell_type": "code",
   "execution_count": 35,
   "metadata": {},
   "outputs": [
    {
     "data": {
      "text/plain": [
       "(35186, 'cbd6d5c46cb652f90412cb1973222226')"
      ]
     },
     "execution_count": 35,
     "metadata": {},
     "output_type": "execute_result"
    }
   ],
   "source": [
    "otps(\"jlmsuwbz\")[-1]"
   ]
  },
  {
   "cell_type": "markdown",
   "metadata": {},
   "source": [
    "<link href=\"style.css\" rel=\"stylesheet\"></link>\n",
    "<main>\n",
    "\n",
    "<p>Your puzzle answer was <code>35186</code>.</p><p class=\"day-success\">The first half of this puzzle is complete! It provides one gold star: *</p>\n",
    "<article class=\"day-desc\"><h2 id=\"part2\">--- Part Two ---</h2><p>Of course, in order to make this process <a href=\"https://en.wikipedia.org/wiki/MD5#Security\">even more secure</a>, you've also implemented <a href=\"https://en.wikipedia.org/wiki/Key_stretching\">key stretching</a>.</p>\n",
    "<p>Key stretching forces attackers to spend more time generating hashes. Unfortunately, it forces everyone else to spend more time, too.</p>\n",
    "<p>To implement key stretching, whenever you generate a hash, before you use it, you first find the MD5 hash of that hash, then the MD5 hash of <em>that</em> hash, and so on, a total of <em><code>2016</code> additional hashings</em>. Always use lowercase hexadecimal representations of hashes.</p>\n",
    "<p>For example, to find the stretched hash for index <code>0</code> and salt <code>abc</code>:</p>\n",
    "<ul>\n",
    "<li>Find the MD5 hash of <code>abc0</code>: <code>577571be4de9dcce85a041ba0410f29f</code>.</li>\n",
    "<li>Then, find the MD5 hash of that hash: <code>eec80a0c92dc8a0777c619d9bb51e910</code>.</li>\n",
    "<li>Then, find the MD5 hash of that hash: <code>16062ce768787384c81fe17a7a60c7e3</code>.</li>\n",
    "<li>...repeat many times...</li>\n",
    "<li>Then, find the MD5 hash of that hash: <code>a107ff634856bb300138cac6568c0f24</code>.</li>\n",
    "</ul>\n",
    "<p>So, the stretched hash for index <code>0</code> in this situation is <code>a107ff...</code>. In the end, you find the original hash (one use of MD5), then find the hash-of-the-previous-hash <code>2016</code> times, for a total of <code>2017</code> uses of MD5.</p>\n",
    "<p>The rest of the process remains the same, but now the keys are entirely different. Again for salt <code>abc</code>:</p>\n",
    "<ul>\n",
    "<li>The first triple (<code>222</code>, at index <code>5</code>) has no matching <code>22222</code> in the next thousand hashes.</li>\n",
    "<li>The second triple (<code>eee</code>, at index <code>10</code>) hash a matching <code>eeeee</code> at index <code>89</code>, and so it is the first key.</li>\n",
    "<li>Eventually, index <code>22551</code> produces the <code>64</code>th key (triple <code>fff</code> with matching <code>fffff</code> at index <code>22859</code>.</li>\n",
    "</ul>\n",
    "<p>Given the actual salt in your puzzle input and using <code>2016</code> extra MD5 calls of key stretching, <em>what index</em> now produces your <code>64</code>th one-time pad key?</p>\n",
    "</article>\n",
    "\n",
    "</main>\n"
   ]
  },
  {
   "cell_type": "code",
   "execution_count": 36,
   "metadata": {},
   "outputs": [
    {
     "data": {
      "text/plain": [
       "(22551, '2df6e9378c3c53abed6d3508b6285fff')"
      ]
     },
     "execution_count": 36,
     "metadata": {},
     "output_type": "execute_result"
    }
   ],
   "source": [
    "from hashlib import md5\n",
    "from itertools import islice\n",
    "\n",
    "\n",
    "salt_example = \"abc\"\n",
    "\n",
    "\n",
    "def otps_key_stretching(salt: str) -> str:\n",
    "    three_in_a_row = re.compile(r\"(\\w)\\1{2,}\")\n",
    "    md5s = []\n",
    "\n",
    "    keys = []\n",
    "    i = 0\n",
    "\n",
    "    while len(keys) < 64:\n",
    "        if len(md5s) - i < 1000:\n",
    "            n = len(md5s)\n",
    "            md5s += [hash(salt, i) for i in range(n, n + 1065)]\n",
    "        key = md5s[i]\n",
    "\n",
    "        m = re.search(three_in_a_row, key)\n",
    "        if m is not None and any(m[1] * 5 in k for k in islice(md5s, i + 1, i + 1001)):\n",
    "            keys.append((i, key))\n",
    "\n",
    "        i += 1\n",
    "\n",
    "    return keys\n",
    "\n",
    "\n",
    "def hash(salt, i):\n",
    "    key = md5((salt + f\"{i}\").encode())\n",
    "    for _ in range(2016):\n",
    "        key = md5(key.hexdigest().encode())\n",
    "    return key.hexdigest()\n",
    "\n",
    "\n",
    "otps_key_stretching(salt_example)[-1]"
   ]
  },
  {
   "cell_type": "code",
   "execution_count": 37,
   "metadata": {},
   "outputs": [
    {
     "data": {
      "text/plain": [
       "(22429, '922b7bd4af8e0dcc5a4ddd7eaef72569')"
      ]
     },
     "execution_count": 37,
     "metadata": {},
     "output_type": "execute_result"
    }
   ],
   "source": [
    "otps_key_stretching(\"jlmsuwbz\")[-1]"
   ]
  },
  {
   "cell_type": "markdown",
   "metadata": {},
   "source": [
    "<link href=\"style.css\" rel=\"stylesheet\"></link>\n",
    "<main>\n",
    "\n",
    "<p>Your puzzle answer was <code>22429</code>.</p><p class=\"day-success\">Both parts of this puzzle are complete! They provide two gold stars: **</p>\n",
    "<p>At this point, you should <a href=\"/2016\">return to your Advent calendar</a> and try another puzzle.</p>\n",
    "<p>Your puzzle input was <code class=\"puzzle-input\">jlmsuwbz</code>.</p>\n",
    "<p>You can also <span class=\"share\">[Share<span class=\"share-content\">on\n",
    "  <a href=\"https://twitter.com/intent/tweet?text=I%27ve+completed+%22One%2DTime+Pad%22+%2D+Day+14+%2D+Advent+of+Code+2016&amp;url=https%3A%2F%2Fadventofcode%2Ecom%2F2016%2Fday%2F14&amp;related=ericwastl&amp;hashtags=AdventOfCode\" target=\"_blank\">Twitter</a>\n",
    "  <a href=\"javascript:void(0);\" onclick=\"var ms; try{ms=localStorage.getItem('mastodon.server')}finally{} if(typeof ms!=='string')ms=''; ms=prompt('Mastodon Server?',ms); if(typeof ms==='string' &amp;&amp; ms.length){this.href='https://'+ms+'/share?text=I%27ve+completed+%22One%2DTime+Pad%22+%2D+Day+14+%2D+Advent+of+Code+2016+%23AdventOfCode+https%3A%2F%2Fadventofcode%2Ecom%2F2016%2Fday%2F14';try{localStorage.setItem('mastodon.server',ms);}finally{}}else{return false;}\" target=\"_blank\">Mastodon</a></span>]</span> this puzzle.</p>\n",
    "</main>\n"
   ]
  },
  {
   "cell_type": "markdown",
   "metadata": {},
   "source": []
  }
 ],
 "metadata": {
  "kernelspec": {
   "display_name": ".venv",
   "language": "python",
   "name": "python3"
  },
  "language_info": {
   "codemirror_mode": {
    "name": "ipython",
    "version": 3
   },
   "file_extension": ".py",
   "mimetype": "text/x-python",
   "name": "python",
   "nbconvert_exporter": "python",
   "pygments_lexer": "ipython3",
   "version": "3.12.0"
  }
 },
 "nbformat": 4,
 "nbformat_minor": 2
}
