{
 "cells": [
  {
   "cell_type": "code",
   "execution_count": 7,
   "metadata": {},
   "outputs": [],
   "source": [
    "# %matplotlib widget\n",
    "\n",
    "from __future__ import annotations\n",
    "\n",
    "import re\n",
    "from collections import defaultdict\n",
    "from dataclasses import dataclass, field\n",
    "from itertools import permutations, product\n",
    "from math import inf\n",
    "from random import choice\n",
    "\n",
    "import matplotlib.colors as mcolors\n",
    "import matplotlib.pyplot as plt\n",
    "import networkx as nx\n",
    "import numpy as np\n",
    "import numpy.typing as npt\n",
    "from mpl_toolkits.mplot3d import axes3d\n",
    "from numpy import int_, object_\n",
    "from numpy.typing import NDArray\n",
    "from test_utilities import run_tests_params\n",
    "from util import print_hex\n",
    "\n",
    "COLORS = list(mcolors.CSS4_COLORS.keys())"
   ]
  },
  {
   "cell_type": "markdown",
   "metadata": {},
   "source": [
    "<link href=\"style.css\" rel=\"stylesheet\"></link>\n",
    "\n",
    "<article class=\"day-desc read-aloud\"><h2>--- Day 10: Balance Bots ---</h2><p>You come upon a factory in which many robots are zooming around handing small microchips to each other.</p>\n",
    "\n",
    "<p>Upon closer examination, you notice that each bot only proceeds when it has <em>two</em> microchips, and once it does, it gives each one to a different bot or puts it in a marked \"output\" bin. Sometimes, bots take microchips from \"input\" bins, too.</p>\n",
    "<p>Inspecting one of the microchips, it seems like they each contain a single number; the bots must use some logic to decide what to do with each chip. You access the local control computer and download the bots' instructions (your puzzle input).</p>\n",
    "<p>Some of the instructions specify that a specific-valued microchip should be given to a specific bot; the rest of the instructions indicate what a given bot should do with its <em>lower-value</em> or <em>higher-value</em> chip.</p>\n",
    "<p>For example, consider the following instructions:</p>\n",
    "<pre><code>value 5 goes to bot 2\n",
    "bot 2 gives low to bot 1 and high to bot 0\n",
    "value 3 goes to bot 1\n",
    "bot 1 gives low to output 1 and high to bot 0\n",
    "bot 0 gives low to output 2 and high to output 0\n",
    "value 2 goes to bot 2\n",
    "</code></pre>\n",
    "<ul>\n",
    "<li>Initially, bot <code>1</code> starts with a value-<code>3</code> chip, and bot <code>2</code> starts with a value-<code>2</code> chip and a value-<code>5</code> chip.</li>\n",
    "<li>Because bot <code>2</code> has two microchips, it gives its lower one (<code>2</code>) to bot <code>1</code> and its higher one (<code>5</code>) to bot <code>0</code>.</li>\n",
    "<li>Then, bot <code>1</code> has two microchips; it puts the value-<code>2</code> chip in output <code>1</code> and gives the value-<code>3</code> chip to bot <code>0</code>.</li>\n",
    "<li>Finally, bot <code>0</code> has two microchips; it puts the <code>3</code> in output <code>2</code> and the <code>5</code> in output <code>0</code>.</li>\n",
    "</ul>\n",
    "<p>In the end, output bin <code>0</code> contains a value-<code>5</code> microchip, output bin <code>1</code> contains a value-<code>2</code> microchip, and output bin <code>2</code> contains a value-<code>3</code> microchip. In this configuration, bot number <em><code>2</code></em> is responsible for comparing value-<code>5</code> microchips with value-<code>2</code> microchips.</p>\n",
    "<p>Based on your instructions, <em>what is the number of the bot</em> that is responsible for comparing value-<code>61</code> microchips with value-<code>17</code> microchips?</p>\n",
    "</article>\n"
   ]
  },
  {
   "cell_type": "code",
   "execution_count": 10,
   "metadata": {},
   "outputs": [
    {
     "name": "stdout",
     "output_type": "stream",
     "text": [
      "bot 2\n"
     ]
    }
   ],
   "source": [
    "instructions = \"\"\"\n",
    "value 5 goes to bot 2\n",
    "bot 2 gives low to bot 1 and high to bot 0\n",
    "value 3 goes to bot 1\n",
    "bot 1 gives low to output 1 and high to bot 0\n",
    "bot 0 gives low to output 2 and high to output 0\n",
    "value 2 goes to bot 2\n",
    "\"\"\"\n",
    "\n",
    "\n",
    "def process(instructions: str, target: list[int]) -> dict[str, str]:\n",
    "    bots = {}\n",
    "    outputs = {}\n",
    "    the_bot = None\n",
    "    for line in instructions.strip().splitlines():\n",
    "        if line.startswith(\"bot\"):\n",
    "            bot_fr, *bots_to = re.findall(r\"\\w+ \\d+\", line)\n",
    "            if bot_fr not in bots:\n",
    "                bots[bot_fr] = {\"values\": []}\n",
    "            bots[bot_fr][\"to\"] = bots_to\n",
    "            outputs |= {bot: [] for bot in bots_to if bot.startswith(\"output\")}\n",
    "        else:\n",
    "            value, bot = re.findall(r\"\\w+ \\d+\", line)\n",
    "            if bot not in bots:\n",
    "                bots[bot] = {}\n",
    "            if \"values\" not in bots[bot]:\n",
    "                bots[bot][\"values\"] = []\n",
    "            bots[bot][\"values\"].append(int(value.split()[1]))\n",
    "            bots[bot][\"values\"].sort()\n",
    "\n",
    "    change = True\n",
    "    while change:\n",
    "        change = False\n",
    "        for bot in list(bots.keys()):\n",
    "            if len(bots[bot][\"values\"]) == 2:\n",
    "                if bots[bot][\"values\"] == target:\n",
    "                    the_bot = bot\n",
    "                change = True\n",
    "                v_low, v_high = bots[bot][\"values\"][:2]\n",
    "                bots[bot][\"values\"] = bots[bot][\"values\"][2:]\n",
    "                bot_low, bot_high = bots[bot][\"to\"]\n",
    "                if bot_low.startswith(\"bot\"):\n",
    "                    bots[bot_low][\"values\"].append(v_low)\n",
    "                    bots[bot_low][\"values\"] = (\n",
    "                        sorted(bots[bot_low][\"values\"][:2])\n",
    "                        + bots[bot_low][\"values\"][2:]\n",
    "                    )\n",
    "                else:\n",
    "                    outputs[bot_low].append(v_low)\n",
    "\n",
    "                if bot_high.startswith(\"bot\"):\n",
    "                    bots[bot_high][\"values\"].append(v_high)\n",
    "                    bots[bot_high][\"values\"] = (\n",
    "                        sorted(bots[bot_high][\"values\"][:2])\n",
    "                        + bots[bot_high][\"values\"][2:]\n",
    "                    )\n",
    "                else:\n",
    "                    outputs[bot_high].append(v_high)\n",
    "\n",
    "    return bots, outputs, the_bot\n",
    "\n",
    "\n",
    "bots, outputs, the_bot = process(instructions, [2, 5])\n",
    "# Initially,\n",
    "#       bot 1 starts with a value-3 chip, and\n",
    "#       bot 2 starts with a value-2 chip and a value-5 chip.\n",
    "# Because bot 2 has two microchips:\n",
    "#       it gives its lower one (2) to bot 1 and\n",
    "#       its higher one (5) to bot 0.\n",
    "# Then, bot 1 has two microchips;\n",
    "#       it puts the value-2 chip in output 1 and\n",
    "#       gives the value-3 chip to bot 0.\n",
    "# Finally, bot 0 has two microchips;\n",
    "#       it puts the 3 in output 2 and\n",
    "#       the 5 in output 0.\n",
    "print(the_bot)"
   ]
  },
  {
   "cell_type": "code",
   "execution_count": 14,
   "metadata": {},
   "outputs": [
    {
     "name": "stdout",
     "output_type": "stream",
     "text": [
      "Part I:  bot 27\n"
     ]
    }
   ],
   "source": [
    "with open(\"../input//day10.txt\") as f:\n",
    "    instructions_f = f.read()\n",
    "\n",
    "print(\"Part I: \", process(instructions_f, [17, 61])[2])"
   ]
  },
  {
   "cell_type": "markdown",
   "metadata": {},
   "source": [
    "<link href=\"style.css\" rel=\"stylesheet\"></link>\n",
    "<main>\n",
    "\n",
    "<p>Your puzzle answer was <code>27</code>.</p><p class=\"day-success\">The first half of this puzzle is complete! It provides one gold star: *</p>\n",
    "<article class=\"day-desc\"><h2 id=\"part2\">--- Part Two ---</h2><p><span title=\"What do you get if you multiply six by nine?\">What do you get</span> if you <em>multiply together the values</em> of one chip in each of outputs <code>0</code>, <code>1</code>, and <code>2</code>?</p>\n",
    "</article>\n",
    "\n",
    "</main>\n"
   ]
  },
  {
   "cell_type": "code",
   "execution_count": 27,
   "metadata": {},
   "outputs": [
    {
     "data": {
      "text/plain": [
       "13727"
      ]
     },
     "execution_count": 27,
     "metadata": {},
     "output_type": "execute_result"
    }
   ],
   "source": [
    "from math import prod\n",
    "\n",
    "\n",
    "_, outputs, _ = process(instructions_f, [17, 61])\n",
    "\n",
    "prod(prod(vs) for k, vs in outputs.items() if re.search(r\" [0-2]$\", k))"
   ]
  },
  {
   "cell_type": "markdown",
   "metadata": {},
   "source": [
    "<link href=\"style.css\" rel=\"stylesheet\"></link>\n",
    "<main>\n",
    "\n",
    "<p>Your puzzle answer was <code>13727</code>.</p><p class=\"day-success\">Both parts of this puzzle are complete! They provide two gold stars: **</p>\n",
    "<p>At this point, you should <a href=\"/2016\">return to your Advent calendar</a> and try another puzzle.</p>\n",
    "<p>If you still want to see it, you can <a href=\"10/input\" target=\"_blank\">get your puzzle input</a>.</p>\n",
    "<p>You can also <span class=\"share\">[Share<span class=\"share-content\">on\n",
    "  <a href=\"https://twitter.com/intent/tweet?text=I%27ve+completed+%22Balance+Bots%22+%2D+Day+10+%2D+Advent+of+Code+2016&amp;url=https%3A%2F%2Fadventofcode%2Ecom%2F2016%2Fday%2F10&amp;related=ericwastl&amp;hashtags=AdventOfCode\" target=\"_blank\">Twitter</a>\n",
    "  <a href=\"javascript:void(0);\" onclick=\"var ms; try{ms=localStorage.getItem('mastodon.server')}finally{} if(typeof ms!=='string')ms=''; ms=prompt('Mastodon Server?',ms); if(typeof ms==='string' &amp;&amp; ms.length){this.href='https://'+ms+'/share?text=I%27ve+completed+%22Balance+Bots%22+%2D+Day+10+%2D+Advent+of+Code+2016+%23AdventOfCode+https%3A%2F%2Fadventofcode%2Ecom%2F2016%2Fday%2F10';try{localStorage.setItem('mastodon.server',ms);}finally{}}else{return false;}\" target=\"_blank\">Mastodon</a></span>]</span> this puzzle.</p>\n",
    "</main>\n"
   ]
  },
  {
   "cell_type": "code",
   "execution_count": null,
   "metadata": {},
   "outputs": [],
   "source": []
  }
 ],
 "metadata": {
  "kernelspec": {
   "display_name": ".venv",
   "language": "python",
   "name": "python3"
  },
  "language_info": {
   "codemirror_mode": {
    "name": "ipython",
    "version": 3
   },
   "file_extension": ".py",
   "mimetype": "text/x-python",
   "name": "python",
   "nbconvert_exporter": "python",
   "pygments_lexer": "ipython3",
   "version": "3.12.0"
  }
 },
 "nbformat": 4,
 "nbformat_minor": 2
}
