{
 "cells": [
  {
   "cell_type": "code",
   "execution_count": 2,
   "metadata": {},
   "outputs": [],
   "source": [
    "# %matplotlib widget\n",
    "\n",
    "from __future__ import annotations\n",
    "\n",
    "import re\n",
    "from collections import defaultdict\n",
    "from dataclasses import dataclass, field\n",
    "from itertools import permutations, product\n",
    "from math import inf\n",
    "from random import choice\n",
    "\n",
    "import matplotlib.colors as mcolors\n",
    "import matplotlib.pyplot as plt\n",
    "import networkx as nx\n",
    "import numpy as np\n",
    "import numpy.typing as npt\n",
    "from mpl_toolkits.mplot3d import axes3d\n",
    "from numpy import int_, object_\n",
    "from numpy.typing import NDArray\n",
    "from test_utilities import run_tests_params\n",
    "from util import print_hex\n",
    "\n",
    "COLORS = list(mcolors.CSS4_COLORS.keys())"
   ]
  },
  {
   "cell_type": "markdown",
   "metadata": {},
   "source": [
    "<link href=\"style.css\" rel=\"stylesheet\"></link>\n",
    "<article class=\"day-desc read-aloud\"><h2>--- Day 1: No Time for a Taxicab ---</h2><p>Santa's sleigh uses a <span title=\"An atomic clock is too inaccurate; he might end up in a wall!\">very high-precision clock</span> to guide its movements, and the clock's oscillator is regulated by stars. Unfortunately, the stars have been stolen... by the Easter Bunny.  To save Christmas, Santa needs you to retrieve all <em class=\"star\">fifty stars</em> by December 25th.</p>\n",
    "<p>Collect stars by solving puzzles.  Two puzzles will be made available on each day in the Advent calendar; the second puzzle is unlocked when you complete the first.  Each puzzle grants <em class=\"star\">one star</em>. Good luck!</p>\n",
    "<p>You're airdropped near <em>Easter Bunny Headquarters</em> in a city somewhere.  \"Near\", unfortunately, is as close as you can get - the instructions on the Easter Bunny Recruiting Document the Elves intercepted start here, and nobody had time to work them out further.</p>\n",
    "<p>The Document indicates that you should start at the given coordinates (where you just landed) and face North.  Then, follow the provided sequence: either turn left (<code>L</code>) or right (<code>R</code>) 90 degrees, then walk forward the given number of blocks, ending at a new intersection.</p>\n",
    "<p>There's no time to follow such ridiculous instructions on foot, though, so you take a moment and work out the destination.  Given that you can only walk on the <a href=\"https://en.wikipedia.org/wiki/Taxicab_geometry\">street grid of the city</a>, how far is the shortest path to the destination?</p>\n",
    "<p>For example:</p>\n",
    "<ul>\n",
    "<li>Following <code>R2, L3</code> leaves you <code>2</code> blocks East and <code>3</code> blocks North, or <code>5</code> blocks away.</li>\n",
    "<li><code>R2, R2, R2</code> leaves you <code>2</code> blocks due South of your starting position, which is <code>2</code> blocks away.</li>\n",
    "<li><code>R5, L5, R5, R3</code> leaves you <code>12</code> blocks away.</li>\n",
    "</ul>\n",
    "<p><em>How many blocks away</em> is Easter Bunny HQ?</p>\n",
    "</article>\n"
   ]
  },
  {
   "cell_type": "code",
   "execution_count": 28,
   "metadata": {},
   "outputs": [
    {
     "name": "stdout",
     "output_type": "stream",
     "text": [
      "\n",
      "\u001b[32mTest Example 1 passed, for distance.\u001b[0m\n",
      "\u001b[32mTest Example 2 passed, for distance.\u001b[0m\n",
      "\u001b[32mTest Example 3 passed, for distance.\u001b[0m\n",
      "\u001b[32mTest Example 4 passed, for distance.\u001b[0m\n",
      "\u001b[32mSuccess\u001b[0m\n"
     ]
    }
   ],
   "source": [
    "tests = [\n",
    "    {\n",
    "        \"name\": \"Example 1\",\n",
    "        \"path\": \"R2, L3\",\n",
    "        \"expected\": 5,\n",
    "    },\n",
    "    {\n",
    "        \"name\": \"Example 2\",\n",
    "        \"path\": \"R2, R2, R2\",\n",
    "        \"expected\": 2,\n",
    "    },\n",
    "    {\n",
    "        \"name\": \"Example 3\",\n",
    "        \"path\": \"R5, L5, R5, R3\",\n",
    "        \"expected\": 12,\n",
    "    },\n",
    "    {\n",
    "        \"name\": \"Example 4\",\n",
    "        \"path\": \"R500, L1200\",\n",
    "        \"expected\": 1700,\n",
    "    },\n",
    "]\n",
    "\n",
    "\n",
    "def distance(path: str) -> int:\n",
    "    direction = [-1, 0]\n",
    "    position = [0, 0]\n",
    "    for step in re.split(r\",\\s+\", path):\n",
    "        turn, blocks = step[0], int(step[1:])\n",
    "        if direction == [-1, 0]:  # Nort\n",
    "            if turn == \"R\":\n",
    "                direction = [0, 1]  # East\n",
    "            else:  # turn == L\n",
    "                direction = [0, -1]  # West\n",
    "        elif direction == [0, 1]:  # East\n",
    "            if turn == \"R\":\n",
    "                direction = [1, 0]  # South\n",
    "            else:  # turn == L\n",
    "                direction = [-1, 0]  # North\n",
    "        elif direction == [1, 0]:  # South\n",
    "            if turn == \"R\":\n",
    "                direction = [0, -1]  # West\n",
    "            else:  # turn == L\n",
    "                direction = [0, 1]  # East\n",
    "        else:  # [0, -1] West\n",
    "            if turn == \"R\":\n",
    "                direction = [-1, 0]  # North\n",
    "            else:  # turn == L\n",
    "                direction = [1, 0]  # South\n",
    "\n",
    "        position = [p + blocks * d for p, d in zip(position, direction)]\n",
    "    return sum(abs(p) for p in position)\n",
    "\n",
    "\n",
    "run_tests_params(distance, tests)"
   ]
  },
  {
   "cell_type": "code",
   "execution_count": 29,
   "metadata": {},
   "outputs": [
    {
     "name": "stdout",
     "output_type": "stream",
     "text": [
      "301\n"
     ]
    }
   ],
   "source": [
    "with open(\"../input/day1.txt\") as f:\n",
    "    print(distance(f.read()))"
   ]
  },
  {
   "cell_type": "markdown",
   "metadata": {},
   "source": [
    "<link href=\"style.css\" rel=\"stylesheet\"></link>\n",
    "<main>\n",
    "\n",
    "<p>Your puzzle answer was <code>301</code>.</p><p class=\"day-success\">The first half of this puzzle is complete! It provides one gold star: *</p>\n",
    "<article class=\"day-desc\"><h2 id=\"part2\">--- Part Two ---</h2><p>Then, you notice the instructions continue on the back of the Recruiting Document.  Easter Bunny HQ is actually at the first location you visit twice.</p>\n",
    "<p>For example, if your instructions are <code>R8, R4, R4, R8</code>, the first location you visit twice is <code>4</code> blocks away, due East.</p>\n",
    "<p>How many blocks away is the <em>first location you visit twice</em>?</p>\n",
    "</article>\n",
    "\n",
    "</main>\n"
   ]
  },
  {
   "cell_type": "code",
   "execution_count": 34,
   "metadata": {},
   "outputs": [
    {
     "data": {
      "text/plain": [
       "4"
      ]
     },
     "execution_count": 34,
     "metadata": {},
     "output_type": "execute_result"
    }
   ],
   "source": [
    "def distance_first_loction_visited_twice(path: str) -> int:\n",
    "    direction = [-1, 0]\n",
    "    position = (0, 0)\n",
    "    visited = {position}\n",
    "    for step in re.split(r\",\\s+\", path):\n",
    "        turn, blocks = step[0], int(step[1:])\n",
    "        if direction == [-1, 0]:  # Nort\n",
    "            if turn == \"R\":\n",
    "                direction = [0, 1]  # East\n",
    "            else:  # turn == L\n",
    "                direction = [0, -1]  # West\n",
    "        elif direction == [0, 1]:  # East\n",
    "            if turn == \"R\":\n",
    "                direction = [1, 0]  # South\n",
    "            else:  # turn == L\n",
    "                direction = [-1, 0]  # North\n",
    "        elif direction == [1, 0]:  # South\n",
    "            if turn == \"R\":\n",
    "                direction = [0, -1]  # West\n",
    "            else:  # turn == L\n",
    "                direction = [0, 1]  # East\n",
    "        else:  # [0, -1] West\n",
    "            if turn == \"R\":\n",
    "                direction = [-1, 0]  # North\n",
    "            else:  # turn == L\n",
    "                direction = [1, 0]  # South\n",
    "\n",
    "        for _ in range(1, blocks + 1):\n",
    "            position = tuple(p + d for p, d in zip(position, direction))\n",
    "            if position in visited:\n",
    "                return sum(abs(p) for p in position)\n",
    "            visited.add(position)\n",
    "\n",
    "    return -1\n",
    "\n",
    "\n",
    "distance_first_loction_visited_twice(\"R8, R4, R4, R8\")"
   ]
  },
  {
   "cell_type": "code",
   "execution_count": 35,
   "metadata": {},
   "outputs": [
    {
     "name": "stdout",
     "output_type": "stream",
     "text": [
      "130\n"
     ]
    }
   ],
   "source": [
    "with open(\"../input/day1.txt\") as f:\n",
    "    print(distance_first_loction_visited_twice(f.read()))"
   ]
  },
  {
   "cell_type": "markdown",
   "metadata": {},
   "source": [
    "<link href=\"style.css\" rel=\"stylesheet\"></link>\n",
    "<main>\n",
    "\n",
    "<p>Your puzzle answer was <code>130</code>.</p><p class=\"day-success\">Both parts of this puzzle are complete! They provide two gold stars: **</p>\n",
    "<p>At this point, you should <a href=\"/2016\">return to your Advent calendar</a> and try another puzzle.</p>\n",
    "<p>If you still want to see it, you can <a href=\"1/input\" target=\"_blank\">get your puzzle input</a>.</p>\n",
    "<p>You can also <span class=\"share\">[Share<span class=\"share-content\">on\n",
    "  <a href=\"https://twitter.com/intent/tweet?text=I%27ve+completed+%22No+Time+for+a+Taxicab%22+%2D+Day+1+%2D+Advent+of+Code+2016&amp;url=https%3A%2F%2Fadventofcode%2Ecom%2F2016%2Fday%2F1&amp;related=ericwastl&amp;hashtags=AdventOfCode\" target=\"_blank\">Twitter</a>\n",
    "  <a href=\"javascript:void(0);\" onclick=\"var ms; try{ms=localStorage.getItem('mastodon.server')}finally{} if(typeof ms!=='string')ms=''; ms=prompt('Mastodon Server?',ms); if(typeof ms==='string' &amp;&amp; ms.length){this.href='https://'+ms+'/share?text=I%27ve+completed+%22No+Time+for+a+Taxicab%22+%2D+Day+1+%2D+Advent+of+Code+2016+%23AdventOfCode+https%3A%2F%2Fadventofcode%2Ecom%2F2016%2Fday%2F1';try{localStorage.setItem('mastodon.server',ms);}finally{}}else{return false;}\" target=\"_blank\">Mastodon</a></span>]</span> this puzzle.</p>\n",
    "</main>\n"
   ]
  },
  {
   "cell_type": "code",
   "execution_count": null,
   "metadata": {},
   "outputs": [],
   "source": []
  }
 ],
 "metadata": {
  "kernelspec": {
   "display_name": ".venv",
   "language": "python",
   "name": "python3"
  },
  "language_info": {
   "codemirror_mode": {
    "name": "ipython",
    "version": 3
   },
   "file_extension": ".py",
   "mimetype": "text/x-python",
   "name": "python",
   "nbconvert_exporter": "python",
   "pygments_lexer": "ipython3",
   "version": "3.12.0"
  }
 },
 "nbformat": 4,
 "nbformat_minor": 2
}
