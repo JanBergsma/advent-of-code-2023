{
 "cells": [
  {
   "cell_type": "code",
   "execution_count": 1,
   "metadata": {},
   "outputs": [],
   "source": [
    "# %matplotlib widget\n",
    "\n",
    "from __future__ import annotations\n",
    "\n",
    "import re\n",
    "from collections import defaultdict\n",
    "from dataclasses import dataclass, field\n",
    "from itertools import permutations, product\n",
    "from math import inf\n",
    "from random import choice\n",
    "\n",
    "import matplotlib.colors as mcolors\n",
    "import matplotlib.pyplot as plt\n",
    "import networkx as nx\n",
    "import numpy as np\n",
    "import numpy.typing as npt\n",
    "from mpl_toolkits.mplot3d import axes3d\n",
    "from numpy import int_, object_\n",
    "from numpy.typing import NDArray\n",
    "from test_utilities import run_tests_params\n",
    "from util import print_hex\n",
    "\n",
    "COLORS = list(mcolors.CSS4_COLORS.keys())"
   ]
  },
  {
   "cell_type": "markdown",
   "metadata": {},
   "source": [
    "<link href=\"style.css\" rel=\"stylesheet\"></link>\n",
    "<article class=\"day-desc read-aloud\"><h2>--- Day 4: Security Through Obscurity ---</h2><p>Finally, you come across an information kiosk with a list of rooms.  Of course, the list is encrypted and full of decoy data, but the instructions to decode the list are barely hidden nearby.  Better remove the decoy data first.</p>\n",
    "<p>Each room consists of an encrypted name (lowercase letters separated by dashes) followed by a dash, a sector ID, and a checksum in square brackets.</p>\n",
    "<p>A room is real (not a decoy) if the checksum is the five most common letters in the encrypted name, in order, with ties broken by alphabetization.  For example:</p>\n",
    "<ul>\n",
    "<li><code>aaaaa-bbb-z-y-x-123[abxyz]</code> is a real room because the most common letters are <code>a</code> (5), <code>b</code> (3), and then a tie between <code>x</code>, <code>y</code>, and <code>z</code>, which are listed alphabetically.</li>\n",
    "<li><code>a-b-c-d-e-f-g-h-987[abcde]</code> is a real room because although the letters are all tied (1 of each), the first five are listed alphabetically.</li>\n",
    "<li><code>not-a-real-room-404[oarel]</code> is a real room.</li>\n",
    "<li><code>totally-real-room-200[decoy]</code> is not.</li>\n",
    "</ul>\n",
    "<p>Of the real rooms from the list above, the sum of their sector IDs is <code>1514</code>.</p>\n",
    "<p>What is the <em>sum of the sector IDs of the real rooms</em>?</p>\n",
    "</article>\n"
   ]
  },
  {
   "cell_type": "code",
   "execution_count": 30,
   "metadata": {},
   "outputs": [],
   "source": [
    "from collections import Counter\n",
    "\n",
    "\n",
    "def is_real_room(room: str) -> bool:\n",
    "    text, cs = re.split(r\"\\d+\", room.replace(\"-\", \"\"))\n",
    "    cs = cs[1:-1]\n",
    "\n",
    "    count = Counter(text)\n",
    "    prev = inf\n",
    "    for l in cs:\n",
    "        if l not in count or count[l] > prev:\n",
    "            return False\n",
    "        prev = count.pop(l)\n",
    "    return all(v <= prev for v in count.values())\n",
    "\n",
    "\n",
    "assert is_real_room(\"aaaaa-bbb-z-y-x-123[abxyz]\")\n",
    "assert is_real_room(\"a-b-c-d-e-f-g-h-987[abcde]\")\n",
    "assert is_real_room(\"not-a-real-room-404[oarel]\")\n",
    "assert not is_real_room(\"totally-real-room-200[decoy]\")"
   ]
  },
  {
   "cell_type": "code",
   "execution_count": 40,
   "metadata": {},
   "outputs": [],
   "source": [
    "digest = \"\"\"\n",
    "aaaaa-bbb-z-y-x-123[abxyz]\n",
    "a-b-c-d-e-f-g-h-987[abcde]\n",
    "not-a-real-room-404[oarel]\n",
    "totally-real-room-200[decoy]\n",
    "\"\"\"\n",
    "\n",
    "\n",
    "def sum_of_sector_ids_real_rooms(digest: str) -> int:\n",
    "    return sum(\n",
    "        int(re.findall(r\"\\d+\", line)[0])\n",
    "        for line in digest.strip().splitlines()\n",
    "        if is_real_room(line)\n",
    "    )\n",
    "\n",
    "\n",
    "assert sum_of_sector_ids_real_rooms(digest) == 1514"
   ]
  },
  {
   "cell_type": "code",
   "execution_count": 43,
   "metadata": {},
   "outputs": [
    {
     "data": {
      "text/plain": [
       "158835"
      ]
     },
     "execution_count": 43,
     "metadata": {},
     "output_type": "execute_result"
    }
   ],
   "source": [
    "with open(\"../input/day4.txt\") as f:\n",
    "    digest_f = f.read()\n",
    "\n",
    "sum_of_sector_ids_real_rooms(digest_f)"
   ]
  },
  {
   "cell_type": "markdown",
   "metadata": {},
   "source": [
    "<link href=\"style.css\" rel=\"stylesheet\"></link>\n",
    "<main>\n",
    "\n",
    "<p>Your puzzle answer was <code>158835</code>.</p><p class=\"day-success\">The first half of this puzzle is complete! It provides one gold star: *</p>\n",
    "<article class=\"day-desc\"><h2 id=\"part2\">--- Part Two ---</h2><p>With all the decoy data out of the way, it's time to decrypt this list and get moving.</p>\n",
    "<p>The room names are encrypted by a state-of-the-art <a href=\"https://en.wikipedia.org/wiki/Caesar_cipher\">shift cipher</a>, which is nearly unbreakable without <span title=\"...or, like, half of a napkin.\">the right software</span>. However, the information kiosk designers at Easter Bunny HQ were not expecting to deal with a master cryptographer like yourself.</p>\n",
    "<p>To decrypt a room name, rotate each letter forward through the alphabet a number of times equal to the room's sector ID.  <code>A</code> becomes <code>B</code>, <code>B</code> becomes <code>C</code>, <code>Z</code> becomes <code>A</code>, and so on. Dashes become spaces.</p>\n",
    "<p>For example, the real name for <code>qzmt-zixmtkozy-ivhz-343</code> is <code>very encrypted name</code>.</p>\n",
    "<p><em>What is the sector ID</em> of the room where North Pole objects are stored?</p>\n",
    "</article>\n",
    "\n",
    "</main>\n"
   ]
  },
  {
   "cell_type": "code",
   "execution_count": 58,
   "metadata": {},
   "outputs": [
    {
     "data": {
      "text/plain": [
       "'very encrypted name'"
      ]
     },
     "execution_count": 58,
     "metadata": {},
     "output_type": "execute_result"
    }
   ],
   "source": [
    "e = \"qzmt-zixmtkozy-ivhz-343\"\n",
    "d = \"very encrypted name\"\n",
    "\n",
    "from string import ascii_lowercase as lw\n",
    "\n",
    "\n",
    "def decrypt(e: str) -> str:\n",
    "    n = len(lw)\n",
    "    sid = int(re.findall(r\"\\d+\", e)[0])\n",
    "    return \" \".join(\n",
    "        \"\".join(lw[(lw.find(l) + sid) % n] for l in w) for w in e.split(\"-\")[:-1]\n",
    "    )\n",
    "\n",
    "\n",
    "decrypt(e)"
   ]
  },
  {
   "cell_type": "code",
   "execution_count": 67,
   "metadata": {},
   "outputs": [
    {
     "name": "stdout",
     "output_type": "stream",
     "text": [
      "text='northpole object storage'\n",
      "line='ijmockjgz-jwezxo-nojmvbz-993[jozmb]'\n",
      "sid=993\n"
     ]
    }
   ],
   "source": [
    "for line in digest_f.strip().splitlines():\n",
    "    text = decrypt(line)\n",
    "    if \"northpole\" in text:\n",
    "        print(f\"{text=}\")\n",
    "        print(f\"{line=}\")\n",
    "        sid = int(re.findall(r\"\\d+\", line)[0])\n",
    "        print(f\"{sid=}\")"
   ]
  },
  {
   "cell_type": "markdown",
   "metadata": {},
   "source": [
    "<link href=\"style.css\" rel=\"stylesheet\"></link>\n",
    "<main>\n",
    "\n",
    "<p>Your puzzle answer was <code>993</code>.</p><p class=\"day-success\">Both parts of this puzzle are complete! They provide two gold stars: **</p>\n",
    "<p>At this point, you should <a href=\"/2016\">return to your Advent calendar</a> and try another puzzle.</p>\n",
    "<p>If you still want to see it, you can <a href=\"4/input\" target=\"_blank\">get your puzzle input</a>.</p>\n",
    "<p>You can also <span class=\"share\">[Share<span class=\"share-content\">on\n",
    "  <a href=\"https://twitter.com/intent/tweet?text=I%27ve+completed+%22Security+Through+Obscurity%22+%2D+Day+4+%2D+Advent+of+Code+2016&amp;url=https%3A%2F%2Fadventofcode%2Ecom%2F2016%2Fday%2F4&amp;related=ericwastl&amp;hashtags=AdventOfCode\" target=\"_blank\">Twitter</a>\n",
    "  <a href=\"javascript:void(0);\" onclick=\"var ms; try{ms=localStorage.getItem('mastodon.server')}finally{} if(typeof ms!=='string')ms=''; ms=prompt('Mastodon Server?',ms); if(typeof ms==='string' &amp;&amp; ms.length){this.href='https://'+ms+'/share?text=I%27ve+completed+%22Security+Through+Obscurity%22+%2D+Day+4+%2D+Advent+of+Code+2016+%23AdventOfCode+https%3A%2F%2Fadventofcode%2Ecom%2F2016%2Fday%2F4';try{localStorage.setItem('mastodon.server',ms);}finally{}}else{return false;}\" target=\"_blank\">Mastodon</a></span>]</span> this puzzle.</p>\n",
    "</main>\n"
   ]
  },
  {
   "cell_type": "code",
   "execution_count": null,
   "metadata": {},
   "outputs": [],
   "source": []
  }
 ],
 "metadata": {
  "kernelspec": {
   "display_name": ".venv",
   "language": "python",
   "name": "python3"
  },
  "language_info": {
   "codemirror_mode": {
    "name": "ipython",
    "version": 3
   },
   "file_extension": ".py",
   "mimetype": "text/x-python",
   "name": "python",
   "nbconvert_exporter": "python",
   "pygments_lexer": "ipython3",
   "version": "3.12.0"
  }
 },
 "nbformat": 4,
 "nbformat_minor": 2
}
