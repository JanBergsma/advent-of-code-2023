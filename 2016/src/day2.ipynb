{
 "cells": [
  {
   "cell_type": "code",
   "execution_count": 6,
   "metadata": {},
   "outputs": [],
   "source": [
    "# %matplotlib widget\n",
    "\n",
    "from __future__ import annotations\n",
    "\n",
    "import re\n",
    "from collections import defaultdict\n",
    "from dataclasses import dataclass, field\n",
    "from itertools import permutations, product\n",
    "from math import inf\n",
    "from random import choice\n",
    "\n",
    "import matplotlib.colors as mcolors\n",
    "import matplotlib.pyplot as plt\n",
    "import networkx as nx\n",
    "import numpy as np\n",
    "import numpy.typing as npt\n",
    "from mpl_toolkits.mplot3d import axes3d\n",
    "from numpy import int_, object_\n",
    "from numpy.typing import NDArray\n",
    "from test_utilities import run_tests_params\n",
    "from util import print_hex\n",
    "\n",
    "COLORS = list(mcolors.CSS4_COLORS.keys())"
   ]
  },
  {
   "cell_type": "markdown",
   "metadata": {},
   "source": [
    "<link href=\"style.css\" rel=\"stylesheet\"></link>\n",
    "<article class=\"day-desc\"><h2>--- Day 2: Bathroom Security ---</h2><p>You arrive at <em>Easter Bunny Headquarters</em> under cover of darkness. However, you left in such a rush that you forgot to use the bathroom! Fancy office buildings like this one usually have keypad locks on their bathrooms, so you search the front desk for the code.</p>\n",
    "<p>\"In order to improve security,\" the document you find says, \"bathroom codes will no longer be written down.  Instead, please memorize and follow the procedure below to access the bathrooms.\"</p>\n",
    "<p>The document goes on to explain that each button to be pressed can be found by starting on the previous button and moving to adjacent buttons on the keypad: <code>U</code> moves up, <code>D</code> moves down, <code>L</code> moves left, and <code>R</code> moves right. Each line of instructions corresponds to one button, starting at the previous button (or, for the first line, <em>the \"5\" button</em>); press whatever button you're on at the end of each line. If a move doesn't lead to a button, ignore it.</p>\n",
    "<p>You can't hold it much longer, so you decide to figure out the code as you walk to the bathroom. You picture a keypad like this:</p>\n",
    "<pre><code>1 2 3\n",
    "4 5 6\n",
    "7 8 9\n",
    "</code></pre>\n",
    "<p>Suppose your instructions are:</p>\n",
    "<pre><code>ULL\n",
    "RRDDD\n",
    "LURDL\n",
    "UUUUD\n",
    "</code></pre>\n",
    "<ul>\n",
    "<li>You start at \"5\" and move up (to \"2\"), left (to \"1\"), and left (you can't, and stay on \"1\"), so the first button is <code>1</code>.</li>\n",
    "<li>Starting from the previous button (\"1\"), you move right twice (to \"3\") and then down three times (stopping at \"9\" after two moves and ignoring the third), ending up with <code>9</code>.</li>\n",
    "<li>Continuing from \"9\", you move left, up, right, down, and left, ending with <code>8</code>.</li>\n",
    "<li>Finally, you move up four times (stopping at \"2\"), then down once, ending with <code>5</code>.</li>\n",
    "</ul>\n",
    "<p>So, in this example, the bathroom code is <code>1985</code>.</p>\n",
    "<p>Your puzzle input is the instructions from the document you found at the front desk. What is the <em>bathroom code</em>?</p>\n",
    "</article>\n"
   ]
  },
  {
   "cell_type": "code",
   "execution_count": 7,
   "metadata": {},
   "outputs": [],
   "source": [
    "instructions = \"\"\"\n",
    "ULL\n",
    "RRDDD\n",
    "LURDL\n",
    "UUUUD\n",
    "\"\"\"\n",
    "\n",
    "\n",
    "def decode(instructions: str) -> int:\n",
    "    keypad = [[s + d for d in range(3)] for s in range(1, 10, 3)]\n",
    "    code = 0\n",
    "    row, col = 1, 1\n",
    "    for line in instructions.strip().splitlines():\n",
    "        for inst in line.strip():\n",
    "            if inst == \"U\" and row - 1 > -1:  # U moves up,\n",
    "                row -= 1\n",
    "            elif inst == \"D\" and row + 1 < 3:  # D moves down,\n",
    "                row += 1\n",
    "            elif inst == \"L\" and col - 1 > -1:  # L moves left,\n",
    "                col -= 1\n",
    "            elif inst == \"R\" and col + 1 < 3:  # and R moves right\n",
    "                col += 1\n",
    "        code = 10 * code + keypad[row][col]\n",
    "    return code\n",
    "\n",
    "\n",
    "assert decode(instructions) == 1985"
   ]
  },
  {
   "cell_type": "code",
   "execution_count": 8,
   "metadata": {},
   "outputs": [
    {
     "name": "stdout",
     "output_type": "stream",
     "text": [
      "56855\n"
     ]
    }
   ],
   "source": [
    "with open(\"../input/day2.txt\") as f:\n",
    "    print(decode(f.read()))"
   ]
  },
  {
   "cell_type": "markdown",
   "metadata": {},
   "source": [
    "<link href=\"style.css\" rel=\"stylesheet\"></link>\n",
    "\n",
    "<main>\n",
    "\n",
    "<p>Your puzzle answer was <code>56855</code>.</p><p class=\"day-success\">The first half of this puzzle is complete! It provides one gold star: *</p>\n",
    "<article class=\"day-desc\"><h2 id=\"part2\">--- Part Two ---</h2><p>You finally arrive at the bathroom (it's a several minute walk from the lobby so visitors can behold the many fancy conference rooms and water coolers on this floor) and go to punch in the code.  Much to your bladder's dismay, the keypad is not at all like you imagined it.  Instead, you are confronted with the result of hundreds of man-hours of <span title=\"User Group 143 found a diamond shape to be the most environmentally friendly.\">bathroom-keypad-design meetings:</span></p>\n",
    "<pre><code>    1\n",
    "  2 3 4\n",
    "5 6 7 8 9\n",
    "  A B C\n",
    "    D\n",
    "</code></pre>\n",
    "<p>You still start at \"5\" and stop when you're at an edge, but given the same instructions as above, the outcome is very different:</p>\n",
    "<ul>\n",
    "<li>You start at \"5\" and don't move at all (up and left are both edges), ending at <code>5</code>.</li>\n",
    "<li>Continuing from \"5\", you move right twice and down three times (through \"6\", \"7\", \"B\", \"D\", \"D\"), ending at <code>D</code>.</li>\n",
    "<li>Then, from \"D\", you move five more times (through \"D\", \"B\", \"C\", \"C\", \"B\"), ending at <code>B</code>.</li>\n",
    "<li>Finally, after five more moves, you end at <code>3</code>.</li>\n",
    "</ul>\n",
    "<p>So, given the actual keypad layout, the code would be <code>5DB3</code>.</p>\n",
    "<p>Using the same instructions in your puzzle input, what is the correct <em>bathroom code</em>?</p>\n",
    "</article>\n",
    "\n",
    "</main>\n"
   ]
  },
  {
   "cell_type": "code",
   "execution_count": 9,
   "metadata": {},
   "outputs": [
    {
     "name": "stdout",
     "output_type": "stream",
     "text": [
      "5DB3\n"
     ]
    }
   ],
   "source": [
    "def decode_II(instructions: str) -> int:\n",
    "    # fmt: off\n",
    "    keypad = [\n",
    "        [  0,   0, 0x1,   0,   0],  #     1\n",
    "        [  0, 0x2, 0x3, 0x4,   0],  #   2 3 4\n",
    "        [0x5, 0x6, 0x7, 0x8, 0x9],  # 5 6 7 8 9\n",
    "        [  0, 0xa, 0xb, 0xc,   0],  #   A B C\n",
    "        [  0,   0, 0xd,   0,   0],  #     D\n",
    "    ]\n",
    "    # fmt: on\n",
    "    code = 0\n",
    "    row, col = 2, 0\n",
    "    for line in instructions.strip().splitlines():\n",
    "        for inst in line.strip():\n",
    "            if (\n",
    "                inst == \"U\" and row - 1 > -1 and keypad[row - 1][col] != 0\n",
    "            ):  # U moves up,\n",
    "                row -= 1\n",
    "            elif (\n",
    "                inst == \"D\" and row + 1 < 5 and keypad[row + 1][col] != 0\n",
    "            ):  # D moves down,\n",
    "                row += 1\n",
    "            elif (\n",
    "                inst == \"L\" and col - 1 > -1 and keypad[row][col - 1] != 0\n",
    "            ):  # L moves left,\n",
    "                col -= 1\n",
    "            elif (\n",
    "                inst == \"R\" and col + 1 < 5 and keypad[row][col + 1] != 0\n",
    "            ):  # and R moves right\n",
    "                col += 1\n",
    "        code = 16 * code + keypad[row][col]\n",
    "    return code\n",
    "\n",
    "\n",
    "assert decode_II(instructions) == 0x5DB3\n",
    "\n",
    "print(f\"{decode_II(instructions):02x}\".upper())"
   ]
  },
  {
   "cell_type": "code",
   "execution_count": 10,
   "metadata": {},
   "outputs": [
    {
     "name": "stdout",
     "output_type": "stream",
     "text": [
      "B3C27\n"
     ]
    }
   ],
   "source": [
    "with open(\"../input/day2.txt\") as f:\n",
    "    print(f\"{decode_II(f.read()):02x}\".upper())"
   ]
  },
  {
   "cell_type": "markdown",
   "metadata": {},
   "source": [
    "<link href=\"style.css\" rel=\"stylesheet\"></link>\n",
    "<main>\n",
    "\n",
    "<p>Your puzzle answer was <code>B3C27</code>.</p><p class=\"day-success\">Both parts of this puzzle are complete! They provide two gold stars: **</p>\n",
    "<p>At this point, you should <a href=\"/2016\">return to your Advent calendar</a> and try another puzzle.</p>\n",
    "<p>If you still want to see it, you can <a href=\"2/input\" target=\"_blank\">get your puzzle input</a>.</p>\n",
    "<p>You can also <span class=\"share\">[Share<span class=\"share-content\">on\n",
    "  <a href=\"https://twitter.com/intent/tweet?text=I%27ve+completed+%22Bathroom+Security%22+%2D+Day+2+%2D+Advent+of+Code+2016&amp;url=https%3A%2F%2Fadventofcode%2Ecom%2F2016%2Fday%2F2&amp;related=ericwastl&amp;hashtags=AdventOfCode\" target=\"_blank\">Twitter</a>\n",
    "  <a href=\"javascript:void(0);\" onclick=\"var ms; try{ms=localStorage.getItem('mastodon.server')}finally{} if(typeof ms!=='string')ms=''; ms=prompt('Mastodon Server?',ms); if(typeof ms==='string' &amp;&amp; ms.length){this.href='https://'+ms+'/share?text=I%27ve+completed+%22Bathroom+Security%22+%2D+Day+2+%2D+Advent+of+Code+2016+%23AdventOfCode+https%3A%2F%2Fadventofcode%2Ecom%2F2016%2Fday%2F2';try{localStorage.setItem('mastodon.server',ms);}finally{}}else{return false;}\" target=\"_blank\">Mastodon</a></span>]</span> this puzzle.</p>\n",
    "</main>\n"
   ]
  },
  {
   "cell_type": "code",
   "execution_count": null,
   "metadata": {},
   "outputs": [],
   "source": []
  }
 ],
 "metadata": {
  "kernelspec": {
   "display_name": ".venv",
   "language": "python",
   "name": "python3"
  },
  "language_info": {
   "codemirror_mode": {
    "name": "ipython",
    "version": 3
   },
   "file_extension": ".py",
   "mimetype": "text/x-python",
   "name": "python",
   "nbconvert_exporter": "python",
   "pygments_lexer": "ipython3",
   "version": "3.12.0"
  }
 },
 "nbformat": 4,
 "nbformat_minor": 2
}
